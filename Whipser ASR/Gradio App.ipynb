{
 "cells": [
  {
   "cell_type": "code",
   "execution_count": null,
   "metadata": {},
   "outputs": [],
   "source": [
    "import whisper\n",
    "from pytube import YouTube\n",
    "import gradio as gr\n",
    "import os"
   ]
  },
  {
   "cell_type": "code",
   "execution_count": null,
   "metadata": {},
   "outputs": [],
   "source": [
    "tiny_model = whisper.load_model('tiny')\n",
    "base_model = whisper.load_model('base')\n",
    "small_model = whisper.load_model('small')\n",
    "medium_model = whisper.load_model('medium')"
   ]
  },
  {
   "cell_type": "code",
   "execution_count": null,
   "metadata": {},
   "outputs": [],
   "source": [
    "def yt_audio(video_url):\n",
    "\tyt = YouTube(str(video_url))\n",
    "\tvideo = yt.streams.filter(only_audio=True).first()\n",
    "\tdestination = 'Files/'\n",
    "\taudio_file = video.download(output_path=destination)\n",
    "\tbase, ext = os.path.splitext(audio_file)\n",
    "\tfile_path = base + '.mp3'\n",
    "\tos.rename(audio_file, file_path)\n",
    "\t\n",
    "\treturn str(file_path)"
   ]
  },
  {
   "cell_type": "code",
   "execution_count": null,
   "metadata": {},
   "outputs": [],
   "source": [
    "def trascribe(model_type ,video_url):\n",
    "\n",
    "    if model_type == 'tiny':\n",
    "        model = tiny_model\n",
    "    elif model_type == 'base':\n",
    "        model = base_model\n",
    "    elif model_type == 'small':\n",
    "        model = small_model\n",
    "    elif model_type == 'medium':\n",
    "        model = medium_model\n",
    "    \n",
    "    \n",
    "    file_path = yt_audio(video_url)\n",
    "\n",
    "    trascription_dict = model.transcribe(file_path)\n",
    "    text = trascription_dict['text']\n",
    "    language = trascription_dict['language']\n",
    "\n",
    "    return text, language"
   ]
  },
  {
   "cell_type": "code",
   "execution_count": null,
   "metadata": {},
   "outputs": [],
   "source": [
    "demo_app = gr.Interface(\n",
    "    title = \"Youtube video trascription\",\n",
    "    description = \"Youtube video trascription using OpenAI's Whisper models \\n\\n 1. Select Model, \\n 2. Pick Youtube video, copy video URL, \\n 3. Paste URL in the Youtube Video URL input box and click 'Submit' button\",\n",
    "    fn = trascribe,\n",
    "    inputs = [  gr.Dropdown(choices=['Tiny', 'Base' ,'Small', 'Medium'], label=\"Model\", default='Base', type = 'str'),\n",
    "                gr.Textbox(lines=1, placeholder=\"Youtube Video URL\", label=\"Video URL\"),],\n",
    "\n",
    "    outputs = [ gr.Textbox(placeholder=\"Transcritpion.\", interactive=True, label=\"Transcription\"),\n",
    "                gr.Text(placeholder=\"Detected Language.\", interactive=False, label=\"Language\"),],\n",
    "    \n",
    "    allow_flagging = \"never\",\n",
    ")\n",
    "\n",
    "demo_app.launch(share=False, inbrowser=True)"
   ]
  }
 ],
 "metadata": {
  "kernelspec": {
   "display_name": "Python 3.9.12 ('nlp')",
   "language": "python",
   "name": "python3"
  },
  "language_info": {
   "name": "python",
   "version": "3.9.12"
  },
  "orig_nbformat": 4,
  "vscode": {
   "interpreter": {
    "hash": "4524e0aa81b3ae16e25dcf9b33e91112c133dfc9ef43cc517d5da5b8fe0f3eee"
   }
  }
 },
 "nbformat": 4,
 "nbformat_minor": 2
}
