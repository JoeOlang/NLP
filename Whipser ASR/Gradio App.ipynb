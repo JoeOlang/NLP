{
 "cells": [
  {
   "cell_type": "code",
   "execution_count": 1,
   "metadata": {},
   "outputs": [],
   "source": [
    "import whisper\n",
    "from pytube import YouTube\n",
    "import gradio as gr\n",
    "import os"
   ]
  },
  {
   "cell_type": "code",
   "execution_count": 2,
   "metadata": {},
   "outputs": [
    {
     "name": "stderr",
     "output_type": "stream",
     "text": [
      "100%|█████████████████████████████████████| 72.1M/72.1M [00:31<00:00, 2.40MiB/s]\n",
      "100%|███████████████████████████████████████| 139M/139M [01:31<00:00, 1.58MiB/s]\n",
      "100%|█████████████████████████████████████| 1.42G/1.42G [11:47<00:00, 2.16MiB/s]\n"
     ]
    }
   ],
   "source": [
    "tiny_model = whisper.load_model('tiny')\n",
    "base_model = whisper.load_model('base')\n",
    "small_model = whisper.load_model('small')\n",
    "medium_model = whisper.load_model('medium')"
   ]
  },
  {
   "cell_type": "code",
   "execution_count": 3,
   "metadata": {},
   "outputs": [],
   "source": [
    "def yt_audio(video_url):\n",
    "\tyt = YouTube(str(video_url))\n",
    "\tvideo = yt.streams.filter(only_audio=True).first()\n",
    "\tdestination = 'Files/'\n",
    "\taudio_file = video.download(output_path=destination)\n",
    "\tbase, ext = os.path.splitext(audio_file)\n",
    "\tfile_path = base + '.mp3'\n",
    "\tos.rename(audio_file, file_path)\n",
    "\t\n",
    "\treturn str(file_path)"
   ]
  },
  {
   "cell_type": "code",
   "execution_count": 6,
   "metadata": {},
   "outputs": [],
   "source": [
    "def trascribe(model_type ,video_url):\n",
    "\n",
    "    if model_type == 'Tiny':\n",
    "        model = tiny_model\n",
    "    elif model_type == 'Base':\n",
    "        model = base_model\n",
    "    elif model_type == 'Small':\n",
    "        model = small_model\n",
    "    elif model_type == 'Medium':\n",
    "        model = medium_model\n",
    "    \n",
    "    \n",
    "    file_path = yt_audio(video_url)\n",
    "\n",
    "    trascription_dict = model.transcribe(file_path)\n",
    "    text = trascription_dict['text']\n",
    "    language = trascription_dict['language']\n",
    "\n",
    "    return text, language"
   ]
  },
  {
   "cell_type": "code",
   "execution_count": null,
   "metadata": {},
   "outputs": [],
   "source": [
    "examples = [['Princess Elizabeth\\'s Speech 1947' (en)'['https://www.youtube.com/watch?v=6yDDqO4dH3c&t=23s']],\n",
    "            [['BBC News (en)'['https://www.youtube.com/watch?v=9V3L8R5DlNg']]"
   ]
  },
  {
   "cell_type": "code",
   "execution_count": 21,
   "metadata": {},
   "outputs": [],
   "source": [
    "speech_samples = [  [\"Princess Elizabeth\\'s Speech 1947' (en)\", ['https://www.youtube.com/watch?v=6yDDqO4dH3c&t=23s']],\n",
    "                    [\"Princess Elizgvhbabeth\\'s Speech 1947' (en)\", ['https://www.youtube.com/watch?v=6yDDqO4dH3c&t=23s']] ]"
   ]
  },
  {
   "cell_type": "code",
   "execution_count": 27,
   "metadata": {},
   "outputs": [
    {
     "name": "stdout",
     "output_type": "stream",
     "text": [
      "['https://www.youtube.com/watch?v=6yDDqO4dH3c&t=23s']\n"
     ]
    }
   ],
   "source": [
    "print(speech_samples[1][1])"
   ]
  },
  {
   "cell_type": "code",
   "execution_count": 29,
   "metadata": {},
   "outputs": [
    {
     "name": "stderr",
     "output_type": "stream",
     "text": [
      "/Users/olang/opt/miniconda3/envs/nlp/lib/python3.9/site-packages/gradio/deprecation.py:43: UserWarning: You have unused kwarg parameters in Dropdown, please remove them: {'default': 'Base'}\n",
      "  warnings.warn(\n"
     ]
    },
    {
     "name": "stdout",
     "output_type": "stream",
     "text": [
      "Running on local URL:  http://127.0.0.1:7863\n",
      "\n",
      "To create a public link, set `share=True` in `launch()`.\n"
     ]
    },
    {
     "data": {
      "text/html": [
       "<div><iframe src=\"http://127.0.0.1:7863/\" width=\"900\" height=\"500\" allow=\"autoplay; camera; microphone; clipboard-read; clipboard-write;\" frameborder=\"0\" allowfullscreen></iframe></div>"
      ],
      "text/plain": [
       "<IPython.core.display.HTML object>"
      ]
     },
     "metadata": {},
     "output_type": "display_data"
    },
    {
     "data": {
      "text/plain": [
       "(<gradio.routes.App at 0x7f933828dc70>, 'http://127.0.0.1:7863/', None)"
      ]
     },
     "execution_count": 29,
     "metadata": {},
     "output_type": "execute_result"
    }
   ],
   "source": [
    "demo_app = gr.Interface(\n",
    "    title = \"Youtube video trascription\",\n",
    "    description = \"Youtube video trascription using OpenAI's Whisper models \\n\\n 1. Select Model, \\n 2. Pick Youtube video, copy video URL, \\n 3. Paste URL in the Youtube Video URL input box and click 'Submit' button\",\n",
    "    fn = trascribe,\n",
    "    inputs = [  gr.Dropdown(choices=['Tiny', 'Base' ,'Small', 'Medium'], label=\"Model\", default='Base'),\n",
    "                gr.Textbox(lines=1, placeholder=\"Youtube Video URL\", label=\"Video URL\"),],\n",
    "\n",
    "    outputs = [ gr.Textbox(placeholder=\"Transcritpion.\", interactive=True, label=\"Transcription\"),\n",
    "                gr.Text(placeholder=\"Detected Language.\", interactive=False, label=\"Language\"),],\n",
    "\n",
    "    #examples = speech_samples,\n",
    "    \n",
    "    allow_flagging = \"never\",\n",
    ")\n",
    "\n",
    "demo_app.launch(share=False, inbrowser=True)"
   ]
  }
 ],
 "metadata": {
  "kernelspec": {
   "display_name": "Python 3.9.12 ('nlp')",
   "language": "python",
   "name": "python3"
  },
  "language_info": {
   "codemirror_mode": {
    "name": "ipython",
    "version": 3
   },
   "file_extension": ".py",
   "mimetype": "text/x-python",
   "name": "python",
   "nbconvert_exporter": "python",
   "pygments_lexer": "ipython3",
   "version": "3.9.12"
  },
  "orig_nbformat": 4,
  "vscode": {
   "interpreter": {
    "hash": "4524e0aa81b3ae16e25dcf9b33e91112c133dfc9ef43cc517d5da5b8fe0f3eee"
   }
  }
 },
 "nbformat": 4,
 "nbformat_minor": 2
}
