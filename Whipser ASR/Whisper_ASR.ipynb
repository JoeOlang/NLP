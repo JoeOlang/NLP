{
  "cells": [
    {
      "cell_type": "markdown",
      "metadata": {
        "colab_type": "text",
        "id": "view-in-github"
      },
      "source": [
        "<a href=\"https://colab.research.google.com/github/e-olang/NLP/blob/main/OpenAi/Whisper_ASR.ipynb\" target=\"_parent\"><img src=\"https://colab.research.google.com/assets/colab-badge.svg\" alt=\"Open In Colab\"/></a>"
      ]
    },
    {
      "cell_type": "code",
      "execution_count": 1,
      "metadata": {
        "colab": {
          "base_uri": "https://localhost:8080/"
        },
        "id": "kE3SULwK4nha",
        "outputId": "8e68f9dc-0510-4280-fc1e-76562870433f"
      },
      "outputs": [
        {
          "name": "stdout",
          "output_type": "stream",
          "text": [
            "\u001b[K     |████████████████████████████████| 56 kB 4.4 MB/s \n",
            "\u001b[K     |████████████████████████████████| 4.9 MB 20.0 MB/s \n",
            "\u001b[K     |████████████████████████████████| 120 kB 68.8 MB/s \n",
            "\u001b[K     |████████████████████████████████| 6.6 MB 62.6 MB/s \n",
            "\u001b[?25h  Building wheel for whisper (setup.py) ... \u001b[?25l\u001b[?25hdone\n",
            "\u001b[K     |████████████████████████████████| 5.3 MB 30.7 MB/s \n",
            "\u001b[K     |████████████████████████████████| 84 kB 3.9 MB/s \n",
            "\u001b[K     |████████████████████████████████| 54 kB 1.1 MB/s \n",
            "\u001b[K     |████████████████████████████████| 55 kB 3.3 MB/s \n",
            "\u001b[K     |████████████████████████████████| 57 kB 5.6 MB/s \n",
            "\u001b[K     |████████████████████████████████| 212 kB 73.1 MB/s \n",
            "\u001b[K     |████████████████████████████████| 270 kB 55.3 MB/s \n",
            "\u001b[K     |████████████████████████████████| 2.3 MB 47.2 MB/s \n",
            "\u001b[K     |████████████████████████████████| 84 kB 3.5 MB/s \n",
            "\u001b[K     |████████████████████████████████| 112 kB 74.8 MB/s \n",
            "\u001b[K     |████████████████████████████████| 63 kB 2.2 MB/s \n",
            "\u001b[K     |████████████████████████████████| 80 kB 8.9 MB/s \n",
            "\u001b[K     |████████████████████████████████| 68 kB 7.1 MB/s \n",
            "\u001b[K     |████████████████████████████████| 46 kB 4.3 MB/s \n",
            "\u001b[K     |████████████████████████████████| 856 kB 65.3 MB/s \n",
            "\u001b[K     |████████████████████████████████| 4.0 MB 62.4 MB/s \n",
            "\u001b[K     |████████████████████████████████| 594 kB 71.0 MB/s \n",
            "\u001b[?25h  Building wheel for ffmpy (setup.py) ... \u001b[?25l\u001b[?25hdone\n",
            "  Building wheel for python-multipart (setup.py) ... \u001b[?25l\u001b[?25hdone\n"
          ]
        }
      ],
      "source": [
        "# installs\n",
        "\n",
        "!pip3 install pytube -q         # any other alt, wiill work, chosse what works best for you\n",
        "!pip install git+https://github.com/openai/whisper.git -q\n",
        "!pip install gradio -q"
      ]
    },
    {
      "cell_type": "code",
      "execution_count": 2,
      "metadata": {
        "id": "VWWbATw3xrxq"
      },
      "outputs": [],
      "source": [
        "import whisper\n",
        "from pytube import YouTube\n",
        "import os\n",
        "import gradio as gr"
      ]
    },
    {
      "cell_type": "code",
      "execution_count": 3,
      "metadata": {
        "id": "REOgRpFr4mjf"
      },
      "outputs": [],
      "source": [
        "def yt_audio(link):\n",
        "\tyt = YouTube(str(link))\n",
        "\tvideo = yt.streams.filter(only_audio=True).first()\n",
        "\tdestination = '.'\n",
        "\taudio_file = video.download(output_path=destination)\n",
        "\tbase, ext = os.path.splitext(audio_file)\n",
        "\tnew_file = base + '.mp3'\n",
        "\tos.rename(audio_file, new_file)\n",
        "\t\n",
        "\treturn str(new_file)"
      ]
    },
    {
      "cell_type": "code",
      "execution_count": 4,
      "metadata": {
        "colab": {
          "base_uri": "https://localhost:8080/"
        },
        "id": "tBxP5fH29Dm1",
        "outputId": "01680c34-5f4f-428d-b373-8c8ab7bdf859"
      },
      "outputs": [
        {
          "name": "stderr",
          "output_type": "stream",
          "text": [
            "100%|███████████████████████████████████████| 461M/461M [00:07<00:00, 66.8MiB/s]\n"
          ]
        }
      ],
      "source": [
        "#model = whisper.load_model('base')\n",
        "model = whisper.load_model('small')"
      ]
    },
    {
      "cell_type": "code",
      "execution_count": 13,
      "metadata": {
        "id": "jDIAwrq8Wfvs"
      },
      "outputs": [],
      "source": [
        "sample_file = yt_audio('https://www.youtube.com/watch?v=9V3L8R5DlNg')"
      ]
    },
    {
      "cell_type": "code",
      "execution_count": 14,
      "metadata": {
        "colab": {
          "base_uri": "https://localhost:8080/",
          "height": 35
        },
        "id": "YDOGz35xWsoe",
        "outputId": "deab9f86-2781-4901-a8f5-fee779f5c738"
      },
      "outputs": [
        {
          "data": {
            "application/vnd.google.colaboratory.intrinsic+json": {
              "type": "string"
            },
            "text/plain": [
              "'/content/./Twitter How many bot accounts are there - BBC News.mp3'"
            ]
          },
          "execution_count": 14,
          "metadata": {},
          "output_type": "execute_result"
        }
      ],
      "source": [
        "sample_file"
      ]
    },
    {
      "cell_type": "code",
      "execution_count": 15,
      "metadata": {
        "id": "HlLDMeoQW2AL"
      },
      "outputs": [],
      "source": [
        "sample_transcription = model.transcribe(sample_file)"
      ]
    },
    {
      "cell_type": "code",
      "execution_count": 22,
      "metadata": {
        "colab": {
          "base_uri": "https://localhost:8080/"
        },
        "id": "6cJfU02nR-52",
        "outputId": "0aa5a88d-20e2-4f92-8eb3-62eef9ff956e"
      },
      "outputs": [
        {
          "name": "stdout",
          "output_type": "stream",
          "text": [
            "en\n"
          ]
        }
      ],
      "source": [
        "print(sample_transcription[\"language\"])"
      ]
    },
    {
      "cell_type": "code",
      "execution_count": 19,
      "metadata": {
        "colab": {
          "base_uri": "https://localhost:8080/"
        },
        "id": "T6SxiBgBTdXx",
        "outputId": "f2cf138e-6e29-4cd5-fd03-99676c7e7981"
      },
      "outputs": [
        {
          "data": {
            "text/plain": [
              "dict"
            ]
          },
          "execution_count": 19,
          "metadata": {},
          "output_type": "execute_result"
        }
      ],
      "source": [
        "type(sample_transcription)"
      ]
    },
    {
      "cell_type": "code",
      "execution_count": 21,
      "metadata": {
        "colab": {
          "base_uri": "https://localhost:8080/"
        },
        "id": "OXhzlTX5UQuj",
        "outputId": "77bdfbdb-c63d-40e9-d098-688d725f6ddc"
      },
      "outputs": [
        {
          "name": "stdout",
          "output_type": "stream",
          "text": [
            "dict_keys(['text', 'segments', 'language'])\n"
          ]
        }
      ],
      "source": [
        "print(sample_transcription.keys())"
      ]
    },
    {
      "cell_type": "code",
      "execution_count": 20,
      "metadata": {
        "id": "6I3GIsfITh5t"
      },
      "outputs": [],
      "source": [
        "import json\n",
        "\n",
        "with open(\"sample.json\", \"w\") as outfile:\n",
        "    json.dump(sample_transcription, outfile)"
      ]
    },
    {
      "cell_type": "code",
      "execution_count": 16,
      "metadata": {
        "id": "69ZtCcQIXpcy"
      },
      "outputs": [],
      "source": [
        "from whisper.utils import write_vtt\n",
        "\n",
        "with open('sub.txt', \"w\") as txt:\n",
        "    write_vtt(sample_transcription[\"segments\"], file = txt)"
      ]
    },
    {
      "cell_type": "code",
      "execution_count": 17,
      "metadata": {
        "colab": {
          "base_uri": "https://localhost:8080/"
        },
        "id": "lBanj2WSZZ0I",
        "outputId": "fe46f8c3-62b4-474b-e151-fa2fe8d298c2"
      },
      "outputs": [
        {
          "name": "stdout",
          "output_type": "stream",
          "text": [
            "WEBVTT\n",
            "\n",
            "\n",
            "\n",
            "00:00.000 --> 00:06.800\n",
            "\n",
            " Twitter says that it has nearly 240 million monetizable daily active users.\n",
            "\n",
            "\n",
            "\n",
            "00:06.800 --> 00:09.640\n",
            "\n",
            " Millions of those accounts though aren't real.\n",
            "\n",
            "\n",
            "\n",
            "00:09.640 --> 00:12.160\n",
            "\n",
            " They're bots, spam and fake accounts.\n",
            "\n",
            "\n",
            "\n",
            "00:12.160 --> 00:15.400\n",
            "\n",
            " And that's something both Twitter and Elon Musk accept.\n",
            "\n",
            "\n",
            "\n",
            "00:15.400 --> 00:20.280\n",
            "\n",
            " But what they don't agree on is how many accounts are fake, or even what a bot is.\n",
            "\n",
            "\n",
            "\n",
            "00:20.280 --> 00:27.520\n",
            "\n",
            " Depending on how you define bot, you could have anywhere from less than 1% to 20%.\n",
            "\n",
            "\n",
            "\n",
            "00:27.520 --> 00:35.520\n",
            "\n",
            " It's a debate that's turned into a $44 billion question as Elon Musk attempts to back out of a deal to buy Twitter.\n",
            "\n",
            "\n",
            "\n",
            "00:35.520 --> 00:39.320\n",
            "\n",
            " So how many bots are there on Twitter?\n",
            "\n",
            "\n",
            "\n",
            "00:39.320 --> 00:44.400\n",
            "\n",
            " First of all, Twitter claims that less than 5% of all of its daily active users are bots.\n",
            "\n",
            "\n",
            "\n",
            "00:44.400 --> 00:47.200\n",
            "\n",
            " Elon Musk though says that figure is nonsense.\n",
            "\n",
            "\n",
            "\n",
            "00:47.200 --> 00:48.440\n",
            "\n",
            " What do you think it is?\n",
            "\n",
            "\n",
            "\n",
            "00:48.440 --> 00:53.440\n",
            "\n",
            " What's the, I mean, it's not 5%, what is it?\n",
            "\n",
            "\n",
            "\n",
            "00:53.440 --> 00:58.160\n",
            "\n",
            " I think it's some number that is probably at least four or five times that number.\n",
            "\n",
            "\n",
            "\n",
            "00:58.160 --> 01:02.240\n",
            "\n",
            " This is why Elon Musk, at least he claims, is backing out of the deal.\n",
            "\n",
            "\n",
            "\n",
            "01:02.240 --> 01:05.760\n",
            "\n",
            " He's even accused Twitter of fraud.\n",
            "\n",
            "\n",
            "\n",
            "01:05.760 --> 01:09.000\n",
            "\n",
            " The center of the disagreement comes down to a definition.\n",
            "\n",
            "\n",
            "\n",
            "01:09.000 --> 01:10.880\n",
            "\n",
            " What actually is a bot?\n",
            "\n",
            "\n",
            "\n",
            "01:10.880 --> 01:14.720\n",
            "\n",
            " Michael Carney is founder of Twitter Bot or Not.\n",
            "\n",
            "\n",
            "\n",
            "01:14.720 --> 01:19.840\n",
            "\n",
            " You could have an account that just tweets out gibberish based on a computer algorithm.\n",
            "\n",
            "\n",
            "\n",
            "01:19.840 --> 01:29.440\n",
            "\n",
            " But then one time, if that account is tweeted from someone's cell phone and a real person making their honest comment on the world,\n",
            "\n",
            "\n",
            "\n",
            "01:29.440 --> 01:31.640\n",
            "\n",
            " is that a bot account or not?\n",
            "\n",
            "\n",
            "\n",
            "01:31.640 --> 01:35.120\n",
            "\n",
            " So it's not a static thing that exists.\n",
            "\n",
            "\n",
            "\n",
            "01:35.120 --> 01:41.520\n",
            "\n",
            " Without an agreed on definition, Elon Musk had a go at trying to estimate the number anyway.\n",
            "\n",
            "\n",
            "\n",
            "01:41.520 --> 01:45.440\n",
            "\n",
            " In his countersuit, his team claimed to use a tool called Botometer\n",
            "\n",
            "\n",
            "\n",
            "01:45.440 --> 01:50.560\n",
            "\n",
            " and concluded that 33% of all Twitter accounts were bots.\n",
            "\n",
            "\n",
            "\n",
            "01:50.560 --> 01:55.520\n",
            "\n",
            " The problem is Botometer doesn't actually say whether an account is a bot or not,\n",
            "\n",
            "\n",
            "\n",
            "01:55.520 --> 01:57.440\n",
            "\n",
            " just a score out of five.\n",
            "\n",
            "\n",
            "\n",
            "01:57.440 --> 02:01.360\n",
            "\n",
            " Five being likely to be a bot, zero unlikely.\n",
            "\n",
            "\n",
            "\n",
            "02:01.360 --> 02:04.560\n",
            "\n",
            " So where did Elon Musk draw that line?\n",
            "\n",
            "\n",
            "\n",
            "02:04.560 --> 02:10.960\n",
            "\n",
            " So how to choose this threshold is key to the answer of how many bots are there on the platform.\n",
            "\n",
            "\n",
            "\n",
            "02:10.960 --> 02:14.560\n",
            "\n",
            " It's not clear what Elon Musk's team did, right?\n",
            "\n",
            "\n",
            "\n",
            "02:14.560 --> 02:17.040\n",
            "\n",
            " So to me, they can choose any special they want.\n",
            "\n",
            "\n",
            "\n",
            "02:17.040 --> 02:21.360\n",
            "\n",
            " Twitter's bot claims, though, are also, at the very least, questionable.\n",
            "\n",
            "\n",
            "\n",
            "02:21.360 --> 02:25.360\n",
            "\n",
            " This is Clayton Davis, one of the researchers who created Botometer.\n",
            "\n",
            "\n",
            "\n",
            "02:25.360 --> 02:26.960\n",
            "\n",
            " Twitter has slightly conflicting priorities.\n",
            "\n",
            "\n",
            "\n",
            "02:26.960 --> 02:33.920\n",
            "\n",
            " On one hand, they care about credibility, but they also care about having high user numbers, right?\n",
            "\n",
            "\n",
            "\n",
            "02:33.920 --> 02:39.040\n",
            "\n",
            " That charge was backed up by Twitter whistleblower and former head of security, Peter Zatko,\n",
            "\n",
            "\n",
            "\n",
            "02:39.040 --> 02:44.400\n",
            "\n",
            " who claimed that Twitter execs are financially incentivized to count bots as people.\n",
            "\n",
            "\n",
            "\n",
            "02:44.400 --> 02:49.360\n",
            "\n",
            " This all comes down to how Twitter actually counts its bots,\n",
            "\n",
            "\n",
            "\n",
            "02:49.360 --> 02:51.760\n",
            "\n",
            " and it's way less techy than you might imagine.\n",
            "\n",
            "\n",
            "\n",
            "02:52.640 --> 02:56.560\n",
            "\n",
            " The chief executive, Parig Agrawal, described in a tweet how they do this.\n",
            "\n",
            "\n",
            "\n",
            "02:57.280 --> 03:00.880\n",
            "\n",
            " Our estimate is based on multiple human reviews, he said.\n",
            "\n",
            "\n",
            "\n",
            "03:00.880 --> 03:04.320\n",
            "\n",
            " Elon Musk says that is totally unscientific.\n",
            "\n",
            "\n",
            "\n",
            "03:04.960 --> 03:09.520\n",
            "\n",
            " And yet the creator and maintainer of Botometer, the tool that Elon Musk is using,\n",
            "\n",
            "\n",
            "\n",
            "03:09.520 --> 03:12.560\n",
            "\n",
            " thinks that Twitter's methodology actually isn't that bad.\n",
            "\n",
            "\n",
            "\n",
            "03:12.560 --> 03:16.400\n",
            "\n",
            " If I were the people in Twitter, I would probably do something similar, right?\n",
            "\n",
            "\n",
            "\n",
            "03:17.200 --> 03:22.240\n",
            "\n",
            " It's just still, to me, how they define those things, it's not clear.\n",
            "\n",
            "\n",
            "\n",
            "03:22.240 --> 03:25.280\n",
            "\n",
            " If they really want to do this, they can sit together so we can say,\n",
            "\n",
            "\n",
            "\n",
            "03:25.280 --> 03:29.600\n",
            "\n",
            " oh, can we agree on this, this account is bot, this account is human.\n",
            "\n",
            "\n",
            "\n",
            "03:29.600 --> 03:32.480\n",
            "\n",
            " But Twitter and Elon Musk aren't sitting down together.\n",
            "\n",
            "\n",
            "\n",
            "03:32.480 --> 03:35.840\n",
            "\n",
            " They simply cannot agree how many bots Twitter has.\n",
            "\n",
            "\n",
            "\n",
            "03:35.840 --> 03:43.120\n",
            "\n",
            " And that's the fundamental problem, perhaps no one can.\n",
            "\n",
            "\n",
            "\n"
          ]
        }
      ],
      "source": [
        "with open('sub.txt', \"r\") as txt:\n",
        "    print('\\n'.join(txt.readlines()))"
      ]
    },
    {
      "cell_type": "code",
      "execution_count": null,
      "metadata": {
        "id": "JNjuYl0LYCfY"
      },
      "outputs": [],
      "source": []
    },
    {
      "cell_type": "markdown",
      "metadata": {
        "id": "nho_i4MKYBcQ"
      },
      "source": [
        "------"
      ]
    },
    {
      "cell_type": "code",
      "execution_count": null,
      "metadata": {
        "id": "-n9IFiXO-Rc0"
      },
      "outputs": [],
      "source": [
        "def file_transcribe(audio):\n",
        "    audio = whisper.load_audio(audio)\n",
        "    audio = whisper.pad_or_trim(audio)\n",
        "\n",
        "    mel = whisper.log_mel_spectrogram(audio).to(model.device)\n",
        "\n",
        "    _, probs = model.detect_language(mel)\n",
        "    #print(f\"Detected Language:  {max(probs, key=probs.get)}\")\n",
        "    options = whisper.DecodingOptions()\n",
        "    result = whisper.decode(model, mel, options)\n",
        "    #print(result.text)\n",
        "    return result.text"
      ]
    },
    {
      "cell_type": "code",
      "execution_count": null,
      "metadata": {
        "id": "DS8Zwi_GYllH"
      },
      "outputs": [],
      "source": [
        "def link_transcribe(link):\n",
        "    audio_path = yt_audio(link)\n",
        "    audio = whisper.load_audio(audio_path)\n",
        "    audio = whisper.pad_or_trim(audio)\n",
        "\n",
        "    mel = whisper.log_mel_spectrogram(audio).to(model.device)\n",
        "\n",
        "    _, probs = model.detect_language(mel)\n",
        "    #print(f\"Detected Language:  {max(probs, key=probs.get)}\")\n",
        "    options = whisper.DecodingOptions()\n",
        "    result = whisper.decode(model, mel, options)\n",
        "    #print(result.text)\n",
        "    return result.text"
      ]
    },
    {
      "cell_type": "code",
      "execution_count": null,
      "metadata": {
        "colab": {
          "base_uri": "https://localhost:8080/",
          "height": 35
        },
        "id": "jCdtDKJABVpo",
        "outputId": "de7217d7-a1de-4fac-9db4-85e4826b1d31"
      },
      "outputs": [
        {
          "data": {
            "application/vnd.google.colaboratory.intrinsic+json": {
              "type": "string"
            },
            "text/plain": [
              "\"I'm good, I'm feeling alright baby, I'ma have the best fucking night of my life\""
            ]
          },
          "execution_count": 13,
          "metadata": {},
          "output_type": "execute_result"
        }
      ],
      "source": [
        "link_transcribe(\"https://youtu.be/H38HTWLwgDs\")"
      ]
    },
    {
      "cell_type": "code",
      "execution_count": null,
      "metadata": {
        "id": "o0G7F93pT22o"
      },
      "outputs": [],
      "source": [
        "gr.Interface(\n",
        "    title = 'OpenAi Whisper',\n",
        "    fn = link_transcribe,\n",
        "    inputs = ['textbox'],\n",
        "    outputs = ['textbox'],\n",
        "    live = True).launch()\n",
        "\n",
        "\n",
        "\n",
        "\"\"\"\n",
        "change input to: '[\n",
        "        gr.inputs.Audio(source=\"microphone\", type = \"filepath\")\n",
        "    ],'\n",
        "to use microphone audio, rem to also change transcription fucntion to 'file_trascribe'\n",
        "\"\"\""
      ]
    }
  ],
  "metadata": {
    "accelerator": "GPU",
    "colab": {
      "authorship_tag": "ABX9TyMih262ycIvTe3IKrZhKzyp",
      "include_colab_link": true,
      "provenance": []
    },
    "kernelspec": {
      "display_name": "Python 3.10.6 64-bit",
      "language": "python",
      "name": "python3"
    },
    "language_info": {
      "name": "python",
      "version": "3.10.6"
    },
    "vscode": {
      "interpreter": {
        "hash": "aee8b7b246df8f9039afb4144a1f6fd8d2ca17a180786b69acc140d282b71a49"
      }
    }
  },
  "nbformat": 4,
  "nbformat_minor": 0
}
