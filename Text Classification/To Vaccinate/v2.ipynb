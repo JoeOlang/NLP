{
  "nbformat": 4,
  "nbformat_minor": 0,
  "metadata": {
    "colab": {
      "name": "Untitled0.ipynb",
      "provenance": [],
      "collapsed_sections": [],
      "mount_file_id": "1lgG4-RkqduLEUAtjNeG23oAIcyItpzCw",
      "authorship_tag": "ABX9TyPY3KdXfRcS5x/sASOgGl7Y",
      "include_colab_link": true
    },
    "kernelspec": {
      "name": "python3",
      "display_name": "Python 3"
    },
    "language_info": {
      "name": "python"
    }
  },
  "cells": [
    {
      "cell_type": "markdown",
      "metadata": {
        "id": "view-in-github",
        "colab_type": "text"
      },
      "source": [
        "<a href=\"https://colab.research.google.com/github/JoeOlang/NLP/blob/main/Text%20Classification/To%20Vaccinate/v2.ipynb\" target=\"_parent\"><img src=\"https://colab.research.google.com/assets/colab-badge.svg\" alt=\"Open In Colab\"/></a>"
      ]
    },
    {
      "cell_type": "code",
      "metadata": {
        "id": "2RglK-AEn88F"
      },
      "source": [
        ""
      ],
      "execution_count": null,
      "outputs": []
    },
    {
      "cell_type": "code",
      "metadata": {
        "id": "TuOxRPT0g3Wv"
      },
      "source": [
        "import pandas as pd\n",
        "import numpy as np\n",
        "import nltk\n",
        "import spacy\n",
        "\n",
        "import warnings\n",
        "warnings.filterwarnings('ignore')"
      ],
      "execution_count": 1,
      "outputs": []
    },
    {
      "cell_type": "code",
      "metadata": {
        "id": "0XEdObSChxoN"
      },
      "source": [
        "train = pd.read_csv(\"/content/drive/MyDrive/Colab Notebooks/Zindi/To Vaccinate/Train.csv\").dropna()\n",
        "test = pd.read_csv(\"/content/drive/MyDrive/Colab Notebooks/Zindi/To Vaccinate/Test.csv\").dropna()\n",
        "\n",
        "\n",
        "# Creating the input for the pipeline\n",
        "X_train = train['safe_text'].tolist()\n",
        "Y_train = train['label'].tolist()\n",
        "\n",
        "X_test = test['safe_text'].tolist()\n"
      ],
      "execution_count": 7,
      "outputs": []
    },
    {
      "cell_type": "code",
      "metadata": {
        "colab": {
          "base_uri": "https://localhost:8080/"
        },
        "id": "msDK5Ewf612g",
        "outputId": "a3888100-3a4e-4236-8d18-b5fa1ce2dbc5"
      },
      "source": [
        "train.shape"
      ],
      "execution_count": 12,
      "outputs": [
        {
          "output_type": "execute_result",
          "data": {
            "text/plain": [
              "(9999, 4)"
            ]
          },
          "metadata": {
            "tags": []
          },
          "execution_count": 12
        }
      ]
    },
    {
      "cell_type": "code",
      "metadata": {
        "colab": {
          "base_uri": "https://localhost:8080/",
          "height": 137
        },
        "id": "UgVVv0MGLaK_",
        "outputId": "f9fb2c1b-eb7a-4035-acb1-11e82124aa51"
      },
      "source": [
        "train.groupby(['label'], as_index=False).count()"
      ],
      "execution_count": 8,
      "outputs": [
        {
          "output_type": "execute_result",
          "data": {
            "text/html": [
              "<div>\n",
              "<style scoped>\n",
              "    .dataframe tbody tr th:only-of-type {\n",
              "        vertical-align: middle;\n",
              "    }\n",
              "\n",
              "    .dataframe tbody tr th {\n",
              "        vertical-align: top;\n",
              "    }\n",
              "\n",
              "    .dataframe thead th {\n",
              "        text-align: right;\n",
              "    }\n",
              "</style>\n",
              "<table border=\"1\" class=\"dataframe\">\n",
              "  <thead>\n",
              "    <tr style=\"text-align: right;\">\n",
              "      <th></th>\n",
              "      <th>label</th>\n",
              "      <th>tweet_id</th>\n",
              "      <th>safe_text</th>\n",
              "      <th>agreement</th>\n",
              "    </tr>\n",
              "  </thead>\n",
              "  <tbody>\n",
              "    <tr>\n",
              "      <th>0</th>\n",
              "      <td>-1.0</td>\n",
              "      <td>1038</td>\n",
              "      <td>1038</td>\n",
              "      <td>1038</td>\n",
              "    </tr>\n",
              "    <tr>\n",
              "      <th>1</th>\n",
              "      <td>0.0</td>\n",
              "      <td>4908</td>\n",
              "      <td>4908</td>\n",
              "      <td>4908</td>\n",
              "    </tr>\n",
              "    <tr>\n",
              "      <th>2</th>\n",
              "      <td>1.0</td>\n",
              "      <td>4053</td>\n",
              "      <td>4053</td>\n",
              "      <td>4053</td>\n",
              "    </tr>\n",
              "  </tbody>\n",
              "</table>\n",
              "</div>"
            ],
            "text/plain": [
              "   label  tweet_id  safe_text  agreement\n",
              "0   -1.0      1038       1038       1038\n",
              "1    0.0      4908       4908       4908\n",
              "2    1.0      4053       4053       4053"
            ]
          },
          "metadata": {
            "tags": []
          },
          "execution_count": 8
        }
      ]
    },
    {
      "cell_type": "code",
      "metadata": {
        "colab": {
          "base_uri": "https://localhost:8080/"
        },
        "id": "RsF-wwHeANN5",
        "outputId": "24fb660b-bdbf-449c-bb2b-db29ef07f43a"
      },
      "source": [
        "nltk.download('stopwords')"
      ],
      "execution_count": 16,
      "outputs": [
        {
          "output_type": "stream",
          "text": [
            "[nltk_data] Downloading package stopwords to /root/nltk_data...\n",
            "[nltk_data]   Unzipping corpora/stopwords.zip.\n"
          ],
          "name": "stdout"
        },
        {
          "output_type": "execute_result",
          "data": {
            "text/plain": [
              "True"
            ]
          },
          "metadata": {
            "tags": []
          },
          "execution_count": 16
        }
      ]
    },
    {
      "cell_type": "code",
      "metadata": {
        "colab": {
          "base_uri": "https://localhost:8080/",
          "height": 934
        },
        "id": "h2aMXknW7GDd",
        "outputId": "f7c2b6c5-2d6c-4837-f7ba-41c5d28e853b"
      },
      "source": [
        "# Counting the number of words\n",
        "from collections import Counter\n",
        "from keras.preprocessing.text import Tokenizer\n",
        "from nltk.corpus import stopwords\n",
        "stop_words = nltk.corpus.stopwords.words('english')\n",
        "\n",
        "\n",
        "# Plotting functions\n",
        "import matplotlib.pyplot as plt\n",
        "X_train = [clean_text(text) for text in X_train]\n",
        "Y_train = np.asarray(Y_train)\n",
        "\n",
        "# Tokenizing the text\n",
        "tokenizer = Tokenizer()\n",
        "tokenizer.fit_on_texts(X_train)\n",
        "\n",
        "# Getting the most frequent words\n",
        "d1 = train.loc[train['label']==1, 'safe_text'].tolist()\n",
        "d0 = train.loc[train['label']==0, 'safe_text'].tolist()\n",
        "dn1 = train.loc[train['label']==-1, 'safe_text'].tolist()\n",
        "\n",
        "d1 = [clean_text(x, stop_words=stop_words) for x in d1]\n",
        "d0 = [clean_text(x, stop_words=stop_words) for x in d0]\n",
        "dn1 = [clean_text(x, stop_words=stop_words) for x in dn1]\n",
        "\n",
        "d1_text = ' '.join(d1).split()\n",
        "d0_text = ' '.join(d0).split()\n",
        "dn1_text = ' '.join(dn1).split()\n",
        "\n",
        "topd1 = Counter(d1_text)\n",
        "topd0 = Counter(d0_text)\n",
        "topn1 = Counter(dn1_text)\n",
        "\n",
        "topd1 = topd1.most_common(20)\n",
        "topd0 = topd0.most_common(20)\n",
        "topn1 = topn1.most_common(20)\n",
        "\n",
        "\n",
        "plt.bar(range(len(topd1)), [val[1] for val in topd1], align='center')\n",
        "plt.xticks(range(len(topd1)), [val[0] for val in topd1])\n",
        "plt.xticks(rotation=70)\n",
        "plt.show()\n",
        "\n",
        "plt.bar(range(len(topd0)), [val[1] for val in topd0], align='center')\n",
        "plt.xticks(range(len(topd0)), [val[0] for val in topd0])\n",
        "plt.xticks(rotation=70)\n",
        "plt.show()\n",
        "\n",
        "plt.bar(range(len(topn1)), [val[1] for val in topn1], align='center')\n",
        "plt.xticks(range(len(topn1)), [val[0] for val in topn1])\n",
        "plt.xticks(rotation=70)\n",
        "plt.show()\n"
      ],
      "execution_count": 19,
      "outputs": [
        {
          "output_type": "display_data",
          "data": {
            "image/png": "[encoded data removed]",
            "text/plain": [
              "<Figure size 432x288 with 1 Axes>"
            ]
          },
          "metadata": {
            "tags": [],
            "needs_background": "light"
          }
        },
        {
          "output_type": "display_data",
          "data": {
            "image/png": "[encoded data removed]",
            "text/plain": [
              "<Figure size 432x288 with 1 Axes>"
            ]
          },
          "metadata": {
            "tags": [],
            "needs_background": "light"
          }
        },
        {
          "output_type": "display_data",
          "data": {
            "image/png": "[encoded data removed]",
            "text/plain": [
              "<Figure size 432x288 with 1 Axes>"
            ]
          },
          "metadata": {
            "tags": [],
            "needs_background": "light"
          }
        }
      ]
    },
    {
      "cell_type": "code",
      "metadata": {
        "id": "eb6gUToU7F4k"
      },
      "source": [
        ""
      ],
      "execution_count": null,
      "outputs": []
    }
  ]
}