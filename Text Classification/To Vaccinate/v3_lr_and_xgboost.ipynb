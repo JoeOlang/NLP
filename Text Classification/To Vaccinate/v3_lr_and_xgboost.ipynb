{
  "nbformat": 4,
  "nbformat_minor": 0,
  "metadata": {
    "colab": {
      "name": "Untitled0.ipynb",
      "provenance": [],
      "collapsed_sections": [],
      "mount_file_id": "1lgG4-RkqduLEUAtjNeG23oAIcyItpzCw",
      "authorship_tag": "ABX9TyOuyHyfsuZlb/o4WjWQKxum",
      "include_colab_link": true
    },
    "kernelspec": {
      "name": "python3",
      "display_name": "Python 3"
    },
    "language_info": {
      "name": "python"
    }
  },
  "cells": [
    {
      "cell_type": "markdown",
      "metadata": {
        "id": "view-in-github",
        "colab_type": "text"
      },
      "source": [
        "<a href=\"https://colab.research.google.com/github/JoeOlang/NLP/blob/main/Text%20Classification/To%20Vaccinate/v3_lr_and_xgboost.ipynb\" target=\"_parent\"><img src=\"https://colab.research.google.com/assets/colab-badge.svg\" alt=\"Open In Colab\"/></a>"
      ]
    },
    {
      "cell_type": "code",
      "metadata": {
        "id": "2RglK-AEn88F"
      },
      "source": [
        ""
      ],
      "execution_count": null,
      "outputs": []
    },
    {
      "cell_type": "code",
      "metadata": {
        "id": "TuOxRPT0g3Wv"
      },
      "source": [
        "import pandas as pd\n",
        "import numpy as np\n",
        "import nltk\n",
        "import spacy\n",
        "from nltk.corpus import stopwords\n",
        "from sklearn.feature_extraction.text import CountVectorizer, TfidfTransformer\n",
        "from sklearn.model_selection import train_test_split\n",
        "from sklearn.metrics import accuracy_score\n",
        "\n",
        "import warnings\n",
        "warnings.filterwarnings('ignore')"
      ],
      "execution_count": 36,
      "outputs": []
    },
    {
      "cell_type": "code",
      "metadata": {
        "id": "0XEdObSChxoN"
      },
      "source": [
        "train = pd.read_csv(\"/content/drive/MyDrive/Colab Notebooks/Zindi/To Vaccinate/Train.csv\").dropna()\n",
        "test = pd.read_csv(\"/content/drive/MyDrive/Colab Notebooks/Zindi/To Vaccinate/Test.csv\").dropna()\n",
        "\n",
        "\n",
        "# Creating the input for the pipeline\n",
        "X_train = train['safe_text'].tolist()\n",
        "Y_train = train['label'].tolist()\n",
        "\n",
        "X_test = test['safe_text'].tolist()\n"
      ],
      "execution_count": 7,
      "outputs": []
    },
    {
      "cell_type": "code",
      "metadata": {
        "id": "eb6gUToU7F4k"
      },
      "source": [
        "def asignval(x):\n",
        "    if x == 1:\n",
        "        y = 'Positive'\n",
        "    elif x == 0:\n",
        "        y = 'Neutral'\n",
        "    else:\n",
        "        y = 'Negative'\n",
        "\n",
        "    return y\n"
      ],
      "execution_count": 22,
      "outputs": []
    },
    {
      "cell_type": "code",
      "metadata": {
        "id": "msDK5Ewf612g"
      },
      "source": [
        "del train['tweet_id']\n",
        "del train['agreement']\n",
        "del train['label']"
      ],
      "execution_count": 28,
      "outputs": []
    },
    {
      "cell_type": "code",
      "metadata": {
        "colab": {
          "base_uri": "https://localhost:8080/",
          "height": 137
        },
        "id": "UgVVv0MGLaK_",
        "outputId": "faf58428-7a37-4a66-b8f5-f0fc5c7c70ef"
      },
      "source": [
        "train.groupby(['target'], as_index=False).count()"
      ],
      "execution_count": 30,
      "outputs": [
        {
          "output_type": "execute_result",
          "data": {
            "text/html": [
              "<div>\n",
              "<style scoped>\n",
              "    .dataframe tbody tr th:only-of-type {\n",
              "        vertical-align: middle;\n",
              "    }\n",
              "\n",
              "    .dataframe tbody tr th {\n",
              "        vertical-align: top;\n",
              "    }\n",
              "\n",
              "    .dataframe thead th {\n",
              "        text-align: right;\n",
              "    }\n",
              "</style>\n",
              "<table border=\"1\" class=\"dataframe\">\n",
              "  <thead>\n",
              "    <tr style=\"text-align: right;\">\n",
              "      <th></th>\n",
              "      <th>target</th>\n",
              "      <th>safe_text</th>\n",
              "    </tr>\n",
              "  </thead>\n",
              "  <tbody>\n",
              "    <tr>\n",
              "      <th>0</th>\n",
              "      <td>Negative</td>\n",
              "      <td>1038</td>\n",
              "    </tr>\n",
              "    <tr>\n",
              "      <th>1</th>\n",
              "      <td>Neutral</td>\n",
              "      <td>4908</td>\n",
              "    </tr>\n",
              "    <tr>\n",
              "      <th>2</th>\n",
              "      <td>Positive</td>\n",
              "      <td>4053</td>\n",
              "    </tr>\n",
              "  </tbody>\n",
              "</table>\n",
              "</div>"
            ],
            "text/plain": [
              "     target  safe_text\n",
              "0  Negative       1038\n",
              "1   Neutral       4908\n",
              "2  Positive       4053"
            ]
          },
          "metadata": {
            "tags": []
          },
          "execution_count": 30
        }
      ]
    },
    {
      "cell_type": "code",
      "metadata": {
        "id": "DmuAMjSUYKwg"
      },
      "source": [
        "train['target'] = train['label'].apply(lambda x: asignval(x))"
      ],
      "execution_count": 23,
      "outputs": []
    },
    {
      "cell_type": "code",
      "metadata": {
        "colab": {
          "base_uri": "https://localhost:8080/",
          "height": 406
        },
        "id": "XqTzXpkSYxif",
        "outputId": "2cb1a775-3418-429f-cd52-3bf913cb92fa"
      },
      "source": [
        "train"
      ],
      "execution_count": 34,
      "outputs": [
        {
          "output_type": "execute_result",
          "data": {
            "text/html": [
              "<div>\n",
              "<style scoped>\n",
              "    .dataframe tbody tr th:only-of-type {\n",
              "        vertical-align: middle;\n",
              "    }\n",
              "\n",
              "    .dataframe tbody tr th {\n",
              "        vertical-align: top;\n",
              "    }\n",
              "\n",
              "    .dataframe thead th {\n",
              "        text-align: right;\n",
              "    }\n",
              "</style>\n",
              "<table border=\"1\" class=\"dataframe\">\n",
              "  <thead>\n",
              "    <tr style=\"text-align: right;\">\n",
              "      <th></th>\n",
              "      <th>safe_text</th>\n",
              "      <th>target</th>\n",
              "      <th>clean_text</th>\n",
              "    </tr>\n",
              "  </thead>\n",
              "  <tbody>\n",
              "    <tr>\n",
              "      <th>0</th>\n",
              "      <td>Me &amp;amp; The Big Homie meanboy3000 #MEANBOY #M...</td>\n",
              "      <td>Neutral</td>\n",
              "      <td>amp big homie meanboy3000 #meanboy #mb #mbs #m...</td>\n",
              "    </tr>\n",
              "    <tr>\n",
              "      <th>1</th>\n",
              "      <td>I'm 100% thinking of devoting my career to pro...</td>\n",
              "      <td>Positive</td>\n",
              "      <td>100 thinking devoting career proving autism ca...</td>\n",
              "    </tr>\n",
              "    <tr>\n",
              "      <th>2</th>\n",
              "      <td>#whatcausesautism VACCINES, DO NOT VACCINATE Y...</td>\n",
              "      <td>Negative</td>\n",
              "      <td>#whatcausesautism vaccines vaccinate child</td>\n",
              "    </tr>\n",
              "    <tr>\n",
              "      <th>3</th>\n",
              "      <td>I mean if they immunize my kid with something ...</td>\n",
              "      <td>Negative</td>\n",
              "      <td>mean immunize kid something secretly kill year...</td>\n",
              "    </tr>\n",
              "    <tr>\n",
              "      <th>4</th>\n",
              "      <td>Thanks to &lt;user&gt; Catch me performing at La Nui...</td>\n",
              "      <td>Neutral</td>\n",
              "      <td>thanks user catch performing la nuit nyc 1134 ...</td>\n",
              "    </tr>\n",
              "    <tr>\n",
              "      <th>...</th>\n",
              "      <td>...</td>\n",
              "      <td>...</td>\n",
              "      <td>...</td>\n",
              "    </tr>\n",
              "    <tr>\n",
              "      <th>9996</th>\n",
              "      <td>Living in a time where the sperm I used to was...</td>\n",
              "      <td>Positive</td>\n",
              "      <td>living time sperm used waste jenny mccarthy be...</td>\n",
              "    </tr>\n",
              "    <tr>\n",
              "      <th>9997</th>\n",
              "      <td>&lt;user&gt; &lt;user&gt;  In spite of all measles outbrea...</td>\n",
              "      <td>Positive</td>\n",
              "      <td>user user spite measles outbreaks judge mi thr...</td>\n",
              "    </tr>\n",
              "    <tr>\n",
              "      <th>9998</th>\n",
              "      <td>Interesting trends in child immunization in Ok...</td>\n",
              "      <td>Neutral</td>\n",
              "      <td>interesting trends child immunization oklahoma...</td>\n",
              "    </tr>\n",
              "    <tr>\n",
              "      <th>9999</th>\n",
              "      <td>CDC Says Measles Are At Highest Levels In Deca...</td>\n",
              "      <td>Neutral</td>\n",
              "      <td>cdc says measles highest levels decades url re...</td>\n",
              "    </tr>\n",
              "    <tr>\n",
              "      <th>10000</th>\n",
              "      <td>Pneumonia vaccine: for women w risk of pulmona...</td>\n",
              "      <td>Positive</td>\n",
              "      <td>pneumonia vaccine women w risk pulmonary disea...</td>\n",
              "    </tr>\n",
              "  </tbody>\n",
              "</table>\n",
              "<p>9999 rows × 3 columns</p>\n",
              "</div>"
            ],
            "text/plain": [
              "                                               safe_text  ...                                         clean_text\n",
              "0      Me &amp; The Big Homie meanboy3000 #MEANBOY #M...  ...  amp big homie meanboy3000 #meanboy #mb #mbs #m...\n",
              "1      I'm 100% thinking of devoting my career to pro...  ...  100 thinking devoting career proving autism ca...\n",
              "2      #whatcausesautism VACCINES, DO NOT VACCINATE Y...  ...         #whatcausesautism vaccines vaccinate child\n",
              "3      I mean if they immunize my kid with something ...  ...  mean immunize kid something secretly kill year...\n",
              "4      Thanks to <user> Catch me performing at La Nui...  ...  thanks user catch performing la nuit nyc 1134 ...\n",
              "...                                                  ...  ...                                                ...\n",
              "9996   Living in a time where the sperm I used to was...  ...  living time sperm used waste jenny mccarthy be...\n",
              "9997   <user> <user>  In spite of all measles outbrea...  ...  user user spite measles outbreaks judge mi thr...\n",
              "9998   Interesting trends in child immunization in Ok...  ...  interesting trends child immunization oklahoma...\n",
              "9999   CDC Says Measles Are At Highest Levels In Deca...  ...  cdc says measles highest levels decades url re...\n",
              "10000  Pneumonia vaccine: for women w risk of pulmona...  ...  pneumonia vaccine women w risk pulmonary disea...\n",
              "\n",
              "[9999 rows x 3 columns]"
            ]
          },
          "metadata": {
            "tags": []
          },
          "execution_count": 34
        }
      ]
    },
    {
      "cell_type": "code",
      "metadata": {
        "id": "DPk7rUI2b0Cc"
      },
      "source": [
        "s_character = re.compile('[/(){}\\[\\]\\|@,;]')\n",
        "symbols = re.compile('[^0-9a-z #+_]')\n",
        "STOPWORDS = set(stopwords.words('english'))"
      ],
      "execution_count": 32,
      "outputs": []
    },
    {
      "cell_type": "code",
      "metadata": {
        "id": "SydxsJBlc_iR"
      },
      "source": [
        "def clean_text(text):\n",
        "    text = text.lower()\n",
        "    text = s_character.sub(' ', text)\n",
        "    text = symbols.sub(' ', text)\n",
        "    text = ' '.join(word for word in text.split() if word not in STOPWORDS)\n",
        "    return text\n",
        "\n",
        "train['clean_text'] = train['safe_text'].apply(clean_text)"
      ],
      "execution_count": 33,
      "outputs": []
    },
    {
      "cell_type": "code",
      "metadata": {
        "id": "vGoZnjHrdrBL"
      },
      "source": [
        "X = train.clean_text\n",
        "y = train.target\n",
        "\n",
        "X_train, X_test, y_train, y_test = train_test_split(X, y, test_size = 0.3, random_state = 42)"
      ],
      "execution_count": 38,
      "outputs": []
    },
    {
      "cell_type": "code",
      "metadata": {
        "colab": {
          "base_uri": "https://localhost:8080/"
        },
        "id": "UJzIH8s5ewdl",
        "outputId": "f2b057d2-c9d5-47bf-dfcb-99ab2d3e3e5b"
      },
      "source": [
        "X_train.shape, X_test.shape, y_train.shape, y_test.shape"
      ],
      "execution_count": 39,
      "outputs": [
        {
          "output_type": "execute_result",
          "data": {
            "text/plain": [
              "((6999,), (3000,), (6999,), (3000,))"
            ]
          },
          "metadata": {
            "tags": []
          },
          "execution_count": 39
        }
      ]
    },
    {
      "cell_type": "markdown",
      "metadata": {
        "id": "dJTPOjnsizb_"
      },
      "source": [
        "\n",
        "\n",
        "---\n",
        "\n"
      ]
    },
    {
      "cell_type": "code",
      "metadata": {
        "colab": {
          "base_uri": "https://localhost:8080/"
        },
        "id": "3zY7t4qae7pe",
        "outputId": "8256862a-ff50-4034-c95c-832d3542f3ef"
      },
      "source": [
        "from sklearn.linear_model import LogisticRegression\n",
        "from sklearn.pipeline import Pipeline\n",
        "from sklearn.feature_extraction.text import TfidfTransformer\n",
        "\n",
        "lr = Pipeline([('vect', CountVectorizer()),\n",
        "               ('tfidf', TfidfTransformer()),\n",
        "               ('clf', LogisticRegression()),\n",
        "               ])\n",
        "\n",
        "lr.fit(X_train, y_train)\n",
        "y_pred1 = lr.predict(X_test)\n",
        "\n",
        "print(f\"Accuracy is : {accuracy_score(y_pred1, y_test)}\")"
      ],
      "execution_count": 41,
      "outputs": [
        {
          "output_type": "stream",
          "text": [
            "Accuracy is : 0.728\n"
          ],
          "name": "stdout"
        }
      ]
    },
    {
      "cell_type": "markdown",
      "metadata": {
        "id": "FQ4g1GXiihl2"
      },
      "source": [
        "\n",
        "\n",
        "---\n",
        "\n"
      ]
    },
    {
      "cell_type": "code",
      "metadata": {
        "colab": {
          "base_uri": "https://localhost:8080/"
        },
        "id": "6A4WZAjzikOR",
        "outputId": "e26d1a25-908e-43fc-83ca-835d46351e06"
      },
      "source": [
        "from xgboost import XGBClassifier\n",
        "\n",
        "xgboost = Pipeline([('vect', CountVectorizer()),\n",
        "                    ('tfidf', TfidfTransformer()),\n",
        "                    ('clf', LogisticRegression()),\n",
        "                    ])\n",
        "\n",
        "xgboost.fit(X_train, y_train)\n",
        "\n",
        "y_pred = xgboost.predict(X_test)\n",
        "print(f\"Accuracy is : {accuracy_score(y_pred, y_test)}\")"
      ],
      "execution_count": 43,
      "outputs": [
        {
          "output_type": "stream",
          "text": [
            "Accuracy is : 0.728\n"
          ],
          "name": "stdout"
        }
      ]
    },
    {
      "cell_type": "markdown",
      "metadata": {
        "id": "_HJzfKlpjjvI"
      },
      "source": [
        "\n",
        "\n",
        "---\n",
        "\n"
      ]
    },
    {
      "cell_type": "code",
      "metadata": {
        "id": "UY7y5NcyptUH"
      },
      "source": [
        "vect = CountVectorizer()\n",
        "trans = TfidfTransformer()"
      ],
      "execution_count": 45,
      "outputs": []
    },
    {
      "cell_type": "code",
      "metadata": {
        "colab": {
          "base_uri": "https://localhost:8080/"
        },
        "id": "E31eZkRDraKK",
        "outputId": "d01e68f8-a0be-4c52-ff96-b80a7634ef22"
      },
      "source": [
        "len(y_pred)"
      ],
      "execution_count": 54,
      "outputs": [
        {
          "output_type": "execute_result",
          "data": {
            "text/plain": [
              "3000"
            ]
          },
          "metadata": {
            "tags": []
          },
          "execution_count": 54
        }
      ]
    },
    {
      "cell_type": "code",
      "metadata": {
        "colab": {
          "base_uri": "https://localhost:8080/"
        },
        "id": "ClHk-JAii31H",
        "outputId": "cb912127-ee8f-4838-f4b6-f52ac7aeb715"
      },
      "source": [
        "to_predict = [\"Predicted probabilities of demo input string are\"]\n",
        "\n",
        "\n",
        "print('Predicted probabilities of demo input string are')\n",
        "print(xgboost.predict(to_predict))"
      ],
      "execution_count": 56,
      "outputs": [
        {
          "output_type": "stream",
          "text": [
            "Predicted probabilities of demo input string are\n",
            "['Neutral']\n"
          ],
          "name": "stdout"
        }
      ]
    },
    {
      "cell_type": "code",
      "metadata": {
        "id": "LXd_4ZCBvPau"
      },
      "source": [
        "test['pred'] = test['safe_text'].apply(lambda x: xgboost.predict([x]))"
      ],
      "execution_count": 59,
      "outputs": []
    },
    {
      "cell_type": "code",
      "metadata": {
        "id": "_lNRqUdyxw0z"
      },
      "source": [
        "def asignval2(x):\n",
        "    if x == ['Positive']:\n",
        "        y = 1\n",
        "    elif x == ['Neutral']:\n",
        "        y = 0\n",
        "    else:\n",
        "        y = -1\n",
        "\n",
        "    return y"
      ],
      "execution_count": 62,
      "outputs": []
    },
    {
      "cell_type": "code",
      "metadata": {
        "id": "xISMcEZtvvvh"
      },
      "source": [
        "test['label'] = test['pred'].apply(lambda x: asignval2([x]))"
      ],
      "execution_count": 63,
      "outputs": []
    },
    {
      "cell_type": "code",
      "metadata": {
        "id": "rDt7MfPgz--F"
      },
      "source": [
        "del test['pred']\n",
        "del test['safe_text']"
      ],
      "execution_count": 65,
      "outputs": []
    },
    {
      "cell_type": "code",
      "metadata": {
        "colab": {
          "base_uri": "https://localhost:8080/",
          "height": 406
        },
        "id": "YchUQIHHz7Hf",
        "outputId": "943779d8-d80d-4768-b2d2-824557f1b8a6"
      },
      "source": [
        "test"
      ],
      "execution_count": 66,
      "outputs": [
        {
          "output_type": "execute_result",
          "data": {
            "text/html": [
              "<div>\n",
              "<style scoped>\n",
              "    .dataframe tbody tr th:only-of-type {\n",
              "        vertical-align: middle;\n",
              "    }\n",
              "\n",
              "    .dataframe tbody tr th {\n",
              "        vertical-align: top;\n",
              "    }\n",
              "\n",
              "    .dataframe thead th {\n",
              "        text-align: right;\n",
              "    }\n",
              "</style>\n",
              "<table border=\"1\" class=\"dataframe\">\n",
              "  <thead>\n",
              "    <tr style=\"text-align: right;\">\n",
              "      <th></th>\n",
              "      <th>tweet_id</th>\n",
              "      <th>label</th>\n",
              "    </tr>\n",
              "  </thead>\n",
              "  <tbody>\n",
              "    <tr>\n",
              "      <th>0</th>\n",
              "      <td>00BHHHP1</td>\n",
              "      <td>1</td>\n",
              "    </tr>\n",
              "    <tr>\n",
              "      <th>1</th>\n",
              "      <td>00UNMD0E</td>\n",
              "      <td>1</td>\n",
              "    </tr>\n",
              "    <tr>\n",
              "      <th>2</th>\n",
              "      <td>01AXPTJF</td>\n",
              "      <td>0</td>\n",
              "    </tr>\n",
              "    <tr>\n",
              "      <th>3</th>\n",
              "      <td>01HOEQJW</td>\n",
              "      <td>1</td>\n",
              "    </tr>\n",
              "    <tr>\n",
              "      <th>4</th>\n",
              "      <td>01JUKMAO</td>\n",
              "      <td>1</td>\n",
              "    </tr>\n",
              "    <tr>\n",
              "      <th>...</th>\n",
              "      <td>...</td>\n",
              "      <td>...</td>\n",
              "    </tr>\n",
              "    <tr>\n",
              "      <th>5172</th>\n",
              "      <td>ZXVVNC5O</td>\n",
              "      <td>1</td>\n",
              "    </tr>\n",
              "    <tr>\n",
              "      <th>5173</th>\n",
              "      <td>ZYIANVI8</td>\n",
              "      <td>0</td>\n",
              "    </tr>\n",
              "    <tr>\n",
              "      <th>5174</th>\n",
              "      <td>ZYITEHAH</td>\n",
              "      <td>0</td>\n",
              "    </tr>\n",
              "    <tr>\n",
              "      <th>5175</th>\n",
              "      <td>ZZ3BMBTG</td>\n",
              "      <td>1</td>\n",
              "    </tr>\n",
              "    <tr>\n",
              "      <th>5176</th>\n",
              "      <td>ZZIYCVNH</td>\n",
              "      <td>1</td>\n",
              "    </tr>\n",
              "  </tbody>\n",
              "</table>\n",
              "<p>5176 rows × 2 columns</p>\n",
              "</div>"
            ],
            "text/plain": [
              "      tweet_id  label\n",
              "0     00BHHHP1      1\n",
              "1     00UNMD0E      1\n",
              "2     01AXPTJF      0\n",
              "3     01HOEQJW      1\n",
              "4     01JUKMAO      1\n",
              "...        ...    ...\n",
              "5172  ZXVVNC5O      1\n",
              "5173  ZYIANVI8      0\n",
              "5174  ZYITEHAH      0\n",
              "5175  ZZ3BMBTG      1\n",
              "5176  ZZIYCVNH      1\n",
              "\n",
              "[5176 rows x 2 columns]"
            ]
          },
          "metadata": {
            "tags": []
          },
          "execution_count": 66
        }
      ]
    },
    {
      "cell_type": "code",
      "metadata": {
        "id": "2ov_yqf-0NZP"
      },
      "source": [
        "test.to_csv(r'/content/drive/MyDrive/Colab Notebooks/Zindi/To Vaccinate/Submission1.csv', index = False)"
      ],
      "execution_count": 67,
      "outputs": []
    }
  ]
}