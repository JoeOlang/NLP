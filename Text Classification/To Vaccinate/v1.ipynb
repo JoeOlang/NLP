{
  "nbformat": 4,
  "nbformat_minor": 0,
  "metadata": {
    "colab": {
      "name": "Untitled0.ipynb",
      "provenance": [],
      "collapsed_sections": [],
      "mount_file_id": "1lgG4-RkqduLEUAtjNeG23oAIcyItpzCw",
      "authorship_tag": "ABX9TyMIOZHYkYGa/wqxXpk3bM37",
      "include_colab_link": true
    },
    "kernelspec": {
      "name": "python3",
      "display_name": "Python 3"
    },
    "language_info": {
      "name": "python"
    }
  },
  "cells": [
    {
      "cell_type": "markdown",
      "metadata": {
        "id": "view-in-github",
        "colab_type": "text"
      },
      "source": [
        "<a href=\"https://colab.research.google.com/github/JoeOlang/NLP/blob/main/Text%20Classification/To%20Vaccinate/v1.ipynb\" target=\"_parent\"><img src=\"https://colab.research.google.com/assets/colab-badge.svg\" alt=\"Open In Colab\"/></a>"
      ]
    },
    {
      "cell_type": "code",
      "metadata": {
        "id": "2RglK-AEn88F"
      },
      "source": [
        ""
      ],
      "execution_count": null,
      "outputs": []
    },
    {
      "cell_type": "code",
      "metadata": {
        "id": "TuOxRPT0g3Wv"
      },
      "source": [
        "import pandas as pd\n",
        "import numpy as np\n",
        "import nltk\n",
        "import spacy\n",
        "\n",
        "import warnings\n",
        "warnings.filterwarnings('ignore')"
      ],
      "execution_count": 1,
      "outputs": []
    },
    {
      "cell_type": "code",
      "metadata": {
        "colab": {
          "base_uri": "https://localhost:8080/"
        },
        "id": "0XEdObSChxoN",
        "outputId": "848e666d-2c6b-48fe-e10a-7ada3cb6aeb5"
      },
      "source": [
        "df = pd.read_csv(\"/content/drive/MyDrive/Colab Notebooks/Zindi/To Vaccinate/Train.csv\").dropna()\n",
        "df.columns"
      ],
      "execution_count": null,
      "outputs": [
        {
          "output_type": "execute_result",
          "data": {
            "text/plain": [
              "Index(['tweet_id', 'safe_text', 'label', 'agreement'], dtype='object')"
            ]
          },
          "metadata": {
            "tags": []
          },
          "execution_count": 2
        }
      ]
    },
    {
      "cell_type": "code",
      "metadata": {
        "colab": {
          "base_uri": "https://localhost:8080/",
          "height": 137
        },
        "id": "UgVVv0MGLaK_",
        "outputId": "a0d6782e-3162-449b-dacb-bf131d8ea3b9"
      },
      "source": [
        "df.head(3)"
      ],
      "execution_count": null,
      "outputs": [
        {
          "output_type": "execute_result",
          "data": {
            "text/html": [
              "<div>\n",
              "<style scoped>\n",
              "    .dataframe tbody tr th:only-of-type {\n",
              "        vertical-align: middle;\n",
              "    }\n",
              "\n",
              "    .dataframe tbody tr th {\n",
              "        vertical-align: top;\n",
              "    }\n",
              "\n",
              "    .dataframe thead th {\n",
              "        text-align: right;\n",
              "    }\n",
              "</style>\n",
              "<table border=\"1\" class=\"dataframe\">\n",
              "  <thead>\n",
              "    <tr style=\"text-align: right;\">\n",
              "      <th></th>\n",
              "      <th>tweet_id</th>\n",
              "      <th>safe_text</th>\n",
              "      <th>label</th>\n",
              "      <th>agreement</th>\n",
              "    </tr>\n",
              "  </thead>\n",
              "  <tbody>\n",
              "    <tr>\n",
              "      <th>0</th>\n",
              "      <td>CL1KWCMY</td>\n",
              "      <td>Me &amp;amp; The Big Homie meanboy3000 #MEANBOY #M...</td>\n",
              "      <td>0.0</td>\n",
              "      <td>1.0</td>\n",
              "    </tr>\n",
              "    <tr>\n",
              "      <th>1</th>\n",
              "      <td>E3303EME</td>\n",
              "      <td>I'm 100% thinking of devoting my career to pro...</td>\n",
              "      <td>1.0</td>\n",
              "      <td>1.0</td>\n",
              "    </tr>\n",
              "    <tr>\n",
              "      <th>2</th>\n",
              "      <td>M4IVFSMS</td>\n",
              "      <td>#whatcausesautism VACCINES, DO NOT VACCINATE Y...</td>\n",
              "      <td>-1.0</td>\n",
              "      <td>1.0</td>\n",
              "    </tr>\n",
              "  </tbody>\n",
              "</table>\n",
              "</div>"
            ],
            "text/plain": [
              "   tweet_id  ... agreement\n",
              "0  CL1KWCMY  ...       1.0\n",
              "1  E3303EME  ...       1.0\n",
              "2  M4IVFSMS  ...       1.0\n",
              "\n",
              "[3 rows x 4 columns]"
            ]
          },
          "metadata": {
            "tags": []
          },
          "execution_count": 3
        }
      ]
    },
    {
      "cell_type": "code",
      "metadata": {
        "id": "eH2CCnwbcchi"
      },
      "source": [
        "def clean_txt(text):\n",
        "  clean_text = []\n",
        "  clean_text2 = []\n",
        "  text = re.sub(\"'\", \"\",text)\n",
        "  text=re.sub(\"(\\\\d|\\\\W)+\",\" \",text)    \n",
        "  return text"
      ],
      "execution_count": null,
      "outputs": []
    },
    {
      "cell_type": "code",
      "metadata": {
        "id": "oS5zpbDCcPFT"
      },
      "source": [
        "from sklearn.model_selection import train_test_split\n",
        "import time\n",
        "X = df['safe_text']\n",
        "y =df['label']\n",
        "encoder = LabelEncoder()\n",
        "y = encoder.fit_transform(y)\n",
        "Y = np_utils.to_categorical(y)\n",
        "##Create the tf-idf vector\n",
        "vectorizer = TfidfVectorizer( min_df =3, max_df=0.2, max_features=None, \n",
        "            strip_accents='unicode', analyzer='word',token_pattern=r'\\w{1,}',\n",
        "            use_idf=1,smooth_idf=1,sublinear_tf=1,\n",
        "            stop_words = None, preprocessor=clean_txt)"
      ],
      "execution_count": null,
      "outputs": []
    },
    {
      "cell_type": "code",
      "metadata": {
        "colab": {
          "base_uri": "https://localhost:8080/"
        },
        "id": "X_Xk191deFdM",
        "outputId": "0f5f4220-d9ef-4146-fbd9-c0a4de91ae00"
      },
      "source": [
        "seed = 40\n",
        "x_train, x_test, y_train, y_test = train_test_split(X, Y, test_size=0.2, random_state=seed, stratify =y)\n",
        "vectorizer.fit(x_train)"
      ],
      "execution_count": null,
      "outputs": [
        {
          "output_type": "execute_result",
          "data": {
            "text/plain": [
              "TfidfVectorizer(analyzer='word', binary=False, decode_error='strict',\n",
              "                dtype=<class 'numpy.float64'>, encoding='utf-8',\n",
              "                input='content', lowercase=True, max_df=0.2, max_features=None,\n",
              "                min_df=3, ngram_range=(1, 1), norm='l2',\n",
              "                preprocessor=<function clean_txt at 0x7f6d1dd35e60>,\n",
              "                smooth_idf=1, stop_words=None, strip_accents='unicode',\n",
              "                sublinear_tf=1, token_pattern='\\\\w{1,}', tokenizer=None,\n",
              "                use_idf=1, vocabulary=None)"
            ]
          },
          "metadata": {
            "tags": []
          },
          "execution_count": 13
        }
      ]
    },
    {
      "cell_type": "code",
      "metadata": {
        "colab": {
          "base_uri": "https://localhost:8080/"
        },
        "id": "QPvaKfIneKEX",
        "outputId": "473af55f-7ca0-4279-c526-66e90038a384"
      },
      "source": [
        "word2idx = {word: idx for idx, word in enumerate(vectorizer.get_feature_names())}\n",
        "tokenize = vectorizer.build_tokenizer()\n",
        "preprocess = vectorizer.build_preprocessor()\n",
        " \n",
        "def to_sequence(tokenizer, preprocessor, index, text):\n",
        "    words = tokenizer(preprocessor(text))\n",
        "    indexes = [index[word] for word in words if word in index]\n",
        "    return indexes\n",
        "\n",
        "X_train_sequences = [to_sequence(tokenize, preprocess, word2idx, x) for x in x_train]\n",
        "print(X_train_sequences[0])"
      ],
      "execution_count": null,
      "outputs": [
        {
          "output_type": "stream",
          "text": [
            "[249, 3493, 4083, 1836, 3637, 689, 4143, 1703, 1634, 3081, 1836, 3637, 3796, 1722, 4256, 3186, 1003, 825]\n"
          ],
          "name": "stdout"
        }
      ]
    },
    {
      "cell_type": "code",
      "metadata": {
        "colab": {
          "base_uri": "https://localhost:8080/"
        },
        "id": "f1dcLtvceNm4",
        "outputId": "17d5f4d7-797d-4c69-d3ec-2d16e014055f"
      },
      "source": [
        "# Compute the max lenght of a text\n",
        "\n",
        "MAX_SEQ_LENGHT=60\n",
        "\n",
        "N_FEATURES = len(vectorizer.get_feature_names())\n",
        "X_train_sequences = pad_sequences(X_train_sequences, maxlen=MAX_SEQ_LENGHT, value=N_FEATURES)\n",
        "print(X_train_sequences[0])"
      ],
      "execution_count": null,
      "outputs": [
        {
          "output_type": "stream",
          "text": [
            "[4280 4280 4280 4280 4280 4280 4280 4280 4280 4280 4280 4280 4280 4280\n",
            " 4280 4280 4280 4280 4280 4280 4280 4280 4280 4280 4280 4280 4280 4280\n",
            " 4280 4280 4280 4280 4280 4280 4280 4280 4280 4280 4280 4280 4280 4280\n",
            "  249 3493 4083 1836 3637  689 4143 1703 1634 3081 1836 3637 3796 1722\n",
            " 4256 3186 1003  825]\n"
          ],
          "name": "stdout"
        }
      ]
    },
    {
      "cell_type": "code",
      "metadata": {
        "id": "uOBWnKQ5eQ8x"
      },
      "source": [
        "X_test_sequences = [to_sequence(tokenize, preprocess, word2idx, x) for x in x_test]\n",
        "X_test_sequences = pad_sequences(X_test_sequences, maxlen=MAX_SEQ_LENGHT, value=N_FEATURES)"
      ],
      "execution_count": null,
      "outputs": []
    },
    {
      "cell_type": "code",
      "metadata": {
        "colab": {
          "base_uri": "https://localhost:8080/"
        },
        "id": "F7H8cYO4eSOC",
        "outputId": "16a2a89a-90dd-483d-eeaf-5aedd293c960"
      },
      "source": [
        "EMBEDDINGS_LEN = 300\n",
        "\n",
        "embeddings_index = np.zeros((len(vectorizer.get_feature_names()) + 1, EMBEDDINGS_LEN))\n",
        "for word, idx in word2idx.items():\n",
        "    try:\n",
        "        embedding = nlp.vocab[word].vector\n",
        "        embeddings_index[idx] = embedding\n",
        "    except:\n",
        "        pass\n",
        "      \n",
        "print(\"EMBEDDINGS_LEN=\", EMBEDDINGS_LEN)"
      ],
      "execution_count": null,
      "outputs": [
        {
          "output_type": "stream",
          "text": [
            "EMBEDDINGS_LEN= 300\n"
          ],
          "name": "stdout"
        }
      ]
    },
    {
      "cell_type": "code",
      "metadata": {
        "colab": {
          "base_uri": "https://localhost:8080/"
        },
        "id": "U_qeGPJcezKp",
        "outputId": "c8fff338-3a29-4f05-9521-25332aa8e817"
      },
      "source": [
        "model = Sequential()\n",
        "model.add(Embedding(len(vectorizer.get_feature_names()) + 1,\n",
        "                    EMBEDDINGS_LEN,  # Embedding size\n",
        "                    weights=[embeddings_index],\n",
        "                    input_length=MAX_SEQ_LENGHT,\n",
        "                    trainable=False))\n",
        "model.add(LSTM(300, dropout=0.2))\n",
        "model.add(Dense(len(set(y)), activation='softmax'))\n",
        " \n",
        "model.compile(loss='categorical_crossentropy', optimizer='adam', metrics=['accuracy'])\n",
        "print(model.summary())"
      ],
      "execution_count": null,
      "outputs": [
        {
          "output_type": "stream",
          "text": [
            "Model: \"sequential\"\n",
            "_________________________________________________________________\n",
            "Layer (type)                 Output Shape              Param #   \n",
            "=================================================================\n",
            "embedding (Embedding)        (None, 60, 300)           1284300   \n",
            "_________________________________________________________________\n",
            "lstm (LSTM)                  (None, 300)               721200    \n",
            "_________________________________________________________________\n",
            "dense (Dense)                (None, 3)                 903       \n",
            "=================================================================\n",
            "Total params: 2,006,403\n",
            "Trainable params: 722,103\n",
            "Non-trainable params: 1,284,300\n",
            "_________________________________________________________________\n",
            "None\n"
          ],
          "name": "stdout"
        }
      ]
    },
    {
      "cell_type": "code",
      "metadata": {
        "colab": {
          "base_uri": "https://localhost:8080/",
          "height": 437
        },
        "id": "Yb9TTrPIfiyW",
        "outputId": "84a19bc1-59f0-4948-dd5c-5f58ff862f42"
      },
      "source": [
        "model.fit(X_train_sequences, y_train, \n",
        "          epochs=5, batch_size=128, verbose=1, \n",
        "          validation_split=0.1)\n",
        " \n",
        "scores = model.evaluate(X_test_sequences, y_test, verbose=1)\n",
        "print(\"Accuracy:\", scores[1])  #"
      ],
      "execution_count": null,
      "outputs": [
        {
          "output_type": "stream",
          "text": [
            "Epoch 1/5\n",
            "57/57 [==============================] - 44s 734ms/step - loss: 0.8424 - accuracy: 0.6239 - val_loss: 0.6766 - val_accuracy: 0.7250\n",
            "Epoch 2/5\n",
            "57/57 [==============================] - 41s 726ms/step - loss: 0.6553 - accuracy: 0.7202 - val_loss: 0.6452 - val_accuracy: 0.7387\n",
            "Epoch 3/5\n",
            "57/57 [==============================] - 42s 729ms/step - loss: 0.6455 - accuracy: 0.7270 - val_loss: 0.6296 - val_accuracy: 0.7325\n",
            "Epoch 4/5\n",
            "57/57 [==============================] - 41s 728ms/step - loss: 0.5943 - accuracy: 0.7484 - val_loss: 0.6297 - val_accuracy: 0.7362\n",
            "Epoch 5/5\n",
            "57/57 [==============================] - 41s 728ms/step - loss: 0.5603 - accuracy: 0.7652 - val_loss: 0.6694 - val_accuracy: 0.7175\n",
            "63/63 [==============================] - 6s 94ms/step - loss: 0.6870 - accuracy: 0.7160\n",
            "Accuracy: 0.7160000205039978\n"
          ],
          "name": "stdout"
        },
        {
          "output_type": "error",
          "ename": "NameError",
          "evalue": "ignored",
          "traceback": [
            "\u001b[0;31m---------------------------------------------------------------------------\u001b[0m",
            "\u001b[0;31mNameError\u001b[0m                                 Traceback (most recent call last)",
            "\u001b[0;32m<ipython-input-19-89cbfe0edd41>\u001b[0m in \u001b[0;36m<module>\u001b[0;34m()\u001b[0m\n\u001b[1;32m      5\u001b[0m \u001b[0mscores\u001b[0m \u001b[0;34m=\u001b[0m \u001b[0mmodel\u001b[0m\u001b[0;34m.\u001b[0m\u001b[0mevaluate\u001b[0m\u001b[0;34m(\u001b[0m\u001b[0mX_test_sequences\u001b[0m\u001b[0;34m,\u001b[0m \u001b[0my_test\u001b[0m\u001b[0;34m,\u001b[0m \u001b[0mverbose\u001b[0m\u001b[0;34m=\u001b[0m\u001b[0;36m1\u001b[0m\u001b[0;34m)\u001b[0m\u001b[0;34m\u001b[0m\u001b[0;34m\u001b[0m\u001b[0m\n\u001b[1;32m      6\u001b[0m \u001b[0mprint\u001b[0m\u001b[0;34m(\u001b[0m\u001b[0;34m\"Accuracy:\"\u001b[0m\u001b[0;34m,\u001b[0m \u001b[0mscores\u001b[0m\u001b[0;34m[\u001b[0m\u001b[0;36m1\u001b[0m\u001b[0;34m]\u001b[0m\u001b[0;34m)\u001b[0m  \u001b[0;31m#\u001b[0m\u001b[0;34m\u001b[0m\u001b[0;34m\u001b[0m\u001b[0m\n\u001b[0;32m----> 7\u001b[0;31m \u001b[0mlist_result\u001b[0m\u001b[0;34m.\u001b[0m\u001b[0mappend\u001b[0m\u001b[0;34m(\u001b[0m\u001b[0;34m(\u001b[0m\u001b[0;34m\"LSTM Simple\"\u001b[0m\u001b[0;34m,\u001b[0m \u001b[0mscores\u001b[0m\u001b[0;34m[\u001b[0m\u001b[0;36m1\u001b[0m\u001b[0;34m]\u001b[0m\u001b[0;34m)\u001b[0m\u001b[0;34m)\u001b[0m\u001b[0;34m\u001b[0m\u001b[0;34m\u001b[0m\u001b[0m\n\u001b[0m",
            "\u001b[0;31mNameError\u001b[0m: name 'list_result' is not defined"
          ]
        }
      ]
    },
    {
      "cell_type": "code",
      "metadata": {
        "colab": {
          "base_uri": "https://localhost:8080/"
        },
        "id": "x1gR5jA7guyi",
        "outputId": "ce4148e7-f421-440f-83fb-49b398b8812d"
      },
      "source": [
        "from keras.models import Model\n",
        "from keras.layers import Dense ,LSTM,concatenate,Input,Flatten,BatchNormalization, GRU\n",
        "\n",
        "text_data = Input(shape=(MAX_SEQ_LENGHT,), name='text')\n",
        "meta_data = Input(shape=(3,), name = 'meta')\n",
        "x=(Embedding(len(vectorizer.get_feature_names()) + 1,\n",
        "                    EMBEDDINGS_LEN,  # Embedding size\n",
        "                    weights=[embeddings_index],\n",
        "                    input_length=MAX_SEQ_LENGHT,\n",
        "                    trainable=False))(text_data)\n",
        "x2 = ((LSTM(300, dropout=0.2, recurrent_dropout=0.2)))(x)\n",
        "x4 = concatenate([x2, meta_data])\n",
        "x5 = Dense(150, activation='relu')(x4)\n",
        "x6 = Dropout(0.25)(x5)\n",
        "x7 = BatchNormalization()(x6)\n",
        "out=(Dense(len(set(y)), activation=\"softmax\"))(x7)\n",
        "model = Model(inputs=[text_data, meta_data ], outputs=out)\n",
        "model.compile(loss='categorical_crossentropy', optimizer='adam', metrics=['accuracy'])\n",
        "print(model.summary())"
      ],
      "execution_count": null,
      "outputs": [
        {
          "output_type": "stream",
          "text": [
            "Model: \"model\"\n",
            "__________________________________________________________________________________________________\n",
            "Layer (type)                    Output Shape         Param #     Connected to                     \n",
            "==================================================================================================\n",
            "text (InputLayer)               [(None, 60)]         0                                            \n",
            "__________________________________________________________________________________________________\n",
            "embedding_1 (Embedding)         (None, 60, 300)      1284300     text[0][0]                       \n",
            "__________________________________________________________________________________________________\n",
            "lstm_1 (LSTM)                   (None, 300)          721200      embedding_1[0][0]                \n",
            "__________________________________________________________________________________________________\n",
            "meta (InputLayer)               [(None, 3)]          0                                            \n",
            "__________________________________________________________________________________________________\n",
            "concatenate (Concatenate)       (None, 303)          0           lstm_1[0][0]                     \n",
            "                                                                 meta[0][0]                       \n",
            "__________________________________________________________________________________________________\n",
            "dense_1 (Dense)                 (None, 150)          45600       concatenate[0][0]                \n",
            "__________________________________________________________________________________________________\n",
            "dropout (Dropout)               (None, 150)          0           dense_1[0][0]                    \n",
            "__________________________________________________________________________________________________\n",
            "batch_normalization (BatchNorma (None, 150)          600         dropout[0][0]                    \n",
            "__________________________________________________________________________________________________\n",
            "dense_2 (Dense)                 (None, 3)            453         batch_normalization[0][0]        \n",
            "==================================================================================================\n",
            "Total params: 2,052,153\n",
            "Trainable params: 767,553\n",
            "Non-trainable params: 1,284,600\n",
            "__________________________________________________________________________________________________\n",
            "None\n"
          ],
          "name": "stdout"
        }
      ]
    }
  ]
}