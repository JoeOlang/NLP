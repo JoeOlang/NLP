{
  "nbformat": 4,
  "nbformat_minor": 0,
  "metadata": {
    "colab": {
      "name": "classify.ipynb",
      "provenance": [],
      "collapsed_sections": []
    },
    "kernelspec": {
      "name": "python3",
      "display_name": "Python 3"
    },
    "language_info": {
      "name": "python"
    }
  },
  "cells": [
    {
      "cell_type": "markdown",
      "metadata": {
        "id": "nCqrRvJBK-Pb"
      },
      "source": [
        "https://medium.com/analytics-vidhya/nlp-tutorial-for-text-classification-in-python-8f19cd17b49e"
      ]
    },
    {
      "cell_type": "code",
      "metadata": {
        "id": "ApmrwgDk8dLk"
      },
      "source": [
        "import pandas as pd\n",
        "import numpy as np\n",
        "import warnings\n",
        "warnings.filterwarnings('ignore')\n",
        "\n",
        "import re, string\n",
        "import nltk\n",
        "import seaborn as sns\n",
        "\n",
        "from sklearn.model_selection import train_test_split\n",
        "from sklearn.linear_model import LogisticRegression\n",
        "from sklearn.naive_bayes import MultinomialNB\n",
        "from sklearn.metrics import classification_report, f1_score, accuracy_score, confusion_matrix\n",
        "from sklearn.metrics import roc_curve, auc, roc_auc_score\n",
        "\n",
        "\n",
        "from sklearn.feature_extraction.text import TfidfVectorizer\n",
        "from sklearn.feature_extraction.text import CountVectorizer\n"
      ],
      "execution_count": 48,
      "outputs": []
    },
    {
      "cell_type": "code",
      "metadata": {
        "id": "jxlJsNnHgnUN"
      },
      "source": [
        "# In this verrsion I introduced some common Swahili stop words\n",
        "stop_words_df = pd.read_csv('/content/drive/MyDrive/Colab Notebooks/NLP/swahili_stopwords.csv')\n",
        "stop_words = stop_words_df['StopWords'].tolist()"
      ],
      "execution_count": 49,
      "outputs": []
    },
    {
      "cell_type": "code",
      "metadata": {
        "colab": {
          "base_uri": "https://localhost:8080/",
          "height": 197
        },
        "id": "-w7DVyD6CmgI",
        "outputId": "16ec672b-12d4-44f5-fcaa-bd4a8a5624de"
      },
      "source": [
        "df = pd.read_csv('/content/drive/MyDrive/Colab Notebooks/NLP/Swahili/Train.csv')\n",
        "df.head()"
      ],
      "execution_count": 50,
      "outputs": [
        {
          "output_type": "execute_result",
          "data": {
            "text/html": [
              "<div>\n",
              "<style scoped>\n",
              "    .dataframe tbody tr th:only-of-type {\n",
              "        vertical-align: middle;\n",
              "    }\n",
              "\n",
              "    .dataframe tbody tr th {\n",
              "        vertical-align: top;\n",
              "    }\n",
              "\n",
              "    .dataframe thead th {\n",
              "        text-align: right;\n",
              "    }\n",
              "</style>\n",
              "<table border=\"1\" class=\"dataframe\">\n",
              "  <thead>\n",
              "    <tr style=\"text-align: right;\">\n",
              "      <th></th>\n",
              "      <th>id</th>\n",
              "      <th>content</th>\n",
              "      <th>category</th>\n",
              "    </tr>\n",
              "  </thead>\n",
              "  <tbody>\n",
              "    <tr>\n",
              "      <th>0</th>\n",
              "      <td>SW0</td>\n",
              "      <td>SERIKALI imesema haitakuwa tayari kuona amani...</td>\n",
              "      <td>Kitaifa</td>\n",
              "    </tr>\n",
              "    <tr>\n",
              "      <th>1</th>\n",
              "      <td>SW1</td>\n",
              "      <td>Mkuu wa Mkoa wa Tabora, Aggrey Mwanri amesiti...</td>\n",
              "      <td>Biashara</td>\n",
              "    </tr>\n",
              "    <tr>\n",
              "      <th>2</th>\n",
              "      <td>SW10</td>\n",
              "      <td>SERIKALI imetoa miezi sita kwa taasisi zote z...</td>\n",
              "      <td>Kitaifa</td>\n",
              "    </tr>\n",
              "    <tr>\n",
              "      <th>3</th>\n",
              "      <td>SW100</td>\n",
              "      <td>KAMPUNI ya mchezo wa kubahatisha ya M-bet ime...</td>\n",
              "      <td>michezo</td>\n",
              "    </tr>\n",
              "    <tr>\n",
              "      <th>4</th>\n",
              "      <td>SW1000</td>\n",
              "      <td>WATANZANIA wamekumbushwa kusherehekea sikukuu...</td>\n",
              "      <td>Kitaifa</td>\n",
              "    </tr>\n",
              "  </tbody>\n",
              "</table>\n",
              "</div>"
            ],
            "text/plain": [
              "       id                                            content  category\n",
              "0     SW0   SERIKALI imesema haitakuwa tayari kuona amani...   Kitaifa\n",
              "1     SW1   Mkuu wa Mkoa wa Tabora, Aggrey Mwanri amesiti...  Biashara\n",
              "2    SW10   SERIKALI imetoa miezi sita kwa taasisi zote z...   Kitaifa\n",
              "3   SW100   KAMPUNI ya mchezo wa kubahatisha ya M-bet ime...   michezo\n",
              "4  SW1000   WATANZANIA wamekumbushwa kusherehekea sikukuu...   Kitaifa"
            ]
          },
          "metadata": {
            "tags": []
          },
          "execution_count": 50
        }
      ]
    },
    {
      "cell_type": "code",
      "metadata": {
        "colab": {
          "base_uri": "https://localhost:8080/",
          "height": 388
        },
        "id": "4yvLyXVFCu0F",
        "outputId": "71e532ea-7ae1-4aa9-8d96-e7a7f9c75b08"
      },
      "source": [
        "x=df['category'].value_counts()\n",
        "print(x)\n",
        "sns.barplot(x.index,x)"
      ],
      "execution_count": 51,
      "outputs": [
        {
          "output_type": "stream",
          "text": [
            "Kitaifa      2000\n",
            "michezo      1720\n",
            "Biashara     1360\n",
            "Kimataifa      54\n",
            "Burudani       17\n",
            "Name: category, dtype: int64\n"
          ],
          "name": "stdout"
        },
        {
          "output_type": "execute_result",
          "data": {
            "text/plain": [
              "<matplotlib.axes._subplots.AxesSubplot at 0x7f7b8a941090>"
            ]
          },
          "metadata": {
            "tags": []
          },
          "execution_count": 51
        },
        {
          "output_type": "display_data",
          "data": {
            "image/png": "[encoded data removed]",
            "text/plain": [
              "<Figure size 432x288 with 1 Axes>"
            ]
          },
          "metadata": {
            "tags": [],
            "needs_background": "light"
          }
        }
      ]
    },
    {
      "cell_type": "markdown",
      "metadata": {
        "id": "99ZgLlEaLWoY"
      },
      "source": [
        "Pre-Processing"
      ]
    },
    {
      "cell_type": "code",
      "metadata": {
        "id": "gF9Ze6kCK1mp"
      },
      "source": [
        "#convert to lowercase, strip and remove punctuations\n",
        "def preprocess(text):\n",
        "    text = text.lower() \n",
        "    text=text.strip()  \n",
        "    text=re.compile('<.*?>').sub('', text) \n",
        "    text = re.compile('[%s]' % re.escape(string.punctuation)).sub(' ', text)  \n",
        "    text = re.sub('\\s+', ' ', text)  \n",
        "    text = re.sub(r'\\[[0-9]*\\]',' ',text) \n",
        "    text=re.sub(r'[^\\w\\s]', '', str(text).lower().strip())\n",
        "    text = re.sub(r'\\d',' ',text) \n",
        "    text = re.sub(r'\\s+',' ',text) \n",
        "    return text\n",
        "\n",
        " \n",
        "# STOPWORD REMOVAL\n",
        "def stopword(string):\n",
        "    a= [i for i in string.split() if i not in stop_words]\n",
        "    return ' '.join(a)"
      ],
      "execution_count": 52,
      "outputs": []
    },
    {
      "cell_type": "code",
      "metadata": {
        "id": "2bWjCQqSkYi_"
      },
      "source": [
        "def finalpreprocess(string):\n",
        "    return stopword(preprocess(string))"
      ],
      "execution_count": 53,
      "outputs": []
    },
    {
      "cell_type": "code",
      "metadata": {
        "id": "ghi7YWqkLoLz"
      },
      "source": [
        "df['clean_text'] = df['content'].apply(lambda x: finalpreprocess(x))"
      ],
      "execution_count": 54,
      "outputs": []
    },
    {
      "cell_type": "code",
      "metadata": {
        "colab": {
          "base_uri": "https://localhost:8080/",
          "height": 197
        },
        "id": "2y7iZRiuMz8k",
        "outputId": "20b9c28a-4960-4c3b-912e-79a0cbb53add"
      },
      "source": [
        "df.head()"
      ],
      "execution_count": 55,
      "outputs": [
        {
          "output_type": "execute_result",
          "data": {
            "text/html": [
              "<div>\n",
              "<style scoped>\n",
              "    .dataframe tbody tr th:only-of-type {\n",
              "        vertical-align: middle;\n",
              "    }\n",
              "\n",
              "    .dataframe tbody tr th {\n",
              "        vertical-align: top;\n",
              "    }\n",
              "\n",
              "    .dataframe thead th {\n",
              "        text-align: right;\n",
              "    }\n",
              "</style>\n",
              "<table border=\"1\" class=\"dataframe\">\n",
              "  <thead>\n",
              "    <tr style=\"text-align: right;\">\n",
              "      <th></th>\n",
              "      <th>id</th>\n",
              "      <th>content</th>\n",
              "      <th>category</th>\n",
              "      <th>clean_text</th>\n",
              "    </tr>\n",
              "  </thead>\n",
              "  <tbody>\n",
              "    <tr>\n",
              "      <th>0</th>\n",
              "      <td>SW0</td>\n",
              "      <td>SERIKALI imesema haitakuwa tayari kuona amani...</td>\n",
              "      <td>Kitaifa</td>\n",
              "      <td>serikali imesema haitakuwa tayari kuona amani ...</td>\n",
              "    </tr>\n",
              "    <tr>\n",
              "      <th>1</th>\n",
              "      <td>SW1</td>\n",
              "      <td>Mkuu wa Mkoa wa Tabora, Aggrey Mwanri amesiti...</td>\n",
              "      <td>Biashara</td>\n",
              "      <td>mkuu mkoa tabora aggrey mwanri amesitisha liki...</td>\n",
              "    </tr>\n",
              "    <tr>\n",
              "      <th>2</th>\n",
              "      <td>SW10</td>\n",
              "      <td>SERIKALI imetoa miezi sita kwa taasisi zote z...</td>\n",
              "      <td>Kitaifa</td>\n",
              "      <td>serikali imetoa miezi sita taasisi zote umma a...</td>\n",
              "    </tr>\n",
              "    <tr>\n",
              "      <th>3</th>\n",
              "      <td>SW100</td>\n",
              "      <td>KAMPUNI ya mchezo wa kubahatisha ya M-bet ime...</td>\n",
              "      <td>michezo</td>\n",
              "      <td>kampuni mchezo kubahatisha m bet imeingia maku...</td>\n",
              "    </tr>\n",
              "    <tr>\n",
              "      <th>4</th>\n",
              "      <td>SW1000</td>\n",
              "      <td>WATANZANIA wamekumbushwa kusherehekea sikukuu...</td>\n",
              "      <td>Kitaifa</td>\n",
              "      <td>watanzania wamekumbushwa kusherehekea sikukuu ...</td>\n",
              "    </tr>\n",
              "  </tbody>\n",
              "</table>\n",
              "</div>"
            ],
            "text/plain": [
              "       id  ...                                         clean_text\n",
              "0     SW0  ...  serikali imesema haitakuwa tayari kuona amani ...\n",
              "1     SW1  ...  mkuu mkoa tabora aggrey mwanri amesitisha liki...\n",
              "2    SW10  ...  serikali imetoa miezi sita taasisi zote umma a...\n",
              "3   SW100  ...  kampuni mchezo kubahatisha m bet imeingia maku...\n",
              "4  SW1000  ...  watanzania wamekumbushwa kusherehekea sikukuu ...\n",
              "\n",
              "[5 rows x 4 columns]"
            ]
          },
          "metadata": {
            "tags": []
          },
          "execution_count": 55
        }
      ]
    },
    {
      "cell_type": "markdown",
      "metadata": {
        "id": "nDBPfAHuM8Cj"
      },
      "source": [
        "Vectorization"
      ]
    },
    {
      "cell_type": "code",
      "metadata": {
        "id": "LGXcPHFzM98m"
      },
      "source": [
        "#Splitting the dataset into Train and Test 'groups'\n",
        "X_train, X_test, y_train, y_test = train_test_split(df[\"clean_text\"],df[\"category\"],test_size=0.2,shuffle=True)"
      ],
      "execution_count": 56,
      "outputs": []
    },
    {
      "cell_type": "code",
      "metadata": {
        "id": "xJNFrpDwObdx"
      },
      "source": [
        "#Tf-Idf Vectorization\n",
        "tfidf_vectorizer = TfidfVectorizer(use_idf=True)\n",
        "X_train_vectors_tfidf = tfidf_vectorizer.fit_transform(X_train) \n",
        "X_test_vectors_tfidf = tfidf_vectorizer.transform(X_test)"
      ],
      "execution_count": 57,
      "outputs": []
    },
    {
      "cell_type": "markdown",
      "metadata": {
        "id": "3vj2gHy4OrJ6"
      },
      "source": [
        "## Modeling"
      ]
    },
    {
      "cell_type": "markdown",
      "metadata": {
        "id": "1krrvKnXOvL9"
      },
      "source": [
        "Logical Regression"
      ]
    },
    {
      "cell_type": "code",
      "metadata": {
        "colab": {
          "base_uri": "https://localhost:8080/"
        },
        "id": "KS_ryei-Ofia",
        "outputId": "3dafb321-cbe3-4b35-a1f0-5e0440d4d892"
      },
      "source": [
        "#FITTING THE CLASSIFICATION MODEL using Logistic Regression(tf-idf)\n",
        "lr_tfidf=LogisticRegression(solver = 'liblinear', C=10, penalty = 'l2')\n",
        "lr_tfidf.fit(X_train_vectors_tfidf, y_train)  \n",
        "#Predict y value for test dataset\n",
        "y_predict = lr_tfidf.predict(X_test_vectors_tfidf)\n",
        "y_prob = lr_tfidf.predict_proba(X_test_vectors_tfidf)[:,1]\n",
        "print(classification_report(y_test,y_predict))\n",
        "print('Confusion Matrix:',confusion_matrix(y_test, y_predict))\n",
        " "
      ],
      "execution_count": 58,
      "outputs": [
        {
          "output_type": "stream",
          "text": [
            "              precision    recall  f1-score   support\n",
            "\n",
            "    Biashara       0.85      0.78      0.81       272\n",
            "    Burudani       0.00      0.00      0.00         1\n",
            "   Kimataifa       0.00      0.00      0.00        12\n",
            "     Kitaifa       0.82      0.88      0.85       411\n",
            "     michezo       0.96      0.97      0.96       335\n",
            "\n",
            "    accuracy                           0.87      1031\n",
            "   macro avg       0.53      0.53      0.53      1031\n",
            "weighted avg       0.86      0.87      0.87      1031\n",
            "\n",
            "Confusion Matrix: [[211   0   0  60   1]\n",
            " [  0   0   0   1   0]\n",
            " [  0   0   0  11   1]\n",
            " [ 36   0   0 363  12]\n",
            " [  0   0   0  10 325]]\n"
          ],
          "name": "stdout"
        }
      ]
    },
    {
      "cell_type": "markdown",
      "metadata": {
        "id": "Z-MSqR6JT6dR"
      },
      "source": [
        "Naive Bayes"
      ]
    },
    {
      "cell_type": "code",
      "metadata": {
        "colab": {
          "base_uri": "https://localhost:8080/"
        },
        "id": "0aDNCQXhPfDk",
        "outputId": "0727a0a7-c164-469c-d238-a05f10d2757e"
      },
      "source": [
        "#FITTING THE CLASSIFICATION MODEL using Naive Bayes(tf-idf)\n",
        "nb_tfidf = MultinomialNB()\n",
        "nb_tfidf.fit(X_train_vectors_tfidf, y_train)  \n",
        "#Predict y value for test dataset\n",
        "y_predict = nb_tfidf.predict(X_test_vectors_tfidf)\n",
        "y_prob = nb_tfidf.predict_proba(X_test_vectors_tfidf)[:,1]\n",
        "print(classification_report(y_test,y_predict))\n",
        "print('Confusion Matrix:',confusion_matrix(y_test, y_predict))\n",
        " "
      ],
      "execution_count": 59,
      "outputs": [
        {
          "output_type": "stream",
          "text": [
            "              precision    recall  f1-score   support\n",
            "\n",
            "    Biashara       0.91      0.39      0.55       272\n",
            "    Burudani       0.00      0.00      0.00         1\n",
            "   Kimataifa       0.00      0.00      0.00        12\n",
            "     Kitaifa       0.65      0.95      0.77       411\n",
            "     michezo       0.96      0.90      0.93       335\n",
            "\n",
            "    accuracy                           0.77      1031\n",
            "   macro avg       0.51      0.45      0.45      1031\n",
            "weighted avg       0.81      0.77      0.75      1031\n",
            "\n",
            "Confusion Matrix: [[106   0   0 166   0]\n",
            " [  0   0   0   1   0]\n",
            " [  0   0   0  11   1]\n",
            " [ 10   0   0 391  10]\n",
            " [  0   0   0  33 302]]\n"
          ],
          "name": "stdout"
        }
      ]
    },
    {
      "cell_type": "markdown",
      "metadata": {
        "id": "YehKxuRlUIY7"
      },
      "source": [
        "Creating Submission File"
      ]
    },
    {
      "cell_type": "code",
      "metadata": {
        "id": "jNn_qlEgUMD7"
      },
      "source": [
        "dftest = pd.read_csv('/content/drive/MyDrive/Colab Notebooks/NLP/Swahili/Test.csv')"
      ],
      "execution_count": 60,
      "outputs": []
    },
    {
      "cell_type": "code",
      "metadata": {
        "id": "hFz5mHx1UiNw"
      },
      "source": [
        "dftest['clean_text'] = dftest['content'].apply(lambda x: preprocess(x))"
      ],
      "execution_count": 61,
      "outputs": []
    },
    {
      "cell_type": "code",
      "metadata": {
        "id": "mXdm12KoU1ab"
      },
      "source": [
        "X_test2 = dftest['clean_text']"
      ],
      "execution_count": 62,
      "outputs": []
    },
    {
      "cell_type": "code",
      "metadata": {
        "id": "DWBicEGNVBGF"
      },
      "source": [
        "X_vector2 = tfidf_vectorizer.transform(X_test2)"
      ],
      "execution_count": 63,
      "outputs": []
    },
    {
      "cell_type": "code",
      "metadata": {
        "colab": {
          "base_uri": "https://localhost:8080/"
        },
        "id": "oVzhlz1fVEO-",
        "outputId": "c0af7a06-bb69-4bc9-83ed-86478cb82d96"
      },
      "source": [
        "#use the best model to predict 'target' value for the new dataset \n",
        "y_predict2 = lr_tfidf.predict(X_vector2)      \n",
        "y_prob2 = lr_tfidf.predict_proba(X_vector2)[:,1]\n",
        "dftest['predict_prob']= y_prob2\n",
        "dftest['category']= y_predict2\n",
        "final=dftest[['clean_text','category']].reset_index(drop=True)\n",
        "print(final.head())"
      ],
      "execution_count": 64,
      "outputs": [
        {
          "output_type": "stream",
          "text": [
            "                                          clean_text  category\n",
            "0  mkuu wa wilaya ya bahi mkoani dodoma mwanahami...   Kitaifa\n",
            "1  mwishoni mwa wiki hii timu ya soka ya taifa ta...   michezo\n",
            "2  thamani ya mauzo ya bidhaa za afrika mashariki...  Biashara\n",
            "3  meneja mawasiliano na utetezi wa asasi ya agpa...   Kitaifa\n",
            "4  waziri wa kilimo japhet hasunga amesema serika...   Kitaifa\n"
          ],
          "name": "stdout"
        }
      ]
    },
    {
      "cell_type": "code",
      "metadata": {
        "colab": {
          "base_uri": "https://localhost:8080/",
          "height": 406
        },
        "id": "lKvEG3KtdOC3",
        "outputId": "9a8c0158-dd5f-4efb-d1db-faf17b4d6054"
      },
      "source": [
        "dftest"
      ],
      "execution_count": 47,
      "outputs": [
        {
          "output_type": "execute_result",
          "data": {
            "text/html": [
              "<div>\n",
              "<style scoped>\n",
              "    .dataframe tbody tr th:only-of-type {\n",
              "        vertical-align: middle;\n",
              "    }\n",
              "\n",
              "    .dataframe tbody tr th {\n",
              "        vertical-align: top;\n",
              "    }\n",
              "\n",
              "    .dataframe thead th {\n",
              "        text-align: right;\n",
              "    }\n",
              "</style>\n",
              "<table border=\"1\" class=\"dataframe\">\n",
              "  <thead>\n",
              "    <tr style=\"text-align: right;\">\n",
              "      <th></th>\n",
              "      <th>swahili_id</th>\n",
              "      <th>content</th>\n",
              "      <th>clean_text</th>\n",
              "      <th>predict_prob</th>\n",
              "      <th>category</th>\n",
              "    </tr>\n",
              "  </thead>\n",
              "  <tbody>\n",
              "    <tr>\n",
              "      <th>0</th>\n",
              "      <td>001dd47ac202d9db6624a5ff734a5e7dddafeaf2</td>\n",
              "      <td>MKUU wa Wilaya ya Bahi, Mkoani Dodoma, Mwanah...</td>\n",
              "      <td>mkuu wa wilaya ya bahi mkoani dodoma mwanahami...</td>\n",
              "      <td>0.001092</td>\n",
              "      <td>Kitaifa</td>\n",
              "    </tr>\n",
              "    <tr>\n",
              "      <th>1</th>\n",
              "      <td>0043d97f7690e9bc02f0ed8bb2b260d1d44bad92</td>\n",
              "      <td>MWISHONI mwa wiki hii, Timu ya Soka ya Taifa,...</td>\n",
              "      <td>mwishoni mwa wiki hii timu ya soka ya taifa ta...</td>\n",
              "      <td>0.000383</td>\n",
              "      <td>michezo</td>\n",
              "    </tr>\n",
              "    <tr>\n",
              "      <th>2</th>\n",
              "      <td>00579c2307b5c11003d21c40c3ecff5e922c3fd8</td>\n",
              "      <td>THAMANI ya mauzo ya bidhaa za Afrika Masharik...</td>\n",
              "      <td>thamani ya mauzo ya bidhaa za afrika mashariki...</td>\n",
              "      <td>0.001436</td>\n",
              "      <td>Biashara</td>\n",
              "    </tr>\n",
              "    <tr>\n",
              "      <th>3</th>\n",
              "      <td>00868eeee349e286303706ef0ffd851f39708d37</td>\n",
              "      <td>MENEJA Mawasiliano na Utetezi wa asasi ya AGP...</td>\n",
              "      <td>meneja mawasiliano na utetezi wa asasi ya agpa...</td>\n",
              "      <td>0.003320</td>\n",
              "      <td>Kitaifa</td>\n",
              "    </tr>\n",
              "    <tr>\n",
              "      <th>4</th>\n",
              "      <td>00a5cb12d3058dcf2e42f277eee599992db32412</td>\n",
              "      <td>WAZIRI wa Kilimo, Japhet Hasunga amesema seri...</td>\n",
              "      <td>waziri wa kilimo japhet hasunga amesema serika...</td>\n",
              "      <td>0.002563</td>\n",
              "      <td>Kitaifa</td>\n",
              "    </tr>\n",
              "    <tr>\n",
              "      <th>...</th>\n",
              "      <td>...</td>\n",
              "      <td>...</td>\n",
              "      <td>...</td>\n",
              "      <td>...</td>\n",
              "      <td>...</td>\n",
              "    </tr>\n",
              "    <tr>\n",
              "      <th>1283</th>\n",
              "      <td>feb4b0ae88524c9cee3e50f2301d84a235f3c607</td>\n",
              "      <td>MKURUGENZI Msaidizi Msajili wa Asasi za kirai...</td>\n",
              "      <td>mkurugenzi msaidizi msajili wa asasi za kirai ...</td>\n",
              "      <td>0.001445</td>\n",
              "      <td>Kitaifa</td>\n",
              "    </tr>\n",
              "    <tr>\n",
              "      <th>1284</th>\n",
              "      <td>fecf3f14f47237e02721ed4baa4eb6c11abd239f</td>\n",
              "      <td>Kilomoni alisema jana kesho atazungumzia sual...</td>\n",
              "      <td>kilomoni alisema jana kesho atazungumzia suala...</td>\n",
              "      <td>0.001516</td>\n",
              "      <td>michezo</td>\n",
              "    </tr>\n",
              "    <tr>\n",
              "      <th>1285</th>\n",
              "      <td>feed09e13586d12139cd59bc20996a4d29706606</td>\n",
              "      <td>TIMU ya taifa ya soka ya Tanzania Bara, Kilim...</td>\n",
              "      <td>timu ya taifa ya soka ya tanzania bara kiliman...</td>\n",
              "      <td>0.000953</td>\n",
              "      <td>michezo</td>\n",
              "    </tr>\n",
              "    <tr>\n",
              "      <th>1286</th>\n",
              "      <td>ffc0bca6fde8fa0cce1ac3a7b0d746603d441bf8</td>\n",
              "      <td>YANGA imetozwa faini ya Sh 3,500,000 kutokana...</td>\n",
              "      <td>yanga imetozwa faini ya sh kutokana na makosa ...</td>\n",
              "      <td>0.000461</td>\n",
              "      <td>michezo</td>\n",
              "    </tr>\n",
              "    <tr>\n",
              "      <th>1287</th>\n",
              "      <td>fffdd6f356ed5b8dba21717f60c53f6520e650ab</td>\n",
              "      <td>MAHAKAMA Kuu Kanda ya Dar es Salaam imekubali...</td>\n",
              "      <td>mahakama kuu kanda ya dar es salaam imekubalia...</td>\n",
              "      <td>0.001138</td>\n",
              "      <td>Kitaifa</td>\n",
              "    </tr>\n",
              "  </tbody>\n",
              "</table>\n",
              "<p>1288 rows × 5 columns</p>\n",
              "</div>"
            ],
            "text/plain": [
              "                                    swahili_id  ...  category\n",
              "0     001dd47ac202d9db6624a5ff734a5e7dddafeaf2  ...   Kitaifa\n",
              "1     0043d97f7690e9bc02f0ed8bb2b260d1d44bad92  ...   michezo\n",
              "2     00579c2307b5c11003d21c40c3ecff5e922c3fd8  ...  Biashara\n",
              "3     00868eeee349e286303706ef0ffd851f39708d37  ...   Kitaifa\n",
              "4     00a5cb12d3058dcf2e42f277eee599992db32412  ...   Kitaifa\n",
              "...                                        ...  ...       ...\n",
              "1283  feb4b0ae88524c9cee3e50f2301d84a235f3c607  ...   Kitaifa\n",
              "1284  fecf3f14f47237e02721ed4baa4eb6c11abd239f  ...   michezo\n",
              "1285  feed09e13586d12139cd59bc20996a4d29706606  ...   michezo\n",
              "1286  ffc0bca6fde8fa0cce1ac3a7b0d746603d441bf8  ...   michezo\n",
              "1287  fffdd6f356ed5b8dba21717f60c53f6520e650ab  ...   Kitaifa\n",
              "\n",
              "[1288 rows x 5 columns]"
            ]
          },
          "metadata": {
            "tags": []
          },
          "execution_count": 47
        }
      ]
    },
    {
      "cell_type": "code",
      "metadata": {
        "colab": {
          "base_uri": "https://localhost:8080/"
        },
        "id": "zOht_vupcNTJ",
        "outputId": "99f0c710-f4bf-4b86-d83f-0acab52d459c"
      },
      "source": [
        "type(final)"
      ],
      "execution_count": 46,
      "outputs": [
        {
          "output_type": "execute_result",
          "data": {
            "text/plain": [
              "pandas.core.frame.DataFrame"
            ]
          },
          "metadata": {
            "tags": []
          },
          "execution_count": 46
        }
      ]
    }
  ]
}