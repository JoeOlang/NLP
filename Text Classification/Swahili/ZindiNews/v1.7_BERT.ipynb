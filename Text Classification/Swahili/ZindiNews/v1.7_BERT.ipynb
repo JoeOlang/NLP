{
  "nbformat": 4,
  "nbformat_minor": 0,
  "metadata": {
    "colab": {
      "name": "classify.ipynb",
      "provenance": [],
      "collapsed_sections": [],
      "mount_file_id": "16aQA_FtTTAolKkx5JZ3UC4qBVa1mgCEg",
      "authorship_tag": "ABX9TyMpVuuzpa5ZLSBGu0CAZVMx",
      "include_colab_link": true
    },
    "kernelspec": {
      "name": "python3",
      "display_name": "Python 3"
    },
    "language_info": {
      "name": "python"
    },
    "accelerator": "GPU",
    "widgets": {
      "application/vnd.jupyter.widget-state+json": {
        "c0b4a4e49e744378a0192ef57f4c016f": {
          "model_module": "@jupyter-widgets/controls",
          "model_name": "HBoxModel",
          "state": {
            "_view_name": "HBoxView",
            "_dom_classes": [],
            "_model_name": "HBoxModel",
            "_view_module": "@jupyter-widgets/controls",
            "_model_module_version": "1.5.0",
            "_view_count": null,
            "_view_module_version": "1.5.0",
            "box_style": "",
            "layout": "IPY_MODEL_e29f50c9af8a4d94a3b64477f9c136e6",
            "_model_module": "@jupyter-widgets/controls",
            "children": [
              "IPY_MODEL_96898aa4da204687bfef0f770545f56a",
              "IPY_MODEL_4f2a929729744091b4749c3fb84027ef"
            ]
          }
        },
        "e29f50c9af8a4d94a3b64477f9c136e6": {
          "model_module": "@jupyter-widgets/base",
          "model_name": "LayoutModel",
          "state": {
            "_view_name": "LayoutView",
            "grid_template_rows": null,
            "right": null,
            "justify_content": null,
            "_view_module": "@jupyter-widgets/base",
            "overflow": null,
            "_model_module_version": "1.2.0",
            "_view_count": null,
            "flex_flow": null,
            "width": null,
            "min_width": null,
            "border": null,
            "align_items": null,
            "bottom": null,
            "_model_module": "@jupyter-widgets/base",
            "top": null,
            "grid_column": null,
            "overflow_y": null,
            "overflow_x": null,
            "grid_auto_flow": null,
            "grid_area": null,
            "grid_template_columns": null,
            "flex": null,
            "_model_name": "LayoutModel",
            "justify_items": null,
            "grid_row": null,
            "max_height": null,
            "align_content": null,
            "visibility": null,
            "align_self": null,
            "height": null,
            "min_height": null,
            "padding": null,
            "grid_auto_rows": null,
            "grid_gap": null,
            "max_width": null,
            "order": null,
            "_view_module_version": "1.2.0",
            "grid_template_areas": null,
            "object_position": null,
            "object_fit": null,
            "grid_auto_columns": null,
            "margin": null,
            "display": null,
            "left": null
          }
        },
        "96898aa4da204687bfef0f770545f56a": {
          "model_module": "@jupyter-widgets/controls",
          "model_name": "FloatProgressModel",
          "state": {
            "_view_name": "ProgressView",
            "style": "IPY_MODEL_09da36f1ecfb493da2d0d5b829b96fb3",
            "_dom_classes": [],
            "description": "Downloading: 100%",
            "_model_name": "FloatProgressModel",
            "bar_style": "success",
            "max": 625,
            "_view_module": "@jupyter-widgets/controls",
            "_model_module_version": "1.5.0",
            "value": 625,
            "_view_count": null,
            "_view_module_version": "1.5.0",
            "orientation": "horizontal",
            "min": 0,
            "description_tooltip": null,
            "_model_module": "@jupyter-widgets/controls",
            "layout": "IPY_MODEL_5c8af0e22f95474eb679fb6d730980b2"
          }
        },
        "4f2a929729744091b4749c3fb84027ef": {
          "model_module": "@jupyter-widgets/controls",
          "model_name": "HTMLModel",
          "state": {
            "_view_name": "HTMLView",
            "style": "IPY_MODEL_b967b788554148ee88760792d88312cd",
            "_dom_classes": [],
            "description": "",
            "_model_name": "HTMLModel",
            "placeholder": "​",
            "_view_module": "@jupyter-widgets/controls",
            "_model_module_version": "1.5.0",
            "value": " 625/625 [01:01&lt;00:00, 10.2B/s]",
            "_view_count": null,
            "_view_module_version": "1.5.0",
            "description_tooltip": null,
            "_model_module": "@jupyter-widgets/controls",
            "layout": "IPY_MODEL_e816e9d65d4844438fcf854c04033b79"
          }
        },
        "09da36f1ecfb493da2d0d5b829b96fb3": {
          "model_module": "@jupyter-widgets/controls",
          "model_name": "ProgressStyleModel",
          "state": {
            "_view_name": "StyleView",
            "_model_name": "ProgressStyleModel",
            "description_width": "initial",
            "_view_module": "@jupyter-widgets/base",
            "_model_module_version": "1.5.0",
            "_view_count": null,
            "_view_module_version": "1.2.0",
            "bar_color": null,
            "_model_module": "@jupyter-widgets/controls"
          }
        },
        "5c8af0e22f95474eb679fb6d730980b2": {
          "model_module": "@jupyter-widgets/base",
          "model_name": "LayoutModel",
          "state": {
            "_view_name": "LayoutView",
            "grid_template_rows": null,
            "right": null,
            "justify_content": null,
            "_view_module": "@jupyter-widgets/base",
            "overflow": null,
            "_model_module_version": "1.2.0",
            "_view_count": null,
            "flex_flow": null,
            "width": null,
            "min_width": null,
            "border": null,
            "align_items": null,
            "bottom": null,
            "_model_module": "@jupyter-widgets/base",
            "top": null,
            "grid_column": null,
            "overflow_y": null,
            "overflow_x": null,
            "grid_auto_flow": null,
            "grid_area": null,
            "grid_template_columns": null,
            "flex": null,
            "_model_name": "LayoutModel",
            "justify_items": null,
            "grid_row": null,
            "max_height": null,
            "align_content": null,
            "visibility": null,
            "align_self": null,
            "height": null,
            "min_height": null,
            "padding": null,
            "grid_auto_rows": null,
            "grid_gap": null,
            "max_width": null,
            "order": null,
            "_view_module_version": "1.2.0",
            "grid_template_areas": null,
            "object_position": null,
            "object_fit": null,
            "grid_auto_columns": null,
            "margin": null,
            "display": null,
            "left": null
          }
        },
        "b967b788554148ee88760792d88312cd": {
          "model_module": "@jupyter-widgets/controls",
          "model_name": "DescriptionStyleModel",
          "state": {
            "_view_name": "StyleView",
            "_model_name": "DescriptionStyleModel",
            "description_width": "",
            "_view_module": "@jupyter-widgets/base",
            "_model_module_version": "1.5.0",
            "_view_count": null,
            "_view_module_version": "1.2.0",
            "_model_module": "@jupyter-widgets/controls"
          }
        },
        "e816e9d65d4844438fcf854c04033b79": {
          "model_module": "@jupyter-widgets/base",
          "model_name": "LayoutModel",
          "state": {
            "_view_name": "LayoutView",
            "grid_template_rows": null,
            "right": null,
            "justify_content": null,
            "_view_module": "@jupyter-widgets/base",
            "overflow": null,
            "_model_module_version": "1.2.0",
            "_view_count": null,
            "flex_flow": null,
            "width": null,
            "min_width": null,
            "border": null,
            "align_items": null,
            "bottom": null,
            "_model_module": "@jupyter-widgets/base",
            "top": null,
            "grid_column": null,
            "overflow_y": null,
            "overflow_x": null,
            "grid_auto_flow": null,
            "grid_area": null,
            "grid_template_columns": null,
            "flex": null,
            "_model_name": "LayoutModel",
            "justify_items": null,
            "grid_row": null,
            "max_height": null,
            "align_content": null,
            "visibility": null,
            "align_self": null,
            "height": null,
            "min_height": null,
            "padding": null,
            "grid_auto_rows": null,
            "grid_gap": null,
            "max_width": null,
            "order": null,
            "_view_module_version": "1.2.0",
            "grid_template_areas": null,
            "object_position": null,
            "object_fit": null,
            "grid_auto_columns": null,
            "margin": null,
            "display": null,
            "left": null
          }
        },
        "ebd7430486e24633a0d7d605f4e1c6d9": {
          "model_module": "@jupyter-widgets/controls",
          "model_name": "HBoxModel",
          "state": {
            "_view_name": "HBoxView",
            "_dom_classes": [],
            "_model_name": "HBoxModel",
            "_view_module": "@jupyter-widgets/controls",
            "_model_module_version": "1.5.0",
            "_view_count": null,
            "_view_module_version": "1.5.0",
            "box_style": "",
            "layout": "IPY_MODEL_5ba246c33a8d47ba8f90f33f7dadbc19",
            "_model_module": "@jupyter-widgets/controls",
            "children": [
              "IPY_MODEL_f5a566ca7d1142a4a831de6d19cd0ed3",
              "IPY_MODEL_07d87e6dcdf842bdb3c2c7bf7a598815"
            ]
          }
        },
        "5ba246c33a8d47ba8f90f33f7dadbc19": {
          "model_module": "@jupyter-widgets/base",
          "model_name": "LayoutModel",
          "state": {
            "_view_name": "LayoutView",
            "grid_template_rows": null,
            "right": null,
            "justify_content": null,
            "_view_module": "@jupyter-widgets/base",
            "overflow": null,
            "_model_module_version": "1.2.0",
            "_view_count": null,
            "flex_flow": null,
            "width": null,
            "min_width": null,
            "border": null,
            "align_items": null,
            "bottom": null,
            "_model_module": "@jupyter-widgets/base",
            "top": null,
            "grid_column": null,
            "overflow_y": null,
            "overflow_x": null,
            "grid_auto_flow": null,
            "grid_area": null,
            "grid_template_columns": null,
            "flex": null,
            "_model_name": "LayoutModel",
            "justify_items": null,
            "grid_row": null,
            "max_height": null,
            "align_content": null,
            "visibility": null,
            "align_self": null,
            "height": null,
            "min_height": null,
            "padding": null,
            "grid_auto_rows": null,
            "grid_gap": null,
            "max_width": null,
            "order": null,
            "_view_module_version": "1.2.0",
            "grid_template_areas": null,
            "object_position": null,
            "object_fit": null,
            "grid_auto_columns": null,
            "margin": null,
            "display": null,
            "left": null
          }
        },
        "f5a566ca7d1142a4a831de6d19cd0ed3": {
          "model_module": "@jupyter-widgets/controls",
          "model_name": "FloatProgressModel",
          "state": {
            "_view_name": "ProgressView",
            "style": "IPY_MODEL_b0fe2f1c0b324a3d8c550132498d8ba8",
            "_dom_classes": [],
            "description": "Downloading: 100%",
            "_model_name": "FloatProgressModel",
            "bar_style": "success",
            "max": 871891,
            "_view_module": "@jupyter-widgets/controls",
            "_model_module_version": "1.5.0",
            "value": 871891,
            "_view_count": null,
            "_view_module_version": "1.5.0",
            "orientation": "horizontal",
            "min": 0,
            "description_tooltip": null,
            "_model_module": "@jupyter-widgets/controls",
            "layout": "IPY_MODEL_514072a2ab424274bf988c8362630da0"
          }
        },
        "07d87e6dcdf842bdb3c2c7bf7a598815": {
          "model_module": "@jupyter-widgets/controls",
          "model_name": "HTMLModel",
          "state": {
            "_view_name": "HTMLView",
            "style": "IPY_MODEL_743857ae18d544ab94db4538c8181df9",
            "_dom_classes": [],
            "description": "",
            "_model_name": "HTMLModel",
            "placeholder": "​",
            "_view_module": "@jupyter-widgets/controls",
            "_model_module_version": "1.5.0",
            "value": " 872k/872k [00:00&lt;00:00, 1.06MB/s]",
            "_view_count": null,
            "_view_module_version": "1.5.0",
            "description_tooltip": null,
            "_model_module": "@jupyter-widgets/controls",
            "layout": "IPY_MODEL_2f1ce1e9f6604119897b9af731688be7"
          }
        },
        "b0fe2f1c0b324a3d8c550132498d8ba8": {
          "model_module": "@jupyter-widgets/controls",
          "model_name": "ProgressStyleModel",
          "state": {
            "_view_name": "StyleView",
            "_model_name": "ProgressStyleModel",
            "description_width": "initial",
            "_view_module": "@jupyter-widgets/base",
            "_model_module_version": "1.5.0",
            "_view_count": null,
            "_view_module_version": "1.2.0",
            "bar_color": null,
            "_model_module": "@jupyter-widgets/controls"
          }
        },
        "514072a2ab424274bf988c8362630da0": {
          "model_module": "@jupyter-widgets/base",
          "model_name": "LayoutModel",
          "state": {
            "_view_name": "LayoutView",
            "grid_template_rows": null,
            "right": null,
            "justify_content": null,
            "_view_module": "@jupyter-widgets/base",
            "overflow": null,
            "_model_module_version": "1.2.0",
            "_view_count": null,
            "flex_flow": null,
            "width": null,
            "min_width": null,
            "border": null,
            "align_items": null,
            "bottom": null,
            "_model_module": "@jupyter-widgets/base",
            "top": null,
            "grid_column": null,
            "overflow_y": null,
            "overflow_x": null,
            "grid_auto_flow": null,
            "grid_area": null,
            "grid_template_columns": null,
            "flex": null,
            "_model_name": "LayoutModel",
            "justify_items": null,
            "grid_row": null,
            "max_height": null,
            "align_content": null,
            "visibility": null,
            "align_self": null,
            "height": null,
            "min_height": null,
            "padding": null,
            "grid_auto_rows": null,
            "grid_gap": null,
            "max_width": null,
            "order": null,
            "_view_module_version": "1.2.0",
            "grid_template_areas": null,
            "object_position": null,
            "object_fit": null,
            "grid_auto_columns": null,
            "margin": null,
            "display": null,
            "left": null
          }
        },
        "743857ae18d544ab94db4538c8181df9": {
          "model_module": "@jupyter-widgets/controls",
          "model_name": "DescriptionStyleModel",
          "state": {
            "_view_name": "StyleView",
            "_model_name": "DescriptionStyleModel",
            "description_width": "",
            "_view_module": "@jupyter-widgets/base",
            "_model_module_version": "1.5.0",
            "_view_count": null,
            "_view_module_version": "1.2.0",
            "_model_module": "@jupyter-widgets/controls"
          }
        },
        "2f1ce1e9f6604119897b9af731688be7": {
          "model_module": "@jupyter-widgets/base",
          "model_name": "LayoutModel",
          "state": {
            "_view_name": "LayoutView",
            "grid_template_rows": null,
            "right": null,
            "justify_content": null,
            "_view_module": "@jupyter-widgets/base",
            "overflow": null,
            "_model_module_version": "1.2.0",
            "_view_count": null,
            "flex_flow": null,
            "width": null,
            "min_width": null,
            "border": null,
            "align_items": null,
            "bottom": null,
            "_model_module": "@jupyter-widgets/base",
            "top": null,
            "grid_column": null,
            "overflow_y": null,
            "overflow_x": null,
            "grid_auto_flow": null,
            "grid_area": null,
            "grid_template_columns": null,
            "flex": null,
            "_model_name": "LayoutModel",
            "justify_items": null,
            "grid_row": null,
            "max_height": null,
            "align_content": null,
            "visibility": null,
            "align_self": null,
            "height": null,
            "min_height": null,
            "padding": null,
            "grid_auto_rows": null,
            "grid_gap": null,
            "max_width": null,
            "order": null,
            "_view_module_version": "1.2.0",
            "grid_template_areas": null,
            "object_position": null,
            "object_fit": null,
            "grid_auto_columns": null,
            "margin": null,
            "display": null,
            "left": null
          }
        },
        "6c8a48ae0cdf4c5394b5e84323ba684a": {
          "model_module": "@jupyter-widgets/controls",
          "model_name": "HBoxModel",
          "state": {
            "_view_name": "HBoxView",
            "_dom_classes": [],
            "_model_name": "HBoxModel",
            "_view_module": "@jupyter-widgets/controls",
            "_model_module_version": "1.5.0",
            "_view_count": null,
            "_view_module_version": "1.5.0",
            "box_style": "",
            "layout": "IPY_MODEL_9c660a08a1f340c7986e265b6f3eecca",
            "_model_module": "@jupyter-widgets/controls",
            "children": [
              "IPY_MODEL_496d512b1c9d4c75979766ab0ab4c661",
              "IPY_MODEL_879f45c1cc8241f8b02e3da7321f9e18"
            ]
          }
        },
        "9c660a08a1f340c7986e265b6f3eecca": {
          "model_module": "@jupyter-widgets/base",
          "model_name": "LayoutModel",
          "state": {
            "_view_name": "LayoutView",
            "grid_template_rows": null,
            "right": null,
            "justify_content": null,
            "_view_module": "@jupyter-widgets/base",
            "overflow": null,
            "_model_module_version": "1.2.0",
            "_view_count": null,
            "flex_flow": null,
            "width": null,
            "min_width": null,
            "border": null,
            "align_items": null,
            "bottom": null,
            "_model_module": "@jupyter-widgets/base",
            "top": null,
            "grid_column": null,
            "overflow_y": null,
            "overflow_x": null,
            "grid_auto_flow": null,
            "grid_area": null,
            "grid_template_columns": null,
            "flex": null,
            "_model_name": "LayoutModel",
            "justify_items": null,
            "grid_row": null,
            "max_height": null,
            "align_content": null,
            "visibility": null,
            "align_self": null,
            "height": null,
            "min_height": null,
            "padding": null,
            "grid_auto_rows": null,
            "grid_gap": null,
            "max_width": null,
            "order": null,
            "_view_module_version": "1.2.0",
            "grid_template_areas": null,
            "object_position": null,
            "object_fit": null,
            "grid_auto_columns": null,
            "margin": null,
            "display": null,
            "left": null
          }
        },
        "496d512b1c9d4c75979766ab0ab4c661": {
          "model_module": "@jupyter-widgets/controls",
          "model_name": "FloatProgressModel",
          "state": {
            "_view_name": "ProgressView",
            "style": "IPY_MODEL_d51f114ae07c43afb8be6ed30a23a19c",
            "_dom_classes": [],
            "description": "Downloading: 100%",
            "_model_name": "FloatProgressModel",
            "bar_style": "success",
            "max": 1715180,
            "_view_module": "@jupyter-widgets/controls",
            "_model_module_version": "1.5.0",
            "value": 1715180,
            "_view_count": null,
            "_view_module_version": "1.5.0",
            "orientation": "horizontal",
            "min": 0,
            "description_tooltip": null,
            "_model_module": "@jupyter-widgets/controls",
            "layout": "IPY_MODEL_385b38f6c60c4d8b8d2a31d8a93a6107"
          }
        },
        "879f45c1cc8241f8b02e3da7321f9e18": {
          "model_module": "@jupyter-widgets/controls",
          "model_name": "HTMLModel",
          "state": {
            "_view_name": "HTMLView",
            "style": "IPY_MODEL_d5051c68128645b8867342203cd06cf8",
            "_dom_classes": [],
            "description": "",
            "_model_name": "HTMLModel",
            "placeholder": "​",
            "_view_module": "@jupyter-widgets/controls",
            "_model_module_version": "1.5.0",
            "value": " 1.72M/1.72M [00:06&lt;00:00, 282kB/s]",
            "_view_count": null,
            "_view_module_version": "1.5.0",
            "description_tooltip": null,
            "_model_module": "@jupyter-widgets/controls",
            "layout": "IPY_MODEL_60b45bfee2a04af19dd2e2bcbc46b337"
          }
        },
        "d51f114ae07c43afb8be6ed30a23a19c": {
          "model_module": "@jupyter-widgets/controls",
          "model_name": "ProgressStyleModel",
          "state": {
            "_view_name": "StyleView",
            "_model_name": "ProgressStyleModel",
            "description_width": "initial",
            "_view_module": "@jupyter-widgets/base",
            "_model_module_version": "1.5.0",
            "_view_count": null,
            "_view_module_version": "1.2.0",
            "bar_color": null,
            "_model_module": "@jupyter-widgets/controls"
          }
        },
        "385b38f6c60c4d8b8d2a31d8a93a6107": {
          "model_module": "@jupyter-widgets/base",
          "model_name": "LayoutModel",
          "state": {
            "_view_name": "LayoutView",
            "grid_template_rows": null,
            "right": null,
            "justify_content": null,
            "_view_module": "@jupyter-widgets/base",
            "overflow": null,
            "_model_module_version": "1.2.0",
            "_view_count": null,
            "flex_flow": null,
            "width": null,
            "min_width": null,
            "border": null,
            "align_items": null,
            "bottom": null,
            "_model_module": "@jupyter-widgets/base",
            "top": null,
            "grid_column": null,
            "overflow_y": null,
            "overflow_x": null,
            "grid_auto_flow": null,
            "grid_area": null,
            "grid_template_columns": null,
            "flex": null,
            "_model_name": "LayoutModel",
            "justify_items": null,
            "grid_row": null,
            "max_height": null,
            "align_content": null,
            "visibility": null,
            "align_self": null,
            "height": null,
            "min_height": null,
            "padding": null,
            "grid_auto_rows": null,
            "grid_gap": null,
            "max_width": null,
            "order": null,
            "_view_module_version": "1.2.0",
            "grid_template_areas": null,
            "object_position": null,
            "object_fit": null,
            "grid_auto_columns": null,
            "margin": null,
            "display": null,
            "left": null
          }
        },
        "d5051c68128645b8867342203cd06cf8": {
          "model_module": "@jupyter-widgets/controls",
          "model_name": "DescriptionStyleModel",
          "state": {
            "_view_name": "StyleView",
            "_model_name": "DescriptionStyleModel",
            "description_width": "",
            "_view_module": "@jupyter-widgets/base",
            "_model_module_version": "1.5.0",
            "_view_count": null,
            "_view_module_version": "1.2.0",
            "_model_module": "@jupyter-widgets/controls"
          }
        },
        "60b45bfee2a04af19dd2e2bcbc46b337": {
          "model_module": "@jupyter-widgets/base",
          "model_name": "LayoutModel",
          "state": {
            "_view_name": "LayoutView",
            "grid_template_rows": null,
            "right": null,
            "justify_content": null,
            "_view_module": "@jupyter-widgets/base",
            "overflow": null,
            "_model_module_version": "1.2.0",
            "_view_count": null,
            "flex_flow": null,
            "width": null,
            "min_width": null,
            "border": null,
            "align_items": null,
            "bottom": null,
            "_model_module": "@jupyter-widgets/base",
            "top": null,
            "grid_column": null,
            "overflow_y": null,
            "overflow_x": null,
            "grid_auto_flow": null,
            "grid_area": null,
            "grid_template_columns": null,
            "flex": null,
            "_model_name": "LayoutModel",
            "justify_items": null,
            "grid_row": null,
            "max_height": null,
            "align_content": null,
            "visibility": null,
            "align_self": null,
            "height": null,
            "min_height": null,
            "padding": null,
            "grid_auto_rows": null,
            "grid_gap": null,
            "max_width": null,
            "order": null,
            "_view_module_version": "1.2.0",
            "grid_template_areas": null,
            "object_position": null,
            "object_fit": null,
            "grid_auto_columns": null,
            "margin": null,
            "display": null,
            "left": null
          }
        },
        "cdc00df427c1426e99b32edce2a31e93": {
          "model_module": "@jupyter-widgets/controls",
          "model_name": "HBoxModel",
          "state": {
            "_view_name": "HBoxView",
            "_dom_classes": [],
            "_model_name": "HBoxModel",
            "_view_module": "@jupyter-widgets/controls",
            "_model_module_version": "1.5.0",
            "_view_count": null,
            "_view_module_version": "1.5.0",
            "box_style": "",
            "layout": "IPY_MODEL_ca70071538c2400b85208c2ecd7c6628",
            "_model_module": "@jupyter-widgets/controls",
            "children": [
              "IPY_MODEL_9423eca72c854cd79cf48f455f2b29dd",
              "IPY_MODEL_49a58bf4cddf4e83ab1a32925db56557"
            ]
          }
        },
        "ca70071538c2400b85208c2ecd7c6628": {
          "model_module": "@jupyter-widgets/base",
          "model_name": "LayoutModel",
          "state": {
            "_view_name": "LayoutView",
            "grid_template_rows": null,
            "right": null,
            "justify_content": null,
            "_view_module": "@jupyter-widgets/base",
            "overflow": null,
            "_model_module_version": "1.2.0",
            "_view_count": null,
            "flex_flow": null,
            "width": null,
            "min_width": null,
            "border": null,
            "align_items": null,
            "bottom": null,
            "_model_module": "@jupyter-widgets/base",
            "top": null,
            "grid_column": null,
            "overflow_y": null,
            "overflow_x": null,
            "grid_auto_flow": null,
            "grid_area": null,
            "grid_template_columns": null,
            "flex": null,
            "_model_name": "LayoutModel",
            "justify_items": null,
            "grid_row": null,
            "max_height": null,
            "align_content": null,
            "visibility": null,
            "align_self": null,
            "height": null,
            "min_height": null,
            "padding": null,
            "grid_auto_rows": null,
            "grid_gap": null,
            "max_width": null,
            "order": null,
            "_view_module_version": "1.2.0",
            "grid_template_areas": null,
            "object_position": null,
            "object_fit": null,
            "grid_auto_columns": null,
            "margin": null,
            "display": null,
            "left": null
          }
        },
        "9423eca72c854cd79cf48f455f2b29dd": {
          "model_module": "@jupyter-widgets/controls",
          "model_name": "FloatProgressModel",
          "state": {
            "_view_name": "ProgressView",
            "style": "IPY_MODEL_0983299bf72a4132aea94ca634db64d7",
            "_dom_classes": [],
            "description": "Downloading: 100%",
            "_model_name": "FloatProgressModel",
            "bar_style": "success",
            "max": 999358484,
            "_view_module": "@jupyter-widgets/controls",
            "_model_module_version": "1.5.0",
            "value": 999358484,
            "_view_count": null,
            "_view_module_version": "1.5.0",
            "orientation": "horizontal",
            "min": 0,
            "description_tooltip": null,
            "_model_module": "@jupyter-widgets/controls",
            "layout": "IPY_MODEL_b948924ace1e44aaa9b212942de01248"
          }
        },
        "49a58bf4cddf4e83ab1a32925db56557": {
          "model_module": "@jupyter-widgets/controls",
          "model_name": "HTMLModel",
          "state": {
            "_view_name": "HTMLView",
            "style": "IPY_MODEL_3d66fb11a1f04b1ea709c65d780ba18e",
            "_dom_classes": [],
            "description": "",
            "_model_name": "HTMLModel",
            "placeholder": "​",
            "_view_module": "@jupyter-widgets/controls",
            "_model_module_version": "1.5.0",
            "value": " 999M/999M [00:29&lt;00:00, 34.3MB/s]",
            "_view_count": null,
            "_view_module_version": "1.5.0",
            "description_tooltip": null,
            "_model_module": "@jupyter-widgets/controls",
            "layout": "IPY_MODEL_88fb4a4b56614a7aa87a620f56b5ae37"
          }
        },
        "0983299bf72a4132aea94ca634db64d7": {
          "model_module": "@jupyter-widgets/controls",
          "model_name": "ProgressStyleModel",
          "state": {
            "_view_name": "StyleView",
            "_model_name": "ProgressStyleModel",
            "description_width": "initial",
            "_view_module": "@jupyter-widgets/base",
            "_model_module_version": "1.5.0",
            "_view_count": null,
            "_view_module_version": "1.2.0",
            "bar_color": null,
            "_model_module": "@jupyter-widgets/controls"
          }
        },
        "b948924ace1e44aaa9b212942de01248": {
          "model_module": "@jupyter-widgets/base",
          "model_name": "LayoutModel",
          "state": {
            "_view_name": "LayoutView",
            "grid_template_rows": null,
            "right": null,
            "justify_content": null,
            "_view_module": "@jupyter-widgets/base",
            "overflow": null,
            "_model_module_version": "1.2.0",
            "_view_count": null,
            "flex_flow": null,
            "width": null,
            "min_width": null,
            "border": null,
            "align_items": null,
            "bottom": null,
            "_model_module": "@jupyter-widgets/base",
            "top": null,
            "grid_column": null,
            "overflow_y": null,
            "overflow_x": null,
            "grid_auto_flow": null,
            "grid_area": null,
            "grid_template_columns": null,
            "flex": null,
            "_model_name": "LayoutModel",
            "justify_items": null,
            "grid_row": null,
            "max_height": null,
            "align_content": null,
            "visibility": null,
            "align_self": null,
            "height": null,
            "min_height": null,
            "padding": null,
            "grid_auto_rows": null,
            "grid_gap": null,
            "max_width": null,
            "order": null,
            "_view_module_version": "1.2.0",
            "grid_template_areas": null,
            "object_position": null,
            "object_fit": null,
            "grid_auto_columns": null,
            "margin": null,
            "display": null,
            "left": null
          }
        },
        "3d66fb11a1f04b1ea709c65d780ba18e": {
          "model_module": "@jupyter-widgets/controls",
          "model_name": "DescriptionStyleModel",
          "state": {
            "_view_name": "StyleView",
            "_model_name": "DescriptionStyleModel",
            "description_width": "",
            "_view_module": "@jupyter-widgets/base",
            "_model_module_version": "1.5.0",
            "_view_count": null,
            "_view_module_version": "1.2.0",
            "_model_module": "@jupyter-widgets/controls"
          }
        },
        "88fb4a4b56614a7aa87a620f56b5ae37": {
          "model_module": "@jupyter-widgets/base",
          "model_name": "LayoutModel",
          "state": {
            "_view_name": "LayoutView",
            "grid_template_rows": null,
            "right": null,
            "justify_content": null,
            "_view_module": "@jupyter-widgets/base",
            "overflow": null,
            "_model_module_version": "1.2.0",
            "_view_count": null,
            "flex_flow": null,
            "width": null,
            "min_width": null,
            "border": null,
            "align_items": null,
            "bottom": null,
            "_model_module": "@jupyter-widgets/base",
            "top": null,
            "grid_column": null,
            "overflow_y": null,
            "overflow_x": null,
            "grid_auto_flow": null,
            "grid_area": null,
            "grid_template_columns": null,
            "flex": null,
            "_model_name": "LayoutModel",
            "justify_items": null,
            "grid_row": null,
            "max_height": null,
            "align_content": null,
            "visibility": null,
            "align_self": null,
            "height": null,
            "min_height": null,
            "padding": null,
            "grid_auto_rows": null,
            "grid_gap": null,
            "max_width": null,
            "order": null,
            "_view_module_version": "1.2.0",
            "grid_template_areas": null,
            "object_position": null,
            "object_fit": null,
            "grid_auto_columns": null,
            "margin": null,
            "display": null,
            "left": null
          }
        }
      }
    }
  },
  "cells": [
    {
      "cell_type": "markdown",
      "metadata": {
        "id": "view-in-github",
        "colab_type": "text"
      },
      "source": [
        "<a href=\"https://colab.research.google.com/github/JoeOlang/NLP/blob/gh-pages/Text%20Classification/Swahili/ZindiNews/v1.7_BERT.ipynb\" target=\"_parent\"><img src=\"https://colab.research.google.com/assets/colab-badge.svg\" alt=\"Open In Colab\"/></a>"
      ]
    },
    {
      "cell_type": "code",
      "metadata": {
        "colab": {
          "base_uri": "https://localhost:8080/"
        },
        "id": "H1X1Sye9qYcG",
        "outputId": "8f73ec55-6e75-4338-bf82-852602a13974"
      },
      "source": [
        "import nltk\n",
        "nltk.download('punkt')"
      ],
      "execution_count": 1,
      "outputs": [
        {
          "output_type": "stream",
          "text": [
            "[nltk_data] Downloading package punkt to /root/nltk_data...\n",
            "[nltk_data]   Unzipping tokenizers/punkt.zip.\n"
          ],
          "name": "stdout"
        },
        {
          "output_type": "execute_result",
          "data": {
            "text/plain": [
              "True"
            ]
          },
          "metadata": {
            "tags": []
          },
          "execution_count": 1
        }
      ]
    },
    {
      "cell_type": "code",
      "metadata": {
        "id": "bLZQ6eFG2Bh3"
      },
      "source": [
        "#!pip install ktrain"
      ],
      "execution_count": null,
      "outputs": []
    },
    {
      "cell_type": "markdown",
      "metadata": {
        "id": "yFDdpe70XAWT"
      },
      "source": [
        "\n",
        "\n",
        "---\n",
        "\n"
      ]
    },
    {
      "cell_type": "code",
      "metadata": {
        "id": "ApmrwgDk8dLk"
      },
      "source": [
        "import pandas as pd\n",
        "import numpy as np\n",
        "import warnings\n",
        "warnings.filterwarnings('ignore')\n"
      ],
      "execution_count": 2,
      "outputs": []
    },
    {
      "cell_type": "code",
      "metadata": {
        "colab": {
          "base_uri": "https://localhost:8080/"
        },
        "id": "FBzWS8mpqH7P",
        "outputId": "cfee7bf1-0477-427f-e99e-5bda3f303ada"
      },
      "source": [
        "import tensorflow as tf\n",
        "print(tf.__version__)"
      ],
      "execution_count": 3,
      "outputs": [
        {
          "output_type": "stream",
          "text": [
            "2.5.0\n"
          ],
          "name": "stdout"
        }
      ]
    },
    {
      "cell_type": "code",
      "metadata": {
        "id": "68ohUXYQqmR1"
      },
      "source": [
        "import ktrain\n",
        "from ktrain import text"
      ],
      "execution_count": null,
      "outputs": []
    },
    {
      "cell_type": "code",
      "metadata": {
        "id": "3BlMDIzXqqXz"
      },
      "source": [
        "import re\n",
        "from nltk.tokenize import word_tokenize\n",
        "from string import punctuation\n",
        "from nltk.corpus import stopwords"
      ],
      "execution_count": null,
      "outputs": []
    },
    {
      "cell_type": "code",
      "metadata": {
        "id": "ljq9G5Q-rGLh"
      },
      "source": [
        "def processText(text):\n",
        "    text = text.lower()\n",
        "    text = word_tokenize(text)\n",
        "    return ' '.join(text)"
      ],
      "execution_count": null,
      "outputs": []
    },
    {
      "cell_type": "code",
      "metadata": {
        "colab": {
          "base_uri": "https://localhost:8080/",
          "height": 66,
          "referenced_widgets": [
            "c0b4a4e49e744378a0192ef57f4c016f",
            "e29f50c9af8a4d94a3b64477f9c136e6",
            "96898aa4da204687bfef0f770545f56a",
            "4f2a929729744091b4749c3fb84027ef",
            "09da36f1ecfb493da2d0d5b829b96fb3",
            "5c8af0e22f95474eb679fb6d730980b2",
            "b967b788554148ee88760792d88312cd",
            "e816e9d65d4844438fcf854c04033b79"
          ]
        },
        "id": "j_AWp45Urjsh",
        "outputId": "30d1a5b1-85b8-4f98-c571-5b49d1ad3268"
      },
      "source": [
        "from sklearn.model_selection import KFold, StratifiedKFold\n",
        "\n",
        "Model_Name = 'bert-base-multilingual-uncased'\n",
        "\n",
        "t = text.Transformer(Model_Name, maxlen=128, class_names=['kitaifa', 'michezo', 'biashara', 'kimataifa', 'burudani'])"
      ],
      "execution_count": null,
      "outputs": [
        {
          "output_type": "display_data",
          "data": {
            "application/vnd.jupyter.widget-view+json": {
              "model_id": "c0b4a4e49e744378a0192ef57f4c016f",
              "version_minor": 0,
              "version_major": 2
            },
            "text/plain": [
              "HBox(children=(FloatProgress(value=0.0, description='Downloading', max=625.0, style=ProgressStyle(description_…"
            ]
          },
          "metadata": {
            "tags": []
          }
        },
        {
          "output_type": "stream",
          "text": [
            "\n"
          ],
          "name": "stdout"
        }
      ]
    },
    {
      "cell_type": "code",
      "metadata": {
        "id": "jxlJsNnHgnUN"
      },
      "source": [
        "# Introduce some common Swahili stop words\n",
        "\n",
        "stop_words_df = pd.read_csv('/content/drive/MyDrive/Colab Notebooks/NLP/swahili_stopwords.csv')\n",
        "stop_words = stop_words_df['StopWords'].tolist()"
      ],
      "execution_count": null,
      "outputs": []
    },
    {
      "cell_type": "code",
      "metadata": {
        "colab": {
          "base_uri": "https://localhost:8080/",
          "height": 197
        },
        "id": "-w7DVyD6CmgI",
        "outputId": "3f49d761-e7fc-4a61-de7e-aed564753f6f"
      },
      "source": [
        "# data import & basic prep\n",
        "\n",
        "df = pd.read_csv('/content/drive/MyDrive/Colab Notebooks/NLP/Swahili/Train.csv')\n",
        "df['category'] = df['category'].str.lower()\n",
        "\n",
        "test_path = '/content/drive/MyDrive/Colab Notebooks/NLP/Swahili/Test.csv'\n",
        "\n",
        "val_df = pd.read_csv(test_path)\n",
        "val_df['content'] = val_df['content'].str.lower()\n",
        "\n",
        "df.head()"
      ],
      "execution_count": null,
      "outputs": [
        {
          "output_type": "execute_result",
          "data": {
            "text/html": [
              "<div>\n",
              "<style scoped>\n",
              "    .dataframe tbody tr th:only-of-type {\n",
              "        vertical-align: middle;\n",
              "    }\n",
              "\n",
              "    .dataframe tbody tr th {\n",
              "        vertical-align: top;\n",
              "    }\n",
              "\n",
              "    .dataframe thead th {\n",
              "        text-align: right;\n",
              "    }\n",
              "</style>\n",
              "<table border=\"1\" class=\"dataframe\">\n",
              "  <thead>\n",
              "    <tr style=\"text-align: right;\">\n",
              "      <th></th>\n",
              "      <th>id</th>\n",
              "      <th>content</th>\n",
              "      <th>category</th>\n",
              "    </tr>\n",
              "  </thead>\n",
              "  <tbody>\n",
              "    <tr>\n",
              "      <th>0</th>\n",
              "      <td>SW0</td>\n",
              "      <td>SERIKALI imesema haitakuwa tayari kuona amani...</td>\n",
              "      <td>kitaifa</td>\n",
              "    </tr>\n",
              "    <tr>\n",
              "      <th>1</th>\n",
              "      <td>SW1</td>\n",
              "      <td>Mkuu wa Mkoa wa Tabora, Aggrey Mwanri amesiti...</td>\n",
              "      <td>biashara</td>\n",
              "    </tr>\n",
              "    <tr>\n",
              "      <th>2</th>\n",
              "      <td>SW10</td>\n",
              "      <td>SERIKALI imetoa miezi sita kwa taasisi zote z...</td>\n",
              "      <td>kitaifa</td>\n",
              "    </tr>\n",
              "    <tr>\n",
              "      <th>3</th>\n",
              "      <td>SW100</td>\n",
              "      <td>KAMPUNI ya mchezo wa kubahatisha ya M-bet ime...</td>\n",
              "      <td>michezo</td>\n",
              "    </tr>\n",
              "    <tr>\n",
              "      <th>4</th>\n",
              "      <td>SW1000</td>\n",
              "      <td>WATANZANIA wamekumbushwa kusherehekea sikukuu...</td>\n",
              "      <td>kitaifa</td>\n",
              "    </tr>\n",
              "  </tbody>\n",
              "</table>\n",
              "</div>"
            ],
            "text/plain": [
              "       id                                            content  category\n",
              "0     SW0   SERIKALI imesema haitakuwa tayari kuona amani...   kitaifa\n",
              "1     SW1   Mkuu wa Mkoa wa Tabora, Aggrey Mwanri amesiti...  biashara\n",
              "2    SW10   SERIKALI imetoa miezi sita kwa taasisi zote z...   kitaifa\n",
              "3   SW100   KAMPUNI ya mchezo wa kubahatisha ya M-bet ime...   michezo\n",
              "4  SW1000   WATANZANIA wamekumbushwa kusherehekea sikukuu...   kitaifa"
            ]
          },
          "metadata": {
            "tags": []
          },
          "execution_count": 9
        }
      ]
    },
    {
      "cell_type": "code",
      "metadata": {
        "id": "5TxpLBzqWrI-",
        "colab": {
          "base_uri": "https://localhost:8080/"
        },
        "outputId": "7a895aae-c600-47f5-f5ce-a7ec7281ce05"
      },
      "source": [
        "# Percentage of news with text\n",
        "total = df['content'].notnull().sum()\n",
        "round((total/len(df)*100),1)"
      ],
      "execution_count": null,
      "outputs": [
        {
          "output_type": "execute_result",
          "data": {
            "text/plain": [
              "100.0"
            ]
          },
          "metadata": {
            "tags": []
          },
          "execution_count": 5
        }
      ]
    },
    {
      "cell_type": "code",
      "metadata": {
        "id": "PgVclV6ktVuA"
      },
      "source": [
        "# cleaning\n",
        "\n",
        "df['content'] = df['content'].apply(processText)\n",
        "val_df['content'] = val_df['content'].apply(processText)"
      ],
      "execution_count": null,
      "outputs": []
    },
    {
      "cell_type": "code",
      "metadata": {
        "id": "e_f2442Bv5kD"
      },
      "source": [
        "valid_pred = np.zeros((len(val_df), 5))"
      ],
      "execution_count": null,
      "outputs": []
    },
    {
      "cell_type": "code",
      "metadata": {
        "id": "3oXxyannwNeP"
      },
      "source": [
        "from keras.callbacks import EarlyStopping\n",
        "from keras.callbacks import ModelCheckpoint\n",
        "from sklearn.utils import class_weight\n"
      ],
      "execution_count": null,
      "outputs": []
    },
    {
      "cell_type": "code",
      "metadata": {
        "id": "3AoKa-RYwjEn"
      },
      "source": [
        "class_weights = class_weight.compute_class_weight('balanced', np.unique(df['category']), df['category'])\n",
        "class_weight_dict = dict(enumerate(class_weights))"
      ],
      "execution_count": null,
      "outputs": []
    },
    {
      "cell_type": "code",
      "metadata": {
        "colab": {
          "base_uri": "https://localhost:8080/",
          "height": 1000,
          "referenced_widgets": [
            "ebd7430486e24633a0d7d605f4e1c6d9",
            "5ba246c33a8d47ba8f90f33f7dadbc19",
            "f5a566ca7d1142a4a831de6d19cd0ed3",
            "07d87e6dcdf842bdb3c2c7bf7a598815",
            "b0fe2f1c0b324a3d8c550132498d8ba8",
            "514072a2ab424274bf988c8362630da0",
            "743857ae18d544ab94db4538c8181df9",
            "2f1ce1e9f6604119897b9af731688be7",
            "6c8a48ae0cdf4c5394b5e84323ba684a",
            "9c660a08a1f340c7986e265b6f3eecca",
            "496d512b1c9d4c75979766ab0ab4c661",
            "879f45c1cc8241f8b02e3da7321f9e18",
            "d51f114ae07c43afb8be6ed30a23a19c",
            "385b38f6c60c4d8b8d2a31d8a93a6107",
            "d5051c68128645b8867342203cd06cf8",
            "60b45bfee2a04af19dd2e2bcbc46b337",
            "cdc00df427c1426e99b32edce2a31e93",
            "ca70071538c2400b85208c2ecd7c6628",
            "9423eca72c854cd79cf48f455f2b29dd",
            "49a58bf4cddf4e83ab1a32925db56557",
            "0983299bf72a4132aea94ca634db64d7",
            "b948924ace1e44aaa9b212942de01248",
            "3d66fb11a1f04b1ea709c65d780ba18e",
            "88fb4a4b56614a7aa87a620f56b5ae37"
          ]
        },
        "id": "2U60cyGDw_pl",
        "outputId": "e58f7a91-b575-41c8-c8fc-276645685fe0"
      },
      "source": [
        "es = EarlyStopping(monitor = 'val_accuracy', patience = 3, verbose = 1, restore_best_weights = True)\n",
        "\n",
        "seed = 42\n",
        "n_folds = 10\n",
        "\n",
        "skf = StratifiedKFold(n_splits = n_folds, random_state = seed, shuffle = False)\n",
        "n = 0\n",
        "\n",
        "for train_index, test_index in skf.split(df['content'], df['category']):\n",
        "    x_train, x_test = list(df.loc[train_index, 'content']), list(df.loc[test_index, 'category'])\n",
        "    y_train, y_test = np.asarray(df.loc[train_index, 'category']), np.asarray(df.loc[test_index, 'category'])\n",
        "\n",
        "    train = t.preprocess_train(x_train, y_train)\n",
        "    val = t.preprocess_test(x_test, y_test)\n",
        "\n",
        "    model = t.get_classifier()\n",
        "\n",
        "    learner = ktrain.get_learner(model, train_data=train, val_data=val, batch_size=6)\n",
        "\n",
        "    history = learner.fit(1e-5, 10, cycle_len = 1, cycle_mult = 2, class_weight = class_weight_dict, callbacks = [es], checkpoint_folder = '/tmp')\n",
        "\n",
        "    learner.validate(class_names = t.get_classes())\n",
        "\n",
        "    if max(history.history['val_accuracy']) < 0.8:\n",
        "        continue\n",
        "\n",
        "    predictor = ktrain.get_predictor(learner.model, preproc = t)\n",
        "    data = val_df['content']\n",
        "    data = np.asarray(data)\n",
        "\n",
        "    print(predictor.get_classes())\n",
        "    pred = predictor.predict(data, return_proba = True)\n",
        "    n = n + 1\n",
        "\n",
        "    valid_pred += pred\n",
        "\n",
        "valid_pred /= n"
      ],
      "execution_count": null,
      "outputs": [
        {
          "output_type": "stream",
          "text": [
            "preprocessing train...\n",
            "language: sw\n",
            "train sequence lengths:\n",
            "\tmean : 345\n",
            "\t95percentile : 770\n",
            "\t99percentile : 1186\n"
          ],
          "name": "stdout"
        },
        {
          "output_type": "display_data",
          "data": {
            "application/vnd.jupyter.widget-view+json": {
              "model_id": "ebd7430486e24633a0d7d605f4e1c6d9",
              "version_minor": 0,
              "version_major": 2
            },
            "text/plain": [
              "HBox(children=(FloatProgress(value=0.0, description='Downloading', max=871891.0, style=ProgressStyle(descripti…"
            ]
          },
          "metadata": {
            "tags": []
          }
        },
        {
          "output_type": "stream",
          "text": [
            "\n"
          ],
          "name": "stdout"
        },
        {
          "output_type": "display_data",
          "data": {
            "application/vnd.jupyter.widget-view+json": {
              "model_id": "6c8a48ae0cdf4c5394b5e84323ba684a",
              "version_minor": 0,
              "version_major": 2
            },
            "text/plain": [
              "HBox(children=(FloatProgress(value=0.0, description='Downloading', max=1715180.0, style=ProgressStyle(descript…"
            ]
          },
          "metadata": {
            "tags": []
          }
        },
        {
          "output_type": "stream",
          "text": [
            "\n"
          ],
          "name": "stdout"
        },
        {
          "output_type": "display_data",
          "data": {
            "text/html": [
              ""
            ],
            "text/plain": [
              "<IPython.core.display.HTML object>"
            ]
          },
          "metadata": {
            "tags": []
          }
        },
        {
          "output_type": "stream",
          "text": [
            "Is Multi-Label? False\n",
            "preprocessing test...\n",
            "language: sw\n",
            "test sequence lengths:\n",
            "\tmean : 1\n",
            "\t95percentile : 1\n",
            "\t99percentile : 1\n"
          ],
          "name": "stdout"
        },
        {
          "output_type": "display_data",
          "data": {
            "text/html": [
              ""
            ],
            "text/plain": [
              "<IPython.core.display.HTML object>"
            ]
          },
          "metadata": {
            "tags": []
          }
        },
        {
          "output_type": "display_data",
          "data": {
            "application/vnd.jupyter.widget-view+json": {
              "model_id": "cdc00df427c1426e99b32edce2a31e93",
              "version_minor": 0,
              "version_major": 2
            },
            "text/plain": [
              "HBox(children=(FloatProgress(value=0.0, description='Downloading', max=999358484.0, style=ProgressStyle(descri…"
            ]
          },
          "metadata": {
            "tags": []
          }
        },
        {
          "output_type": "stream",
          "text": [
            "\n",
            "Epoch 1/1023\n",
            "773/773 [==============================] - 171s 204ms/step - loss: 1.2160 - accuracy: 0.5622 - val_loss: 2.0871 - val_accuracy: 0.0039\n",
            "Epoch 2/1023\n",
            "773/773 [==============================] - 157s 204ms/step - loss: 0.9338 - accuracy: 0.6470 - val_loss: 2.7146 - val_accuracy: 0.0039\n",
            "Epoch 3/1023\n",
            "773/773 [==============================] - 158s 204ms/step - loss: 0.5978 - accuracy: 0.7454 - val_loss: 2.8186 - val_accuracy: 0.0039\n",
            "Epoch 4/1023\n",
            "773/773 [==============================] - 157s 204ms/step - loss: 0.6500 - accuracy: 0.7290 - val_loss: 1.8462 - val_accuracy: 0.0039\n",
            "Restoring model weights from the end of the best epoch.\n",
            "Epoch 00004: early stopping\n",
            "              precision    recall  f1-score   support\n",
            "\n",
            "    biashara       0.00      0.00      0.00       136\n",
            "    burudani       0.00      1.00      0.01         2\n",
            "   kimataifa       0.00      0.00      0.00         6\n",
            "     kitaifa       0.00      0.00      0.00       200\n",
            "     michezo       0.00      0.00      0.00       172\n",
            "\n",
            "    accuracy                           0.00       516\n",
            "   macro avg       0.00      0.20      0.00       516\n",
            "weighted avg       0.00      0.00      0.00       516\n",
            "\n",
            "preprocessing train...\n",
            "language: sw\n",
            "train sequence lengths:\n",
            "\tmean : 345\n",
            "\t95percentile : 744\n",
            "\t99percentile : 1188\n"
          ],
          "name": "stdout"
        },
        {
          "output_type": "display_data",
          "data": {
            "text/html": [
              ""
            ],
            "text/plain": [
              "<IPython.core.display.HTML object>"
            ]
          },
          "metadata": {
            "tags": []
          }
        },
        {
          "output_type": "stream",
          "text": [
            "Is Multi-Label? False\n",
            "preprocessing test...\n",
            "language: sw\n",
            "test sequence lengths:\n",
            "\tmean : 1\n",
            "\t95percentile : 1\n",
            "\t99percentile : 1\n"
          ],
          "name": "stdout"
        },
        {
          "output_type": "display_data",
          "data": {
            "text/html": [
              ""
            ],
            "text/plain": [
              "<IPython.core.display.HTML object>"
            ]
          },
          "metadata": {
            "tags": []
          }
        },
        {
          "output_type": "stream",
          "text": [
            "Epoch 1/1023\n",
            "773/773 [==============================] - 170s 206ms/step - loss: 1.2631 - accuracy: 0.5708 - val_loss: 1.3335 - val_accuracy: 0.3456\n",
            "Epoch 2/1023\n",
            "773/773 [==============================] - 157s 203ms/step - loss: 1.0101 - accuracy: 0.6327 - val_loss: 1.9008 - val_accuracy: 0.0136\n",
            "Epoch 3/1023\n",
            "773/773 [==============================] - 157s 203ms/step - loss: 0.6444 - accuracy: 0.7429 - val_loss: 2.1866 - val_accuracy: 0.0136\n",
            "Epoch 4/1023\n",
            "773/773 [==============================] - 157s 203ms/step - loss: 0.6526 - accuracy: 0.7567 - val_loss: 2.9274 - val_accuracy: 0.2777\n",
            "Restoring model weights from the end of the best epoch.\n",
            "Epoch 00004: early stopping\n",
            "              precision    recall  f1-score   support\n",
            "\n",
            "    biashara       0.00      0.00      0.00       136\n",
            "    burudani       0.00      0.00      0.00         1\n",
            "   kimataifa       0.02      1.00      0.03         6\n",
            "     kitaifa       0.00      0.00      0.00       200\n",
            "     michezo       1.00      1.00      1.00       172\n",
            "\n",
            "    accuracy                           0.35       515\n",
            "   macro avg       0.20      0.40      0.21       515\n",
            "weighted avg       0.33      0.35      0.33       515\n",
            "\n",
            "preprocessing train...\n",
            "language: sw\n",
            "train sequence lengths:\n",
            "\tmean : 347\n",
            "\t95percentile : 776\n",
            "\t99percentile : 1209\n"
          ],
          "name": "stdout"
        },
        {
          "output_type": "display_data",
          "data": {
            "text/html": [
              ""
            ],
            "text/plain": [
              "<IPython.core.display.HTML object>"
            ]
          },
          "metadata": {
            "tags": []
          }
        },
        {
          "output_type": "stream",
          "text": [
            "Is Multi-Label? False\n",
            "preprocessing test...\n",
            "language: sw\n",
            "test sequence lengths:\n",
            "\tmean : 1\n",
            "\t95percentile : 1\n",
            "\t99percentile : 1\n"
          ],
          "name": "stdout"
        },
        {
          "output_type": "display_data",
          "data": {
            "text/html": [
              ""
            ],
            "text/plain": [
              "<IPython.core.display.HTML object>"
            ]
          },
          "metadata": {
            "tags": []
          }
        },
        {
          "output_type": "stream",
          "text": [
            "Epoch 1/1023\n",
            "773/773 [==============================] - 171s 207ms/step - loss: 1.2356 - accuracy: 0.6275 - val_loss: 1.4527 - val_accuracy: 0.5981\n",
            "Epoch 2/1023\n",
            "773/773 [==============================] - 158s 204ms/step - loss: 0.9356 - accuracy: 0.6933 - val_loss: 2.2678 - val_accuracy: 0.2660\n",
            "Epoch 3/1023\n",
            "773/773 [==============================] - 158s 204ms/step - loss: 0.4951 - accuracy: 0.8113 - val_loss: 2.2508 - val_accuracy: 0.2660\n",
            "Epoch 4/1023\n",
            "773/773 [==============================] - 158s 204ms/step - loss: 0.5473 - accuracy: 0.7927 - val_loss: 3.4975 - val_accuracy: 0.0019\n",
            "Restoring model weights from the end of the best epoch.\n",
            "Epoch 00004: early stopping\n",
            "              precision    recall  f1-score   support\n",
            "\n",
            "    biashara       0.95      1.00      0.97       136\n",
            "    burudani       0.00      0.00      0.00         1\n",
            "   kimataifa       0.00      0.00      0.00         6\n",
            "     kitaifa       0.00      0.00      0.00       200\n",
            "     michezo       0.46      1.00      0.63       172\n",
            "\n",
            "    accuracy                           0.60       515\n",
            "   macro avg       0.28      0.40      0.32       515\n",
            "weighted avg       0.41      0.60      0.47       515\n",
            "\n",
            "preprocessing train...\n",
            "language: sw\n",
            "train sequence lengths:\n",
            "\tmean : 345\n",
            "\t95percentile : 742\n",
            "\t99percentile : 1180\n"
          ],
          "name": "stdout"
        },
        {
          "output_type": "display_data",
          "data": {
            "text/html": [
              ""
            ],
            "text/plain": [
              "<IPython.core.display.HTML object>"
            ]
          },
          "metadata": {
            "tags": []
          }
        },
        {
          "output_type": "stream",
          "text": [
            "Is Multi-Label? False\n",
            "preprocessing test...\n",
            "language: sw\n",
            "test sequence lengths:\n",
            "\tmean : 1\n",
            "\t95percentile : 1\n",
            "\t99percentile : 1\n"
          ],
          "name": "stdout"
        },
        {
          "output_type": "display_data",
          "data": {
            "text/html": [
              ""
            ],
            "text/plain": [
              "<IPython.core.display.HTML object>"
            ]
          },
          "metadata": {
            "tags": []
          }
        },
        {
          "output_type": "stream",
          "text": [
            "Epoch 1/1023\n",
            "773/773 [==============================] - 172s 209ms/step - loss: 1.2420 - accuracy: 0.6003 - val_loss: 1.4949 - val_accuracy: 0.3340\n",
            "Epoch 2/1023\n",
            "773/773 [==============================] - 158s 204ms/step - loss: 0.7116 - accuracy: 0.6857 - val_loss: 3.6343 - val_accuracy: 0.0019\n",
            "Epoch 3/1023\n",
            "773/773 [==============================] - 158s 204ms/step - loss: 0.4104 - accuracy: 0.8227 - val_loss: 2.9038 - val_accuracy: 0.0019\n",
            "Epoch 4/1023\n",
            "773/773 [==============================] - 158s 204ms/step - loss: 0.3914 - accuracy: 0.8208 - val_loss: 2.4686 - val_accuracy: 0.3340\n",
            "Restoring model weights from the end of the best epoch.\n",
            "Epoch 00004: early stopping\n",
            "              precision    recall  f1-score   support\n",
            "\n",
            "    biashara       0.00      0.00      0.00       136\n",
            "    burudani       0.00      0.00      0.00         1\n",
            "   kimataifa       0.00      0.00      0.00         6\n",
            "     kitaifa       0.00      0.00      0.00       200\n",
            "     michezo       0.56      1.00      0.72       172\n",
            "\n",
            "    accuracy                           0.33       515\n",
            "   macro avg       0.11      0.20      0.14       515\n",
            "weighted avg       0.19      0.33      0.24       515\n",
            "\n",
            "preprocessing train...\n",
            "language: sw\n",
            "train sequence lengths:\n",
            "\tmean : 347\n",
            "\t95percentile : 768\n",
            "\t99percentile : 1193\n"
          ],
          "name": "stdout"
        },
        {
          "output_type": "display_data",
          "data": {
            "text/html": [
              ""
            ],
            "text/plain": [
              "<IPython.core.display.HTML object>"
            ]
          },
          "metadata": {
            "tags": []
          }
        },
        {
          "output_type": "stream",
          "text": [
            "Is Multi-Label? False\n",
            "preprocessing test...\n",
            "language: sw\n",
            "test sequence lengths:\n",
            "\tmean : 1\n",
            "\t95percentile : 1\n",
            "\t99percentile : 1\n"
          ],
          "name": "stdout"
        },
        {
          "output_type": "display_data",
          "data": {
            "text/html": [
              ""
            ],
            "text/plain": [
              "<IPython.core.display.HTML object>"
            ]
          },
          "metadata": {
            "tags": []
          }
        },
        {
          "output_type": "stream",
          "text": [
            "Epoch 1/1023\n",
            "773/773 [==============================] - 171s 207ms/step - loss: 1.2895 - accuracy: 0.5431 - val_loss: 1.5128 - val_accuracy: 0.3437\n",
            "Epoch 2/1023\n",
            "773/773 [==============================] - 158s 205ms/step - loss: 1.1636 - accuracy: 0.5145 - val_loss: 1.9774 - val_accuracy: 0.0039\n",
            "Epoch 3/1023\n",
            "773/773 [==============================] - 158s 204ms/step - loss: 0.7529 - accuracy: 0.6892 - val_loss: 1.9385 - val_accuracy: 0.0000e+00\n",
            "Epoch 4/1023\n",
            "773/773 [==============================] - 158s 205ms/step - loss: 0.6980 - accuracy: 0.7364 - val_loss: 3.4044 - val_accuracy: 0.0039\n",
            "Restoring model weights from the end of the best epoch.\n",
            "Epoch 00004: early stopping\n",
            "              precision    recall  f1-score   support\n",
            "\n",
            "    biashara       0.00      0.00      0.00       136\n",
            "    burudani       0.00      0.00      0.00         2\n",
            "   kimataifa       0.71      1.00      0.83         5\n",
            "     kitaifa       0.00      0.00      0.00       200\n",
            "     michezo       0.34      1.00      0.51       172\n",
            "\n",
            "    accuracy                           0.34       515\n",
            "   macro avg       0.21      0.40      0.27       515\n",
            "weighted avg       0.12      0.34      0.18       515\n",
            "\n",
            "preprocessing train...\n",
            "language: sw\n",
            "train sequence lengths:\n",
            "\tmean : 349\n",
            "\t95percentile : 776\n",
            "\t99percentile : 1201\n"
          ],
          "name": "stdout"
        },
        {
          "output_type": "display_data",
          "data": {
            "text/html": [
              ""
            ],
            "text/plain": [
              "<IPython.core.display.HTML object>"
            ]
          },
          "metadata": {
            "tags": []
          }
        },
        {
          "output_type": "stream",
          "text": [
            "Is Multi-Label? False\n",
            "preprocessing test...\n",
            "language: sw\n",
            "test sequence lengths:\n",
            "\tmean : 1\n",
            "\t95percentile : 1\n",
            "\t99percentile : 1\n"
          ],
          "name": "stdout"
        },
        {
          "output_type": "display_data",
          "data": {
            "text/html": [
              ""
            ],
            "text/plain": [
              "<IPython.core.display.HTML object>"
            ]
          },
          "metadata": {
            "tags": []
          }
        },
        {
          "output_type": "stream",
          "text": [
            "Epoch 1/1023\n",
            "773/773 [==============================] - 172s 207ms/step - loss: 1.1650 - accuracy: 0.6447 - val_loss: 1.2988 - val_accuracy: 0.3340\n",
            "Epoch 2/1023\n",
            "773/773 [==============================] - 158s 204ms/step - loss: 0.9260 - accuracy: 0.6788 - val_loss: 1.6620 - val_accuracy: 0.2641\n",
            "Epoch 3/1023\n",
            "773/773 [==============================] - 158s 204ms/step - loss: 0.5504 - accuracy: 0.8054 - val_loss: 1.4137 - val_accuracy: 0.2641\n",
            "Epoch 4/1023\n",
            "773/773 [==============================] - 158s 204ms/step - loss: 0.6069 - accuracy: 0.7839 - val_loss: 1.3983 - val_accuracy: 0.0000e+00\n",
            "Restoring model weights from the end of the best epoch.\n",
            "Epoch 00004: early stopping\n",
            "              precision    recall  f1-score   support\n",
            "\n",
            "    biashara       0.00      0.00      0.00       136\n",
            "    burudani       0.00      0.00      0.00         2\n",
            "   kimataifa       0.00      0.00      0.00         5\n",
            "     kitaifa       0.00      0.00      0.00       200\n",
            "     michezo       0.56      1.00      0.72       172\n",
            "\n",
            "    accuracy                           0.33       515\n",
            "   macro avg       0.11      0.20      0.14       515\n",
            "weighted avg       0.19      0.33      0.24       515\n",
            "\n",
            "preprocessing train...\n",
            "language: sw\n",
            "train sequence lengths:\n",
            "\tmean : 347\n",
            "\t95percentile : 772\n",
            "\t99percentile : 1201\n"
          ],
          "name": "stdout"
        },
        {
          "output_type": "display_data",
          "data": {
            "text/html": [
              ""
            ],
            "text/plain": [
              "<IPython.core.display.HTML object>"
            ]
          },
          "metadata": {
            "tags": []
          }
        },
        {
          "output_type": "stream",
          "text": [
            "Is Multi-Label? False\n",
            "preprocessing test...\n",
            "language: sw\n",
            "test sequence lengths:\n",
            "\tmean : 1\n",
            "\t95percentile : 1\n",
            "\t99percentile : 1\n"
          ],
          "name": "stdout"
        },
        {
          "output_type": "display_data",
          "data": {
            "text/html": [
              ""
            ],
            "text/plain": [
              "<IPython.core.display.HTML object>"
            ]
          },
          "metadata": {
            "tags": []
          }
        },
        {
          "output_type": "stream",
          "text": [
            "Epoch 1/1023\n",
            "773/773 [==============================] - 172s 207ms/step - loss: 1.2546 - accuracy: 0.5992 - val_loss: 1.5847 - val_accuracy: 0.3340\n",
            "Epoch 2/1023\n",
            "773/773 [==============================] - 158s 204ms/step - loss: 0.8900 - accuracy: 0.6596 - val_loss: 1.3950 - val_accuracy: 0.3340\n",
            "Epoch 3/1023\n",
            "773/773 [==============================] - 158s 204ms/step - loss: 0.5157 - accuracy: 0.7916 - val_loss: 1.5615 - val_accuracy: 0.3340\n",
            "Epoch 4/1023\n",
            "773/773 [==============================] - 158s 204ms/step - loss: 0.5479 - accuracy: 0.8024 - val_loss: 1.6438 - val_accuracy: 0.0039\n",
            "Restoring model weights from the end of the best epoch.\n",
            "Epoch 00004: early stopping\n",
            "              precision    recall  f1-score   support\n",
            "\n",
            "    biashara       0.00      0.00      0.00       136\n",
            "    burudani       0.00      0.00      0.00         2\n",
            "   kimataifa       0.00      0.00      0.00         5\n",
            "     kitaifa       0.00      0.00      0.00       200\n",
            "     michezo       0.33      1.00      0.50       172\n",
            "\n",
            "    accuracy                           0.33       515\n",
            "   macro avg       0.07      0.20      0.10       515\n",
            "weighted avg       0.11      0.33      0.17       515\n",
            "\n",
            "preprocessing train...\n",
            "language: sw\n",
            "train sequence lengths:\n",
            "\tmean : 347\n",
            "\t95percentile : 772\n",
            "\t99percentile : 1193\n"
          ],
          "name": "stdout"
        },
        {
          "output_type": "display_data",
          "data": {
            "text/html": [
              ""
            ],
            "text/plain": [
              "<IPython.core.display.HTML object>"
            ]
          },
          "metadata": {
            "tags": []
          }
        },
        {
          "output_type": "stream",
          "text": [
            "Is Multi-Label? False\n",
            "preprocessing test...\n",
            "language: sw\n",
            "test sequence lengths:\n",
            "\tmean : 1\n",
            "\t95percentile : 1\n",
            "\t99percentile : 1\n"
          ],
          "name": "stdout"
        },
        {
          "output_type": "display_data",
          "data": {
            "text/html": [
              ""
            ],
            "text/plain": [
              "<IPython.core.display.HTML object>"
            ]
          },
          "metadata": {
            "tags": []
          }
        },
        {
          "output_type": "stream",
          "text": [
            "Epoch 1/1023\n",
            "773/773 [==============================] - 172s 207ms/step - loss: 1.3057 - accuracy: 0.5723 - val_loss: 1.7317 - val_accuracy: 0.0000e+00\n",
            "Epoch 2/1023\n",
            "773/773 [==============================] - 158s 204ms/step - loss: 1.0652 - accuracy: 0.5449 - val_loss: 1.5337 - val_accuracy: 0.3883\n",
            "Epoch 3/1023\n",
            "773/773 [==============================] - 158s 204ms/step - loss: 0.7305 - accuracy: 0.6624 - val_loss: 1.6021 - val_accuracy: 0.0097\n",
            "Epoch 4/1023\n",
            "773/773 [==============================] - 158s 204ms/step - loss: 0.7244 - accuracy: 0.6747 - val_loss: 2.0479 - val_accuracy: 0.0097\n",
            "Epoch 5/1023\n",
            "773/773 [==============================] - 158s 204ms/step - loss: 0.5130 - accuracy: 0.7759 - val_loss: 1.1742 - val_accuracy: 0.3340\n",
            "Restoring model weights from the end of the best epoch.\n",
            "Epoch 00005: early stopping\n",
            "              precision    recall  f1-score   support\n",
            "\n",
            "    biashara       0.00      0.00      0.00       136\n",
            "    burudani       0.00      0.00      0.00         2\n",
            "   kimataifa       0.00      0.00      0.00         5\n",
            "     kitaifa       0.59      1.00      0.74       200\n",
            "     michezo       0.00      0.00      0.00       172\n",
            "\n",
            "    accuracy                           0.39       515\n",
            "   macro avg       0.12      0.20      0.15       515\n",
            "weighted avg       0.23      0.39      0.29       515\n",
            "\n",
            "preprocessing train...\n",
            "language: sw\n",
            "train sequence lengths:\n",
            "\tmean : 347\n",
            "\t95percentile : 768\n",
            "\t99percentile : 1209\n"
          ],
          "name": "stdout"
        },
        {
          "output_type": "display_data",
          "data": {
            "text/html": [
              ""
            ],
            "text/plain": [
              "<IPython.core.display.HTML object>"
            ]
          },
          "metadata": {
            "tags": []
          }
        },
        {
          "output_type": "stream",
          "text": [
            "Is Multi-Label? False\n",
            "preprocessing test...\n",
            "language: sw\n",
            "test sequence lengths:\n",
            "\tmean : 1\n",
            "\t95percentile : 1\n",
            "\t99percentile : 1\n"
          ],
          "name": "stdout"
        },
        {
          "output_type": "display_data",
          "data": {
            "text/html": [
              ""
            ],
            "text/plain": [
              "<IPython.core.display.HTML object>"
            ]
          },
          "metadata": {
            "tags": []
          }
        },
        {
          "output_type": "stream",
          "text": [
            "Epoch 1/1023\n",
            "773/773 [==============================] - 172s 209ms/step - loss: 1.1559 - accuracy: 0.6698 - val_loss: 1.4860 - val_accuracy: 0.3883\n",
            "Epoch 2/1023\n",
            "773/773 [==============================] - 158s 204ms/step - loss: 0.7961 - accuracy: 0.7612 - val_loss: 1.5305 - val_accuracy: 0.0039\n",
            "Epoch 3/1023\n",
            "773/773 [==============================] - 158s 204ms/step - loss: 0.4153 - accuracy: 0.8503 - val_loss: 1.4374 - val_accuracy: 0.3379\n",
            "Epoch 4/1023\n",
            "773/773 [==============================] - 158s 204ms/step - loss: 0.4809 - accuracy: 0.8246 - val_loss: 1.9794 - val_accuracy: 0.0039\n",
            "Restoring model weights from the end of the best epoch.\n",
            "Epoch 00004: early stopping\n",
            "              precision    recall  f1-score   support\n",
            "\n",
            "    biashara       0.00      0.00      0.00       136\n",
            "    burudani       0.00      0.00      0.00         2\n",
            "   kimataifa       0.00      0.00      0.00         5\n",
            "     kitaifa       0.39      1.00      0.56       200\n",
            "     michezo       0.00      0.00      0.00       172\n",
            "\n",
            "    accuracy                           0.39       515\n",
            "   macro avg       0.08      0.20      0.11       515\n",
            "weighted avg       0.15      0.39      0.22       515\n",
            "\n",
            "preprocessing train...\n",
            "language: sw\n",
            "train sequence lengths:\n",
            "\tmean : 348\n",
            "\t95percentile : 768\n",
            "\t99percentile : 1201\n"
          ],
          "name": "stdout"
        },
        {
          "output_type": "display_data",
          "data": {
            "text/html": [
              ""
            ],
            "text/plain": [
              "<IPython.core.display.HTML object>"
            ]
          },
          "metadata": {
            "tags": []
          }
        },
        {
          "output_type": "stream",
          "text": [
            "Is Multi-Label? False\n",
            "preprocessing test...\n",
            "language: sw\n",
            "test sequence lengths:\n",
            "\tmean : 1\n",
            "\t95percentile : 1\n",
            "\t99percentile : 1\n"
          ],
          "name": "stdout"
        },
        {
          "output_type": "display_data",
          "data": {
            "text/html": [
              ""
            ],
            "text/plain": [
              "<IPython.core.display.HTML object>"
            ]
          },
          "metadata": {
            "tags": []
          }
        },
        {
          "output_type": "stream",
          "text": [
            "Epoch 1/1023\n",
            "773/773 [==============================] - 172s 208ms/step - loss: 1.4153 - accuracy: 0.5401 - val_loss: 1.5474 - val_accuracy: 0.3437\n",
            "Epoch 2/1023\n",
            "773/773 [==============================] - 158s 204ms/step - loss: 1.0943 - accuracy: 0.5757 - val_loss: 1.8274 - val_accuracy: 0.3340\n",
            "Epoch 3/1023\n",
            "773/773 [==============================] - 158s 204ms/step - loss: 0.6830 - accuracy: 0.7325 - val_loss: 2.0726 - val_accuracy: 0.3437\n",
            "Epoch 4/1023\n",
            "773/773 [==============================] - 158s 204ms/step - loss: 0.7037 - accuracy: 0.7172 - val_loss: 2.7762 - val_accuracy: 0.0097\n",
            "Restoring model weights from the end of the best epoch.\n",
            "Epoch 00004: early stopping\n",
            "              precision    recall  f1-score   support\n",
            "\n",
            "    biashara       0.00      0.00      0.00       136\n",
            "    burudani       0.00      0.00      0.00         2\n",
            "   kimataifa       0.01      1.00      0.03         5\n",
            "     kitaifa       0.00      0.00      0.00       200\n",
            "     michezo       1.00      1.00      1.00       172\n",
            "\n",
            "    accuracy                           0.34       515\n",
            "   macro avg       0.20      0.40      0.21       515\n",
            "weighted avg       0.33      0.34      0.33       515\n",
            "\n"
          ],
          "name": "stdout"
        }
      ]
    },
    {
      "cell_type": "code",
      "metadata": {
        "colab": {
          "base_uri": "https://localhost:8080/",
          "height": 406
        },
        "id": "yTC8z9KfTZCH",
        "outputId": "e026c2db-82ca-4ca6-e251-8c3cca0161ee"
      },
      "source": [
        "val_df"
      ],
      "execution_count": null,
      "outputs": [
        {
          "output_type": "execute_result",
          "data": {
            "text/html": [
              "<div>\n",
              "<style scoped>\n",
              "    .dataframe tbody tr th:only-of-type {\n",
              "        vertical-align: middle;\n",
              "    }\n",
              "\n",
              "    .dataframe tbody tr th {\n",
              "        vertical-align: top;\n",
              "    }\n",
              "\n",
              "    .dataframe thead th {\n",
              "        text-align: right;\n",
              "    }\n",
              "</style>\n",
              "<table border=\"1\" class=\"dataframe\">\n",
              "  <thead>\n",
              "    <tr style=\"text-align: right;\">\n",
              "      <th></th>\n",
              "      <th>swahili_id</th>\n",
              "      <th>content</th>\n",
              "    </tr>\n",
              "  </thead>\n",
              "  <tbody>\n",
              "    <tr>\n",
              "      <th>0</th>\n",
              "      <td>001dd47ac202d9db6624a5ff734a5e7dddafeaf2</td>\n",
              "      <td>mkuu wa wilaya ya bahi , mkoani dodoma , mwana...</td>\n",
              "    </tr>\n",
              "    <tr>\n",
              "      <th>1</th>\n",
              "      <td>0043d97f7690e9bc02f0ed8bb2b260d1d44bad92</td>\n",
              "      <td>mwishoni mwa wiki hii , timu ya soka ya taifa ...</td>\n",
              "    </tr>\n",
              "    <tr>\n",
              "      <th>2</th>\n",
              "      <td>00579c2307b5c11003d21c40c3ecff5e922c3fd8</td>\n",
              "      <td>thamani ya mauzo ya bidhaa za afrika mashariki...</td>\n",
              "    </tr>\n",
              "    <tr>\n",
              "      <th>3</th>\n",
              "      <td>00868eeee349e286303706ef0ffd851f39708d37</td>\n",
              "      <td>meneja mawasiliano na utetezi wa asasi ya agpa...</td>\n",
              "    </tr>\n",
              "    <tr>\n",
              "      <th>4</th>\n",
              "      <td>00a5cb12d3058dcf2e42f277eee599992db32412</td>\n",
              "      <td>waziri wa kilimo , japhet hasunga amesema seri...</td>\n",
              "    </tr>\n",
              "    <tr>\n",
              "      <th>...</th>\n",
              "      <td>...</td>\n",
              "      <td>...</td>\n",
              "    </tr>\n",
              "    <tr>\n",
              "      <th>1283</th>\n",
              "      <td>feb4b0ae88524c9cee3e50f2301d84a235f3c607</td>\n",
              "      <td>mkurugenzi msaidizi msajili wa asasi za kirai ...</td>\n",
              "    </tr>\n",
              "    <tr>\n",
              "      <th>1284</th>\n",
              "      <td>fecf3f14f47237e02721ed4baa4eb6c11abd239f</td>\n",
              "      <td>kilomoni alisema jana kesho atazungumzia suala...</td>\n",
              "    </tr>\n",
              "    <tr>\n",
              "      <th>1285</th>\n",
              "      <td>feed09e13586d12139cd59bc20996a4d29706606</td>\n",
              "      <td>timu ya taifa ya soka ya tanzania bara , kilim...</td>\n",
              "    </tr>\n",
              "    <tr>\n",
              "      <th>1286</th>\n",
              "      <td>ffc0bca6fde8fa0cce1ac3a7b0d746603d441bf8</td>\n",
              "      <td>yanga imetozwa faini ya sh 3,500,000 kutokana ...</td>\n",
              "    </tr>\n",
              "    <tr>\n",
              "      <th>1287</th>\n",
              "      <td>fffdd6f356ed5b8dba21717f60c53f6520e650ab</td>\n",
              "      <td>mahakama kuu kanda ya dar es salaam imekubalia...</td>\n",
              "    </tr>\n",
              "  </tbody>\n",
              "</table>\n",
              "<p>1288 rows × 2 columns</p>\n",
              "</div>"
            ],
            "text/plain": [
              "                                    swahili_id                                            content\n",
              "0     001dd47ac202d9db6624a5ff734a5e7dddafeaf2  mkuu wa wilaya ya bahi , mkoani dodoma , mwana...\n",
              "1     0043d97f7690e9bc02f0ed8bb2b260d1d44bad92  mwishoni mwa wiki hii , timu ya soka ya taifa ...\n",
              "2     00579c2307b5c11003d21c40c3ecff5e922c3fd8  thamani ya mauzo ya bidhaa za afrika mashariki...\n",
              "3     00868eeee349e286303706ef0ffd851f39708d37  meneja mawasiliano na utetezi wa asasi ya agpa...\n",
              "4     00a5cb12d3058dcf2e42f277eee599992db32412  waziri wa kilimo , japhet hasunga amesema seri...\n",
              "...                                        ...                                                ...\n",
              "1283  feb4b0ae88524c9cee3e50f2301d84a235f3c607  mkurugenzi msaidizi msajili wa asasi za kirai ...\n",
              "1284  fecf3f14f47237e02721ed4baa4eb6c11abd239f  kilomoni alisema jana kesho atazungumzia suala...\n",
              "1285  feed09e13586d12139cd59bc20996a4d29706606  timu ya taifa ya soka ya tanzania bara , kilim...\n",
              "1286  ffc0bca6fde8fa0cce1ac3a7b0d746603d441bf8  yanga imetozwa faini ya sh 3,500,000 kutokana ...\n",
              "1287  fffdd6f356ed5b8dba21717f60c53f6520e650ab  mahakama kuu kanda ya dar es salaam imekubalia...\n",
              "\n",
              "[1288 rows x 2 columns]"
            ]
          },
          "metadata": {
            "tags": []
          },
          "execution_count": 15
        }
      ]
    },
    {
      "cell_type": "code",
      "metadata": {
        "id": "9nLR_Zze1Wgo"
      },
      "source": [
        "sub_df = pd.DataFrame(valid_pred, columns = ['biashara', 'burudani', 'kimataifa', 'kitaifa', 'michezo'])\n",
        "\n",
        "sub_df['swahili_id'] = val_df['swahili_id']\n",
        "\n",
        "sub_df = sub_df[['swahili_id','kitaifa', 'michezo', 'biashara', 'kimataifa', 'burudani']]"
      ],
      "execution_count": null,
      "outputs": []
    },
    {
      "cell_type": "code",
      "metadata": {
        "colab": {
          "base_uri": "https://localhost:8080/",
          "height": 197
        },
        "id": "4bcWHOD3T9dW",
        "outputId": "1389980c-895a-4b04-c6f5-b47fe7b7321d"
      },
      "source": [
        "sub_df.head()"
      ],
      "execution_count": null,
      "outputs": [
        {
          "output_type": "execute_result",
          "data": {
            "text/html": [
              "<div>\n",
              "<style scoped>\n",
              "    .dataframe tbody tr th:only-of-type {\n",
              "        vertical-align: middle;\n",
              "    }\n",
              "\n",
              "    .dataframe tbody tr th {\n",
              "        vertical-align: top;\n",
              "    }\n",
              "\n",
              "    .dataframe thead th {\n",
              "        text-align: right;\n",
              "    }\n",
              "</style>\n",
              "<table border=\"1\" class=\"dataframe\">\n",
              "  <thead>\n",
              "    <tr style=\"text-align: right;\">\n",
              "      <th></th>\n",
              "      <th>swahili_id</th>\n",
              "      <th>kitaifa</th>\n",
              "      <th>michezo</th>\n",
              "      <th>biashara</th>\n",
              "      <th>kimataifa</th>\n",
              "      <th>burudani</th>\n",
              "    </tr>\n",
              "  </thead>\n",
              "  <tbody>\n",
              "    <tr>\n",
              "      <th>0</th>\n",
              "      <td>001dd47ac202d9db6624a5ff734a5e7dddafeaf2</td>\n",
              "      <td>NaN</td>\n",
              "      <td>NaN</td>\n",
              "      <td>NaN</td>\n",
              "      <td>NaN</td>\n",
              "      <td>NaN</td>\n",
              "    </tr>\n",
              "    <tr>\n",
              "      <th>1</th>\n",
              "      <td>0043d97f7690e9bc02f0ed8bb2b260d1d44bad92</td>\n",
              "      <td>NaN</td>\n",
              "      <td>NaN</td>\n",
              "      <td>NaN</td>\n",
              "      <td>NaN</td>\n",
              "      <td>NaN</td>\n",
              "    </tr>\n",
              "    <tr>\n",
              "      <th>2</th>\n",
              "      <td>00579c2307b5c11003d21c40c3ecff5e922c3fd8</td>\n",
              "      <td>NaN</td>\n",
              "      <td>NaN</td>\n",
              "      <td>NaN</td>\n",
              "      <td>NaN</td>\n",
              "      <td>NaN</td>\n",
              "    </tr>\n",
              "    <tr>\n",
              "      <th>3</th>\n",
              "      <td>00868eeee349e286303706ef0ffd851f39708d37</td>\n",
              "      <td>NaN</td>\n",
              "      <td>NaN</td>\n",
              "      <td>NaN</td>\n",
              "      <td>NaN</td>\n",
              "      <td>NaN</td>\n",
              "    </tr>\n",
              "    <tr>\n",
              "      <th>4</th>\n",
              "      <td>00a5cb12d3058dcf2e42f277eee599992db32412</td>\n",
              "      <td>NaN</td>\n",
              "      <td>NaN</td>\n",
              "      <td>NaN</td>\n",
              "      <td>NaN</td>\n",
              "      <td>NaN</td>\n",
              "    </tr>\n",
              "  </tbody>\n",
              "</table>\n",
              "</div>"
            ],
            "text/plain": [
              "                                 swahili_id  kitaifa  ...  kimataifa  burudani\n",
              "0  001dd47ac202d9db6624a5ff734a5e7dddafeaf2      NaN  ...        NaN       NaN\n",
              "1  0043d97f7690e9bc02f0ed8bb2b260d1d44bad92      NaN  ...        NaN       NaN\n",
              "2  00579c2307b5c11003d21c40c3ecff5e922c3fd8      NaN  ...        NaN       NaN\n",
              "3  00868eeee349e286303706ef0ffd851f39708d37      NaN  ...        NaN       NaN\n",
              "4  00a5cb12d3058dcf2e42f277eee599992db32412      NaN  ...        NaN       NaN\n",
              "\n",
              "[5 rows x 6 columns]"
            ]
          },
          "metadata": {
            "tags": []
          },
          "execution_count": 21
        }
      ]
    },
    {
      "cell_type": "code",
      "metadata": {
        "id": "eltt9WP1pDZU"
      },
      "source": [
        ""
      ],
      "execution_count": null,
      "outputs": []
    },
    {
      "cell_type": "markdown",
      "metadata": {
        "id": "eppUlmNReQNL"
      },
      "source": [
        "\n",
        "\n",
        "---"
      ]
    },
    {
      "cell_type": "code",
      "metadata": {
        "colab": {
          "base_uri": "https://localhost:8080/",
          "height": 347
        },
        "id": "DMYh6j9Q4C32",
        "outputId": "122dc653-9989-4969-814c-9ef5d01780b6"
      },
      "source": [
        "# clean text\n",
        "import re\n",
        "\n",
        "REPLACE_BY_SPACE_RE = re.compile('[/(){}\\[\\]\\|@,;]')\n",
        "BAD_SYMBOLS_RE = re.compile('[^0-9a-z #+_]')\n",
        "\n",
        "def clean_text(text):\n",
        "\n",
        "    text = str(text).lower() # lowercase text\n",
        "    text = REPLACE_BY_SPACE_RE.sub(' ', text) # replace REPLACE_BY_SPACE_RE symbols by space in text\n",
        "    text = BAD_SYMBOLS_RE.sub('', text) # delete symbols which are in BAD_SYMBOLS_RE from text\n",
        "    text = re.sub(\" \\d+\", \" \", text) # remove digits\n",
        "    text = re.sub(\" #\\d+\", \" \", text) # remove digits starting with # symbol\n",
        "    text = ' '.join(word for word in text.split() if word not in stop_words) # delete stopwors from text\n",
        "    tokens = text.split()\n",
        "    return \" \".join(tokens)\n",
        "\n",
        "df['clean_text'] = df['content'].apply(clean_text)\n",
        "df.head(10)"
      ],
      "execution_count": null,
      "outputs": [
        {
          "output_type": "execute_result",
          "data": {
            "text/html": [
              "<div>\n",
              "<style scoped>\n",
              "    .dataframe tbody tr th:only-of-type {\n",
              "        vertical-align: middle;\n",
              "    }\n",
              "\n",
              "    .dataframe tbody tr th {\n",
              "        vertical-align: top;\n",
              "    }\n",
              "\n",
              "    .dataframe thead th {\n",
              "        text-align: right;\n",
              "    }\n",
              "</style>\n",
              "<table border=\"1\" class=\"dataframe\">\n",
              "  <thead>\n",
              "    <tr style=\"text-align: right;\">\n",
              "      <th></th>\n",
              "      <th>id</th>\n",
              "      <th>content</th>\n",
              "      <th>category</th>\n",
              "      <th>clean_text</th>\n",
              "    </tr>\n",
              "  </thead>\n",
              "  <tbody>\n",
              "    <tr>\n",
              "      <th>0</th>\n",
              "      <td>SW0</td>\n",
              "      <td>SERIKALI imesema haitakuwa tayari kuona amani...</td>\n",
              "      <td>Kitaifa</td>\n",
              "      <td>serikali imesema haitakuwa tayari kuona amani ...</td>\n",
              "    </tr>\n",
              "    <tr>\n",
              "      <th>1</th>\n",
              "      <td>SW1</td>\n",
              "      <td>Mkuu wa Mkoa wa Tabora, Aggrey Mwanri amesiti...</td>\n",
              "      <td>Biashara</td>\n",
              "      <td>mkuu mkoa tabora aggrey mwanri amesitisha liki...</td>\n",
              "    </tr>\n",
              "    <tr>\n",
              "      <th>2</th>\n",
              "      <td>SW10</td>\n",
              "      <td>SERIKALI imetoa miezi sita kwa taasisi zote z...</td>\n",
              "      <td>Kitaifa</td>\n",
              "      <td>serikali imetoa miezi sita taasisi zote umma a...</td>\n",
              "    </tr>\n",
              "    <tr>\n",
              "      <th>3</th>\n",
              "      <td>SW100</td>\n",
              "      <td>KAMPUNI ya mchezo wa kubahatisha ya M-bet ime...</td>\n",
              "      <td>michezo</td>\n",
              "      <td>kampuni mchezo kubahatisha mbet imeingia makub...</td>\n",
              "    </tr>\n",
              "    <tr>\n",
              "      <th>4</th>\n",
              "      <td>SW1000</td>\n",
              "      <td>WATANZANIA wamekumbushwa kusherehekea sikukuu...</td>\n",
              "      <td>Kitaifa</td>\n",
              "      <td>watanzania wamekumbushwa kusherehekea sikukuu ...</td>\n",
              "    </tr>\n",
              "    <tr>\n",
              "      <th>5</th>\n",
              "      <td>SW1002</td>\n",
              "      <td>Malkia wa Mipasho Afrika Mashariki, Khadija O...</td>\n",
              "      <td>michezo</td>\n",
              "      <td>malkia mipasho afrika mashariki khadija omary ...</td>\n",
              "    </tr>\n",
              "    <tr>\n",
              "      <th>6</th>\n",
              "      <td>SW1003</td>\n",
              "      <td>Meneja Masoko na Mawasiliano wa taasisi hiyo,...</td>\n",
              "      <td>Biashara</td>\n",
              "      <td>meneja masoko mawasiliano taasisi ngula cheyo ...</td>\n",
              "    </tr>\n",
              "    <tr>\n",
              "      <th>7</th>\n",
              "      <td>SW1004</td>\n",
              "      <td>IDADI ya vifo vya waendesha bodaboda nchini v...</td>\n",
              "      <td>Kitaifa</td>\n",
              "      <td>idadi vifo waendesha bodaboda nchini vitokanav...</td>\n",
              "    </tr>\n",
              "    <tr>\n",
              "      <th>8</th>\n",
              "      <td>SW1006</td>\n",
              "      <td>Katika uzinduzi huo, rais amesema kuna haja y...</td>\n",
              "      <td>Biashara</td>\n",
              "      <td>uzinduzi rais amesema kuna haja kutafuta majaw...</td>\n",
              "    </tr>\n",
              "    <tr>\n",
              "      <th>9</th>\n",
              "      <td>SW1007</td>\n",
              "      <td>Mshindi wa mchezo utakaozikutanisha Tottenham...</td>\n",
              "      <td>michezo</td>\n",
              "      <td>mshindi mchezo utakaozikutanisha tottenham roc...</td>\n",
              "    </tr>\n",
              "  </tbody>\n",
              "</table>\n",
              "</div>"
            ],
            "text/plain": [
              "       id  ...                                         clean_text\n",
              "0     SW0  ...  serikali imesema haitakuwa tayari kuona amani ...\n",
              "1     SW1  ...  mkuu mkoa tabora aggrey mwanri amesitisha liki...\n",
              "2    SW10  ...  serikali imetoa miezi sita taasisi zote umma a...\n",
              "3   SW100  ...  kampuni mchezo kubahatisha mbet imeingia makub...\n",
              "4  SW1000  ...  watanzania wamekumbushwa kusherehekea sikukuu ...\n",
              "5  SW1002  ...  malkia mipasho afrika mashariki khadija omary ...\n",
              "6  SW1003  ...  meneja masoko mawasiliano taasisi ngula cheyo ...\n",
              "7  SW1004  ...  idadi vifo waendesha bodaboda nchini vitokanav...\n",
              "8  SW1006  ...  uzinduzi rais amesema kuna haja kutafuta majaw...\n",
              "9  SW1007  ...  mshindi mchezo utakaozikutanisha tottenham roc...\n",
              "\n",
              "[10 rows x 4 columns]"
            ]
          },
          "metadata": {
            "tags": []
          },
          "execution_count": 7
        }
      ]
    },
    {
      "cell_type": "code",
      "metadata": {
        "colab": {
          "base_uri": "https://localhost:8080/",
          "height": 197
        },
        "id": "pGb8gEAd4Vc8",
        "outputId": "f1152082-3ae4-4cd0-de14-aad4553798fa"
      },
      "source": [
        "# Create a new column 'label_id' with encoded categories \n",
        "df['label_id'] = df['category'].factorize()[0]\n",
        "new_df = df[['category', 'label_id']].drop_duplicates()\n",
        "\n",
        "# Dictionaries for future use\n",
        "category_to_id = dict(new_df.values)\n",
        "id_to_category = dict(new_df[['label_id', 'category']].values)\n",
        "\n",
        "# New dataframe\n",
        "df.head()"
      ],
      "execution_count": null,
      "outputs": [
        {
          "output_type": "execute_result",
          "data": {
            "text/html": [
              "<div>\n",
              "<style scoped>\n",
              "    .dataframe tbody tr th:only-of-type {\n",
              "        vertical-align: middle;\n",
              "    }\n",
              "\n",
              "    .dataframe tbody tr th {\n",
              "        vertical-align: top;\n",
              "    }\n",
              "\n",
              "    .dataframe thead th {\n",
              "        text-align: right;\n",
              "    }\n",
              "</style>\n",
              "<table border=\"1\" class=\"dataframe\">\n",
              "  <thead>\n",
              "    <tr style=\"text-align: right;\">\n",
              "      <th></th>\n",
              "      <th>id</th>\n",
              "      <th>content</th>\n",
              "      <th>category</th>\n",
              "      <th>clean_text</th>\n",
              "      <th>label_id</th>\n",
              "    </tr>\n",
              "  </thead>\n",
              "  <tbody>\n",
              "    <tr>\n",
              "      <th>0</th>\n",
              "      <td>SW0</td>\n",
              "      <td>SERIKALI imesema haitakuwa tayari kuona amani...</td>\n",
              "      <td>Kitaifa</td>\n",
              "      <td>serikali imesema haitakuwa tayari kuona amani ...</td>\n",
              "      <td>0</td>\n",
              "    </tr>\n",
              "    <tr>\n",
              "      <th>1</th>\n",
              "      <td>SW1</td>\n",
              "      <td>Mkuu wa Mkoa wa Tabora, Aggrey Mwanri amesiti...</td>\n",
              "      <td>Biashara</td>\n",
              "      <td>mkuu mkoa tabora aggrey mwanri amesitisha liki...</td>\n",
              "      <td>1</td>\n",
              "    </tr>\n",
              "    <tr>\n",
              "      <th>2</th>\n",
              "      <td>SW10</td>\n",
              "      <td>SERIKALI imetoa miezi sita kwa taasisi zote z...</td>\n",
              "      <td>Kitaifa</td>\n",
              "      <td>serikali imetoa miezi sita taasisi zote umma a...</td>\n",
              "      <td>0</td>\n",
              "    </tr>\n",
              "    <tr>\n",
              "      <th>3</th>\n",
              "      <td>SW100</td>\n",
              "      <td>KAMPUNI ya mchezo wa kubahatisha ya M-bet ime...</td>\n",
              "      <td>michezo</td>\n",
              "      <td>kampuni mchezo kubahatisha mbet imeingia makub...</td>\n",
              "      <td>2</td>\n",
              "    </tr>\n",
              "    <tr>\n",
              "      <th>4</th>\n",
              "      <td>SW1000</td>\n",
              "      <td>WATANZANIA wamekumbushwa kusherehekea sikukuu...</td>\n",
              "      <td>Kitaifa</td>\n",
              "      <td>watanzania wamekumbushwa kusherehekea sikukuu ...</td>\n",
              "      <td>0</td>\n",
              "    </tr>\n",
              "  </tbody>\n",
              "</table>\n",
              "</div>"
            ],
            "text/plain": [
              "       id  ... label_id\n",
              "0     SW0  ...        0\n",
              "1     SW1  ...        1\n",
              "2    SW10  ...        0\n",
              "3   SW100  ...        2\n",
              "4  SW1000  ...        0\n",
              "\n",
              "[5 rows x 5 columns]"
            ]
          },
          "metadata": {
            "tags": []
          },
          "execution_count": 14
        }
      ]
    },
    {
      "cell_type": "code",
      "metadata": {
        "colab": {
          "base_uri": "https://localhost:8080/"
        },
        "id": "JqSqi4l74twX",
        "outputId": "6eddec60-418f-41bc-d924-d9d3febd237a"
      },
      "source": [
        "tfidf = TfidfVectorizer(sublinear_tf=True, min_df=5,\n",
        "                        ngram_range=(1, 2), \n",
        "                        stop_words=stop_words)\n",
        "\n",
        "# We transform each news data into a vector\n",
        "features = tfidf.fit_transform(df.content).toarray()\n",
        "labels = df.label_id\n",
        "print(\"Each of the %d news data is represented by %d features (TF-IDF score of unigrams and bigrams)\" %(features.shape))\n"
      ],
      "execution_count": null,
      "outputs": [
        {
          "output_type": "stream",
          "text": [
            "Each of the 5151 news data is represented by 34258 features (TF-IDF score of unigrams and bigrams)\n"
          ],
          "name": "stdout"
        }
      ]
    },
    {
      "cell_type": "code",
      "metadata": {
        "colab": {
          "base_uri": "https://localhost:8080/"
        },
        "id": "gM0M8tYZ5Meg",
        "outputId": "139173de-6564-4209-84f7-0d6b2247739b"
      },
      "source": [
        "N = 3\n",
        "for Category, category_id in sorted(category_to_id.items()):\n",
        "  features_chi2 = chi2(features, labels == category_id)\n",
        "  indices = np.argsort(features_chi2[0])\n",
        "  feature_names = np.array(tfidf.get_feature_names())[indices]\n",
        "  unigrams = [v for v in feature_names if len(v.split(' ')) == 1]\n",
        "  bigrams = [v for v in feature_names if len(v.split(' ')) == 2]\n",
        "  print(\"\\n==> \", (Category), \":\")\n",
        "  print(\"  * Most Correlated Unigrams are: %s\" %(', '.join(unigrams[-N:])))\n",
        "  print(\"  * Most Correlated Bigrams are: %s\" %(', '.join(bigrams[-N:])))"
      ],
      "execution_count": null,
      "outputs": [
        {
          "output_type": "stream",
          "text": [
            "\n",
            "==>  Biashara :\n",
            "  * Most Correlated Unigrams are: benki, bidhaa, wateja\n",
            "  * Most Correlated Bigrams are: huduma kibenki, fursa biashara, wateja wetu\n",
            "\n",
            "==>  Burudani :\n",
            "  * Most Correlated Unigrams are: mrembo, up, brown\n",
            "  * Most Correlated Bigrams are: ameipongeza kampuni, kumi bora, haki wanawake\n",
            "\n",
            "==>  Kimataifa :\n",
            "  * Most Correlated Unigrams are: virusi, maombolezo, trump\n",
            "  * Most Correlated Bigrams are: kufuatia kifo, mamlaka nchi, nchini malawi\n",
            "\n",
            "==>  Kitaifa :\n",
            "  * Most Correlated Unigrams are: ligi, timu, mchezo\n",
            "  * Most Correlated Bigrams are: rais john, rais magufuli, ligi kuu\n",
            "\n",
            "==>  michezo :\n",
            "  * Most Correlated Unigrams are: ligi, timu, mchezo\n",
            "  * Most Correlated Bigrams are: uwanja taifa, timu taifa, ligi kuu\n"
          ],
          "name": "stdout"
        }
      ]
    },
    {
      "cell_type": "code",
      "metadata": {
        "colab": {
          "base_uri": "https://localhost:8080/"
        },
        "id": "Gy9mISTA5SPB",
        "outputId": "81929d2d-8419-4e42-c318-a476ec868acc"
      },
      "source": [
        "X = df['content'] # collection of news data\n",
        "y = df['category'] # labels(i.e.,for the 4 different news categories)\n",
        "X_train, X_test, y_train, y_test = train_test_split(X, y, \n",
        "                                                    test_size=0.25,\n",
        "                                                    random_state = 0)\n",
        "print(\"shape of x_train set :\", X_train.shape)\n",
        "print(\"shape of y_train set :\",y_train.shape)\n",
        "print(\"shape of x_test set :\",X_test.shape)\n",
        "print(\"shape of y_test set :\",y_test.shape)"
      ],
      "execution_count": null,
      "outputs": [
        {
          "output_type": "stream",
          "text": [
            "shape of x_train set : (3863,)\n",
            "shape of y_train set : (3863,)\n",
            "shape of x_test set : (1288,)\n",
            "shape of y_test set : (1288,)\n"
          ],
          "name": "stdout"
        }
      ]
    },
    {
      "cell_type": "code",
      "metadata": {
        "id": "APq5cr8D5a3j"
      },
      "source": [
        "models = [\n",
        "    RandomForestClassifier(n_estimators=100, max_depth=5, random_state=0),\n",
        "    LinearSVC(),\n",
        "    MultinomialNB(),\n",
        "    LogisticRegression(random_state=0),\n",
        "]\n",
        "# Cross-validation\n",
        "CV = 5\n",
        "cv_df = pd.DataFrame(index=range(CV * len(models)))\n",
        "entries = []\n",
        "for model in models:\n",
        "    model_name = model.__class__.__name__\n",
        "    accuracies = cross_val_score(model, features, labels, scoring='accuracy', cv=CV)\n",
        "    for fold_idx, accuracy in enumerate(accuracies):\n",
        "        entries.append((model_name, fold_idx, accuracy))\n",
        "    \n",
        "cv_df = pd.DataFrame(entries, columns=['model_name', 'fold_idx', 'accuracy'])"
      ],
      "execution_count": null,
      "outputs": []
    },
    {
      "cell_type": "code",
      "metadata": {
        "colab": {
          "base_uri": "https://localhost:8080/",
          "height": 197
        },
        "id": "u5MmmWH65j-s",
        "outputId": "116f9857-422a-4aac-c215-001717e8ec13"
      },
      "source": [
        "mean_accuracy = cv_df.groupby('model_name').accuracy.mean()\n",
        "std_accuracy = cv_df.groupby('model_name').accuracy.std()\n",
        "acc = pd.concat([mean_accuracy, std_accuracy], axis= 1, \n",
        "          ignore_index=True)\n",
        "acc.columns = ['Mean Accuracy', 'Standard deviation']\n",
        "acc"
      ],
      "execution_count": null,
      "outputs": [
        {
          "output_type": "execute_result",
          "data": {
            "text/html": [
              "<div>\n",
              "<style scoped>\n",
              "    .dataframe tbody tr th:only-of-type {\n",
              "        vertical-align: middle;\n",
              "    }\n",
              "\n",
              "    .dataframe tbody tr th {\n",
              "        vertical-align: top;\n",
              "    }\n",
              "\n",
              "    .dataframe thead th {\n",
              "        text-align: right;\n",
              "    }\n",
              "</style>\n",
              "<table border=\"1\" class=\"dataframe\">\n",
              "  <thead>\n",
              "    <tr style=\"text-align: right;\">\n",
              "      <th></th>\n",
              "      <th>Mean Accuracy</th>\n",
              "      <th>Standard deviation</th>\n",
              "    </tr>\n",
              "    <tr>\n",
              "      <th>model_name</th>\n",
              "      <th></th>\n",
              "      <th></th>\n",
              "    </tr>\n",
              "  </thead>\n",
              "  <tbody>\n",
              "    <tr>\n",
              "      <th>LinearSVC</th>\n",
              "      <td>0.869928</td>\n",
              "      <td>0.008002</td>\n",
              "    </tr>\n",
              "    <tr>\n",
              "      <th>LogisticRegression</th>\n",
              "      <td>0.862745</td>\n",
              "      <td>0.007406</td>\n",
              "    </tr>\n",
              "    <tr>\n",
              "      <th>MultinomialNB</th>\n",
              "      <td>0.810718</td>\n",
              "      <td>0.010381</td>\n",
              "    </tr>\n",
              "    <tr>\n",
              "      <th>RandomForestClassifier</th>\n",
              "      <td>0.660845</td>\n",
              "      <td>0.013280</td>\n",
              "    </tr>\n",
              "  </tbody>\n",
              "</table>\n",
              "</div>"
            ],
            "text/plain": [
              "                        Mean Accuracy  Standard deviation\n",
              "model_name                                               \n",
              "LinearSVC                    0.869928            0.008002\n",
              "LogisticRegression           0.862745            0.007406\n",
              "MultinomialNB                0.810718            0.010381\n",
              "RandomForestClassifier       0.660845            0.013280"
            ]
          },
          "metadata": {
            "tags": []
          },
          "execution_count": 16
        }
      ]
    },
    {
      "cell_type": "code",
      "metadata": {
        "colab": {
          "base_uri": "https://localhost:8080/"
        },
        "id": "k69HxD5A7JZy",
        "outputId": "e054d5d7-1498-478b-dbcb-37a3bfff672e"
      },
      "source": [
        "X_train, X_test, y_train, y_test,indices_train,indices_test = train_test_split(features, \n",
        "                                                               labels, \n",
        "                                                               df.index, test_size=0.25, \n",
        "                                                               random_state=1)\n",
        "model = LinearSVC(random_state=0)\n",
        "model.fit(X_train, y_train)\n",
        "y_pred = model.predict(X_test)\n",
        "# Classification report\n",
        "print('\\t\\t\\tCLASSIFICATIION REPORT\\n')\n",
        "print(metrics.classification_report(y_test, y_pred, \n",
        "                                    target_names= df['category'].unique()))"
      ],
      "execution_count": null,
      "outputs": [
        {
          "output_type": "stream",
          "text": [
            "\t\t\tCLASSIFICATIION REPORT\n",
            "\n",
            "              precision    recall  f1-score   support\n",
            "\n",
            "     Kitaifa       0.84      0.86      0.85       510\n",
            "    Biashara       0.84      0.82      0.83       343\n",
            "     michezo       0.94      0.97      0.96       415\n",
            "   Kimataifa       0.50      0.06      0.11        17\n",
            "    Burudani       1.00      0.33      0.50         3\n",
            "\n",
            "    accuracy                           0.87      1288\n",
            "   macro avg       0.82      0.61      0.65      1288\n",
            "weighted avg       0.87      0.87      0.87      1288\n",
            "\n"
          ],
          "name": "stdout"
        }
      ]
    },
    {
      "cell_type": "code",
      "metadata": {
        "colab": {
          "base_uri": "https://localhost:8080/"
        },
        "id": "IyMv1rl57dUD",
        "outputId": "7f3e1917-7e20-44f1-eaab-2507f1c79e4b"
      },
      "source": [
        "print(\"Accuracy:\",metrics.accuracy_score(y_test, y_pred))"
      ],
      "execution_count": null,
      "outputs": [
        {
          "output_type": "stream",
          "text": [
            "Accuracy: 0.8726708074534162\n"
          ],
          "name": "stdout"
        }
      ]
    },
    {
      "cell_type": "code",
      "metadata": {
        "colab": {
          "base_uri": "https://localhost:8080/",
          "height": 547
        },
        "id": "kfGcVFQM7kEX",
        "outputId": "e6bfc5b4-ee80-4aac-9e50-26521ae55b96"
      },
      "source": [
        "import seaborn as sns\n",
        "conf_mat = confusion_matrix(y_test, y_pred)\n",
        "fig, ax = plt.subplots(figsize=(8,8))\n",
        "sns.heatmap(conf_mat, annot=True, cmap=\"Blues\", fmt='d',\n",
        "            xticklabels=new_df.category.values, \n",
        "            yticklabels=new_df.category.values)\n",
        "plt.ylabel('Actual')\n",
        "plt.xlabel('Predicted')\n",
        "plt.title(\"CONFUSION MATRIX - Logistic Regression\\n\", size=14)"
      ],
      "execution_count": null,
      "outputs": [
        {
          "output_type": "execute_result",
          "data": {
            "text/plain": [
              "Text(0.5, 1.0, 'CONFUSION MATRIX - Logistic Regression\\n')"
            ]
          },
          "metadata": {
            "tags": []
          },
          "execution_count": 20
        },
        {
          "output_type": "display_data",
          "data": {
            "image/png": "[encoded data removed]",
            "text/plain": [
              "<Figure size 576x576 with 2 Axes>"
            ]
          },
          "metadata": {
            "tags": [],
            "needs_background": "light"
          }
        }
      ]
    },
    {
      "cell_type": "code",
      "metadata": {
        "colab": {
          "base_uri": "https://localhost:8080/",
          "height": 1000
        },
        "id": "vMRljdkm721z",
        "outputId": "7568a810-c70a-49dd-a3e2-c91a0467c67d"
      },
      "source": [
        "for predicted in new_df.label_id:\n",
        "    for actual in new_df.label_id:\n",
        "        if predicted != actual and conf_mat[actual, predicted] >= 20:\n",
        "            print(\"actual class '{}' predicted as '{}' : {} examples.\".format(id_to_category[actual], \n",
        "                                                           id_to_category[predicted], \n",
        "                                                           conf_mat[actual, predicted]))\n",
        "    \n",
        "            display(df.loc[indices_test[(y_test == actual) & (y_pred == predicted)]][['category', \n",
        "                                                                'content']])\n",
        "            print('')"
      ],
      "execution_count": null,
      "outputs": [
        {
          "output_type": "stream",
          "text": [
            "actual class 'Biashara' predicted as 'Kitaifa' : 63 examples.\n"
          ],
          "name": "stdout"
        },
        {
          "output_type": "display_data",
          "data": {
            "text/html": [
              "<div>\n",
              "<style scoped>\n",
              "    .dataframe tbody tr th:only-of-type {\n",
              "        vertical-align: middle;\n",
              "    }\n",
              "\n",
              "    .dataframe tbody tr th {\n",
              "        vertical-align: top;\n",
              "    }\n",
              "\n",
              "    .dataframe thead th {\n",
              "        text-align: right;\n",
              "    }\n",
              "</style>\n",
              "<table border=\"1\" class=\"dataframe\">\n",
              "  <thead>\n",
              "    <tr style=\"text-align: right;\">\n",
              "      <th></th>\n",
              "      <th>category</th>\n",
              "      <th>content</th>\n",
              "    </tr>\n",
              "  </thead>\n",
              "  <tbody>\n",
              "    <tr>\n",
              "      <th>2097</th>\n",
              "      <td>Biashara</td>\n",
              "      <td>rais john magufuli leo anakutana wafanyabiasha...</td>\n",
              "    </tr>\n",
              "    <tr>\n",
              "      <th>1264</th>\n",
              "      <td>Biashara</td>\n",
              "      <td>waziri mkuu kassim majaliwa ameitaka wizara ki...</td>\n",
              "    </tr>\n",
              "    <tr>\n",
              "      <th>3722</th>\n",
              "      <td>Biashara</td>\n",
              "      <td>kipindi mwaka mmoja kufikia desemba mwaka jana...</td>\n",
              "    </tr>\n",
              "    <tr>\n",
              "      <th>3251</th>\n",
              "      <td>Biashara</td>\n",
              "      <td>hayo yalibainishwa mwishoni wiki waziri fedha ...</td>\n",
              "    </tr>\n",
              "    <tr>\n",
              "      <th>4557</th>\n",
              "      <td>Biashara</td>\n",
              "      <td>mpango uliopewa jina kili challenge unadhamini...</td>\n",
              "    </tr>\n",
              "    <tr>\n",
              "      <th>...</th>\n",
              "      <td>...</td>\n",
              "      <td>...</td>\n",
              "    </tr>\n",
              "    <tr>\n",
              "      <th>4107</th>\n",
              "      <td>Biashara</td>\n",
              "      <td>waziri huyo aliyeongozana waziri maji umwagili...</td>\n",
              "    </tr>\n",
              "    <tr>\n",
              "      <th>921</th>\n",
              "      <td>Biashara</td>\n",
              "      <td>nchemba aliyasema hayo mwishoni wiki bungeni m...</td>\n",
              "    </tr>\n",
              "    <tr>\n",
              "      <th>3278</th>\n",
              "      <td>Biashara</td>\n",
              "      <td>ameyasema hayo dar es salaam kongamano siku ku...</td>\n",
              "    </tr>\n",
              "    <tr>\n",
              "      <th>3077</th>\n",
              "      <td>Biashara</td>\n",
              "      <td>mujibu momgela ongezeko wafanyabiashara jiji a...</td>\n",
              "    </tr>\n",
              "    <tr>\n",
              "      <th>1634</th>\n",
              "      <td>Biashara</td>\n",
              "      <td>ujumbe kampuni uwekezaji austria unatarajiwa k...</td>\n",
              "    </tr>\n",
              "  </tbody>\n",
              "</table>\n",
              "<p>63 rows × 2 columns</p>\n",
              "</div>"
            ],
            "text/plain": [
              "      category                                            content\n",
              "2097  Biashara  rais john magufuli leo anakutana wafanyabiasha...\n",
              "1264  Biashara  waziri mkuu kassim majaliwa ameitaka wizara ki...\n",
              "3722  Biashara  kipindi mwaka mmoja kufikia desemba mwaka jana...\n",
              "3251  Biashara  hayo yalibainishwa mwishoni wiki waziri fedha ...\n",
              "4557  Biashara  mpango uliopewa jina kili challenge unadhamini...\n",
              "...        ...                                                ...\n",
              "4107  Biashara  waziri huyo aliyeongozana waziri maji umwagili...\n",
              "921   Biashara  nchemba aliyasema hayo mwishoni wiki bungeni m...\n",
              "3278  Biashara  ameyasema hayo dar es salaam kongamano siku ku...\n",
              "3077  Biashara  mujibu momgela ongezeko wafanyabiashara jiji a...\n",
              "1634  Biashara  ujumbe kampuni uwekezaji austria unatarajiwa k...\n",
              "\n",
              "[63 rows x 2 columns]"
            ]
          },
          "metadata": {
            "tags": []
          }
        },
        {
          "output_type": "stream",
          "text": [
            "\n",
            "actual class 'Kitaifa' predicted as 'Biashara' : 49 examples.\n"
          ],
          "name": "stdout"
        },
        {
          "output_type": "display_data",
          "data": {
            "text/html": [
              "<div>\n",
              "<style scoped>\n",
              "    .dataframe tbody tr th:only-of-type {\n",
              "        vertical-align: middle;\n",
              "    }\n",
              "\n",
              "    .dataframe tbody tr th {\n",
              "        vertical-align: top;\n",
              "    }\n",
              "\n",
              "    .dataframe thead th {\n",
              "        text-align: right;\n",
              "    }\n",
              "</style>\n",
              "<table border=\"1\" class=\"dataframe\">\n",
              "  <thead>\n",
              "    <tr style=\"text-align: right;\">\n",
              "      <th></th>\n",
              "      <th>category</th>\n",
              "      <th>content</th>\n",
              "    </tr>\n",
              "  </thead>\n",
              "  <tbody>\n",
              "    <tr>\n",
              "      <th>1141</th>\n",
              "      <td>Kitaifa</td>\n",
              "      <td>waziri madini angellah kairuki amesema wizara ...</td>\n",
              "    </tr>\n",
              "    <tr>\n",
              "      <th>678</th>\n",
              "      <td>Kitaifa</td>\n",
              "      <td>meneja mamlaka usimamizi bima tira kanda stell...</td>\n",
              "    </tr>\n",
              "    <tr>\n",
              "      <th>2905</th>\n",
              "      <td>Kitaifa</td>\n",
              "      <td>waziri habari utamaduni sanaa michezo dk harri...</td>\n",
              "    </tr>\n",
              "    <tr>\n",
              "      <th>4479</th>\n",
              "      <td>Kitaifa</td>\n",
              "      <td>msimu kuelekea krismasi mwaka mpya wafanyabias...</td>\n",
              "    </tr>\n",
              "    <tr>\n",
              "      <th>4538</th>\n",
              "      <td>Kitaifa</td>\n",
              "      <td>kuhakikisha magazeti habarileo spotileo daily ...</td>\n",
              "    </tr>\n",
              "    <tr>\n",
              "      <th>440</th>\n",
              "      <td>Kitaifa</td>\n",
              "      <td>rais zanzibar dk ali mohamed shein amesema kut...</td>\n",
              "    </tr>\n",
              "    <tr>\n",
              "      <th>4303</th>\n",
              "      <td>Kitaifa</td>\n",
              "      <td>rais john magufuli anatarajiwa mgeni rasmi kil...</td>\n",
              "    </tr>\n",
              "    <tr>\n",
              "      <th>4040</th>\n",
              "      <td>Kitaifa</td>\n",
              "      <td>waziri mkuu kassim majaliwa ameutaka mkoa tabo...</td>\n",
              "    </tr>\n",
              "    <tr>\n",
              "      <th>1379</th>\n",
              "      <td>Kitaifa</td>\n",
              "      <td>wizara maliasili utalii imeunda kamati yenye j...</td>\n",
              "    </tr>\n",
              "    <tr>\n",
              "      <th>473</th>\n",
              "      <td>Kitaifa</td>\n",
              "      <td>wananchi vijiji kitongosima shinembo wilaya ma...</td>\n",
              "    </tr>\n",
              "    <tr>\n",
              "      <th>4045</th>\n",
              "      <td>Kitaifa</td>\n",
              "      <td>mkutano mkuu kampuni umma jenga afya teketeza ...</td>\n",
              "    </tr>\n",
              "    <tr>\n",
              "      <th>1791</th>\n",
              "      <td>Kitaifa</td>\n",
              "      <td>maadhimisho siku nyuki duniani yameanza kuadhi...</td>\n",
              "    </tr>\n",
              "    <tr>\n",
              "      <th>5081</th>\n",
              "      <td>Kitaifa</td>\n",
              "      <td>kampuni inayotoa huduma usafi ri njia mtandaon...</td>\n",
              "    </tr>\n",
              "    <tr>\n",
              "      <th>3056</th>\n",
              "      <td>Kitaifa</td>\n",
              "      <td>halmashauri wilaya rombo mkoa kilimanjaro imew...</td>\n",
              "    </tr>\n",
              "    <tr>\n",
              "      <th>4309</th>\n",
              "      <td>Kitaifa</td>\n",
              "      <td>serikali mapinduzi zanzibar imesema uvuvi hara...</td>\n",
              "    </tr>\n",
              "    <tr>\n",
              "      <th>5128</th>\n",
              "      <td>Kitaifa</td>\n",
              "      <td>chama mawakala forodha taffa tawi namanga kime...</td>\n",
              "    </tr>\n",
              "    <tr>\n",
              "      <th>4229</th>\n",
              "      <td>Kitaifa</td>\n",
              "      <td>halmashauri wilaya nane mkoa tabora zimeanika ...</td>\n",
              "    </tr>\n",
              "    <tr>\n",
              "      <th>4586</th>\n",
              "      <td>Kitaifa</td>\n",
              "      <td>jarida forbes afrika limeutaja utawala rais jo...</td>\n",
              "    </tr>\n",
              "    <tr>\n",
              "      <th>2520</th>\n",
              "      <td>Kitaifa</td>\n",
              "      <td>rais john magufuli amemwagiza waziri madini do...</td>\n",
              "    </tr>\n",
              "    <tr>\n",
              "      <th>501</th>\n",
              "      <td>Kitaifa</td>\n",
              "      <td>kufuatia kuwepo taarifa zilizoenea kusimamishw...</td>\n",
              "    </tr>\n",
              "    <tr>\n",
              "      <th>3910</th>\n",
              "      <td>Kitaifa</td>\n",
              "      <td>ofi taifa takwimu nbs ikifanya maandalizi sens...</td>\n",
              "    </tr>\n",
              "    <tr>\n",
              "      <th>2185</th>\n",
              "      <td>Kitaifa</td>\n",
              "      <td>serikali imetaifi sha jumla leseni madini zili...</td>\n",
              "    </tr>\n",
              "    <tr>\n",
              "      <th>2869</th>\n",
              "      <td>Kitaifa</td>\n",
              "      <td>mbunge geita mjini ccm naibu waziri maliasili ...</td>\n",
              "    </tr>\n",
              "    <tr>\n",
              "      <th>2473</th>\n",
              "      <td>Kitaifa</td>\n",
              "      <td>tangu kuanza kuadhimishwa siku kimondo duniani...</td>\n",
              "    </tr>\n",
              "    <tr>\n",
              "      <th>3940</th>\n",
              "      <td>Kitaifa</td>\n",
              "      <td>shirika taifa hifadhi jamii nssf limepanga kut...</td>\n",
              "    </tr>\n",
              "    <tr>\n",
              "      <th>4740</th>\n",
              "      <td>Kitaifa</td>\n",
              "      <td>mkurugenzi mkuu mamlaka maonesho viwanda biash...</td>\n",
              "    </tr>\n",
              "    <tr>\n",
              "      <th>2723</th>\n",
              "      <td>Kitaifa</td>\n",
              "      <td>wizara fedha mipango uchumi imesaini makubalia...</td>\n",
              "    </tr>\n",
              "    <tr>\n",
              "      <th>1016</th>\n",
              "      <td>Kitaifa</td>\n",
              "      <td>kutokana maelekezo yaliyotolewa rais john magu...</td>\n",
              "    </tr>\n",
              "    <tr>\n",
              "      <th>196</th>\n",
              "      <td>Kitaifa</td>\n",
              "      <td>rwanda imeshika nafasi umaarufu afrika kuandaa...</td>\n",
              "    </tr>\n",
              "    <tr>\n",
              "      <th>1764</th>\n",
              "      <td>Kitaifa</td>\n",
              "      <td>masuala mbalimbali yakiwemo tisa yaliyokuwa ya...</td>\n",
              "    </tr>\n",
              "    <tr>\n",
              "      <th>1924</th>\n",
              "      <td>Kitaifa</td>\n",
              "      <td>waziri nchi ofisi waziri mkuu sera bunge ajira...</td>\n",
              "    </tr>\n",
              "    <tr>\n",
              "      <th>2921</th>\n",
              "      <td>Kitaifa</td>\n",
              "      <td>rais john magufuli amesema anatamani atakapoma...</td>\n",
              "    </tr>\n",
              "    <tr>\n",
              "      <th>557</th>\n",
              "      <td>Kitaifa</td>\n",
              "      <td>wizara mifugo uvuvi imewaonya wafanyabiashara ...</td>\n",
              "    </tr>\n",
              "    <tr>\n",
              "      <th>3530</th>\n",
              "      <td>Kitaifa</td>\n",
              "      <td>leo waziri madini angela kairuki ataongozana w...</td>\n",
              "    </tr>\n",
              "    <tr>\n",
              "      <th>1416</th>\n",
              "      <td>Kitaifa</td>\n",
              "      <td>rais john magufuli amekabidhi vitambulisho wak...</td>\n",
              "    </tr>\n",
              "    <tr>\n",
              "      <th>3783</th>\n",
              "      <td>Kitaifa</td>\n",
              "      <td>suala mafuta kula yaliyoingizwa nchini nyaraka...</td>\n",
              "    </tr>\n",
              "    <tr>\n",
              "      <th>111</th>\n",
              "      <td>Kitaifa</td>\n",
              "      <td>nchi kiafrika zimeiomba china kuhakikisha ufad...</td>\n",
              "    </tr>\n",
              "    <tr>\n",
              "      <th>2402</th>\n",
              "      <td>Kitaifa</td>\n",
              "      <td>soko kimataifa mazao yanayotokana muhogo linat...</td>\n",
              "    </tr>\n",
              "    <tr>\n",
              "      <th>2332</th>\n",
              "      <td>Kitaifa</td>\n",
              "      <td>serikali imewasilisha bungeni muswada kuzifany...</td>\n",
              "    </tr>\n",
              "    <tr>\n",
              "      <th>2756</th>\n",
              "      <td>Kitaifa</td>\n",
              "      <td>china inakusudia kujenga kituo kisasa kibiasha...</td>\n",
              "    </tr>\n",
              "    <tr>\n",
              "      <th>2617</th>\n",
              "      <td>Kitaifa</td>\n",
              "      <td>wachimbaji wafanyabiashara wadau sekta madini ...</td>\n",
              "    </tr>\n",
              "    <tr>\n",
              "      <th>1432</th>\n",
              "      <td>Kitaifa</td>\n",
              "      <td>jozi milioni viatu zimekuwa zikiingizwa mwaka ...</td>\n",
              "    </tr>\n",
              "    <tr>\n",
              "      <th>563</th>\n",
              "      <td>Kitaifa</td>\n",
              "      <td>serikali ikiendelea ujenzi reli kisasa dar es ...</td>\n",
              "    </tr>\n",
              "    <tr>\n",
              "      <th>518</th>\n",
              "      <td>Kitaifa</td>\n",
              "      <td>ofisi waziri mkuu inayoshughulikia sera bunge ...</td>\n",
              "    </tr>\n",
              "    <tr>\n",
              "      <th>993</th>\n",
              "      <td>Kitaifa</td>\n",
              "      <td>ubalozi thailand nchini umeanza mikakati kuten...</td>\n",
              "    </tr>\n",
              "    <tr>\n",
              "      <th>1669</th>\n",
              "      <td>Kitaifa</td>\n",
              "      <td>viwanda vikubwa jijini arusha vimeipongeza ser...</td>\n",
              "    </tr>\n",
              "    <tr>\n",
              "      <th>946</th>\n",
              "      <td>Kitaifa</td>\n",
              "      <td>bunge limeridhia kubadilisha hadhi mapori akib...</td>\n",
              "    </tr>\n",
              "    <tr>\n",
              "      <th>3304</th>\n",
              "      <td>Kitaifa</td>\n",
              "      <td>kutorejeshwa fedha zilizoazimwa mamlaka serika...</td>\n",
              "    </tr>\n",
              "    <tr>\n",
              "      <th>4822</th>\n",
              "      <td>Kitaifa</td>\n",
              "      <td>rais john magufuli amesema serikali itachukua ...</td>\n",
              "    </tr>\n",
              "  </tbody>\n",
              "</table>\n",
              "</div>"
            ],
            "text/plain": [
              "     category                                            content\n",
              "1141  Kitaifa  waziri madini angellah kairuki amesema wizara ...\n",
              "678   Kitaifa  meneja mamlaka usimamizi bima tira kanda stell...\n",
              "2905  Kitaifa  waziri habari utamaduni sanaa michezo dk harri...\n",
              "4479  Kitaifa  msimu kuelekea krismasi mwaka mpya wafanyabias...\n",
              "4538  Kitaifa  kuhakikisha magazeti habarileo spotileo daily ...\n",
              "440   Kitaifa  rais zanzibar dk ali mohamed shein amesema kut...\n",
              "4303  Kitaifa  rais john magufuli anatarajiwa mgeni rasmi kil...\n",
              "4040  Kitaifa  waziri mkuu kassim majaliwa ameutaka mkoa tabo...\n",
              "1379  Kitaifa  wizara maliasili utalii imeunda kamati yenye j...\n",
              "473   Kitaifa  wananchi vijiji kitongosima shinembo wilaya ma...\n",
              "4045  Kitaifa  mkutano mkuu kampuni umma jenga afya teketeza ...\n",
              "1791  Kitaifa  maadhimisho siku nyuki duniani yameanza kuadhi...\n",
              "5081  Kitaifa  kampuni inayotoa huduma usafi ri njia mtandaon...\n",
              "3056  Kitaifa  halmashauri wilaya rombo mkoa kilimanjaro imew...\n",
              "4309  Kitaifa  serikali mapinduzi zanzibar imesema uvuvi hara...\n",
              "5128  Kitaifa  chama mawakala forodha taffa tawi namanga kime...\n",
              "4229  Kitaifa  halmashauri wilaya nane mkoa tabora zimeanika ...\n",
              "4586  Kitaifa  jarida forbes afrika limeutaja utawala rais jo...\n",
              "2520  Kitaifa  rais john magufuli amemwagiza waziri madini do...\n",
              "501   Kitaifa  kufuatia kuwepo taarifa zilizoenea kusimamishw...\n",
              "3910  Kitaifa  ofi taifa takwimu nbs ikifanya maandalizi sens...\n",
              "2185  Kitaifa  serikali imetaifi sha jumla leseni madini zili...\n",
              "2869  Kitaifa  mbunge geita mjini ccm naibu waziri maliasili ...\n",
              "2473  Kitaifa  tangu kuanza kuadhimishwa siku kimondo duniani...\n",
              "3940  Kitaifa  shirika taifa hifadhi jamii nssf limepanga kut...\n",
              "4740  Kitaifa  mkurugenzi mkuu mamlaka maonesho viwanda biash...\n",
              "2723  Kitaifa  wizara fedha mipango uchumi imesaini makubalia...\n",
              "1016  Kitaifa  kutokana maelekezo yaliyotolewa rais john magu...\n",
              "196   Kitaifa  rwanda imeshika nafasi umaarufu afrika kuandaa...\n",
              "1764  Kitaifa  masuala mbalimbali yakiwemo tisa yaliyokuwa ya...\n",
              "1924  Kitaifa  waziri nchi ofisi waziri mkuu sera bunge ajira...\n",
              "2921  Kitaifa  rais john magufuli amesema anatamani atakapoma...\n",
              "557   Kitaifa  wizara mifugo uvuvi imewaonya wafanyabiashara ...\n",
              "3530  Kitaifa  leo waziri madini angela kairuki ataongozana w...\n",
              "1416  Kitaifa  rais john magufuli amekabidhi vitambulisho wak...\n",
              "3783  Kitaifa  suala mafuta kula yaliyoingizwa nchini nyaraka...\n",
              "111   Kitaifa  nchi kiafrika zimeiomba china kuhakikisha ufad...\n",
              "2402  Kitaifa  soko kimataifa mazao yanayotokana muhogo linat...\n",
              "2332  Kitaifa  serikali imewasilisha bungeni muswada kuzifany...\n",
              "2756  Kitaifa  china inakusudia kujenga kituo kisasa kibiasha...\n",
              "2617  Kitaifa  wachimbaji wafanyabiashara wadau sekta madini ...\n",
              "1432  Kitaifa  jozi milioni viatu zimekuwa zikiingizwa mwaka ...\n",
              "563   Kitaifa  serikali ikiendelea ujenzi reli kisasa dar es ...\n",
              "518   Kitaifa  ofisi waziri mkuu inayoshughulikia sera bunge ...\n",
              "993   Kitaifa  ubalozi thailand nchini umeanza mikakati kuten...\n",
              "1669  Kitaifa  viwanda vikubwa jijini arusha vimeipongeza ser...\n",
              "946   Kitaifa  bunge limeridhia kubadilisha hadhi mapori akib...\n",
              "3304  Kitaifa  kutorejeshwa fedha zilizoazimwa mamlaka serika...\n",
              "4822  Kitaifa  rais john magufuli amesema serikali itachukua ..."
            ]
          },
          "metadata": {
            "tags": []
          }
        },
        {
          "output_type": "stream",
          "text": [
            "\n",
            "actual class 'Kitaifa' predicted as 'michezo' : 21 examples.\n"
          ],
          "name": "stdout"
        },
        {
          "output_type": "display_data",
          "data": {
            "text/html": [
              "<div>\n",
              "<style scoped>\n",
              "    .dataframe tbody tr th:only-of-type {\n",
              "        vertical-align: middle;\n",
              "    }\n",
              "\n",
              "    .dataframe tbody tr th {\n",
              "        vertical-align: top;\n",
              "    }\n",
              "\n",
              "    .dataframe thead th {\n",
              "        text-align: right;\n",
              "    }\n",
              "</style>\n",
              "<table border=\"1\" class=\"dataframe\">\n",
              "  <thead>\n",
              "    <tr style=\"text-align: right;\">\n",
              "      <th></th>\n",
              "      <th>category</th>\n",
              "      <th>content</th>\n",
              "    </tr>\n",
              "  </thead>\n",
              "  <tbody>\n",
              "    <tr>\n",
              "      <th>4017</th>\n",
              "      <td>Kitaifa</td>\n",
              "      <td>timu taifa afrika car mbili ilitoka nyuma kuil...</td>\n",
              "    </tr>\n",
              "    <tr>\n",
              "      <th>2229</th>\n",
              "      <td>Kitaifa</td>\n",
              "      <td>nigeria imetangaza majina wachezaji ajili fain...</td>\n",
              "    </tr>\n",
              "    <tr>\n",
              "      <th>4242</th>\n",
              "      <td>Kitaifa</td>\n",
              "      <td>naibu waziri habari utamaduni sanaa michezo ju...</td>\n",
              "    </tr>\n",
              "    <tr>\n",
              "      <th>2720</th>\n",
              "      <td>Kitaifa</td>\n",
              "      <td>kinara ligi kuu tanzania bara tpl yanga amepan...</td>\n",
              "    </tr>\n",
              "    <tr>\n",
              "      <th>984</th>\n",
              "      <td>Kitaifa</td>\n",
              "      <td>kikosi mabingwa soka tanzania bara simba jana ...</td>\n",
              "    </tr>\n",
              "    <tr>\n",
              "      <th>3689</th>\n",
              "      <td>Kitaifa</td>\n",
              "      <td>mbio ubingwa ligi kuu bara vigogo ligi yanga a...</td>\n",
              "    </tr>\n",
              "    <tr>\n",
              "      <th>1848</th>\n",
              "      <td>Kitaifa</td>\n",
              "      <td>kuelekea kilele tamasha tigo fiesta kesho wasa...</td>\n",
              "    </tr>\n",
              "    <tr>\n",
              "      <th>1960</th>\n",
              "      <td>Kitaifa</td>\n",
              "      <td>klabu azam fc imewatema nyota wanane kikosi ms...</td>\n",
              "    </tr>\n",
              "    <tr>\n",
              "      <th>372</th>\n",
              "      <td>Kitaifa</td>\n",
              "      <td>mwanaume kijiji obama jimbo migori nchini keny...</td>\n",
              "    </tr>\n",
              "    <tr>\n",
              "      <th>1299</th>\n",
              "      <td>Kitaifa</td>\n",
              "      <td>msanii muziki nchini richard mavoko amekanusha...</td>\n",
              "    </tr>\n",
              "    <tr>\n",
              "      <th>322</th>\n",
              "      <td>Kitaifa</td>\n",
              "      <td>kesho jumamosi wawakilishi tanzania michuano l...</td>\n",
              "    </tr>\n",
              "    <tr>\n",
              "      <th>3836</th>\n",
              "      <td>Kitaifa</td>\n",
              "      <td>wasanii muziki kizazi kipya naseeb abdul maaru...</td>\n",
              "    </tr>\n",
              "    <tr>\n",
              "      <th>1687</th>\n",
              "      <td>Kitaifa</td>\n",
              "      <td>kocha mkuu simba patrick aussems amesema bahat...</td>\n",
              "    </tr>\n",
              "    <tr>\n",
              "      <th>2036</th>\n",
              "      <td>Kitaifa</td>\n",
              "      <td>mwezi uliopita mbunge geita vijijini joseph ka...</td>\n",
              "    </tr>\n",
              "    <tr>\n",
              "      <th>1852</th>\n",
              "      <td>Kitaifa</td>\n",
              "      <td>shilingi milioni zinatarajiwa kukusanywa taasi...</td>\n",
              "    </tr>\n",
              "    <tr>\n",
              "      <th>685</th>\n",
              "      <td>Kitaifa</td>\n",
              "      <td>bodi michezo kubahatisha imesema kuhakikisha i...</td>\n",
              "    </tr>\n",
              "    <tr>\n",
              "      <th>3205</th>\n",
              "      <td>Kitaifa</td>\n",
              "      <td>kocha yanga mwinyi zahera amefurahishwa kikosi...</td>\n",
              "    </tr>\n",
              "    <tr>\n",
              "      <th>4204</th>\n",
              "      <td>Kitaifa</td>\n",
              "      <td>mashindano ligi daraja imemalizika karibuni ti...</td>\n",
              "    </tr>\n",
              "    <tr>\n",
              "      <th>368</th>\n",
              "      <td>Kitaifa</td>\n",
              "      <td>tamasha tigo fiesta mwaka lililokuwa lifanyike...</td>\n",
              "    </tr>\n",
              "    <tr>\n",
              "      <th>4008</th>\n",
              "      <td>Kitaifa</td>\n",
              "      <td>uongozi timu soka zimamoto inayoshiriki ligi k...</td>\n",
              "    </tr>\n",
              "    <tr>\n",
              "      <th>3219</th>\n",
              "      <td>Kitaifa</td>\n",
              "      <td>serikali kenya imeungana uganda kupiga marufuk...</td>\n",
              "    </tr>\n",
              "  </tbody>\n",
              "</table>\n",
              "</div>"
            ],
            "text/plain": [
              "     category                                            content\n",
              "4017  Kitaifa  timu taifa afrika car mbili ilitoka nyuma kuil...\n",
              "2229  Kitaifa  nigeria imetangaza majina wachezaji ajili fain...\n",
              "4242  Kitaifa  naibu waziri habari utamaduni sanaa michezo ju...\n",
              "2720  Kitaifa  kinara ligi kuu tanzania bara tpl yanga amepan...\n",
              "984   Kitaifa  kikosi mabingwa soka tanzania bara simba jana ...\n",
              "3689  Kitaifa  mbio ubingwa ligi kuu bara vigogo ligi yanga a...\n",
              "1848  Kitaifa  kuelekea kilele tamasha tigo fiesta kesho wasa...\n",
              "1960  Kitaifa  klabu azam fc imewatema nyota wanane kikosi ms...\n",
              "372   Kitaifa  mwanaume kijiji obama jimbo migori nchini keny...\n",
              "1299  Kitaifa  msanii muziki nchini richard mavoko amekanusha...\n",
              "322   Kitaifa  kesho jumamosi wawakilishi tanzania michuano l...\n",
              "3836  Kitaifa  wasanii muziki kizazi kipya naseeb abdul maaru...\n",
              "1687  Kitaifa  kocha mkuu simba patrick aussems amesema bahat...\n",
              "2036  Kitaifa  mwezi uliopita mbunge geita vijijini joseph ka...\n",
              "1852  Kitaifa  shilingi milioni zinatarajiwa kukusanywa taasi...\n",
              "685   Kitaifa  bodi michezo kubahatisha imesema kuhakikisha i...\n",
              "3205  Kitaifa  kocha yanga mwinyi zahera amefurahishwa kikosi...\n",
              "4204  Kitaifa  mashindano ligi daraja imemalizika karibuni ti...\n",
              "368   Kitaifa  tamasha tigo fiesta mwaka lililokuwa lifanyike...\n",
              "4008  Kitaifa  uongozi timu soka zimamoto inayoshiriki ligi k...\n",
              "3219  Kitaifa  serikali kenya imeungana uganda kupiga marufuk..."
            ]
          },
          "metadata": {
            "tags": []
          }
        },
        {
          "output_type": "stream",
          "text": [
            "\n"
          ],
          "name": "stdout"
        }
      ]
    },
    {
      "cell_type": "code",
      "metadata": {
        "id": "Gw8gT6Ef9YMD"
      },
      "source": [
        "'''\n",
        "# save the model\n",
        "model_filename = open('finalized_model.sav', 'wb')\n",
        "pickle.dump(model, model_filename)\n",
        "model_filename.close()\n",
        "# save fitted vectorizer to use for the prediction time\n",
        "tf_idf_output = open('fitted_vectorizer.pickle', 'wb')\n",
        "pickle.dump(fitted_vectorizer, tf_idf_output)\n",
        "tf_idf_output.close()\n",
        "# save the dictionaries\n",
        "output1 = open('category_to_id.pkl', 'wb')\n",
        "pickle.dump(category_to_id, output1)\n",
        "output1.close()\n",
        "output2 = open('id_to_category.pkl', 'wb')\n",
        "pickle.dump(id_to_category, output2)\n",
        "output2.close()\n",
        "'''"
      ],
      "execution_count": null,
      "outputs": []
    },
    {
      "cell_type": "code",
      "metadata": {
        "id": "dO01KZC6BSUF"
      },
      "source": [
        "to_predict = \"KOCHA wa Senegal, Alliou Cisse amesema timu yake itazoea mechi hadi mechi kwenye michuano ya Afcon akiwa na lengo la kufanya vizuri kuliko michuano ya mwisho iliyofanyika Gabon mwaka 2017, ambapo Senegal iliishia robo fainali.Cisse ni miongoni mwa makocha wachache wanaoonekana kwenye michuano hiyo mfululizo kuanzia ile iliyopita. Simba wa Teranga wamepangwa kundi C pamoja na Algeria, Kenya na Tanzania.Akizungumzia nafasi yake kwenye kundi hilo, Cisse alisema kundi liko sawa. “Ni kundi lililo sawa kwa timu yangu, kwa sasa hakuna timu ndogo au kubwa. Timu zote zilizofuzu zitakuwa Misri kupambana na kujaribu kupata matokeo mazuri.” “Tutakuwa na Algeria sio ngeni kwenye michuano hii, pia kuna Kenya na Tanzania. Hatuzidharau Kenya na Tanzania kutokana na hali zao, tunatakiwa kujiandaa vizuri kushindana.”Mechi yake na Algeria itakuwa ya tatu mfululizo, amejiandaa vipi? “ Ni mara ya tatu tunacheza na Algeria kwenye hatua ya makundi. Tulicheza 2015 (Equatorial Guinea), 2017 (Gabon), na sasa Misri, ni historia ndefu kwa timu hizi Algeria imebadilika tangu kuwasili kwa Djamel Belmadi, ambaye ni rafiki yangu, tumekuwa pamoja majirani Paris itakuwa mechi nzuri.”Senegal na Algeria ndio zinapewa nafasi kubwa kwenye kundi hili, lakini Kenya na Tanzania hazipaswi kudharauliwa. “Naweza kusema kwamba Senegal haiiogopi timu yoyote.” Akizungumzia malengo ya timu yake alisema wataichukulia kila mechi kwa uzito wake, kwa sababu wanajua lolote linaweza kutokea. “Ni kweli ni miongoni mwa tunaopewa nafasi kubwa, lakini kufikia kiwango hicho tunatakiwa kumfunga kila tunayekutana naye, na itaanza na Tanzania Juni 23, tunapaswa kufikiria uwezo wetu na si kuwafikia adui zetu.\"\n",
        "clean_to_predict = [clean_text(to_predict)]\n",
        "#to_pred_features = tfidf.fit_transform(clean_to_predict).toarray()\n",
        "#to_pred_features\n"
      ],
      "execution_count": null,
      "outputs": []
    },
    {
      "cell_type": "markdown",
      "metadata": {
        "id": "f6D1dv8VWpsW"
      },
      "source": [
        "\n",
        "\n",
        "---\n",
        "\n"
      ]
    }
  ]
}