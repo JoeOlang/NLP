{
  "nbformat": 4,
  "nbformat_minor": 0,
  "metadata": {
    "colab": {
      "name": "classify.ipynb",
      "provenance": [],
      "collapsed_sections": [],
      "mount_file_id": "16aQA_FtTTAolKkx5JZ3UC4qBVa1mgCEg",
      "authorship_tag": "ABX9TyN5F5QxgtR+WeJ2n2cJJrI4",
      "include_colab_link": true
    },
    "kernelspec": {
      "name": "python3",
      "display_name": "Python 3"
    },
    "language_info": {
      "name": "python"
    }
  },
  "cells": [
    {
      "cell_type": "markdown",
      "metadata": {
        "id": "view-in-github",
        "colab_type": "text"
      },
      "source": [
        "<a href=\"https://colab.research.google.com/github/JoeOlang/NLP/blob/main/Text%20Classification/Swahili/ZindiNews/v1.4_LinearSVC.ipynb\" target=\"_parent\"><img src=\"https://colab.research.google.com/assets/colab-badge.svg\" alt=\"Open In Colab\"/></a>"
      ]
    },
    {
      "cell_type": "code",
      "metadata": {
        "id": "ApmrwgDk8dLk"
      },
      "source": [
        "import pandas as pd\n",
        "import numpy as np\n",
        "import warnings\n",
        "warnings.filterwarnings('ignore')\n",
        "\n",
        "import re, string\n",
        "import nltk\n",
        "import seaborn as sns\n",
        "import matplotlib.pyplot as plt\n",
        "\n",
        "\n",
        "from sklearn.model_selection import train_test_split\n",
        "from sklearn.feature_extraction.text import TfidfTransformer\n",
        "from sklearn.feature_extraction.text import CountVectorizer\n",
        "from sklearn.preprocessing import LabelEncoder\n",
        "\n",
        "from sklearn.svm import LinearSVC\n",
        "from sklearn.calibration import CalibratedClassifierCV\n"
      ],
      "execution_count": 3,
      "outputs": []
    },
    {
      "cell_type": "code",
      "metadata": {
        "id": "jxlJsNnHgnUN"
      },
      "source": [
        "# Introduce some common Swahili stop words\n",
        "stop_words_df = pd.read_csv('/content/drive/MyDrive/Colab Notebooks/NLP/swahili_stopwords.csv')\n",
        "stop_words = stop_words_df['StopWords'].tolist()"
      ],
      "execution_count": 4,
      "outputs": []
    },
    {
      "cell_type": "code",
      "metadata": {
        "colab": {
          "base_uri": "https://localhost:8080/",
          "height": 197
        },
        "id": "-w7DVyD6CmgI",
        "outputId": "89f1a462-2f25-4bb7-d3d6-fa45d2d8b829"
      },
      "source": [
        "df = pd.read_csv('/content/drive/MyDrive/Colab Notebooks/NLP/Swahili/Train.csv')\n",
        "df.head()"
      ],
      "execution_count": 5,
      "outputs": [
        {
          "output_type": "execute_result",
          "data": {
            "text/html": [
              "<div>\n",
              "<style scoped>\n",
              "    .dataframe tbody tr th:only-of-type {\n",
              "        vertical-align: middle;\n",
              "    }\n",
              "\n",
              "    .dataframe tbody tr th {\n",
              "        vertical-align: top;\n",
              "    }\n",
              "\n",
              "    .dataframe thead th {\n",
              "        text-align: right;\n",
              "    }\n",
              "</style>\n",
              "<table border=\"1\" class=\"dataframe\">\n",
              "  <thead>\n",
              "    <tr style=\"text-align: right;\">\n",
              "      <th></th>\n",
              "      <th>id</th>\n",
              "      <th>content</th>\n",
              "      <th>category</th>\n",
              "    </tr>\n",
              "  </thead>\n",
              "  <tbody>\n",
              "    <tr>\n",
              "      <th>0</th>\n",
              "      <td>SW0</td>\n",
              "      <td>SERIKALI imesema haitakuwa tayari kuona amani...</td>\n",
              "      <td>Kitaifa</td>\n",
              "    </tr>\n",
              "    <tr>\n",
              "      <th>1</th>\n",
              "      <td>SW1</td>\n",
              "      <td>Mkuu wa Mkoa wa Tabora, Aggrey Mwanri amesiti...</td>\n",
              "      <td>Biashara</td>\n",
              "    </tr>\n",
              "    <tr>\n",
              "      <th>2</th>\n",
              "      <td>SW10</td>\n",
              "      <td>SERIKALI imetoa miezi sita kwa taasisi zote z...</td>\n",
              "      <td>Kitaifa</td>\n",
              "    </tr>\n",
              "    <tr>\n",
              "      <th>3</th>\n",
              "      <td>SW100</td>\n",
              "      <td>KAMPUNI ya mchezo wa kubahatisha ya M-bet ime...</td>\n",
              "      <td>michezo</td>\n",
              "    </tr>\n",
              "    <tr>\n",
              "      <th>4</th>\n",
              "      <td>SW1000</td>\n",
              "      <td>WATANZANIA wamekumbushwa kusherehekea sikukuu...</td>\n",
              "      <td>Kitaifa</td>\n",
              "    </tr>\n",
              "  </tbody>\n",
              "</table>\n",
              "</div>"
            ],
            "text/plain": [
              "       id                                            content  category\n",
              "0     SW0   SERIKALI imesema haitakuwa tayari kuona amani...   Kitaifa\n",
              "1     SW1   Mkuu wa Mkoa wa Tabora, Aggrey Mwanri amesiti...  Biashara\n",
              "2    SW10   SERIKALI imetoa miezi sita kwa taasisi zote z...   Kitaifa\n",
              "3   SW100   KAMPUNI ya mchezo wa kubahatisha ya M-bet ime...   michezo\n",
              "4  SW1000   WATANZANIA wamekumbushwa kusherehekea sikukuu...   Kitaifa"
            ]
          },
          "metadata": {
            "tags": []
          },
          "execution_count": 5
        }
      ]
    },
    {
      "cell_type": "code",
      "metadata": {
        "colab": {
          "base_uri": "https://localhost:8080/"
        },
        "id": "fwKhYfJKuW-m",
        "outputId": "abc446e6-f8af-4a92-9bfd-788a9b4d3b9a"
      },
      "source": [
        "df['category'].unique()"
      ],
      "execution_count": 6,
      "outputs": [
        {
          "output_type": "execute_result",
          "data": {
            "text/plain": [
              "array(['Kitaifa', 'Biashara', 'michezo', 'Kimataifa', 'Burudani'],\n",
              "      dtype=object)"
            ]
          },
          "metadata": {
            "tags": []
          },
          "execution_count": 6
        }
      ]
    },
    {
      "cell_type": "markdown",
      "metadata": {
        "id": "Jr0Y77IiurpV"
      },
      "source": [
        "---"
      ]
    },
    {
      "cell_type": "code",
      "metadata": {
        "colab": {
          "base_uri": "https://localhost:8080/"
        },
        "id": "333ypuSCuqew",
        "outputId": "09672af8-dc2b-4ab7-a5a5-a7a1a0a82a70"
      },
      "source": [
        "labels = df['category']\n",
        "text = df['content']\n",
        "\n",
        "X_train, X_test, y_train, y_test = train_test_split(text, labels, random_state=0, test_size=0.3)\n",
        "\n",
        "count_vect = CountVectorizer()\n",
        "X_train_counts = count_vect.fit_transform(X_train)\n",
        "tf_transformer = TfidfTransformer().fit(X_train_counts)\n",
        "X_train_transformed = tf_transformer.transform(X_train_counts)\n",
        "\n",
        "X_test_counts = count_vect.transform(X_test)\n",
        "X_test_transformed = tf_transformer.transform(X_test_counts)\n",
        "\n",
        "labels = LabelEncoder()\n",
        "y_train_labels_fit = labels.fit(y_train)\n",
        "y_train_lables_trf = labels.transform(y_train)\n",
        "\n",
        "print(labels.classes_)"
      ],
      "execution_count": 7,
      "outputs": [
        {
          "output_type": "stream",
          "text": [
            "['Biashara' 'Burudani' 'Kimataifa' 'Kitaifa' 'michezo']\n"
          ],
          "name": "stdout"
        }
      ]
    },
    {
      "cell_type": "code",
      "metadata": {
        "id": "vjpaOSNyukQl"
      },
      "source": [
        "linear_svc = LinearSVC()\n",
        "clf = linear_svc.fit(X_train_transformed,y_train_lables_trf)\n",
        "\n",
        "calibrated_svc = CalibratedClassifierCV(base_estimator=linear_svc,\n",
        "                                        cv=\"prefit\")\n",
        "\n",
        "calibrated_svc.fit(X_train_transformed,y_train_lables_trf)\n",
        "predicted = calibrated_svc.predict(X_test_transformed)"
      ],
      "execution_count": 8,
      "outputs": []
    },
    {
      "cell_type": "code",
      "metadata": {
        "colab": {
          "base_uri": "https://localhost:8080/"
        },
        "id": "HSg27A60vTlP",
        "outputId": "8f568d96-8960-4f8c-8037-68d61d6a59f5"
      },
      "source": [
        "'''\n",
        "to_predict = [\"KOCHA wa Senegal, Alliou Cisse amesema timu yake itazoea mechi hadi mechi kwenye michuano ya Afcon akiwa na lengo la kufanya vizuri kuliko michuano ya mwisho iliyofanyika Gabon mwaka 2017, ambapo Senegal iliishia robo fainali.Cisse ni miongoni mwa makocha wachache wanaoonekana kwenye michuano hiyo mfululizo kuanzia ile iliyopita. Simba wa Teranga wamepangwa kundi C pamoja na Algeria, Kenya na Tanzania.Akizungumzia nafasi yake kwenye kundi hilo, Cisse alisema kundi liko sawa. “Ni kundi lililo sawa kwa timu yangu, kwa sasa hakuna timu ndogo au kubwa. Timu zote zilizofuzu zitakuwa Misri kupambana na kujaribu kupata matokeo mazuri.” “Tutakuwa na Algeria sio ngeni kwenye michuano hii, pia kuna Kenya na Tanzania. Hatuzidharau Kenya na Tanzania kutokana na hali zao, tunatakiwa kujiandaa vizuri kushindana.”Mechi yake na Algeria itakuwa ya tatu mfululizo, amejiandaa vipi? “ Ni mara ya tatu tunacheza na Algeria kwenye hatua ya makundi. Tulicheza 2015 (Equatorial Guinea), 2017 (Gabon), na sasa Misri, ni historia ndefu kwa timu hizi Algeria imebadilika tangu kuwasili kwa Djamel Belmadi, ambaye ni rafiki yangu, tumekuwa pamoja majirani Paris itakuwa mechi nzuri.”Senegal na Algeria ndio zinapewa nafasi kubwa kwenye kundi hili, lakini Kenya na Tanzania hazipaswi kudharauliwa. “Naweza kusema kwamba Senegal haiiogopi timu yoyote.” Akizungumzia malengo ya timu yake alisema wataichukulia kila mechi kwa uzito wake, kwa sababu wanajua lolote linaweza kutokea. “Ni kweli ni miongoni mwa tunaopewa nafasi kubwa, lakini kufikia kiwango hicho tunatakiwa kumfunga kila tunayekutana naye, na itaanza na Tanzania Juni 23, tunapaswa kufikiria uwezo wetu na si kuwafikia adui zetu.\"]\n",
        "p_count = count_vect.transform(to_predict)\n",
        "p_tfidf = tf_transformer.transform(p_count)\n",
        "print('Average accuracy on test set={}'.format(np.mean(predicted == labels.transform(y_test))))\n",
        "print('Predicted probabilities of demo input string are')\n",
        "print(calibrated_svc.predict_proba(p_tfidf))\n",
        "'''"
      ],
      "execution_count": 9,
      "outputs": [
        {
          "output_type": "stream",
          "text": [
            "Average accuracy on test set=0.8635187580853816\n",
            "Predicted probabilities of demo input string are\n",
            "[[4.72066770e-07 4.78725221e-04 1.25124387e-04 1.81043897e-04\n",
            "  9.99214634e-01]]\n"
          ],
          "name": "stdout"
        }
      ]
    },
    {
      "cell_type": "code",
      "metadata": {
        "id": "MEalfwWHXwkX"
      },
      "source": [
        "dftest = pd.read_csv('/content/drive/MyDrive/Colab Notebooks/NLP/Swahili/Test.csv')"
      ],
      "execution_count": 19,
      "outputs": []
    },
    {
      "cell_type": "code",
      "metadata": {
        "id": "jtQwKZscalug"
      },
      "source": [
        "def predict(string_text):\n",
        "    content = [string_text]\n",
        "    p_count = count_vect.transform(content)\n",
        "    p_tfidf = tf_transformer.transform(p_count)\n",
        "    predictions = calibrated_svc.predict_proba(p_tfidf)\n",
        "    predictions = predictions.flatten()\n",
        "    scores = predictions.tolist()\n",
        "\n",
        "    return scores"
      ],
      "execution_count": 22,
      "outputs": []
    },
    {
      "cell_type": "code",
      "metadata": {
        "id": "kY1O0H8e2mut"
      },
      "source": [
        "dftest['scores'] = dftest['content'].apply(lambda x: predict(x))"
      ],
      "execution_count": 23,
      "outputs": []
    },
    {
      "cell_type": "markdown",
      "metadata": {
        "id": "-Sp7KIVNYQOc"
      },
      "source": [
        "Unpacking dftest['scores']"
      ]
    },
    {
      "cell_type": "code",
      "metadata": {
        "id": "AuQNOVktYP1T"
      },
      "source": [
        "dftest[['Kitaifa', 'Biashara', 'michezo', 'Kimataifa', 'Burudani']] = pd.DataFrame(dftest.scores.tolist())"
      ],
      "execution_count": 25,
      "outputs": []
    },
    {
      "cell_type": "code",
      "metadata": {
        "id": "9CFIyjtBY3ds"
      },
      "source": [
        "dftest = dftest.drop(columns=['content', 'scores'])"
      ],
      "execution_count": 30,
      "outputs": []
    },
    {
      "cell_type": "code",
      "metadata": {
        "id": "LNDUqNboZOac"
      },
      "source": [
        "dftest.to_csv(r'/content/drive/MyDrive/Colab Notebooks/NLP/Submission1.csv', index = False)"
      ],
      "execution_count": 32,
      "outputs": []
    }
  ]
}