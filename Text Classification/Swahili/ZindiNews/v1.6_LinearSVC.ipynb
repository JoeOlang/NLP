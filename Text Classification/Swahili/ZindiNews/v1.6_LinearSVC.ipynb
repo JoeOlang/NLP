{
  "nbformat": 4,
  "nbformat_minor": 0,
  "metadata": {
    "colab": {
      "name": "classify.ipynb",
      "provenance": [],
      "collapsed_sections": [],
      "mount_file_id": "16aQA_FtTTAolKkx5JZ3UC4qBVa1mgCEg",
      "authorship_tag": "ABX9TyOY68jFIJmaKNkf4I2cM0uq",
      "include_colab_link": true
    },
    "kernelspec": {
      "name": "python3",
      "display_name": "Python 3"
    },
    "language_info": {
      "name": "python"
    }
  },
  "cells": [
    {
      "cell_type": "markdown",
      "metadata": {
        "id": "view-in-github",
        "colab_type": "text"
      },
      "source": [
        "<a href=\"https://colab.research.google.com/github/JoeOlang/NLP/blob/main/Text%20Classification/Swahili/ZindiNews/v1.6_LinearSVC.ipynb\" target=\"_parent\"><img src=\"https://colab.research.google.com/assets/colab-badge.svg\" alt=\"Open In Colab\"/></a>"
      ]
    },
    {
      "cell_type": "markdown",
      "metadata": {
        "id": "yFDdpe70XAWT"
      },
      "source": [
        "\n",
        "\n",
        "---\n",
        "\n"
      ]
    },
    {
      "cell_type": "code",
      "metadata": {
        "id": "ApmrwgDk8dLk"
      },
      "source": [
        "import pandas as pd\n",
        "import numpy as np\n",
        "import warnings\n",
        "warnings.filterwarnings('ignore')\n",
        "\n",
        "import matplotlib.pyplot as plt\n",
        "from sklearn.feature_extraction.text import TfidfVectorizer\n",
        "from sklearn.feature_selection import chi2\n",
        "from IPython.display import display\n",
        "from sklearn.model_selection import train_test_split\n",
        "from sklearn.feature_extraction.text import TfidfTransformer\n",
        "from sklearn.naive_bayes import MultinomialNB\n",
        "from sklearn.linear_model import LogisticRegression\n",
        "from sklearn.ensemble import RandomForestClassifier\n",
        "from sklearn.svm import LinearSVC\n",
        "from sklearn.model_selection import cross_val_score\n",
        "from sklearn.metrics import confusion_matrix\n",
        "from sklearn import metrics\n"
      ],
      "execution_count": 11,
      "outputs": []
    },
    {
      "cell_type": "code",
      "metadata": {
        "id": "jxlJsNnHgnUN"
      },
      "source": [
        "# Introduce some common Swahili stop words\n",
        "stop_words_df = pd.read_csv('/content/drive/MyDrive/Colab Notebooks/NLP/swahili_stopwords.csv')\n",
        "stop_words = stop_words_df['StopWords'].tolist()"
      ],
      "execution_count": 3,
      "outputs": []
    },
    {
      "cell_type": "code",
      "metadata": {
        "colab": {
          "base_uri": "https://localhost:8080/",
          "height": 197
        },
        "id": "-w7DVyD6CmgI",
        "outputId": "0758e2a3-cf0c-4e2e-96f9-758a851f6638"
      },
      "source": [
        "df = pd.read_csv('/content/drive/MyDrive/Colab Notebooks/NLP/Swahili/Train.csv')\n",
        "df.head()"
      ],
      "execution_count": 4,
      "outputs": [
        {
          "output_type": "execute_result",
          "data": {
            "text/html": [
              "<div>\n",
              "<style scoped>\n",
              "    .dataframe tbody tr th:only-of-type {\n",
              "        vertical-align: middle;\n",
              "    }\n",
              "\n",
              "    .dataframe tbody tr th {\n",
              "        vertical-align: top;\n",
              "    }\n",
              "\n",
              "    .dataframe thead th {\n",
              "        text-align: right;\n",
              "    }\n",
              "</style>\n",
              "<table border=\"1\" class=\"dataframe\">\n",
              "  <thead>\n",
              "    <tr style=\"text-align: right;\">\n",
              "      <th></th>\n",
              "      <th>id</th>\n",
              "      <th>content</th>\n",
              "      <th>category</th>\n",
              "    </tr>\n",
              "  </thead>\n",
              "  <tbody>\n",
              "    <tr>\n",
              "      <th>0</th>\n",
              "      <td>SW0</td>\n",
              "      <td>SERIKALI imesema haitakuwa tayari kuona amani...</td>\n",
              "      <td>Kitaifa</td>\n",
              "    </tr>\n",
              "    <tr>\n",
              "      <th>1</th>\n",
              "      <td>SW1</td>\n",
              "      <td>Mkuu wa Mkoa wa Tabora, Aggrey Mwanri amesiti...</td>\n",
              "      <td>Biashara</td>\n",
              "    </tr>\n",
              "    <tr>\n",
              "      <th>2</th>\n",
              "      <td>SW10</td>\n",
              "      <td>SERIKALI imetoa miezi sita kwa taasisi zote z...</td>\n",
              "      <td>Kitaifa</td>\n",
              "    </tr>\n",
              "    <tr>\n",
              "      <th>3</th>\n",
              "      <td>SW100</td>\n",
              "      <td>KAMPUNI ya mchezo wa kubahatisha ya M-bet ime...</td>\n",
              "      <td>michezo</td>\n",
              "    </tr>\n",
              "    <tr>\n",
              "      <th>4</th>\n",
              "      <td>SW1000</td>\n",
              "      <td>WATANZANIA wamekumbushwa kusherehekea sikukuu...</td>\n",
              "      <td>Kitaifa</td>\n",
              "    </tr>\n",
              "  </tbody>\n",
              "</table>\n",
              "</div>"
            ],
            "text/plain": [
              "       id                                            content  category\n",
              "0     SW0   SERIKALI imesema haitakuwa tayari kuona amani...   Kitaifa\n",
              "1     SW1   Mkuu wa Mkoa wa Tabora, Aggrey Mwanri amesiti...  Biashara\n",
              "2    SW10   SERIKALI imetoa miezi sita kwa taasisi zote z...   Kitaifa\n",
              "3   SW100   KAMPUNI ya mchezo wa kubahatisha ya M-bet ime...   michezo\n",
              "4  SW1000   WATANZANIA wamekumbushwa kusherehekea sikukuu...   Kitaifa"
            ]
          },
          "metadata": {
            "tags": []
          },
          "execution_count": 4
        }
      ]
    },
    {
      "cell_type": "code",
      "metadata": {
        "colab": {
          "base_uri": "https://localhost:8080/"
        },
        "id": "fwKhYfJKuW-m",
        "outputId": "8317f0c7-5bd7-4f5b-f66b-052d806a7efd"
      },
      "source": [
        "df['category'].unique()"
      ],
      "execution_count": 5,
      "outputs": [
        {
          "output_type": "execute_result",
          "data": {
            "text/plain": [
              "array(['Kitaifa', 'Biashara', 'michezo', 'Kimataifa', 'Burudani'],\n",
              "      dtype=object)"
            ]
          },
          "metadata": {
            "tags": []
          },
          "execution_count": 5
        }
      ]
    },
    {
      "cell_type": "markdown",
      "metadata": {
        "id": "eppUlmNReQNL"
      },
      "source": [
        "\n",
        "\n",
        "---"
      ]
    },
    {
      "cell_type": "code",
      "metadata": {
        "id": "5TxpLBzqWrI-",
        "colab": {
          "base_uri": "https://localhost:8080/"
        },
        "outputId": "ff79e6c8-26ee-4ef0-f023-5d49bcc435a9"
      },
      "source": [
        "# Percentage of news with text\n",
        "total = df['content'].notnull().sum()\n",
        "round((total/len(df)*100),1)"
      ],
      "execution_count": 6,
      "outputs": [
        {
          "output_type": "execute_result",
          "data": {
            "text/plain": [
              "100.0"
            ]
          },
          "metadata": {
            "tags": []
          },
          "execution_count": 6
        }
      ]
    },
    {
      "cell_type": "code",
      "metadata": {
        "colab": {
          "base_uri": "https://localhost:8080/",
          "height": 418
        },
        "id": "Pl2b0iSm338D",
        "outputId": "73c2db7a-2dbd-4f76-b1dd-de99c39f123b"
      },
      "source": [
        "# The bar chart to show the number of news per category\n",
        "fig = plt.figure(figsize=(8,6))\n",
        "df.groupby('category').content.count().sort_values().plot.barh(\n",
        "    ylim=0, title= 'NUMBER OF NEWS DATA IN EACH CATEGORY\\n')\n",
        "plt.xlabel('Number Of Ocurrences', fontsize = 10);\n",
        "plt.savefig('category_graph.png', bbox_inches='tight')"
      ],
      "execution_count": 7,
      "outputs": [
        {
          "output_type": "display_data",
          "data": {
            "image/png": "[encoded data removed]",
            "text/plain": [
              "<Figure size 576x432 with 1 Axes>"
            ]
          },
          "metadata": {
            "tags": [],
            "needs_background": "light"
          }
        }
      ]
    },
    {
      "cell_type": "code",
      "metadata": {
        "colab": {
          "base_uri": "https://localhost:8080/",
          "height": 347
        },
        "id": "DMYh6j9Q4C32",
        "outputId": "fdce6bd6-6f5b-4b90-d79f-7083f3b65ef5"
      },
      "source": [
        "# clean text\n",
        "import re\n",
        "\n",
        "REPLACE_BY_SPACE_RE = re.compile('[/(){}\\[\\]\\|@,;]')\n",
        "BAD_SYMBOLS_RE = re.compile('[^0-9a-z #+_]')\n",
        "\n",
        "def clean_text(text):\n",
        "    \"\"\"\n",
        "        text: a string\n",
        "        \n",
        "        return: modified string\n",
        "    \"\"\"\n",
        "    text = str(text).lower() # lowercase text\n",
        "    text = REPLACE_BY_SPACE_RE.sub(' ', text) # replace REPLACE_BY_SPACE_RE symbols by space in text\n",
        "    text = BAD_SYMBOLS_RE.sub('', text) # delete symbols which are in BAD_SYMBOLS_RE from text\n",
        "    text = re.sub(\" \\d+\", \" \", text) # remove digits\n",
        "    text = re.sub(\" #\\d+\", \" \", text) # remove digits starting with # symbol\n",
        "    text = ' '.join(word for word in text.split() if word not in stop_words) # delete stopwors from text\n",
        "    return text\n",
        "df['content'] = df['content'].apply(clean_text)\n",
        "df.head(10)"
      ],
      "execution_count": 8,
      "outputs": [
        {
          "output_type": "execute_result",
          "data": {
            "text/html": [
              "<div>\n",
              "<style scoped>\n",
              "    .dataframe tbody tr th:only-of-type {\n",
              "        vertical-align: middle;\n",
              "    }\n",
              "\n",
              "    .dataframe tbody tr th {\n",
              "        vertical-align: top;\n",
              "    }\n",
              "\n",
              "    .dataframe thead th {\n",
              "        text-align: right;\n",
              "    }\n",
              "</style>\n",
              "<table border=\"1\" class=\"dataframe\">\n",
              "  <thead>\n",
              "    <tr style=\"text-align: right;\">\n",
              "      <th></th>\n",
              "      <th>id</th>\n",
              "      <th>content</th>\n",
              "      <th>category</th>\n",
              "    </tr>\n",
              "  </thead>\n",
              "  <tbody>\n",
              "    <tr>\n",
              "      <th>0</th>\n",
              "      <td>SW0</td>\n",
              "      <td>serikali imesema haitakuwa tayari kuona amani ...</td>\n",
              "      <td>Kitaifa</td>\n",
              "    </tr>\n",
              "    <tr>\n",
              "      <th>1</th>\n",
              "      <td>SW1</td>\n",
              "      <td>mkuu mkoa tabora aggrey mwanri amesitisha liki...</td>\n",
              "      <td>Biashara</td>\n",
              "    </tr>\n",
              "    <tr>\n",
              "      <th>2</th>\n",
              "      <td>SW10</td>\n",
              "      <td>serikali imetoa miezi sita taasisi zote umma a...</td>\n",
              "      <td>Kitaifa</td>\n",
              "    </tr>\n",
              "    <tr>\n",
              "      <th>3</th>\n",
              "      <td>SW100</td>\n",
              "      <td>kampuni mchezo kubahatisha mbet imeingia makub...</td>\n",
              "      <td>michezo</td>\n",
              "    </tr>\n",
              "    <tr>\n",
              "      <th>4</th>\n",
              "      <td>SW1000</td>\n",
              "      <td>watanzania wamekumbushwa kusherehekea sikukuu ...</td>\n",
              "      <td>Kitaifa</td>\n",
              "    </tr>\n",
              "    <tr>\n",
              "      <th>5</th>\n",
              "      <td>SW1002</td>\n",
              "      <td>malkia mipasho afrika mashariki khadija omary ...</td>\n",
              "      <td>michezo</td>\n",
              "    </tr>\n",
              "    <tr>\n",
              "      <th>6</th>\n",
              "      <td>SW1003</td>\n",
              "      <td>meneja masoko mawasiliano taasisi ngula cheyo ...</td>\n",
              "      <td>Biashara</td>\n",
              "    </tr>\n",
              "    <tr>\n",
              "      <th>7</th>\n",
              "      <td>SW1004</td>\n",
              "      <td>idadi vifo waendesha bodaboda nchini vitokanav...</td>\n",
              "      <td>Kitaifa</td>\n",
              "    </tr>\n",
              "    <tr>\n",
              "      <th>8</th>\n",
              "      <td>SW1006</td>\n",
              "      <td>uzinduzi rais amesema kuna haja kutafuta majaw...</td>\n",
              "      <td>Biashara</td>\n",
              "    </tr>\n",
              "    <tr>\n",
              "      <th>9</th>\n",
              "      <td>SW1007</td>\n",
              "      <td>mshindi mchezo utakaozikutanisha tottenham roc...</td>\n",
              "      <td>michezo</td>\n",
              "    </tr>\n",
              "  </tbody>\n",
              "</table>\n",
              "</div>"
            ],
            "text/plain": [
              "       id                                            content  category\n",
              "0     SW0  serikali imesema haitakuwa tayari kuona amani ...   Kitaifa\n",
              "1     SW1  mkuu mkoa tabora aggrey mwanri amesitisha liki...  Biashara\n",
              "2    SW10  serikali imetoa miezi sita taasisi zote umma a...   Kitaifa\n",
              "3   SW100  kampuni mchezo kubahatisha mbet imeingia makub...   michezo\n",
              "4  SW1000  watanzania wamekumbushwa kusherehekea sikukuu ...   Kitaifa\n",
              "5  SW1002  malkia mipasho afrika mashariki khadija omary ...   michezo\n",
              "6  SW1003  meneja masoko mawasiliano taasisi ngula cheyo ...  Biashara\n",
              "7  SW1004  idadi vifo waendesha bodaboda nchini vitokanav...   Kitaifa\n",
              "8  SW1006  uzinduzi rais amesema kuna haja kutafuta majaw...  Biashara\n",
              "9  SW1007  mshindi mchezo utakaozikutanisha tottenham roc...   michezo"
            ]
          },
          "metadata": {
            "tags": []
          },
          "execution_count": 8
        }
      ]
    },
    {
      "cell_type": "code",
      "metadata": {
        "colab": {
          "base_uri": "https://localhost:8080/",
          "height": 197
        },
        "id": "pGb8gEAd4Vc8",
        "outputId": "9a808886-8d8d-478c-b047-db6a5b5759b1"
      },
      "source": [
        "# Create a new column 'label_id' with encoded categories \n",
        "df['label_id'] = df['category'].factorize()[0]\n",
        "new_df = df[['category', 'label_id']].drop_duplicates()\n",
        "\n",
        "# Dictionaries for future use\n",
        "category_to_id = dict(new_df.values)\n",
        "id_to_category = dict(new_df[['label_id', 'category']].values)\n",
        "\n",
        "# New dataframe\n",
        "df.head()"
      ],
      "execution_count": 9,
      "outputs": [
        {
          "output_type": "execute_result",
          "data": {
            "text/html": [
              "<div>\n",
              "<style scoped>\n",
              "    .dataframe tbody tr th:only-of-type {\n",
              "        vertical-align: middle;\n",
              "    }\n",
              "\n",
              "    .dataframe tbody tr th {\n",
              "        vertical-align: top;\n",
              "    }\n",
              "\n",
              "    .dataframe thead th {\n",
              "        text-align: right;\n",
              "    }\n",
              "</style>\n",
              "<table border=\"1\" class=\"dataframe\">\n",
              "  <thead>\n",
              "    <tr style=\"text-align: right;\">\n",
              "      <th></th>\n",
              "      <th>id</th>\n",
              "      <th>content</th>\n",
              "      <th>category</th>\n",
              "      <th>label_id</th>\n",
              "    </tr>\n",
              "  </thead>\n",
              "  <tbody>\n",
              "    <tr>\n",
              "      <th>0</th>\n",
              "      <td>SW0</td>\n",
              "      <td>serikali imesema haitakuwa tayari kuona amani ...</td>\n",
              "      <td>Kitaifa</td>\n",
              "      <td>0</td>\n",
              "    </tr>\n",
              "    <tr>\n",
              "      <th>1</th>\n",
              "      <td>SW1</td>\n",
              "      <td>mkuu mkoa tabora aggrey mwanri amesitisha liki...</td>\n",
              "      <td>Biashara</td>\n",
              "      <td>1</td>\n",
              "    </tr>\n",
              "    <tr>\n",
              "      <th>2</th>\n",
              "      <td>SW10</td>\n",
              "      <td>serikali imetoa miezi sita taasisi zote umma a...</td>\n",
              "      <td>Kitaifa</td>\n",
              "      <td>0</td>\n",
              "    </tr>\n",
              "    <tr>\n",
              "      <th>3</th>\n",
              "      <td>SW100</td>\n",
              "      <td>kampuni mchezo kubahatisha mbet imeingia makub...</td>\n",
              "      <td>michezo</td>\n",
              "      <td>2</td>\n",
              "    </tr>\n",
              "    <tr>\n",
              "      <th>4</th>\n",
              "      <td>SW1000</td>\n",
              "      <td>watanzania wamekumbushwa kusherehekea sikukuu ...</td>\n",
              "      <td>Kitaifa</td>\n",
              "      <td>0</td>\n",
              "    </tr>\n",
              "  </tbody>\n",
              "</table>\n",
              "</div>"
            ],
            "text/plain": [
              "       id  ... label_id\n",
              "0     SW0  ...        0\n",
              "1     SW1  ...        1\n",
              "2    SW10  ...        0\n",
              "3   SW100  ...        2\n",
              "4  SW1000  ...        0\n",
              "\n",
              "[5 rows x 4 columns]"
            ]
          },
          "metadata": {
            "tags": []
          },
          "execution_count": 9
        }
      ]
    },
    {
      "cell_type": "code",
      "metadata": {
        "colab": {
          "base_uri": "https://localhost:8080/"
        },
        "id": "JqSqi4l74twX",
        "outputId": "6eddec60-418f-41bc-d924-d9d3febd237a"
      },
      "source": [
        "tfidf = TfidfVectorizer(sublinear_tf=True, min_df=5,\n",
        "                        ngram_range=(1, 2), \n",
        "                        stop_words=stop_words)\n",
        "\n",
        "# We transform each news data into a vector\n",
        "features = tfidf.fit_transform(df.content).toarray()\n",
        "labels = df.label_id\n",
        "print(\"Each of the %d news data is represented by %d features (TF-IDF score of unigrams and bigrams)\" %(features.shape))\n"
      ],
      "execution_count": 12,
      "outputs": [
        {
          "output_type": "stream",
          "text": [
            "Each of the 5151 news data is represented by 34258 features (TF-IDF score of unigrams and bigrams)\n"
          ],
          "name": "stdout"
        }
      ]
    },
    {
      "cell_type": "code",
      "metadata": {
        "colab": {
          "base_uri": "https://localhost:8080/"
        },
        "id": "gM0M8tYZ5Meg",
        "outputId": "139173de-6564-4209-84f7-0d6b2247739b"
      },
      "source": [
        "N = 3\n",
        "for Category, category_id in sorted(category_to_id.items()):\n",
        "  features_chi2 = chi2(features, labels == category_id)\n",
        "  indices = np.argsort(features_chi2[0])\n",
        "  feature_names = np.array(tfidf.get_feature_names())[indices]\n",
        "  unigrams = [v for v in feature_names if len(v.split(' ')) == 1]\n",
        "  bigrams = [v for v in feature_names if len(v.split(' ')) == 2]\n",
        "  print(\"\\n==> \", (Category), \":\")\n",
        "  print(\"  * Most Correlated Unigrams are: %s\" %(', '.join(unigrams[-N:])))\n",
        "  print(\"  * Most Correlated Bigrams are: %s\" %(', '.join(bigrams[-N:])))"
      ],
      "execution_count": 13,
      "outputs": [
        {
          "output_type": "stream",
          "text": [
            "\n",
            "==>  Biashara :\n",
            "  * Most Correlated Unigrams are: benki, bidhaa, wateja\n",
            "  * Most Correlated Bigrams are: huduma kibenki, fursa biashara, wateja wetu\n",
            "\n",
            "==>  Burudani :\n",
            "  * Most Correlated Unigrams are: mrembo, up, brown\n",
            "  * Most Correlated Bigrams are: ameipongeza kampuni, kumi bora, haki wanawake\n",
            "\n",
            "==>  Kimataifa :\n",
            "  * Most Correlated Unigrams are: virusi, maombolezo, trump\n",
            "  * Most Correlated Bigrams are: kufuatia kifo, mamlaka nchi, nchini malawi\n",
            "\n",
            "==>  Kitaifa :\n",
            "  * Most Correlated Unigrams are: ligi, timu, mchezo\n",
            "  * Most Correlated Bigrams are: rais john, rais magufuli, ligi kuu\n",
            "\n",
            "==>  michezo :\n",
            "  * Most Correlated Unigrams are: ligi, timu, mchezo\n",
            "  * Most Correlated Bigrams are: uwanja taifa, timu taifa, ligi kuu\n"
          ],
          "name": "stdout"
        }
      ]
    },
    {
      "cell_type": "code",
      "metadata": {
        "colab": {
          "base_uri": "https://localhost:8080/"
        },
        "id": "Gy9mISTA5SPB",
        "outputId": "81929d2d-8419-4e42-c318-a476ec868acc"
      },
      "source": [
        "X = df['content'] # collection of news data\n",
        "y = df['category'] # labels(i.e.,for the 4 different news categories)\n",
        "X_train, X_test, y_train, y_test = train_test_split(X, y, \n",
        "                                                    test_size=0.25,\n",
        "                                                    random_state = 0)\n",
        "print(\"shape of x_train set :\", X_train.shape)\n",
        "print(\"shape of y_train set :\",y_train.shape)\n",
        "print(\"shape of x_test set :\",X_test.shape)\n",
        "print(\"shape of y_test set :\",y_test.shape)"
      ],
      "execution_count": 14,
      "outputs": [
        {
          "output_type": "stream",
          "text": [
            "shape of x_train set : (3863,)\n",
            "shape of y_train set : (3863,)\n",
            "shape of x_test set : (1288,)\n",
            "shape of y_test set : (1288,)\n"
          ],
          "name": "stdout"
        }
      ]
    },
    {
      "cell_type": "code",
      "metadata": {
        "id": "APq5cr8D5a3j"
      },
      "source": [
        "models = [\n",
        "    RandomForestClassifier(n_estimators=100, max_depth=5, random_state=0),\n",
        "    LinearSVC(),\n",
        "    MultinomialNB(),\n",
        "    LogisticRegression(random_state=0),\n",
        "]\n",
        "# Cross-validation\n",
        "CV = 5\n",
        "cv_df = pd.DataFrame(index=range(CV * len(models)))\n",
        "entries = []\n",
        "for model in models:\n",
        "    model_name = model.__class__.__name__\n",
        "    accuracies = cross_val_score(model, features, labels, scoring='accuracy', cv=CV)\n",
        "    for fold_idx, accuracy in enumerate(accuracies):\n",
        "        entries.append((model_name, fold_idx, accuracy))\n",
        "    \n",
        "cv_df = pd.DataFrame(entries, columns=['model_name', 'fold_idx', 'accuracy'])"
      ],
      "execution_count": 15,
      "outputs": []
    },
    {
      "cell_type": "code",
      "metadata": {
        "colab": {
          "base_uri": "https://localhost:8080/",
          "height": 197
        },
        "id": "u5MmmWH65j-s",
        "outputId": "116f9857-422a-4aac-c215-001717e8ec13"
      },
      "source": [
        "mean_accuracy = cv_df.groupby('model_name').accuracy.mean()\n",
        "std_accuracy = cv_df.groupby('model_name').accuracy.std()\n",
        "acc = pd.concat([mean_accuracy, std_accuracy], axis= 1, \n",
        "          ignore_index=True)\n",
        "acc.columns = ['Mean Accuracy', 'Standard deviation']\n",
        "acc"
      ],
      "execution_count": 16,
      "outputs": [
        {
          "output_type": "execute_result",
          "data": {
            "text/html": [
              "<div>\n",
              "<style scoped>\n",
              "    .dataframe tbody tr th:only-of-type {\n",
              "        vertical-align: middle;\n",
              "    }\n",
              "\n",
              "    .dataframe tbody tr th {\n",
              "        vertical-align: top;\n",
              "    }\n",
              "\n",
              "    .dataframe thead th {\n",
              "        text-align: right;\n",
              "    }\n",
              "</style>\n",
              "<table border=\"1\" class=\"dataframe\">\n",
              "  <thead>\n",
              "    <tr style=\"text-align: right;\">\n",
              "      <th></th>\n",
              "      <th>Mean Accuracy</th>\n",
              "      <th>Standard deviation</th>\n",
              "    </tr>\n",
              "    <tr>\n",
              "      <th>model_name</th>\n",
              "      <th></th>\n",
              "      <th></th>\n",
              "    </tr>\n",
              "  </thead>\n",
              "  <tbody>\n",
              "    <tr>\n",
              "      <th>LinearSVC</th>\n",
              "      <td>0.869928</td>\n",
              "      <td>0.008002</td>\n",
              "    </tr>\n",
              "    <tr>\n",
              "      <th>LogisticRegression</th>\n",
              "      <td>0.862745</td>\n",
              "      <td>0.007406</td>\n",
              "    </tr>\n",
              "    <tr>\n",
              "      <th>MultinomialNB</th>\n",
              "      <td>0.810718</td>\n",
              "      <td>0.010381</td>\n",
              "    </tr>\n",
              "    <tr>\n",
              "      <th>RandomForestClassifier</th>\n",
              "      <td>0.660845</td>\n",
              "      <td>0.013280</td>\n",
              "    </tr>\n",
              "  </tbody>\n",
              "</table>\n",
              "</div>"
            ],
            "text/plain": [
              "                        Mean Accuracy  Standard deviation\n",
              "model_name                                               \n",
              "LinearSVC                    0.869928            0.008002\n",
              "LogisticRegression           0.862745            0.007406\n",
              "MultinomialNB                0.810718            0.010381\n",
              "RandomForestClassifier       0.660845            0.013280"
            ]
          },
          "metadata": {
            "tags": []
          },
          "execution_count": 16
        }
      ]
    },
    {
      "cell_type": "code",
      "metadata": {
        "colab": {
          "base_uri": "https://localhost:8080/"
        },
        "id": "k69HxD5A7JZy",
        "outputId": "e054d5d7-1498-478b-dbcb-37a3bfff672e"
      },
      "source": [
        "X_train, X_test, y_train, y_test,indices_train,indices_test = train_test_split(features, \n",
        "                                                               labels, \n",
        "                                                               df.index, test_size=0.25, \n",
        "                                                               random_state=1)\n",
        "model = LinearSVC(random_state=0)\n",
        "model.fit(X_train, y_train)\n",
        "y_pred = model.predict(X_test)\n",
        "# Classification report\n",
        "print('\\t\\t\\tCLASSIFICATIION REPORT\\n')\n",
        "print(metrics.classification_report(y_test, y_pred, \n",
        "                                    target_names= df['category'].unique()))"
      ],
      "execution_count": 17,
      "outputs": [
        {
          "output_type": "stream",
          "text": [
            "\t\t\tCLASSIFICATIION REPORT\n",
            "\n",
            "              precision    recall  f1-score   support\n",
            "\n",
            "     Kitaifa       0.84      0.86      0.85       510\n",
            "    Biashara       0.84      0.82      0.83       343\n",
            "     michezo       0.94      0.97      0.96       415\n",
            "   Kimataifa       0.50      0.06      0.11        17\n",
            "    Burudani       1.00      0.33      0.50         3\n",
            "\n",
            "    accuracy                           0.87      1288\n",
            "   macro avg       0.82      0.61      0.65      1288\n",
            "weighted avg       0.87      0.87      0.87      1288\n",
            "\n"
          ],
          "name": "stdout"
        }
      ]
    },
    {
      "cell_type": "code",
      "metadata": {
        "colab": {
          "base_uri": "https://localhost:8080/"
        },
        "id": "IyMv1rl57dUD",
        "outputId": "7f3e1917-7e20-44f1-eaab-2507f1c79e4b"
      },
      "source": [
        "print(\"Accuracy:\",metrics.accuracy_score(y_test, y_pred))"
      ],
      "execution_count": 18,
      "outputs": [
        {
          "output_type": "stream",
          "text": [
            "Accuracy: 0.8726708074534162\n"
          ],
          "name": "stdout"
        }
      ]
    },
    {
      "cell_type": "code",
      "metadata": {
        "colab": {
          "base_uri": "https://localhost:8080/",
          "height": 547
        },
        "id": "kfGcVFQM7kEX",
        "outputId": "e6bfc5b4-ee80-4aac-9e50-26521ae55b96"
      },
      "source": [
        "import seaborn as sns\n",
        "conf_mat = confusion_matrix(y_test, y_pred)\n",
        "fig, ax = plt.subplots(figsize=(8,8))\n",
        "sns.heatmap(conf_mat, annot=True, cmap=\"Blues\", fmt='d',\n",
        "            xticklabels=new_df.category.values, \n",
        "            yticklabels=new_df.category.values)\n",
        "plt.ylabel('Actual')\n",
        "plt.xlabel('Predicted')\n",
        "plt.title(\"CONFUSION MATRIX - Logistic Regression\\n\", size=14)"
      ],
      "execution_count": 20,
      "outputs": [
        {
          "output_type": "execute_result",
          "data": {
            "text/plain": [
              "Text(0.5, 1.0, 'CONFUSION MATRIX - Logistic Regression\\n')"
            ]
          },
          "metadata": {
            "tags": []
          },
          "execution_count": 20
        },
        {
          "output_type": "display_data",
          "data": {
            "image/png": "[encoded data removed]",
            "text/plain": [
              "<Figure size 576x576 with 2 Axes>"
            ]
          },
          "metadata": {
            "tags": [],
            "needs_background": "light"
          }
        }
      ]
    },
    {
      "cell_type": "code",
      "metadata": {
        "colab": {
          "base_uri": "https://localhost:8080/",
          "height": 1000
        },
        "id": "vMRljdkm721z",
        "outputId": "7568a810-c70a-49dd-a3e2-c91a0467c67d"
      },
      "source": [
        "for predicted in new_df.label_id:\n",
        "    for actual in new_df.label_id:\n",
        "        if predicted != actual and conf_mat[actual, predicted] >= 20:\n",
        "            print(\"actual class '{}' predicted as '{}' : {} examples.\".format(id_to_category[actual], \n",
        "                                                           id_to_category[predicted], \n",
        "                                                           conf_mat[actual, predicted]))\n",
        "    \n",
        "            display(df.loc[indices_test[(y_test == actual) & (y_pred == predicted)]][['category', \n",
        "                                                                'content']])\n",
        "            print('')"
      ],
      "execution_count": 22,
      "outputs": [
        {
          "output_type": "stream",
          "text": [
            "actual class 'Biashara' predicted as 'Kitaifa' : 63 examples.\n"
          ],
          "name": "stdout"
        },
        {
          "output_type": "display_data",
          "data": {
            "text/html": [
              "<div>\n",
              "<style scoped>\n",
              "    .dataframe tbody tr th:only-of-type {\n",
              "        vertical-align: middle;\n",
              "    }\n",
              "\n",
              "    .dataframe tbody tr th {\n",
              "        vertical-align: top;\n",
              "    }\n",
              "\n",
              "    .dataframe thead th {\n",
              "        text-align: right;\n",
              "    }\n",
              "</style>\n",
              "<table border=\"1\" class=\"dataframe\">\n",
              "  <thead>\n",
              "    <tr style=\"text-align: right;\">\n",
              "      <th></th>\n",
              "      <th>category</th>\n",
              "      <th>content</th>\n",
              "    </tr>\n",
              "  </thead>\n",
              "  <tbody>\n",
              "    <tr>\n",
              "      <th>2097</th>\n",
              "      <td>Biashara</td>\n",
              "      <td>rais john magufuli leo anakutana wafanyabiasha...</td>\n",
              "    </tr>\n",
              "    <tr>\n",
              "      <th>1264</th>\n",
              "      <td>Biashara</td>\n",
              "      <td>waziri mkuu kassim majaliwa ameitaka wizara ki...</td>\n",
              "    </tr>\n",
              "    <tr>\n",
              "      <th>3722</th>\n",
              "      <td>Biashara</td>\n",
              "      <td>kipindi mwaka mmoja kufikia desemba mwaka jana...</td>\n",
              "    </tr>\n",
              "    <tr>\n",
              "      <th>3251</th>\n",
              "      <td>Biashara</td>\n",
              "      <td>hayo yalibainishwa mwishoni wiki waziri fedha ...</td>\n",
              "    </tr>\n",
              "    <tr>\n",
              "      <th>4557</th>\n",
              "      <td>Biashara</td>\n",
              "      <td>mpango uliopewa jina kili challenge unadhamini...</td>\n",
              "    </tr>\n",
              "    <tr>\n",
              "      <th>...</th>\n",
              "      <td>...</td>\n",
              "      <td>...</td>\n",
              "    </tr>\n",
              "    <tr>\n",
              "      <th>4107</th>\n",
              "      <td>Biashara</td>\n",
              "      <td>waziri huyo aliyeongozana waziri maji umwagili...</td>\n",
              "    </tr>\n",
              "    <tr>\n",
              "      <th>921</th>\n",
              "      <td>Biashara</td>\n",
              "      <td>nchemba aliyasema hayo mwishoni wiki bungeni m...</td>\n",
              "    </tr>\n",
              "    <tr>\n",
              "      <th>3278</th>\n",
              "      <td>Biashara</td>\n",
              "      <td>ameyasema hayo dar es salaam kongamano siku ku...</td>\n",
              "    </tr>\n",
              "    <tr>\n",
              "      <th>3077</th>\n",
              "      <td>Biashara</td>\n",
              "      <td>mujibu momgela ongezeko wafanyabiashara jiji a...</td>\n",
              "    </tr>\n",
              "    <tr>\n",
              "      <th>1634</th>\n",
              "      <td>Biashara</td>\n",
              "      <td>ujumbe kampuni uwekezaji austria unatarajiwa k...</td>\n",
              "    </tr>\n",
              "  </tbody>\n",
              "</table>\n",
              "<p>63 rows × 2 columns</p>\n",
              "</div>"
            ],
            "text/plain": [
              "      category                                            content\n",
              "2097  Biashara  rais john magufuli leo anakutana wafanyabiasha...\n",
              "1264  Biashara  waziri mkuu kassim majaliwa ameitaka wizara ki...\n",
              "3722  Biashara  kipindi mwaka mmoja kufikia desemba mwaka jana...\n",
              "3251  Biashara  hayo yalibainishwa mwishoni wiki waziri fedha ...\n",
              "4557  Biashara  mpango uliopewa jina kili challenge unadhamini...\n",
              "...        ...                                                ...\n",
              "4107  Biashara  waziri huyo aliyeongozana waziri maji umwagili...\n",
              "921   Biashara  nchemba aliyasema hayo mwishoni wiki bungeni m...\n",
              "3278  Biashara  ameyasema hayo dar es salaam kongamano siku ku...\n",
              "3077  Biashara  mujibu momgela ongezeko wafanyabiashara jiji a...\n",
              "1634  Biashara  ujumbe kampuni uwekezaji austria unatarajiwa k...\n",
              "\n",
              "[63 rows x 2 columns]"
            ]
          },
          "metadata": {
            "tags": []
          }
        },
        {
          "output_type": "stream",
          "text": [
            "\n",
            "actual class 'Kitaifa' predicted as 'Biashara' : 49 examples.\n"
          ],
          "name": "stdout"
        },
        {
          "output_type": "display_data",
          "data": {
            "text/html": [
              "<div>\n",
              "<style scoped>\n",
              "    .dataframe tbody tr th:only-of-type {\n",
              "        vertical-align: middle;\n",
              "    }\n",
              "\n",
              "    .dataframe tbody tr th {\n",
              "        vertical-align: top;\n",
              "    }\n",
              "\n",
              "    .dataframe thead th {\n",
              "        text-align: right;\n",
              "    }\n",
              "</style>\n",
              "<table border=\"1\" class=\"dataframe\">\n",
              "  <thead>\n",
              "    <tr style=\"text-align: right;\">\n",
              "      <th></th>\n",
              "      <th>category</th>\n",
              "      <th>content</th>\n",
              "    </tr>\n",
              "  </thead>\n",
              "  <tbody>\n",
              "    <tr>\n",
              "      <th>1141</th>\n",
              "      <td>Kitaifa</td>\n",
              "      <td>waziri madini angellah kairuki amesema wizara ...</td>\n",
              "    </tr>\n",
              "    <tr>\n",
              "      <th>678</th>\n",
              "      <td>Kitaifa</td>\n",
              "      <td>meneja mamlaka usimamizi bima tira kanda stell...</td>\n",
              "    </tr>\n",
              "    <tr>\n",
              "      <th>2905</th>\n",
              "      <td>Kitaifa</td>\n",
              "      <td>waziri habari utamaduni sanaa michezo dk harri...</td>\n",
              "    </tr>\n",
              "    <tr>\n",
              "      <th>4479</th>\n",
              "      <td>Kitaifa</td>\n",
              "      <td>msimu kuelekea krismasi mwaka mpya wafanyabias...</td>\n",
              "    </tr>\n",
              "    <tr>\n",
              "      <th>4538</th>\n",
              "      <td>Kitaifa</td>\n",
              "      <td>kuhakikisha magazeti habarileo spotileo daily ...</td>\n",
              "    </tr>\n",
              "    <tr>\n",
              "      <th>440</th>\n",
              "      <td>Kitaifa</td>\n",
              "      <td>rais zanzibar dk ali mohamed shein amesema kut...</td>\n",
              "    </tr>\n",
              "    <tr>\n",
              "      <th>4303</th>\n",
              "      <td>Kitaifa</td>\n",
              "      <td>rais john magufuli anatarajiwa mgeni rasmi kil...</td>\n",
              "    </tr>\n",
              "    <tr>\n",
              "      <th>4040</th>\n",
              "      <td>Kitaifa</td>\n",
              "      <td>waziri mkuu kassim majaliwa ameutaka mkoa tabo...</td>\n",
              "    </tr>\n",
              "    <tr>\n",
              "      <th>1379</th>\n",
              "      <td>Kitaifa</td>\n",
              "      <td>wizara maliasili utalii imeunda kamati yenye j...</td>\n",
              "    </tr>\n",
              "    <tr>\n",
              "      <th>473</th>\n",
              "      <td>Kitaifa</td>\n",
              "      <td>wananchi vijiji kitongosima shinembo wilaya ma...</td>\n",
              "    </tr>\n",
              "    <tr>\n",
              "      <th>4045</th>\n",
              "      <td>Kitaifa</td>\n",
              "      <td>mkutano mkuu kampuni umma jenga afya teketeza ...</td>\n",
              "    </tr>\n",
              "    <tr>\n",
              "      <th>1791</th>\n",
              "      <td>Kitaifa</td>\n",
              "      <td>maadhimisho siku nyuki duniani yameanza kuadhi...</td>\n",
              "    </tr>\n",
              "    <tr>\n",
              "      <th>5081</th>\n",
              "      <td>Kitaifa</td>\n",
              "      <td>kampuni inayotoa huduma usafi ri njia mtandaon...</td>\n",
              "    </tr>\n",
              "    <tr>\n",
              "      <th>3056</th>\n",
              "      <td>Kitaifa</td>\n",
              "      <td>halmashauri wilaya rombo mkoa kilimanjaro imew...</td>\n",
              "    </tr>\n",
              "    <tr>\n",
              "      <th>4309</th>\n",
              "      <td>Kitaifa</td>\n",
              "      <td>serikali mapinduzi zanzibar imesema uvuvi hara...</td>\n",
              "    </tr>\n",
              "    <tr>\n",
              "      <th>5128</th>\n",
              "      <td>Kitaifa</td>\n",
              "      <td>chama mawakala forodha taffa tawi namanga kime...</td>\n",
              "    </tr>\n",
              "    <tr>\n",
              "      <th>4229</th>\n",
              "      <td>Kitaifa</td>\n",
              "      <td>halmashauri wilaya nane mkoa tabora zimeanika ...</td>\n",
              "    </tr>\n",
              "    <tr>\n",
              "      <th>4586</th>\n",
              "      <td>Kitaifa</td>\n",
              "      <td>jarida forbes afrika limeutaja utawala rais jo...</td>\n",
              "    </tr>\n",
              "    <tr>\n",
              "      <th>2520</th>\n",
              "      <td>Kitaifa</td>\n",
              "      <td>rais john magufuli amemwagiza waziri madini do...</td>\n",
              "    </tr>\n",
              "    <tr>\n",
              "      <th>501</th>\n",
              "      <td>Kitaifa</td>\n",
              "      <td>kufuatia kuwepo taarifa zilizoenea kusimamishw...</td>\n",
              "    </tr>\n",
              "    <tr>\n",
              "      <th>3910</th>\n",
              "      <td>Kitaifa</td>\n",
              "      <td>ofi taifa takwimu nbs ikifanya maandalizi sens...</td>\n",
              "    </tr>\n",
              "    <tr>\n",
              "      <th>2185</th>\n",
              "      <td>Kitaifa</td>\n",
              "      <td>serikali imetaifi sha jumla leseni madini zili...</td>\n",
              "    </tr>\n",
              "    <tr>\n",
              "      <th>2869</th>\n",
              "      <td>Kitaifa</td>\n",
              "      <td>mbunge geita mjini ccm naibu waziri maliasili ...</td>\n",
              "    </tr>\n",
              "    <tr>\n",
              "      <th>2473</th>\n",
              "      <td>Kitaifa</td>\n",
              "      <td>tangu kuanza kuadhimishwa siku kimondo duniani...</td>\n",
              "    </tr>\n",
              "    <tr>\n",
              "      <th>3940</th>\n",
              "      <td>Kitaifa</td>\n",
              "      <td>shirika taifa hifadhi jamii nssf limepanga kut...</td>\n",
              "    </tr>\n",
              "    <tr>\n",
              "      <th>4740</th>\n",
              "      <td>Kitaifa</td>\n",
              "      <td>mkurugenzi mkuu mamlaka maonesho viwanda biash...</td>\n",
              "    </tr>\n",
              "    <tr>\n",
              "      <th>2723</th>\n",
              "      <td>Kitaifa</td>\n",
              "      <td>wizara fedha mipango uchumi imesaini makubalia...</td>\n",
              "    </tr>\n",
              "    <tr>\n",
              "      <th>1016</th>\n",
              "      <td>Kitaifa</td>\n",
              "      <td>kutokana maelekezo yaliyotolewa rais john magu...</td>\n",
              "    </tr>\n",
              "    <tr>\n",
              "      <th>196</th>\n",
              "      <td>Kitaifa</td>\n",
              "      <td>rwanda imeshika nafasi umaarufu afrika kuandaa...</td>\n",
              "    </tr>\n",
              "    <tr>\n",
              "      <th>1764</th>\n",
              "      <td>Kitaifa</td>\n",
              "      <td>masuala mbalimbali yakiwemo tisa yaliyokuwa ya...</td>\n",
              "    </tr>\n",
              "    <tr>\n",
              "      <th>1924</th>\n",
              "      <td>Kitaifa</td>\n",
              "      <td>waziri nchi ofisi waziri mkuu sera bunge ajira...</td>\n",
              "    </tr>\n",
              "    <tr>\n",
              "      <th>2921</th>\n",
              "      <td>Kitaifa</td>\n",
              "      <td>rais john magufuli amesema anatamani atakapoma...</td>\n",
              "    </tr>\n",
              "    <tr>\n",
              "      <th>557</th>\n",
              "      <td>Kitaifa</td>\n",
              "      <td>wizara mifugo uvuvi imewaonya wafanyabiashara ...</td>\n",
              "    </tr>\n",
              "    <tr>\n",
              "      <th>3530</th>\n",
              "      <td>Kitaifa</td>\n",
              "      <td>leo waziri madini angela kairuki ataongozana w...</td>\n",
              "    </tr>\n",
              "    <tr>\n",
              "      <th>1416</th>\n",
              "      <td>Kitaifa</td>\n",
              "      <td>rais john magufuli amekabidhi vitambulisho wak...</td>\n",
              "    </tr>\n",
              "    <tr>\n",
              "      <th>3783</th>\n",
              "      <td>Kitaifa</td>\n",
              "      <td>suala mafuta kula yaliyoingizwa nchini nyaraka...</td>\n",
              "    </tr>\n",
              "    <tr>\n",
              "      <th>111</th>\n",
              "      <td>Kitaifa</td>\n",
              "      <td>nchi kiafrika zimeiomba china kuhakikisha ufad...</td>\n",
              "    </tr>\n",
              "    <tr>\n",
              "      <th>2402</th>\n",
              "      <td>Kitaifa</td>\n",
              "      <td>soko kimataifa mazao yanayotokana muhogo linat...</td>\n",
              "    </tr>\n",
              "    <tr>\n",
              "      <th>2332</th>\n",
              "      <td>Kitaifa</td>\n",
              "      <td>serikali imewasilisha bungeni muswada kuzifany...</td>\n",
              "    </tr>\n",
              "    <tr>\n",
              "      <th>2756</th>\n",
              "      <td>Kitaifa</td>\n",
              "      <td>china inakusudia kujenga kituo kisasa kibiasha...</td>\n",
              "    </tr>\n",
              "    <tr>\n",
              "      <th>2617</th>\n",
              "      <td>Kitaifa</td>\n",
              "      <td>wachimbaji wafanyabiashara wadau sekta madini ...</td>\n",
              "    </tr>\n",
              "    <tr>\n",
              "      <th>1432</th>\n",
              "      <td>Kitaifa</td>\n",
              "      <td>jozi milioni viatu zimekuwa zikiingizwa mwaka ...</td>\n",
              "    </tr>\n",
              "    <tr>\n",
              "      <th>563</th>\n",
              "      <td>Kitaifa</td>\n",
              "      <td>serikali ikiendelea ujenzi reli kisasa dar es ...</td>\n",
              "    </tr>\n",
              "    <tr>\n",
              "      <th>518</th>\n",
              "      <td>Kitaifa</td>\n",
              "      <td>ofisi waziri mkuu inayoshughulikia sera bunge ...</td>\n",
              "    </tr>\n",
              "    <tr>\n",
              "      <th>993</th>\n",
              "      <td>Kitaifa</td>\n",
              "      <td>ubalozi thailand nchini umeanza mikakati kuten...</td>\n",
              "    </tr>\n",
              "    <tr>\n",
              "      <th>1669</th>\n",
              "      <td>Kitaifa</td>\n",
              "      <td>viwanda vikubwa jijini arusha vimeipongeza ser...</td>\n",
              "    </tr>\n",
              "    <tr>\n",
              "      <th>946</th>\n",
              "      <td>Kitaifa</td>\n",
              "      <td>bunge limeridhia kubadilisha hadhi mapori akib...</td>\n",
              "    </tr>\n",
              "    <tr>\n",
              "      <th>3304</th>\n",
              "      <td>Kitaifa</td>\n",
              "      <td>kutorejeshwa fedha zilizoazimwa mamlaka serika...</td>\n",
              "    </tr>\n",
              "    <tr>\n",
              "      <th>4822</th>\n",
              "      <td>Kitaifa</td>\n",
              "      <td>rais john magufuli amesema serikali itachukua ...</td>\n",
              "    </tr>\n",
              "  </tbody>\n",
              "</table>\n",
              "</div>"
            ],
            "text/plain": [
              "     category                                            content\n",
              "1141  Kitaifa  waziri madini angellah kairuki amesema wizara ...\n",
              "678   Kitaifa  meneja mamlaka usimamizi bima tira kanda stell...\n",
              "2905  Kitaifa  waziri habari utamaduni sanaa michezo dk harri...\n",
              "4479  Kitaifa  msimu kuelekea krismasi mwaka mpya wafanyabias...\n",
              "4538  Kitaifa  kuhakikisha magazeti habarileo spotileo daily ...\n",
              "440   Kitaifa  rais zanzibar dk ali mohamed shein amesema kut...\n",
              "4303  Kitaifa  rais john magufuli anatarajiwa mgeni rasmi kil...\n",
              "4040  Kitaifa  waziri mkuu kassim majaliwa ameutaka mkoa tabo...\n",
              "1379  Kitaifa  wizara maliasili utalii imeunda kamati yenye j...\n",
              "473   Kitaifa  wananchi vijiji kitongosima shinembo wilaya ma...\n",
              "4045  Kitaifa  mkutano mkuu kampuni umma jenga afya teketeza ...\n",
              "1791  Kitaifa  maadhimisho siku nyuki duniani yameanza kuadhi...\n",
              "5081  Kitaifa  kampuni inayotoa huduma usafi ri njia mtandaon...\n",
              "3056  Kitaifa  halmashauri wilaya rombo mkoa kilimanjaro imew...\n",
              "4309  Kitaifa  serikali mapinduzi zanzibar imesema uvuvi hara...\n",
              "5128  Kitaifa  chama mawakala forodha taffa tawi namanga kime...\n",
              "4229  Kitaifa  halmashauri wilaya nane mkoa tabora zimeanika ...\n",
              "4586  Kitaifa  jarida forbes afrika limeutaja utawala rais jo...\n",
              "2520  Kitaifa  rais john magufuli amemwagiza waziri madini do...\n",
              "501   Kitaifa  kufuatia kuwepo taarifa zilizoenea kusimamishw...\n",
              "3910  Kitaifa  ofi taifa takwimu nbs ikifanya maandalizi sens...\n",
              "2185  Kitaifa  serikali imetaifi sha jumla leseni madini zili...\n",
              "2869  Kitaifa  mbunge geita mjini ccm naibu waziri maliasili ...\n",
              "2473  Kitaifa  tangu kuanza kuadhimishwa siku kimondo duniani...\n",
              "3940  Kitaifa  shirika taifa hifadhi jamii nssf limepanga kut...\n",
              "4740  Kitaifa  mkurugenzi mkuu mamlaka maonesho viwanda biash...\n",
              "2723  Kitaifa  wizara fedha mipango uchumi imesaini makubalia...\n",
              "1016  Kitaifa  kutokana maelekezo yaliyotolewa rais john magu...\n",
              "196   Kitaifa  rwanda imeshika nafasi umaarufu afrika kuandaa...\n",
              "1764  Kitaifa  masuala mbalimbali yakiwemo tisa yaliyokuwa ya...\n",
              "1924  Kitaifa  waziri nchi ofisi waziri mkuu sera bunge ajira...\n",
              "2921  Kitaifa  rais john magufuli amesema anatamani atakapoma...\n",
              "557   Kitaifa  wizara mifugo uvuvi imewaonya wafanyabiashara ...\n",
              "3530  Kitaifa  leo waziri madini angela kairuki ataongozana w...\n",
              "1416  Kitaifa  rais john magufuli amekabidhi vitambulisho wak...\n",
              "3783  Kitaifa  suala mafuta kula yaliyoingizwa nchini nyaraka...\n",
              "111   Kitaifa  nchi kiafrika zimeiomba china kuhakikisha ufad...\n",
              "2402  Kitaifa  soko kimataifa mazao yanayotokana muhogo linat...\n",
              "2332  Kitaifa  serikali imewasilisha bungeni muswada kuzifany...\n",
              "2756  Kitaifa  china inakusudia kujenga kituo kisasa kibiasha...\n",
              "2617  Kitaifa  wachimbaji wafanyabiashara wadau sekta madini ...\n",
              "1432  Kitaifa  jozi milioni viatu zimekuwa zikiingizwa mwaka ...\n",
              "563   Kitaifa  serikali ikiendelea ujenzi reli kisasa dar es ...\n",
              "518   Kitaifa  ofisi waziri mkuu inayoshughulikia sera bunge ...\n",
              "993   Kitaifa  ubalozi thailand nchini umeanza mikakati kuten...\n",
              "1669  Kitaifa  viwanda vikubwa jijini arusha vimeipongeza ser...\n",
              "946   Kitaifa  bunge limeridhia kubadilisha hadhi mapori akib...\n",
              "3304  Kitaifa  kutorejeshwa fedha zilizoazimwa mamlaka serika...\n",
              "4822  Kitaifa  rais john magufuli amesema serikali itachukua ..."
            ]
          },
          "metadata": {
            "tags": []
          }
        },
        {
          "output_type": "stream",
          "text": [
            "\n",
            "actual class 'Kitaifa' predicted as 'michezo' : 21 examples.\n"
          ],
          "name": "stdout"
        },
        {
          "output_type": "display_data",
          "data": {
            "text/html": [
              "<div>\n",
              "<style scoped>\n",
              "    .dataframe tbody tr th:only-of-type {\n",
              "        vertical-align: middle;\n",
              "    }\n",
              "\n",
              "    .dataframe tbody tr th {\n",
              "        vertical-align: top;\n",
              "    }\n",
              "\n",
              "    .dataframe thead th {\n",
              "        text-align: right;\n",
              "    }\n",
              "</style>\n",
              "<table border=\"1\" class=\"dataframe\">\n",
              "  <thead>\n",
              "    <tr style=\"text-align: right;\">\n",
              "      <th></th>\n",
              "      <th>category</th>\n",
              "      <th>content</th>\n",
              "    </tr>\n",
              "  </thead>\n",
              "  <tbody>\n",
              "    <tr>\n",
              "      <th>4017</th>\n",
              "      <td>Kitaifa</td>\n",
              "      <td>timu taifa afrika car mbili ilitoka nyuma kuil...</td>\n",
              "    </tr>\n",
              "    <tr>\n",
              "      <th>2229</th>\n",
              "      <td>Kitaifa</td>\n",
              "      <td>nigeria imetangaza majina wachezaji ajili fain...</td>\n",
              "    </tr>\n",
              "    <tr>\n",
              "      <th>4242</th>\n",
              "      <td>Kitaifa</td>\n",
              "      <td>naibu waziri habari utamaduni sanaa michezo ju...</td>\n",
              "    </tr>\n",
              "    <tr>\n",
              "      <th>2720</th>\n",
              "      <td>Kitaifa</td>\n",
              "      <td>kinara ligi kuu tanzania bara tpl yanga amepan...</td>\n",
              "    </tr>\n",
              "    <tr>\n",
              "      <th>984</th>\n",
              "      <td>Kitaifa</td>\n",
              "      <td>kikosi mabingwa soka tanzania bara simba jana ...</td>\n",
              "    </tr>\n",
              "    <tr>\n",
              "      <th>3689</th>\n",
              "      <td>Kitaifa</td>\n",
              "      <td>mbio ubingwa ligi kuu bara vigogo ligi yanga a...</td>\n",
              "    </tr>\n",
              "    <tr>\n",
              "      <th>1848</th>\n",
              "      <td>Kitaifa</td>\n",
              "      <td>kuelekea kilele tamasha tigo fiesta kesho wasa...</td>\n",
              "    </tr>\n",
              "    <tr>\n",
              "      <th>1960</th>\n",
              "      <td>Kitaifa</td>\n",
              "      <td>klabu azam fc imewatema nyota wanane kikosi ms...</td>\n",
              "    </tr>\n",
              "    <tr>\n",
              "      <th>372</th>\n",
              "      <td>Kitaifa</td>\n",
              "      <td>mwanaume kijiji obama jimbo migori nchini keny...</td>\n",
              "    </tr>\n",
              "    <tr>\n",
              "      <th>1299</th>\n",
              "      <td>Kitaifa</td>\n",
              "      <td>msanii muziki nchini richard mavoko amekanusha...</td>\n",
              "    </tr>\n",
              "    <tr>\n",
              "      <th>322</th>\n",
              "      <td>Kitaifa</td>\n",
              "      <td>kesho jumamosi wawakilishi tanzania michuano l...</td>\n",
              "    </tr>\n",
              "    <tr>\n",
              "      <th>3836</th>\n",
              "      <td>Kitaifa</td>\n",
              "      <td>wasanii muziki kizazi kipya naseeb abdul maaru...</td>\n",
              "    </tr>\n",
              "    <tr>\n",
              "      <th>1687</th>\n",
              "      <td>Kitaifa</td>\n",
              "      <td>kocha mkuu simba patrick aussems amesema bahat...</td>\n",
              "    </tr>\n",
              "    <tr>\n",
              "      <th>2036</th>\n",
              "      <td>Kitaifa</td>\n",
              "      <td>mwezi uliopita mbunge geita vijijini joseph ka...</td>\n",
              "    </tr>\n",
              "    <tr>\n",
              "      <th>1852</th>\n",
              "      <td>Kitaifa</td>\n",
              "      <td>shilingi milioni zinatarajiwa kukusanywa taasi...</td>\n",
              "    </tr>\n",
              "    <tr>\n",
              "      <th>685</th>\n",
              "      <td>Kitaifa</td>\n",
              "      <td>bodi michezo kubahatisha imesema kuhakikisha i...</td>\n",
              "    </tr>\n",
              "    <tr>\n",
              "      <th>3205</th>\n",
              "      <td>Kitaifa</td>\n",
              "      <td>kocha yanga mwinyi zahera amefurahishwa kikosi...</td>\n",
              "    </tr>\n",
              "    <tr>\n",
              "      <th>4204</th>\n",
              "      <td>Kitaifa</td>\n",
              "      <td>mashindano ligi daraja imemalizika karibuni ti...</td>\n",
              "    </tr>\n",
              "    <tr>\n",
              "      <th>368</th>\n",
              "      <td>Kitaifa</td>\n",
              "      <td>tamasha tigo fiesta mwaka lililokuwa lifanyike...</td>\n",
              "    </tr>\n",
              "    <tr>\n",
              "      <th>4008</th>\n",
              "      <td>Kitaifa</td>\n",
              "      <td>uongozi timu soka zimamoto inayoshiriki ligi k...</td>\n",
              "    </tr>\n",
              "    <tr>\n",
              "      <th>3219</th>\n",
              "      <td>Kitaifa</td>\n",
              "      <td>serikali kenya imeungana uganda kupiga marufuk...</td>\n",
              "    </tr>\n",
              "  </tbody>\n",
              "</table>\n",
              "</div>"
            ],
            "text/plain": [
              "     category                                            content\n",
              "4017  Kitaifa  timu taifa afrika car mbili ilitoka nyuma kuil...\n",
              "2229  Kitaifa  nigeria imetangaza majina wachezaji ajili fain...\n",
              "4242  Kitaifa  naibu waziri habari utamaduni sanaa michezo ju...\n",
              "2720  Kitaifa  kinara ligi kuu tanzania bara tpl yanga amepan...\n",
              "984   Kitaifa  kikosi mabingwa soka tanzania bara simba jana ...\n",
              "3689  Kitaifa  mbio ubingwa ligi kuu bara vigogo ligi yanga a...\n",
              "1848  Kitaifa  kuelekea kilele tamasha tigo fiesta kesho wasa...\n",
              "1960  Kitaifa  klabu azam fc imewatema nyota wanane kikosi ms...\n",
              "372   Kitaifa  mwanaume kijiji obama jimbo migori nchini keny...\n",
              "1299  Kitaifa  msanii muziki nchini richard mavoko amekanusha...\n",
              "322   Kitaifa  kesho jumamosi wawakilishi tanzania michuano l...\n",
              "3836  Kitaifa  wasanii muziki kizazi kipya naseeb abdul maaru...\n",
              "1687  Kitaifa  kocha mkuu simba patrick aussems amesema bahat...\n",
              "2036  Kitaifa  mwezi uliopita mbunge geita vijijini joseph ka...\n",
              "1852  Kitaifa  shilingi milioni zinatarajiwa kukusanywa taasi...\n",
              "685   Kitaifa  bodi michezo kubahatisha imesema kuhakikisha i...\n",
              "3205  Kitaifa  kocha yanga mwinyi zahera amefurahishwa kikosi...\n",
              "4204  Kitaifa  mashindano ligi daraja imemalizika karibuni ti...\n",
              "368   Kitaifa  tamasha tigo fiesta mwaka lililokuwa lifanyike...\n",
              "4008  Kitaifa  uongozi timu soka zimamoto inayoshiriki ligi k...\n",
              "3219  Kitaifa  serikali kenya imeungana uganda kupiga marufuk..."
            ]
          },
          "metadata": {
            "tags": []
          }
        },
        {
          "output_type": "stream",
          "text": [
            "\n"
          ],
          "name": "stdout"
        }
      ]
    },
    {
      "cell_type": "code",
      "metadata": {
        "id": "Gw8gT6Ef9YMD"
      },
      "source": [
        "'''\n",
        "# save the model\n",
        "model_filename = open('finalized_model.sav', 'wb')\n",
        "pickle.dump(model, model_filename)\n",
        "model_filename.close()\n",
        "# save fitted vectorizer to use for the prediction time\n",
        "tf_idf_output = open('fitted_vectorizer.pickle', 'wb')\n",
        "pickle.dump(fitted_vectorizer, tf_idf_output)\n",
        "tf_idf_output.close()\n",
        "# save the dictionaries\n",
        "output1 = open('category_to_id.pkl', 'wb')\n",
        "pickle.dump(category_to_id, output1)\n",
        "output1.close()\n",
        "output2 = open('id_to_category.pkl', 'wb')\n",
        "pickle.dump(id_to_category, output2)\n",
        "output2.close()\n",
        "'''"
      ],
      "execution_count": null,
      "outputs": []
    },
    {
      "cell_type": "markdown",
      "metadata": {
        "id": "f6D1dv8VWpsW"
      },
      "source": [
        "\n",
        "\n",
        "---\n",
        "\n"
      ]
    },
    {
      "cell_type": "markdown",
      "metadata": {
        "id": "-Sp7KIVNYQOc"
      },
      "source": [
        "Unpacking dftest['scores']"
      ]
    },
    {
      "cell_type": "code",
      "metadata": {
        "id": "AuQNOVktYP1T"
      },
      "source": [
        "dftest[['Kitaifa', 'Biashara', 'michezo', 'Kimataifa', 'Burudani']] = pd.DataFrame(dftest.scores.tolist())"
      ],
      "execution_count": null,
      "outputs": []
    },
    {
      "cell_type": "code",
      "metadata": {
        "id": "9CFIyjtBY3ds"
      },
      "source": [
        "dftest = dftest.drop(columns=['content', 'scores'])"
      ],
      "execution_count": null,
      "outputs": []
    },
    {
      "cell_type": "code",
      "metadata": {
        "id": "LNDUqNboZOac"
      },
      "source": [
        "dftest.to_csv(r'/content/drive/MyDrive/Colab Notebooks/NLP/Submission2.csv', index = False)"
      ],
      "execution_count": null,
      "outputs": []
    }
  ]
}