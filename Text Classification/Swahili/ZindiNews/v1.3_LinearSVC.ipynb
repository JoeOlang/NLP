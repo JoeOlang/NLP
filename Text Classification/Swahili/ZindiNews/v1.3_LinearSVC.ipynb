{
  "nbformat": 4,
  "nbformat_minor": 0,
  "metadata": {
    "colab": {
      "name": "classify.ipynb",
      "provenance": [],
      "collapsed_sections": [],
      "mount_file_id": "16aQA_FtTTAolKkx5JZ3UC4qBVa1mgCEg",
      "authorship_tag": "ABX9TyNOEuwXR30sqXSuSeiDdI4B",
      "include_colab_link": true
    },
    "kernelspec": {
      "name": "python3",
      "display_name": "Python 3"
    },
    "language_info": {
      "name": "python"
    }
  },
  "cells": [
    {
      "cell_type": "markdown",
      "metadata": {
        "id": "view-in-github",
        "colab_type": "text"
      },
      "source": [
        "<a href=\"https://colab.research.google.com/github/JoeOlang/NLP/blob/main/Text%20Classification/Swahili/ZindiNews/v1.3_LinearSVC.ipynb\" target=\"_parent\"><img src=\"https://colab.research.google.com/assets/colab-badge.svg\" alt=\"Open In Colab\"/></a>"
      ]
    },
    {
      "cell_type": "code",
      "metadata": {
        "id": "ApmrwgDk8dLk"
      },
      "source": [
        "import pandas as pd\n",
        "import numpy as np\n",
        "import warnings\n",
        "warnings.filterwarnings('ignore')\n",
        "\n",
        "import re, string\n",
        "import nltk\n",
        "import seaborn as sns\n",
        "import matplotlib.pyplot as plt\n",
        "\n",
        "\n",
        "from sklearn.model_selection import train_test_split\n",
        "from sklearn.feature_extraction.text import TfidfTransformer\n",
        "from sklearn.feature_extraction.text import CountVectorizer\n",
        "from sklearn.preprocessing import LabelEncoder\n",
        "\n",
        "from sklearn.svm import LinearSVC\n",
        "from sklearn.calibration import CalibratedClassifierCV\n"
      ],
      "execution_count": 1,
      "outputs": []
    },
    {
      "cell_type": "code",
      "metadata": {
        "id": "jxlJsNnHgnUN"
      },
      "source": [
        "# Introduce some common Swahili stop words\n",
        "stop_words_df = pd.read_csv('/content/drive/MyDrive/Colab Notebooks/NLP/swahili_stopwords.csv')\n",
        "stop_words = stop_words_df['StopWords'].tolist()"
      ],
      "execution_count": 2,
      "outputs": []
    },
    {
      "cell_type": "code",
      "metadata": {
        "colab": {
          "base_uri": "https://localhost:8080/",
          "height": 197
        },
        "id": "-w7DVyD6CmgI",
        "outputId": "887e729b-da43-41b5-9621-5b1e30a7f4f6"
      },
      "source": [
        "df = pd.read_csv('/content/drive/MyDrive/Colab Notebooks/NLP/Swahili/Train.csv')\n",
        "df.head()"
      ],
      "execution_count": 3,
      "outputs": [
        {
          "output_type": "execute_result",
          "data": {
            "text/html": [
              "<div>\n",
              "<style scoped>\n",
              "    .dataframe tbody tr th:only-of-type {\n",
              "        vertical-align: middle;\n",
              "    }\n",
              "\n",
              "    .dataframe tbody tr th {\n",
              "        vertical-align: top;\n",
              "    }\n",
              "\n",
              "    .dataframe thead th {\n",
              "        text-align: right;\n",
              "    }\n",
              "</style>\n",
              "<table border=\"1\" class=\"dataframe\">\n",
              "  <thead>\n",
              "    <tr style=\"text-align: right;\">\n",
              "      <th></th>\n",
              "      <th>id</th>\n",
              "      <th>content</th>\n",
              "      <th>category</th>\n",
              "    </tr>\n",
              "  </thead>\n",
              "  <tbody>\n",
              "    <tr>\n",
              "      <th>0</th>\n",
              "      <td>SW0</td>\n",
              "      <td>SERIKALI imesema haitakuwa tayari kuona amani...</td>\n",
              "      <td>Kitaifa</td>\n",
              "    </tr>\n",
              "    <tr>\n",
              "      <th>1</th>\n",
              "      <td>SW1</td>\n",
              "      <td>Mkuu wa Mkoa wa Tabora, Aggrey Mwanri amesiti...</td>\n",
              "      <td>Biashara</td>\n",
              "    </tr>\n",
              "    <tr>\n",
              "      <th>2</th>\n",
              "      <td>SW10</td>\n",
              "      <td>SERIKALI imetoa miezi sita kwa taasisi zote z...</td>\n",
              "      <td>Kitaifa</td>\n",
              "    </tr>\n",
              "    <tr>\n",
              "      <th>3</th>\n",
              "      <td>SW100</td>\n",
              "      <td>KAMPUNI ya mchezo wa kubahatisha ya M-bet ime...</td>\n",
              "      <td>michezo</td>\n",
              "    </tr>\n",
              "    <tr>\n",
              "      <th>4</th>\n",
              "      <td>SW1000</td>\n",
              "      <td>WATANZANIA wamekumbushwa kusherehekea sikukuu...</td>\n",
              "      <td>Kitaifa</td>\n",
              "    </tr>\n",
              "  </tbody>\n",
              "</table>\n",
              "</div>"
            ],
            "text/plain": [
              "       id                                            content  category\n",
              "0     SW0   SERIKALI imesema haitakuwa tayari kuona amani...   Kitaifa\n",
              "1     SW1   Mkuu wa Mkoa wa Tabora, Aggrey Mwanri amesiti...  Biashara\n",
              "2    SW10   SERIKALI imetoa miezi sita kwa taasisi zote z...   Kitaifa\n",
              "3   SW100   KAMPUNI ya mchezo wa kubahatisha ya M-bet ime...   michezo\n",
              "4  SW1000   WATANZANIA wamekumbushwa kusherehekea sikukuu...   Kitaifa"
            ]
          },
          "metadata": {
            "tags": []
          },
          "execution_count": 3
        }
      ]
    },
    {
      "cell_type": "code",
      "metadata": {
        "colab": {
          "base_uri": "https://localhost:8080/"
        },
        "id": "fwKhYfJKuW-m",
        "outputId": "e79d1a5c-630d-46ea-e340-adcdf19672a5"
      },
      "source": [
        "df['category'].unique()"
      ],
      "execution_count": 4,
      "outputs": [
        {
          "output_type": "execute_result",
          "data": {
            "text/plain": [
              "array(['Kitaifa', 'Biashara', 'michezo', 'Kimataifa', 'Burudani'],\n",
              "      dtype=object)"
            ]
          },
          "metadata": {
            "tags": []
          },
          "execution_count": 4
        }
      ]
    },
    {
      "cell_type": "markdown",
      "metadata": {
        "id": "Jr0Y77IiurpV"
      },
      "source": [
        "---"
      ]
    },
    {
      "cell_type": "code",
      "metadata": {
        "colab": {
          "base_uri": "https://localhost:8080/"
        },
        "id": "333ypuSCuqew",
        "outputId": "a73d59e6-3440-48c6-bedf-1599ec74823b"
      },
      "source": [
        "labels = df['category']\n",
        "text = df['content']\n",
        "\n",
        "X_train, X_test, y_train, y_test = train_test_split(text, labels, random_state=0, test_size=0.3)\n",
        "\n",
        "count_vect = CountVectorizer()\n",
        "X_train_counts = count_vect.fit_transform(X_train)\n",
        "tf_transformer = TfidfTransformer().fit(X_train_counts)\n",
        "X_train_transformed = tf_transformer.transform(X_train_counts)\n",
        "\n",
        "X_test_counts = count_vect.transform(X_test)\n",
        "X_test_transformed = tf_transformer.transform(X_test_counts)\n",
        "\n",
        "labels = LabelEncoder()\n",
        "y_train_labels_fit = labels.fit(y_train)\n",
        "y_train_lables_trf = labels.transform(y_train)\n",
        "\n",
        "print(labels.classes_)"
      ],
      "execution_count": 5,
      "outputs": [
        {
          "output_type": "stream",
          "text": [
            "['Biashara' 'Burudani' 'Kimataifa' 'Kitaifa' 'michezo']\n"
          ],
          "name": "stdout"
        }
      ]
    },
    {
      "cell_type": "code",
      "metadata": {
        "id": "vjpaOSNyukQl"
      },
      "source": [
        "linear_svc = LinearSVC()\n",
        "clf = linear_svc.fit(X_train_transformed,y_train_lables_trf)\n",
        "\n",
        "calibrated_svc = CalibratedClassifierCV(base_estimator=linear_svc,\n",
        "                                        cv=\"prefit\")\n",
        "\n",
        "calibrated_svc.fit(X_train_transformed,y_train_lables_trf)\n",
        "predicted = calibrated_svc.predict(X_test_transformed)"
      ],
      "execution_count": 6,
      "outputs": []
    },
    {
      "cell_type": "code",
      "metadata": {
        "colab": {
          "base_uri": "https://localhost:8080/"
        },
        "id": "HSg27A60vTlP",
        "outputId": "e667b670-a448-459a-cc6c-7d5e1f015688"
      },
      "source": [
        "to_predict = [\"KOCHA wa Senegal, Alliou Cisse amesema timu yake itazoea mechi hadi mechi kwenye michuano ya Afcon akiwa na lengo la kufanya vizuri kuliko michuano ya mwisho iliyofanyika Gabon mwaka 2017, ambapo Senegal iliishia robo fainali.Cisse ni miongoni mwa makocha wachache wanaoonekana kwenye michuano hiyo mfululizo kuanzia ile iliyopita. Simba wa Teranga wamepangwa kundi C pamoja na Algeria, Kenya na Tanzania.Akizungumzia nafasi yake kwenye kundi hilo, Cisse alisema kundi liko sawa. “Ni kundi lililo sawa kwa timu yangu, kwa sasa hakuna timu ndogo au kubwa. Timu zote zilizofuzu zitakuwa Misri kupambana na kujaribu kupata matokeo mazuri.” “Tutakuwa na Algeria sio ngeni kwenye michuano hii, pia kuna Kenya na Tanzania. Hatuzidharau Kenya na Tanzania kutokana na hali zao, tunatakiwa kujiandaa vizuri kushindana.”Mechi yake na Algeria itakuwa ya tatu mfululizo, amejiandaa vipi? “ Ni mara ya tatu tunacheza na Algeria kwenye hatua ya makundi. Tulicheza 2015 (Equatorial Guinea), 2017 (Gabon), na sasa Misri, ni historia ndefu kwa timu hizi Algeria imebadilika tangu kuwasili kwa Djamel Belmadi, ambaye ni rafiki yangu, tumekuwa pamoja majirani Paris itakuwa mechi nzuri.”Senegal na Algeria ndio zinapewa nafasi kubwa kwenye kundi hili, lakini Kenya na Tanzania hazipaswi kudharauliwa. “Naweza kusema kwamba Senegal haiiogopi timu yoyote.” Akizungumzia malengo ya timu yake alisema wataichukulia kila mechi kwa uzito wake, kwa sababu wanajua lolote linaweza kutokea. “Ni kweli ni miongoni mwa tunaopewa nafasi kubwa, lakini kufikia kiwango hicho tunatakiwa kumfunga kila tunayekutana naye, na itaanza na Tanzania Juni 23, tunapaswa kufikiria uwezo wetu na si kuwafikia adui zetu.\"]\n",
        "p_count = count_vect.transform(to_predict)\n",
        "p_tfidf = tf_transformer.transform(p_count)\n",
        "print('Average accuracy on test set={}'.format(np.mean(predicted == labels.transform(y_test))))\n",
        "print('Predicted probabilities of demo input string are')\n",
        "print(calibrated_svc.predict_proba(p_tfidf))"
      ],
      "execution_count": 7,
      "outputs": [
        {
          "output_type": "stream",
          "text": [
            "Average accuracy on test set=0.8635187580853816\n",
            "Predicted probabilities of demo input string are\n",
            "[[4.72068163e-07 4.78728391e-04 1.25123986e-04 1.81042393e-04\n",
            "  9.99214633e-01]]\n"
          ],
          "name": "stdout"
        }
      ]
    },
    {
      "cell_type": "code",
      "metadata": {
        "id": "MEalfwWHXwkX"
      },
      "source": [
        "dftest = pd.read_csv('/content/drive/MyDrive/Colab Notebooks/NLP/Swahili/Test.csv')\n",
        "dftest = dftest.reindex(dftest.columns.tolist() + ['Kitaifa', 'Biashara', 'michezo', 'Kimataifa', 'Burudani'], axis=1)"
      ],
      "execution_count": 8,
      "outputs": []
    },
    {
      "cell_type": "code",
      "metadata": {
        "colab": {
          "base_uri": "https://localhost:8080/",
          "height": 406
        },
        "id": "92MizQPEldri",
        "outputId": "94f97877-46e9-4444-e7c0-a928b542703d"
      },
      "source": [
        "dftest"
      ],
      "execution_count": 27,
      "outputs": [
        {
          "output_type": "execute_result",
          "data": {
            "text/html": [
              "<div>\n",
              "<style scoped>\n",
              "    .dataframe tbody tr th:only-of-type {\n",
              "        vertical-align: middle;\n",
              "    }\n",
              "\n",
              "    .dataframe tbody tr th {\n",
              "        vertical-align: top;\n",
              "    }\n",
              "\n",
              "    .dataframe thead th {\n",
              "        text-align: right;\n",
              "    }\n",
              "</style>\n",
              "<table border=\"1\" class=\"dataframe\">\n",
              "  <thead>\n",
              "    <tr style=\"text-align: right;\">\n",
              "      <th></th>\n",
              "      <th>swahili_id</th>\n",
              "      <th>content</th>\n",
              "      <th>Kitaifa</th>\n",
              "      <th>Biashara</th>\n",
              "      <th>michezo</th>\n",
              "      <th>Kimataifa</th>\n",
              "      <th>Burudani</th>\n",
              "    </tr>\n",
              "  </thead>\n",
              "  <tbody>\n",
              "    <tr>\n",
              "      <th>0</th>\n",
              "      <td>001dd47ac202d9db6624a5ff734a5e7dddafeaf2</td>\n",
              "      <td>MKUU wa Wilaya ya Bahi, Mkoani Dodoma, Mwanah...</td>\n",
              "      <td>1</td>\n",
              "      <td>2</td>\n",
              "      <td>3</td>\n",
              "      <td>4</td>\n",
              "      <td>5</td>\n",
              "    </tr>\n",
              "    <tr>\n",
              "      <th>1</th>\n",
              "      <td>0043d97f7690e9bc02f0ed8bb2b260d1d44bad92</td>\n",
              "      <td>MWISHONI mwa wiki hii, Timu ya Soka ya Taifa,...</td>\n",
              "      <td>1</td>\n",
              "      <td>2</td>\n",
              "      <td>3</td>\n",
              "      <td>4</td>\n",
              "      <td>5</td>\n",
              "    </tr>\n",
              "    <tr>\n",
              "      <th>2</th>\n",
              "      <td>00579c2307b5c11003d21c40c3ecff5e922c3fd8</td>\n",
              "      <td>THAMANI ya mauzo ya bidhaa za Afrika Masharik...</td>\n",
              "      <td>1</td>\n",
              "      <td>2</td>\n",
              "      <td>3</td>\n",
              "      <td>4</td>\n",
              "      <td>5</td>\n",
              "    </tr>\n",
              "    <tr>\n",
              "      <th>3</th>\n",
              "      <td>00868eeee349e286303706ef0ffd851f39708d37</td>\n",
              "      <td>MENEJA Mawasiliano na Utetezi wa asasi ya AGP...</td>\n",
              "      <td>1</td>\n",
              "      <td>2</td>\n",
              "      <td>3</td>\n",
              "      <td>4</td>\n",
              "      <td>5</td>\n",
              "    </tr>\n",
              "    <tr>\n",
              "      <th>4</th>\n",
              "      <td>00a5cb12d3058dcf2e42f277eee599992db32412</td>\n",
              "      <td>WAZIRI wa Kilimo, Japhet Hasunga amesema seri...</td>\n",
              "      <td>1</td>\n",
              "      <td>2</td>\n",
              "      <td>3</td>\n",
              "      <td>4</td>\n",
              "      <td>5</td>\n",
              "    </tr>\n",
              "    <tr>\n",
              "      <th>...</th>\n",
              "      <td>...</td>\n",
              "      <td>...</td>\n",
              "      <td>...</td>\n",
              "      <td>...</td>\n",
              "      <td>...</td>\n",
              "      <td>...</td>\n",
              "      <td>...</td>\n",
              "    </tr>\n",
              "    <tr>\n",
              "      <th>1283</th>\n",
              "      <td>feb4b0ae88524c9cee3e50f2301d84a235f3c607</td>\n",
              "      <td>MKURUGENZI Msaidizi Msajili wa Asasi za kirai...</td>\n",
              "      <td>1</td>\n",
              "      <td>2</td>\n",
              "      <td>3</td>\n",
              "      <td>4</td>\n",
              "      <td>5</td>\n",
              "    </tr>\n",
              "    <tr>\n",
              "      <th>1284</th>\n",
              "      <td>fecf3f14f47237e02721ed4baa4eb6c11abd239f</td>\n",
              "      <td>Kilomoni alisema jana kesho atazungumzia sual...</td>\n",
              "      <td>1</td>\n",
              "      <td>2</td>\n",
              "      <td>3</td>\n",
              "      <td>4</td>\n",
              "      <td>5</td>\n",
              "    </tr>\n",
              "    <tr>\n",
              "      <th>1285</th>\n",
              "      <td>feed09e13586d12139cd59bc20996a4d29706606</td>\n",
              "      <td>TIMU ya taifa ya soka ya Tanzania Bara, Kilim...</td>\n",
              "      <td>1</td>\n",
              "      <td>2</td>\n",
              "      <td>3</td>\n",
              "      <td>4</td>\n",
              "      <td>5</td>\n",
              "    </tr>\n",
              "    <tr>\n",
              "      <th>1286</th>\n",
              "      <td>ffc0bca6fde8fa0cce1ac3a7b0d746603d441bf8</td>\n",
              "      <td>YANGA imetozwa faini ya Sh 3,500,000 kutokana...</td>\n",
              "      <td>1</td>\n",
              "      <td>2</td>\n",
              "      <td>3</td>\n",
              "      <td>4</td>\n",
              "      <td>5</td>\n",
              "    </tr>\n",
              "    <tr>\n",
              "      <th>1287</th>\n",
              "      <td>fffdd6f356ed5b8dba21717f60c53f6520e650ab</td>\n",
              "      <td>MAHAKAMA Kuu Kanda ya Dar es Salaam imekubali...</td>\n",
              "      <td>1</td>\n",
              "      <td>2</td>\n",
              "      <td>3</td>\n",
              "      <td>4</td>\n",
              "      <td>5</td>\n",
              "    </tr>\n",
              "  </tbody>\n",
              "</table>\n",
              "<p>1288 rows × 7 columns</p>\n",
              "</div>"
            ],
            "text/plain": [
              "                                    swahili_id  ... Burudani\n",
              "0     001dd47ac202d9db6624a5ff734a5e7dddafeaf2  ...        5\n",
              "1     0043d97f7690e9bc02f0ed8bb2b260d1d44bad92  ...        5\n",
              "2     00579c2307b5c11003d21c40c3ecff5e922c3fd8  ...        5\n",
              "3     00868eeee349e286303706ef0ffd851f39708d37  ...        5\n",
              "4     00a5cb12d3058dcf2e42f277eee599992db32412  ...        5\n",
              "...                                        ...  ...      ...\n",
              "1283  feb4b0ae88524c9cee3e50f2301d84a235f3c607  ...        5\n",
              "1284  fecf3f14f47237e02721ed4baa4eb6c11abd239f  ...        5\n",
              "1285  feed09e13586d12139cd59bc20996a4d29706606  ...        5\n",
              "1286  ffc0bca6fde8fa0cce1ac3a7b0d746603d441bf8  ...        5\n",
              "1287  fffdd6f356ed5b8dba21717f60c53f6520e650ab  ...        5\n",
              "\n",
              "[1288 rows x 7 columns]"
            ]
          },
          "metadata": {
            "tags": []
          },
          "execution_count": 27
        }
      ]
    },
    {
      "cell_type": "code",
      "metadata": {
        "id": "jtQwKZscalug"
      },
      "source": [
        "def predict(content):\n",
        "    #content = [string_text]\n",
        "    p_count = count_vect.transform(content)\n",
        "    p_tfidf = tf_transformer.transform(p_count)\n",
        "    predictions = calibrated_svc.predict_proba(p_tfidf)\n",
        "    #predictions = predictions.flatten()\n",
        "    #scores = predictions.tolist()\n",
        "\n",
        "    return predictions"
      ],
      "execution_count": 21,
      "outputs": []
    },
    {
      "cell_type": "code",
      "metadata": {
        "id": "mz9NkcRA1q9Z"
      },
      "source": [
        "x = predict(to_predict)"
      ],
      "execution_count": 22,
      "outputs": []
    },
    {
      "cell_type": "code",
      "metadata": {
        "colab": {
          "base_uri": "https://localhost:8080/"
        },
        "id": "kY1O0H8e2mut",
        "outputId": "994ab9b4-2b56-46d0-9efb-5bc50c32a814"
      },
      "source": [
        "x"
      ],
      "execution_count": 23,
      "outputs": [
        {
          "output_type": "execute_result",
          "data": {
            "text/plain": [
              "array([[4.72068163e-07, 4.78728391e-04, 1.25123986e-04, 1.81042393e-04,\n",
              "        9.99214633e-01]])"
            ]
          },
          "metadata": {
            "tags": []
          },
          "execution_count": 23
        }
      ]
    },
    {
      "cell_type": "code",
      "metadata": {
        "colab": {
          "base_uri": "https://localhost:8080/",
          "height": 168
        },
        "id": "CJeuZIiL17rE",
        "outputId": "8aaf26d6-da85-4042-9f8f-f8798d481f0f"
      },
      "source": [
        "q, r, s, t, w = x.shape"
      ],
      "execution_count": 24,
      "outputs": [
        {
          "output_type": "error",
          "ename": "ValueError",
          "evalue": "ignored",
          "traceback": [
            "\u001b[0;31m---------------------------------------------------------------------------\u001b[0m",
            "\u001b[0;31mValueError\u001b[0m                                Traceback (most recent call last)",
            "\u001b[0;32m<ipython-input-24-39e91bb6598c>\u001b[0m in \u001b[0;36m<module>\u001b[0;34m()\u001b[0m\n\u001b[0;32m----> 1\u001b[0;31m \u001b[0mq\u001b[0m\u001b[0;34m,\u001b[0m \u001b[0mr\u001b[0m\u001b[0;34m,\u001b[0m \u001b[0ms\u001b[0m\u001b[0;34m,\u001b[0m \u001b[0mt\u001b[0m\u001b[0;34m,\u001b[0m \u001b[0mw\u001b[0m \u001b[0;34m=\u001b[0m \u001b[0mx\u001b[0m\u001b[0;34m.\u001b[0m\u001b[0mshape\u001b[0m\u001b[0;34m\u001b[0m\u001b[0;34m\u001b[0m\u001b[0m\n\u001b[0m",
            "\u001b[0;31mValueError\u001b[0m: not enough values to unpack (expected 5, got 2)"
          ]
        }
      ]
    },
    {
      "cell_type": "code",
      "metadata": {
        "id": "ex4E7AkL7P2t"
      },
      "source": [
        "def rt():\n",
        "    return 1, 2, 3, 4, 5"
      ],
      "execution_count": 25,
      "outputs": []
    },
    {
      "cell_type": "code",
      "metadata": {
        "id": "gng3jPGo7grq"
      },
      "source": [
        "dftest['Kitaifa'], dftest['Biashara'], dftest['michezo'], dftest['Kimataifa'], dftest['Burudani']   = rt()"
      ],
      "execution_count": 26,
      "outputs": []
    },
    {
      "cell_type": "code",
      "metadata": {
        "colab": {
          "base_uri": "https://localhost:8080/",
          "height": 168
        },
        "id": "rF_8D0-TbNx8",
        "outputId": "3bf20840-3fa3-4289-f3b4-a8fff2664723"
      },
      "source": [
        "dftest['Kitaifa'], dftest['Biashara'], dftest['michezo'], dftest['Kimataifa'], dftest['Burudani']   = dftest['content'].apply(lambda x: predict(x))"
      ],
      "execution_count": 12,
      "outputs": [
        {
          "output_type": "error",
          "ename": "ValueError",
          "evalue": "ignored",
          "traceback": [
            "\u001b[0;31m---------------------------------------------------------------------------\u001b[0m",
            "\u001b[0;31mValueError\u001b[0m                                Traceback (most recent call last)",
            "\u001b[0;32m<ipython-input-12-027878686afc>\u001b[0m in \u001b[0;36m<module>\u001b[0;34m()\u001b[0m\n\u001b[0;32m----> 1\u001b[0;31m \u001b[0mdftest\u001b[0m\u001b[0;34m[\u001b[0m\u001b[0;34m'Kitaifa'\u001b[0m\u001b[0;34m]\u001b[0m\u001b[0;34m,\u001b[0m \u001b[0mdftest\u001b[0m\u001b[0;34m[\u001b[0m\u001b[0;34m'Biashara'\u001b[0m\u001b[0;34m]\u001b[0m\u001b[0;34m,\u001b[0m \u001b[0mdftest\u001b[0m\u001b[0;34m[\u001b[0m\u001b[0;34m'michezo'\u001b[0m\u001b[0;34m]\u001b[0m\u001b[0;34m,\u001b[0m \u001b[0mdftest\u001b[0m\u001b[0;34m[\u001b[0m\u001b[0;34m'Kimataifa'\u001b[0m\u001b[0;34m]\u001b[0m\u001b[0;34m,\u001b[0m \u001b[0mdftest\u001b[0m\u001b[0;34m[\u001b[0m\u001b[0;34m'Burudani'\u001b[0m\u001b[0;34m]\u001b[0m   \u001b[0;34m=\u001b[0m \u001b[0mdftest\u001b[0m\u001b[0;34m[\u001b[0m\u001b[0;34m'content'\u001b[0m\u001b[0;34m]\u001b[0m\u001b[0;34m.\u001b[0m\u001b[0mapply\u001b[0m\u001b[0;34m(\u001b[0m\u001b[0;32mlambda\u001b[0m \u001b[0mx\u001b[0m\u001b[0;34m:\u001b[0m \u001b[0mpredict\u001b[0m\u001b[0;34m(\u001b[0m\u001b[0mx\u001b[0m\u001b[0;34m)\u001b[0m\u001b[0;34m)\u001b[0m\u001b[0;34m\u001b[0m\u001b[0;34m\u001b[0m\u001b[0m\n\u001b[0m",
            "\u001b[0;31mValueError\u001b[0m: too many values to unpack (expected 5)"
          ]
        }
      ]
    }
  ]
}