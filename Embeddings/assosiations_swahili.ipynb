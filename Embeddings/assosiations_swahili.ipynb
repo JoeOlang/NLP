{
 "metadata": {
  "language_info": {
   "codemirror_mode": {
    "name": "ipython",
    "version": 3
   },
   "file_extension": ".py",
   "mimetype": "text/x-python",
   "name": "python",
   "nbconvert_exporter": "python",
   "pygments_lexer": "ipython3",
   "version": "3.7.4-final"
  },
  "orig_nbformat": 2,
  "kernelspec": {
   "name": "python374jvsc74a57bd0e534e48711db4d1e1c48977d0d14ff85b1f16d41bcc4fdfd88268a329b3c9d66",
   "display_name": "Python 3.7.4 64-bit"
  }
 },
 "nbformat": 4,
 "nbformat_minor": 2,
 "cells": [
  {
   "cell_type": "code",
   "execution_count": 7,
   "metadata": {},
   "outputs": [],
   "source": [
    "# Import the needed libraries\n",
    "import pandas as pd\n",
    "import numpy as np\n",
    "import keras\n",
    "import csv\n",
    "from nltk.stem.porter import *\n",
    "from nltk.corpus import stopwords\n",
    "from nltk.tokenize import word_tokenize\n",
    "import string\n",
    "import nltk"
   ]
  },
  {
   "cell_type": "code",
   "execution_count": 8,
   "metadata": {},
   "outputs": [],
   "source": [
    "# Create a dataframe to hold our various reviews\n",
    "df = pd.read_csv('data.csv')\n",
    "stop_words_df = pd.read_csv(\"Swahili_Stopwords.csv\")\n",
    "stop_words = stop_words_df['StopWords'].tolist()"
   ]
  },
  {
   "cell_type": "code",
   "execution_count": 9,
   "metadata": {},
   "outputs": [],
   "source": [
    "# We creat a list to hold items i.e. sentences from our imported text\n",
    "text_lines = list()\n",
    "lines = df['text'].values.tolist()"
   ]
  },
  {
   "cell_type": "code",
   "execution_count": 10,
   "metadata": {},
   "outputs": [],
   "source": [
    "# We then use a loop to go through the dataframe and preprosses text then add these to the list created earlier\n",
    "for line in lines:\n",
    "    tokens = word_tokenize(line)\n",
    " \n",
    "    table = str.maketrans('', '', string.punctuation) # remove punctuation\n",
    "    stripped = [w.translate(table) for w in tokens] \n",
    "    words = [word for word in stripped if word.isalpha()] # remove remaining non alphabetic tokens\n",
    "    words = [w for w in words if not w in stop_words]\n",
    "    text_lines.append(words)"
   ]
  },
  {
   "cell_type": "code",
   "execution_count": 12,
   "metadata": {},
   "outputs": [
    {
     "output_type": "stream",
     "name": "stdout",
     "text": [
      "Vocabulary size:  542\n"
     ]
    }
   ],
   "source": [
    "# We can then import the Gensim library and use the Word2Vec model to learn the vector represetaions \n",
    "import gensim\n",
    "\n",
    "# Create a vocabulary to hold all words in our corpus. Our vectors will however be limited to this vocab and issue may\n",
    "# arise when the presented with a new word that wasnt in the corpus.\n",
    "vocabulary = gensim.models.Word2Vec(sentences=text_lines, size=200, window=5, workers=4, min_count=1)\n",
    "words = list(vocabulary.wv.vocab)\n",
    "\n",
    "# Just to see how mayn words we actually have.\n",
    "print('Vocabulary size:  %d'  % len(words))\n",
    "\n",
    "\n",
    "# Finally we can export the learnt vectors for use in other tasks e.g. Text Classification\n",
    "filename = 'swahili_embeddings.txt'\n",
    "vocabulary.wv.save_word2vec_format(filename, binary=False)"
   ]
  },
  {
   "cell_type": "code",
   "execution_count": 16,
   "metadata": {},
   "outputs": [
    {
     "output_type": "execute_result",
     "data": {
      "text/plain": [
       "[('husika', 0.20253175497055054),\n",
       " ('nchini', 0.18983319401741028),\n",
       " ('mafaniko', 0.18160000443458557),\n",
       " ('kinachoonekana', 0.17226456105709076),\n",
       " ('kuiombea', 0.16949871182441711),\n",
       " ('tani', 0.16163593530654907),\n",
       " ('dada', 0.15880818665027618),\n",
       " ('wamekuwa', 0.15454331040382385),\n",
       " ('kutafsiri', 0.1534329056739807),\n",
       " ('kuhakikisha', 0.14739695191383362)]"
      ]
     },
     "metadata": {},
     "execution_count": 16
    }
   ],
   "source": [
    "# We can then test to see what words are simillar to a a given word and by what degree/score\n",
    "vocabulary.wv.most_similar('pande')"
   ]
  },
  {
   "cell_type": "code",
   "execution_count": null,
   "metadata": {},
   "outputs": [],
   "source": []
  }
 ]
}