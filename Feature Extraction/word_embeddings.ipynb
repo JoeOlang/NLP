{
  "nbformat": 4,
  "nbformat_minor": 0,
  "metadata": {
    "colab": {
      "name": "main.ipynb",
      "provenance": [],
      "mount_file_id": "1SAwPDn_ANI_S7y1ChjeIaoMgp0SWMbIt",
      "authorship_tag": "ABX9TyN4+ZE9g4lSU+6ItaWcP6tg",
      "include_colab_link": true
    },
    "kernelspec": {
      "name": "python3",
      "display_name": "Python 3"
    },
    "language_info": {
      "name": "python"
    }
  },
  "cells": [
    {
      "cell_type": "markdown",
      "metadata": {
        "id": "view-in-github",
        "colab_type": "text"
      },
      "source": [
        "<a href=\"https://colab.research.google.com/github/Joe-Ol/NLP/blob/main/Feature%20Extraction/word_embeddings.ipynb\" target=\"_parent\"><img src=\"https://colab.research.google.com/assets/colab-badge.svg\" alt=\"Open In Colab\"/></a>"
      ]
    },
    {
      "cell_type": "code",
      "metadata": {
        "id": "Ho_oGRzlRVaL"
      },
      "source": [
        "import pandas as pd\n",
        "import numpy as np"
      ],
      "execution_count": null,
      "outputs": []
    },
    {
      "cell_type": "code",
      "metadata": {
        "colab": {
          "base_uri": "https://localhost:8080/",
          "height": 406
        },
        "id": "Feq7pq0mBDmh",
        "outputId": "3069ea2e-2650-4f15-8870-54e8709d5c10"
      },
      "source": [
        "df = pd.read_csv('/content/drive/MyDrive/Colab Notebooks/NLP/How ISIS Uses Twitter/tweets.csv')\n",
        "df"
      ],
      "execution_count": 9,
      "outputs": [
        {
          "output_type": "execute_result",
          "data": {
            "text/html": [
              "<div>\n",
              "<style scoped>\n",
              "    .dataframe tbody tr th:only-of-type {\n",
              "        vertical-align: middle;\n",
              "    }\n",
              "\n",
              "    .dataframe tbody tr th {\n",
              "        vertical-align: top;\n",
              "    }\n",
              "\n",
              "    .dataframe thead th {\n",
              "        text-align: right;\n",
              "    }\n",
              "</style>\n",
              "<table border=\"1\" class=\"dataframe\">\n",
              "  <thead>\n",
              "    <tr style=\"text-align: right;\">\n",
              "      <th></th>\n",
              "      <th>name</th>\n",
              "      <th>username</th>\n",
              "      <th>description</th>\n",
              "      <th>location</th>\n",
              "      <th>followers</th>\n",
              "      <th>numberstatuses</th>\n",
              "      <th>time</th>\n",
              "      <th>tweets</th>\n",
              "    </tr>\n",
              "  </thead>\n",
              "  <tbody>\n",
              "    <tr>\n",
              "      <th>0</th>\n",
              "      <td>GunsandCoffee</td>\n",
              "      <td>GunsandCoffee70</td>\n",
              "      <td>ENGLISH TRANSLATIONS: http://t.co/QLdJ0ftews</td>\n",
              "      <td>NaN</td>\n",
              "      <td>640</td>\n",
              "      <td>49</td>\n",
              "      <td>1/6/2015 21:07</td>\n",
              "      <td>ENGLISH TRANSLATION: 'A MESSAGE TO THE TRUTHFU...</td>\n",
              "    </tr>\n",
              "    <tr>\n",
              "      <th>1</th>\n",
              "      <td>GunsandCoffee</td>\n",
              "      <td>GunsandCoffee70</td>\n",
              "      <td>ENGLISH TRANSLATIONS: http://t.co/QLdJ0ftews</td>\n",
              "      <td>NaN</td>\n",
              "      <td>640</td>\n",
              "      <td>49</td>\n",
              "      <td>1/6/2015 21:27</td>\n",
              "      <td>ENGLISH TRANSLATION: SHEIKH FATIH AL JAWLANI '...</td>\n",
              "    </tr>\n",
              "    <tr>\n",
              "      <th>2</th>\n",
              "      <td>GunsandCoffee</td>\n",
              "      <td>GunsandCoffee70</td>\n",
              "      <td>ENGLISH TRANSLATIONS: http://t.co/QLdJ0ftews</td>\n",
              "      <td>NaN</td>\n",
              "      <td>640</td>\n",
              "      <td>49</td>\n",
              "      <td>1/6/2015 21:29</td>\n",
              "      <td>ENGLISH TRANSLATION: FIRST AUDIO MEETING WITH ...</td>\n",
              "    </tr>\n",
              "    <tr>\n",
              "      <th>3</th>\n",
              "      <td>GunsandCoffee</td>\n",
              "      <td>GunsandCoffee70</td>\n",
              "      <td>ENGLISH TRANSLATIONS: http://t.co/QLdJ0ftews</td>\n",
              "      <td>NaN</td>\n",
              "      <td>640</td>\n",
              "      <td>49</td>\n",
              "      <td>1/6/2015 21:37</td>\n",
              "      <td>ENGLISH TRANSLATION: SHEIKH NASIR AL WUHAYSHI ...</td>\n",
              "    </tr>\n",
              "    <tr>\n",
              "      <th>4</th>\n",
              "      <td>GunsandCoffee</td>\n",
              "      <td>GunsandCoffee70</td>\n",
              "      <td>ENGLISH TRANSLATIONS: http://t.co/QLdJ0ftews</td>\n",
              "      <td>NaN</td>\n",
              "      <td>640</td>\n",
              "      <td>49</td>\n",
              "      <td>1/6/2015 21:45</td>\n",
              "      <td>ENGLISH TRANSLATION: AQAP: 'RESPONSE TO SHEIKH...</td>\n",
              "    </tr>\n",
              "    <tr>\n",
              "      <th>...</th>\n",
              "      <td>...</td>\n",
              "      <td>...</td>\n",
              "      <td>...</td>\n",
              "      <td>...</td>\n",
              "      <td>...</td>\n",
              "      <td>...</td>\n",
              "      <td>...</td>\n",
              "      <td>...</td>\n",
              "    </tr>\n",
              "    <tr>\n",
              "      <th>17405</th>\n",
              "      <td>Anaksabil97</td>\n",
              "      <td>nvor85j</td>\n",
              "      <td>NaN</td>\n",
              "      <td>NaN</td>\n",
              "      <td>238</td>\n",
              "      <td>133</td>\n",
              "      <td>5/13/2016 15:46</td>\n",
              "      <td>#Breaking\\n#IslamicState \\n#AmaqAgency \\n\\n#Fr...</td>\n",
              "    </tr>\n",
              "    <tr>\n",
              "      <th>17406</th>\n",
              "      <td>Anaksabil97</td>\n",
              "      <td>nvor85j</td>\n",
              "      <td>NaN</td>\n",
              "      <td>NaN</td>\n",
              "      <td>238</td>\n",
              "      <td>133</td>\n",
              "      <td>5/13/2016 15:50</td>\n",
              "      <td>#Breaking\\n\\n Iraqi forces bulldozer destroyed...</td>\n",
              "    </tr>\n",
              "    <tr>\n",
              "      <th>17407</th>\n",
              "      <td>Anaksabil97</td>\n",
              "      <td>nvor85j</td>\n",
              "      <td>NaN</td>\n",
              "      <td>NaN</td>\n",
              "      <td>238</td>\n",
              "      <td>133</td>\n",
              "      <td>5/13/2016 15:51</td>\n",
              "      <td>#Breaking \\n#AmaqAgency \\n#IslamicState \\n\\n#E...</td>\n",
              "    </tr>\n",
              "    <tr>\n",
              "      <th>17408</th>\n",
              "      <td>Anaksabil97</td>\n",
              "      <td>nvor85j</td>\n",
              "      <td>NaN</td>\n",
              "      <td>NaN</td>\n",
              "      <td>238</td>\n",
              "      <td>133</td>\n",
              "      <td>5/13/2016 16:07</td>\n",
              "      <td>#PhotoReport \\n#WilayatDimasiqh \\n\\n📷The Condu...</td>\n",
              "    </tr>\n",
              "    <tr>\n",
              "      <th>17409</th>\n",
              "      <td>one who believes</td>\n",
              "      <td>ro34th</td>\n",
              "      <td>Torah Observant, follower of the Prophet Yeshu...</td>\n",
              "      <td>dar al-kufr</td>\n",
              "      <td>1482</td>\n",
              "      <td>33091</td>\n",
              "      <td>5/13/2016 16:10</td>\n",
              "      <td>#AmaqAgency Destroyed and burning Iraqi Forces...</td>\n",
              "    </tr>\n",
              "  </tbody>\n",
              "</table>\n",
              "<p>17410 rows × 8 columns</p>\n",
              "</div>"
            ],
            "text/plain": [
              "                   name  ...                                             tweets\n",
              "0         GunsandCoffee  ...  ENGLISH TRANSLATION: 'A MESSAGE TO THE TRUTHFU...\n",
              "1         GunsandCoffee  ...  ENGLISH TRANSLATION: SHEIKH FATIH AL JAWLANI '...\n",
              "2         GunsandCoffee  ...  ENGLISH TRANSLATION: FIRST AUDIO MEETING WITH ...\n",
              "3         GunsandCoffee  ...  ENGLISH TRANSLATION: SHEIKH NASIR AL WUHAYSHI ...\n",
              "4         GunsandCoffee  ...  ENGLISH TRANSLATION: AQAP: 'RESPONSE TO SHEIKH...\n",
              "...                 ...  ...                                                ...\n",
              "17405       Anaksabil97  ...  #Breaking\\n#IslamicState \\n#AmaqAgency \\n\\n#Fr...\n",
              "17406       Anaksabil97  ...  #Breaking\\n\\n Iraqi forces bulldozer destroyed...\n",
              "17407       Anaksabil97  ...  #Breaking \\n#AmaqAgency \\n#IslamicState \\n\\n#E...\n",
              "17408       Anaksabil97  ...  #PhotoReport \\n#WilayatDimasiqh \\n\\n📷The Condu...\n",
              "17409  one who believes  ...  #AmaqAgency Destroyed and burning Iraqi Forces...\n",
              "\n",
              "[17410 rows x 8 columns]"
            ]
          },
          "metadata": {
            "tags": []
          },
          "execution_count": 9
        }
      ]
    },
    {
      "cell_type": "code",
      "metadata": {
        "colab": {
          "base_uri": "https://localhost:8080/"
        },
        "id": "Te7CtuPsB_Eq",
        "outputId": "440088c2-96e9-4d67-8ddb-716a6cd56de0"
      },
      "source": [
        "len(df.username.unique())"
      ],
      "execution_count": 10,
      "outputs": [
        {
          "output_type": "execute_result",
          "data": {
            "text/plain": [
              "112"
            ]
          },
          "metadata": {
            "tags": []
          },
          "execution_count": 10
        }
      ]
    },
    {
      "cell_type": "code",
      "metadata": {
        "colab": {
          "base_uri": "https://localhost:8080/"
        },
        "id": "BGnZ0VlrP2lZ",
        "outputId": "dd6ac003-7c36-4081-b560-a2a32794d40a"
      },
      "source": [
        "import csv\n",
        "from nltk.stem.porter import *\n",
        "from nltk.corpus import stopwords\n",
        "from nltk.tokenize import word_tokenize\n",
        "import string\n",
        "import nltk\n",
        "nltk.download('stopwords')\n",
        "nltk.download('punkt')\n",
        "\n",
        "tlines = list()\n",
        "lines = df['tweets'].values.tolist()\n",
        "for line in lines:\n",
        "    tokens = word_tokenize(line)\n",
        "    table = str.maketrans('', '', string.punctuation)\n",
        "    stripped = [w.translate(table) for w in tokens] \n",
        "    words = [word for word in stripped if word.isalpha()] \n",
        "    stop_words = set(stopwords.words('english')) \n",
        "    words = [w for w in words if not w in stop_words]\n",
        "    tlines.append(words)"
      ],
      "execution_count": 11,
      "outputs": [
        {
          "output_type": "stream",
          "text": [
            "[nltk_data] Downloading package stopwords to /root/nltk_data...\n",
            "[nltk_data]   Unzipping corpora/stopwords.zip.\n",
            "[nltk_data] Downloading package punkt to /root/nltk_data...\n",
            "[nltk_data]   Unzipping tokenizers/punkt.zip.\n"
          ],
          "name": "stdout"
        }
      ]
    },
    {
      "cell_type": "code",
      "metadata": {
        "id": "1F0X1x_ra10F"
      },
      "source": [
        "import gensim\n",
        "vocabulary = gensim.models.Word2Vec(sentences=tlines, size=50, window=5, sg=1, workers=4, min_count=1)\n",
        "words = list(vocabulary.wv.vocab)\n",
        "def scaler(x):\n",
        "    if x < 0.2:\n",
        "        x = x + 0.7\n",
        "    return x"
      ],
      "execution_count": 12,
      "outputs": []
    },
    {
      "cell_type": "code",
      "metadata": {
        "colab": {
          "base_uri": "https://localhost:8080/"
        },
        "id": "yaQU8jqTa4L5",
        "outputId": "142fae05-d007-4761-c30d-e43b31b3d2e1"
      },
      "source": [
        "vocabulary.wv.most_similar('SHEIKH')"
      ],
      "execution_count": 14,
      "outputs": [
        {
          "output_type": "execute_result",
          "data": {
            "text/plain": [
              "[('ولايةصلاحالدين', 0.9984887838363647),\n",
              " ('MUHAYSINI', 0.9982893466949463),\n",
              " ('اللي', 0.9982321858406067),\n",
              " ('هذه', 0.9981356859207153),\n",
              " ('استشهادية', 0.9981050491333008),\n",
              " ('الدولةالإسلامية', 0.9980344772338867),\n",
              " ('خلال', 0.9979737401008606),\n",
              " ('هي', 0.997967541217804),\n",
              " ('حتى', 0.997931182384491),\n",
              " ('لم', 0.9979277849197388)]"
            ]
          },
          "metadata": {
            "tags": []
          },
          "execution_count": 14
        }
      ]
    }
  ]
}