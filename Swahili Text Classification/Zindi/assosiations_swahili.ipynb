{
 "metadata": {
  "language_info": {
   "codemirror_mode": {
    "name": "ipython",
    "version": 3
   },
   "file_extension": ".py",
   "mimetype": "text/x-python",
   "name": "python",
   "nbconvert_exporter": "python",
   "pygments_lexer": "ipython3",
   "version": "3.7.4-final"
  },
  "orig_nbformat": 2,
  "kernelspec": {
   "name": "python37464bit646cdd7c95cf4c608070452c757fba37",
   "display_name": "Python 3.7.4 64-bit"
  },
  "metadata": {
   "interpreter": {
    "hash": "e534e48711db4d1e1c48977d0d14ff85b1f16d41bcc4fdfd88268a329b3c9d66"
   }
  }
 },
 "nbformat": 4,
 "nbformat_minor": 2,
 "cells": [
  {
   "cell_type": "code",
   "execution_count": 13,
   "metadata": {},
   "outputs": [],
   "source": [
    "# Import the needed libraries\n",
    "import pandas as pd\n",
    "import numpy as np\n",
    "import csv\n",
    "from nltk.stem.porter import *\n",
    "from nltk.corpus import stopwords\n",
    "from nltk.tokenize import word_tokenize\n",
    "import string\n",
    "import nltk"
   ]
  },
  {
   "cell_type": "code",
   "execution_count": 3,
   "metadata": {},
   "outputs": [],
   "source": [
    "# Create a dataframe to hold our various reviews\n",
    "df = pd.read_csv('Train.csv')\n",
    "stop_words_df = pd.read_csv(\"/Users/0x23/Desktop/*/Projects/Swahili/Swahili_Stopwords.csv\")\n",
    "stop_words = stop_words_df['StopWords'].tolist()"
   ]
  },
  {
   "cell_type": "code",
   "execution_count": 5,
   "metadata": {},
   "outputs": [],
   "source": [
    "# We creat a list to hold items i.e. sentences from our imported text\n",
    "text_lines = list()\n",
    "lines = df['content'].values.tolist()"
   ]
  },
  {
   "cell_type": "code",
   "execution_count": 6,
   "metadata": {},
   "outputs": [],
   "source": [
    "# We then use a loop to go through the dataframe and preprosses text then add these to the list created earlier\n",
    "for line in lines:\n",
    "    tokens = word_tokenize(line)\n",
    " \n",
    "    table = str.maketrans('', '', string.punctuation) # remove punctuation\n",
    "    stripped = [w.translate(table) for w in tokens] \n",
    "    words = [word for word in stripped if word.isalpha()] # remove remaining non alphabetic tokens\n",
    "    words = [w for w in words if not w in stop_words]\n",
    "    text_lines.append(words)"
   ]
  },
  {
   "cell_type": "code",
   "execution_count": 8,
   "metadata": {},
   "outputs": [
    {
     "output_type": "stream",
     "name": "stdout",
     "text": [
      "Vocabulary size:  39522\n"
     ]
    }
   ],
   "source": [
    "# We can then import the Gensim library and use the Word2Vec model to learn the vector represetaions \n",
    "import gensim\n",
    "\n",
    "# Create a vocabulary to hold all words in our corpus. Our vectors will however be limited to this vocab and issue may\n",
    "# arise when the presented with a new word that wasnt in the corpus.\n",
    "vocabulary = gensim.models.Word2Vec(sentences=text_lines, size=200, window=5, workers=4, min_count=1)\n",
    "words = list(vocabulary.wv.vocab)\n",
    "\n",
    "# Just to see how mayn words we actually have.\n",
    "print('Vocabulary size:  %d'  % len(words))\n",
    "\n",
    "\n",
    "# Finally we can export the learnt vectors for use in other tasks e.g. Text Classification\n",
    "filename = 'swahili_embeddings.txt'\n",
    "vocabulary.wv.save_word2vec_format(filename, binary=False)"
   ]
  },
  {
   "cell_type": "code",
   "execution_count": 12,
   "metadata": {},
   "outputs": [
    {
     "output_type": "execute_result",
     "data": {
      "text/plain": [
       "[('nia', 0.9998518228530884),\n",
       " ('msanii', 0.9998043775558472),\n",
       " ('mkewe', 0.9997960329055786),\n",
       " ('akisema', 0.9997692108154297),\n",
       " ('mwili', 0.99974524974823),\n",
       " ('kupewa', 0.9997119903564453),\n",
       " ('macho', 0.99969881772995),\n",
       " ('mke', 0.9996863007545471),\n",
       " ('jina', 0.9996820688247681),\n",
       " ('News', 0.999665379524231)]"
      ]
     },
     "metadata": {},
     "execution_count": 12
    }
   ],
   "source": [
    "# We can then test to see what words are simillar to a a given word and by what degree/score\n",
    "vocabulary.wv.most_similar('mtoto')"
   ]
  },
  {
   "cell_type": "code",
   "execution_count": 14,
   "metadata": {},
   "outputs": [],
   "source": [
    "# Export in Format for Visualization in a 3D Space"
   ]
  },
  {
   "cell_type": "code",
   "execution_count": 17,
   "metadata": {},
   "outputs": [],
   "source": [
    "from gensim.models import KeyedVectors\n",
    "\n",
    "# Load gensim word2vec\n",
    "w2v_path = '/Users/0x23/Desktop/*/Projects/Swahili/Zindi/swahili_embeddings.txt'\n",
    "w2v = KeyedVectors.load_word2vec_format(w2v_path)\n",
    "\n",
    "import io\n",
    "\n",
    "# Export Vector file\n",
    "out_vecs = io.open('swahili_vecs.tsv', 'w', encoding='utf-8')\n",
    "\n",
    "# Export Meta data file\n",
    "out_meta = io.open('swahili_meta.tsv', 'w', encoding='utf-8')\n",
    "\n",
    "# write files\n",
    "for index in range(len(w2v.index2word)):\n",
    "    word = w2v.index2word[index]\n",
    "    vec = w2v.vectors[index]\n",
    "    out_meta.write(word + \"\\n\")\n",
    "    out_vecs.write('\\t'.join([str(x) for x in vec]) + \"\\n\")\n",
    "out_vecs.close()\n",
    "out_meta.close()"
   ]
  },
  {
   "cell_type": "code",
   "execution_count": null,
   "metadata": {},
   "outputs": [],
   "source": []
  }
 ]
}