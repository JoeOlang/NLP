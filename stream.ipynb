{
 "cells": [
  {
   "cell_type": "markdown",
   "metadata": {},
   "source": [
    "### Imports"
   ]
  },
  {
   "cell_type": "code",
   "execution_count": 1,
   "metadata": {},
   "outputs": [],
   "source": [
    "import tweepy\n",
    "import credentials\n",
    "import psycopg2\n",
    "import time"
   ]
  },
  {
   "cell_type": "code",
   "execution_count": 1,
   "metadata": {},
   "outputs": [],
   "source": [
    "# DB Connection test\n",
    "\n",
    "# conn = psycopg2.connect(host=\"localhost\",database=\"twitter\",port=5432,user=\"postgres\",password=\"abstract\")\n",
    "# conn.close"
   ]
  },
  {
   "cell_type": "markdown",
   "metadata": {},
   "source": [
    "### Credentials"
   ]
  },
  {
   "cell_type": "code",
   "execution_count": 2,
   "metadata": {},
   "outputs": [],
   "source": [
    "ckey = credentials.consumer_key\n",
    "csecret = credentials.consumer_secret\n",
    "atoken = credentials.access_token\n",
    "asecret = credentials.access_token_secret\n",
    "\n",
    "# db credentials\n",
    "#user_name = credentials.user\n",
    "#password = credentials.password"
   ]
  },
  {
   "cell_type": "markdown",
   "metadata": {},
   "source": [
    "### Streaming"
   ]
  },
  {
   "cell_type": "code",
   "execution_count": 3,
   "metadata": {},
   "outputs": [],
   "source": [
    "# Insert Tweet data into database\n",
    "def dbConnect(user_id, user_name, tweet_id, tweet, retweet_count, hashtags):\n",
    "    \n",
    "    conn = psycopg2.connect(host=\"localhost\",database=\"twitter\",port=5432,user=credentials.user ,password=credentials.password)\n",
    "    \n",
    "    cur = conn.cursor()\n",
    "\n",
    "    # insert user information\n",
    "    command = '''INSERT INTO TwitterUser (user_id, user_name) VALUES (%s,%s) ON CONFLICT\n",
    "                 (User_Id) DO NOTHING;'''\n",
    "    cur.execute(command,(user_id,user_name))\n",
    "\n",
    "    # insert tweet information\n",
    "    command = '''INSERT INTO TwitterTweet (tweet_id, user_id, tweet, retweet_count) VALUES (%s,%s,%s,%s);'''\n",
    "    cur.execute(command,(tweet_id, user_id, tweet, retweet_count))\n",
    "    \n",
    "    # insert entity information\n",
    "    for i in range(len(hashtags)):\n",
    "        hashtag = hashtags[i]\n",
    "        #print(hashtag)\n",
    "        command = '''INSERT INTO TwitterEntity (tweet_id, hashtag) VALUES (%s,%s);'''\n",
    "        cur.execute(command,(tweet_id, hashtag[\"text\"]))\n",
    "    \n",
    "    # Commit changes\n",
    "    conn.commit()\n",
    "    \n",
    "    # Disconnect\n",
    "    cur.close()\n",
    "    conn.close()"
   ]
  },
  {
   "cell_type": "code",
   "execution_count": 4,
   "metadata": {},
   "outputs": [],
   "source": [
    "# Subclass tweepy.Stream to print the tweets\n",
    "class TweetPrinter(tweepy.Stream):\n",
    "    def on_status(self, status):\n",
    "        # Tweet ID\n",
    "        tweet_id = status.id\n",
    "        # User ID\n",
    "        user_id = status.user.id\n",
    "        # Username\n",
    "        username = status.user.name\n",
    "        # text\n",
    "        tweet = status.text\n",
    "        # Retweet count\n",
    "        retweet_count = status.retweet_count\n",
    "        # Language\n",
    "        lang = status.lang\n",
    "\n",
    "        # Tweet\n",
    "        if status.truncated == True:\n",
    "            tweet = status.extended_tweet['full_text']\n",
    "            hashtags = status.extended_tweet['entities']['hashtags']\n",
    "            #hashtags = status.hashtags\n",
    "        else:\n",
    "            tweet = status.text\n",
    "            hashtags = status.entities['hashtags']\n",
    "\n",
    "        \n",
    "        # If tweet is not a retweet and tweet is in English\n",
    "        if not hasattr(status, \"retweeted_status\") and lang==\"en\":\n",
    "            # Connect to database\n",
    "            dbConnect(user_id, username, tweet_id, tweet, retweet_count, hashtags)\n",
    "            \n",
    " \n",
    "# Initialize instance of the subclass\n",
    "printer = TweetPrinter(\n",
    "  ckey, csecret,\n",
    "  atoken, asecret\n",
    ")"
   ]
  },
  {
   "cell_type": "code",
   "execution_count": 13,
   "metadata": {},
   "outputs": [
    {
     "data": {
      "text/plain": [
       "1653218333"
      ]
     },
     "execution_count": 13,
     "metadata": {},
     "output_type": "execute_result"
    }
   ],
   "source": [
    "round(time.time())"
   ]
  },
  {
   "cell_type": "code",
   "execution_count": null,
   "metadata": {},
   "outputs": [],
   "source": [
    "while True:\n",
    "    printer.filter(track=[\"monkeypox\"], locations=[33.958740,-2.602864, 42.198486,4.291636])\n",
    "    time.sleep(60)\n"
   ]
  },
  {
   "cell_type": "code",
   "execution_count": 21,
   "metadata": {},
   "outputs": [
    {
     "name": "stdout",
     "output_type": "stream",
     "text": [
      "Stream started\n",
      "Stream ended\n"
     ]
    }
   ],
   "source": [
    "#printer.filter(track=[\"karua\"])\n",
    "\n",
    "# bounding box for kenya\n",
    "# 33.958740,-2.602864, 42.198486,4.291636\n",
    "\n",
    "start_time = round(time.time())\n",
    "print(\"Stream started\")\n",
    "\n",
    "while round(time.time()) > (start_time + 300):\n",
    "    printer.filter(track=[\"monkeypox\"])\n",
    "    #printer.filter(locations=[33.958740,-2.602864, 42.198486,4.291636])\n",
    "\n",
    "print(\"Stream ended\")\n"
   ]
  }
 ],
 "metadata": {
  "interpreter": {
   "hash": "f2fcb5ed16a1774c194a9a6d107f6c571229133388cdd84de5915b8985f1cbda"
  },
  "kernelspec": {
   "display_name": "Python 3.9.7 ('rtsa')",
   "language": "python",
   "name": "python3"
  },
  "language_info": {
   "codemirror_mode": {
    "name": "ipython",
    "version": 3
   },
   "file_extension": ".py",
   "mimetype": "text/x-python",
   "name": "python",
   "nbconvert_exporter": "python",
   "pygments_lexer": "ipython3",
   "version": "3.9.7"
  },
  "orig_nbformat": 4
 },
 "nbformat": 4,
 "nbformat_minor": 2
}
