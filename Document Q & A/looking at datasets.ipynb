{
 "cells": [
  {
   "cell_type": "code",
   "execution_count": 1,
   "metadata": {},
   "outputs": [],
   "source": [
    "from datasets import load_dataset"
   ]
  },
  {
   "cell_type": "markdown",
   "metadata": {},
   "source": [
    "### Luo"
   ]
  },
  {
   "cell_type": "code",
   "execution_count": 3,
   "metadata": {},
   "outputs": [
    {
     "name": "stdout",
     "output_type": "stream",
     "text": [
      "Downloading and preparing dataset belebele/luo_Latn to /Users/olang/.cache/huggingface/datasets/facebook___belebele/luo_Latn/0.0.0/852757217bbf13c7b09f4695aa12adc4104bb53c8bae89cb54637962d625832c...\n"
     ]
    },
    {
     "data": {
      "application/json": {
       "ascii": false,
       "bar_format": null,
       "colour": null,
       "elapsed": 0.019227981567382812,
       "initial": 0,
       "n": 0,
       "ncols": null,
       "nrows": null,
       "postfix": null,
       "prefix": "Downloading data",
       "rate": null,
       "total": 856742,
       "unit": "B",
       "unit_divisor": 1000,
       "unit_scale": true
      },
      "application/vnd.jupyter.widget-view+json": {
       "model_id": "4fa4529c8cbd460d96b6252b06baebfa",
       "version_major": 2,
       "version_minor": 0
      },
      "text/plain": [
       "Downloading data:   0%|          | 0.00/857k [00:00<?, ?B/s]"
      ]
     },
     "metadata": {},
     "output_type": "display_data"
    },
    {
     "data": {
      "application/json": {
       "ascii": false,
       "bar_format": null,
       "colour": null,
       "elapsed": 0.01740884780883789,
       "initial": 0,
       "n": 0,
       "ncols": null,
       "nrows": null,
       "postfix": null,
       "prefix": "Generating test split",
       "rate": null,
       "total": 0,
       "unit": " examples",
       "unit_divisor": 1000,
       "unit_scale": false
      },
      "application/vnd.jupyter.widget-view+json": {
       "model_id": "94297f2dc72a4601bf19f34a9ddef81c",
       "version_major": 2,
       "version_minor": 0
      },
      "text/plain": [
       "Generating test split: 0 examples [00:00, ? examples/s]"
      ]
     },
     "metadata": {},
     "output_type": "display_data"
    },
    {
     "name": "stdout",
     "output_type": "stream",
     "text": [
      "Dataset belebele downloaded and prepared to /Users/olang/.cache/huggingface/datasets/facebook___belebele/luo_Latn/0.0.0/852757217bbf13c7b09f4695aa12adc4104bb53c8bae89cb54637962d625832c. Subsequent calls will reuse this data.\n"
     ]
    },
    {
     "data": {
      "application/json": {
       "ascii": false,
       "bar_format": null,
       "colour": null,
       "elapsed": 0.017073869705200195,
       "initial": 0,
       "n": 0,
       "ncols": null,
       "nrows": null,
       "postfix": null,
       "prefix": "",
       "rate": null,
       "total": 1,
       "unit": "it",
       "unit_divisor": 1000,
       "unit_scale": false
      },
      "application/vnd.jupyter.widget-view+json": {
       "model_id": "f5be0ce02c9c48cc9a8c11cc92afb937",
       "version_major": 2,
       "version_minor": 0
      },
      "text/plain": [
       "  0%|          | 0/1 [00:00<?, ?it/s]"
      ]
     },
     "metadata": {},
     "output_type": "display_data"
    },
    {
     "data": {
      "text/plain": [
       "DatasetDict({\n",
       "    test: Dataset({\n",
       "        features: ['link', 'question_number', 'flores_passage', 'question', 'mc_answer1', 'mc_answer2', 'mc_answer3', 'mc_answer4', 'correct_answer_num', 'dialect', 'ds'],\n",
       "        num_rows: 900\n",
       "    })\n",
       "})"
      ]
     },
     "execution_count": 3,
     "metadata": {},
     "output_type": "execute_result"
    }
   ],
   "source": [
    "dataset = load_dataset(\"facebook/belebele\", 'luo_Latn')\n",
    "dataset"
   ]
  },
  {
   "cell_type": "code",
   "execution_count": 9,
   "metadata": {},
   "outputs": [
    {
     "data": {
      "text/plain": [
       "{'link': 'https://en.wikibooks.org/wiki/Accordion/Right_hand',\n",
       " 'question_number': 1,\n",
       " 'flores_passage': \"Tem matek inee ni lweteni ogonyore kaka nyalore e seche ma pod idiyo dwonde go e yo ma kare - bende tem kik ichap lith lweteni e yore ma ok owinjore. Kitimo kamano, to idhi miyori olo bang' kinde machuok ahinya. Par ni onge tiende diyo ki ge gi teko mang'eny mondo ogol dwol maduong' kaka itimo ga e piano. E-gir goyo thum manynge accordion, mondo imed duol mang'eny, itiyogi radii magin bellows man-gi muya kata maringo piyo.\",\n",
       " 'question': 'Kaluwore gi sigana ni, inyalo wacho ni en wach mane ma okber ka inyiso ng’ato mar mondo mi ogoo accordion eyo mowinjore?',\n",
       " 'mc_answer1': 'Mondo iting’ duonde malo, medi teko ma itiyogodo ka idiyo ki mage',\n",
       " 'mc_answer2': 'Duok piny wuotho mari mondo omi ichung’ ka ingirori maber',\n",
       " 'mc_answer3': 'Tem matek inee ni lweteni ogonyore e seche ma idiyo ki',\n",
       " 'mc_answer4': 'Kas lweti e seche ma itiyo kod bellows mondo imed dwol',\n",
       " 'correct_answer_num': '1',\n",
       " 'dialect': 'luo_Latn',\n",
       " 'ds': '2023-06-13'}"
      ]
     },
     "execution_count": 9,
     "metadata": {},
     "output_type": "execute_result"
    }
   ],
   "source": [
    "x = dataset['test'][0]\n",
    "x"
   ]
  },
  {
   "cell_type": "markdown",
   "metadata": {},
   "source": [
    "### Swahili"
   ]
  },
  {
   "cell_type": "code",
   "execution_count": 4,
   "metadata": {},
   "outputs": [
    {
     "name": "stdout",
     "output_type": "stream",
     "text": [
      "Downloading and preparing dataset belebele/swh_Latn to /Users/olang/.cache/huggingface/datasets/facebook___belebele/swh_Latn/0.0.0/852757217bbf13c7b09f4695aa12adc4104bb53c8bae89cb54637962d625832c...\n"
     ]
    },
    {
     "data": {
      "application/json": {
       "ascii": false,
       "bar_format": null,
       "colour": null,
       "elapsed": 0.018120288848876953,
       "initial": 0,
       "n": 0,
       "ncols": null,
       "nrows": null,
       "postfix": null,
       "prefix": "Downloading data",
       "rate": null,
       "total": 863130,
       "unit": "B",
       "unit_divisor": 1000,
       "unit_scale": true
      },
      "application/vnd.jupyter.widget-view+json": {
       "model_id": "2dc619456c714e238bf90e9af6074788",
       "version_major": 2,
       "version_minor": 0
      },
      "text/plain": [
       "Downloading data:   0%|          | 0.00/863k [00:00<?, ?B/s]"
      ]
     },
     "metadata": {},
     "output_type": "display_data"
    },
    {
     "data": {
      "application/json": {
       "ascii": false,
       "bar_format": null,
       "colour": null,
       "elapsed": 0.028419017791748047,
       "initial": 0,
       "n": 0,
       "ncols": null,
       "nrows": null,
       "postfix": null,
       "prefix": "Generating test split",
       "rate": null,
       "total": 0,
       "unit": " examples",
       "unit_divisor": 1000,
       "unit_scale": false
      },
      "application/vnd.jupyter.widget-view+json": {
       "model_id": "00be3092f3d244509a08bca7d291bed1",
       "version_major": 2,
       "version_minor": 0
      },
      "text/plain": [
       "Generating test split: 0 examples [00:00, ? examples/s]"
      ]
     },
     "metadata": {},
     "output_type": "display_data"
    },
    {
     "name": "stdout",
     "output_type": "stream",
     "text": [
      "Dataset belebele downloaded and prepared to /Users/olang/.cache/huggingface/datasets/facebook___belebele/swh_Latn/0.0.0/852757217bbf13c7b09f4695aa12adc4104bb53c8bae89cb54637962d625832c. Subsequent calls will reuse this data.\n"
     ]
    },
    {
     "data": {
      "application/json": {
       "ascii": false,
       "bar_format": null,
       "colour": null,
       "elapsed": 0.01746392250061035,
       "initial": 0,
       "n": 0,
       "ncols": null,
       "nrows": null,
       "postfix": null,
       "prefix": "",
       "rate": null,
       "total": 1,
       "unit": "it",
       "unit_divisor": 1000,
       "unit_scale": false
      },
      "application/vnd.jupyter.widget-view+json": {
       "model_id": "ccbacf807ad046658c59460d9fbf53ed",
       "version_major": 2,
       "version_minor": 0
      },
      "text/plain": [
       "  0%|          | 0/1 [00:00<?, ?it/s]"
      ]
     },
     "metadata": {},
     "output_type": "display_data"
    },
    {
     "data": {
      "text/plain": [
       "DatasetDict({\n",
       "    test: Dataset({\n",
       "        features: ['link', 'question_number', 'flores_passage', 'question', 'mc_answer1', 'mc_answer2', 'mc_answer3', 'mc_answer4', 'correct_answer_num', 'dialect', 'ds'],\n",
       "        num_rows: 900\n",
       "    })\n",
       "})"
      ]
     },
     "execution_count": 4,
     "metadata": {},
     "output_type": "execute_result"
    }
   ],
   "source": [
    "dataset_2 = load_dataset(\"facebook/belebele\", 'swh_Latn')\n",
    "dataset_2"
   ]
  },
  {
   "cell_type": "code",
   "execution_count": 8,
   "metadata": {},
   "outputs": [
    {
     "data": {
      "text/plain": [
       "{'link': 'https://en.wikibooks.org/wiki/Accordion/Right_hand',\n",
       " 'question_number': 1,\n",
       " 'flores_passage': 'Hakikisha mkono wako umetulia iwezekanavyo huku ukicheza sauti zote kwa usahihi - pia jaribu usifanye misogeo yoyote isiyo muhimu kwa vidole vyako. Hivi, utajisumbua kidogo iwezekanavyo. Kumbuka hakuna haja ya kugonga vibonye kwa nguvu nyingi ili kutoa sauti kubwakama kwenye piano. Kwenye kodiani, kupata sauti ya ziada, unatumia viriba na shinikizo au kasi zaidi.',\n",
       " 'question': 'Kwa mujibu wa kifungu hiki, ni kipi ambacho hakiwezi kuchukuliwa kama kidokezo sahihi cha kufaulu katika kucheza kodiani?',\n",
       " 'mc_answer1': 'Ili kutoa sauti kubwa, ongeza nguvu ya kugonga vibonye',\n",
       " 'mc_answer2': 'Punguza kabisa misogeo ili udumishe uthabiti wako',\n",
       " 'mc_answer3': 'Kuwa makini unapocheza sauti huku mkono wako ukiwa umetulia',\n",
       " 'mc_answer4': 'Ongeza kasi unapotumia viriba ili kupata sauti ya ziada',\n",
       " 'correct_answer_num': '1',\n",
       " 'dialect': 'swh_Latn',\n",
       " 'ds': '2023-07-21'}"
      ]
     },
     "execution_count": 8,
     "metadata": {},
     "output_type": "execute_result"
    }
   ],
   "source": [
    "y =dataset_2['test'][0]\n",
    "y"
   ]
  }
 ],
 "metadata": {
  "kernelspec": {
   "display_name": "nlp",
   "language": "python",
   "name": "python3"
  },
  "language_info": {
   "codemirror_mode": {
    "name": "ipython",
    "version": 3
   },
   "file_extension": ".py",
   "mimetype": "text/x-python",
   "name": "python",
   "nbconvert_exporter": "python",
   "pygments_lexer": "ipython3",
   "version": "3.9.12"
  },
  "orig_nbformat": 4
 },
 "nbformat": 4,
 "nbformat_minor": 2
}
