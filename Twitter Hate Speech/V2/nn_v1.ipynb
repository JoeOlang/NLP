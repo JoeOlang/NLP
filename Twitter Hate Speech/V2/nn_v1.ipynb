{
 "metadata": {
  "language_info": {
   "codemirror_mode": {
    "name": "ipython",
    "version": 3
   },
   "file_extension": ".py",
   "mimetype": "text/x-python",
   "name": "python",
   "nbconvert_exporter": "python",
   "pygments_lexer": "ipython3",
   "version": "3.7.4"
  },
  "orig_nbformat": 4,
  "kernelspec": {
   "name": "python3",
   "display_name": "Python 3.7.4 64-bit ('3.7')"
  },
  "interpreter": {
   "hash": "e534e48711db4d1e1c48977d0d14ff85b1f16d41bcc4fdfd88268a329b3c9d66"
  }
 },
 "nbformat": 4,
 "nbformat_minor": 2,
 "cells": [
  {
   "cell_type": "code",
   "execution_count": 2,
   "source": [
    "# https://www.kaggle.com/vkrahul/twitter-hate-speech"
   ],
   "outputs": [],
   "metadata": {}
  },
  {
   "cell_type": "code",
   "execution_count": 3,
   "source": [
    "import pandas as pd\n",
    "import os\n",
    "import re\n",
    "import spacy\n",
    "from gensim.models.phrases import Phrases, Phraser\n",
    "from time import time \n",
    "import multiprocessing\n",
    "from gensim.models import Word2Vec\n",
    "import bokeh.plotting as bp\n",
    "from bokeh.models import HoverTool, BoxSelectTool\n",
    "from bokeh.plotting import figure, show, output_notebook\n",
    "from sklearn.manifold import TSNE\n",
    "from sklearn.model_selection import train_test_split\n",
    "import numpy as np\n",
    "from sklearn.preprocessing import scale\n",
    "import keras \n",
    "from tensorflow.keras.models import Sequential, Model \n",
    "from tensorflow.keras import layers\n",
    "from tensorflow.keras.layers import Dense, Conv1D, MaxPooling1D, Flatten, Dropout, Input, Embedding\n",
    "from keras.layers.merge import Concatenate\n",
    "from sklearn.feature_extraction.text import TfidfVectorizer\n",
    "from wordcloud import WordCloud\n",
    "from nltk.tokenize import RegexpTokenizer\n",
    "from sklearn.metrics import confusion_matrix\n",
    "import matplotlib as plt"
   ],
   "outputs": [
    {
     "output_type": "stream",
     "name": "stderr",
     "text": [
      "Using TensorFlow backend.\n"
     ]
    }
   ],
   "metadata": {}
  },
  {
   "cell_type": "code",
   "execution_count": 4,
   "source": [
    "df = pd.read_csv('train.csv')\n",
    "del(df['id'])"
   ],
   "outputs": [],
   "metadata": {}
  },
  {
   "cell_type": "code",
   "execution_count": 5,
   "source": [
    "df_clean = df\n",
    "from nltk.tokenize import RegexpTokenizer\n",
    "t = time()\n",
    "\n",
    "\n",
    "tokenizer = RegexpTokenizer(r'\\w+')\n",
    "df_clean['clean'] = df_clean['tweet'].astype('str') \n",
    "df_clean.dtypes\n",
    "\n",
    "df_clean[\"tokens\"] = df_clean[\"clean\"].apply(tokenizer.tokenize)\n",
    "# delete Stop Words\n",
    "\n",
    "print('Time to tokenize everything: {} mins'.format(round((time() - t) / 60, 2)))\n",
    "df_clean.head()"
   ],
   "outputs": [
    {
     "output_type": "stream",
     "name": "stdout",
     "text": [
      "Time to tokenize everything: 0.01 mins\n"
     ]
    },
    {
     "output_type": "execute_result",
     "data": {
      "text/plain": [
       "   label                                              tweet  \\\n",
       "0      0   @user when a father is dysfunctional and is s...   \n",
       "1      0  @user @user thanks for #lyft credit i can't us...   \n",
       "2      0                                bihday your majesty   \n",
       "3      0  #model   i love u take with u all the time in ...   \n",
       "4      0             factsguide: society now    #motivation   \n",
       "\n",
       "                                               clean  \\\n",
       "0   @user when a father is dysfunctional and is s...   \n",
       "1  @user @user thanks for #lyft credit i can't us...   \n",
       "2                                bihday your majesty   \n",
       "3  #model   i love u take with u all the time in ...   \n",
       "4             factsguide: society now    #motivation   \n",
       "\n",
       "                                              tokens  \n",
       "0  [user, when, a, father, is, dysfunctional, and...  \n",
       "1  [user, user, thanks, for, lyft, credit, i, can...  \n",
       "2                            [bihday, your, majesty]  \n",
       "3  [model, i, love, u, take, with, u, all, the, t...  \n",
       "4             [factsguide, society, now, motivation]  "
      ],
      "text/html": [
       "<div>\n",
       "<style scoped>\n",
       "    .dataframe tbody tr th:only-of-type {\n",
       "        vertical-align: middle;\n",
       "    }\n",
       "\n",
       "    .dataframe tbody tr th {\n",
       "        vertical-align: top;\n",
       "    }\n",
       "\n",
       "    .dataframe thead th {\n",
       "        text-align: right;\n",
       "    }\n",
       "</style>\n",
       "<table border=\"1\" class=\"dataframe\">\n",
       "  <thead>\n",
       "    <tr style=\"text-align: right;\">\n",
       "      <th></th>\n",
       "      <th>label</th>\n",
       "      <th>tweet</th>\n",
       "      <th>clean</th>\n",
       "      <th>tokens</th>\n",
       "    </tr>\n",
       "  </thead>\n",
       "  <tbody>\n",
       "    <tr>\n",
       "      <th>0</th>\n",
       "      <td>0</td>\n",
       "      <td>@user when a father is dysfunctional and is s...</td>\n",
       "      <td>@user when a father is dysfunctional and is s...</td>\n",
       "      <td>[user, when, a, father, is, dysfunctional, and...</td>\n",
       "    </tr>\n",
       "    <tr>\n",
       "      <th>1</th>\n",
       "      <td>0</td>\n",
       "      <td>@user @user thanks for #lyft credit i can't us...</td>\n",
       "      <td>@user @user thanks for #lyft credit i can't us...</td>\n",
       "      <td>[user, user, thanks, for, lyft, credit, i, can...</td>\n",
       "    </tr>\n",
       "    <tr>\n",
       "      <th>2</th>\n",
       "      <td>0</td>\n",
       "      <td>bihday your majesty</td>\n",
       "      <td>bihday your majesty</td>\n",
       "      <td>[bihday, your, majesty]</td>\n",
       "    </tr>\n",
       "    <tr>\n",
       "      <th>3</th>\n",
       "      <td>0</td>\n",
       "      <td>#model   i love u take with u all the time in ...</td>\n",
       "      <td>#model   i love u take with u all the time in ...</td>\n",
       "      <td>[model, i, love, u, take, with, u, all, the, t...</td>\n",
       "    </tr>\n",
       "    <tr>\n",
       "      <th>4</th>\n",
       "      <td>0</td>\n",
       "      <td>factsguide: society now    #motivation</td>\n",
       "      <td>factsguide: society now    #motivation</td>\n",
       "      <td>[factsguide, society, now, motivation]</td>\n",
       "    </tr>\n",
       "  </tbody>\n",
       "</table>\n",
       "</div>"
      ]
     },
     "metadata": {},
     "execution_count": 5
    }
   ],
   "metadata": {}
  },
  {
   "cell_type": "code",
   "execution_count": 6,
   "source": [
    "import gensim\n",
    "#w2v_model = gensim.models.KeyedVectors.load_word2vec_format('/Users/0x23/Desktop/*/Projects/GoogleNews-vectors-negative300.bin', binary = True)\n",
    "w2v_model = gensim.models.KeyedVectors.load_word2vec_format('word2vec.bin', binary = True)\n",
    "#m2.wv.most_similar(positive=[\"good\"])\n"
   ],
   "outputs": [],
   "metadata": {}
  },
  {
   "cell_type": "code",
   "execution_count": 7,
   "source": [
    "'''\n",
    "#WORD2VEC()\n",
    "cores = multiprocessing.cpu_count() # Count the number of cores in a computer, important for a parameter of the model\n",
    "w2v_model = Word2Vec(min_count=20,\n",
    "                     window=2,\n",
    "                     size=300,\n",
    "                     sample=6e-5, \n",
    "                     alpha=0.03, \n",
    "                     min_alpha=0.0007, \n",
    "                     negative=20,\n",
    "                     workers=cores-1)\n",
    "\n",
    "#BUILD_VOCAB()\n",
    "t = time()\n",
    "w2v_model.build_vocab(df_clean[\"tokens\"], progress_per=1000)\n",
    "print('Time to build vocab: {} mins'.format(round((time() - t) / 60, 2)))\n",
    "\n",
    "#TRAIN()\n",
    "w2v_model.train(df_clean[\"tokens\"], total_examples=w2v_model.corpus_count, epochs=10000, report_delay=1)\n",
    "print('Time to train the model: {} mins'.format(round((time() - t) / 60, 2)))\n",
    "'''"
   ],
   "outputs": [
    {
     "output_type": "execute_result",
     "data": {
      "text/plain": [
       "'\\n#WORD2VEC()\\ncores = multiprocessing.cpu_count() # Count the number of cores in a computer, important for a parameter of the model\\nw2v_model = Word2Vec(min_count=20,\\n                     window=2,\\n                     size=300,\\n                     sample=6e-5, \\n                     alpha=0.03, \\n                     min_alpha=0.0007, \\n                     negative=20,\\n                     workers=cores-1)\\n\\n#BUILD_VOCAB()\\nt = time()\\nw2v_model.build_vocab(df_clean[\"tokens\"], progress_per=1000)\\nprint(\\'Time to build vocab: {} mins\\'.format(round((time() - t) / 60, 2)))\\n\\n#TRAIN()\\nw2v_model.train(df_clean[\"tokens\"], total_examples=w2v_model.corpus_count, epochs=10000, report_delay=1)\\nprint(\\'Time to train the model: {} mins\\'.format(round((time() - t) / 60, 2)))\\n'"
      ]
     },
     "metadata": {},
     "execution_count": 7
    }
   ],
   "metadata": {}
  },
  {
   "cell_type": "code",
   "execution_count": 8,
   "source": [
    "#words similar to movie\n",
    "w2v_model.wv.most_similar(positive=[\"movie\"])\n",
    "\n",
    "#words similar to good\n",
    "w2v_model.wv.most_similar(positive=[\"good\"])"
   ],
   "outputs": [
    {
     "output_type": "stream",
     "name": "stderr",
     "text": [
      "/Library/Frameworks/Python.framework/Versions/3.7/lib/python3.7/site-packages/ipykernel_launcher.py:2: DeprecationWarning: Call to deprecated `wv` (Attribute will be removed in 4.0.0, use self instead).\n",
      "  \n",
      "/Library/Frameworks/Python.framework/Versions/3.7/lib/python3.7/site-packages/ipykernel_launcher.py:5: DeprecationWarning: Call to deprecated `wv` (Attribute will be removed in 4.0.0, use self instead).\n",
      "  \"\"\"\n"
     ]
    },
    {
     "output_type": "execute_result",
     "data": {
      "text/plain": [
       "[('great', 0.2877359688282013),\n",
       " ('morning', 0.21683667600154877),\n",
       " ('bad', 0.19614830613136292),\n",
       " ('wednesday', 0.19148559868335724),\n",
       " ('sad', 0.18417347967624664),\n",
       " ('like', 0.1815328747034073),\n",
       " ('nice', 0.18066930770874023),\n",
       " ('coffee', 0.17778238654136658),\n",
       " ('bing', 0.16255837678909302),\n",
       " ('blessed', 0.15798832476139069)]"
      ]
     },
     "metadata": {},
     "execution_count": 8
    }
   ],
   "metadata": {}
  },
  {
   "cell_type": "code",
   "execution_count": 9,
   "source": [
    "# w2v_model.save(\"word2vec.model\")\n",
    "# w2v_model.wv.save_word2vec_format('word2vec.bin', binary=True)"
   ],
   "outputs": [],
   "metadata": {}
  },
  {
   "cell_type": "code",
   "execution_count": 10,
   "source": [
    "# defining the chart\n",
    "output_notebook()\n",
    "plot_tfidf = bp.figure(plot_width=700, plot_height=600, title=\"A map of 10000 word vectors\",\n",
    "    tools=\"pan,wheel_zoom,box_zoom,reset,hover,previewsave\",\n",
    "    x_axis_type=None, y_axis_type=None, min_border=1)\n",
    "\n",
    "# getting a list of word vectors. limit to 10000. each is of 200 dimensions\n",
    "word_vectors = [w2v_model[w] for w in list(w2v_model.wv.vocab.keys())[:5000]]\n",
    "\n",
    "# dimensionality reduction. converting the vectors to 2d vectors\n",
    "tsne_model = TSNE(n_components=2, verbose=1, random_state=0)\n",
    "tsne_w2v = tsne_model.fit_transform(word_vectors)\n",
    "\n",
    "# putting everything in a dataframe\n",
    "tsne_df = pd.DataFrame(tsne_w2v, columns=['x', 'y'])\n",
    "tsne_df['words'] = list(w2v_model.wv.vocab.keys())[:5000]\n",
    "\n",
    "# plotting. the corresponding word appears when you hover on the data point.\n",
    "plot_tfidf.scatter(x='x', y='y', source=tsne_df)\n",
    "hover = plot_tfidf.select(dict(type=HoverTool))\n",
    "hover.tooltips={\"word\": \"@words\"}\n",
    "show(plot_tfidf)"
   ],
   "outputs": [
    {
     "output_type": "display_data",
     "data": {
      "text/html": [
       "\n",
       "    <div class=\"bk-root\">\n",
       "        <a href=\"https://bokeh.org\" target=\"_blank\" class=\"bk-logo bk-logo-small bk-logo-notebook\"></a>\n",
       "        <span id=\"1001\">Loading BokehJS ...</span>\n",
       "    </div>"
      ]
     },
     "metadata": {}
    },
    {
     "output_type": "display_data",
     "data": {
      "application/javascript": "\n(function(root) {\n  function now() {\n    return new Date();\n  }\n\n  var force = true;\n\n  if (typeof root._bokeh_onload_callbacks === \"undefined\" || force === true) {\n    root._bokeh_onload_callbacks = [];\n    root._bokeh_is_loading = undefined;\n  }\n\n  var JS_MIME_TYPE = 'application/javascript';\n  var HTML_MIME_TYPE = 'text/html';\n  var EXEC_MIME_TYPE = 'application/vnd.bokehjs_exec.v0+json';\n  var CLASS_NAME = 'output_bokeh rendered_html';\n\n  /**\n   * Render data to the DOM node\n   */\n  function render(props, node) {\n    var script = document.createElement(\"script\");\n    node.appendChild(script);\n  }\n\n  /**\n   * Handle when an output is cleared or removed\n   */\n  function handleClearOutput(event, handle) {\n    var cell = handle.cell;\n\n    var id = cell.output_area._bokeh_element_id;\n    var server_id = cell.output_area._bokeh_server_id;\n    // Clean up Bokeh references\n    if (id != null && id in Bokeh.index) {\n      Bokeh.index[id].model.document.clear();\n      delete Bokeh.index[id];\n    }\n\n    if (server_id !== undefined) {\n      // Clean up Bokeh references\n      var cmd = \"from bokeh.io.state import curstate; print(curstate().uuid_to_server['\" + server_id + \"'].get_sessions()[0].document.roots[0]._id)\";\n      cell.notebook.kernel.execute(cmd, {\n        iopub: {\n          output: function(msg) {\n            var id = msg.content.text.trim();\n            if (id in Bokeh.index) {\n              Bokeh.index[id].model.document.clear();\n              delete Bokeh.index[id];\n            }\n          }\n        }\n      });\n      // Destroy server and session\n      var cmd = \"import bokeh.io.notebook as ion; ion.destroy_server('\" + server_id + \"')\";\n      cell.notebook.kernel.execute(cmd);\n    }\n  }\n\n  /**\n   * Handle when a new output is added\n   */\n  function handleAddOutput(event, handle) {\n    var output_area = handle.output_area;\n    var output = handle.output;\n\n    // limit handleAddOutput to display_data with EXEC_MIME_TYPE content only\n    if ((output.output_type != \"display_data\") || (!output.data.hasOwnProperty(EXEC_MIME_TYPE))) {\n      return\n    }\n\n    var toinsert = output_area.element.find(\".\" + CLASS_NAME.split(' ')[0]);\n\n    if (output.metadata[EXEC_MIME_TYPE][\"id\"] !== undefined) {\n      toinsert[toinsert.length - 1].firstChild.textContent = output.data[JS_MIME_TYPE];\n      // store reference to embed id on output_area\n      output_area._bokeh_element_id = output.metadata[EXEC_MIME_TYPE][\"id\"];\n    }\n    if (output.metadata[EXEC_MIME_TYPE][\"server_id\"] !== undefined) {\n      var bk_div = document.createElement(\"div\");\n      bk_div.innerHTML = output.data[HTML_MIME_TYPE];\n      var script_attrs = bk_div.children[0].attributes;\n      for (var i = 0; i < script_attrs.length; i++) {\n        toinsert[toinsert.length - 1].firstChild.setAttribute(script_attrs[i].name, script_attrs[i].value);\n      }\n      // store reference to server id on output_area\n      output_area._bokeh_server_id = output.metadata[EXEC_MIME_TYPE][\"server_id\"];\n    }\n  }\n\n  function register_renderer(events, OutputArea) {\n\n    function append_mime(data, metadata, element) {\n      // create a DOM node to render to\n      var toinsert = this.create_output_subarea(\n        metadata,\n        CLASS_NAME,\n        EXEC_MIME_TYPE\n      );\n      this.keyboard_manager.register_events(toinsert);\n      // Render to node\n      var props = {data: data, metadata: metadata[EXEC_MIME_TYPE]};\n      render(props, toinsert[toinsert.length - 1]);\n      element.append(toinsert);\n      return toinsert\n    }\n\n    /* Handle when an output is cleared or removed */\n    events.on('clear_output.CodeCell', handleClearOutput);\n    events.on('delete.Cell', handleClearOutput);\n\n    /* Handle when a new output is added */\n    events.on('output_added.OutputArea', handleAddOutput);\n\n    /**\n     * Register the mime type and append_mime function with output_area\n     */\n    OutputArea.prototype.register_mime_type(EXEC_MIME_TYPE, append_mime, {\n      /* Is output safe? */\n      safe: true,\n      /* Index of renderer in `output_area.display_order` */\n      index: 0\n    });\n  }\n\n  // register the mime type if in Jupyter Notebook environment and previously unregistered\n  if (root.Jupyter !== undefined) {\n    var events = require('base/js/events');\n    var OutputArea = require('notebook/js/outputarea').OutputArea;\n\n    if (OutputArea.prototype.mime_types().indexOf(EXEC_MIME_TYPE) == -1) {\n      register_renderer(events, OutputArea);\n    }\n  }\n\n  \n  if (typeof (root._bokeh_timeout) === \"undefined\" || force === true) {\n    root._bokeh_timeout = Date.now() + 5000;\n    root._bokeh_failed_load = false;\n  }\n\n  var NB_LOAD_WARNING = {'data': {'text/html':\n     \"<div style='background-color: #fdd'>\\n\"+\n     \"<p>\\n\"+\n     \"BokehJS does not appear to have successfully loaded. If loading BokehJS from CDN, this \\n\"+\n     \"may be due to a slow or bad network connection. Possible fixes:\\n\"+\n     \"</p>\\n\"+\n     \"<ul>\\n\"+\n     \"<li>re-rerun `output_notebook()` to attempt to load from CDN again, or</li>\\n\"+\n     \"<li>use INLINE resources instead, as so:</li>\\n\"+\n     \"</ul>\\n\"+\n     \"<code>\\n\"+\n     \"from bokeh.resources import INLINE\\n\"+\n     \"output_notebook(resources=INLINE)\\n\"+\n     \"</code>\\n\"+\n     \"</div>\"}};\n\n  function display_loaded() {\n    var el = document.getElementById(\"1001\");\n    if (el != null) {\n      el.textContent = \"BokehJS is loading...\";\n    }\n    if (root.Bokeh !== undefined) {\n      if (el != null) {\n        el.textContent = \"BokehJS \" + root.Bokeh.version + \" successfully loaded.\";\n      }\n    } else if (Date.now() < root._bokeh_timeout) {\n      setTimeout(display_loaded, 100)\n    }\n  }\n\n\n  function run_callbacks() {\n    try {\n      root._bokeh_onload_callbacks.forEach(function(callback) {\n        if (callback != null)\n          callback();\n      });\n    } finally {\n      delete root._bokeh_onload_callbacks\n    }\n    console.debug(\"Bokeh: all callbacks have finished\");\n  }\n\n  function load_libs(css_urls, js_urls, callback) {\n    if (css_urls == null) css_urls = [];\n    if (js_urls == null) js_urls = [];\n\n    root._bokeh_onload_callbacks.push(callback);\n    if (root._bokeh_is_loading > 0) {\n      console.debug(\"Bokeh: BokehJS is being loaded, scheduling callback at\", now());\n      return null;\n    }\n    if (js_urls == null || js_urls.length === 0) {\n      run_callbacks();\n      return null;\n    }\n    console.debug(\"Bokeh: BokehJS not loaded, scheduling load and callback at\", now());\n    root._bokeh_is_loading = css_urls.length + js_urls.length;\n\n    function on_load() {\n      root._bokeh_is_loading--;\n      if (root._bokeh_is_loading === 0) {\n        console.debug(\"Bokeh: all BokehJS libraries/stylesheets loaded\");\n        run_callbacks()\n      }\n    }\n\n    function on_error() {\n      console.error(\"failed to load \" + url);\n    }\n\n    for (var i = 0; i < css_urls.length; i++) {\n      var url = css_urls[i];\n      const element = document.createElement(\"link\");\n      element.onload = on_load;\n      element.onerror = on_error;\n      element.rel = \"stylesheet\";\n      element.type = \"text/css\";\n      element.href = url;\n      console.debug(\"Bokeh: injecting link tag for BokehJS stylesheet: \", url);\n      document.body.appendChild(element);\n    }\n\n    for (var i = 0; i < js_urls.length; i++) {\n      var url = js_urls[i];\n      var element = document.createElement('script');\n      element.onload = on_load;\n      element.onerror = on_error;\n      element.async = false;\n      element.src = url;\n      console.debug(\"Bokeh: injecting script tag for BokehJS library: \", url);\n      document.head.appendChild(element);\n    }\n  };var element = document.getElementById(\"1001\");\n  if (element == null) {\n    console.error(\"Bokeh: ERROR: autoload.js configured with elementid '1001' but no matching script tag was found. \")\n    return false;\n  }\n\n  function inject_raw_css(css) {\n    const element = document.createElement(\"style\");\n    element.appendChild(document.createTextNode(css));\n    document.body.appendChild(element);\n  }\n\n  \n  var js_urls = [\"https://cdn.pydata.org/bokeh/release/bokeh-1.4.0.min.js\", \"https://cdn.pydata.org/bokeh/release/bokeh-widgets-1.4.0.min.js\", \"https://cdn.pydata.org/bokeh/release/bokeh-tables-1.4.0.min.js\", \"https://cdn.pydata.org/bokeh/release/bokeh-gl-1.4.0.min.js\"];\n  var css_urls = [];\n  \n\n  var inline_js = [\n    function(Bokeh) {\n      Bokeh.set_log_level(\"info\");\n    },\n    function(Bokeh) {\n    \n    \n    }\n  ];\n\n  function run_inline_js() {\n    \n    if (root.Bokeh !== undefined || force === true) {\n      \n    for (var i = 0; i < inline_js.length; i++) {\n      inline_js[i].call(root, root.Bokeh);\n    }\n    if (force === true) {\n        display_loaded();\n      }} else if (Date.now() < root._bokeh_timeout) {\n      setTimeout(run_inline_js, 100);\n    } else if (!root._bokeh_failed_load) {\n      console.log(\"Bokeh: BokehJS failed to load within specified timeout.\");\n      root._bokeh_failed_load = true;\n    } else if (force !== true) {\n      var cell = $(document.getElementById(\"1001\")).parents('.cell').data().cell;\n      cell.output_area.append_execute_result(NB_LOAD_WARNING)\n    }\n\n  }\n\n  if (root._bokeh_is_loading === 0) {\n    console.debug(\"Bokeh: BokehJS loaded, going straight to plotting\");\n    run_inline_js();\n  } else {\n    load_libs(css_urls, js_urls, function() {\n      console.debug(\"Bokeh: BokehJS plotting callback run at\", now());\n      run_inline_js();\n    });\n  }\n}(window));",
      "application/vnd.bokehjs_load.v0+json": ""
     },
     "metadata": {}
    },
    {
     "output_type": "stream",
     "name": "stderr",
     "text": [
      "/Library/Frameworks/Python.framework/Versions/3.7/lib/python3.7/site-packages/ipykernel_launcher.py:8: DeprecationWarning: Call to deprecated `wv` (Attribute will be removed in 4.0.0, use self instead).\n",
      "  \n"
     ]
    },
    {
     "output_type": "stream",
     "name": "stdout",
     "text": [
      "[t-SNE] Computing 91 nearest neighbors...\n",
      "[t-SNE] Indexed 2043 samples in 0.020s...\n",
      "[t-SNE] Computed neighbors for 2043 samples in 2.461s...\n",
      "[t-SNE] Computed conditional probabilities for sample 1000 / 2043\n",
      "[t-SNE] Computed conditional probabilities for sample 2000 / 2043\n",
      "[t-SNE] Computed conditional probabilities for sample 2043 / 2043\n",
      "[t-SNE] Mean sigma: 6.150521\n",
      "[t-SNE] KL divergence after 250 iterations with early exaggeration: 164.334290\n",
      "[t-SNE] KL divergence after 1000 iterations: 3.317315\n"
     ]
    },
    {
     "output_type": "stream",
     "name": "stderr",
     "text": [
      "/Library/Frameworks/Python.framework/Versions/3.7/lib/python3.7/site-packages/ipykernel_launcher.py:16: DeprecationWarning: Call to deprecated `wv` (Attribute will be removed in 4.0.0, use self instead).\n",
      "  app.launch_new_instance()\n"
     ]
    },
    {
     "output_type": "display_data",
     "data": {
      "text/html": [
       "\n",
       "\n",
       "\n",
       "\n",
       "\n",
       "\n",
       "  <div class=\"bk-root\" id=\"76f0ec8e-249f-48a1-8fb2-59e01f339f79\" data-root-id=\"1002\"></div>\n"
      ]
     },
     "metadata": {}
    },
    {
     "output_type": "display_data",
     "data": {
      "application/vnd.bokehjs_exec.v0+json": "",
      "application/javascript": "(function(root) {\n  function embed_document(root) {\n    \n  var docs_json = {\"3ad18660-e9c7-4a26-8ffd-49f5683ff7f7\":{\"roots\":{\"references\":[{\"attributes\":{\"min_border\":1,\"plot_width\":700,\"renderers\":[{\"id\":\"1030\",\"type\":\"GlyphRenderer\"}],\"title\":{\"id\":\"1003\",\"type\":\"Title\"},\"toolbar\":{\"id\":\"1019\",\"type\":\"Toolbar\"},\"x_range\":{\"id\":\"1005\",\"type\":\"DataRange1d\"},\"x_scale\":{\"id\":\"1009\",\"type\":\"LinearScale\"},\"y_range\":{\"id\":\"1007\",\"type\":\"DataRange1d\"},\"y_scale\":{\"id\":\"1011\",\"type\":\"LinearScale\"}},\"id\":\"1002\",\"subtype\":\"Figure\",\"type\":\"Plot\"},{\"attributes\":{\"source\":{\"id\":\"1026\",\"type\":\"ColumnDataSource\"}},\"id\":\"1031\",\"type\":\"CDSView\"},{\"attributes\":{\"bottom_units\":\"screen\",\"fill_alpha\":{\"value\":0.5},\"fill_color\":{\"value\":\"lightgrey\"},\"left_units\":\"screen\",\"level\":\"overlay\",\"line_alpha\":{\"value\":1.0},\"line_color\":{\"value\":\"black\"},\"line_dash\":[4,4],\"line_width\":{\"value\":2},\"render_mode\":\"css\",\"right_units\":\"screen\",\"top_units\":\"screen\"},\"id\":\"1033\",\"type\":\"BoxAnnotation\"},{\"attributes\":{\"active_drag\":\"auto\",\"active_inspect\":\"auto\",\"active_multi\":null,\"active_scroll\":\"auto\",\"active_tap\":\"auto\",\"tools\":[{\"id\":\"1013\",\"type\":\"PanTool\"},{\"id\":\"1014\",\"type\":\"WheelZoomTool\"},{\"id\":\"1015\",\"type\":\"BoxZoomTool\"},{\"id\":\"1016\",\"type\":\"ResetTool\"},{\"id\":\"1017\",\"type\":\"HoverTool\"},{\"id\":\"1018\",\"type\":\"SaveTool\"}]},\"id\":\"1019\",\"type\":\"Toolbar\"},{\"attributes\":{},\"id\":\"1013\",\"type\":\"PanTool\"},{\"attributes\":{},\"id\":\"1035\",\"type\":\"Selection\"},{\"attributes\":{\"callback\":null,\"data\":{\"index\":[0,1,2,3,4,5,6,7,8,9,10,11,12,13,14,15,16,17,18,19,20,21,22,23,24,25,26,27,28,29,30,31,32,33,34,35,36,37,38,39,40,41,42,43,44,45,46,47,48,49,50,51,52,53,54,55,56,57,58,59,60,61,62,63,64,65,66,67,68,69,70,71,72,73,74,75,76,77,78,79,80,81,82,83,84,85,86,87,88,89,90,91,92,93,94,95,96,97,98,99,100,101,102,103,104,105,106,107,108,109,110,111,112,113,114,115,116,117,118,119,120,121,122,123,124,125,126,127,128,129,130,131,132,133,134,135,136,137,138,139,140,141,142,143,144,145,146,147,148,149,150,151,152,153,154,155,156,157,158,159,160,161,162,163,164,165,166,167,168,169,170,171,172,173,174,175,176,177,178,179,180,181,182,183,184,185,186,187,188,189,190,191,192,193,194,195,196,197,198,199,200,201,202,203,204,205,206,207,208,209,210,211,212,213,214,215,216,217,218,219,220,221,222,223,224,225,226,227,228,229,230,231,232,233,234,235,236,237,238,239,240,241,242,243,244,245,246,247,248,249,250,251,252,253,254,255,256,257,258,259,260,261,262,263,264,265,266,267,268,269,270,271,272,273,274,275,276,277,278,279,280,281,282,283,284,285,286,287,288,289,290,291,292,293,294,295,296,297,298,299,300,301,302,303,304,305,306,307,308,309,310,311,312,313,314,315,316,317,318,319,320,321,322,323,324,325,326,327,328,329,330,331,332,333,334,335,336,337,338,339,340,341,342,343,344,345,346,347,348,349,350,351,352,353,354,355,356,357,358,359,360,361,362,363,364,365,366,367,368,369,370,371,372,373,374,375,376,377,378,379,380,381,382,383,384,385,386,387,388,389,390,391,392,393,394,395,396,397,398,399,400,401,402,403,404,405,406,407,408,409,410,411,412,413,414,415,416,417,418,419,420,421,422,423,424,425,426,427,428,429,430,431,432,433,434,435,436,437,438,439,440,441,442,443,444,445,446,447,448,449,450,451,452,453,454,455,456,457,458,459,460,461,462,463,464,465,466,467,468,469,470,471,472,473,474,475,476,477,478,479,480,481,482,483,484,485,486,487,488,489,490,491,492,493,494,495,496,497,498,499,500,501,502,503,504,505,506,507,508,509,510,511,512,513,514,515,516,517,518,519,520,521,522,523,524,525,526,527,528,529,530,531,532,533,534,535,536,537,538,539,540,541,542,543,544,545,546,547,548,549,550,551,552,553,554,555,556,557,558,559,560,561,562,563,564,565,566,567,568,569,570,571,572,573,574,575,576,577,578,579,580,581,582,583,584,585,586,587,588,589,590,591,592,593,594,595,596,597,598,599,600,601,602,603,604,605,606,607,608,609,610,611,612,613,614,615,616,617,618,619,620,621,622,623,624,625,626,627,628,629,630,631,632,633,634,635,636,637,638,639,640,641,642,643,644,645,646,647,648,649,650,651,652,653,654,655,656,657,658,659,660,661,662,663,664,665,666,667,668,669,670,671,672,673,674,675,676,677,678,679,680,681,682,683,684,685,686,687,688,689,690,691,692,693,694,695,696,697,698,699,700,701,702,703,704,705,706,707,708,709,710,711,712,713,714,715,716,717,718,719,720,721,722,723,724,725,726,727,728,729,730,731,732,733,734,735,736,737,738,739,740,741,742,743,744,745,746,747,748,749,750,751,752,753,754,755,756,757,758,759,760,761,762,763,764,765,766,767,768,769,770,771,772,773,774,775,776,777,778,779,780,781,782,783,784,785,786,787,788,789,790,791,792,793,794,795,796,797,798,799,800,801,802,803,804,805,806,807,808,809,810,811,812,813,814,815,816,817,818,819,820,821,822,823,824,825,826,827,828,829,830,831,832,833,834,835,836,837,838,839,840,841,842,843,844,845,846,847,848,849,850,851,852,853,854,855,856,857,858,859,860,861,862,863,864,865,866,867,868,869,870,871,872,873,874,875,876,877,878,879,880,881,882,883,884,885,886,887,888,889,890,891,892,893,894,895,896,897,898,899,900,901,902,903,904,905,906,907,908,909,910,911,912,913,914,915,916,917,918,919,920,921,922,923,924,925,926,927,928,929,930,931,932,933,934,935,936,937,938,939,940,941,942,943,944,945,946,947,948,949,950,951,952,953,954,955,956,957,958,959,960,961,962,963,964,965,966,967,968,969,970,971,972,973,974,975,976,977,978,979,980,981,982,983,984,985,986,987,988,989,990,991,992,993,994,995,996,997,998,999,1000,1001,1002,1003,1004,1005,1006,1007,1008,1009,1010,1011,1012,1013,1014,1015,1016,1017,1018,1019,1020,1021,1022,1023,1024,1025,1026,1027,1028,1029,1030,1031,1032,1033,1034,1035,1036,1037,1038,1039,1040,1041,1042,1043,1044,1045,1046,1047,1048,1049,1050,1051,1052,1053,1054,1055,1056,1057,1058,1059,1060,1061,1062,1063,1064,1065,1066,1067,1068,1069,1070,1071,1072,1073,1074,1075,1076,1077,1078,1079,1080,1081,1082,1083,1084,1085,1086,1087,1088,1089,1090,1091,1092,1093,1094,1095,1096,1097,1098,1099,1100,1101,1102,1103,1104,1105,1106,1107,1108,1109,1110,1111,1112,1113,1114,1115,1116,1117,1118,1119,1120,1121,1122,1123,1124,1125,1126,1127,1128,1129,1130,1131,1132,1133,1134,1135,1136,1137,1138,1139,1140,1141,1142,1143,1144,1145,1146,1147,1148,1149,1150,1151,1152,1153,1154,1155,1156,1157,1158,1159,1160,1161,1162,1163,1164,1165,1166,1167,1168,1169,1170,1171,1172,1173,1174,1175,1176,1177,1178,1179,1180,1181,1182,1183,1184,1185,1186,1187,1188,1189,1190,1191,1192,1193,1194,1195,1196,1197,1198,1199,1200,1201,1202,1203,1204,1205,1206,1207,1208,1209,1210,1211,1212,1213,1214,1215,1216,1217,1218,1219,1220,1221,1222,1223,1224,1225,1226,1227,1228,1229,1230,1231,1232,1233,1234,1235,1236,1237,1238,1239,1240,1241,1242,1243,1244,1245,1246,1247,1248,1249,1250,1251,1252,1253,1254,1255,1256,1257,1258,1259,1260,1261,1262,1263,1264,1265,1266,1267,1268,1269,1270,1271,1272,1273,1274,1275,1276,1277,1278,1279,1280,1281,1282,1283,1284,1285,1286,1287,1288,1289,1290,1291,1292,1293,1294,1295,1296,1297,1298,1299,1300,1301,1302,1303,1304,1305,1306,1307,1308,1309,1310,1311,1312,1313,1314,1315,1316,1317,1318,1319,1320,1321,1322,1323,1324,1325,1326,1327,1328,1329,1330,1331,1332,1333,1334,1335,1336,1337,1338,1339,1340,1341,1342,1343,1344,1345,1346,1347,1348,1349,1350,1351,1352,1353,1354,1355,1356,1357,1358,1359,1360,1361,1362,1363,1364,1365,1366,1367,1368,1369,1370,1371,1372,1373,1374,1375,1376,1377,1378,1379,1380,1381,1382,1383,1384,1385,1386,1387,1388,1389,1390,1391,1392,1393,1394,1395,1396,1397,1398,1399,1400,1401,1402,1403,1404,1405,1406,1407,1408,1409,1410,1411,1412,1413,1414,1415,1416,1417,1418,1419,1420,1421,1422,1423,1424,1425,1426,1427,1428,1429,1430,1431,1432,1433,1434,1435,1436,1437,1438,1439,1440,1441,1442,1443,1444,1445,1446,1447,1448,1449,1450,1451,1452,1453,1454,1455,1456,1457,1458,1459,1460,1461,1462,1463,1464,1465,1466,1467,1468,1469,1470,1471,1472,1473,1474,1475,1476,1477,1478,1479,1480,1481,1482,1483,1484,1485,1486,1487,1488,1489,1490,1491,1492,1493,1494,1495,1496,1497,1498,1499,1500,1501,1502,1503,1504,1505,1506,1507,1508,1509,1510,1511,1512,1513,1514,1515,1516,1517,1518,1519,1520,1521,1522,1523,1524,1525,1526,1527,1528,1529,1530,1531,1532,1533,1534,1535,1536,1537,1538,1539,1540,1541,1542,1543,1544,1545,1546,1547,1548,1549,1550,1551,1552,1553,1554,1555,1556,1557,1558,1559,1560,1561,1562,1563,1564,1565,1566,1567,1568,1569,1570,1571,1572,1573,1574,1575,1576,1577,1578,1579,1580,1581,1582,1583,1584,1585,1586,1587,1588,1589,1590,1591,1592,1593,1594,1595,1596,1597,1598,1599,1600,1601,1602,1603,1604,1605,1606,1607,1608,1609,1610,1611,1612,1613,1614,1615,1616,1617,1618,1619,1620,1621,1622,1623,1624,1625,1626,1627,1628,1629,1630,1631,1632,1633,1634,1635,1636,1637,1638,1639,1640,1641,1642,1643,1644,1645,1646,1647,1648,1649,1650,1651,1652,1653,1654,1655,1656,1657,1658,1659,1660,1661,1662,1663,1664,1665,1666,1667,1668,1669,1670,1671,1672,1673,1674,1675,1676,1677,1678,1679,1680,1681,1682,1683,1684,1685,1686,1687,1688,1689,1690,1691,1692,1693,1694,1695,1696,1697,1698,1699,1700,1701,1702,1703,1704,1705,1706,1707,1708,1709,1710,1711,1712,1713,1714,1715,1716,1717,1718,1719,1720,1721,1722,1723,1724,1725,1726,1727,1728,1729,1730,1731,1732,1733,1734,1735,1736,1737,1738,1739,1740,1741,1742,1743,1744,1745,1746,1747,1748,1749,1750,1751,1752,1753,1754,1755,1756,1757,1758,1759,1760,1761,1762,1763,1764,1765,1766,1767,1768,1769,1770,1771,1772,1773,1774,1775,1776,1777,1778,1779,1780,1781,1782,1783,1784,1785,1786,1787,1788,1789,1790,1791,1792,1793,1794,1795,1796,1797,1798,1799,1800,1801,1802,1803,1804,1805,1806,1807,1808,1809,1810,1811,1812,1813,1814,1815,1816,1817,1818,1819,1820,1821,1822,1823,1824,1825,1826,1827,1828,1829,1830,1831,1832,1833,1834,1835,1836,1837,1838,1839,1840,1841,1842,1843,1844,1845,1846,1847,1848,1849,1850,1851,1852,1853,1854,1855,1856,1857,1858,1859,1860,1861,1862,1863,1864,1865,1866,1867,1868,1869,1870,1871,1872,1873,1874,1875,1876,1877,1878,1879,1880,1881,1882,1883,1884,1885,1886,1887,1888,1889,1890,1891,1892,1893,1894,1895,1896,1897,1898,1899,1900,1901,1902,1903,1904,1905,1906,1907,1908,1909,1910,1911,1912,1913,1914,1915,1916,1917,1918,1919,1920,1921,1922,1923,1924,1925,1926,1927,1928,1929,1930,1931,1932,1933,1934,1935,1936,1937,1938,1939,1940,1941,1942,1943,1944,1945,1946,1947,1948,1949,1950,1951,1952,1953,1954,1955,1956,1957,1958,1959,1960,1961,1962,1963,1964,1965,1966,1967,1968,1969,1970,1971,1972,1973,1974,1975,1976,1977,1978,1979,1980,1981,1982,1983,1984,1985,1986,1987,1988,1989,1990,1991,1992,1993,1994,1995,1996,1997,1998,1999,2000,2001,2002,2003,2004,2005,2006,2007,2008,2009,2010,2011,2012,2013,2014,2015,2016,2017,2018,2019,2020,2021,2022,2023,2024,2025,2026,2027,2028,2029,2030,2031,2032,2033,2034,2035,2036,2037,2038,2039,2040,2041,2042],\"words\":[\"user\",\"\\u00f0\",\"the\",\"to\",\"i\",\"a\",\"you\",\"and\",\"in\",\"for\",\"\\u00e2\",\"of\",\"is\",\"my\",\"it\",\"s\",\"love\",\"this\",\"on\",\"with\",\"be\",\"t\",\"day\",\"that\",\"all\",\"so\",\"are\",\"me\",\"amp\",\"your\",\"happy\",\"at\",\"have\",\"we\",\"can\",\"just\",\"will\",\"when\",\"not\",\"do\",\"am\",\"u\",\"what\",\"time\",\"life\",\"\\u00ef\",\"but\",\"m\",\"today\",\"from\",\"like\",\"up\",\"now\",\"new\",\"out\",\"thankful\",\"as\",\"positive\",\"get\",\"was\",\"people\",\"about\",\"how\",\"good\",\"our\",\"bihday\",\"by\",\"they\",\"no\",\"one\",\"see\",\"more\",\"smile\",\"if\",\"don\",\"go\",\"who\",\"want\",\"father\",\"he\",\"2\",\"take\",\"work\",\"healthy\",\"re\",\"weekend\",\"fun\",\"an\",\"has\",\"summer\",\"there\",\"or\",\"make\",\"got\",\"family\",\"us\",\"friday\",\"best\",\"beautiful\",\"great\",\"his\",\"here\",\"need\",\"way\",\"friends\",\"bull\",\"why\",\"\\u00e3\",\"only\",\"going\",\"days\",\"first\",\"really\",\"their\",\"wait\",\"music\",\"morning\",\"world\",\"back\",\"tomorrow\",\"3\",\"been\",\"know\",\"very\",\"week\",\"some\",\"sad\",\"cute\",\"orlando\",\"never\",\"think\",\"fathersday\",\"her\",\"being\",\"too\",\"right\",\"feel\",\"off\",\"happiness\",\"after\",\"trump\",\"1\",\"blog\",\"home\",\"sunday\",\"model\",\"night\",\"much\",\"girl\",\"affirmation\",\"had\",\"i_am\",\"ve\",\"always\",\"next\",\"even\",\"well\",\"she\",\"them\",\"finally\",\"last\",\"because\",\"live\",\"come\",\"4\",\"year\",\"over\",\"amazing\",\"ur\\u00f0\",\"still\",\"these\",\"than\",\"gold\",\"dad\",\"thanks\",\"thank\",\"tonight\",\"ready\",\"look\",\"things\",\"silver\",\"find\",\"selfie\",\"gt\",\"fathers\",\"makes\",\"follow\",\"altwaystoheal\",\"many\",\"via\",\"then\",\"little\",\"man\",\"again\",\"free\",\"let\",\"pay\",\"everyone\",\"him\",\"old\",\"\\u00f3\\u00be\",\"looking\",\"would\",\"2016\",\"forex\",\"show\",\"ll\",\"another\",\"ever\",\"hope\",\"down\",\"feeling\",\"getting\",\"black\",\"god\",\"its\",\"blessed\",\"most\",\"should\",\"watch\",\"peace\",\"girls\",\"d\",\"city\",\"stop\",\"news\",\"climb\",\"sta\",\"game\",\"food\",\"enjoy\",\"say\",\"hate\",\"bear\",\"sun\",\"made\",\"friend\",\"saturday\",\"whatever\",\"every\",\"help\",\"someone\",\"might\",\"baby\",\"excited\",\"white\",\"instagood\",\"dog\",\"polar\",\"funny\",\"before\",\"may\",\"keep\",\"5\",\"where\",\"lol\",\"did\",\"coming\",\"having\",\"any\",\"kids\",\"into\",\"nothing\",\"angry\",\"nice\",\"beach\",\"healing\",\"big\",\"school\",\"guys\",\"believe\",\"until\",\"around\",\"video\",\"long\",\"yes\",\"hea\",\"better\",\"years\",\"please\",\"awesome\",\"found\",\"n\",\"w\",\"were\",\"wedding\",\"done\",\"lt\",\"grateful\",\"quote\",\"holiday\",\"soon\",\"america\",\"women\",\"direct\",\"two\",\"proud\",\"cool\",\"change\",\"won\",\"true\",\"monday\",\"dominate\",\"watching\",\"thing\",\"such\",\"motivation\",\"waiting\",\"bad\",\"other\",\"team\",\"lost\",\"something\",\"play\",\"away\",\"miss\",\"without\",\"attack\",\"forward\",\"real\",\"own\",\"travel\",\"left\",\"end\",\"those\",\"place\",\"oh\",\"playing\",\"photooftheday\",\"r\",\"wish\",\"hot\",\"\\u00bc\",\"fashion\",\"strong\",\"doing\",\"racing\",\"give\",\"yeah\",\"hair\",\"weeks\",\"followme\",\"check\",\"10\",\"person\",\"\\u00c2\",\"bing\",\"libtard\",\"face\",\"lovely\",\"bong\",\"could\",\"didn\",\"\\u00bc\\u00f0\",\"sex\",\"y\",\"hard\",\"mindset\",\"twitter\",\"wow\",\"rip\",\"june\",\"buffalo\",\"living\",\"racist\",\"everything\",\"joy\",\"\\u00e0\",\"making\",\"yet\",\"does\",\"boy\",\"book\",\"gonna\",\"7\",\"lot\",\"same\",\"6\",\"im\",\"young\",\"top\",\"leave\",\"health\",\"sexy\",\"doesn\",\"money\",\"dads\",\"stay\",\"tweets\",\"job\",\"house\",\"tbt\",\"sleep\",\"looks\",\"obama\",\"success\",\"moment\",\"ur\",\"shooting\",\"photo\",\"children\",\"london\",\"euro2016\",\"\\u00aa\\u00f0\",\"win\",\"gay\",\"said\",\"politics\",\"read\",\"mom\",\"full\",\"few\",\"gorilla\",\"try\",\"yourself\",\"poetry\",\"pa\",\"against\",\"pretty\",\"already\",\"men\",\"woman\",\"listen\",\"depression\",\"says\",\"body\",\"thought\",\"quotes\",\"b\",\"hours\",\"mind\",\"tear\",\"beauty\",\"working\",\"thursday\",\"omg\",\"dance\",\"head\",\"song\",\"loved\",\"environment\",\"x\",\"inspiration\",\"couple\",\"guy\",\"porn\",\"perfect\",\"since\",\"shit\",\"truth\",\"country\",\"\\u00ba\\u00ef\",\"while\",\"post\",\"fuck\",\"month\",\"use\",\"each\",\"season\",\"must\",\"super\",\"0\",\"times\",\"cold\",\"simulator\",\"adapt\",\"enough\",\"conference\",\"\\u00be\",\"cat\",\"fitness\",\"dream\",\"also\",\"call\",\"through\",\"isn\",\"which\",\"simulation\",\"open\",\"shop\",\"mood\",\"buy\",\"retweet\",\"words\",\"wonderful\",\"run\",\"media\",\"nude\",\"hour\",\"alone\",\"hear\",\"rest\",\"both\",\"business\",\"others\",\"dead\",\"hey\",\"yay\",\"crazy\",\"ppl\",\"meet\",\"movie\",\"race\",\"share\",\"seeing\",\"coffee\",\"put\",\"together\",\"till\",\"comes\",\"flowers\",\"culture\",\"gone\",\"liberal\",\"trying\",\"tweet\",\"story\",\"tell\",\"wednesday\",\"trip\",\"9\",\"anything\",\"gift\",\"smiles\",\"sunshine\",\"relax\",\"care\",\"myself\",\"sweet\",\"came\",\"fans\",\"kind\",\"remember\",\"celebrate\",\"far\",\"son\",\"thoughts\",\"else\",\"tired\",\"almost\",\"goes\",\"wrong\",\"\\u00be\\u00f0\",\"needs\",\"bed\",\"daddy\",\"\\u00bd\\u00f0\",\"gym\",\"usa\",\"lifestyle\",\"allahsoil\",\"single\",\"loving\",\"empty\",\"\\u00aa\",\"\\u00e5\",\"tickets\",\"join\",\"delete\",\"sorry\",\"high\",\"yesterday\",\"child\",\"lives\",\"blue\",\"prayfororlando\",\"\\u00bd\",\"sick\",\"gbp\",\"places\",\"months\",\"actually\",\"forever\",\"social\",\"fact\",\"anyone\",\"saw\",\"o\",\"nature\",\"useful\",\"tgif\",\"50\",\"talk\",\"aww\",\"went\",\"sure\",\"power\",\"vacation\",\"lgbt\",\"photography\",\"goodmorning\",\"side\",\"laugh\",\"1st\",\"tuesday\",\"hardcore\",\"car\",\"anymore\",\"8\",\"nervous\",\"deletetweets\",\"development\",\"running\",\"suppo\",\"reading\",\"visit\",\"daily\",\"less\",\"order\",\"impoant\",\"happened\",\"victims\",\"followers\",\"p\",\"special\",\"evening\",\"instagram\",\"\\u00ba\\u00f0\",\"hello\",\"gun\",\"daughter\",\"gets\",\"complete\",\"early\",\"word\",\"under\",\"football\",\"lunch\",\"sunny\",\"latest\",\"\\u00b9\\u00f0\",\"anxiety\",\"uk\",\"matter\",\"hu\",\"30\",\"20\",\"late\",\"12\",\"once\",\"sometimes\",\"history\",\"birds\",\"na\",\"ago\",\"favorite\",\"tags\",\"usd\",\"boys\",\"smiling\",\"families\",\"racism\",\"depressed\",\"safe\",\"lucky\",\"green\",\"shopping\",\"walk\",\"future\",\"red\",\"ok\",\"sjw\",\"pic\",\"guess\",\"16\",\"seen\",\"cause\",\"style\",\"arrived\",\"15\",\"\\u00ba\",\"able\",\"wishing\",\"booked\",\"cry\",\"mean\",\"leads\",\"point\",\"everyday\",\"dont\",\"fucking\",\"death\",\"stas\",\"set\",\"act\",\"vine\",\"date\",\"prayers\",\"reason\",\"app\",\"damn\",\"later\",\"tv\",\"whole\",\"learn\",\"florida\",\"killed\",\"disney\",\"ass\",\"park\",\"saying\",\"target\",\"close\",\"brexit\",\"event\",\"understand\",\"vs\",\"cant\",\"guns\",\"become\",\"youtube\",\"homes\",\"sea\",\"though\",\"self\",\"\\u00e6\",\"xxx\",\"finished\",\"education\",\"staing\",\"pray\",\"fan\",\"talking\",\"organizations\",\"snapchat\",\"update\",\"dear\",\"conce\",\"rain\",\"comments\",\"picture\",\"thankyou\",\"flag\",\"control\",\"state\",\"seems\",\"despite\",\"picoftheday\",\"e\",\"100\",\"afternoon\",\"reached\",\"club\",\"save\",\"boyfriend\",\"garden\",\"anniversary\",\"july\",\"welcome\",\"memories\",\"cannot\",\"choose\",\"half\",\"heard\",\"used\",\"lover\",\"mother\",\"nyc\",\"break\",\"forget\",\"parents\",\"2017\",\"bring\",\"president\",\"c\",\"mad\",\"maybe\",\"kill\",\"pathetic\",\"meeting\",\"11\",\"bit\",\"\\u00ec\",\"police\",\"smh\",\"f\",\"yo\",\"freedom\",\"ht\\u00e2\",\"taking\",\"dinner\",\"easy\",\"vote\",\"happen\",\"fresh\",\"broken\",\"bless\",\"thinking\",\"friendship\",\"design\",\"dogs\",\"soul\",\"wanted\",\"hill\",\"cake\",\"ramadan\",\"cantwait\",\"goals\",\"animals\",\"affirmations\",\"training\",\"view\",\"reach\",\"survive\",\"vicinity\",\"dreams\",\"mountains\",\"makeup\",\"wants\",\"feels\",\"called\",\"orlandoshooting\",\"wife\",\"name\",\"stuff\",\"kid\",\"2nd\",\"episode\",\"rock\",\"missing\",\"group\",\"htt\\u00e2\",\"yoga\",\"love\\u00e2\",\"final\",\"wanna\",\"hit\",\"happening\",\"heal\",\"truly\",\"worst\",\"eat\",\"nasty\",\"brother\",\"americans\",\"film\",\"send\",\"color\",\"water\",\"england\",\"india\",\"least\",\"pain\",\"\\u00b9\",\"06\",\"eyes\",\"service\",\"voice\",\"feelings\",\"course\",\"leadership\",\"breakfast\",\"sister\",\"tragedy\",\"list\",\"lighttherapy\",\"officially\",\"phone\",\"crying\",\"lawofattraction\",\"3d\",\"enjoying\",\"ask\",\"light\",\"haven\",\"hillary\",\"simple\",\"means\",\"different\",\"community\",\"past\",\"slut\",\"moments\",\"bought\",\"american\",\"violence\",\"web\",\"during\",\"oitnb\",\"fridayfeeling\",\"mine\",\"dj\",\"glad\",\"disappointed\",\"wake\",\"wishes\",\"ride\",\"chill\",\"wet\",\"gop\",\"festival\",\"suppoers\",\"along\",\"couldn\",\"shot\",\"udtapunjab\",\"human\",\"shows\",\"beer\",\"l\",\"finding\",\"naughty\",\"shy\",\"staed\",\"fantastic\",\"minutes\",\"tragic\",\"ahead\",\"task\",\"using\",\"small\",\"mass\",\"giving\",\"agree\",\"line\",\"lonely\",\"present\",\"takes\",\"lose\",\"horny\",\"move\",\"room\",\"reality\",\"chase\",\"gotta\",\"office\",\"wtf\",\"stupid\",\"workout\",\"wine\",\"00\",\"exciting\",\"sho\",\"instead\",\"leaving\",\"hatred\",\"sunset\",\"rather\",\"moving\",\"needed\",\"spos\",\"congrats\",\"die\",\"source\",\"respect\",\"lots\",\"queen\",\"blur\",\"blonde\",\"la\",\"muslim\",\"tears\",\"ways\",\"kinky\",\"poor\",\"nbafinals\",\"problem\",\"france\",\"stomping\",\"behind\",\"husband\",\"hell\",\"happier\",\"dark\",\"rooster\",\"vast\",\"bday\",\"fear\",\"\\u00e7\",\"local\",\"three\",\"gave\",\"drink\",\"videos\",\"like4like\",\"japan\",\"actor\",\"tech\",\"pussy\",\"busy\",\"gorgeous\",\"24\",\"expanse\",\"photos\",\"facebook\",\"students\",\"h\\u00e2\",\"apple\",\"writing\",\"\\u00b3\\u00f0\",\"teen\",\"customer\",\"hi\",\"v\",\"haha\",\"islam\",\"national\",\"experience\",\"star\",\"pink\",\"wonder\",\"due\",\"countdown\",\"loves\",\"class\",\"series\",\"yummy\",\"pizza\",\"babies\",\"walking\",\"ones\",\"political\",\"luck\",\"follow\\u00e2\",\"seriously\",\"university\",\"cats\",\"weather\",\"ripchristina\",\"aren\",\"puppy\",\"instalike\",\"13\",\"games\",\"sky\",\"online\",\"speak\",\"loss\",\"hungry\",\"account\",\"york\",\"inshot\",\"heabroken\",\"internet\",\"hands\",\"pride\",\"scared\",\"vegan\",\"available\",\"instamood\",\"drinks\",\"ain\",\"woh\",\"shame\",\"fall\",\"met\",\"adventure\",\"energy\",\"\\u00b5\\u00f0\",\"street\",\"lady\",\"official\",\"punjab\",\"jobs\",\"took\",\"college\",\"content\",\"told\",\"died\",\"huge\",\"mr\",\"99\",\"pool\",\"united\",\"flight\",\"co\",\"sale\",\"germany\",\"turn\",\"given\",\"staff\",\"dancing\",\"road\",\"literally\",\"fit\",\"sign\",\"naked\",\"spend\",\"missed\",\"emotions\",\"launch\",\"shoes\",\"donald\",\"absolutely\",\"congratulations\",\"listening\",\"everybody\",\"campaign\",\"bitch\",\"camp\",\"opening\",\"joke\",\"flower\",\"war\",\"hero\",\"previous\",\"grow\",\"test\",\"vegas\",\"probably\",\"folks\",\"pre\",\"church\",\"king\",\"sense\",\"tips\",\"confused\",\"trending\",\"nba\",\"female\",\"album\",\"trust\",\"inspirational\",\"idea\",\"instadaily\",\"e32016\",\"ice\",\"stories\",\"anti\",\"ordered\",\"melancholy\",\"fly\",\"stand\",\"inside\",\"paris\",\"14\",\"treat\",\"realize\",\"step\",\"celebration\",\"page\",\"okay\",\"either\",\"\\u00d1\",\"chance\",\"calm\",\"snapshot\",\"nofilter\",\"faith\",\"oil\",\"married\",\"wasn\",\"christmas\",\"vibes\",\"secret\",\"bc\",\"choice\",\"dress\",\"ff\",\"fight\",\"calling\",\"eah\",\"17\",\"nobody\",\"_\",\"alive\",\"holidays\",\"leakage\",\"decided\",\"asian\",\"message\",\"hand\",\"low\",\"favourite\",\"deep\",\"website\",\"especially\",\"\\u00d0\",\"goodnight\",\"themselves\",\"bike\",\"minute\",\"successful\",\"pop\",\"born\",\"e3\",\"issue\",\"miami\\u00e2\",\"pulse\",\"towards\",\"tried\",\"marriage\",\"blogger\",\"gif\",\"knew\",\"fake\",\"below\",\"emotional\",\"horrible\",\"surprise\",\"broke\",\"lovelife\",\"diet\",\"aist\",\"cavs\",\"fire\",\"eur\",\"dory\",\"stuck\",\"pics\",\"second\",\"stage\",\"totally\",\"\\u00bc\\u00ef\",\"bride\",\"melancholymusic\",\"cover\",\"newyork\",\"deserve\",\"graduation\",\"release\",\"case\",\"xx\",\"changes\",\"books\",\"fail\",\"celebrating\",\"store\",\"blm\",\"upset\",\"til\",\"august\",\"\\u00bd\\u00ef\",\"public\",\"singing\",\"finger\",\"received\",\"it\\u00e2\",\"number\",\"action\",\"g\",\"states\",\"double\",\"train\",\"planning\",\"paid\",\"tampa\",\"gratitude\",\"outside\",\"russia\",\"company\",\"25\",\"california\",\"age\",\"customers\",\"praying\",\"18\",\"tea\",\"miami\",\"wild\",\"clean\",\"pictures\",\"following\",\"positivity\",\"bag\",\"i\\u00e2\",\"spain\",\"ex\",\"anger\",\"youth\",\"squad\",\"finish\",\"space\",\"benefits\",\"netflix\",\"sing\",\"repost\",\"ticket\",\"ending\",\"heading\",\"happens\",\"relaxing\",\"cheers\",\"helping\",\"nearly\",\"review\",\"beat\",\"da\",\"exactly\",\"wakeup\",\"fast\",\"card\",\"temple\",\"orange\",\"ness\",\"relationship\",\"longer\",\"nails\",\"australia\",\"passed\",\"journey\",\"\\u00b3\",\"learning\",\"terrorism\",\"anime\",\"analytics\",\"question\",\"ladies\",\"spring\",\"essentialoils\",\"eating\",\"lord\",\"expect\",\"loveit\",\"knows\",\"add\",\"drawing\",\"wisdom\",\"legend\",\"weak\",\"town\",\"nation\",\"box\",\"girlfriend\",\"law\",\"movies\",\"tho\",\"bjp\",\"link\",\"ireland\",\"lets\",\"christina\",\"begins\",\"shootings\",\"songs\",\"lyrics\",\"ugh\",\"creative\",\"yours\",\"brand\",\"worry\",\"euro\",\"above\",\"works\",\"events\",\"entire\",\"19\",\"near\",\"straight\",\"behappy\",\"south\",\"ootd\",\"religion\",\"hotel\",\"ignorance\",\"maga\",\"deal\",\"disgusting\",\"kitty\",\"goodvibes\",\"cut\",\"english\",\"product\",\"animal\",\"likes\",\"shi\",\"hold\",\"count\",\"idwp\",\"reasons\",\"st\",\"losing\",\"k\",\"allow\",\"plan\",\"collection\",\"definitely\",\"smile\\u00e2\",\"turned\",\"between\",\"key\",\"foodporn\",\"front\",\"chicago\",\"bro\",\"lie\",\"tour\",\"apparently\",\"sadly\",\"land\",\"begin\",\"played\",\"wouldn\",\"stream\",\"stress\",\"lebron\",\"fo\",\"thats\",\"taken\",\"texas\",\"google\",\"h\",\"released\",\"humpday\",\"lack\",\"bored\",\"greatest\",\"schools\",\"shoot\",\"watched\",\"ripchristinagrimmie\",\"spent\",\"calgary\",\"muslims\",\"filled\",\"powerful\",\"project\",\"ibiza\",\"natural\",\"imagine\",\"price\",\"gamedev\",\"positivevibes\",\"bar\",\"worse\",\"ma\",\"ball\",\"brilliant\",\"cream\",\"ya\",\"rainbow\",\"swimming\",\"bigot\",\"yrs\",\"answer\",\"pls\",\"speech\",\"piece\",\"michael\",\"current\",\"isis\",\"the\\u00e2\",\"\\u00bc\\u00e3\",\"hispanic\",\"pig\",\"woke\",\"colombia\",\"awards\",\"studio\",\"round\",\"breaking\",\"l4l\",\"pick\",\"faces\",\"attention\",\"hopefully\",\"boss\",\"afraid\",\"gives\",\"comment\",\"fat\",\"knowing\",\"dude\",\"nightclub\",\"beyond\",\"role\",\"market\",\"igers\",\"flying\",\"republican\",\"sma\",\"keeping\",\"within\",\"life\\u00e2\",\"biggest\",\"create\",\"clients\",\"delicious\",\"weird\",\"packing\",\"a\\u00e2\",\"cuz\",\"simply\",\"heaven\",\"fab\",\"comedy\",\"announce\",\"islamic\",\"match\",\"de\",\"warm\",\"winter\",\"cards\",\"often\",\"gamer\",\"lake\",\"board\",\"evil\",\"possible\",\"counting\",\"quoteoftheday\",\"strength\",\"exercise\",\"singer\",\"accept\",\"theatre\",\"growing\",\"iphone\",\"humanity\",\"science\",\"inspired\",\"loveislove\",\"moon\",\"memes\",\"student\",\"yr\",\"client\",\"bird\",\"cleveland\",\"tool\",\"bliss\",\"xoxo\",\"grimmie\",\"bestfriend\",\"worked\",\"70\",\"europe\",\"bus\",\"ocean\",\"felt\",\"material\",\"idiot\",\"nigga\",\"f4f\",\"000\",\"track\",\"sales\",\"wear\",\"chocolate\",\"magic\",\"brokers\",\"click\",\"coach\",\"peaceful\",\"feet\",\"canada\",\"passion\",\"balance\",\"hoping\",\"bet\",\"generation\",\"terrible\",\"winner\",\"fun\\u00e2\",\"staup\",\"plans\",\"scary\",\"appreciate\",\"childhood\",\"findingdory\",\"clothes\",\"waste\",\"sounds\",\"offer\",\"society\",\"heabreaking\",\"calls\",\"piano\",\"clearly\",\"goodtimes\",\"summeime\",\"heas\",\"humans\",\"terrorist\",\"princess\",\"entrepreneur\",\"senseless\",\"yum\",\"organic\",\"kiss\",\"apps\",\"million\",\"astrologer\",\"bbc\",\"island\",\"killing\",\"bestie\",\"rape\",\"band\",\"everywhere\",\"bernie\",\"21\",\"forgot\",\"quality\",\"growth\",\"ugly\",\"edm\",\"response\",\"mum\",\"bff\",\"grace\",\"purpose\",\"cooking\",\"en\",\"foodie\",\"handmade\",\"goodday\",\"sikh\",\"session\",\"bouncingbaby\",\"sent\",\"epic\",\"decision\",\"\\u00b5\",\"cup\",\"press\",\"tattoo\",\"accepted\",\"weight\",\"painting\",\"loser\",\"bye\",\"jo\",\"meditation\",\"performance\",\"happiest\",\"bitches\",\"level\",\"pet\",\"therapy\",\"sharing\",\"cheer\",\"\\u00e0\\u00b9\",\"crime\",\"niggas\",\"keeps\",\"john\",\"air\",\"system\",\"injured\",\"politicians\",\"jesus\",\"non\",\"blame\",\"gig\",\"notice\",\"\\u00c3\",\"bright\",\"cock\",\"advice\",\"italy\",\"vandalised\",\"wso\",\"condemns\",\"airpo\",\"laughter\",\"\\u00e8\",\"shift\",\"\\u00d8\",\"supposed\",\"snow\",\"silly\",\"pm\",\"info\",\"paladino\",\"spo\",\"middle\",\"paner\",\"indiedev\",\"christinagrimmie\",\"3rd\",\"robe\",\"lead\",\"adult\",\"member\",\"gaming\",\"updates\",\"bigotry\",\"rich\",\"fabulous\",\"suppoing\",\"download\",\"wales\",\"diy\",\"greece\",\"stars\",\"plz\",\"ignored\",\"completely\",\"radio\",\"golf\",\"logins\",\"suicide\",\"frustrated\",\"telling\",\"progress\",\"quick\",\"hype\",\"handsome\",\"bout\",\"lil\",\"whites\",\"colors\",\"note\",\"shout\",\"attitude\",\"cool\\u00e2\",\"cox\",\"humor\",\"jokes\",\"shocked\",\"podcast\",\"equality\",\"clinton\",\"adorable\",\"result\",\"mins\",\"excellent\",\"poem\",\"focus\",\"\\u00d9\",\"five\",\"amwriting\",\"lies\",\"factory\",\"sound\",\"mexico\",\"wall\",\"throwback\",\"babe\",\"matters\",\"difficult\",\"em\",\"building\",\"september\",\"leaves\",\"career\",\"90\",\"40\",\"wellness\",\"study\",\"toddler\",\"mindfulness\",\"lmao\",\"surprised\",\"malevote\",\"winning\",\"risk\",\"agenda\",\"lying\",\"justice\",\"misogyny\",\"sitting\",\"repo\",\"west\",\"slow\",\"fasting\",\"type\",\"fed\",\"record\",\"realized\",\"papa\",\"sisters\",\"registered\",\"unfounately\",\"unhappy\",\"familytime\",\"total\",\"sir\",\"route\",\"four\",\"results\",\"fav\",\"closer\",\"kkk\",\"salad\",\"cnn\",\"ha\",\"goal\",\"neverump\",\"roll\",\"poland\",\"luv\",\"turning\",\"aap\",\"blackandwhite\",\"remain\",\"arrive\",\"bae\",\"eye\",\"door\",\"s\\u00e2\",\"teacher\",\"opinion\",\"known\",\"skin\",\"loa\",\"data\",\"drive\",\"sold\",\"choices\",\"return\",\"scotland\",\"kindness\",\"leaders\",\"inlove\",\"shine\",\"sat\",\"touch\",\"hrs\",\"driving\",\"fish\",\"nursery\",\"blacks\",\"brain\",\"chat\",\"glass\",\"bill\",\"feliz\",\"warriors\",\"china\",\"blessings\",\"laughing\",\"area\",\"weightloss\",\"questions\",\"major\",\"thinks\",\"writer\",\"goodbye\",\"abt\",\"email\",\"flagday2016\",\"continue\",\"you\\u00e2\",\"talented\",\"dies\",\"involved\",\"practice\",\"original\",\"seashepherd\",\"unbelievable\",\"members\",\"nights\",\"\\u00ef\\u00bc\",\"kinda\",\"blocked\",\"beginning\",\"tony\",\"romance\",\"kitchen\",\"cycling\",\"bihdaygirl\",\"euros\",\"annoyed\",\"blood\",\"spread\",\"le\",\"negative\",\"decide\",\"etc\",\"workers\",\"serious\",\"interview\",\"fl\",\"problems\",\"judge\",\"bbq\",\"row\",\"thailand\",\"stronger\",\"alligator\",\"continues\",\"process\",\"bestfriends\",\"lifeisgood\",\"hearing\",\"rally\",\"materia\",\"brown\",\"drinking\",\"ps4\",\"mark\",\"govt\",\"j\",\"insane\",\"relationships\",\"murder\",\"noh\",\"holding\",\"kingdom\",\"dangerous\",\"brought\",\"posts\",\"across\",\"sucks\",\"shut\",\"acting\",\"text\",\"changed\",\"male\",\"fighting\",\"build\",\"ig\",\"kick\",\"jealous\",\"woohoo\",\"guitar\",\"station\",\"hug\",\"fine\",\"asking\",\"traveling\",\"workshop\",\"anywhere\",\"ny\",\"san\",\"wednesdaywisdom\",\"potus\",\"swim\",\"screen\",\"mp\",\"amen\",\"write\",\"\\u00ed\",\"africa\",\"fave\",\"boat\",\"edinburgh\",\"ignorant\",\"liberals\",\"fix\",\"congress\",\"feminism\",\"signed\",\"friyay\",\"hugs\",\"misogynist\",\"manchester\",\"depressing\",\"innocent\",\"tuned\",\"restaurant\",\"rhymes\",\"somebody\",\"catch\",\"tokyo\",\"doubt\",\"massive\",\"eng\",\"normal\",\"christian\",\"asked\",\"day\\u00f0\",\"profile\",\"draw\",\"funday\",\"pass\",\"putting\",\"shepherd\",\"hat\",\"league\",\"posted\",\"sushi\",\"industry\",\"sleepy\",\"clear\",\"wearing\",\"cow\",\"hits\",\"fitfam\",\"foods\",\"eve\",\"plus\",\"cou\",\"ideas\",\"index\",\"tcot\",\"essential\",\"driver\",\"moved\",\"rights\",\"drunk\",\"teach\",\"african\",\"dumb\",\"shooter\",\"dying\",\"chair\",\"swag\",\"turns\",\"fuher\",\"hasn\",\"icecream\",\"sell\",\"rose\",\"bigger\",\"expectations\",\"looked\",\"letting\",\"remedies\",\"signs\",\"feminismiscancer\",\"feminismisterrorism\",\"feminismmuktbharat\",\"grand\",\"except\",\"ten\",\"tag\",\"meal\",\"anne\",\"aicle\",\"term\",\"boom\",\"election\",\"22\",\"shouldn\",\"tough\",\"players\",\"talent\",\"quite\",\"david\",\"details\",\"centre\",\"terror\",\"delivery\",\"liar\",\"sit\",\"luxury\",\"toptags\",\"scene\",\"bts\",\"government\",\"ended\",\"latepost\",\"weekends\",\"thx\",\"antiracism\",\"buying\",\"leader\",\"expected\",\"corruption\",\"fair\",\"assault\",\"mini\",\"anyway\",\"main\",\"stunning\",\"\\u00b9\\u00ef\",\"issues\",\"award\",\"none\",\"version\"],\"x\":{\"__ndarray__\":\"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\",\"dtype\":\"float32\",\"shape\":[2043]},\"y\":{\"__ndarray__\":\"9VSIv+HTVz4WZZC/WJfavpFOVL4c/0S/cjRAP37wp77IS5+/uu2cv3rwsz62iZq/DjZNv0y4S7/ugmA9VfQIvy/3iT9TpXy/81ytv7rMGb/J/3C81s7dPlId+r2Q5oe+qMG4vgLIvb5XsCm/om4NP+Q+QL+fzYo/it7rPqap2L8uu2q+aM9Jv5w0zj46HbC+yGmHPldY6D6feqy+zeRuPwtHzTzwqRBA+0navdiqVr8shQlAX1XcPvvfNr6N3Re/rJxev2Gmqb9NawC+X4d0vnXCmL+5MvK/BAWEvy0gMkC18lO/YWAuQFbMF78JZYC/2esAvzwPHb+5bHk9kM82PvRm3L/VlYe+Jnu0v2q1vD5SABu/tlKGv+B4a7+yxx/Ayj6yPzReoj6JGDg/VhBwv+RBUb75rJM/zjhFQL0iAL9t9WnAta1CQJX0gL9kil9An1AcvxwSnT4KOIQ/hsKQvymPj7+xZHw/Tq1Av8M3rb0DZKo/+723v2E1Uz8AJsW/m3SXPmr/ML8Y5p4/+nYCv0eUir+YhZG/jcp/P7u4Dr/Cp1c/zlSBQH8KnTxjqzs/YGeHvxq2nr+YGYvAY+PnvwU2ST9eoRm/C1VBwO5kH8C1IOM9PAyqvwFCrL+M3+S/lFZxwP6qa7+WL6Y/97Lpvk6LKsAv+Oy+3kcZv3P4tj9HUjrAtjMyQHHg7D2/L0JAM741v0gaRb9z5ta+x60rv80uIz8u9fK/E0AXQABx2b+4LWC/6eRrwNWrnsAqjaK/zymRPhM7gUB9JWW/AnVsvtyGoT9sUlxA1bp+v571WUAaAay+G1YhP/uCJcBntKI95sr9vNrC1b7S7FI/38KWv7MdCsBqZlw+Vj5RP+MO8L8D/WzAv1gzwASM3r+k3WM9IZt/QMWKD7+Qtay/+qcuwI37ncCQm0hAnTPFPzBT9D/z8eO/8BLov1P5ar6MzSw/5+6dwNEM6j2dUa4/WGkxwCOVSEC2za0/mVyOP8PTgEArvJS/YTFxwCwxI78pYdg+QXYsvyEoL8AK7wDA3AiWPw8CmL/YYgA/z7kPPwOmiL8bJPU+oweXwC4Jpj2c+T3ArVKewLQqIcALX5I++wOWv+s+ib/y38M+kHSsvydYAD+SyVm/UyjVv+FcTT80wXO/klcpP060/L/WWAM+L3EhvwuwEUC+cXY/c0EGv+Wcsr9bFTM/aNP6v8RQkkCEQrE+1lBewJnfbL8q+WI/YzQFPjfgDr/1kZVAQCqIP0hAAsCEUJC/E7OwPlwFeUB4Y3m/UKdCQCe6ET+Q60k/FgZ5P8ptFMAvJqG/0xOwP+kftz8sxJVA6a6dP5PUn7/VexC/2smSPp0AdMBqV62/buaNP/xGNz8RcxnAnUZXv9H9vT3Auoc+rSylvwDvo74LyTQ/fT4RP1W8gD9OMIRAWAahv9Tir7/xQS3A0OlLPnYzdMAtOiq/zrBHvxzaEMCK1Oy+yF2lv6WhGT/tKZbAE/roP9qrtr1+7zi/FM9xv5ckYcBirnW/dF/BP0crV79c9HvA9T/jP2suM0C7wdw+B/UtwCY2w7/Cacq/eQqBQI7Uv79GG5W+ngeHP1mJoD/mASs/TlC2vW0+Eb9xVIFAJ3gUwPsHyL5TjS6/DaEfQD49LcDKtMS+VrSgv46UAsC792a/Bh5GP8ibCD89TbC/GROLvn9sZ7/Wypm/cMCXwANSnr1QnVA/Zk+hPyqp87/4Pam/1ry4PcBT579q8Pq+I287wANAvz819SVAoMQjwIxFyj7TXEA+h7myPw7+qz/mwug/vqCXQJ5l6z/SA1FAN9peP6mojsDLsuQ/vjoAwB0RcsByfBS/ljqgwCJUWUDnTAJASE3NvzSPH71E+llAeDdQvmo/Sj+ihFc+Hzflv+zC9z8sCko/DTMIQMKLK0Dqar09evk9wLHPCcB5Ko5Afc45QOKV3L6kiic+06USQGil3T7mJh6/yWibvx0Inb7G2Z0+waQmwLZyEMA7uoPAYRJLvzCFK7+hl3TApBjvvkFaxL/qPS/ApAtXP6p1aUC+76E/7fdHP+KT4z+LMEpA6uaRPnmQcj/FKQfACC6+v/ZawT83geo9T9eNv8v+I78hCxxAui/UP5epIkAIN0DAypilP/7lYT6ERV6/M44SwKOW7T3poDS+OBhjPzwZjL3s1MK/4D7SvxvMuz4gnRDAuNR0wDOkl0Cza2E/1J6yP0PqUsDWb+i/eOXkv9LPnz+7fVa/6yfevzh0BsBujUfAdyIpvyQ3B78dJx5A6Iy8vtIKGkBuA9Q+GjKPwEc/zD0TJplAfPLgP/VKTL+G35u9v4lswKYmGD/xo5m/NEQuwBlB3b4pyJhAoaoZP55hJUB07qC/8mCrPy1/87+fESw/FqS4vwM7ID/vucW+E6Sbv51roz5MZpa/aktRwMy1gD+KoTfAHW28v0qyxz9oslvAnigUvyXNxb8v6JjAKyuNwDBIpL8hT5hADHqYQBkdaj7qcADAqBNcPrm1Nz8d/og/kMbmP8hNKz+ZuBxAy/8LwK0klz6u+7i/BB2PQGNpTcDWDLe/9ek8P13WHz7a00xAdTZBvZUj0L25HIPAfP8GwHzjs757NgfAvuSLP3s1Hr80csW/udpOvs9BesCU+vI/D+6fwEzZxT0hogfA04NpP1Xc0L5HTxPAm4GPv0CxOcAdVeg/PLlqv8w2aDuP/ELAsqZcQIWPhMCpMZu/ndZFP3SyHMAnoBC/fwZdvwDfKj4gq4W+nHW2vhA+uz/9peI+xXypv51qZcDXOEU/F+hKQGEitz9juU0/+uzaPz5GlEBmY/8+QNlQv4QtiL8fkiY/kSTDPozgZz/cVh8+bI9mv6LTib7OSzfAeeqyP/Z+K72dFZW/eOBPvunH4r4+kAM+fH6avm1gzb7/QElAvJwcPku/OT94Fvm/3g8ZQIVKwb88bd++ItiAPqYxZj+SM1w9761AP8jONcASwgrADWovQIRw6L5nP+i/WcaXv3h2FMBSnmq/p6dJP4tHPMBUXNY9EMauvqNZlsDehnNAKBGQwPx0rb2LBKk/H1WCwJFQDr/ffYY+R74Pv5HmhcAqvqo/k15GQOVSmz5+3sq/Gt29PgDQX0CeiFPAplYvP7rQor5A/VK/tucbwKCjsj/ORAI/dsS6v68CAEC61ALAZebcPkYl2L/6TIS+tPIIP098bMA2Ssy/2mZHQKZ1MsCLwuO/yLnkvIURIcCRLpu/mGthwHQpNMC85+o/+lLHPwdgqb+DmD3AQWsLQDNmmb6eUNy+jcAhvj27dT9L45U+d/urPrsWW7+QYjFAgeCCv/st7r+kKHK/wpo6QOHpAMA51Gu/IdGWvgUVqj/ajJLAP3A+PnJRsz/eUwXAMrv2PTCDGz8SJGPAgC0dwI5ker5aDnDAngLkP6BGLD9U+xLASJQmvbtjJMBvdD/AlJ6AwGY65j8Y/Z7AocwFPy/jdz9bED3AP5jNv1v8oT+4d7Y9lfEkPQUaMT/bcKK9Rn8ivzbWJL+wLPw+1+8yPzg9A0Ct9X0/VJt/vUoEKcApZJS/cstBP3aSsD9DqQDAEM1swBxEyj6+fCQ+HB07QKhPNMB9SJw/Iep4vsMSHsBMNZo+iNQNP0cqeT84EuI9oz7Pv1pKVcB18jDAVC6QP2qJQz/xkRTA59RFwOmlBUBUgu4+C3AWP8cDfr8hNjLArwhCv3EKjD/wvQbAXqMQwPEky7+/emu+exCxwCYnrT2mYHxAPqikwMQOBcAV3hTAK3W/P9oR4r89b0s/WjYyv4yslL6S9DHAGQiTQMBLmD92v3I+/Vk7wOvyZD+q6oa/8vY4wCm3pr4rzuO/29K1vZRG7TuoXwS/Deu8vwNdZT9M+x/AevXMPxqaG8BPGOE+wHGvvk9dHj9jz5e++FIbQPjCtD2GIZC/zwcTv/+Sx7969rk/VbY1PzgVb8BX+VW/1vUzvzBTE8AjhZm+wToIv8VB0z7Oz1i+1VAfwEOqYMBq/3I+BlRIP7IPRT8KMwnACNWvwIaFLD/EiOw+pE18wD3BTL88+nbAem62P4Xauz8PPhZArxpmP1Gznb8Yv4DAaIxrv0b2lT6OnPo6XvEnvnURrcCw/1vAQL0UQO+4yT4CpwDAIrGSv3IMW0Dpy60/UN7zP/KJlsCB7c2/AsiavoDpCUCYTc+/nSXcPggDTb9JAcW/VctCQEZiQT9gW5Y/5aWMvwr+iD/B4x1AYJTWP7yekUDL+N2+N/qKPt/fAcCvAg9AYcdUQOH/kb40YNq/rBqGvnmIW0BGLCK/4JuTQNkuBEAiazxAnirLPwqT4r6JCYc/gGvqv26jOMAps/W+RFJjwGyDB8DOaF68KF2owO0Li8Axf0vA1uxNvefNMcBPfWFALgT2PjllsT8TNifA+z6AP/U1gMCWgZ+/PXZIQGhDOz/gkIi/TbVEwHZviz/W75vAMX8Tv9nFhj/HtApA0A3FP6ztzL8XA0fAUDY4wFZ5wr/WluC8pRCFPpULfr2BCwFAz7t4v5DQFb+3AKc/agHAv6qL3793Rwy+wSyBvqYxir+P3KS/eZxQQLZLFcBMOzLAeGZ8PwUKSUBNU4w/gldUvoJJuT/2avU/oiA9vhmVKb8A/RNAqHwkv7HHBT6nQRXACPlDwL08qsDUDZ4/PMAHwBFTD8BnkyLAaW4jwNYdt7/MfT3AggL7PftZacDEev669ZcxPON9ab5aARvAjGZtvk0I/74yY20/vxmcv2Rzi7+E8/C/06ezv4V0/L+RwCw/i8AjwArqpL+n90a/OAkIwNfFnL8h2mm/o99nv5V0Jb++Vje+tavvvwsMeL8AW4/AYXTLv4XFC8DjGJRAXwiov2khZD4PMk/AXbdSv5ImnT6+aDHAjsqGP44JAr4JjTNAubWtPw3fED++Yra/9YzVvhOkEUCnoXZAfraiPya0pb9hBKG9kw3+PU7AVT8YVf09CYG3wJroRsCUfh5AbE3Tv2ksBMCPcUW/dblUPw0Hkr97h4+/4YnXvtBI8r/TczfAUDw5P05PAUAcpoo+D0ohv3C1QL9omqY/kmfNP4332L5pai2/cYUNQOdJiz/xoMs/hNnQv90Gz74GQB2/q7V+v0OwSkB/XTW/23jyvo73/j4Gk7s//EzoPwVWekBZtpdAng6cvu9neD94RoY/a9yUv3cS17+crx6/gaVOPqtJWz/zd7Q/2IdaP14lBMDB4hs+3cuRvmoT5b8HFi4+JC9mwLURZ0AOK5g/K3T7v3DNJ8CDhT8/jbAawIO7w74Gs40+jH5nP3sgMkAHRcM/5cdWwP9IgT6HAQXAI42ev3MHYMCIb9W/RtZMPwGLXr+RcOK+8alwwJgw1b/rAXrAAHJAwEn/Nz8t+zdA3dEFv4/pub/9WDK/89bJvm4/UUCLbuk/iI0xPOarEb+u1GA/ZmsGuzz0DsDJYgs/EWakP8fYrz9jRmTAYHsywOTNzT57bkDAAQbXvcuGEMCQMy0/lyOSvaG/EsBvBL4/E3sivpLSxb3m5CPAVRgYv3NOVD4KJyU+1x+EwKQQzT8R1fo+3HQ8PxunnD9v1II/+1cbvx+ThMB25sW+L7mPP0/meT709Nm/StoLv2UVecDWjF2/F1IwwK1957/q+5i/SQ6Rv1DAL76HHYq/Y4PePuJBncCAf7fAjrJLP6+n/72iEmrAbjRov5FjM8BOdD+/PTyLv9g/Gr72TKe/pZapPr7xQsBc/hK+G0MFQI+TZcB5ff2/6lOMwE4jEr+439U+bN4ywLjFlzpEupk9ss0FwDPYWkA5ugvAVfe/PyGShb9kTGNAAmxGwFv5BsD60KQ+K7eBPl/Dpr8XfnBAXmZ/wF05OkDvrj/AO+qivkIqjj5WXjG/tqEMwIITcr+BRss/01CLPz+/H0DElBs6oUEKP2xNsr/CJEnAz7GUwBX3rz9SAUFAvWJOv9MvoT8LGoDAWjc9PfZarj8x6Q/A4P6EwPEZXcBhDDm/PYNpP1XlaMCMsrw9uj14wEj+0zzEU6w/TSyWPhavtb7o5/y/ZB5CPVFHYT/Hy0G+2KeOP1PT9j/4rn0/UDeVP7xxNEAKwh0/RcjLPr9bgb1Tg8S/oikHPwN8FUBAZDE+RHjtPxeXRT5xjAJAjhf9P8BwA8D3ygvAAu1xwMxHtT97gBG/iY+MPwCmHD+nPV5AP5APvxg2wD9flxZAMG0KPnDx8D5iW8C/UU5bPyBDDMAMO9c+STUzvp/ALz9uD5m+IYLxv78lJ8B81qU+MO6Yv4FoTj9lUx7AQRlfwCNjw7+HfzDAkgi4v0Ne8j5e0iJAfAcSQA7Jfj8WDMi/jWaVP8gNRMCmJse+4g12PbCw7L/8Kb0+rPz4PzkzaUA9Y5nATpLUv504W8BkFNK86ahhQKmiur8Duxg/p+QrwHhxLcCFRC9ApjKRPoIp0T87jV3AVmuMwH1O3j6ORfY+gEstvx3mV8CMwJDAspCXwLP5KT9aIAfAa6AQQB9Frb7QQC7AyVR1wBUleD6qHK+/3vj/vx6Klj5Qo03ArfpcQLIHVb+exnnATRKVPjeIgsBwjibAWAY4PoqlNMDK7Zy/OY8/wLorIcBkRvS/wlkZQFXROEDJg0LAuuE0wCo3er2MzH/AJsRTv4bPSsBPPGLACO0mQGAmS8AARC++rAfuvodA7b9C6M8/3BWjwBaBLkC1wiZAbFnkv0T4r70E2nI+p5uMPY90ez8xkhfAFDDuv1y1OMAkzKm9y+5ZQPMdXMBHdZU8ittcP6knMsDsY4g+Equ6vxkYnz4nn4Q9TlQePmTsO0BGbbS/cieMwFdqjT882zC/T+AdvgeD4z8MdiPA/Fa8PE7z6b+PUOO/DfnFP4DlIEBq/ew9y48eviYM37+QgC2/Ovgrvz4S5D59jhvAdAnavy4ekr+KeJk/+NK0Pov3jz8AUYU/EX6KQHsXdMDj/P4/LYaiP3O/kD+Y4nG/psaKwE34gL9aOSVANrU/wBIUAT3sQWu/k/4TwFjAP8AFo0E/g+WMv+jGEj9Ffhm+x7dyPwirL8CUV8G/kHpPv7MG3L+mMWy/pGIYwLtOnMBWnlLAg2yNvqmGAT+9u7k/HH8bwBMmYz8pTTfAPf+ov7FLvr8AerO/DVVWwDbDUL+6gL6/peguQCcyA0Am6VTA1fIqPwVMnL/wN6K/08HXvyg78L9Fsuc/PdOhv2YNAz8HreE/0u2bwFxWyr87Z0rAc/K7P8iWyD9q1K2+4wLAvr4kCUCrmRlAeGgdP0Y5K0Byaqe/b2efv9jQ4z+6iwbA162iv0XNo7/zsKg/7Ggpv9sYU755/I7AwKtcP2WIAsBcSKi+lxi7vvfSoT67Uby/LbM7vt6kLr9L6xzAFFCYv8XpU0C0Kmk//UwJwCug+T9FwRm++psOwDsKSz7kT5K/jJcFv2T9wb8yUT/ADuuGwEqQyT6XqOq/42OhP/PUyL/ABaC/+0OUwIKeacBkbE6/nbxDwAKJgUAEBsq+j6c2P9Whtr6nBue/WzCxPfYDhb+IncC//x2Qv9QjNz+tGQRAq/Uuv00Vkb90N3JA+UUqwExdsb8wL7W/Ydf4P/UFNj/NbCq/ll3DvtpRmMBf1aU/oAzsv7PdQkBkvZ6/QCESwJqRkr5rugK/dHBPQNriSj+VMklAFA0Vv7fB+T4P2Ke+wvwQwEP++b/pOn+/tT10votqvj/dBUHAVY8BPynciz5DxQe/wXqpP+GEfr65jO0/p2cNvbRRor//w8s++hRJPcuHQMDD2zW/eneUvwc5ar/DNLE/c+2rv+uUqz1hHPE/QwYPQNiLRMCH/xNAZh3Kv14jwz9wmCFAFqt0vt/MYj+rg/m/5uoFP1YVkL/LO6Q/9N5KQEWSJ7/1CA9ADJQXwLDn9b/ULIvAlpMTwNfbOEBxWYo8Ur08wG++qb67BSNA+T5jv3nO6L/4S56+fGj9PseAhsDtJc0/cjQaQMNbGECzhR/AIdoTQNeFub+INqi+fkxKQFFGo78htiS/Lo0nv5gPO8Bq7h+/8WeXPwBtv7/lGATAqes0QOZFir+ZqIm/FCAQwLrauD4PVc4/W39XwIeQIb8xJRa/2Jl9wG5Bwb+Rn5O/oPChPyT0gr9VLJNA+8yhvpBwwz985Zk/tjVZwG0CmL96Vz7AyZeeP6Cqh7522r0/PHilP67BHUDmLju/fIeGv4Qdpr6hKSrA9dEAwIW1GUDN/JM/CO8kP40Zhj+0cFA+tVNXwGWTuj+119i/tnhEwNSu7j/g780+qiSlP1w/5b+HAoo9rdiGP3rMNr9NhH4/8+kLP417cL/P1RfA7b9+v49fhD5WdNE/kTukPi8LlT9Abyi/y0rKv52PAj/ynxhAgcO9vzpHeb9v8ty/BUO4Py9Fdj821W3AGrVfv5LrP8AlHCTAZ4nLv87pZr/BqLK/keQcwIzOIz0NVGy/S6Z1wHQUW797PlBAIJkPwCSmz7+IvcK/SZAPQPg9c79TWa8/CbJ1PZk1HkB40uY9DG8lv8MxB78Jhue/AWU5P4o8tz9FAB/Ay5P9v+8e/L2lcHJATK2XP2RMwz1S9Dw/66kzwN1i3z8Okh++w3ozP7vW374K55C/l933P2rD17//9O0/bfMHwOyfGb+7ouA/CdHKv9731D8ZuOS/Aa4IQFL+0T8UqhA/vhrDvw0cwz98NjrAdBtPQBsqpD9bWxC/xbM/wNIvFb8arto/1VUZv9G/0T9Z6ZW/jC+IP6qoVEBV5AvACPyNvtsI3D8sLgO/vV18QJfHWECbKzi+Hhapv+pxwz9iW1M/BwOrv4o3vL6ZTyo97e0KP1GY9D9urY7AcNFxwD4O+bwlseY/8CpWvxSQeT9tgH7AMzPqv61U97/qMAA/9bwawGwtpMB7AEy/QMqeP/91P0C1Krq/hRApQAX7EL6tGwvAt/YzQNzhQMCtJSA/20EuPb4bob+lIIDAfOguQD9I1L+zGlfAg+scvwKNGEC+T2DAN+jgP7O8Jb3i4N6/lkn0vlmYjsCJs+I/oziqvoQhFj8k2hY8E+GEPzgJHsDaxUhAFvXNPx/BEUDqtre/UxHLP44+wj+3MPE/0kYaQL2tPr5rK6m/CgefP1QancAfu5HAf2ImwBR0X8AZzpQ/Xki/vpeqyL+vZALAKPvduxzpT8CKGwy/nzhVwHHJYb9d8Qs/q0Ntvd32MECTkr8/ACRhP8mM6r+bpbm/rGKyvwScBz4DvgTAGy2ev4jahUDz7VlADSJqPpcAIkDIPNg/dBQVP4wV1z8QAJ2/U+ypv1k9mr/MgtK/ntrzvyjRrL44Bvy+LyABwPUbX7+zZH7ABgyKvR0URL+TBfa/EQQtwIabRb/jc0tAjEKgvbmi279ltmY/HNWvP76Yyj4Iy0LA05wJv0Z+IcD2dLK+3YIqQFwJmsA24hC/m0Eyv2XZfL9AJf8+hzErQGcEDEAahpu/yKTtvk/58L84OEJAxo+9vsxcN7/fSa8/qQDOP+KtIcCPtsi93HH4P998ScAsDQBAED5fvbeKhr99afO/lbi1P2qE7D/OlD8/nm/6PkbuZMBUqJ0/pgUfwKr/lb+SCAxAp3dOvRc6iT/Vng8+72UMwOW3Yz/pyoPA9jktvucxQjxduwJAJmzRv00WDEBFQ7q/U2Zrv7C85L+U198/QznEv06UpT8Dbvc+7wqMP42X4b+5aWVAJavHvaSaUMBlKB49ZeUgvyEtoTwcE2i/VktawAJVIz5GlDw/5gV3P1h4lb8w2bK/5TqVv5Qayj+FeZk+lsCLQOQOrb/hsNg+Lcy6v32WEz+bTW2/VFj7vuWORsAPhm6/EtRVQPZ6FsDRriDArkdBPQ/SL8CG+TY/zOFgPq/R9T/Z+oC/Ea7sP0EfkD+Yc2W+LlYKQCOQRT9Rh4/Aif+tPn/+ED6KS2u/Gms1P7SU0b/MzXI/S41jwNKunr+Q2oO/N3GovykgND+FiAFAaNPyP9ggjcDpLpFAuH6Mvkfjl8DqNtC/Y0Ksv2Mpr79yF2HAAJ45vs1lZT7VRKe/isPGvmOtEr36rte+fIEnwBF7JcBzqHw/b76pvyBsMj5lvT0+BsrOv8yIGkCJnVBA12TgPHjhCsDqGji+dOSSv1nwCEA0JKc9QUVSwI89oj+Y2fu/wWBOwAKMhj8Z3wPAa7W9vujOxL9bs1c+uJZyvz+UN7+mJzJAEBicv14eRL9K77G/SMx7wI/eFEDXVXq/FA6Pvrk0ob9uRU29BkUIwBVG4L93pny9CJXMvuYJ2L6kXVbA286WPpS/ub8Nlps+HnRAQNNJej9AlPO/a8KTv5BgN8CSkDS/EwU6wA+2dz4Po50/wkqVvyv2zD7l/iTAb48JvwtxacCmCow/iPf9v2gjgz1sPL+8SJL/vswEKkBMiq4+YW+Wvuo0IsDSgS1AiDovwGwuC8DCC9S/JkcbPi1cGcBVuKa+Mm3lPsL7Lr+/dtG/y4L6v41vWT7KZkhA9epvwKjDgb//7yW/9tpnwIXNccCJfTK/5l4JQF/obsDHhPS+9iLSv9xHL8BW3cY+k2ERwLD4i7/o/NK/L7t9v5bhgT+cSso/sKlqv5m1gb/yLR2+El6PwDehwL17A6LAOuMiwFe8d8B0mce/5r28P/vTiUAdezq/brV8vm5bjL8sPiHA9jeBv+si/b8qlkDAxbA9QO/lkr72KM4/dhKhv2nz67/lixI+MBw9QFFqI8AnuCM/TlDFvdnG578nJfG+LfKCv5tAzD+sul3A99YCwAOZBsBMv7u/Kx3avzDuHb5toog/jD9TP5Naxb/PT2g+HduTwGjjjL/ttBk/ZhwNva2jH0BpOYpAKVEfPR/ZHb+kTYPAb6whwEWPnr2zhYS/kvZMvycQdT4FWy3As0FKwKle3z3qMxu/DGxMwMHHWT8PnIa/\",\"dtype\":\"float32\",\"shape\":[2043]}},\"selected\":{\"id\":\"1035\",\"type\":\"Selection\"},\"selection_policy\":{\"id\":\"1034\",\"type\":\"UnionRenderers\"}},\"id\":\"1026\",\"type\":\"ColumnDataSource\"},{\"attributes\":{},\"id\":\"1014\",\"type\":\"WheelZoomTool\"},{\"attributes\":{\"overlay\":{\"id\":\"1033\",\"type\":\"BoxAnnotation\"}},\"id\":\"1015\",\"type\":\"BoxZoomTool\"},{\"attributes\":{},\"id\":\"1009\",\"type\":\"LinearScale\"},{\"attributes\":{},\"id\":\"1016\",\"type\":\"ResetTool\"},{\"attributes\":{\"callback\":null,\"tooltips\":[[\"word\",\"@words\"]]},\"id\":\"1017\",\"type\":\"HoverTool\"},{\"attributes\":{\"fill_color\":{\"value\":\"#1f77b4\"},\"line_color\":{\"value\":\"#1f77b4\"},\"x\":{\"field\":\"x\"},\"y\":{\"field\":\"y\"}},\"id\":\"1028\",\"type\":\"Scatter\"},{\"attributes\":{\"fill_alpha\":{\"value\":0.1},\"fill_color\":{\"value\":\"#1f77b4\"},\"line_alpha\":{\"value\":0.1},\"line_color\":{\"value\":\"#1f77b4\"},\"x\":{\"field\":\"x\"},\"y\":{\"field\":\"y\"}},\"id\":\"1029\",\"type\":\"Scatter\"},{\"attributes\":{\"callback\":null},\"id\":\"1005\",\"type\":\"DataRange1d\"},{\"attributes\":{},\"id\":\"1018\",\"type\":\"SaveTool\"},{\"attributes\":{\"callback\":null},\"id\":\"1007\",\"type\":\"DataRange1d\"},{\"attributes\":{},\"id\":\"1034\",\"type\":\"UnionRenderers\"},{\"attributes\":{\"text\":\"A map of 10000 word vectors\"},\"id\":\"1003\",\"type\":\"Title\"},{\"attributes\":{\"data_source\":{\"id\":\"1026\",\"type\":\"ColumnDataSource\"},\"glyph\":{\"id\":\"1028\",\"type\":\"Scatter\"},\"hover_glyph\":null,\"muted_glyph\":null,\"nonselection_glyph\":{\"id\":\"1029\",\"type\":\"Scatter\"},\"selection_glyph\":null,\"view\":{\"id\":\"1031\",\"type\":\"CDSView\"}},\"id\":\"1030\",\"type\":\"GlyphRenderer\"},{\"attributes\":{},\"id\":\"1011\",\"type\":\"LinearScale\"}],\"root_ids\":[\"1002\"]},\"title\":\"Bokeh Application\",\"version\":\"1.4.0\"}};\n  var render_items = [{\"docid\":\"3ad18660-e9c7-4a26-8ffd-49f5683ff7f7\",\"roots\":{\"1002\":\"76f0ec8e-249f-48a1-8fb2-59e01f339f79\"}}];\n  root.Bokeh.embed.embed_items_notebook(docs_json, render_items);\n\n  }\n  if (root.Bokeh !== undefined) {\n    embed_document(root);\n  } else {\n    var attempts = 0;\n    var timer = setInterval(function(root) {\n      if (root.Bokeh !== undefined) {\n        clearInterval(timer);\n        embed_document(root);\n      } else {\n        attempts++;\n        if (attempts > 100) {\n          clearInterval(timer);\n          console.log(\"Bokeh: ERROR: Unable to run BokehJS code because BokehJS library is missing\");\n        }\n      }\n    }, 10, root)\n  }\n})(window);"
     },
     "metadata": {
      "application/vnd.bokehjs_exec.v0+json": {
       "id": "1002"
      }
     }
    }
   ],
   "metadata": {}
  },
  {
   "cell_type": "code",
   "execution_count": 11,
   "source": [
    "#First defining the X (input), and the y (output)\n",
    "y = df['label'].values\n",
    "X = np.array(df_clean[\"tokens\"])\n",
    "\n",
    "#And here is the train_test_split\n",
    "X_train, X_test, y_train, y_test = train_test_split(X, y, test_size = 0.2, random_state = 0)"
   ],
   "outputs": [],
   "metadata": {}
  },
  {
   "cell_type": "code",
   "execution_count": 12,
   "source": [
    "vectorizer = TfidfVectorizer(analyzer=lambda x: x, min_df=10)\n",
    "matrix = vectorizer.fit_transform([x for x in X_train])\n",
    "tfidf = dict(zip(vectorizer.get_feature_names(), vectorizer.idf_))\n",
    "print ('vocab size :', len(tfidf))"
   ],
   "outputs": [
    {
     "output_type": "stream",
     "name": "stdout",
     "text": [
      "vocab size : 2964\n"
     ]
    }
   ],
   "metadata": {}
  },
  {
   "cell_type": "code",
   "execution_count": 13,
   "source": [
    "def buildWordVector(tokens, size):\n",
    "    vec = np.zeros(size).reshape((1, size))\n",
    "    count = 0.\n",
    "    for word in tokens:\n",
    "        try:\n",
    "            vec += w2v_model[word].reshape((1, size)) * tfidf[word]\n",
    "            count += 1.\n",
    "        except KeyError: # handling the case where the token is not\n",
    "                         # in the corpus. useful for testing.\n",
    "            continue\n",
    "    if count != 0:\n",
    "        vec /= count\n",
    "    return vec"
   ],
   "outputs": [],
   "metadata": {}
  },
  {
   "cell_type": "code",
   "execution_count": 14,
   "source": [
    "train_vecs_w2v = np.concatenate([buildWordVector(z, 300) for z in map(lambda x: x, X_train)])\n",
    "train_vecs_w2v = scale(train_vecs_w2v)\n",
    "\n",
    "test_vecs_w2v = np.concatenate([buildWordVector(z, 300) for z in map(lambda x: x, X_test)])\n",
    "test_vecs_w2v = scale(test_vecs_w2v)\n",
    "\n",
    "print ('shape for training set : ',train_vecs_w2v.shape,'\\nshape for test set : ', test_vecs_w2v.shape)"
   ],
   "outputs": [
    {
     "output_type": "stream",
     "name": "stdout",
     "text": [
      "shape for training set :  (25569, 300) \n",
      "shape for test set :  (6393, 300)\n"
     ]
    }
   ],
   "metadata": {}
  },
  {
   "cell_type": "code",
   "execution_count": 15,
   "source": [
    "model = Sequential()\n",
    "\n",
    "model.add(Dense(128, activation='relu', input_dim=300))\n",
    "model.add(Dropout(0.7))\n",
    "model.add(Dense(1, activation='sigmoid'))\n",
    "model.compile(optimizer='adadelta',\n",
    "              loss='binary_crossentropy',\n",
    "              metrics=['accuracy'])\n",
    "model.summary()"
   ],
   "outputs": [
    {
     "output_type": "stream",
     "name": "stdout",
     "text": [
      "Model: \"sequential\"\n",
      "_________________________________________________________________\n",
      "Layer (type)                 Output Shape              Param #   \n",
      "=================================================================\n",
      "dense (Dense)                (None, 128)               38528     \n",
      "_________________________________________________________________\n",
      "dropout (Dropout)            (None, 128)               0         \n",
      "_________________________________________________________________\n",
      "dense_1 (Dense)              (None, 1)                 129       \n",
      "=================================================================\n",
      "Total params: 38,657\n",
      "Trainable params: 38,657\n",
      "Non-trainable params: 0\n",
      "_________________________________________________________________\n"
     ]
    }
   ],
   "metadata": {}
  },
  {
   "cell_type": "code",
   "execution_count": 16,
   "source": [
    "history = model.fit(train_vecs_w2v, y_train, epochs=20, batch_size=50,validation_data=(test_vecs_w2v,y_test))\n",
    "loss, accuracy = model.evaluate(train_vecs_w2v, y_train, verbose=False)\n",
    "print(\"Training Accuracy: {:.4f}\".format(accuracy))\n",
    "loss, accuracy = model.evaluate(test_vecs_w2v, y_test, verbose=False)\n",
    "print(\"Testing Accuracy:  {:.4f}\".format(accuracy))"
   ],
   "outputs": [
    {
     "output_type": "stream",
     "name": "stdout",
     "text": [
      "Epoch 1/20\n",
      "512/512 [==============================] - 1s 2ms/step - loss: 0.7627 - accuracy: 0.6338 - val_loss: 0.5198 - val_accuracy: 0.7813\n",
      "Epoch 2/20\n",
      "512/512 [==============================] - 1s 2ms/step - loss: 0.7582 - accuracy: 0.6351 - val_loss: 0.5086 - val_accuracy: 0.7935\n",
      "Epoch 3/20\n",
      "512/512 [==============================] - 1s 2ms/step - loss: 0.7377 - accuracy: 0.6452 - val_loss: 0.4976 - val_accuracy: 0.8034\n",
      "Epoch 4/20\n",
      "512/512 [==============================] - 1s 1ms/step - loss: 0.7283 - accuracy: 0.6498 - val_loss: 0.4872 - val_accuracy: 0.8123\n",
      "Epoch 5/20\n",
      "512/512 [==============================] - 1s 1ms/step - loss: 0.7094 - accuracy: 0.6625 - val_loss: 0.4770 - val_accuracy: 0.8226\n",
      "Epoch 6/20\n",
      "512/512 [==============================] - 1s 1ms/step - loss: 0.6950 - accuracy: 0.6689 - val_loss: 0.4673 - val_accuracy: 0.8337\n",
      "Epoch 7/20\n",
      "512/512 [==============================] - 1s 1ms/step - loss: 0.6908 - accuracy: 0.6762 - val_loss: 0.4578 - val_accuracy: 0.8425\n",
      "Epoch 8/20\n",
      "512/512 [==============================] - 1s 1ms/step - loss: 0.6827 - accuracy: 0.6800 - val_loss: 0.4488 - val_accuracy: 0.8550\n",
      "Epoch 9/20\n",
      "512/512 [==============================] - 1s 1ms/step - loss: 0.6658 - accuracy: 0.6860 - val_loss: 0.4401 - val_accuracy: 0.8628\n",
      "Epoch 10/20\n",
      "512/512 [==============================] - 1s 1ms/step - loss: 0.6575 - accuracy: 0.6906 - val_loss: 0.4316 - val_accuracy: 0.8688\n",
      "Epoch 11/20\n",
      "512/512 [==============================] - 1s 1ms/step - loss: 0.6488 - accuracy: 0.6999 - val_loss: 0.4236 - val_accuracy: 0.8747\n",
      "Epoch 12/20\n",
      "512/512 [==============================] - 1s 1ms/step - loss: 0.6450 - accuracy: 0.7025 - val_loss: 0.4159 - val_accuracy: 0.8808\n",
      "Epoch 13/20\n",
      "512/512 [==============================] - 1s 1ms/step - loss: 0.6267 - accuracy: 0.7137 - val_loss: 0.4085 - val_accuracy: 0.8861\n",
      "Epoch 14/20\n",
      "512/512 [==============================] - 1s 1ms/step - loss: 0.6181 - accuracy: 0.7111 - val_loss: 0.4013 - val_accuracy: 0.8907\n",
      "Epoch 15/20\n",
      "512/512 [==============================] - 1s 1ms/step - loss: 0.6005 - accuracy: 0.7271 - val_loss: 0.3944 - val_accuracy: 0.8949\n",
      "Epoch 16/20\n",
      "512/512 [==============================] - 1s 1ms/step - loss: 0.6021 - accuracy: 0.7252 - val_loss: 0.3877 - val_accuracy: 0.8974\n",
      "Epoch 17/20\n",
      "512/512 [==============================] - 1s 1ms/step - loss: 0.5962 - accuracy: 0.7300 - val_loss: 0.3814 - val_accuracy: 0.9002\n",
      "Epoch 18/20\n",
      "512/512 [==============================] - 1s 1ms/step - loss: 0.5886 - accuracy: 0.7365 - val_loss: 0.3752 - val_accuracy: 0.9040\n",
      "Epoch 19/20\n",
      "512/512 [==============================] - 1s 1ms/step - loss: 0.5793 - accuracy: 0.7411 - val_loss: 0.3692 - val_accuracy: 0.9069\n",
      "Epoch 20/20\n",
      "512/512 [==============================] - 1s 1ms/step - loss: 0.5642 - accuracy: 0.7525 - val_loss: 0.3635 - val_accuracy: 0.9093\n",
      "Training Accuracy: 0.9027\n",
      "Testing Accuracy:  0.9093\n"
     ]
    }
   ],
   "metadata": {}
  },
  {
   "cell_type": "code",
   "execution_count": 18,
   "source": [
    "def plot_history(history):\n",
    "    acc = history.history['acc']\n",
    "    val_acc = history.history['val_acc']\n",
    "    loss = history.history['loss']\n",
    "    val_loss = history.history['val_loss']\n",
    "    x = range(1, len(acc) + 1)\n",
    "\n",
    "    plt.figure(figsize=(12, 5))\n",
    "    plt.subplot(1, 2, 1)\n",
    "    plt.plot(x, acc, 'b', label='Training acc')\n",
    "    plt.plot(x, val_acc, 'r', label='Validation acc')\n",
    "    plt.title('Training and validation accuracy')\n",
    "    plt.legend()\n",
    "    plt.subplot(1, 2, 2)\n",
    "    plt.plot(x, loss, 'b', label='Training loss')\n",
    "    plt.plot(x, val_loss, 'r', label='Validation loss')\n",
    "    plt.title('Training and validation loss')\n",
    "    plt.legend()\n",
    "#plot_history(history)"
   ],
   "outputs": [],
   "metadata": {}
  },
  {
   "cell_type": "code",
   "execution_count": 58,
   "source": [
    "all_words = [word for tokens in X for word in tokens]\n",
    "all_sentence_lengths = [len(tokens) for tokens in X]\n",
    "ALL_VOCAB = sorted(list(set(all_words)))\n",
    "print(\"%s words total, with a vocabulary size of %s\" % (len(all_words), len(ALL_VOCAB)))\n",
    "print(\"Max sentence length is %s\" % max(all_sentence_lengths))\n",
    "\n",
    "\n",
    "####################### CHANGE THE PARAMETERS HERE #####################################\n",
    "EMBEDDING_DIM = 300 # how big is each word vector\n",
    "MAX_VOCAB_SIZE = 2964# how many unique words to use (i.e num rows in embedding vector)\n",
    "MAX_SEQUENCE_LENGTH = 53 # max number of words in a comment to use"
   ],
   "outputs": [
    {
     "output_type": "stream",
     "name": "stdout",
     "text": [
      "443676 words total, with a vocabulary size of 41490\n",
      "Max sentence length is 59\n"
     ]
    }
   ],
   "metadata": {}
  },
  {
   "cell_type": "code",
   "execution_count": 20,
   "source": [
    "model.save('model.h5')"
   ],
   "outputs": [],
   "metadata": {}
  },
  {
   "cell_type": "markdown",
   "source": [
    "**Import Test CSV and make predictions**"
   ],
   "metadata": {}
  },
  {
   "cell_type": "code",
   "execution_count": 21,
   "source": [
    "test_df = pd.read_csv('test.csv')\n",
    "del(test_df['id'])\n",
    "test_df"
   ],
   "outputs": [
    {
     "output_type": "execute_result",
     "data": {
      "text/plain": [
       "                                                   tweet\n",
       "0      #studiolife #aislife #requires #passion #dedic...\n",
       "1       @user #white #supremacists want everyone to s...\n",
       "2      safe ways to heal your #acne!!    #altwaystohe...\n",
       "3      is the hp and the cursed child book up for res...\n",
       "4        3rd #bihday to my amazing, hilarious #nephew...\n",
       "...                                                  ...\n",
       "17192  thought factory: left-right polarisation! #tru...\n",
       "17193  feeling like a mermaid ð #hairflip #neverre...\n",
       "17194  #hillary #campaigned today in #ohio((omg)) &am...\n",
       "17195  happy, at work conference: right mindset leads...\n",
       "17196  my   song \"so glad\" free download!  #shoegaze ...\n",
       "\n",
       "[17197 rows x 1 columns]"
      ],
      "text/html": [
       "<div>\n",
       "<style scoped>\n",
       "    .dataframe tbody tr th:only-of-type {\n",
       "        vertical-align: middle;\n",
       "    }\n",
       "\n",
       "    .dataframe tbody tr th {\n",
       "        vertical-align: top;\n",
       "    }\n",
       "\n",
       "    .dataframe thead th {\n",
       "        text-align: right;\n",
       "    }\n",
       "</style>\n",
       "<table border=\"1\" class=\"dataframe\">\n",
       "  <thead>\n",
       "    <tr style=\"text-align: right;\">\n",
       "      <th></th>\n",
       "      <th>tweet</th>\n",
       "    </tr>\n",
       "  </thead>\n",
       "  <tbody>\n",
       "    <tr>\n",
       "      <th>0</th>\n",
       "      <td>#studiolife #aislife #requires #passion #dedic...</td>\n",
       "    </tr>\n",
       "    <tr>\n",
       "      <th>1</th>\n",
       "      <td>@user #white #supremacists want everyone to s...</td>\n",
       "    </tr>\n",
       "    <tr>\n",
       "      <th>2</th>\n",
       "      <td>safe ways to heal your #acne!!    #altwaystohe...</td>\n",
       "    </tr>\n",
       "    <tr>\n",
       "      <th>3</th>\n",
       "      <td>is the hp and the cursed child book up for res...</td>\n",
       "    </tr>\n",
       "    <tr>\n",
       "      <th>4</th>\n",
       "      <td>3rd #bihday to my amazing, hilarious #nephew...</td>\n",
       "    </tr>\n",
       "    <tr>\n",
       "      <th>...</th>\n",
       "      <td>...</td>\n",
       "    </tr>\n",
       "    <tr>\n",
       "      <th>17192</th>\n",
       "      <td>thought factory: left-right polarisation! #tru...</td>\n",
       "    </tr>\n",
       "    <tr>\n",
       "      <th>17193</th>\n",
       "      <td>feeling like a mermaid ð #hairflip #neverre...</td>\n",
       "    </tr>\n",
       "    <tr>\n",
       "      <th>17194</th>\n",
       "      <td>#hillary #campaigned today in #ohio((omg)) &amp;am...</td>\n",
       "    </tr>\n",
       "    <tr>\n",
       "      <th>17195</th>\n",
       "      <td>happy, at work conference: right mindset leads...</td>\n",
       "    </tr>\n",
       "    <tr>\n",
       "      <th>17196</th>\n",
       "      <td>my   song \"so glad\" free download!  #shoegaze ...</td>\n",
       "    </tr>\n",
       "  </tbody>\n",
       "</table>\n",
       "<p>17197 rows × 1 columns</p>\n",
       "</div>"
      ]
     },
     "metadata": {},
     "execution_count": 21
    }
   ],
   "metadata": {}
  },
  {
   "cell_type": "code",
   "execution_count": 26,
   "source": [
    "t = time()\n",
    "\n",
    "test_df['clean'] = test_df['tweet'].astype('str') \n",
    "test_df.dtypes\n",
    "\n",
    "test_df[\"tokens\"] = test_df[\"clean\"].apply(tokenizer.tokenize)\n",
    "# delete Stop Words\n",
    "\n",
    "print('Time to tokenize test cases: {} mins'.format(round((time() - t) / 60, 2)))\n",
    "test_df.head()"
   ],
   "outputs": [
    {
     "output_type": "stream",
     "name": "stdout",
     "text": [
      "Time to tokenize test cases: 0.0 mins\n"
     ]
    },
    {
     "output_type": "execute_result",
     "data": {
      "text/plain": [
       "                                               tweet  \\\n",
       "0  #studiolife #aislife #requires #passion #dedic...   \n",
       "1   @user #white #supremacists want everyone to s...   \n",
       "2  safe ways to heal your #acne!!    #altwaystohe...   \n",
       "3  is the hp and the cursed child book up for res...   \n",
       "4    3rd #bihday to my amazing, hilarious #nephew...   \n",
       "\n",
       "                                               clean  \\\n",
       "0  #studiolife #aislife #requires #passion #dedic...   \n",
       "1   @user #white #supremacists want everyone to s...   \n",
       "2  safe ways to heal your #acne!!    #altwaystohe...   \n",
       "3  is the hp and the cursed child book up for res...   \n",
       "4    3rd #bihday to my amazing, hilarious #nephew...   \n",
       "\n",
       "                                              tokens  \n",
       "0  [studiolife, aislife, requires, passion, dedic...  \n",
       "1  [user, white, supremacists, want, everyone, to...  \n",
       "2  [safe, ways, to, heal, your, acne, altwaystohe...  \n",
       "3  [is, the, hp, and, the, cursed, child, book, u...  \n",
       "4  [3rd, bihday, to, my, amazing, hilarious, neph...  "
      ],
      "text/html": [
       "<div>\n",
       "<style scoped>\n",
       "    .dataframe tbody tr th:only-of-type {\n",
       "        vertical-align: middle;\n",
       "    }\n",
       "\n",
       "    .dataframe tbody tr th {\n",
       "        vertical-align: top;\n",
       "    }\n",
       "\n",
       "    .dataframe thead th {\n",
       "        text-align: right;\n",
       "    }\n",
       "</style>\n",
       "<table border=\"1\" class=\"dataframe\">\n",
       "  <thead>\n",
       "    <tr style=\"text-align: right;\">\n",
       "      <th></th>\n",
       "      <th>tweet</th>\n",
       "      <th>clean</th>\n",
       "      <th>tokens</th>\n",
       "    </tr>\n",
       "  </thead>\n",
       "  <tbody>\n",
       "    <tr>\n",
       "      <th>0</th>\n",
       "      <td>#studiolife #aislife #requires #passion #dedic...</td>\n",
       "      <td>#studiolife #aislife #requires #passion #dedic...</td>\n",
       "      <td>[studiolife, aislife, requires, passion, dedic...</td>\n",
       "    </tr>\n",
       "    <tr>\n",
       "      <th>1</th>\n",
       "      <td>@user #white #supremacists want everyone to s...</td>\n",
       "      <td>@user #white #supremacists want everyone to s...</td>\n",
       "      <td>[user, white, supremacists, want, everyone, to...</td>\n",
       "    </tr>\n",
       "    <tr>\n",
       "      <th>2</th>\n",
       "      <td>safe ways to heal your #acne!!    #altwaystohe...</td>\n",
       "      <td>safe ways to heal your #acne!!    #altwaystohe...</td>\n",
       "      <td>[safe, ways, to, heal, your, acne, altwaystohe...</td>\n",
       "    </tr>\n",
       "    <tr>\n",
       "      <th>3</th>\n",
       "      <td>is the hp and the cursed child book up for res...</td>\n",
       "      <td>is the hp and the cursed child book up for res...</td>\n",
       "      <td>[is, the, hp, and, the, cursed, child, book, u...</td>\n",
       "    </tr>\n",
       "    <tr>\n",
       "      <th>4</th>\n",
       "      <td>3rd #bihday to my amazing, hilarious #nephew...</td>\n",
       "      <td>3rd #bihday to my amazing, hilarious #nephew...</td>\n",
       "      <td>[3rd, bihday, to, my, amazing, hilarious, neph...</td>\n",
       "    </tr>\n",
       "  </tbody>\n",
       "</table>\n",
       "</div>"
      ]
     },
     "metadata": {},
     "execution_count": 26
    }
   ],
   "metadata": {}
  },
  {
   "cell_type": "code",
   "execution_count": 29,
   "source": [
    "test_df_X = np.array(test_df[\"tokens\"])"
   ],
   "outputs": [],
   "metadata": {}
  },
  {
   "cell_type": "code",
   "execution_count": 35,
   "source": [
    "test_df_vecs_w2v = np.concatenate([buildWordVector(z, 300) for z in map(lambda x: x, test_df_X)])\n",
    "test_df_vecs_w2v = scale(test_df_vecs_w2v)"
   ],
   "outputs": [],
   "metadata": {}
  },
  {
   "cell_type": "code",
   "execution_count": 41,
   "source": [
    "temp = test_df_vecs_w2v[0]"
   ],
   "outputs": [],
   "metadata": {}
  },
  {
   "cell_type": "code",
   "execution_count": null,
   "source": [
    "print ('shape for training set : ',train_vecs_w2v.shape,'\\nshape for test set : ', test_vecs_w2v.shape, '\\nshape for test df set : ', test_df_vecs_w2v.shape)"
   ],
   "outputs": [],
   "metadata": {}
  },
  {
   "cell_type": "code",
   "execution_count": 43,
   "source": [
    "#model.predict(temp)"
   ],
   "outputs": [],
   "metadata": {}
  }
 ]
}