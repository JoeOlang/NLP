{
 "metadata": {
  "language_info": {
   "codemirror_mode": {
    "name": "ipython",
    "version": 3
   },
   "file_extension": ".py",
   "mimetype": "text/x-python",
   "name": "python",
   "nbconvert_exporter": "python",
   "pygments_lexer": "ipython3",
   "version": "3.7.4"
  },
  "orig_nbformat": 4,
  "kernelspec": {
   "name": "python3",
   "display_name": "Python 3.7.4 64-bit ('3.7')"
  },
  "interpreter": {
   "hash": "e534e48711db4d1e1c48977d0d14ff85b1f16d41bcc4fdfd88268a329b3c9d66"
  }
 },
 "nbformat": 4,
 "nbformat_minor": 2,
 "cells": [
  {
   "cell_type": "code",
   "execution_count": 1,
   "metadata": {},
   "outputs": [],
   "source": [
    "# https://www.kaggle.com/vkrahul/twitter-hate-speech"
   ]
  },
  {
   "cell_type": "code",
   "execution_count": 53,
   "metadata": {},
   "outputs": [],
   "source": [
    "import pandas as pd\n",
    "import os\n",
    "import re\n",
    "import spacy\n",
    "from gensim.models.phrases import Phrases, Phraser\n",
    "from time import time \n",
    "import multiprocessing\n",
    "from gensim.models import Word2Vec\n",
    "import bokeh.plotting as bp\n",
    "from bokeh.models import HoverTool, BoxSelectTool\n",
    "from bokeh.plotting import figure, show, output_notebook\n",
    "from sklearn.manifold import TSNE\n",
    "from sklearn.model_selection import train_test_split\n",
    "import numpy as np\n",
    "from sklearn.preprocessing import scale\n",
    "import keras \n",
    "from tensorflow.keras.models import Sequential, Model \n",
    "from tensorflow.keras import layers\n",
    "from tensorflow.keras.layers import Dense, Conv1D, MaxPooling1D, Flatten, Dropout, Input, Embedding\n",
    "from keras.layers.merge import Concatenate\n",
    "from sklearn.feature_extraction.text import TfidfVectorizer\n",
    "from wordcloud import WordCloud\n",
    "from nltk.tokenize import RegexpTokenizer\n",
    "from sklearn.metrics import confusion_matrix\n",
    "import matplotlib as plt"
   ]
  },
  {
   "cell_type": "code",
   "execution_count": 33,
   "metadata": {},
   "outputs": [],
   "source": [
    "df = pd.read_csv('train.csv')\n",
    "del(df['id'])"
   ]
  },
  {
   "cell_type": "code",
   "execution_count": 35,
   "metadata": {},
   "outputs": [
    {
     "output_type": "stream",
     "name": "stdout",
     "text": [
      "Time to tokenize everything: 0.0 mins\n"
     ]
    },
    {
     "output_type": "execute_result",
     "data": {
      "text/plain": [
       "   label                                              tweet  \\\n",
       "0      0   @user when a father is dysfunctional and is s...   \n",
       "1      0  @user @user thanks for #lyft credit i can't us...   \n",
       "2      0                                bihday your majesty   \n",
       "3      0  #model   i love u take with u all the time in ...   \n",
       "4      0             factsguide: society now    #motivation   \n",
       "\n",
       "                                               clean  \\\n",
       "0   @user when a father is dysfunctional and is s...   \n",
       "1  @user @user thanks for #lyft credit i can't us...   \n",
       "2                                bihday your majesty   \n",
       "3  #model   i love u take with u all the time in ...   \n",
       "4             factsguide: society now    #motivation   \n",
       "\n",
       "                                              tokens  \n",
       "0  [user, when, a, father, is, dysfunctional, and...  \n",
       "1  [user, user, thanks, for, lyft, credit, i, can...  \n",
       "2                            [bihday, your, majesty]  \n",
       "3  [model, i, love, u, take, with, u, all, the, t...  \n",
       "4             [factsguide, society, now, motivation]  "
      ],
      "text/html": "<div>\n<style scoped>\n    .dataframe tbody tr th:only-of-type {\n        vertical-align: middle;\n    }\n\n    .dataframe tbody tr th {\n        vertical-align: top;\n    }\n\n    .dataframe thead th {\n        text-align: right;\n    }\n</style>\n<table border=\"1\" class=\"dataframe\">\n  <thead>\n    <tr style=\"text-align: right;\">\n      <th></th>\n      <th>label</th>\n      <th>tweet</th>\n      <th>clean</th>\n      <th>tokens</th>\n    </tr>\n  </thead>\n  <tbody>\n    <tr>\n      <th>0</th>\n      <td>0</td>\n      <td>@user when a father is dysfunctional and is s...</td>\n      <td>@user when a father is dysfunctional and is s...</td>\n      <td>[user, when, a, father, is, dysfunctional, and...</td>\n    </tr>\n    <tr>\n      <th>1</th>\n      <td>0</td>\n      <td>@user @user thanks for #lyft credit i can't us...</td>\n      <td>@user @user thanks for #lyft credit i can't us...</td>\n      <td>[user, user, thanks, for, lyft, credit, i, can...</td>\n    </tr>\n    <tr>\n      <th>2</th>\n      <td>0</td>\n      <td>bihday your majesty</td>\n      <td>bihday your majesty</td>\n      <td>[bihday, your, majesty]</td>\n    </tr>\n    <tr>\n      <th>3</th>\n      <td>0</td>\n      <td>#model   i love u take with u all the time in ...</td>\n      <td>#model   i love u take with u all the time in ...</td>\n      <td>[model, i, love, u, take, with, u, all, the, t...</td>\n    </tr>\n    <tr>\n      <th>4</th>\n      <td>0</td>\n      <td>factsguide: society now    #motivation</td>\n      <td>factsguide: society now    #motivation</td>\n      <td>[factsguide, society, now, motivation]</td>\n    </tr>\n  </tbody>\n</table>\n</div>"
     },
     "metadata": {},
     "execution_count": 35
    }
   ],
   "source": [
    "df_clean = df\n",
    "from nltk.tokenize import RegexpTokenizer\n",
    "t = time()\n",
    "\n",
    "\n",
    "tokenizer = RegexpTokenizer(r'\\w+')\n",
    "df_clean['clean'] = df_clean['tweet'].astype('str') \n",
    "df_clean.dtypes\n",
    "\n",
    "df_clean[\"tokens\"] = df_clean[\"clean\"].apply(tokenizer.tokenize)\n",
    "# delete Stop Words\n",
    "\n",
    "print('Time to tokenize everything: {} mins'.format(round((time() - t) / 60, 2)))\n",
    "df_clean.head()"
   ]
  },
  {
   "cell_type": "code",
   "execution_count": 37,
   "metadata": {},
   "outputs": [],
   "source": [
    "import gensim\n",
    "w2v_model = gensim.models.KeyedVectors.load_word2vec_format('/Users/0x23/Desktop/*/Projects/GoogleNews-vectors-negative300.bin', binary = True)\n"
   ]
  },
  {
   "cell_type": "code",
   "execution_count": 38,
   "metadata": {},
   "outputs": [
    {
     "output_type": "stream",
     "name": "stdout",
     "text": [
      "Time to build vocab: 0.01 mins\n",
      "Time to train the model: 36.08 mins\n"
     ]
    }
   ],
   "source": [
    "#WORD2VEC()\n",
    "cores = multiprocessing.cpu_count() # Count the number of cores in a computer, important for a parameter of the model\n",
    "w2v_model = Word2Vec(min_count=20,\n",
    "                     window=2,\n",
    "                     size=300,\n",
    "                     sample=6e-5, \n",
    "                     alpha=0.03, \n",
    "                     min_alpha=0.0007, \n",
    "                     negative=20,\n",
    "                     workers=cores-1)\n",
    "\n",
    "#BUILD_VOCAB()\n",
    "t = time()\n",
    "w2v_model.build_vocab(df_clean[\"tokens\"], progress_per=1000)\n",
    "print('Time to build vocab: {} mins'.format(round((time() - t) / 60, 2)))\n",
    "\n",
    "#TRAIN()\n",
    "w2v_model.train(df_clean[\"tokens\"], total_examples=w2v_model.corpus_count, epochs=10000, report_delay=1)\n",
    "print('Time to train the model: {} mins'.format(round((time() - t) / 60, 2)))"
   ]
  },
  {
   "cell_type": "code",
   "execution_count": 42,
   "metadata": {},
   "outputs": [
    {
     "output_type": "execute_result",
     "data": {
      "text/plain": [
       "[('great', 0.27397453784942627),\n",
       " ('morning', 0.23787921667099),\n",
       " ('nice', 0.20033378899097443),\n",
       " ('wednesday', 0.19090279936790466),\n",
       " ('sad', 0.1897774487733841),\n",
       " ('worse', 0.1849452406167984),\n",
       " ('like', 0.18481267988681793),\n",
       " ('bad', 0.1712118536233902),\n",
       " ('bing', 0.16550961136817932),\n",
       " ('big', 0.1623874306678772)]"
      ]
     },
     "metadata": {},
     "execution_count": 42
    }
   ],
   "source": [
    "#words similar to movie\n",
    "w2v_model.wv.most_similar(positive=[\"movie\"])\n",
    "\n",
    "#words similar to good\n",
    "w2v_model.wv.most_similar(positive=[\"good\"])"
   ]
  },
  {
   "cell_type": "code",
   "execution_count": 43,
   "metadata": {},
   "outputs": [
    {
     "output_type": "display_data",
     "data": {
      "text/html": "\n    <div class=\"bk-root\">\n        <a href=\"https://bokeh.org\" target=\"_blank\" class=\"bk-logo bk-logo-small bk-logo-notebook\"></a>\n        <span id=\"1001\">Loading BokehJS ...</span>\n    </div>"
     },
     "metadata": {}
    },
    {
     "output_type": "display_data",
     "data": {
      "application/javascript": "\n(function(root) {\n  function now() {\n    return new Date();\n  }\n\n  var force = true;\n\n  if (typeof root._bokeh_onload_callbacks === \"undefined\" || force === true) {\n    root._bokeh_onload_callbacks = [];\n    root._bokeh_is_loading = undefined;\n  }\n\n  var JS_MIME_TYPE = 'application/javascript';\n  var HTML_MIME_TYPE = 'text/html';\n  var EXEC_MIME_TYPE = 'application/vnd.bokehjs_exec.v0+json';\n  var CLASS_NAME = 'output_bokeh rendered_html';\n\n  /**\n   * Render data to the DOM node\n   */\n  function render(props, node) {\n    var script = document.createElement(\"script\");\n    node.appendChild(script);\n  }\n\n  /**\n   * Handle when an output is cleared or removed\n   */\n  function handleClearOutput(event, handle) {\n    var cell = handle.cell;\n\n    var id = cell.output_area._bokeh_element_id;\n    var server_id = cell.output_area._bokeh_server_id;\n    // Clean up Bokeh references\n    if (id != null && id in Bokeh.index) {\n      Bokeh.index[id].model.document.clear();\n      delete Bokeh.index[id];\n    }\n\n    if (server_id !== undefined) {\n      // Clean up Bokeh references\n      var cmd = \"from bokeh.io.state import curstate; print(curstate().uuid_to_server['\" + server_id + \"'].get_sessions()[0].document.roots[0]._id)\";\n      cell.notebook.kernel.execute(cmd, {\n        iopub: {\n          output: function(msg) {\n            var id = msg.content.text.trim();\n            if (id in Bokeh.index) {\n              Bokeh.index[id].model.document.clear();\n              delete Bokeh.index[id];\n            }\n          }\n        }\n      });\n      // Destroy server and session\n      var cmd = \"import bokeh.io.notebook as ion; ion.destroy_server('\" + server_id + \"')\";\n      cell.notebook.kernel.execute(cmd);\n    }\n  }\n\n  /**\n   * Handle when a new output is added\n   */\n  function handleAddOutput(event, handle) {\n    var output_area = handle.output_area;\n    var output = handle.output;\n\n    // limit handleAddOutput to display_data with EXEC_MIME_TYPE content only\n    if ((output.output_type != \"display_data\") || (!output.data.hasOwnProperty(EXEC_MIME_TYPE))) {\n      return\n    }\n\n    var toinsert = output_area.element.find(\".\" + CLASS_NAME.split(' ')[0]);\n\n    if (output.metadata[EXEC_MIME_TYPE][\"id\"] !== undefined) {\n      toinsert[toinsert.length - 1].firstChild.textContent = output.data[JS_MIME_TYPE];\n      // store reference to embed id on output_area\n      output_area._bokeh_element_id = output.metadata[EXEC_MIME_TYPE][\"id\"];\n    }\n    if (output.metadata[EXEC_MIME_TYPE][\"server_id\"] !== undefined) {\n      var bk_div = document.createElement(\"div\");\n      bk_div.innerHTML = output.data[HTML_MIME_TYPE];\n      var script_attrs = bk_div.children[0].attributes;\n      for (var i = 0; i < script_attrs.length; i++) {\n        toinsert[toinsert.length - 1].firstChild.setAttribute(script_attrs[i].name, script_attrs[i].value);\n      }\n      // store reference to server id on output_area\n      output_area._bokeh_server_id = output.metadata[EXEC_MIME_TYPE][\"server_id\"];\n    }\n  }\n\n  function register_renderer(events, OutputArea) {\n\n    function append_mime(data, metadata, element) {\n      // create a DOM node to render to\n      var toinsert = this.create_output_subarea(\n        metadata,\n        CLASS_NAME,\n        EXEC_MIME_TYPE\n      );\n      this.keyboard_manager.register_events(toinsert);\n      // Render to node\n      var props = {data: data, metadata: metadata[EXEC_MIME_TYPE]};\n      render(props, toinsert[toinsert.length - 1]);\n      element.append(toinsert);\n      return toinsert\n    }\n\n    /* Handle when an output is cleared or removed */\n    events.on('clear_output.CodeCell', handleClearOutput);\n    events.on('delete.Cell', handleClearOutput);\n\n    /* Handle when a new output is added */\n    events.on('output_added.OutputArea', handleAddOutput);\n\n    /**\n     * Register the mime type and append_mime function with output_area\n     */\n    OutputArea.prototype.register_mime_type(EXEC_MIME_TYPE, append_mime, {\n      /* Is output safe? */\n      safe: true,\n      /* Index of renderer in `output_area.display_order` */\n      index: 0\n    });\n  }\n\n  // register the mime type if in Jupyter Notebook environment and previously unregistered\n  if (root.Jupyter !== undefined) {\n    var events = require('base/js/events');\n    var OutputArea = require('notebook/js/outputarea').OutputArea;\n\n    if (OutputArea.prototype.mime_types().indexOf(EXEC_MIME_TYPE) == -1) {\n      register_renderer(events, OutputArea);\n    }\n  }\n\n  \n  if (typeof (root._bokeh_timeout) === \"undefined\" || force === true) {\n    root._bokeh_timeout = Date.now() + 5000;\n    root._bokeh_failed_load = false;\n  }\n\n  var NB_LOAD_WARNING = {'data': {'text/html':\n     \"<div style='background-color: #fdd'>\\n\"+\n     \"<p>\\n\"+\n     \"BokehJS does not appear to have successfully loaded. If loading BokehJS from CDN, this \\n\"+\n     \"may be due to a slow or bad network connection. Possible fixes:\\n\"+\n     \"</p>\\n\"+\n     \"<ul>\\n\"+\n     \"<li>re-rerun `output_notebook()` to attempt to load from CDN again, or</li>\\n\"+\n     \"<li>use INLINE resources instead, as so:</li>\\n\"+\n     \"</ul>\\n\"+\n     \"<code>\\n\"+\n     \"from bokeh.resources import INLINE\\n\"+\n     \"output_notebook(resources=INLINE)\\n\"+\n     \"</code>\\n\"+\n     \"</div>\"}};\n\n  function display_loaded() {\n    var el = document.getElementById(\"1001\");\n    if (el != null) {\n      el.textContent = \"BokehJS is loading...\";\n    }\n    if (root.Bokeh !== undefined) {\n      if (el != null) {\n        el.textContent = \"BokehJS \" + root.Bokeh.version + \" successfully loaded.\";\n      }\n    } else if (Date.now() < root._bokeh_timeout) {\n      setTimeout(display_loaded, 100)\n    }\n  }\n\n\n  function run_callbacks() {\n    try {\n      root._bokeh_onload_callbacks.forEach(function(callback) {\n        if (callback != null)\n          callback();\n      });\n    } finally {\n      delete root._bokeh_onload_callbacks\n    }\n    console.debug(\"Bokeh: all callbacks have finished\");\n  }\n\n  function load_libs(css_urls, js_urls, callback) {\n    if (css_urls == null) css_urls = [];\n    if (js_urls == null) js_urls = [];\n\n    root._bokeh_onload_callbacks.push(callback);\n    if (root._bokeh_is_loading > 0) {\n      console.debug(\"Bokeh: BokehJS is being loaded, scheduling callback at\", now());\n      return null;\n    }\n    if (js_urls == null || js_urls.length === 0) {\n      run_callbacks();\n      return null;\n    }\n    console.debug(\"Bokeh: BokehJS not loaded, scheduling load and callback at\", now());\n    root._bokeh_is_loading = css_urls.length + js_urls.length;\n\n    function on_load() {\n      root._bokeh_is_loading--;\n      if (root._bokeh_is_loading === 0) {\n        console.debug(\"Bokeh: all BokehJS libraries/stylesheets loaded\");\n        run_callbacks()\n      }\n    }\n\n    function on_error() {\n      console.error(\"failed to load \" + url);\n    }\n\n    for (var i = 0; i < css_urls.length; i++) {\n      var url = css_urls[i];\n      const element = document.createElement(\"link\");\n      element.onload = on_load;\n      element.onerror = on_error;\n      element.rel = \"stylesheet\";\n      element.type = \"text/css\";\n      element.href = url;\n      console.debug(\"Bokeh: injecting link tag for BokehJS stylesheet: \", url);\n      document.body.appendChild(element);\n    }\n\n    for (var i = 0; i < js_urls.length; i++) {\n      var url = js_urls[i];\n      var element = document.createElement('script');\n      element.onload = on_load;\n      element.onerror = on_error;\n      element.async = false;\n      element.src = url;\n      console.debug(\"Bokeh: injecting script tag for BokehJS library: \", url);\n      document.head.appendChild(element);\n    }\n  };var element = document.getElementById(\"1001\");\n  if (element == null) {\n    console.error(\"Bokeh: ERROR: autoload.js configured with elementid '1001' but no matching script tag was found. \")\n    return false;\n  }\n\n  function inject_raw_css(css) {\n    const element = document.createElement(\"style\");\n    element.appendChild(document.createTextNode(css));\n    document.body.appendChild(element);\n  }\n\n  \n  var js_urls = [\"https://cdn.pydata.org/bokeh/release/bokeh-1.4.0.min.js\", \"https://cdn.pydata.org/bokeh/release/bokeh-widgets-1.4.0.min.js\", \"https://cdn.pydata.org/bokeh/release/bokeh-tables-1.4.0.min.js\", \"https://cdn.pydata.org/bokeh/release/bokeh-gl-1.4.0.min.js\"];\n  var css_urls = [];\n  \n\n  var inline_js = [\n    function(Bokeh) {\n      Bokeh.set_log_level(\"info\");\n    },\n    function(Bokeh) {\n    \n    \n    }\n  ];\n\n  function run_inline_js() {\n    \n    if (root.Bokeh !== undefined || force === true) {\n      \n    for (var i = 0; i < inline_js.length; i++) {\n      inline_js[i].call(root, root.Bokeh);\n    }\n    if (force === true) {\n        display_loaded();\n      }} else if (Date.now() < root._bokeh_timeout) {\n      setTimeout(run_inline_js, 100);\n    } else if (!root._bokeh_failed_load) {\n      console.log(\"Bokeh: BokehJS failed to load within specified timeout.\");\n      root._bokeh_failed_load = true;\n    } else if (force !== true) {\n      var cell = $(document.getElementById(\"1001\")).parents('.cell').data().cell;\n      cell.output_area.append_execute_result(NB_LOAD_WARNING)\n    }\n\n  }\n\n  if (root._bokeh_is_loading === 0) {\n    console.debug(\"Bokeh: BokehJS loaded, going straight to plotting\");\n    run_inline_js();\n  } else {\n    load_libs(css_urls, js_urls, function() {\n      console.debug(\"Bokeh: BokehJS plotting callback run at\", now());\n      run_inline_js();\n    });\n  }\n}(window));",
      "application/vnd.bokehjs_load.v0+json": "\n(function(root) {\n  function now() {\n    return new Date();\n  }\n\n  var force = true;\n\n  if (typeof root._bokeh_onload_callbacks === \"undefined\" || force === true) {\n    root._bokeh_onload_callbacks = [];\n    root._bokeh_is_loading = undefined;\n  }\n\n  \n\n  \n  if (typeof (root._bokeh_timeout) === \"undefined\" || force === true) {\n    root._bokeh_timeout = Date.now() + 5000;\n    root._bokeh_failed_load = false;\n  }\n\n  var NB_LOAD_WARNING = {'data': {'text/html':\n     \"<div style='background-color: #fdd'>\\n\"+\n     \"<p>\\n\"+\n     \"BokehJS does not appear to have successfully loaded. If loading BokehJS from CDN, this \\n\"+\n     \"may be due to a slow or bad network connection. Possible fixes:\\n\"+\n     \"</p>\\n\"+\n     \"<ul>\\n\"+\n     \"<li>re-rerun `output_notebook()` to attempt to load from CDN again, or</li>\\n\"+\n     \"<li>use INLINE resources instead, as so:</li>\\n\"+\n     \"</ul>\\n\"+\n     \"<code>\\n\"+\n     \"from bokeh.resources import INLINE\\n\"+\n     \"output_notebook(resources=INLINE)\\n\"+\n     \"</code>\\n\"+\n     \"</div>\"}};\n\n  function display_loaded() {\n    var el = document.getElementById(\"1001\");\n    if (el != null) {\n      el.textContent = \"BokehJS is loading...\";\n    }\n    if (root.Bokeh !== undefined) {\n      if (el != null) {\n        el.textContent = \"BokehJS \" + root.Bokeh.version + \" successfully loaded.\";\n      }\n    } else if (Date.now() < root._bokeh_timeout) {\n      setTimeout(display_loaded, 100)\n    }\n  }\n\n\n  function run_callbacks() {\n    try {\n      root._bokeh_onload_callbacks.forEach(function(callback) {\n        if (callback != null)\n          callback();\n      });\n    } finally {\n      delete root._bokeh_onload_callbacks\n    }\n    console.debug(\"Bokeh: all callbacks have finished\");\n  }\n\n  function load_libs(css_urls, js_urls, callback) {\n    if (css_urls == null) css_urls = [];\n    if (js_urls == null) js_urls = [];\n\n    root._bokeh_onload_callbacks.push(callback);\n    if (root._bokeh_is_loading > 0) {\n      console.debug(\"Bokeh: BokehJS is being loaded, scheduling callback at\", now());\n      return null;\n    }\n    if (js_urls == null || js_urls.length === 0) {\n      run_callbacks();\n      return null;\n    }\n    console.debug(\"Bokeh: BokehJS not loaded, scheduling load and callback at\", now());\n    root._bokeh_is_loading = css_urls.length + js_urls.length;\n\n    function on_load() {\n      root._bokeh_is_loading--;\n      if (root._bokeh_is_loading === 0) {\n        console.debug(\"Bokeh: all BokehJS libraries/stylesheets loaded\");\n        run_callbacks()\n      }\n    }\n\n    function on_error() {\n      console.error(\"failed to load \" + url);\n    }\n\n    for (var i = 0; i < css_urls.length; i++) {\n      var url = css_urls[i];\n      const element = document.createElement(\"link\");\n      element.onload = on_load;\n      element.onerror = on_error;\n      element.rel = \"stylesheet\";\n      element.type = \"text/css\";\n      element.href = url;\n      console.debug(\"Bokeh: injecting link tag for BokehJS stylesheet: \", url);\n      document.body.appendChild(element);\n    }\n\n    for (var i = 0; i < js_urls.length; i++) {\n      var url = js_urls[i];\n      var element = document.createElement('script');\n      element.onload = on_load;\n      element.onerror = on_error;\n      element.async = false;\n      element.src = url;\n      console.debug(\"Bokeh: injecting script tag for BokehJS library: \", url);\n      document.head.appendChild(element);\n    }\n  };var element = document.getElementById(\"1001\");\n  if (element == null) {\n    console.error(\"Bokeh: ERROR: autoload.js configured with elementid '1001' but no matching script tag was found. \")\n    return false;\n  }\n\n  function inject_raw_css(css) {\n    const element = document.createElement(\"style\");\n    element.appendChild(document.createTextNode(css));\n    document.body.appendChild(element);\n  }\n\n  \n  var js_urls = [\"https://cdn.pydata.org/bokeh/release/bokeh-1.4.0.min.js\", \"https://cdn.pydata.org/bokeh/release/bokeh-widgets-1.4.0.min.js\", \"https://cdn.pydata.org/bokeh/release/bokeh-tables-1.4.0.min.js\", \"https://cdn.pydata.org/bokeh/release/bokeh-gl-1.4.0.min.js\"];\n  var css_urls = [];\n  \n\n  var inline_js = [\n    function(Bokeh) {\n      Bokeh.set_log_level(\"info\");\n    },\n    function(Bokeh) {\n    \n    \n    }\n  ];\n\n  function run_inline_js() {\n    \n    if (root.Bokeh !== undefined || force === true) {\n      \n    for (var i = 0; i < inline_js.length; i++) {\n      inline_js[i].call(root, root.Bokeh);\n    }\n    if (force === true) {\n        display_loaded();\n      }} else if (Date.now() < root._bokeh_timeout) {\n      setTimeout(run_inline_js, 100);\n    } else if (!root._bokeh_failed_load) {\n      console.log(\"Bokeh: BokehJS failed to load within specified timeout.\");\n      root._bokeh_failed_load = true;\n    } else if (force !== true) {\n      var cell = $(document.getElementById(\"1001\")).parents('.cell').data().cell;\n      cell.output_area.append_execute_result(NB_LOAD_WARNING)\n    }\n\n  }\n\n  if (root._bokeh_is_loading === 0) {\n    console.debug(\"Bokeh: BokehJS loaded, going straight to plotting\");\n    run_inline_js();\n  } else {\n    load_libs(css_urls, js_urls, function() {\n      console.debug(\"Bokeh: BokehJS plotting callback run at\", now());\n      run_inline_js();\n    });\n  }\n}(window));"
     },
     "metadata": {}
    },
    {
     "output_type": "stream",
     "name": "stderr",
     "text": [
      "ipykernel_launcher:8: DeprecationWarning: Call to deprecated `__getitem__` (Method will be removed in 4.0.0, use self.wv.__getitem__() instead).\n",
      "[t-SNE] Computing 91 nearest neighbors...\n",
      "[t-SNE] Indexed 2043 samples in 0.023s...\n",
      "[t-SNE] Computed neighbors for 2043 samples in 2.144s...\n",
      "[t-SNE] Computed conditional probabilities for sample 1000 / 2043\n",
      "[t-SNE] Computed conditional probabilities for sample 2000 / 2043\n",
      "[t-SNE] Computed conditional probabilities for sample 2043 / 2043\n",
      "[t-SNE] Mean sigma: 6.455959\n",
      "[t-SNE] KL divergence after 250 iterations with early exaggeration: 156.704605\n",
      "[t-SNE] KL divergence after 1000 iterations: 3.236742\n"
     ]
    },
    {
     "output_type": "display_data",
     "data": {
      "text/html": "\n\n\n\n\n\n  <div class=\"bk-root\" id=\"4d91b663-ffab-41ff-b924-3affeaf90127\" data-root-id=\"1002\"></div>\n"
     },
     "metadata": {}
    },
    {
     "output_type": "display_data",
     "data": {
      "application/javascript": "(function(root) {\n  function embed_document(root) {\n    \n  var docs_json = {\"0043da31-823b-46fc-8e29-53b96e6b677f\":{\"roots\":{\"references\":[{\"attributes\":{\"min_border\":1,\"plot_width\":700,\"renderers\":[{\"id\":\"1030\",\"type\":\"GlyphRenderer\"}],\"title\":{\"id\":\"1003\",\"type\":\"Title\"},\"toolbar\":{\"id\":\"1019\",\"type\":\"Toolbar\"},\"x_range\":{\"id\":\"1005\",\"type\":\"DataRange1d\"},\"x_scale\":{\"id\":\"1009\",\"type\":\"LinearScale\"},\"y_range\":{\"id\":\"1007\",\"type\":\"DataRange1d\"},\"y_scale\":{\"id\":\"1011\",\"type\":\"LinearScale\"}},\"id\":\"1002\",\"subtype\":\"Figure\",\"type\":\"Plot\"},{\"attributes\":{},\"id\":\"1013\",\"type\":\"PanTool\"},{\"attributes\":{},\"id\":\"1016\",\"type\":\"ResetTool\"},{\"attributes\":{\"active_drag\":\"auto\",\"active_inspect\":\"auto\",\"active_multi\":null,\"active_scroll\":\"auto\",\"active_tap\":\"auto\",\"tools\":[{\"id\":\"1013\",\"type\":\"PanTool\"},{\"id\":\"1014\",\"type\":\"WheelZoomTool\"},{\"id\":\"1015\",\"type\":\"BoxZoomTool\"},{\"id\":\"1016\",\"type\":\"ResetTool\"},{\"id\":\"1017\",\"type\":\"HoverTool\"},{\"id\":\"1018\",\"type\":\"SaveTool\"}]},\"id\":\"1019\",\"type\":\"Toolbar\"},{\"attributes\":{\"callback\":null,\"data\":{\"index\":[0,1,2,3,4,5,6,7,8,9,10,11,12,13,14,15,16,17,18,19,20,21,22,23,24,25,26,27,28,29,30,31,32,33,34,35,36,37,38,39,40,41,42,43,44,45,46,47,48,49,50,51,52,53,54,55,56,57,58,59,60,61,62,63,64,65,66,67,68,69,70,71,72,73,74,75,76,77,78,79,80,81,82,83,84,85,86,87,88,89,90,91,92,93,94,95,96,97,98,99,100,101,102,103,104,105,106,107,108,109,110,111,112,113,114,115,116,117,118,119,120,121,122,123,124,125,126,127,128,129,130,131,132,133,134,135,136,137,138,139,140,141,142,143,144,145,146,147,148,149,150,151,152,153,154,155,156,157,158,159,160,161,162,163,164,165,166,167,168,169,170,171,172,173,174,175,176,177,178,179,180,181,182,183,184,185,186,187,188,189,190,191,192,193,194,195,196,197,198,199,200,201,202,203,204,205,206,207,208,209,210,211,212,213,214,215,216,217,218,219,220,221,222,223,224,225,226,227,228,229,230,231,232,233,234,235,236,237,238,239,240,241,242,243,244,245,246,247,248,249,250,251,252,253,254,255,256,257,258,259,260,261,262,263,264,265,266,267,268,269,270,271,272,273,274,275,276,277,278,279,280,281,282,283,284,285,286,287,288,289,290,291,292,293,294,295,296,297,298,299,300,301,302,303,304,305,306,307,308,309,310,311,312,313,314,315,316,317,318,319,320,321,322,323,324,325,326,327,328,329,330,331,332,333,334,335,336,337,338,339,340,341,342,343,344,345,346,347,348,349,350,351,352,353,354,355,356,357,358,359,360,361,362,363,364,365,366,367,368,369,370,371,372,373,374,375,376,377,378,379,380,381,382,383,384,385,386,387,388,389,390,391,392,393,394,395,396,397,398,399,400,401,402,403,404,405,406,407,408,409,410,411,412,413,414,415,416,417,418,419,420,421,422,423,424,425,426,427,428,429,430,431,432,433,434,435,436,437,438,439,440,441,442,443,444,445,446,447,448,449,450,451,452,453,454,455,456,457,458,459,460,461,462,463,464,465,466,467,468,469,470,471,472,473,474,475,476,477,478,479,480,481,482,483,484,485,486,487,488,489,490,491,492,493,494,495,496,497,498,499,500,501,502,503,504,505,506,507,508,509,510,511,512,513,514,515,516,517,518,519,520,521,522,523,524,525,526,527,528,529,530,531,532,533,534,535,536,537,538,539,540,541,542,543,544,545,546,547,548,549,550,551,552,553,554,555,556,557,558,559,560,561,562,563,564,565,566,567,568,569,570,571,572,573,574,575,576,577,578,579,580,581,582,583,584,585,586,587,588,589,590,591,592,593,594,595,596,597,598,599,600,601,602,603,604,605,606,607,608,609,610,611,612,613,614,615,616,617,618,619,620,621,622,623,624,625,626,627,628,629,630,631,632,633,634,635,636,637,638,639,640,641,642,643,644,645,646,647,648,649,650,651,652,653,654,655,656,657,658,659,660,661,662,663,664,665,666,667,668,669,670,671,672,673,674,675,676,677,678,679,680,681,682,683,684,685,686,687,688,689,690,691,692,693,694,695,696,697,698,699,700,701,702,703,704,705,706,707,708,709,710,711,712,713,714,715,716,717,718,719,720,721,722,723,724,725,726,727,728,729,730,731,732,733,734,735,736,737,738,739,740,741,742,743,744,745,746,747,748,749,750,751,752,753,754,755,756,757,758,759,760,761,762,763,764,765,766,767,768,769,770,771,772,773,774,775,776,777,778,779,780,781,782,783,784,785,786,787,788,789,790,791,792,793,794,795,796,797,798,799,800,801,802,803,804,805,806,807,808,809,810,811,812,813,814,815,816,817,818,819,820,821,822,823,824,825,826,827,828,829,830,831,832,833,834,835,836,837,838,839,840,841,842,843,844,845,846,847,848,849,850,851,852,853,854,855,856,857,858,859,860,861,862,863,864,865,866,867,868,869,870,871,872,873,874,875,876,877,878,879,880,881,882,883,884,885,886,887,888,889,890,891,892,893,894,895,896,897,898,899,900,901,902,903,904,905,906,907,908,909,910,911,912,913,914,915,916,917,918,919,920,921,922,923,924,925,926,927,928,929,930,931,932,933,934,935,936,937,938,939,940,941,942,943,944,945,946,947,948,949,950,951,952,953,954,955,956,957,958,959,960,961,962,963,964,965,966,967,968,969,970,971,972,973,974,975,976,977,978,979,980,981,982,983,984,985,986,987,988,989,990,991,992,993,994,995,996,997,998,999,1000,1001,1002,1003,1004,1005,1006,1007,1008,1009,1010,1011,1012,1013,1014,1015,1016,1017,1018,1019,1020,1021,1022,1023,1024,1025,1026,1027,1028,1029,1030,1031,1032,1033,1034,1035,1036,1037,1038,1039,1040,1041,1042,1043,1044,1045,1046,1047,1048,1049,1050,1051,1052,1053,1054,1055,1056,1057,1058,1059,1060,1061,1062,1063,1064,1065,1066,1067,1068,1069,1070,1071,1072,1073,1074,1075,1076,1077,1078,1079,1080,1081,1082,1083,1084,1085,1086,1087,1088,1089,1090,1091,1092,1093,1094,1095,1096,1097,1098,1099,1100,1101,1102,1103,1104,1105,1106,1107,1108,1109,1110,1111,1112,1113,1114,1115,1116,1117,1118,1119,1120,1121,1122,1123,1124,1125,1126,1127,1128,1129,1130,1131,1132,1133,1134,1135,1136,1137,1138,1139,1140,1141,1142,1143,1144,1145,1146,1147,1148,1149,1150,1151,1152,1153,1154,1155,1156,1157,1158,1159,1160,1161,1162,1163,1164,1165,1166,1167,1168,1169,1170,1171,1172,1173,1174,1175,1176,1177,1178,1179,1180,1181,1182,1183,1184,1185,1186,1187,1188,1189,1190,1191,1192,1193,1194,1195,1196,1197,1198,1199,1200,1201,1202,1203,1204,1205,1206,1207,1208,1209,1210,1211,1212,1213,1214,1215,1216,1217,1218,1219,1220,1221,1222,1223,1224,1225,1226,1227,1228,1229,1230,1231,1232,1233,1234,1235,1236,1237,1238,1239,1240,1241,1242,1243,1244,1245,1246,1247,1248,1249,1250,1251,1252,1253,1254,1255,1256,1257,1258,1259,1260,1261,1262,1263,1264,1265,1266,1267,1268,1269,1270,1271,1272,1273,1274,1275,1276,1277,1278,1279,1280,1281,1282,1283,1284,1285,1286,1287,1288,1289,1290,1291,1292,1293,1294,1295,1296,1297,1298,1299,1300,1301,1302,1303,1304,1305,1306,1307,1308,1309,1310,1311,1312,1313,1314,1315,1316,1317,1318,1319,1320,1321,1322,1323,1324,1325,1326,1327,1328,1329,1330,1331,1332,1333,1334,1335,1336,1337,1338,1339,1340,1341,1342,1343,1344,1345,1346,1347,1348,1349,1350,1351,1352,1353,1354,1355,1356,1357,1358,1359,1360,1361,1362,1363,1364,1365,1366,1367,1368,1369,1370,1371,1372,1373,1374,1375,1376,1377,1378,1379,1380,1381,1382,1383,1384,1385,1386,1387,1388,1389,1390,1391,1392,1393,1394,1395,1396,1397,1398,1399,1400,1401,1402,1403,1404,1405,1406,1407,1408,1409,1410,1411,1412,1413,1414,1415,1416,1417,1418,1419,1420,1421,1422,1423,1424,1425,1426,1427,1428,1429,1430,1431,1432,1433,1434,1435,1436,1437,1438,1439,1440,1441,1442,1443,1444,1445,1446,1447,1448,1449,1450,1451,1452,1453,1454,1455,1456,1457,1458,1459,1460,1461,1462,1463,1464,1465,1466,1467,1468,1469,1470,1471,1472,1473,1474,1475,1476,1477,1478,1479,1480,1481,1482,1483,1484,1485,1486,1487,1488,1489,1490,1491,1492,1493,1494,1495,1496,1497,1498,1499,1500,1501,1502,1503,1504,1505,1506,1507,1508,1509,1510,1511,1512,1513,1514,1515,1516,1517,1518,1519,1520,1521,1522,1523,1524,1525,1526,1527,1528,1529,1530,1531,1532,1533,1534,1535,1536,1537,1538,1539,1540,1541,1542,1543,1544,1545,1546,1547,1548,1549,1550,1551,1552,1553,1554,1555,1556,1557,1558,1559,1560,1561,1562,1563,1564,1565,1566,1567,1568,1569,1570,1571,1572,1573,1574,1575,1576,1577,1578,1579,1580,1581,1582,1583,1584,1585,1586,1587,1588,1589,1590,1591,1592,1593,1594,1595,1596,1597,1598,1599,1600,1601,1602,1603,1604,1605,1606,1607,1608,1609,1610,1611,1612,1613,1614,1615,1616,1617,1618,1619,1620,1621,1622,1623,1624,1625,1626,1627,1628,1629,1630,1631,1632,1633,1634,1635,1636,1637,1638,1639,1640,1641,1642,1643,1644,1645,1646,1647,1648,1649,1650,1651,1652,1653,1654,1655,1656,1657,1658,1659,1660,1661,1662,1663,1664,1665,1666,1667,1668,1669,1670,1671,1672,1673,1674,1675,1676,1677,1678,1679,1680,1681,1682,1683,1684,1685,1686,1687,1688,1689,1690,1691,1692,1693,1694,1695,1696,1697,1698,1699,1700,1701,1702,1703,1704,1705,1706,1707,1708,1709,1710,1711,1712,1713,1714,1715,1716,1717,1718,1719,1720,1721,1722,1723,1724,1725,1726,1727,1728,1729,1730,1731,1732,1733,1734,1735,1736,1737,1738,1739,1740,1741,1742,1743,1744,1745,1746,1747,1748,1749,1750,1751,1752,1753,1754,1755,1756,1757,1758,1759,1760,1761,1762,1763,1764,1765,1766,1767,1768,1769,1770,1771,1772,1773,1774,1775,1776,1777,1778,1779,1780,1781,1782,1783,1784,1785,1786,1787,1788,1789,1790,1791,1792,1793,1794,1795,1796,1797,1798,1799,1800,1801,1802,1803,1804,1805,1806,1807,1808,1809,1810,1811,1812,1813,1814,1815,1816,1817,1818,1819,1820,1821,1822,1823,1824,1825,1826,1827,1828,1829,1830,1831,1832,1833,1834,1835,1836,1837,1838,1839,1840,1841,1842,1843,1844,1845,1846,1847,1848,1849,1850,1851,1852,1853,1854,1855,1856,1857,1858,1859,1860,1861,1862,1863,1864,1865,1866,1867,1868,1869,1870,1871,1872,1873,1874,1875,1876,1877,1878,1879,1880,1881,1882,1883,1884,1885,1886,1887,1888,1889,1890,1891,1892,1893,1894,1895,1896,1897,1898,1899,1900,1901,1902,1903,1904,1905,1906,1907,1908,1909,1910,1911,1912,1913,1914,1915,1916,1917,1918,1919,1920,1921,1922,1923,1924,1925,1926,1927,1928,1929,1930,1931,1932,1933,1934,1935,1936,1937,1938,1939,1940,1941,1942,1943,1944,1945,1946,1947,1948,1949,1950,1951,1952,1953,1954,1955,1956,1957,1958,1959,1960,1961,1962,1963,1964,1965,1966,1967,1968,1969,1970,1971,1972,1973,1974,1975,1976,1977,1978,1979,1980,1981,1982,1983,1984,1985,1986,1987,1988,1989,1990,1991,1992,1993,1994,1995,1996,1997,1998,1999,2000,2001,2002,2003,2004,2005,2006,2007,2008,2009,2010,2011,2012,2013,2014,2015,2016,2017,2018,2019,2020,2021,2022,2023,2024,2025,2026,2027,2028,2029,2030,2031,2032,2033,2034,2035,2036,2037,2038,2039,2040,2041,2042],\"words\":[\"user\",\"when\",\"a\",\"father\",\"is\",\"and\",\"so\",\"he\",\"his\",\"kids\",\"into\",\"run\",\"thanks\",\"for\",\"i\",\"can\",\"t\",\"use\",\"cause\",\"they\",\"don\",\"offer\",\"in\",\"bihday\",\"your\",\"model\",\"love\",\"u\",\"take\",\"with\",\"all\",\"the\",\"time\",\"ur\\u00f0\",\"\\u00f0\",\"society\",\"now\",\"motivation\",\"2\",\"huge\",\"fan\",\"big\",\"talking\",\"before\",\"leave\",\"pay\",\"get\",\"there\",\"tomorrow\",\"next\",\"school\",\"year\",\"think\",\"about\",\"that\",\"hate\",\"imagine\",\"girl\",\"we\",\"won\",\"land\",\"cavs\",\"cleveland\",\"\\u00e2\",\"welcome\",\"here\",\"m\",\"it\",\"s\",\"ireland\",\"price\",\"index\",\"mom\",\"from\",\"previous\",\"0\",\"to\",\"5\",\"may\",\"blog\",\"silver\",\"gold\",\"forex\",\"are\",\"orlando\",\"orlandoshooting\",\"heabreaking\",\"see\",\"my\",\"daddy\",\"today\",\"cnn\",\"calls\",\"middle\",\"build\",\"wall\",\"tcot\",\"no\",\"comment\",\"australia\",\"seashepherd\",\"omg\",\"am\",\"thankful\",\"having\",\"paner\",\"positive\",\"retweet\",\"if\",\"you\",\"agree\",\"its\",\"friday\",\"smiles\",\"around\",\"via\",\"ig\",\"make\",\"people\",\"as\",\"know\",\"essential\",\"not\",\"made\",\"of\",\"euro2016\",\"ha\",\"goal\",\"was\",\"fat\",\"who\",\"gave\",\"away\",\"free\",\"kick\",\"knowing\",\"hit\",\"them\",\"sad\",\"little\",\"dude\",\"cats\",\"funny\",\"product\",\"day\",\"happy\",\"man\",\"wine\",\"tool\",\"weekend\",\"open\",\"up\",\"amp\",\"drink\",\"says\",\"tgif\",\"ff\",\"gamedev\",\"indiedev\",\"squad\",\"beautiful\",\"sign\",\"by\",\"00\",\"media\",\"sunday\",\"throwback\",\"\\u00ef\",\"had\",\"great\",\"on\",\"public\",\"service\",\"50\",\"went\",\"nightclub\",\"have\",\"good\",\"night\",\"1\",\"means\",\"those\",\"lost\",\"their\",\"families\",\"forever\",\"rip\",\"never\",\"chance\",\"vote\",\"excited\",\"this\",\"looks\",\"be\",\"different\",\"does\",\"positivevibes\",\"passed\",\"tonight\",\"singing\",\"fire\",\"hard\",\"monday\",\"due\",\"weather\",\"goodnight\",\"unbelievable\",\"d\",\"need\",\"something\",\"like\",\"again\",\"neverump\",\"bull\",\"will\",\"dominate\",\"direct\",\"whatever\",\"want\",\"do\",\"w\",\"morning\",\"once\",\"more\",\"only\",\"one\",\"word\",\"oh\",\"hours\",\"line\",\"working\",\"were\",\"close\",\"sunshine\",\"finally\",\"finish\",\"book\",\"ve\",\"been\",\"being\",\"just\",\"an\",\"nba\",\"roll\",\"life\",\"after\",\"social\",\"each\",\"same\",\"\\u00bc\",\"lovely\",\"flowers\",\"grow\",\"bliss\",\"amazing\",\"i_am\",\"affirmation\",\"im\",\"goes\",\"wrong\",\"feeling\",\"blue\",\"best\",\"pa\",\"\\u00bc\\u00f0\",\"getting\",\"ready\",\"prayfororlando\",\"her\",\"got\",\"job\",\"off\",\"at\",\"first\",\"let\",\"begin\",\"thank\",\"super\",\"wedding\",\"playing\",\"piano\",\"beyond\",\"lets\",\"fight\",\"against\",\"peace\",\"mr\",\"video\",\"fathers\",\"world\",\"videos\",\"times\",\"babe\",\"fashion\",\"style\",\"selfie\",\"xoxo\",\"like4like\",\"work\",\"conference\",\"right\",\"mindset\",\"leads\",\"culture\",\"development\",\"organizations\",\"christina\",\"grimmie\",\"last\",\"performance\",\"shot\",\"voice\",\"christinagrimmie\",\"dance\",\"students\",\"really\",\"hu\",\"feelings\",\"wife\",\"miss\",\"poland\",\"show\",\"because\",\"she\",\"name\",\"everything\",\"jealous\",\"celebrate\",\"every\",\"has\",\"played\",\"role\",\"sure\",\"\\u00bd\\u00f0\",\"\\u00bd\",\"hour\",\"white\",\"running\",\"loving\",\"themselves\",\"our\",\"journey\",\"begins\",\"\\u00b3\",\"travel\",\"yeah\",\"luv\",\"new\",\"arrived\",\"how\",\"exciting\",\"much\",\"stuff\",\"happening\",\"florida\",\"shooting\",\"two\",\"old\",\"\\u00aa\\u00f0\",\"clearly\",\"turning\",\"point\",\"test\",\"proud\",\"udtapunjab\",\"finger\",\"aap\",\"hey\",\"call\",\"race\",\"might\",\"calling\",\"sometimes\",\"few\",\"bar\",\"strong\",\"learning\",\"space\",\"h\\u00e2\",\"men\",\"gun\",\"wouldn\",\"control\",\"stop\",\"black\",\"market\",\"terrorism\",\"worse\",\"power\",\"mind\",\"heal\",\"body\",\"altwaystoheal\",\"healthy\",\"woohoo\",\"over\",\"weeks\",\"go\",\"far\",\"place\",\"where\",\"family\",\"members\",\"music\",\"look\",\"out\",\"guitar\",\"nights\",\"what\",\"watching\",\"very\",\"nice\",\"long\",\"snapchat\",\"15\",\"things\",\"yes\",\"received\",\"back\",\"goodtimes\",\"history\",\"daughter\",\"bike\",\"son\",\"us\",\"while\",\"enjoy\",\"\\u00ba\",\"summeime\",\"memories\",\"station\",\"way\",\"done\",\"course\",\"ll\",\"always\",\"hope\",\"hug\",\"but\",\"gonna\",\"happen\",\"soon\",\"couple\",\"sex\",\"naked\",\"girls\",\"gbp\",\"7\",\"99\",\"shop\",\"cool\",\"home\",\"fun\",\"some\",\"truly\",\"sick\",\"ppl\",\"trump\",\"obama\",\"shootings\",\"boy\",\"8\",\"years\",\"did\",\"talk\",\"change\",\"eur\",\"usd\",\"fresh\",\"4\",\"week\",\"high\",\"going\",\"la\",\"friends\",\"still\",\"head\",\"fact\",\"gone\",\"wait\",\"sta\",\"relax\",\"woman\",\"doesn\",\"racism\",\"apple\",\"song\",\"ripchristina\",\"vine\",\"why\",\"brexit\",\"under\",\"100\",\"health\",\"benefits\",\"followme\",\"igers\",\"instagood\",\"smile\",\"anime\",\"alone\",\"lonely\",\"pool\",\"ride\",\"gym\",\"polar\",\"bear\",\"climb\",\"racing\",\"angry\",\"living\",\"cold\",\"places\",\"looking\",\"gets\",\"him\",\"muslim\",\"waiting\",\"football\",\"summer\",\"\\u00f3\\u00be\",\"usa\",\"vegas\",\"ma\",\"friend\",\"blackandwhite\",\"it\\u00e2\",\"writing\",\"tears\",\"flying\",\"birds\",\"me\",\"pretty\",\"driver\",\"female\",\"killed\",\"ok\",\"animal\",\"japan\",\"\\u00ef\\u00bc\",\"cute\",\"aren\",\"republican\",\"find\",\"spend\",\"guy\",\"update\",\"analytics\",\"photooftheday\",\"likes\",\"anyone\",\"date\",\"makes\",\"than\",\"even\",\"put\",\"\\u00e3\",\"bestfriend\",\"most\",\"impoant\",\"thing\",\"matters\",\"too\",\"sho\",\"actor\",\"human\",\"\\u00b3\\u00f0\",\"heas\",\"thoughts\",\"prayers\",\"gay\",\"album\",\"community\",\"sma\",\"bad\",\"worst\",\"ever\",\"blessed\",\"worked\",\"happiest\",\"eah\",\"disney\",\"kinda\",\"humans\",\"found\",\"hair\",\"other\",\"lt\",\"3\",\"listen\",\"17\",\"n\",\"freedom\",\"present\",\"past\",\"trust\",\"gorilla\",\"thought\",\"3rd\",\"internet\",\"broken\",\"watch\",\"netflix\",\"then\",\"business\",\"slut\",\"any\",\"hands\",\"probably\",\"game\",\"everyone\",\"doing\",\"goodmorning\",\"70\",\"hea\",\"\\u00c2\",\"saturday\",\"afternoon\",\"meet\",\"aww\",\"bing\",\"bong\",\"months\",\"seeing\",\"live\",\"robe\",\"hear\",\"say\",\"moved\",\"or\",\"lead\",\"god\",\"coming\",\"through\",\"keeping\",\"terrorist\",\"rights\",\"another\",\"happened\",\"together\",\"down\",\"fine\",\"depressed\",\"within\",\"europe\",\"remain\",\"princess\",\"post\",\"check\",\"saw\",\"shi\",\"said\",\"already\",\"blocked\",\"asking\",\"difficult\",\"question\",\"news\",\"victims\",\"happiness\",\"state\",\"arrive\",\"traveling\",\"quotes\",\"inspirational\",\"safe\",\"ways\",\"healing\",\"thursday\",\"number\",\"10\",\"\\u00be\\u00f0\",\"\\u00be\",\"re\",\"forward\",\"workshop\",\"reached\",\"followers\",\"stream\",\"words\",\"r\",\"em\",\"adult\",\"teen\",\"country\",\"bring\",\"come\",\"eat\",\"bae\",\"lunch\",\"lawofattraction\",\"success\",\"joy\",\"life\\u00e2\",\"libtard\",\"sjw\",\"liberal\",\"politics\",\"attack\",\"3d\",\"empty\",\"city\",\"side\",\"self\",\"keep\",\"eye\",\"ball\",\"president\",\"building\",\"money\",\"cannot\",\"could\",\"anywhere\",\"sun\",\"seems\",\"action\",\"shows\",\"entrepreneur\",\"moments\",\"kid\",\"lucky\",\"takes\",\"isn\",\"complete\",\"america\",\"dads\",\"give\",\"brilliant\",\"customer\",\"sing\",\"songs\",\"bus\",\"6\",\"food\",\"beer\",\"drunk\",\"g\",\"o\",\"l\",\"repost\",\"ocean\",\"teach\",\"felt\",\"quote\",\"boys\",\"days\",\"left\",\"countdown\",\"club\",\"reason\",\"stay\",\"nobody\",\"else\",\"moment\",\"app\",\"end\",\"yay\",\"needs\",\"united\",\"states\",\"rest\",\"own\",\"hold\",\"door\",\"try\",\"help\",\"baby\",\"b\",\"c\",\"bought\",\"finding\",\"dory\",\"ticket\",\"minute\",\"lose\",\"should\",\"\\u00aa\",\"guys\",\"september\",\"s\\u00e2\",\"tech\",\"count\",\"would\",\"able\",\"suppo\",\"event\",\"cat\",\"puppy\",\"till\",\"lyrics\",\"member\",\"yesterday\",\"mad\",\"dog\",\"teacher\",\"wonderful\",\"dad\",\"missed\",\"loved\",\"play\",\"kind\",\"calm\",\"sunny\",\"others\",\"pic\",\"loves\",\"true\",\"ny\",\"biggest\",\"african\",\"american\",\"create\",\"pussy\",\"these\",\"30\",\"comes\",\"ugh\",\"gaming\",\"many\",\"nothing\",\"bitches\",\"care\",\"pride\",\"fathersday\",\"\\u00e6\",\"\\u00e5\",\"everyday\",\"wishing\",\"clients\",\"scared\",\"choose\",\"lifestyle\",\"instead\",\"\\u00ba\\u00ef\",\"half\",\"dumb\",\"idea\",\"dont\",\"understand\",\"y\",\"animals\",\"maybe\",\"ending\",\"senseless\",\"violence\",\"fucking\",\"opinion\",\"2nd\",\"heading\",\"leaving\",\"heard\",\"trying\",\"shooter\",\"mood\",\"flight\",\"reading\",\"ur\",\"emotions\",\"wish\",\"vs\",\"leaves\",\"real\",\"na\",\"snapshot\",\"hot\",\"nasty\",\"naughty\",\"sexy\",\"horny\",\"shy\",\"porn\",\"nude\",\"kinky\",\"xxx\",\"creative\",\"stuck\",\"level\",\"since\",\"folks\",\"launch\",\"yum\",\"enjoying\",\"delicious\",\"vegan\",\"organic\",\"beginning\",\"both\",\"ask\",\"2016\",\"available\",\"better\",\"please\",\"yourself\",\"shoes\",\"stress\",\"poor\",\"kill\",\"used\",\"nbafinals\",\"grateful\",\"affirmations\",\"san\",\"cant\",\"brother\",\"gt\",\"dying\",\"light\",\"green\",\"weird\",\"training\",\"lover\",\"known\",\"fuck\",\"guess\",\"latest\",\"updates\",\"_\",\"bless\",\"successful\",\"career\",\"class\",\"lebron\",\"team\",\"web\",\"series\",\"episode\",\"yours\",\"hatred\",\"bigotry\",\"rich\",\"simulator\",\"adapt\",\"environment\",\"tear\",\"material\",\"leadership\",\"kiss\",\"donald\",\"ass\",\"pathetic\",\"such\",\"happens\",\"instalike\",\"instamood\",\"movie\",\"ht\\u00e2\",\"breakfast\",\"packing\",\"tony\",\"idiot\",\"rock\",\"pop\",\"romance\",\"june\",\"13\",\"lol\",\"a\\u00e2\",\"meeting\",\"which\",\"problem\",\"chill\",\"relaxing\",\"pet\",\"during\",\"tweet\",\"sister\",\"death\",\"twitter\",\"brand\",\"90\",\"born\",\"mother\",\"cuz\",\"apps\",\"idwp\",\"co\",\"chair\",\"racist\",\"therapy\",\"cheers\",\"fabulous\",\"nofilter\",\"million\",\"reasons\",\"drinks\",\"st\",\"buffalo\",\"damn\",\"p\",\"without\",\"\\u00b9\\u00f0\",\"suppoing\",\"young\",\"kitchen\",\"faith\",\"simply\",\"instadaily\",\"yummy\",\"ain\",\"nigga\",\"shit\",\"cycling\",\"sunset\",\"fitness\",\"well\",\"swag\",\"win\",\"11\",\"dream\",\"move\",\"follow\",\"x\",\"staed\",\"wednesdaywisdom\",\"worry\",\"double\",\"skin\",\"f4f\",\"loa\",\"oil\",\"turns\",\"40\",\"data\",\"fuher\",\"bihdaygirl\",\"000\",\"alive\",\"americans\",\"ladies\",\"wellness\",\"train\",\"hasn\",\"visit\",\"astrologer\",\"heaven\",\"16\",\"awesome\",\"laugh\",\"study\",\"face\",\"pizza\",\"taking\",\"dinner\",\"planning\",\"euro\",\"bbc\",\"france\",\"euros\",\"e3\",\"e32016\",\"bit\",\"inspiration\",\"sharing\",\"ice\",\"cream\",\"icecream\",\"island\",\"sale\",\"shopping\",\"cheer\",\"house\",\"sell\",\"buy\",\"absolutely\",\"potus\",\"\\u00ec\",\"\\u00e0\\u00b9\",\"\\u00e0\",\"killing\",\"helping\",\"drive\",\"germany\",\"fab\",\"busy\",\"swim\",\"ya\",\"later\",\"feel\",\"haven\",\"film\",\"download\",\"photo\",\"fo\",\"woh\",\"crime\",\"married\",\"congratulations\",\"perfect\",\"missing\",\"spring\",\"season\",\"tickets\",\"booked\",\"wales\",\"beach\",\"park\",\"screen\",\"stories\",\"story\",\"track\",\"essentialoils\",\"anxiety\",\"wow\",\"children\",\"thinking\",\"losing\",\"wet\",\"niggas\",\"special\",\"bestie\",\"friendship\",\"fantastic\",\"room\",\"sales\",\"group\",\"rose\",\"uk\",\"mp\",\"holidays\",\"issue\",\"oitnb\",\"stas\",\"sold\",\"paid\",\"wear\",\"making\",\"view\",\"nyc\",\"amen\",\"truth\",\"rape\",\"wasn\",\"20\",\"minutes\",\"rainbow\",\"hi\",\"band\",\"send\",\"shame\",\"toddler\",\"mindfulness\",\"listening\",\"diy\",\"london\",\"stomping\",\"tampa\",\"miami\\u00e2\",\"thats\",\"police\",\"bigger\",\"guns\",\"choices\",\"fall\",\"write\",\"\\u00ed\",\"behind\",\"actually\",\"vacation\",\"greece\",\"games\",\"lmao\",\"taken\",\"expectations\",\"remember\",\"become\",\"reality\",\"tv\",\"stars\",\"allahsoil\",\"fridayfeeling\",\"pics\",\"looked\",\"easy\",\"turn\",\"comedy\",\"christmas\",\"letting\",\"tired\",\"annoyed\",\"remedies\",\"child\",\"anti\",\"africa\",\"nearly\",\"nervous\",\"myself\",\"eating\",\"chocolate\",\"didn\",\"swimming\",\"signs\",\"everywhere\",\"until\",\"htt\\u00e2\",\"second\",\"k\",\"gratitude\",\"bigot\",\"dear\",\"despite\",\"announce\",\"tragic\",\"color\",\"finished\",\"walk\",\"gift\",\"future\",\"save\",\"lord\",\"husband\",\"babies\",\"1st\",\"month\",\"stage\",\"chase\",\"blood\",\"boyfriend\",\"allow\",\"plz\",\"surprised\",\"smiling\",\"yet\",\"feminismiscancer\",\"feminismisterrorism\",\"feminismmuktbharat\",\"malevote\",\"ignored\",\"saying\",\"read\",\"yoga\",\"also\",\"garden\",\"fave\",\"conce\",\"mine\",\"gorgeous\",\"texas\",\"sky\",\"islamic\",\"given\",\"rather\",\"match\",\"design\",\"set\",\"de\",\"walking\",\"dogs\",\"totally\",\"bernie\",\"winning\",\"above\",\"everybody\",\"smh\",\"magic\",\"youtube\",\"moving\",\"outside\",\"met\",\"yrs\",\"ago\",\"online\",\"tbt\",\"tragedy\",\"pulse\",\"v\",\"return\",\"water\",\"boat\",\"grand\",\"adventure\",\"completely\",\"tuesday\",\"soul\",\"believe\",\"sweet\",\"edinburgh\",\"scotland\",\"england\",\"russia\",\"21\",\"expect\",\"risk\",\"radio\",\"daily\",\"google\",\"plan\",\"works\",\"company\",\"keeps\",\"forgot\",\"answer\",\"warm\",\"energy\",\"except\",\"ahead\",\"golf\",\"\\u00bc\\u00ef\",\"needed\",\"logins\",\"brokers\",\"ordered\",\"india\",\"loveit\",\"matter\",\"spos\",\"join\",\"full\",\"pls\",\"spread\",\"ten\",\"sleep\",\"bride\",\"melancholy\",\"melancholymusic\",\"congrats\",\"education\",\"campaign\",\"events\",\"review\",\"die\",\"le\",\"tag\",\"h\",\"click\",\"speech\",\"lot\",\"source\",\"f\",\"\\u00b5\\u00f0\",\"cry\",\"tell\",\"piece\",\"women\",\"wanted\",\"street\",\"kindness\",\"agenda\",\"towards\",\"entire\",\"cover\",\"john\",\"hell\",\"happier\",\"meal\",\"suicide\",\"least\",\"winter\",\"nature\",\"quality\",\"cards\",\"growth\",\"ugly\",\"ignorant\",\"love\\u00e2\",\"hill\",\"reach\",\"target\",\"task\",\"survive\",\"air\",\"lying\",\"hillary\",\"liberals\",\"frustrated\",\"gotta\",\"fix\",\"knows\",\"fly\",\"less\",\"ones\",\"poetry\",\"add\",\"favorite\",\"person\",\"simulation\",\"vicinity\",\"homes\",\"coach\",\"peaceful\",\"hardcore\",\"order\",\"feet\",\"beat\",\"dj\",\"edm\",\"negative\",\"24\",\"collection\",\"wednesday\",\"often\",\"definitely\",\"released\",\"break\",\"congress\",\"gamer\",\"humpday\",\"came\",\"drawing\",\"dark\",\"leaders\",\"list\",\"holiday\",\"dreams\",\"newyork\",\"rooster\",\"vast\",\"expanse\",\"mountains\",\"leakage\",\"inlove\",\"using\",\"office\",\"canada\",\"19\",\"feminism\",\"lake\",\"rain\",\"political\",\"anne\",\"aicle\",\"pain\",\"evening\",\"cake\",\"smile\\u00e2\",\"vibes\",\"decide\",\"etc\",\"telling\",\"comments\",\"red\",\"signed\",\"shine\",\"workers\",\"enough\",\"lgbt\",\"25\",\"justice\",\"system\",\"passion\",\"single\",\"board\",\"progress\",\"misogyny\",\"injured\",\"instagram\",\"makeup\",\"share\",\"lack\",\"stand\",\"small\",\"evil\",\"politicians\",\"deserve\",\"luck\",\"graduation\",\"possible\",\"speak\",\"staing\",\"bed\",\"jesus\",\"wisdom\",\"serious\",\"release\",\"photos\",\"inside\",\"mean\",\"california\",\"near\",\"term\",\"friyay\",\"gop\",\"hugs\",\"decided\",\"response\",\"simple\",\"car\",\"dead\",\"michael\",\"misogynist\",\"staff\",\"sat\",\"bored\",\"manchester\",\"quick\",\"tried\",\"case\",\"mum\",\"da\",\"straight\",\"top\",\"fans\",\"someone\",\"wants\",\"\\u00b9\",\"interview\",\"boom\",\"hype\",\"age\",\"mass\",\"legend\",\"haha\",\"sitting\",\"depressing\",\"handsome\",\"secret\",\"marriage\",\"repo\",\"loss\",\"picture\",\"lady\",\"festival\",\"bff\",\"weak\",\"anniversary\",\"non\",\"election\",\"blame\",\"official\",\"counting\",\"xx\",\"quoteoftheday\",\"current\",\"22\",\"turned\",\"innocent\",\"customers\",\"blogger\",\"pre\",\"gig\",\"gif\",\"west\",\"greatest\",\"fl\",\"tuned\",\"bday\",\"tags\",\"slow\",\"bout\",\"fasting\",\"ramadan\",\"praying\",\"grace\",\"church\",\"punjab\",\"jobs\",\"restaurant\",\"notice\",\"suppoers\",\"balance\",\"bitch\",\"knew\",\"lil\",\"isis\",\"islam\",\"touch\",\"feels\",\"forget\",\"problems\",\"changes\",\"asian\",\"bc\",\"strength\",\"glad\",\"delete\",\"tweets\",\"useful\",\"deletetweets\",\"trip\",\"paris\",\"national\",\"whites\",\"shouldn\",\"judge\",\"hrs\",\"took\",\"final\",\"bbq\",\"crazy\",\"depression\",\"dancing\",\"row\",\"experience\",\"9\",\"star\",\"camp\",\"18\",\"fear\",\"lighttherapy\",\"fake\",\"along\",\"tea\",\"anything\",\"cantwait\",\"schools\",\"tough\",\"choice\",\"between\",\"couldn\",\"thailand\",\"books\",\"exercise\",\"exactly\",\"the\\u00e2\",\"college\",\"driving\",\"shoot\",\"\\u00ba\\u00f0\",\"\\u00bc\\u00e3\",\"\\u00e7\",\"\\u00c3\",\"hungry\",\"hoping\",\"hispanic\",\"watched\",\"parents\",\"wakeup\",\"colors\",\"players\",\"singer\",\"talent\",\"respect\",\"fail\",\"quite\",\"town\",\"stronger\",\"celebrating\",\"ripchristinagrimmie\",\"alligator\",\"continues\",\"goals\",\"disappointed\",\"purpose\",\"sea\",\"david\",\"below\",\"hello\",\"fish\",\"must\",\"accept\",\"pig\",\"nursery\",\"rhymes\",\"type\",\"spent\",\"note\",\"theatre\",\"fast\",\"key\",\"cooking\",\"nation\",\"emotional\",\"lots\",\"details\",\"blacks\",\"woke\",\"process\",\"14\",\"06\",\"bestfriends\",\"somebody\",\"behappy\",\"officially\",\"whole\",\"en\",\"sorry\",\"south\",\"centre\",\"miami\",\"colombia\",\"message\",\"learn\",\"hand\",\"awards\",\"brain\",\"growing\",\"shout\",\"store\",\"late\",\"foodie\",\"card\",\"terror\",\"catch\",\"temple\",\"handmade\",\"treat\",\"bright\",\"king\",\"opening\",\"orange\",\"delivery\",\"attitude\",\"eyes\",\"though\",\"pink\",\"iphone\",\"ness\",\"joke\",\"realize\",\"content\",\"picoftheday\",\"low\",\"phone\",\"cool\\u00e2\",\"cox\",\"early\",\"giving\",\"humanity\",\"wild\",\"road\",\"local\",\"sense\",\"humor\",\"follow\\u00e2\",\"queen\",\"bet\",\"clean\",\"literally\",\"step\",\"studio\",\"cock\",\"ootd\",\"goodday\",\"tokyo\",\"doubt\",\"religion\",\"crying\",\"advice\",\"lifeisgood\",\"hearing\",\"liar\",\"beauty\",\"tips\",\"jokes\",\"rally\",\"fed\",\"sit\",\"luxury\",\"italy\",\"round\",\"wtf\",\"materia\",\"facebook\",\"account\",\"chat\",\"toptags\",\"seriously\",\"foodporn\",\"massive\",\"eng\",\"sikh\",\"vandalised\",\"calgary\",\"wso\",\"condemns\",\"act\",\"front\",\"hotel\",\"wanna\",\"pictures\",\"muslims\",\"filled\",\"12\",\"blm\",\"chicago\",\"shocked\",\"ignorance\",\"science\",\"normal\",\"session\",\"airpo\",\"2017\",\"maga\",\"generation\",\"yo\",\"following\",\"favourite\",\"july\",\"bouncingbaby\",\"coffee\",\"powerful\",\"podcast\",\"laughter\",\"told\",\"glass\",\"box\",\"christian\",\"asked\",\"bill\",\"almost\",\"inspired\",\"photography\",\"lives\",\"scene\",\"upset\",\"horrible\",\"anymore\",\"day\\u00f0\",\"breaking\",\"feliz\",\"l4l\",\"sent\",\"epic\",\"terrible\",\"decision\",\"brown\",\"warriors\",\"equality\",\"bro\",\"york\",\"bts\",\"surprise\",\"government\",\"\\u00e8\",\"pick\",\"positivity\",\"ended\",\"winner\",\"bag\",\"drinking\",\"i\\u00e2\",\"pray\",\"profile\",\"clinton\",\"draw\",\"e\",\"record\",\"inshot\",\"blur\",\"fun\\u00e2\",\"heabroken\",\"blonde\",\"china\",\"seen\",\"university\",\"funday\",\"thankyou\",\"ps4\",\"broke\",\"lie\",\"loveislove\",\"pass\",\"blessings\",\"latepost\",\"stupid\",\"adorable\",\"faces\",\"lovelife\",\"celebration\",\"result\",\"project\",\"\\u00b5\",\"weekends\",\"relationship\",\"thx\",\"realized\",\"girlfriend\",\"longer\",\"attention\",\"putting\",\"page\",\"wake\",\"wonder\",\"deal\",\"laughing\",\"spain\",\"area\",\"moon\",\"ex\",\"ibiza\",\"law\",\"hopefully\",\"cup\",\"disgusting\",\"weightloss\",\"anger\",\"questions\",\"til\",\"shepherd\",\"antiracism\",\"kitty\",\"mins\",\"diet\",\"papa\",\"sisters\",\"shift\",\"excellent\",\"august\",\"flag\",\"memes\",\"press\",\"okay\",\"deep\",\"goodvibes\",\"mark\",\"registered\",\"major\",\"hat\",\"unfounately\",\"natural\",\"dress\",\"thinks\",\"poem\",\"staup\",\"govt\",\"writer\",\"j\",\"unhappy\",\"focus\",\"plans\",\"student\",\"tattoo\",\"familytime\",\"league\",\"goodbye\",\"insane\",\"scary\",\"flower\",\"total\",\"youth\",\"abt\",\"\\u00d8\",\"\\u00d9\",\"sir\",\"war\",\"appreciate\",\"buying\",\"leader\",\"yr\",\"either\",\"email\",\"boss\",\"supposed\",\"website\",\"relationships\",\"afraid\",\"confused\",\"aist\",\"expected\",\"posted\",\"sushi\",\"five\",\"called\",\"especially\",\"murder\",\"died\",\"noh\",\"amwriting\",\"tour\",\"hero\",\"movies\",\"holding\",\"tho\",\"flagday2016\",\"childhood\",\"accepted\",\"\\u00bd\\u00ef\",\"industry\",\"corruption\",\"continue\",\"lies\",\"kingdom\",\"wishes\",\"dangerous\",\"snow\",\"sleepy\",\"fair\",\"brought\",\"posts\",\"clear\",\"workout\",\"you\\u00e2\",\"route\",\"across\",\"assault\",\"weight\",\"sucks\",\"bjp\",\"shut\",\"silly\",\"mini\",\"wearing\",\"apparently\",\"client\",\"painting\",\"anyway\",\"four\",\"cut\",\"loser\",\"nails\",\"main\",\"bird\",\"talented\",\"acting\",\"sadly\",\"results\",\"pm\",\"text\",\"fav\",\"bye\",\"dies\",\"findingdory\",\"fit\",\"info\",\"paladino\",\"clothes\",\"cow\",\"changed\",\"closer\",\"stunning\",\"jo\",\"male\",\"involved\",\"english\",\"three\",\"gives\",\"waste\",\"\\u00b9\\u00ef\",\"factory\",\"hits\",\"sounds\",\"practice\",\"trending\",\"fitfam\",\"foods\",\"eve\",\"issues\",\"link\",\"original\",\"award\",\"none\",\"sound\",\"meditation\",\"plus\",\"mexico\",\"kkk\",\"cou\",\"salad\",\"fighting\",\"spo\",\"version\",\"ideas\",\"\\u00d0\",\"\\u00d1\"],\"x\":{\"__ndarray__\":\"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\",\"dtype\":\"float32\",\"shape\":[2043]},\"y\":{\"__ndarray__\":\"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\",\"dtype\":\"float32\",\"shape\":[2043]}},\"selected\":{\"id\":\"1033\",\"type\":\"Selection\"},\"selection_policy\":{\"id\":\"1034\",\"type\":\"UnionRenderers\"}},\"id\":\"1026\",\"type\":\"ColumnDataSource\"},{\"attributes\":{\"overlay\":{\"id\":\"1035\",\"type\":\"BoxAnnotation\"}},\"id\":\"1015\",\"type\":\"BoxZoomTool\"},{\"attributes\":{\"text\":\"A map of 10000 word vectors\"},\"id\":\"1003\",\"type\":\"Title\"},{\"attributes\":{\"callback\":null,\"tooltips\":[[\"word\",\"@words\"]]},\"id\":\"1017\",\"type\":\"HoverTool\"},{\"attributes\":{\"data_source\":{\"id\":\"1026\",\"type\":\"ColumnDataSource\"},\"glyph\":{\"id\":\"1028\",\"type\":\"Scatter\"},\"hover_glyph\":null,\"muted_glyph\":null,\"nonselection_glyph\":{\"id\":\"1029\",\"type\":\"Scatter\"},\"selection_glyph\":null,\"view\":{\"id\":\"1031\",\"type\":\"CDSView\"}},\"id\":\"1030\",\"type\":\"GlyphRenderer\"},{\"attributes\":{\"callback\":null},\"id\":\"1007\",\"type\":\"DataRange1d\"},{\"attributes\":{\"bottom_units\":\"screen\",\"fill_alpha\":{\"value\":0.5},\"fill_color\":{\"value\":\"lightgrey\"},\"left_units\":\"screen\",\"level\":\"overlay\",\"line_alpha\":{\"value\":1.0},\"line_color\":{\"value\":\"black\"},\"line_dash\":[4,4],\"line_width\":{\"value\":2},\"render_mode\":\"css\",\"right_units\":\"screen\",\"top_units\":\"screen\"},\"id\":\"1035\",\"type\":\"BoxAnnotation\"},{\"attributes\":{},\"id\":\"1034\",\"type\":\"UnionRenderers\"},{\"attributes\":{},\"id\":\"1033\",\"type\":\"Selection\"},{\"attributes\":{\"fill_color\":{\"value\":\"#1f77b4\"},\"line_color\":{\"value\":\"#1f77b4\"},\"x\":{\"field\":\"x\"},\"y\":{\"field\":\"y\"}},\"id\":\"1028\",\"type\":\"Scatter\"},{\"attributes\":{\"fill_alpha\":{\"value\":0.1},\"fill_color\":{\"value\":\"#1f77b4\"},\"line_alpha\":{\"value\":0.1},\"line_color\":{\"value\":\"#1f77b4\"},\"x\":{\"field\":\"x\"},\"y\":{\"field\":\"y\"}},\"id\":\"1029\",\"type\":\"Scatter\"},{\"attributes\":{},\"id\":\"1009\",\"type\":\"LinearScale\"},{\"attributes\":{},\"id\":\"1018\",\"type\":\"SaveTool\"},{\"attributes\":{},\"id\":\"1014\",\"type\":\"WheelZoomTool\"},{\"attributes\":{\"callback\":null},\"id\":\"1005\",\"type\":\"DataRange1d\"},{\"attributes\":{},\"id\":\"1011\",\"type\":\"LinearScale\"},{\"attributes\":{\"source\":{\"id\":\"1026\",\"type\":\"ColumnDataSource\"}},\"id\":\"1031\",\"type\":\"CDSView\"}],\"root_ids\":[\"1002\"]},\"title\":\"Bokeh Application\",\"version\":\"1.4.0\"}};\n  var render_items = [{\"docid\":\"0043da31-823b-46fc-8e29-53b96e6b677f\",\"roots\":{\"1002\":\"4d91b663-ffab-41ff-b924-3affeaf90127\"}}];\n  root.Bokeh.embed.embed_items_notebook(docs_json, render_items);\n\n  }\n  if (root.Bokeh !== undefined) {\n    embed_document(root);\n  } else {\n    var attempts = 0;\n    var timer = setInterval(function(root) {\n      if (root.Bokeh !== undefined) {\n        clearInterval(timer);\n        embed_document(root);\n      } else {\n        attempts++;\n        if (attempts > 100) {\n          clearInterval(timer);\n          console.log(\"Bokeh: ERROR: Unable to run BokehJS code because BokehJS library is missing\");\n        }\n      }\n    }, 10, root)\n  }\n})(window);",
      "application/vnd.bokehjs_exec.v0+json": ""
     },
     "metadata": {
      "application/vnd.bokehjs_exec.v0+json": {
       "id": "1002"
      }
     }
    }
   ],
   "source": [
    "# defining the chart\n",
    "output_notebook()\n",
    "plot_tfidf = bp.figure(plot_width=700, plot_height=600, title=\"A map of 10000 word vectors\",\n",
    "    tools=\"pan,wheel_zoom,box_zoom,reset,hover,previewsave\",\n",
    "    x_axis_type=None, y_axis_type=None, min_border=1)\n",
    "\n",
    "# getting a list of word vectors. limit to 10000. each is of 200 dimensions\n",
    "word_vectors = [w2v_model[w] for w in list(w2v_model.wv.vocab.keys())[:5000]]\n",
    "\n",
    "# dimensionality reduction. converting the vectors to 2d vectors\n",
    "tsne_model = TSNE(n_components=2, verbose=1, random_state=0)\n",
    "tsne_w2v = tsne_model.fit_transform(word_vectors)\n",
    "\n",
    "# putting everything in a dataframe\n",
    "tsne_df = pd.DataFrame(tsne_w2v, columns=['x', 'y'])\n",
    "tsne_df['words'] = list(w2v_model.wv.vocab.keys())[:5000]\n",
    "\n",
    "# plotting. the corresponding word appears when you hover on the data point.\n",
    "plot_tfidf.scatter(x='x', y='y', source=tsne_df)\n",
    "hover = plot_tfidf.select(dict(type=HoverTool))\n",
    "hover.tooltips={\"word\": \"@words\"}\n",
    "show(plot_tfidf)"
   ]
  },
  {
   "cell_type": "code",
   "execution_count": 44,
   "metadata": {},
   "outputs": [],
   "source": [
    "#First defining the X (input), and the y (output)\n",
    "y = df['label'].values\n",
    "X = np.array(df_clean[\"tokens\"])\n",
    "\n",
    "#And here is the train_test_split\n",
    "X_train, X_test, y_train, y_test = train_test_split(X, y, test_size = 0.2, random_state = 0)"
   ]
  },
  {
   "cell_type": "code",
   "execution_count": 45,
   "metadata": {},
   "outputs": [
    {
     "output_type": "stream",
     "name": "stdout",
     "text": [
      "vocab size : 2964\n"
     ]
    }
   ],
   "source": [
    "vectorizer = TfidfVectorizer(analyzer=lambda x: x, min_df=10)\n",
    "matrix = vectorizer.fit_transform([x for x in X_train])\n",
    "tfidf = dict(zip(vectorizer.get_feature_names(), vectorizer.idf_))\n",
    "print ('vocab size :', len(tfidf))"
   ]
  },
  {
   "cell_type": "code",
   "execution_count": 49,
   "metadata": {},
   "outputs": [],
   "source": [
    "def buildWordVector(tokens, size):\n",
    "    vec = np.zeros(size).reshape((1, size))\n",
    "    count = 0.\n",
    "    for word in tokens:\n",
    "        try:\n",
    "            vec += w2v_model[word].reshape((1, size)) * tfidf[word]\n",
    "            count += 1.\n",
    "        except KeyError: # handling the case where the token is not\n",
    "                         # in the corpus. useful for testing.\n",
    "            continue\n",
    "    if count != 0:\n",
    "        vec /= count\n",
    "    return vec"
   ]
  },
  {
   "cell_type": "code",
   "execution_count": 50,
   "metadata": {},
   "outputs": [
    {
     "output_type": "stream",
     "name": "stderr",
     "text": [
      "ipykernel_launcher:6: DeprecationWarning: Call to deprecated `__getitem__` (Method will be removed in 4.0.0, use self.wv.__getitem__() instead).\n",
      "ipykernel_launcher:6: DeprecationWarning: Call to deprecated `__getitem__` (Method will be removed in 4.0.0, use self.wv.__getitem__() instead).\n",
      "shape for training set :  (25569, 300) \n",
      "shape for test set :  (6393, 300)\n"
     ]
    }
   ],
   "source": [
    "train_vecs_w2v = np.concatenate([buildWordVector(z, 300) for z in map(lambda x: x, X_train)])\n",
    "train_vecs_w2v = scale(train_vecs_w2v)\n",
    "\n",
    "test_vecs_w2v = np.concatenate([buildWordVector(z, 300) for z in map(lambda x: x, X_test)])\n",
    "test_vecs_w2v = scale(test_vecs_w2v)\n",
    "\n",
    "print ('shape for training set : ',train_vecs_w2v.shape,'\\nshape for test set : ', test_vecs_w2v.shape)"
   ]
  },
  {
   "cell_type": "code",
   "execution_count": 54,
   "metadata": {},
   "outputs": [
    {
     "output_type": "stream",
     "name": "stdout",
     "text": [
      "Model: \"sequential_3\"\n_________________________________________________________________\nLayer (type)                 Output Shape              Param #   \n=================================================================\ndense_6 (Dense)              (None, 128)               38528     \n_________________________________________________________________\ndropout (Dropout)            (None, 128)               0         \n_________________________________________________________________\ndense_7 (Dense)              (None, 1)                 129       \n=================================================================\nTotal params: 38,657\nTrainable params: 38,657\nNon-trainable params: 0\n_________________________________________________________________\n"
     ]
    }
   ],
   "source": [
    "model = Sequential()\n",
    "\n",
    "model.add(Dense(128, activation='relu', input_dim=300))\n",
    "model.add(Dropout(0.7))\n",
    "model.add(Dense(1, activation='sigmoid'))\n",
    "model.compile(optimizer='adadelta',\n",
    "              loss='binary_crossentropy',\n",
    "              metrics=['accuracy'])\n",
    "model.summary()"
   ]
  },
  {
   "cell_type": "code",
   "execution_count": 55,
   "metadata": {},
   "outputs": [
    {
     "output_type": "stream",
     "name": "stdout",
     "text": [
      "Epoch 1/20\n",
      "512/512 [==============================] - 1s 2ms/step - loss: 0.6768 - accuracy: 0.6890 - val_loss: 0.4326 - val_accuracy: 0.8573\n",
      "Epoch 2/20\n",
      "512/512 [==============================] - 1s 1ms/step - loss: 0.6614 - accuracy: 0.6973 - val_loss: 0.4238 - val_accuracy: 0.8641\n",
      "Epoch 3/20\n",
      "512/512 [==============================] - 1s 1ms/step - loss: 0.6463 - accuracy: 0.7100 - val_loss: 0.4154 - val_accuracy: 0.8692\n",
      "Epoch 4/20\n",
      "512/512 [==============================] - 1s 1ms/step - loss: 0.6419 - accuracy: 0.7064 - val_loss: 0.4074 - val_accuracy: 0.8730\n",
      "Epoch 5/20\n",
      "512/512 [==============================] - 1s 1ms/step - loss: 0.6244 - accuracy: 0.7185 - val_loss: 0.3999 - val_accuracy: 0.8772\n",
      "Epoch 6/20\n",
      "512/512 [==============================] - 1s 2ms/step - loss: 0.6138 - accuracy: 0.7239 - val_loss: 0.3926 - val_accuracy: 0.8832\n",
      "Epoch 7/20\n",
      "512/512 [==============================] - 1s 1ms/step - loss: 0.6059 - accuracy: 0.7284 - val_loss: 0.3856 - val_accuracy: 0.8877\n",
      "Epoch 8/20\n",
      "512/512 [==============================] - 1s 2ms/step - loss: 0.6019 - accuracy: 0.7296 - val_loss: 0.3789 - val_accuracy: 0.8907\n",
      "Epoch 9/20\n",
      "512/512 [==============================] - 1s 1ms/step - loss: 0.5871 - accuracy: 0.7389 - val_loss: 0.3724 - val_accuracy: 0.8950\n",
      "Epoch 10/20\n",
      "512/512 [==============================] - 1s 1ms/step - loss: 0.5796 - accuracy: 0.7423 - val_loss: 0.3663 - val_accuracy: 0.8993\n",
      "Epoch 11/20\n",
      "512/512 [==============================] - 1s 1ms/step - loss: 0.5701 - accuracy: 0.7490 - val_loss: 0.3604 - val_accuracy: 0.9024\n",
      "Epoch 12/20\n",
      "512/512 [==============================] - 1s 1ms/step - loss: 0.5626 - accuracy: 0.7533 - val_loss: 0.3547 - val_accuracy: 0.9060\n",
      "Epoch 13/20\n",
      "512/512 [==============================] - 1s 1ms/step - loss: 0.5550 - accuracy: 0.7575 - val_loss: 0.3492 - val_accuracy: 0.9077\n",
      "Epoch 14/20\n",
      "512/512 [==============================] - 1s 1ms/step - loss: 0.5542 - accuracy: 0.7603 - val_loss: 0.3440 - val_accuracy: 0.9107\n",
      "Epoch 15/20\n",
      "512/512 [==============================] - 1s 1ms/step - loss: 0.5451 - accuracy: 0.7632 - val_loss: 0.3390 - val_accuracy: 0.9118\n",
      "Epoch 16/20\n",
      "512/512 [==============================] - 1s 1ms/step - loss: 0.5319 - accuracy: 0.7719 - val_loss: 0.3342 - val_accuracy: 0.9135\n",
      "Epoch 17/20\n",
      "512/512 [==============================] - 1s 1ms/step - loss: 0.5302 - accuracy: 0.7732 - val_loss: 0.3296 - val_accuracy: 0.9176\n",
      "Epoch 18/20\n",
      "512/512 [==============================] - 1s 1ms/step - loss: 0.5148 - accuracy: 0.7793 - val_loss: 0.3252 - val_accuracy: 0.9191\n",
      "Epoch 19/20\n",
      "512/512 [==============================] - 1s 1ms/step - loss: 0.5167 - accuracy: 0.7806 - val_loss: 0.3209 - val_accuracy: 0.9199\n",
      "Epoch 20/20\n",
      "512/512 [==============================] - 1s 1ms/step - loss: 0.5025 - accuracy: 0.7881 - val_loss: 0.3168 - val_accuracy: 0.9216\n",
      "Training Accuracy: 0.9158\n",
      "Testing Accuracy:  0.9216\n"
     ]
    }
   ],
   "source": [
    "history = model.fit(train_vecs_w2v, y_train, epochs=20, batch_size=50,validation_data=(test_vecs_w2v,y_test))\n",
    "loss, accuracy = model.evaluate(train_vecs_w2v, y_train, verbose=False)\n",
    "print(\"Training Accuracy: {:.4f}\".format(accuracy))\n",
    "loss, accuracy = model.evaluate(test_vecs_w2v, y_test, verbose=False)\n",
    "print(\"Testing Accuracy:  {:.4f}\".format(accuracy))"
   ]
  },
  {
   "cell_type": "code",
   "execution_count": 57,
   "metadata": {},
   "outputs": [],
   "source": [
    "def plot_history(history):\n",
    "    acc = history.history['acc']\n",
    "    val_acc = history.history['val_acc']\n",
    "    loss = history.history['loss']\n",
    "    val_loss = history.history['val_loss']\n",
    "    x = range(1, len(acc) + 1)\n",
    "\n",
    "    plt.figure(figsize=(12, 5))\n",
    "    plt.subplot(1, 2, 1)\n",
    "    plt.plot(x, acc, 'b', label='Training acc')\n",
    "    plt.plot(x, val_acc, 'r', label='Validation acc')\n",
    "    plt.title('Training and validation accuracy')\n",
    "    plt.legend()\n",
    "    plt.subplot(1, 2, 2)\n",
    "    plt.plot(x, loss, 'b', label='Training loss')\n",
    "    plt.plot(x, val_loss, 'r', label='Validation loss')\n",
    "    plt.title('Training and validation loss')\n",
    "    plt.legend()\n",
    "#plot_history(history)"
   ]
  },
  {
   "cell_type": "code",
   "execution_count": null,
   "metadata": {},
   "outputs": [],
   "source": []
  }
 ]
}