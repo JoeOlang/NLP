{
  "nbformat": 4,
  "nbformat_minor": 0,
  "metadata": {
    "colab": {
      "name": "multiclass_nlp.ipynb",
      "provenance": [],
      "collapsed_sections": []
    },
    "kernelspec": {
      "name": "python3",
      "display_name": "Python 3"
    }
  },
  "cells": [
    {
      "cell_type": "markdown",
      "metadata": {
        "id": "S42k5Er1xqZC"
      },
      "source": [
        "Trying out varrious approcahes to try and create a model abble to classify reviews into five classes (5 stars). Data used is from Kaggle (Yelp User Review Dataset)\n",
        "\n",
        "---\n",
        "\n"
      ]
    },
    {
      "cell_type": "code",
      "metadata": {
        "colab": {
          "base_uri": "https://localhost:8080/"
        },
        "id": "kXQ6jOmA8dGQ",
        "outputId": "f49b9eb8-fc40-485f-a586-e1c274473191"
      },
      "source": [
        "import logging\n",
        "import pandas as pd\n",
        "import numpy as np\n",
        "from numpy import random\n",
        "import gensim\n",
        "import nltk\n",
        "from sklearn.model_selection import train_test_split\n",
        "from sklearn.feature_extraction.text import CountVectorizer, TfidfVectorizer\n",
        "from sklearn.metrics import accuracy_score, confusion_matrix\n",
        "import matplotlib.pyplot as plt\n",
        "from nltk.corpus import stopwords\n",
        "import re\n",
        "from bs4 import BeautifulSoup\n",
        "%matplotlib inline\n",
        "nltk.download('stopwords')\n",
        "nltk.download('punkt')"
      ],
      "execution_count": 1,
      "outputs": [
        {
          "output_type": "stream",
          "text": [
            "[nltk_data] Downloading package stopwords to /root/nltk_data...\n",
            "[nltk_data]   Unzipping corpora/stopwords.zip.\n",
            "[nltk_data] Downloading package punkt to /root/nltk_data...\n",
            "[nltk_data]   Unzipping tokenizers/punkt.zip.\n"
          ],
          "name": "stdout"
        },
        {
          "output_type": "execute_result",
          "data": {
            "text/plain": [
              "True"
            ]
          },
          "metadata": {
            "tags": []
          },
          "execution_count": 1
        }
      ]
    },
    {
      "cell_type": "code",
      "metadata": {
        "id": "7M2qmdSo8vV_"
      },
      "source": [
        "data = pd.read_csv(\"/content/drive/MyDrive/yelp.csv\")"
      ],
      "execution_count": 2,
      "outputs": []
    },
    {
      "cell_type": "code",
      "metadata": {
        "id": "kYob4o_ohM_F"
      },
      "source": [
        "data.drop(['business_id','date','review_id','type','user_id','cool','useful','funny'], axis=1, inplace=True)"
      ],
      "execution_count": 3,
      "outputs": []
    },
    {
      "cell_type": "code",
      "metadata": {
        "colab": {
          "base_uri": "https://localhost:8080/"
        },
        "id": "HzHK7eLSQmDI",
        "outputId": "5d49cf6e-fbf3-4b4f-affa-d4d0cf8ee2a4"
      },
      "source": [
        "data.stars.astype(int)\n",
        "data.stars.unique()"
      ],
      "execution_count": 4,
      "outputs": [
        {
          "output_type": "execute_result",
          "data": {
            "text/plain": [
              "array([5, 4, 2, 3, 1])"
            ]
          },
          "metadata": {
            "tags": []
          },
          "execution_count": 4
        }
      ]
    },
    {
      "cell_type": "code",
      "metadata": {
        "colab": {
          "base_uri": "https://localhost:8080/",
          "height": 262
        },
        "id": "xt38NsexRHQ_",
        "outputId": "150aaab6-1899-47c1-c14a-80e0568f2d90"
      },
      "source": [
        "stars = ['5', '4', '3', '2', '1']\n",
        "plt.figure(figsize=(10,4))\n",
        "data.stars.value_counts().plot(kind='bar');"
      ],
      "execution_count": 6,
      "outputs": [
        {
          "output_type": "display_data",
          "data": {
            "image/png": "[encoded data removed]",
            "text/plain": [
              "<Figure size 720x288 with 1 Axes>"
            ]
          },
          "metadata": {
            "tags": [],
            "needs_background": "light"
          }
        }
      ]
    },
    {
      "cell_type": "code",
      "metadata": {
        "colab": {
          "base_uri": "https://localhost:8080/"
        },
        "id": "IELAe3XKRscA",
        "outputId": "549d58b5-189a-4454-ad54-96f90cbb9747"
      },
      "source": [
        "def print_plot(index):\n",
        "    example = data[data.index == index][['text', 'stars']].values[0]\n",
        "    if len(example) > 0:\n",
        "        print(example[0])\n",
        "        print('Star:', example[1])\n",
        "\n",
        "print_plot(20)"
      ],
      "execution_count": 7,
      "outputs": [
        {
          "output_type": "stream",
          "text": [
            "DVAP....\n",
            "\n",
            "You have to go at least once in your life. It really is a neat place with alot of history. \n",
            "\n",
            "The service is great, it appears to be family run. \n",
            "\n",
            "The food is good. Better then Dennys but not as good as Mimi's. \n",
            "\n",
            "I had the all u can eat of beef ribs, lasagna, meat loaf, cat fish, chicken, mashed and diced potatoes, stuffing, rice, homemade apple pie, etc and salad bar. I know I am missing a bunch of stuff they had but you get the drift. \n",
            "\n",
            "They run specials on Prime rib and stuff so you might want to call to see what they are serving the night you go.\n",
            "Star: 3\n"
          ],
          "name": "stdout"
        }
      ]
    },
    {
      "cell_type": "code",
      "metadata": {
        "colab": {
          "base_uri": "https://localhost:8080/"
        },
        "id": "XCSoD8TYSKoz",
        "outputId": "f9e4ee9e-af19-4537-8c9a-91006801ff2f"
      },
      "source": [
        "REPLACE_BY_SPACE_RE = re.compile('[/(){}\\[\\]\\|@,;]')\n",
        "BAD_SYMBOLS_RE = re.compile('[^0-9a-z #+_]')\n",
        "STOPWORDS = set(stopwords.words('english'))\n",
        "\n",
        "def clean_text(text):\n",
        "    text = BeautifulSoup(text, \"lxml\").text # HTML decoding\n",
        "    text = text.lower() # lowercase text\n",
        "    text = REPLACE_BY_SPACE_RE.sub(' ', text) # replace REPLACE_BY_SPACE_RE symbols by space in text\n",
        "    text = BAD_SYMBOLS_RE.sub('', text) # delete symbols which are in BAD_SYMBOLS_RE from text\n",
        "    text = ' '.join(word for word in text.split() if word not in STOPWORDS) # delete stopwors from text\n",
        "    return text\n",
        "    \n",
        "data['post'] = data['text'].apply(clean_text)"
      ],
      "execution_count": 8,
      "outputs": [
        {
          "output_type": "stream",
          "text": [
            "DVAP....\n",
            "\n",
            "You have to go at least once in your life. It really is a neat place with alot of history. \n",
            "\n",
            "The service is great, it appears to be family run. \n",
            "\n",
            "The food is good. Better then Dennys but not as good as Mimi's. \n",
            "\n",
            "I had the all u can eat of beef ribs, lasagna, meat loaf, cat fish, chicken, mashed and diced potatoes, stuffing, rice, homemade apple pie, etc and salad bar. I know I am missing a bunch of stuff they had but you get the drift. \n",
            "\n",
            "They run specials on Prime rib and stuff so you might want to call to see what they are serving the night you go.\n",
            "Star: 3\n"
          ],
          "name": "stdout"
        }
      ]
    },
    {
      "cell_type": "code",
      "metadata": {
        "colab": {
          "base_uri": "https://localhost:8080/",
          "height": 572
        },
        "id": "-3KjaC_gkuoM",
        "outputId": "63f4defc-9e94-4645-f72a-32bb894aae60"
      },
      "source": [
        "data"
      ],
      "execution_count": 9,
      "outputs": [
        {
          "output_type": "execute_result",
          "data": {
            "text/html": [
              "<div>\n",
              "<style scoped>\n",
              "    .dataframe tbody tr th:only-of-type {\n",
              "        vertical-align: middle;\n",
              "    }\n",
              "\n",
              "    .dataframe tbody tr th {\n",
              "        vertical-align: top;\n",
              "    }\n",
              "\n",
              "    .dataframe thead th {\n",
              "        text-align: right;\n",
              "    }\n",
              "</style>\n",
              "<table border=\"1\" class=\"dataframe\">\n",
              "  <thead>\n",
              "    <tr style=\"text-align: right;\">\n",
              "      <th></th>\n",
              "      <th>stars</th>\n",
              "      <th>text</th>\n",
              "      <th>post</th>\n",
              "    </tr>\n",
              "  </thead>\n",
              "  <tbody>\n",
              "    <tr>\n",
              "      <th>0</th>\n",
              "      <td>5</td>\n",
              "      <td>My wife took me here on my birthday for breakf...</td>\n",
              "      <td>wife took birthday breakfast excellent weather...</td>\n",
              "    </tr>\n",
              "    <tr>\n",
              "      <th>1</th>\n",
              "      <td>5</td>\n",
              "      <td>I have no idea why some people give bad review...</td>\n",
              "      <td>idea people give bad reviews place goes show p...</td>\n",
              "    </tr>\n",
              "    <tr>\n",
              "      <th>2</th>\n",
              "      <td>4</td>\n",
              "      <td>love the gyro plate. Rice is so good and I als...</td>\n",
              "      <td>love gyro plate rice good also dig candy selec...</td>\n",
              "    </tr>\n",
              "    <tr>\n",
              "      <th>3</th>\n",
              "      <td>5</td>\n",
              "      <td>Rosie, Dakota, and I LOVE Chaparral Dog Park!!...</td>\n",
              "      <td>rosie dakota love chaparral dog park convenien...</td>\n",
              "    </tr>\n",
              "    <tr>\n",
              "      <th>4</th>\n",
              "      <td>5</td>\n",
              "      <td>General Manager Scott Petello is a good egg!!!...</td>\n",
              "      <td>general manager scott petello good egg go deta...</td>\n",
              "    </tr>\n",
              "    <tr>\n",
              "      <th>...</th>\n",
              "      <td>...</td>\n",
              "      <td>...</td>\n",
              "      <td>...</td>\n",
              "    </tr>\n",
              "    <tr>\n",
              "      <th>9995</th>\n",
              "      <td>3</td>\n",
              "      <td>First visit...Had lunch here today - used my G...</td>\n",
              "      <td>first visithad lunch today used groupon ordere...</td>\n",
              "    </tr>\n",
              "    <tr>\n",
              "      <th>9996</th>\n",
              "      <td>4</td>\n",
              "      <td>Should be called house of deliciousness!\\n\\nI ...</td>\n",
              "      <td>called house deliciousnessi could go item item...</td>\n",
              "    </tr>\n",
              "    <tr>\n",
              "      <th>9997</th>\n",
              "      <td>4</td>\n",
              "      <td>I recently visited Olive and Ivy for business ...</td>\n",
              "      <td>recently visited olive ivy business last week ...</td>\n",
              "    </tr>\n",
              "    <tr>\n",
              "      <th>9998</th>\n",
              "      <td>2</td>\n",
              "      <td>My nephew just moved to Scottsdale recently so...</td>\n",
              "      <td>nephew moved scottsdale recently bunch friends...</td>\n",
              "    </tr>\n",
              "    <tr>\n",
              "      <th>9999</th>\n",
              "      <td>5</td>\n",
              "      <td>4-5 locations.. all 4.5 star average.. I think...</td>\n",
              "      <td>45 locations 45 star average think arizona rea...</td>\n",
              "    </tr>\n",
              "  </tbody>\n",
              "</table>\n",
              "<p>10000 rows × 3 columns</p>\n",
              "</div>"
            ],
            "text/plain": [
              "      stars  ...                                               post\n",
              "0         5  ...  wife took birthday breakfast excellent weather...\n",
              "1         5  ...  idea people give bad reviews place goes show p...\n",
              "2         4  ...  love gyro plate rice good also dig candy selec...\n",
              "3         5  ...  rosie dakota love chaparral dog park convenien...\n",
              "4         5  ...  general manager scott petello good egg go deta...\n",
              "...     ...  ...                                                ...\n",
              "9995      3  ...  first visithad lunch today used groupon ordere...\n",
              "9996      4  ...  called house deliciousnessi could go item item...\n",
              "9997      4  ...  recently visited olive ivy business last week ...\n",
              "9998      2  ...  nephew moved scottsdale recently bunch friends...\n",
              "9999      5  ...  45 locations 45 star average think arizona rea...\n",
              "\n",
              "[10000 rows x 3 columns]"
            ]
          },
          "metadata": {
            "tags": []
          },
          "execution_count": 9
        }
      ]
    },
    {
      "cell_type": "code",
      "metadata": {
        "colab": {
          "base_uri": "https://localhost:8080/"
        },
        "id": "4CnMmE79k3Kc",
        "outputId": "a6d69c05-de6c-46a6-9cc4-f7d58dce9f19"
      },
      "source": [
        "data['post'].apply(lambda x: len(x.split(' '))).sum()"
      ],
      "execution_count": 10,
      "outputs": [
        {
          "output_type": "execute_result",
          "data": {
            "text/plain": [
              "675092"
            ]
          },
          "metadata": {
            "tags": []
          },
          "execution_count": 10
        }
      ]
    },
    {
      "cell_type": "code",
      "metadata": {
        "id": "T368A1NNmCbQ"
      },
      "source": [
        "X = data.post\n",
        "y = data.stars\n",
        "X_train, X_test, y_train, y_test = train_test_split(X, y, test_size=0.3, random_state = 42)"
      ],
      "execution_count": 11,
      "outputs": []
    },
    {
      "cell_type": "markdown",
      "metadata": {
        "id": "PldFu2lUmbRe"
      },
      "source": [
        "**Naive Bayes Classifier**\n",
        "\n",
        "---\n",
        "\n"
      ]
    },
    {
      "cell_type": "code",
      "metadata": {
        "colab": {
          "base_uri": "https://localhost:8080/"
        },
        "id": "9dn1jkYTmS2g",
        "outputId": "dcc08d40-c010-43c2-8ef9-1cd378e6de2f"
      },
      "source": [
        "from sklearn.naive_bayes import MultinomialNB\n",
        "from sklearn.pipeline import Pipeline\n",
        "from sklearn.feature_extraction.text import TfidfTransformer\n",
        "\n",
        "nb = Pipeline([('vect', CountVectorizer()),\n",
        "               ('tfidf', TfidfTransformer()),\n",
        "               ('clf', MultinomialNB()),\n",
        "              ])\n",
        "nb.fit(X_train, y_train)\n",
        "\n",
        "#%%time\n",
        "from sklearn.metrics import classification_report\n",
        "y_pred = nb.predict(X_test)\n",
        "\n",
        "print('accuracy %s' % accuracy_score(y_pred, y_test))\n",
        "print(classification_report(y_test, y_pred,target_names=stars))"
      ],
      "execution_count": 12,
      "outputs": [
        {
          "output_type": "stream",
          "text": [
            "accuracy 0.43733333333333335\n",
            "              precision    recall  f1-score   support\n",
            "\n",
            "           5       0.00      0.00      0.00       218\n",
            "           4       0.00      0.00      0.00       265\n",
            "           3       0.00      0.00      0.00       442\n",
            "           2       0.40      0.88      0.55      1087\n",
            "           1       0.61      0.36      0.45       988\n",
            "\n",
            "    accuracy                           0.44      3000\n",
            "   macro avg       0.20      0.25      0.20      3000\n",
            "weighted avg       0.34      0.44      0.35      3000\n",
            "\n"
          ],
          "name": "stdout"
        },
        {
          "output_type": "stream",
          "text": [
            "/usr/local/lib/python3.7/dist-packages/sklearn/metrics/_classification.py:1272: UndefinedMetricWarning: Precision and F-score are ill-defined and being set to 0.0 in labels with no predicted samples. Use `zero_division` parameter to control this behavior.\n",
            "  _warn_prf(average, modifier, msg_start, len(result))\n"
          ],
          "name": "stderr"
        }
      ]
    },
    {
      "cell_type": "markdown",
      "metadata": {
        "id": "1ZesS3TQnA72"
      },
      "source": [
        "**Linear Support Vector Machine**\n",
        "\n",
        "---\n",
        "\n"
      ]
    },
    {
      "cell_type": "code",
      "metadata": {
        "colab": {
          "base_uri": "https://localhost:8080/"
        },
        "id": "JgxLH1JknDmc",
        "outputId": "1bd76535-a304-4f71-8a51-38054151d3eb"
      },
      "source": [
        "from sklearn.linear_model import SGDClassifier\n",
        "\n",
        "sgd = Pipeline([('vect', CountVectorizer()),\n",
        "                ('tfidf', TfidfTransformer()),\n",
        "                ('clf', SGDClassifier(loss='hinge', penalty='l2',alpha=1e-3, random_state=42, max_iter=5, tol=None)),\n",
        "               ])\n",
        "sgd.fit(X_train, y_train)\n",
        "\n",
        "#%%time\n",
        "\n",
        "y_pred = sgd.predict(X_test)\n",
        "\n",
        "print('accuracy %s' % accuracy_score(y_pred, y_test))\n",
        "print(classification_report(y_test, y_pred,target_names=stars))"
      ],
      "execution_count": 13,
      "outputs": [
        {
          "output_type": "stream",
          "text": [
            "accuracy 0.5103333333333333\n",
            "              precision    recall  f1-score   support\n",
            "\n",
            "           5       0.58      0.41      0.48       218\n",
            "           4       0.48      0.19      0.27       265\n",
            "           3       0.39      0.14      0.20       442\n",
            "           2       0.52      0.49      0.51      1087\n",
            "           1       0.51      0.80      0.63       988\n",
            "\n",
            "    accuracy                           0.51      3000\n",
            "   macro avg       0.50      0.41      0.42      3000\n",
            "weighted avg       0.50      0.51      0.48      3000\n",
            "\n"
          ],
          "name": "stdout"
        }
      ]
    },
    {
      "cell_type": "markdown",
      "metadata": {
        "id": "672qZjZnnV0U"
      },
      "source": [
        "**Logistic Regression**\n",
        "\n",
        "\n",
        "---\n",
        "\n",
        "\n",
        "\n"
      ]
    },
    {
      "cell_type": "code",
      "metadata": {
        "colab": {
          "base_uri": "https://localhost:8080/"
        },
        "id": "bp5PIuB2nYxF",
        "outputId": "be7dd93e-3f0b-4cb4-a186-905424250aac"
      },
      "source": [
        "from sklearn.linear_model import LogisticRegression\n",
        "\n",
        "logreg = Pipeline([('vect', CountVectorizer()),\n",
        "                ('tfidf', TfidfTransformer()),\n",
        "                ('clf', LogisticRegression(n_jobs=1, C=1e5)),\n",
        "               ])\n",
        "logreg.fit(X_train, y_train)\n",
        "\n",
        "#%%time\n",
        "\n",
        "y_pred = logreg.predict(X_test)\n",
        "\n",
        "print('accuracy %s' % accuracy_score(y_pred, y_test))\n",
        "print(classification_report(y_test, y_pred,target_names=stars))"
      ],
      "execution_count": 14,
      "outputs": [
        {
          "output_type": "stream",
          "text": [
            "/usr/local/lib/python3.7/dist-packages/sklearn/linear_model/_logistic.py:940: ConvergenceWarning: lbfgs failed to converge (status=1):\n",
            "STOP: TOTAL NO. of ITERATIONS REACHED LIMIT.\n",
            "\n",
            "Increase the number of iterations (max_iter) or scale the data as shown in:\n",
            "    https://scikit-learn.org/stable/modules/preprocessing.html\n",
            "Please also refer to the documentation for alternative solver options:\n",
            "    https://scikit-learn.org/stable/modules/linear_model.html#logistic-regression\n",
            "  extra_warning_msg=_LOGISTIC_SOLVER_CONVERGENCE_MSG)\n"
          ],
          "name": "stderr"
        },
        {
          "output_type": "stream",
          "text": [
            "accuracy 0.48433333333333334\n",
            "              precision    recall  f1-score   support\n",
            "\n",
            "           5       0.60      0.43      0.50       218\n",
            "           4       0.38      0.37      0.37       265\n",
            "           3       0.35      0.35      0.35       442\n",
            "           2       0.49      0.49      0.49      1087\n",
            "           1       0.54      0.58      0.56       988\n",
            "\n",
            "    accuracy                           0.48      3000\n",
            "   macro avg       0.47      0.44      0.45      3000\n",
            "weighted avg       0.49      0.48      0.48      3000\n",
            "\n"
          ],
          "name": "stdout"
        }
      ]
    },
    {
      "cell_type": "markdown",
      "metadata": {
        "id": "Ls-QBFgsol4d"
      },
      "source": [
        "**Keras**\n",
        "\n",
        "---\n",
        "\n"
      ]
    },
    {
      "cell_type": "code",
      "metadata": {
        "id": "c7tn5Vu1n1b9"
      },
      "source": [
        "import itertools\n",
        "import os\n",
        "\n",
        "%matplotlib inline\n",
        "import matplotlib.pyplot as plt\n",
        "import numpy as np\n",
        "import pandas as pd\n",
        "import tensorflow as tf\n",
        "\n",
        "from sklearn.preprocessing import LabelBinarizer, LabelEncoder\n",
        "from sklearn.metrics import confusion_matrix\n",
        "\n",
        "from tensorflow import keras\n",
        "from keras.models import Sequential\n",
        "from keras.layers import Dense, Activation, Dropout\n",
        "from keras.preprocessing import text, sequence\n",
        "from keras import utils"
      ],
      "execution_count": 15,
      "outputs": []
    },
    {
      "cell_type": "code",
      "metadata": {
        "id": "xiIytPJ7wHjn"
      },
      "source": [
        "train_size = int(len(data) * .7)\n",
        "train_posts = data['post'][:train_size]\n",
        "train_tags = data['stars'][:train_size]\n",
        "\n",
        "test_posts = data['post'][train_size:]\n",
        "test_tags = data['stars'][train_size:]"
      ],
      "execution_count": 16,
      "outputs": []
    },
    {
      "cell_type": "code",
      "metadata": {
        "id": "sH-KzFTzwVBo"
      },
      "source": [
        "max_words = 1000\n",
        "tokenize = text.Tokenizer(num_words=max_words, char_level=False)\n",
        "tokenize.fit_on_texts(train_posts) # only fit on train\n",
        "\n",
        "x_train = tokenize.texts_to_matrix(train_posts)\n",
        "x_test = tokenize.texts_to_matrix(test_posts)\n",
        "\n",
        "encoder = LabelEncoder()\n",
        "encoder.fit(train_tags)\n",
        "y_train = encoder.transform(train_tags)\n",
        "y_test = encoder.transform(test_tags)\n",
        "\n",
        "num_classes = np.max(y_train) + 1\n",
        "y_train = utils.to_categorical(y_train, num_classes)\n",
        "y_test = utils.to_categorical(y_test, num_classes)\n",
        "\n",
        "batch_size = 32\n",
        "epochs = 10"
      ],
      "execution_count": 17,
      "outputs": []
    },
    {
      "cell_type": "code",
      "metadata": {
        "colab": {
          "base_uri": "https://localhost:8080/"
        },
        "id": "hi2dw6e4wn4G",
        "outputId": "9be8e5cd-b363-4103-e3d3-267315fa7ea0"
      },
      "source": [
        "# Build the model\n",
        "model = Sequential()\n",
        "model.add(Dense(512, input_shape=(max_words,)))\n",
        "model.add(Activation('relu'))\n",
        "model.add(Dropout(0.5))\n",
        "model.add(Dense(num_classes))\n",
        "model.add(Activation('softmax'))\n",
        "\n",
        "model.compile(loss='categorical_crossentropy',\n",
        "              optimizer='adam',\n",
        "              metrics=['accuracy'])\n",
        "              \n",
        "history = model.fit(x_train, y_train,\n",
        "                    batch_size=batch_size,\n",
        "                    epochs=epochs,\n",
        "                    verbose=1,\n",
        "                    validation_split=0.1)"
      ],
      "execution_count": 18,
      "outputs": [
        {
          "output_type": "stream",
          "text": [
            "Epoch 1/10\n",
            "197/197 [==============================] - 2s 8ms/step - loss: 1.3686 - accuracy: 0.4020 - val_loss: 1.1216 - val_accuracy: 0.5171\n",
            "Epoch 2/10\n",
            "197/197 [==============================] - 1s 5ms/step - loss: 0.9038 - accuracy: 0.6372 - val_loss: 1.1222 - val_accuracy: 0.5300\n",
            "Epoch 3/10\n",
            "197/197 [==============================] - 1s 5ms/step - loss: 0.7302 - accuracy: 0.7312 - val_loss: 1.1600 - val_accuracy: 0.5186\n",
            "Epoch 4/10\n",
            "197/197 [==============================] - 1s 5ms/step - loss: 0.5781 - accuracy: 0.8056 - val_loss: 1.1965 - val_accuracy: 0.5057\n",
            "Epoch 5/10\n",
            "197/197 [==============================] - 1s 5ms/step - loss: 0.4394 - accuracy: 0.8641 - val_loss: 1.2665 - val_accuracy: 0.4914\n",
            "Epoch 6/10\n",
            "197/197 [==============================] - 1s 5ms/step - loss: 0.3272 - accuracy: 0.9179 - val_loss: 1.3321 - val_accuracy: 0.5071\n",
            "Epoch 7/10\n",
            "197/197 [==============================] - 1s 5ms/step - loss: 0.2409 - accuracy: 0.9484 - val_loss: 1.3919 - val_accuracy: 0.5114\n",
            "Epoch 8/10\n",
            "197/197 [==============================] - 1s 5ms/step - loss: 0.1982 - accuracy: 0.9595 - val_loss: 1.4628 - val_accuracy: 0.5129\n",
            "Epoch 9/10\n",
            "197/197 [==============================] - 1s 5ms/step - loss: 0.1529 - accuracy: 0.9689 - val_loss: 1.4942 - val_accuracy: 0.5100\n",
            "Epoch 10/10\n",
            "197/197 [==============================] - 1s 6ms/step - loss: 0.1234 - accuracy: 0.9761 - val_loss: 1.5602 - val_accuracy: 0.5029\n"
          ],
          "name": "stdout"
        }
      ]
    }
  ]
}