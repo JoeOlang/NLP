{
 "cells": [
  {
   "cell_type": "code",
   "execution_count": 1,
   "metadata": {},
   "outputs": [],
   "source": [
    "from transformers import pipeline\n",
    "from transformers import AutoTokenizer, AutoModelForTokenClassification\n",
    "import spacy\n",
    "from spacy import displacy"
   ]
  },
  {
   "cell_type": "code",
   "execution_count": 2,
   "metadata": {},
   "outputs": [],
   "source": [
    "model_id = \"eolang/Swahili-NER-BertBase-Cased\"\n",
    "tokenizer = AutoTokenizer.from_pretrained(model_id)\n",
    "model = AutoModelForTokenClassification.from_pretrained(model_id)"
   ]
  },
  {
   "cell_type": "code",
   "execution_count": 3,
   "metadata": {},
   "outputs": [],
   "source": [
    "nlp = pipeline(\"ner\", model=model, tokenizer=tokenizer)"
   ]
  },
  {
   "attachments": {},
   "cell_type": "markdown",
   "metadata": {},
   "source": [
    "-----"
   ]
  },
  {
   "attachments": {},
   "cell_type": "markdown",
   "metadata": {},
   "source": [
    "- Label mapping O (0), B-PER (1), I-PER (2), B-ORG (3), I-ORG (4), B-LOC (5), I-LOC (6).\n",
    "- In simple temrs B-PER means the word is the beginning of a person's name, I-PER means it is inside a person's name, and O means it is outside a named entity.\n",
    "- This is the IOB2 tagging scheme; the same logc aplies to B-ORG, I-ORG, B-LOC, I-LOC etc."
   ]
  },
  {
   "cell_type": "code",
   "execution_count": 4,
   "metadata": {},
   "outputs": [],
   "source": [
    "label_map = {\n",
    "    'LABEL_0': \"Other\",\n",
    "    'LABEL_1': \"B-PERSON\",\n",
    "    'LABEL_2': \"I-PERSON\",\n",
    "    'LABEL_3': \"B-ORGANIZATION\",\n",
    "    'LABEL_4': \"I-ORGANIZATION\",\n",
    "    'LABEL_5': \"B-LOCATION\",\n",
    "    'LABEL_6': \"I-LOCATION\"\n",
    "}"
   ]
  },
  {
   "cell_type": "code",
   "execution_count": 7,
   "metadata": {},
   "outputs": [],
   "source": [
    "def tag(sentence):\n",
    "    # get NER tags\n",
    "    ner_results = nlp(sentence)\n",
    "    # get the labels\n",
    "    labels = [label_map[result[\"entity\"]] for result in ner_results]\n",
    "    # get the words\n",
    "    words = [result[\"word\"] for result in ner_results]\n",
    "    # zip words and labels\n",
    "    results = list(zip(words, labels))\n",
    "\n",
    "    tokens = words\n",
    "    doc = nlp(' '.join(tokens))\n",
    "    return results"
   ]
  },
  {
   "cell_type": "code",
   "execution_count": 6,
   "metadata": {},
   "outputs": [],
   "source": [
    "def render(ner_results):\n",
    "    # create a Spacy Doc object with the words\n",
    "    words = [r['word'] for r in ner_results]\n",
    "    doc = spacy.tokens.Doc(spacy.vocab.Vocab(), words=words)\n",
    "\n",
    "    # add entities to the Doc object\n",
    "    entities = [(i, i+1, r['entity']) for i, r in enumerate(ner_results)]\n",
    "    doc.ents = [spacy.tokens.Span(doc, start, end, label) for start, end, label in entities]\n",
    "\n",
    "    # create the visualization with displacy with colors\n",
    "    options = {'ents': [r['entity'] for r in ner_results]}\n",
    "    displacy.render(doc, style='ent', jupyter=True, options=options)"
   ]
  },
  {
   "cell_type": "code",
   "execution_count": 8,
   "metadata": {},
   "outputs": [
    {
     "ename": "TypeError",
     "evalue": "tuple indices must be integers or slices, not str",
     "output_type": "error",
     "traceback": [
      "\u001b[0;31m---------------------------------------------------------------------------\u001b[0m",
      "\u001b[0;31mTypeError\u001b[0m                                 Traceback (most recent call last)",
      "Cell \u001b[0;32mIn[8], line 1\u001b[0m\n\u001b[0;32m----> 1\u001b[0m render(tag(\u001b[39m\"\u001b[39;49m\u001b[39mMimi ni mwanafunzi wa Chuo Kikuu cha Dar es Salaam.\u001b[39;49m\u001b[39m\"\u001b[39;49m))\n",
      "Cell \u001b[0;32mIn[6], line 3\u001b[0m, in \u001b[0;36mrender\u001b[0;34m(ner_results)\u001b[0m\n\u001b[1;32m      1\u001b[0m \u001b[39mdef\u001b[39;00m \u001b[39mrender\u001b[39m(ner_results):\n\u001b[1;32m      2\u001b[0m     \u001b[39m# create a Spacy Doc object with the words\u001b[39;00m\n\u001b[0;32m----> 3\u001b[0m     words \u001b[39m=\u001b[39m [r[\u001b[39m'\u001b[39m\u001b[39mword\u001b[39m\u001b[39m'\u001b[39m] \u001b[39mfor\u001b[39;00m r \u001b[39min\u001b[39;00m ner_results]\n\u001b[1;32m      4\u001b[0m     doc \u001b[39m=\u001b[39m spacy\u001b[39m.\u001b[39mtokens\u001b[39m.\u001b[39mDoc(spacy\u001b[39m.\u001b[39mvocab\u001b[39m.\u001b[39mVocab(), words\u001b[39m=\u001b[39mwords)\n\u001b[1;32m      6\u001b[0m     \u001b[39m# add entities to the Doc object\u001b[39;00m\n",
      "Cell \u001b[0;32mIn[6], line 3\u001b[0m, in \u001b[0;36m<listcomp>\u001b[0;34m(.0)\u001b[0m\n\u001b[1;32m      1\u001b[0m \u001b[39mdef\u001b[39;00m \u001b[39mrender\u001b[39m(ner_results):\n\u001b[1;32m      2\u001b[0m     \u001b[39m# create a Spacy Doc object with the words\u001b[39;00m\n\u001b[0;32m----> 3\u001b[0m     words \u001b[39m=\u001b[39m [r[\u001b[39m'\u001b[39;49m\u001b[39mword\u001b[39;49m\u001b[39m'\u001b[39;49m] \u001b[39mfor\u001b[39;00m r \u001b[39min\u001b[39;00m ner_results]\n\u001b[1;32m      4\u001b[0m     doc \u001b[39m=\u001b[39m spacy\u001b[39m.\u001b[39mtokens\u001b[39m.\u001b[39mDoc(spacy\u001b[39m.\u001b[39mvocab\u001b[39m.\u001b[39mVocab(), words\u001b[39m=\u001b[39mwords)\n\u001b[1;32m      6\u001b[0m     \u001b[39m# add entities to the Doc object\u001b[39;00m\n",
      "\u001b[0;31mTypeError\u001b[0m: tuple indices must be integers or slices, not str"
     ]
    }
   ],
   "source": [
    "render(tag(\"Mimi ni mwanafunzi wa Chuo Kikuu cha Dar es Salaam.\"))"
   ]
  }
 ],
 "metadata": {
  "kernelspec": {
   "display_name": "nlp",
   "language": "python",
   "name": "python3"
  },
  "language_info": {
   "codemirror_mode": {
    "name": "ipython",
    "version": 3
   },
   "file_extension": ".py",
   "mimetype": "text/x-python",
   "name": "python",
   "nbconvert_exporter": "python",
   "pygments_lexer": "ipython3",
   "version": "3.9.16"
  },
  "orig_nbformat": 4
 },
 "nbformat": 4,
 "nbformat_minor": 2
}
