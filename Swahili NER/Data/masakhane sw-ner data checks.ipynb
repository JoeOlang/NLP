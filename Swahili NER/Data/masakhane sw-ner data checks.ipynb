{
 "cells": [
  {
   "cell_type": "code",
   "execution_count": null,
   "metadata": {},
   "outputs": [],
   "source": [
    "from datasets import load_dataset\n",
    "\n",
    "dataset = load_dataset(\"masakhaner\", \"swa\")\n",
    "dataset"
   ]
  },
  {
   "cell_type": "code",
   "execution_count": 11,
   "metadata": {},
   "outputs": [
    {
     "name": "stdout",
     "output_type": "stream",
     "text": [
      "['O', 'B-PER', 'I-PER', 'B-ORG', 'I-ORG', 'B-LOC', 'I-LOC', 'B-DATE', 'I-DATE']\n"
     ]
    }
   ],
   "source": [
    "# print all unique labels(ner tags)\n",
    "\n",
    "ner_tags = dataset[\"train\"].features[\"ner_tags\"].feature.names\n",
    "print(ner_tags)"
   ]
  },
  {
   "cell_type": "code",
   "execution_count": null,
   "metadata": {},
   "outputs": [],
   "source": [
    "# tga mapping\n",
    "\n",
    "mapping = {\n",
    "    \"O\": 0,\n",
    "    \"B-PER\": 1,\n",
    "    \"I-PER\": 2,\n",
    "    \"B-ORG\": 3,\n",
    "    \"I-ORG\": 4,\n",
    "    \"B-LOC\": 5,\n",
    "    \"I-LOC\": 6,\n",
    "    \"B-DATE\": 7,\n",
    "    \"I-DATE\": 8,\n",
    "}\n"
   ]
  },
  {
   "cell_type": "code",
   "execution_count": 8,
   "metadata": {},
   "outputs": [
    {
     "data": {
      "text/html": [
       "<div>\n",
       "<style scoped>\n",
       "    .dataframe tbody tr th:only-of-type {\n",
       "        vertical-align: middle;\n",
       "    }\n",
       "\n",
       "    .dataframe tbody tr th {\n",
       "        vertical-align: top;\n",
       "    }\n",
       "\n",
       "    .dataframe thead th {\n",
       "        text-align: right;\n",
       "    }\n",
       "</style>\n",
       "<table border=\"1\" class=\"dataframe\">\n",
       "  <thead>\n",
       "    <tr style=\"text-align: right;\">\n",
       "      <th></th>\n",
       "      <th>id</th>\n",
       "      <th>tokens</th>\n",
       "      <th>ner_tags</th>\n",
       "    </tr>\n",
       "  </thead>\n",
       "  <tbody>\n",
       "    <tr>\n",
       "      <th>0</th>\n",
       "      <td>0</td>\n",
       "      <td>[Wizara, ya, afya, ya, Tanzania, imeripoti, Ju...</td>\n",
       "      <td>[3, 4, 4, 4, 4, 0, 7, 0, 0, 0, 0, 0, 0, 0, 0, ...</td>\n",
       "    </tr>\n",
       "    <tr>\n",
       "      <th>1</th>\n",
       "      <td>1</td>\n",
       "      <td>[Walioambukizwa, wote, ni, raia, wa, Tanzania,...</td>\n",
       "      <td>[0, 0, 0, 0, 0, 5, 0, 0, 0, 5, 6, 6, 6, 6, 0, ...</td>\n",
       "    </tr>\n",
       "    <tr>\n",
       "      <th>2</th>\n",
       "      <td>2</td>\n",
       "      <td>[Wizara, ya, afya, imeripoti, kwamba, juhudi, ...</td>\n",
       "      <td>[0, 0, 0, 0, 0, 0, 0, 0, 0, 0, 0, 0, 0, 0, 0]</td>\n",
       "    </tr>\n",
       "    <tr>\n",
       "      <th>3</th>\n",
       "      <td>3</td>\n",
       "      <td>[Wakati, wa, maadimisho, ya, pasaka, ,, wakris...</td>\n",
       "      <td>[0, 0, 0, 0, 0, 0, 0, 0, 0, 0, 0, 0, 0, 0, 0, ...</td>\n",
       "    </tr>\n",
       "    <tr>\n",
       "      <th>4</th>\n",
       "      <td>4</td>\n",
       "      <td>[Kuna, mijadala, kwenye, mitandao, ya, kijamii...</td>\n",
       "      <td>[0, 0, 0, 0, 0, 0, 5, 0, 0, 0, 0, 0, 0, 0, 0, 0]</td>\n",
       "    </tr>\n",
       "  </tbody>\n",
       "</table>\n",
       "</div>"
      ],
      "text/plain": [
       "  id                                             tokens  \\\n",
       "0  0  [Wizara, ya, afya, ya, Tanzania, imeripoti, Ju...   \n",
       "1  1  [Walioambukizwa, wote, ni, raia, wa, Tanzania,...   \n",
       "2  2  [Wizara, ya, afya, imeripoti, kwamba, juhudi, ...   \n",
       "3  3  [Wakati, wa, maadimisho, ya, pasaka, ,, wakris...   \n",
       "4  4  [Kuna, mijadala, kwenye, mitandao, ya, kijamii...   \n",
       "\n",
       "                                            ner_tags  \n",
       "0  [3, 4, 4, 4, 4, 0, 7, 0, 0, 0, 0, 0, 0, 0, 0, ...  \n",
       "1  [0, 0, 0, 0, 0, 5, 0, 0, 0, 5, 6, 6, 6, 6, 0, ...  \n",
       "2      [0, 0, 0, 0, 0, 0, 0, 0, 0, 0, 0, 0, 0, 0, 0]  \n",
       "3  [0, 0, 0, 0, 0, 0, 0, 0, 0, 0, 0, 0, 0, 0, 0, ...  \n",
       "4   [0, 0, 0, 0, 0, 0, 5, 0, 0, 0, 0, 0, 0, 0, 0, 0]  "
      ]
     },
     "execution_count": 8,
     "metadata": {},
     "output_type": "execute_result"
    }
   ],
   "source": [
    "# convert to pandas dataframe\n",
    "df = dataset[\"train\"].to_pandas()\n",
    "df.head()"
   ]
  },
  {
   "cell_type": "code",
   "execution_count": 10,
   "metadata": {},
   "outputs": [
    {
     "name": "stdout",
     "output_type": "stream",
     "text": [
      "[3 4 4 4 4 0 7 0 0 0 0 0 0 0 0 0 0 0 0 0]\n",
      "[0 0 0 0 0 5 0 0 0 5 6 6 6 6 0 0 0 5 0]\n"
     ]
    }
   ],
   "source": [
    "x1 = df['ner_tags'].iloc[0]\n",
    "x2 = df['ner_tags'].iloc[1]\n",
    "\n",
    "print(x1)\n",
    "print(x2)"
   ]
  },
  {
   "cell_type": "code",
   "execution_count": 49,
   "metadata": {},
   "outputs": [],
   "source": [
    "# set of all tag counts to 0\n",
    "O_count = 0\n",
    "B_PER_count = 0\n",
    "I_PER_count = 0\n",
    "B_ORG_count = 0\n",
    "I_ORG_count = 0\n",
    "B_LOC_count = 0\n",
    "I_LOC_count = 0\n",
    "B_DATE_count = 0\n",
    "I_DATE_count = 0"
   ]
  },
  {
   "cell_type": "code",
   "execution_count": 53,
   "metadata": {},
   "outputs": [
    {
     "name": "stdout",
     "output_type": "stream",
     "text": [
      "2109\n"
     ]
    }
   ],
   "source": [
    "# store all tags in a list\n",
    "all_tags = df['ner_tags'].tolist()\n",
    "print(len(all_tags))\n"
   ]
  },
  {
   "cell_type": "code",
   "execution_count": 54,
   "metadata": {},
   "outputs": [
    {
     "data": {
      "application/json": {
       "ascii": false,
       "bar_format": null,
       "colour": null,
       "elapsed": 0.023893117904663086,
       "initial": 0,
       "n": 0,
       "ncols": null,
       "nrows": null,
       "postfix": null,
       "prefix": "",
       "rate": null,
       "total": 2109,
       "unit": "it",
       "unit_divisor": 1000,
       "unit_scale": false
      },
      "application/vnd.jupyter.widget-view+json": {
       "model_id": "d968b24dea304a3694ded44f974e88bf",
       "version_major": 2,
       "version_minor": 0
      },
      "text/plain": [
       "  0%|          | 0/2109 [00:00<?, ?it/s]"
      ]
     },
     "metadata": {},
     "output_type": "display_data"
    }
   ],
   "source": [
    "from tqdm.auto import tqdm\n",
    "\n",
    "# for each item in the list, count the number of each tag\n",
    "for item in tqdm(all_tags):\n",
    "    for tag in i:\n",
    "        if tag == 0:\n",
    "            O_count += 1\n",
    "        elif tag == 1:\n",
    "            B_PER_count += 1\n",
    "        elif tag == 2:\n",
    "            I_PER_count += 1\n",
    "        elif tag == 3:\n",
    "            B_ORG_count += 1\n",
    "        elif tag == 4:\n",
    "            I_ORG_count += 1\n",
    "        elif tag == 5:\n",
    "            B_LOC_count += 1\n",
    "        elif tag == 6:\n",
    "            I_LOC_count += 1\n",
    "        elif tag == 7:\n",
    "            B_DATE_count += 1\n",
    "        elif tag == 8:\n",
    "            I_DATE_count += 1"
   ]
  },
  {
   "cell_type": "code",
   "execution_count": 55,
   "metadata": {},
   "outputs": [
    {
     "name": "stdout",
     "output_type": "stream",
     "text": [
      "O_count:  25334\n",
      "B_PER_count:  0\n",
      "I_PER_count:  0\n",
      "B_ORG_count:  1\n",
      "I_ORG_count:  4\n",
      "B_LOC_count:  6330\n",
      "I_LOC_count:  8440\n",
      "B_DATE_count:  1\n",
      "I_DATE_count:  0\n"
     ]
    }
   ],
   "source": [
    "# print all tag counts\n",
    "\n",
    "print('O_count: ', O_count)\n",
    "print('B_PER_count: ', B_PER_count)\n",
    "print('I_PER_count: ', I_PER_count)\n",
    "print('B_ORG_count: ', B_ORG_count)\n",
    "print('I_ORG_count: ', I_ORG_count)\n",
    "print('B_LOC_count: ', B_LOC_count)\n",
    "print('I_LOC_count: ', I_LOC_count)\n",
    "print('B_DATE_count: ', B_DATE_count)\n",
    "print('I_DATE_count: ', I_DATE_count)"
   ]
  },
  {
   "cell_type": "code",
   "execution_count": 57,
   "metadata": {},
   "outputs": [
    {
     "name": "stderr",
     "output_type": "stream",
     "text": [
      "<ipython-input-57-8734e0b82abe>:7: FutureWarning: The frame.append method is deprecated and will be removed from pandas in a future version. Use pandas.concat instead.\n",
      "  tag_df = tag_df.append({'ner_tag': 'O', 'count': O_count}, ignore_index=True)\n",
      "<ipython-input-57-8734e0b82abe>:8: FutureWarning: The frame.append method is deprecated and will be removed from pandas in a future version. Use pandas.concat instead.\n",
      "  tag_df = tag_df.append({'ner_tag': 'B-PER', 'count': B_PER_count}, ignore_index=True)\n",
      "<ipython-input-57-8734e0b82abe>:9: FutureWarning: The frame.append method is deprecated and will be removed from pandas in a future version. Use pandas.concat instead.\n",
      "  tag_df = tag_df.append({'ner_tag': 'I-PER', 'count': I_PER_count}, ignore_index=True)\n",
      "<ipython-input-57-8734e0b82abe>:10: FutureWarning: The frame.append method is deprecated and will be removed from pandas in a future version. Use pandas.concat instead.\n",
      "  tag_df = tag_df.append({'ner_tag': 'B-ORG', 'count': B_ORG_count}, ignore_index=True)\n",
      "<ipython-input-57-8734e0b82abe>:11: FutureWarning: The frame.append method is deprecated and will be removed from pandas in a future version. Use pandas.concat instead.\n",
      "  tag_df = tag_df.append({'ner_tag': 'I-ORG', 'count': I_ORG_count}, ignore_index=True)\n",
      "<ipython-input-57-8734e0b82abe>:12: FutureWarning: The frame.append method is deprecated and will be removed from pandas in a future version. Use pandas.concat instead.\n",
      "  tag_df = tag_df.append({'ner_tag': 'B-LOC', 'count': B_LOC_count}, ignore_index=True)\n",
      "<ipython-input-57-8734e0b82abe>:13: FutureWarning: The frame.append method is deprecated and will be removed from pandas in a future version. Use pandas.concat instead.\n",
      "  tag_df = tag_df.append({'ner_tag': 'I-LOC', 'count': I_LOC_count}, ignore_index=True)\n",
      "<ipython-input-57-8734e0b82abe>:14: FutureWarning: The frame.append method is deprecated and will be removed from pandas in a future version. Use pandas.concat instead.\n",
      "  tag_df = tag_df.append({'ner_tag': 'B-DATE', 'count': B_DATE_count}, ignore_index=True)\n",
      "<ipython-input-57-8734e0b82abe>:15: FutureWarning: The frame.append method is deprecated and will be removed from pandas in a future version. Use pandas.concat instead.\n",
      "  tag_df = tag_df.append({'ner_tag': 'I-DATE', 'count': I_DATE_count}, ignore_index=True)\n"
     ]
    },
    {
     "data": {
      "text/html": [
       "<div>\n",
       "<style scoped>\n",
       "    .dataframe tbody tr th:only-of-type {\n",
       "        vertical-align: middle;\n",
       "    }\n",
       "\n",
       "    .dataframe tbody tr th {\n",
       "        vertical-align: top;\n",
       "    }\n",
       "\n",
       "    .dataframe thead th {\n",
       "        text-align: right;\n",
       "    }\n",
       "</style>\n",
       "<table border=\"1\" class=\"dataframe\">\n",
       "  <thead>\n",
       "    <tr style=\"text-align: right;\">\n",
       "      <th></th>\n",
       "      <th>ner_tag</th>\n",
       "      <th>count</th>\n",
       "    </tr>\n",
       "  </thead>\n",
       "  <tbody>\n",
       "    <tr>\n",
       "      <th>0</th>\n",
       "      <td>O</td>\n",
       "      <td>25334</td>\n",
       "    </tr>\n",
       "    <tr>\n",
       "      <th>1</th>\n",
       "      <td>B-PER</td>\n",
       "      <td>0</td>\n",
       "    </tr>\n",
       "    <tr>\n",
       "      <th>2</th>\n",
       "      <td>I-PER</td>\n",
       "      <td>0</td>\n",
       "    </tr>\n",
       "    <tr>\n",
       "      <th>3</th>\n",
       "      <td>B-ORG</td>\n",
       "      <td>1</td>\n",
       "    </tr>\n",
       "    <tr>\n",
       "      <th>4</th>\n",
       "      <td>I-ORG</td>\n",
       "      <td>4</td>\n",
       "    </tr>\n",
       "    <tr>\n",
       "      <th>5</th>\n",
       "      <td>B-LOC</td>\n",
       "      <td>6330</td>\n",
       "    </tr>\n",
       "    <tr>\n",
       "      <th>6</th>\n",
       "      <td>I-LOC</td>\n",
       "      <td>8440</td>\n",
       "    </tr>\n",
       "    <tr>\n",
       "      <th>7</th>\n",
       "      <td>B-DATE</td>\n",
       "      <td>1</td>\n",
       "    </tr>\n",
       "    <tr>\n",
       "      <th>8</th>\n",
       "      <td>I-DATE</td>\n",
       "      <td>0</td>\n",
       "    </tr>\n",
       "  </tbody>\n",
       "</table>\n",
       "</div>"
      ],
      "text/plain": [
       "  ner_tag  count\n",
       "0       O  25334\n",
       "1   B-PER      0\n",
       "2   I-PER      0\n",
       "3   B-ORG      1\n",
       "4   I-ORG      4\n",
       "5   B-LOC   6330\n",
       "6   I-LOC   8440\n",
       "7  B-DATE      1\n",
       "8  I-DATE      0"
      ]
     },
     "execution_count": 57,
     "metadata": {},
     "output_type": "execute_result"
    }
   ],
   "source": [
    "import pandas as pd\n",
    "\n",
    "# new df with the ner_tag and count columns\n",
    "tag_df = pd.DataFrame(columns=['ner_tag', 'count'])\n",
    "\n",
    "# add all tag counts to the df\n",
    "tag_df = tag_df.append({'ner_tag': 'O', 'count': O_count}, ignore_index=True)\n",
    "tag_df = tag_df.append({'ner_tag': 'B-PER', 'count': B_PER_count}, ignore_index=True)\n",
    "tag_df = tag_df.append({'ner_tag': 'I-PER', 'count': I_PER_count}, ignore_index=True)\n",
    "tag_df = tag_df.append({'ner_tag': 'B-ORG', 'count': B_ORG_count}, ignore_index=True)\n",
    "tag_df = tag_df.append({'ner_tag': 'I-ORG', 'count': I_ORG_count}, ignore_index=True)\n",
    "tag_df = tag_df.append({'ner_tag': 'B-LOC', 'count': B_LOC_count}, ignore_index=True)\n",
    "tag_df = tag_df.append({'ner_tag': 'I-LOC', 'count': I_LOC_count}, ignore_index=True)\n",
    "tag_df = tag_df.append({'ner_tag': 'B-DATE', 'count': B_DATE_count}, ignore_index=True)\n",
    "tag_df = tag_df.append({'ner_tag': 'I-DATE', 'count': I_DATE_count}, ignore_index=True)\n",
    "\n",
    "tag_df"
   ]
  },
  {
   "cell_type": "code",
   "execution_count": 58,
   "metadata": {},
   "outputs": [
    {
     "data": {
      "image/png": "[encoded data removed]",
      "text/plain": [
       "<Figure size 432x288 with 1 Axes>"
      ]
     },
     "metadata": {},
     "output_type": "display_data"
    }
   ],
   "source": [
    "# plot counts with seaborn\n",
    "\n",
    "import seaborn as sns\n",
    "import matplotlib.pyplot as plt\n",
    "\n",
    "sns.set_theme(style=\"whitegrid\")\n",
    "ax = sns.barplot(x=\"ner_tag\", y=\"count\", data=tag_df)\n",
    "plt.xticks(rotation=45)\n",
    "plt.show()\n"
   ]
  },
  {
   "attachments": {},
   "cell_type": "markdown",
   "metadata": {},
   "source": [
    "### Discusinon\n",
    "\n",
    "- From the above plot, it is clear that this dataset is imbalanced. The majority of the words are tagged as O. This is a problem because the model will be biased towards predicting O.\n",
    "- Since this is meant for NER task, we will need a balanced dataset. I wont be resolving this using oversampling or undersampling because the dataset is small. \n",
    "- For now I will use the WikiAnn dataset to train the model.\n",
    "- Addtionaly, I've decided to build my own tagging tool to thus create a balanced dataset for Swahili NER. Details for this are available in the [Swahili NER tagging tool](https://github.com/e-olang/NLP/tree/main/Swahili%20NER/Tag%20Tool)\n",
    "- For feedback, please contact me on [Twitter](https://twitter.com/joeolang) or [Email](mailto:oluoch9@gmail.com)"
   ]
  }
 ],
 "metadata": {
  "kernelspec": {
   "display_name": "nlp",
   "language": "python",
   "name": "python3"
  },
  "language_info": {
   "codemirror_mode": {
    "name": "ipython",
    "version": 3
   },
   "file_extension": ".py",
   "mimetype": "text/x-python",
   "name": "python",
   "nbconvert_exporter": "python",
   "pygments_lexer": "ipython3",
   "version": "3.9.12"
  },
  "orig_nbformat": 4
 },
 "nbformat": 4,
 "nbformat_minor": 2
}
