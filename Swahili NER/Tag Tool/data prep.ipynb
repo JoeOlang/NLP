{
 "cells": [
  {
   "cell_type": "code",
   "execution_count": 1,
   "metadata": {},
   "outputs": [
    {
     "name": "stderr",
     "output_type": "stream",
     "text": [
      "Found cached dataset oscar (/Users/olang/.cache/huggingface/datasets/oscar/unshuffled_original_sw/1.0.0/84838bd49d2295f62008383b05620571535451d84545037bb94d6f3501651df2)\n"
     ]
    },
    {
     "data": {
      "application/json": {
       "ascii": false,
       "bar_format": null,
       "colour": null,
       "elapsed": 0.03353619575500488,
       "initial": 0,
       "n": 0,
       "ncols": null,
       "nrows": null,
       "postfix": null,
       "prefix": "",
       "rate": null,
       "total": 1,
       "unit": "it",
       "unit_divisor": 1000,
       "unit_scale": false
      },
      "application/vnd.jupyter.widget-view+json": {
       "model_id": "6291590b6f63494aaae40fe568625dc4",
       "version_major": 2,
       "version_minor": 0
      },
      "text/plain": [
       "  0%|          | 0/1 [00:00<?, ?it/s]"
      ]
     },
     "metadata": {},
     "output_type": "display_data"
    }
   ],
   "source": [
    "from datasets import load_dataset\n",
    "\n",
    "data = load_dataset(\"oscar\", \"unshuffled_original_sw\")"
   ]
  },
  {
   "cell_type": "code",
   "execution_count": 2,
   "metadata": {},
   "outputs": [
    {
     "data": {
      "text/plain": [
       "DatasetDict({\n",
       "    train: Dataset({\n",
       "        features: ['id', 'text'],\n",
       "        num_rows: 41986\n",
       "    })\n",
       "})"
      ]
     },
     "execution_count": 2,
     "metadata": {},
     "output_type": "execute_result"
    }
   ],
   "source": [
    "data"
   ]
  },
  {
   "cell_type": "code",
   "execution_count": 3,
   "metadata": {},
   "outputs": [
    {
     "data": {
      "text/plain": [
       "{'id': [0, 1, 2, 3, 4],\n",
       " 'text': ['Zarif: Iran inajua mpango wa Saudia wa kufanya mauaji ya kigaidi dhidi ya maafisa wa ngazi za juu wa Iran',\n",
       "  'Miripuko hiyo inakuja mwanzoni mwa Wiki Takatifu kuelekea Pasaka na ikiwa ni wiki chache tu kabla ya Papa Francis kuanza ziara yake katika nchi hiyo yenye idadi kubwa kabisa ya watu katika ulimwengu wa nchi za Kiarabu.',\n",
       "  'Tuna matumaini makubwa ya kuendelea kutimiza malengo ya kujitosheleza kwa mahitaji ya chakula kwa kipindi cha mwaka mzima kama ilivyo kwa miaka mingi ya nyuma.',\n",
       "  'Wafanyakazi wa Kampuni ya Zanlink Zanzibar wakiitikia wito wa Rais wa Jamuhuri ya Muungano wa Tanzania Wakishiriki katika zoezi la Usafi wa Mazingira katika sehemu yao ya Kazi kuadhimisha miaka 54 ya Uhuru.',\n",
       "  'Hata hivyo wabunge hao leo asubuhi wamepatiwa rufaa kwa ajili ya kwenda kutibiwa Hospitali ya taifa ya Muhimbili na kufanyiwa uchunguzi wa kina.\\nMkuu wa Mkoa wa Manyara, Alexander Mnyeti amemtaka kaimu Katibu Tawala wa Mkoa wa Manyara, Arnord Msuya kumsimamisha ...\\nMkuu wa Mkoa wa Manyara, Alexander Mnyeti amemtaka kaimu Katibu Tawala wa Mkoa wa Manyara, Arnord Msuya kumsimamisha ...']}"
      ]
     },
     "execution_count": 3,
     "metadata": {},
     "output_type": "execute_result"
    }
   ],
   "source": [
    "# print the first 5 examples\n",
    "data[\"train\"][:5]"
   ]
  },
  {
   "cell_type": "code",
   "execution_count": 10,
   "metadata": {},
   "outputs": [
    {
     "name": "stdout",
     "output_type": "stream",
     "text": [
      "3274202359\n"
     ]
    }
   ],
   "source": [
    "train_texts = dataset[\"train\"][\"text\"]\n",
    "test_texts = dataset[\"validation\"][\"text\"]\n",
    "\n",
    "# join all the texts together\n",
    "all_texts = \" \".join(train_texts + test_texts)\n",
    "print(len(all_texts))"
   ]
  },
  {
   "cell_type": "code",
   "execution_count": 17,
   "metadata": {},
   "outputs": [
    {
     "data": {
      "application/json": {
       "ascii": false,
       "bar_format": null,
       "colour": null,
       "elapsed": 0.020827770233154297,
       "initial": 0,
       "n": 0,
       "ncols": null,
       "nrows": null,
       "postfix": null,
       "prefix": "",
       "rate": null,
       "total": 3274202359,
       "unit": "it",
       "unit_divisor": 1000,
       "unit_scale": false
      },
      "application/vnd.jupyter.widget-view+json": {
       "model_id": "33a256275304498e965af5af3aa7f142",
       "version_major": 2,
       "version_minor": 0
      },
      "text/plain": [
       "  0%|          | 0/3274202359 [00:00<?, ?it/s]"
      ]
     },
     "metadata": {},
     "output_type": "display_data"
    }
   ],
   "source": [
    "from tqdm.auto import tqdm\n",
    "\n",
    "# save to txt file\n",
    "with open(\"swahili_2.txt\", \"w\") as f:\n",
    "    for item in tqdm(all_texts):\n",
    "        f.write(item)"
   ]
  },
  {
   "cell_type": "code",
   "execution_count": 16,
   "metadata": {},
   "outputs": [],
   "source": [
    "sample = all_texts[:1000]\n",
    "\n",
    "# save to txt file\n",
    "with open(\"swahili_sample.txt\", \"w\") as f:\n",
    "    for text in sample:\n",
    "        f.write(text)"
   ]
  }
 ],
 "metadata": {
  "kernelspec": {
   "display_name": "nlp",
   "language": "python",
   "name": "python3"
  },
  "language_info": {
   "codemirror_mode": {
    "name": "ipython",
    "version": 3
   },
   "file_extension": ".py",
   "mimetype": "text/x-python",
   "name": "python",
   "nbconvert_exporter": "python",
   "pygments_lexer": "ipython3",
   "version": "3.9.12"
  },
  "orig_nbformat": 4
 },
 "nbformat": 4,
 "nbformat_minor": 2
}
