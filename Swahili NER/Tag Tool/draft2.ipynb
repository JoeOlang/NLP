{
 "cells": [
  {
   "cell_type": "code",
   "execution_count": 1,
   "metadata": {},
   "outputs": [],
   "source": [
    "import random"
   ]
  },
  {
   "cell_type": "code",
   "execution_count": 2,
   "metadata": {},
   "outputs": [],
   "source": [
    "# paths\n",
    "data = 'Data/RFI April - Novmber 2022 titles - cleaned.txt'"
   ]
  },
  {
   "cell_type": "code",
   "execution_count": 3,
   "metadata": {},
   "outputs": [
    {
     "name": "stdout",
     "output_type": "stream",
     "text": [
      "Makala hii imeangazia kauli la kundi la waasi wa M23 kutaka kukutana na msuluhishi wa mgogoro kati ya DRC na Rwanda rais wa Angola Joao Laurenso, Uganda yasema, maambukizo ya virusi vya Ebola, yameanza kupungua, kinara wa upinzani nchini Kenya Raila Odinga wiki hii aliikosoa serikali kwa kukubali kuagizwa kwa mahindi yaliyotengenezwa kwa vinasaba maarufu kama GMO, nchini Mali serikali ya mpito ilitangaza kusitisha shughuli za mashirika yote yanayofadhiliwa na Ufaransa, pamoja na matukio mengine.\n",
      "Total sentences:  2548\n"
     ]
    }
   ],
   "source": [
    "with open(data, 'r') as f:\n",
    "    sentences = f.read().split('\\n')\n",
    "\n",
    "print(sentences[0])\n",
    "print(\"Total sentences: \", len(sentences))"
   ]
  },
  {
   "cell_type": "code",
   "execution_count": 15,
   "metadata": {},
   "outputs": [],
   "source": [
    "def random_selection():\n",
    "    select_sent = sentences[random.randint(0, len(sentences))]\n",
    "\n",
    "    all_words = select_sent.split()\n",
    "    if len(all_words) < 6:      # this is to ensure that the sentence has more than 6 words, if not, it will return None\n",
    "        return None\n",
    "    else:\n",
    "        select_words = random.sample(all_words, k=min(len(all_words), 5))\n",
    "        return select_sent, select_words"
   ]
  },
  {
   "cell_type": "code",
   "execution_count": 16,
   "metadata": {},
   "outputs": [
    {
     "name": "stdout",
     "output_type": "stream",
     "text": [
      "('Kiwango cha gesi ya Urusi kwenda Ufaransa kimepunguzwa zaidi kwa kila mwezi. Kampuni ya Gapzprom kwa mara nyingine tena imezuia usafirishaji wa bidha zake kwa Ufaransa, na hasa kwa kampuni ya Engie. Nini kinachosababisha hofu zaidi juu ya usambazaji wa gesi wakati yakikaribia majira ya baridi.', ['yakikaribia', 'Ufaransa,', 'usambazaji', 'Gapzprom', 'zake'])\n",
      "('Kama kawaida DJ Fly \"Collins Odhiambo na fundi mitambo Vital Mugisho wanakushushia burudani ya Muziki bandika bandua katika Niko Base.', ['\"Collins', 'Muziki', 'Mugisho', 'Odhiambo', 'burudani'])\n",
      "('Yvan Buravan amefariki akiwa na umri wa miaka 27. Mwanamuziki, mwimbaji mzaliwa wa Rwanda, alikuwa na kazi nzuri na ndefu mbele yake. Alikuwa ameshinda Prix Découvertes RFI mwaka 2018 na kwa hivyo alikuwa sehemu ya familia ya RFI. Amefariki nchini India jana usiku kutokana na saratani ya kongosho.', ['familia', 'Amefariki', '27.', '2018', 'ya'])\n",
      "('Waziri Mkuu wa Uingereza Boris Johnson ameendelea kupata shinikizo za kujiuzulu kutoka kwa wabunge kufuatia ripoti za kuandaa na kuhudhuria sherehe wakati mikusanyiko ya watu ilipokuwa imezuiwa kwa sababu ya janga la Covid-19.', ['Covid-19.', 'kupata', 'ilipokuwa', 'sherehe', 'la'])\n",
      "('Umoja wa Ulaya (EU) umeondoa vikwazo nchini Burundi dhidi ya watu watatu, akiwemo Waziri Mkuu, kwa kuhusika kwao katika mzozo wa kisiasa wa 2015 ambao ulisababisha vifo vya takriban watu 1,200, ujumbe wa EU umetangaza Jumanne.', ['Burundi', 'EU', 'vifo', 'watu', 'wa'])\n",
      "('Watu 134 wamepoteza maisha nchini Sudan baada ya kusombwa na maji kufuatia mafuriko makubwa yanayosababishwa na mvua kubwa inayoendelea kunyesha katika maeneo mbalimbali ya nchi hiyo.', ['wamepoteza', 'inayoendelea', 'ya', 'Watu', '134'])\n",
      "('Jeshi la Urusi linajiandaa kuwahamisha wakazi wa mji wa Kherson, mji mkuu wa jimbo la jina moja lililotwaliwa na Urusi kusini mwa Ukraine, kutokana na mashambulizi kutoka Kyiv, ametangaza Jumanne kamanda wa vikosi vya Urusi nchini Ukraine.', ['Kherson,', 'nchini', 'Urusi', 'mashambulizi', 'la'])\n",
      "('Taifa la Kenya kama mataifa mengine duniani limepiga marufuku adhabu ya kiboko shuleni.Je unafikiri wanafunzi wanastahili kuadhibiwa kwa kiboko shuleni?Adhabu ipi inastahili kutolewa na walimu badala ya kiboko', ['kiboko', 'Taifa', 'badala', 'kiboko', 'kiboko'])\n",
      "('Wakati wa kura ya Jumatano huko New York juu ya azimio la kulaani hatu aya Urusi kunyakuwa maeneo ya Ukraine na kutoa wito wa kuondolewa kwa wanajeshi wa Urusi nchini Ukraine, misimamo ya baadhi ya nchi za Afrika ilibadilika kwa kupigia kura azimio hilo.', ['nchini', 'ya', 'wanajeshi', 'kutoa', 'Jumatano'])\n",
      "('Waziri Mkuu wa Mali Choguel Kokalla Maïga aliishutumu Ufaransa siku ya Jumatatu kwa kufanya kazi ya kuigawanya nchi yake kupitia ahadi yake ya kijeshi, katika mashtaka mapya makali mbele ya wanadiplomasia walioko Bamako.', ['kijeshi,', 'siku', 'Choguel', 'Mali', 'ya'])\n"
     ]
    }
   ],
   "source": [
    "for i in range(10):\n",
    "    print(random_selection())"
   ]
  }
 ],
 "metadata": {
  "kernelspec": {
   "display_name": "nlp",
   "language": "python",
   "name": "python3"
  },
  "language_info": {
   "codemirror_mode": {
    "name": "ipython",
    "version": 3
   },
   "file_extension": ".py",
   "mimetype": "text/x-python",
   "name": "python",
   "nbconvert_exporter": "python",
   "pygments_lexer": "ipython3",
   "version": "3.9.12"
  },
  "orig_nbformat": 4
 },
 "nbformat": 4,
 "nbformat_minor": 2
}
