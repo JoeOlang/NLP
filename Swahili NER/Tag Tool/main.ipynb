{
 "cells": [
  {
   "cell_type": "code",
   "execution_count": 1,
   "metadata": {},
   "outputs": [],
   "source": [
    "# list of random sentences \n",
    "sentences = [\n",
    "    \"Mimi ni mwanafunzi wa Chuo Kikuu cha Dar es Salaam.\",\n",
    "    \"Uhuru wa kujieleza ni haki msingi ya binadamu.\",\n",
    "    \"Mwanafunzi huyo alikuwa na matokeo mazuri.\",\n",
    "]\n",
    "\n"
   ]
  },
  {
   "cell_type": "code",
   "execution_count": 2,
   "metadata": {},
   "outputs": [
    {
     "data": {
      "text/plain": [
       "'Mimi ni mwanafunzi wa Chuo Kikuu cha Dar es Salaam.'"
      ]
     },
     "execution_count": 2,
     "metadata": {},
     "output_type": "execute_result"
    }
   ],
   "source": [
    "sample = sentences[0]\n",
    "sample"
   ]
  },
  {
   "cell_type": "code",
   "execution_count": 3,
   "metadata": {},
   "outputs": [
    {
     "data": {
      "text/plain": [
       "['Mimi',\n",
       " 'ni',\n",
       " 'mwanafunzi',\n",
       " 'wa',\n",
       " 'Chuo',\n",
       " 'Kikuu',\n",
       " 'cha',\n",
       " 'Dar',\n",
       " 'es',\n",
       " 'Salaam.']"
      ]
     },
     "execution_count": 3,
     "metadata": {},
     "output_type": "execute_result"
    }
   ],
   "source": [
    "# from sample sentence, extract words and add to list\n",
    "words = sample.split()\n",
    "words"
   ]
  },
  {
   "cell_type": "code",
   "execution_count": 4,
   "metadata": {},
   "outputs": [],
   "source": [
    "keys = words\n",
    "\n",
    "# create a dictionary with keys\n",
    "dictionary = dict.fromkeys(keys)"
   ]
  },
  {
   "cell_type": "code",
   "execution_count": 5,
   "metadata": {},
   "outputs": [
    {
     "data": {
      "text/plain": [
       "{'Mimi': 'Place',\n",
       " 'ni': 'join',\n",
       " 'mwanafunzi': 'noun',\n",
       " 'wa': 'join',\n",
       " 'Chuo': 'place',\n",
       " 'Kikuu': 'adjective',\n",
       " 'cha': 'join',\n",
       " 'Dar': 'place',\n",
       " 'es': 'place',\n",
       " 'Salaam.': 'place'}"
      ]
     },
     "execution_count": 5,
     "metadata": {},
     "output_type": "execute_result"
    }
   ],
   "source": [
    "# prompt user to enter POS tag for each word in the sentence. Only these tags are allowed: [Name, Org, Loc, Time, Date, Event, Product, Other]\n",
    "for key in dictionary.keys():\n",
    "    dictionary[key] = input(\"Enter POS tag for \" + key + \": \")\n",
    "\n",
    "dictionary\n"
   ]
  },
  {
   "cell_type": "code",
   "execution_count": null,
   "metadata": {},
   "outputs": [],
   "source": [
    "# stream-lit app that displays the sentence and then prompts user to enter POS tag for each word in the sentence. Only these tags are allowed: [Name, Org, Loc, Time, Date, Event, Product, Other]\n",
    "import streamlit as st\n",
    "\n",
    "# Define the keys in the dictionary\n",
    "keys = [\"key1\", \"key2\", \"key3\"]\n",
    "\n",
    "# Initialize an empty dictionary with the keys\n",
    "my_dict = dict.fromkeys(keys)\n",
    "\n",
    "# Define the dropdown options\n",
    "dropdown_options = [\"Option 1\", \"Option 2\", \"Option 3\"]\n",
    "\n",
    "# Create a form for the user to input values for the keys\n",
    "with st.form(\"my_form\"):\n",
    "    # Add a dropdown for the user to select a key\n",
    "    key = st.selectbox(\"Select a key:\", keys)\n",
    "\n",
    "    # Add a dropdown for the user to select a value\n",
    "    value = st.selectbox(\"Select a value:\", dropdown_options)\n",
    "\n",
    "    # Add a submit button to submit the form\n",
    "    submit_button = st.form_submit_button(label=\"Submit\")\n",
    "\n",
    "    # Update the dictionary with the user's input if the form is submitted\n",
    "    if submit_button:\n",
    "        my_dict[key] = value\n",
    "\n",
    "# Print the populated dictionary\n",
    "st.write(\"Populated Dictionary:\", my_dict)\n"
   ]
  }
 ],
 "metadata": {
  "kernelspec": {
   "display_name": "nlp",
   "language": "python",
   "name": "python3"
  },
  "language_info": {
   "codemirror_mode": {
    "name": "ipython",
    "version": 3
   },
   "file_extension": ".py",
   "mimetype": "text/x-python",
   "name": "python",
   "nbconvert_exporter": "python",
   "pygments_lexer": "ipython3",
   "version": "3.9.12"
  },
  "orig_nbformat": 4
 },
 "nbformat": 4,
 "nbformat_minor": 2
}
