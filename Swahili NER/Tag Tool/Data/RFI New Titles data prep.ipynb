{
 "cells": [
  {
   "attachments": {},
   "cell_type": "markdown",
   "metadata": {},
   "source": [
    "* PERSON - People, including fictional.\n",
    "* NORP - Nationalities or religious or political groups.\n",
    "* FAC - Buildings, airports, highways, bridges, etc.\n",
    "* ORG - Companies, agencies, institutions, etc.\n",
    "* GPE - Countries, cities, states.\n",
    "* LOC - Non-GPE locations, mountain ranges, bodies of water.\n",
    "* PRODUCT - Objects, vehicles, foods, etc. (Not services)\n",
    "* EVENT - Named hurricanes, battles, wars, sports events, etc.\n",
    "* WORK_OF_ART - Titles of books, songs, etc.\n",
    "* LAW - Named documents made into laws.\n",
    "* LANGUAGE - Any named language.\n",
    "* DATE - Absolute or relative dates or periods.\n",
    "* TIME - Times smaller than a day.\n",
    "* PERCENT - Percentage, including \"%\".\n",
    "* MONEY - Monetary values, including unit.\n",
    "* QUANTITY - Measurements, as of weight or distance.\n",
    "* ORDINAL - \"first\", \"second\", etc.\n",
    "* CARDINAL - Numerals that do not fall under another type.\n"
   ]
  },
  {
   "cell_type": "code",
   "execution_count": 4,
   "metadata": {},
   "outputs": [],
   "source": [
    "# Read txt file with sentences, without '\\n'\n",
    "\n",
    "with open('RFI April - Novmber 2022 titles.txt', 'r') as f:\n",
    "    sentences = f.read().split('\\n')"
   ]
  },
  {
   "cell_type": "code",
   "execution_count": 5,
   "metadata": {},
   "outputs": [
    {
     "data": {
      "text/plain": [
       "['Makala hii imeangazia kauli la kundi la waasi wa M23 kutaka kukutana na msuluhishi wa mgogoro kati ya DRC na Rwanda rais wa Angola Joao Laurenso, Uganda yasema, maambukizo ya virusi vya Ebola, yameanza kupungua, kinara wa upinzani nchini Kenya Raila Odinga wiki hii aliikosoa serikali kwa kukubali kuagizwa kwa mahindi yaliyotengenezwa kwa vinasaba maarufu kama GMO, nchini Mali serikali ya mpito ilitangaza kusitisha shughuli za mashirika yote yanayofadhiliwa na Ufaransa, pamoja na matukio mengine.',\n",
       " 'Michuano ya soka, kuwania taji la dunia inaendelea kushika kasi nchini Qatar, huku mataifa ya Afrika yakianza vibaya. Hata hivyo, Senegal ilishinda mechi yake ya pili dhidi ya wenyeji Qatar.',\n",
       " 'Kama kawaida DJ Fly \"Collins Odhiambo na fundi mitambo Vital Mugisho wanakushushia burudani ya Muziki bandika bandua katika Niko Base.',\n",
       " \"Nchini Cote d'Ivoire, aliyekuwa Waziri na mshirika wa karibu wa rais wa zamani Laurent Gbagbo, Charles Blé Goudé, amererejea nyumbani leo, baada ya kufutiwa kesi ya uhalifu wa kivita iliyokuwa inamkabili katika Mahakama ya Kimataifa ya ICC.\",\n",
       " 'Tume ya uchaguzi nchini Jamuhuri ya kidemokrasia ya Kongo, CENI, imetangaza siku ya tarehe 20 mwezi disemba mwaka ujao wa 2023 kuwa siku ya uchaguzi wa urais.',\n",
       " 'Wanajeshi zaidi wa Kenya wamewasili mjini Goma Mashariki mwa Jamhuri ya Kidemokrasia ya Congo, kujiunga katika kikosi cha pamoja cha jeshi la nchi za Jumuiya ya Afrika Mashariki, kupambana na makundi ya waasi ja kudumisha amani katika eneo hilo.',\n",
       " 'Uongozi wa kundi la waasi la M23 unasema, unakubali mapendekezo ya marais wa ukanda kuwa wasitishe mapigano, lakini wanaitaka serikali ya DRC kuheshimu hilo, la sivyo wakishambuliwa watajihami….iwapo makubaliano hayo yatavunjwa.',\n",
       " 'Jaribio la mapinduzi limetibuliwa usiku wa Alhamisi kuamkia Ijumaa huko Sao Tome na Principe, nchi ya kisiwa katika Ghuba ya Guinea inayochukuliwa kuwa kielelezo cha demokrasia ya bunge barani Afrika, Waziri Mkuu Patrice Trovoada alitangaza.',\n",
       " 'Hatimaye upinzani nchini Benin umedhinishwa kushiriki katika uchaguzi wa wabunge wa mwezi Januari 2023, miaka minne baada ya kutengwa kwenyeuchaguzi wa mwisho na baada ya maandamano yaliyokandamizwa.',\n",
       " 'Askari wa Umoja wa Mataifa kutoka Morocco aliuawa siku ya Alhamisi katika shambulio lililotokea kusini-mashariki mwa Jamhuri ya Afrika ya Kati, nchi iliyokumbwa na vita vya wenyewe kwa wenyewe tangu 2013, umetangaza leo Ijumaa Umoja wa Mataifa, ambao haukuwatambua washambuliaji.']"
      ]
     },
     "execution_count": 5,
     "metadata": {},
     "output_type": "execute_result"
    }
   ],
   "source": [
    "sentences[:10]"
   ]
  },
  {
   "cell_type": "code",
   "execution_count": null,
   "metadata": {},
   "outputs": [],
   "source": [
    "# for each sentence, split into words and tag them, remove any with a word containing a set of certain characters"
   ]
  },
  {
   "cell_type": "code",
   "execution_count": 33,
   "metadata": {},
   "outputs": [
    {
     "name": "stderr",
     "output_type": "stream",
     "text": [
      "100%|██████████| 2964/2964 [00:00<00:00, 2017513.32it/s]\n"
     ]
    },
    {
     "data": {
      "text/plain": [
       "['Makala hii imeangazia kauli la kundi la waasi wa M23 kutaka kukutana na msuluhishi wa mgogoro kati ya DRC na Rwanda rais wa Angola Joao Laurenso, Uganda yasema, maambukizo ya virusi vya Ebola, yameanza kupungua, kinara wa upinzani nchini Kenya Raila Odinga wiki hii aliikosoa serikali kwa kukubali kuagizwa kwa mahindi yaliyotengenezwa kwa vinasaba maarufu kama GMO, nchini Mali serikali ya mpito ilitangaza kusitisha shughuli za mashirika yote yanayofadhiliwa na Ufaransa, pamoja na matukio mengine.',\n",
       " 'Michuano ya soka, kuwania taji la dunia inaendelea kushika kasi nchini Qatar, huku mataifa ya Afrika yakianza vibaya. Hata hivyo, Senegal ilishinda mechi yake ya pili dhidi ya wenyeji Qatar.',\n",
       " 'Kama kawaida DJ Fly \"Collins Odhiambo na fundi mitambo Vital Mugisho wanakushushia burudani ya Muziki bandika bandua katika Niko Base.',\n",
       " \"Nchini Cote d'Ivoire, aliyekuwa Waziri na mshirika wa karibu wa rais wa zamani Laurent Gbagbo, Charles Blé Goudé, amererejea nyumbani leo, baada ya kufutiwa kesi ya uhalifu wa kivita iliyokuwa inamkabili katika Mahakama ya Kimataifa ya ICC.\",\n",
       " 'Tume ya uchaguzi nchini Jamuhuri ya kidemokrasia ya Kongo, CENI, imetangaza siku ya tarehe 20 mwezi disemba mwaka ujao wa 2023 kuwa siku ya uchaguzi wa urais.',\n",
       " 'Wanajeshi zaidi wa Kenya wamewasili mjini Goma Mashariki mwa Jamhuri ya Kidemokrasia ya Congo, kujiunga katika kikosi cha pamoja cha jeshi la nchi za Jumuiya ya Afrika Mashariki, kupambana na makundi ya waasi ja kudumisha amani katika eneo hilo.',\n",
       " 'Uongozi wa kundi la waasi la M23 unasema, unakubali mapendekezo ya marais wa ukanda kuwa wasitishe mapigano, lakini wanaitaka serikali ya DRC kuheshimu hilo, la sivyo wakishambuliwa watajihami….iwapo makubaliano hayo yatavunjwa.',\n",
       " 'Jaribio la mapinduzi limetibuliwa usiku wa Alhamisi kuamkia Ijumaa huko Sao Tome na Principe, nchi ya kisiwa katika Ghuba ya Guinea inayochukuliwa kuwa kielelezo cha demokrasia ya bunge barani Afrika, Waziri Mkuu Patrice Trovoada alitangaza.',\n",
       " 'Hatimaye upinzani nchini Benin umedhinishwa kushiriki katika uchaguzi wa wabunge wa mwezi Januari 2023, miaka minne baada ya kutengwa kwenyeuchaguzi wa mwisho na baada ya maandamano yaliyokandamizwa.',\n",
       " 'Askari wa Umoja wa Mataifa kutoka Morocco aliuawa siku ya Alhamisi katika shambulio lililotokea kusini-mashariki mwa Jamhuri ya Afrika ya Kati, nchi iliyokumbwa na vita vya wenyewe kwa wenyewe tangu 2013, umetangaza leo Ijumaa Umoja wa Mataifa, ambao haukuwatambua washambuliaji.']"
      ]
     },
     "execution_count": 33,
     "metadata": {},
     "output_type": "execute_result"
    }
   ],
   "source": [
    "from tqdm import tqdm\n",
    "\n",
    "new_sentences = [line for line in tqdm(sentences) if '\\xa0' not in line]\n",
    "\n",
    "new_sentences[:10]"
   ]
  },
  {
   "cell_type": "code",
   "execution_count": 34,
   "metadata": {},
   "outputs": [
    {
     "name": "stdout",
     "output_type": "stream",
     "text": [
      "2964 2547\n"
     ]
    }
   ],
   "source": [
    "print(len(sentences), len(new_sentences))"
   ]
  },
  {
   "cell_type": "code",
   "execution_count": 35,
   "metadata": {},
   "outputs": [],
   "source": [
    "# write the new sentences to a new file\n",
    "\n",
    "with open('RFI April - Novmber 2022 titles - cleaned.txt', 'w') as f:\n",
    "    for line in new_sentences:\n",
    "        f.write(line + '\\n')"
   ]
  },
  {
   "attachments": {},
   "cell_type": "markdown",
   "metadata": {},
   "source": [
    "--------------------"
   ]
  }
 ],
 "metadata": {
  "kernelspec": {
   "display_name": "nlp",
   "language": "python",
   "name": "python3"
  },
  "language_info": {
   "codemirror_mode": {
    "name": "ipython",
    "version": 3
   },
   "file_extension": ".py",
   "mimetype": "text/x-python",
   "name": "python",
   "nbconvert_exporter": "python",
   "pygments_lexer": "ipython3",
   "version": "3.9.16"
  },
  "orig_nbformat": 4
 },
 "nbformat": 4,
 "nbformat_minor": 2
}
