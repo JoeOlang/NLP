{
 "cells": [
  {
   "attachments": {},
   "cell_type": "markdown",
   "metadata": {},
   "source": [
    "## Fetch Data from HF, OSCAR dataset, sw Split"
   ]
  },
  {
   "cell_type": "code",
   "execution_count": 1,
   "metadata": {},
   "outputs": [
    {
     "data": {
      "application/vnd.jupyter.widget-view+json": {
       "model_id": "7180849eb10748d3af665318f05c1b62",
       "version_major": 2,
       "version_minor": 0
      },
      "text/plain": [
       "Downloading builder script:   0%|          | 0.00/14.8k [00:00<?, ?B/s]"
      ]
     },
     "metadata": {},
     "output_type": "display_data"
    },
    {
     "data": {
      "application/vnd.jupyter.widget-view+json": {
       "model_id": "87d70b1846d44831ae80d1e8114b6c87",
       "version_major": 2,
       "version_minor": 0
      },
      "text/plain": [
       "Downloading metadata:   0%|          | 0.00/3.07M [00:00<?, ?B/s]"
      ]
     },
     "metadata": {},
     "output_type": "display_data"
    },
    {
     "data": {
      "application/vnd.jupyter.widget-view+json": {
       "model_id": "dabf5b17135d46a98e36e2c324807273",
       "version_major": 2,
       "version_minor": 0
      },
      "text/plain": [
       "Downloading readme:   0%|          | 0.00/304k [00:00<?, ?B/s]"
      ]
     },
     "metadata": {},
     "output_type": "display_data"
    },
    {
     "name": "stdout",
     "output_type": "stream",
     "text": [
      "Downloading and preparing dataset oscar/unshuffled_original_sw to /home/ara/.cache/huggingface/datasets/oscar/unshuffled_original_sw/1.0.0/84838bd49d2295f62008383b05620571535451d84545037bb94d6f3501651df2...\n"
     ]
    },
    {
     "data": {
      "application/vnd.jupyter.widget-view+json": {
       "model_id": "f89df8d6babc4e83a222a6bba78bf64b",
       "version_major": 2,
       "version_minor": 0
      },
      "text/plain": [
       "Downloading data:   0%|          | 0.00/75.0 [00:00<?, ?B/s]"
      ]
     },
     "metadata": {},
     "output_type": "display_data"
    },
    {
     "data": {
      "application/vnd.jupyter.widget-view+json": {
       "model_id": "a245d5d29610455ca685583d80a5bc21",
       "version_major": 2,
       "version_minor": 0
      },
      "text/plain": [
       "Downloading data files:   0%|          | 0/1 [00:00<?, ?it/s]"
      ]
     },
     "metadata": {},
     "output_type": "display_data"
    },
    {
     "data": {
      "application/vnd.jupyter.widget-view+json": {
       "model_id": "59dbf23444724e7c847a3bb54ca30c0e",
       "version_major": 2,
       "version_minor": 0
      },
      "text/plain": [
       "Downloading data:   0%|          | 0.00/3.71M [00:00<?, ?B/s]"
      ]
     },
     "metadata": {},
     "output_type": "display_data"
    },
    {
     "data": {
      "application/vnd.jupyter.widget-view+json": {
       "model_id": "927f883c3a294fb29b1a089859234364",
       "version_major": 2,
       "version_minor": 0
      },
      "text/plain": [
       "Generating train split:   0%|          | 0/41986 [00:00<?, ? examples/s]"
      ]
     },
     "metadata": {},
     "output_type": "display_data"
    },
    {
     "name": "stdout",
     "output_type": "stream",
     "text": [
      "Dataset oscar downloaded and prepared to /home/ara/.cache/huggingface/datasets/oscar/unshuffled_original_sw/1.0.0/84838bd49d2295f62008383b05620571535451d84545037bb94d6f3501651df2. Subsequent calls will reuse this data.\n"
     ]
    },
    {
     "data": {
      "application/vnd.jupyter.widget-view+json": {
       "model_id": "0d57249bd9bd4609ad8b6c5d0f92a5ca",
       "version_major": 2,
       "version_minor": 0
      },
      "text/plain": [
       "  0%|          | 0/1 [00:00<?, ?it/s]"
      ]
     },
     "metadata": {},
     "output_type": "display_data"
    }
   ],
   "source": [
    "from datasets import load_dataset\n",
    "\n",
    "data = load_dataset(\"oscar\", \"unshuffled_original_sw\")"
   ]
  },
  {
   "cell_type": "code",
   "execution_count": 2,
   "metadata": {},
   "outputs": [
    {
     "data": {
      "text/plain": [
       "DatasetDict({\n",
       "    train: Dataset({\n",
       "        features: ['id', 'text'],\n",
       "        num_rows: 41986\n",
       "    })\n",
       "})"
      ]
     },
     "execution_count": 2,
     "metadata": {},
     "output_type": "execute_result"
    }
   ],
   "source": [
    "data"
   ]
  },
  {
   "cell_type": "code",
   "execution_count": 3,
   "metadata": {},
   "outputs": [
    {
     "data": {
      "text/plain": [
       "{'id': [0, 1, 2, 3, 4],\n",
       " 'text': ['Zarif: Iran inajua mpango wa Saudia wa kufanya mauaji ya kigaidi dhidi ya maafisa wa ngazi za juu wa Iran',\n",
       "  'Miripuko hiyo inakuja mwanzoni mwa Wiki Takatifu kuelekea Pasaka na ikiwa ni wiki chache tu kabla ya Papa Francis kuanza ziara yake katika nchi hiyo yenye idadi kubwa kabisa ya watu katika ulimwengu wa nchi za Kiarabu.',\n",
       "  'Tuna matumaini makubwa ya kuendelea kutimiza malengo ya kujitosheleza kwa mahitaji ya chakula kwa kipindi cha mwaka mzima kama ilivyo kwa miaka mingi ya nyuma.',\n",
       "  'Wafanyakazi wa Kampuni ya Zanlink Zanzibar wakiitikia wito wa Rais wa Jamuhuri ya Muungano wa Tanzania Wakishiriki katika zoezi la Usafi wa Mazingira katika sehemu yao ya Kazi kuadhimisha miaka 54 ya Uhuru.',\n",
       "  'Hata hivyo wabunge hao leo asubuhi wamepatiwa rufaa kwa ajili ya kwenda kutibiwa Hospitali ya taifa ya Muhimbili na kufanyiwa uchunguzi wa kina.\\nMkuu wa Mkoa wa Manyara, Alexander Mnyeti amemtaka kaimu Katibu Tawala wa Mkoa wa Manyara, Arnord Msuya kumsimamisha ...\\nMkuu wa Mkoa wa Manyara, Alexander Mnyeti amemtaka kaimu Katibu Tawala wa Mkoa wa Manyara, Arnord Msuya kumsimamisha ...']}"
      ]
     },
     "execution_count": 3,
     "metadata": {},
     "output_type": "execute_result"
    }
   ],
   "source": [
    "# print the first 5 examples\n",
    "data[\"train\"][:5]"
   ]
  },
  {
   "cell_type": "code",
   "execution_count": 4,
   "metadata": {},
   "outputs": [
    {
     "name": "stdout",
     "output_type": "stream",
     "text": [
      "41986\n",
      "sample text:  Zarif: Iran inajua mpango wa Saudia wa kufanya mauaji ya kigaidi dhidi ya maafisa wa ngazi za juu wa Iran\n"
     ]
    }
   ],
   "source": [
    "texts = data[\"train\"][\"text\"]\n",
    "print(len(texts))\n",
    "\n",
    "print(\"sample text: \", texts[0])"
   ]
  },
  {
   "cell_type": "code",
   "execution_count": 5,
   "metadata": {},
   "outputs": [
    {
     "data": {
      "application/vnd.jupyter.widget-view+json": {
       "model_id": "02ba9e8186c442ee941d0df11117578e",
       "version_major": 2,
       "version_minor": 0
      },
      "text/plain": [
       "  0%|          | 0/41986 [00:00<?, ?it/s]"
      ]
     },
     "metadata": {},
     "output_type": "display_data"
    }
   ],
   "source": [
    "from tqdm.auto import tqdm\n",
    "\n",
    "# save to txt file\n",
    "with open(\"swahili texts.txt\", \"w\") as f:\n",
    "    for item in tqdm(texts):\n",
    "        f.write(item)"
   ]
  },
  {
   "cell_type": "code",
   "execution_count": 6,
   "metadata": {},
   "outputs": [
    {
     "name": "stdout",
     "output_type": "stream",
     "text": [
      "Akiwa mfanyakazi wa huduma za kijamii, alijiunga na The Muslim World League na kwa miaka mingi akawa ni chimbuko la uongozi kwa iliyokuwa jumuiya changa ya Kishia katika Marekani ya Kaskazini. Anayo sifa ya kipekee ya kuwa mzungumzaji wa kwanza, katika Marekani ya Kaskazini, kuhutubia jamaa ya waumini kwa Kiingereza.\n",
      "Siku hizi wakati viongozi wa dunia ya Kikristo wanapofanya kazi kimyakimya ili kufanik- isha ndoto ya siku nyingi ya imani ya umoja wa Kikristo, Waislamu wengi pia wanaangalia nyuma kwa hamu kubwa kwenye lile taifa bora wakati Uislamu ulipokuwa mfumo wa mawazo ya aina moja. Uislam, hata hivyo, ulikuwa mfumo wa mawazo ya aina moja tu wakati wa uhai wa Mtume wake, Muhammad aliyebarikiwa.\n",
      "Watu wa nyumba ya Muhammad, Mtume wa Allah (s.w.t.) hivyo walizuiwa, kwa nguvu kubwa ya wanadamu, sio tu kwenye urithi wa moja kwa moja bali pia kwenye nafasi zote za mamlaka na madaraka katika serikali za wafuasi wake zilizofuatia.\n",
      "Lakini licha ya kwenda upande kwa wakati uliopita na wakati wa sasa kwa uandishi wa historia wa kimagharibi juu ya Uislamu, kuna matumaini mapya kwamba wanahistoria wa wakati ujao watafanya marekebisho kwa ajili ya yaliyoachwa na mapungufu ya wanahistoria wa zamani.\n",
      "Wanafunzi wa Uislam, wa Kimarekani na wa Ulaya, katika masuala mengi, wamesikia tu upande mmoja wa Hadith; kitabu hiki ni jitihada ya kuwasilisha ule upande mwingine. Ni pamoja na dhamira hii kwamba nikitoe kwa ajili ya uamuzi wa wasomaji wenyewe.\n",
      "Ilikuwa katika miji ya Kiarabu ya Makka na Madina ambamo utambulisho wa Uislamu fasaha ulikuzwa, na Uislamu kwa kweli “ulitengemaa.” Ufahamu wa jografia ya Arabia, kwa hiyo ni muhimu sana kwa ajili ya kuelewa mkondo wa historia yake.\n",
      "Bahrain ni mkusanyiko wa visiwa 30, vyenye eneo la maili mraba 240 kwa jumla, na idadi ya watu 300,000. Manama, mji mkuu wa dola hii, upo kwenye kisiwa cha Bahrain, na Muharraq ndio mji mkuu wa pili katika mkusanyiko huu wa visiwa.\n",
      "Ndio mapatano ya pili ya wanahistoria (ya kwanza likiwa ni kutoa maelezo ya ki- jogografia ya eneo hilo). Nitazingatia mapatano haya, na nitachambua kwa ufupi, hali ya kijumla katika Arabia katika mwisho wa karne ya sita na mwanzo wa karne ya saba A.D.\n",
      "Ni muhimu kuzingatia ule ukweli katika usiku wa kuzaliwa Uislamu hakukuwa na serikali katika ngazi yoyote katika Arabia, na ukweli huu unawezakuwa umeathiri kuinukia kwa Uislamu wenyewe. Ukosekanaji mzima wa serikali, hata katika hali ya kuanzishwa tu, ni kitu kisichokuwa cha kawaida kabisa kwamba kimeonwa na kutolewa maoni na mustashirik wengi, miongoni mwao ni:\n",
      "Vituo maarufu zaidi vya mjini katika Arabia vilikuwa Makka na Yathrib, vyote katika Hijazi. Wakazi wa Makka zaidi walikuwa ni wafanyabiashara, wachuuzi na wakopeshaji wa fedha.\n",
      "“Katika mkesha wa Uislamu, watu wenye kujishughulisha mno na walioendelea wa Arabia waliishi katika mji wa Maquraish. Wakati wa himaya za Arabu ya Kusini za Petra na Palmyra ulikuwa umepita kwa muda kiasi katika historia ya Arabia. Sasa hali ya baadae ilikuwa inaandaliwa hapo katika Hijazi.”\n",
      "Baadhi ya wanahistoria wana maoni kwamba elimu ya watu ya wakati ule takriban ilikuwa ya simulizi tu. Wayahudi na Wakristo walikuwa ndio watunzaji wa elimu kama hiyo ambayo Arabia ilikuwa nayo.\n",
      "“Taarifa nyingi juu ya hali ya uchumi, utawala wa jamii na mengi ya Waarabu katika karne ya tano na ya sita A.D., zinatokana na mashairi ya kale au kabla ya Uislamu, yanayojulikana kwa ‘uaminifu wa kipicha’ kwa Sura zote za maisha ya kikabila ya Arabia na mazingira yake. Wataalam kwa hiyo, wanaukubali ushairi huu kama ‘muhimu sana na chanzo cha kuaminika kwa kuelezea Waarabu na desturi zao katika kipindi hiki.”\n",
      "Mashairi ya Kiarabu yalikuwa na utajiri katika ufasaha na matumizi ya tamathali za usemi katika mazungumzo au maandishi, lakini yalikuwa na ukomo wa masafa, na yalikuwa na upungufu wa maana. Maneno yaliyomo yaweza kuwa ya kuvutia lakini yalikuwa chapwa! Kazi bora za mashairi yao takribani hufuatia kabisa utaratibu uleule wa fikira na mawazo. Hata hivyo yalikuwa ni kioo cha uaminifu katika maisha ya zamani ya uarabuni. Vile vile katika kuchimbua sanaa ya ushairi, washairi wa kiarabu kwa hadhari walikuwa wakiendeleza moja ya sanaa kubwa za binadamu - lugha ya Kiarabu.\n",
      "Jaribio limefanyika katika kurasa zilizopita kufafanua hali ya kawaida ya Arabia na aina ya maisha ya Waarabu kabla ya Uislamu. “Taaswira” hii ni halisi kama ilivyochorwa kutoka kwenye “nyaraka” za Waarabu wenyewe wa kabla ya Uislamu.\n",
      "Moyo wa ubinaadamu ulikuwa kwenye minyororo, na ulikuwa ukisubiri, kama ilivyokuwa, ishara ya kufanya jitihada kubwa mno, ya kujinasua na kuwa huru.\n",
      "Ishara hiyo ilitolewa mwaka 610 A.D. na Muhammad, mwana wa Abdillah, katika mji wa Makka, alipotangaza ujumbe wake wa Utume, na akaanzisha harakati iliyoitwa Uslamu katika kazi yake ya kuzunguka dunia.\n",
      "Peninsula ya Arabia ki-jiogorafia ilikuwa pembezoni na kisiasa, eneo lisilojulikana mpaka mwanzoni mwa karne ya saba A.D. Ni wakati huo ambapo Muhammad (s.a.w.) alipoiweka kwenye ramani ya kisiasa ya dunia kwa kuifanya uwanja wa matukio ya maana sana ya historia.\n",
      "Huu ndio mchango wa maana sana alioutoa kwenye kazi ya mumewe kama Mtume wa Mungu. Alikuwa ndio egemeo ambalo Muhammad alilihitaji katika miaka yote ya maandalizi kwa ajili ya Utume.\n",
      "Ali alikuwa ndiye mtoto mdogo kabisa katika familia hiyo. Kati ya kaka zake watatu, Talib na Aqil, walikuwa wakubwa kwa miaka kumi zaidi yake.\n",
      "Aya hizi tano zilikuwa ndio wahyi wa mwanzoni kabisa, na zilikuja kwa Muhammad katika “Usiku wa Cheo” au “Usiku Uliobarikiwa” ndani ya mwezi wa Ramadhani (mwezi wa tisa wa kalenda ya Kiislam) wa mwaka wa 40 wa Tembo. Zipo mwanzoni mwa Sura ya 96 ya Qur’an Tukufu. Jina la Sura hiyo ni Iqra’a (soma) au ‘Alaq (Pande la damu Iililoganda).\n",
      "Muhammad hakusita katika kuupokea ujumbe wa Utume wala hakuwa na ugumu wowote katika kurudia zile Aya za Wahyi wa mwanzo. Alizisoma au kuzirudia bila ya taabu yoyote, mwenyewe. Jibril, kwa kweli, hakuwa mgeni kwake, na alijua pia kwamba sababu ya kuwepo kwake mwenyewe ilikuwa ni kutekeleza ujumbe uliowekwa juu yake na Allah (s.w.t.) kama Mtume Wake. Alikuwa “mwenye kuuelewa ujumbe” hata kabla ya kufika kwa Jibril.\n",
      "Ilikuwa pia katika siku hizi za mwanzoni, kabla ya Hijra ya Mtume (s.a.w.) kwenda Madina, ambayo Ali alikuwa “msitari wa kwanza wa ulinzi wa Uislamu.” Kwa kweli, alikuwa pia, kwa wakati huohuo, msitari wa pili na wa mwisho wa ulinzi wa Uislamu. Hili yeye, na yeye peke yake, lilikuwa lidumu kwa maisha yake yote yaliyobakia.\n",
      "Hajra hii ya pili ya Waislamu kwenda Abyssinia, ilitokea katika mwaka wa sita wa kutangazwa Uslamu, unawafikiana na mwaka wa 616. A.D.\n",
      "Muhammad Mustafa alisikitishwa sana na kifo na kukatwakatwa kwa mwili wa muumini hodari wa Uislamu kama Hamza. Alitoa majina ya “Simba wa Mungu”, na “Kiongozi wa Mashahidi” juu yake. Hamza aliukubali Uislamu katika mwaka wa tano wa kutangazwa Uislamu.\n",
      "Tukio maarufu la mwaka wa sita wa Tangazo la Uislamu lilikuwa ni kusilimu kwa Umar bin Khatab, khalifa wa baadae wa Waislamu. Alikuwa mmoja wa maadui wakali sana wa Uislamu na Muhammad, Mtume wa Allah (s.a.w.) na alikuwa mtesaji mkubwa wa Waislamu. Yule mwanahistoria wa kisasa wa Kimisri, Amin Dawidar, anasema kwamba chuki ya Umar kwa Uislamu, na uhasama wake kwa Muhammad, vilifanana tu na chuki na uhasama kwavyo wa ami (mjomba) wake wa upande wa kikeni, Abu Jahl.\n",
      "Mkataba huu ulipelekwa kwenye makabila mengine kwa ajili ya kuidhinishwa. Walipokwishaidhinisha, ukatundikwa kwa taadhima kwenye ukuta wa Al-Kaaba. Kuidhinishwa kwa mkataba huo kulikuwa ni kitendo cha uchokozi!\n",
      "Hadithi ya karantini ya Bani Hashim ni mlango wa kusisimua katika utenzi wa Kiislam, na umesimuliwa na kila mwanahistoria wa somo hilo, miongoni mwao:\n",
      "Amri ya kupigwa marufuku huko iliwekwa kwa maandishi kwa uangalifu, na yakafungwa kwa mihuri mitatu. Pale wote walipojifunga wenyewe kwenye mkataba huo, kumbukumbu hiyo ikatundikwa kwenye ukuta wa Al-Kaaba, na hivyo kibali cha kidini kikatolewa kwenye mahitaji yake.\n",
      "Khadija alikufa mwezi 10 ya Ramadhani ya mwaka wa kumi wa Tangazo la Uislamu. Alizikwa huko Hujun juu ya Makka. Baada ya mazishi, Mtume (s.a.w.) mwenyewe alisawazisha udongo wa kaburi lake.\n",
      "Ule mwaka wa 619 uligeuka kuwa mwaka wa huzuni kwa Muhammad Mustafa kwa maana zaidi ya moja. Kifo cha mpenzi wa mtu kwa kawaida ni chanzo cha huzuni. Lakini kwa upande wake yeye, vifo vya hawa marafiki wawili havikuwa tukio la kinafsi tu. Mara tu, alifahamishwa maana ya vifo vyao kwa mfululizo wa matukio yasiyofungamana.\n",
      "Abu Talib alikuwa mu’min mwenye moyo wa bidii katika Uislamu. Kujiambatanisha kwake kwenye Uislamu kunadhihirishwa na msimamo wake na mantiki ya mambo.\n",
      "Hatua ya kwanza juu ya safari hii ni ya kuchukuliwa kupitia mwenendo wa utashi – hisia ya wajibu binafsi kwa ajili ya ustawi wa wanadamu wenzie, utumishi kwa\n",
      "Isra’ na Mi’raj zilitokea katika usiku wa tarehe 27 ya Rajab (mwezi wa saba wa kalenda ya Kiislam) wa mwaka wa kumi na mbili wa Tangazo la Uislamu, yaani, mwaka mmoja kabla ya Hijira ya Mtume (s.a.w.) kutoka Makka kwenda Madina.\n",
      "Yathrib ulikuwa ni mji kwenye chemchem karibu maili 250 kaskazini ya Makka. Mnamo mwaka wa 620 A.D., watu sita wa Yathrib walitembelea Makka kwa ajili ya Hija. Kukutana kwao kwa bahati na Muhammad kulisababisha kuingia kwao kwenye Uislamu. Walimwambia yeye kuwa waliiacha Yathrib katika hali ya kutokota na kwamba inaweza kulipuka wakati wowote kwenye vita.\n",
      "“Na katika watu yupo ambaye huiuza nafsi yake kwa kutaka radhi za Allah. Allah ni mpole kwa waja wake.”(Sura ya 2; Aya ya 207)\n",
      "Kila mkazi (wa Kiarabu) wa Yathrib alikuwa na shauku ya kuwa mwenyeji wa Mtume wa Uislamu ambaye alikuwa anaingia mjini kwake kama mgeni.\n",
      "Vibanda vipya vilijengwa kwa ajili ya wake wapya kama walivyoingia katika miaka ya baadae. Ilikuwa ni mara ya kwanza ambapo Waislamu walifanya kazi kama timu moja katika mradi wa jamii. Katika miaka iliyofuatia, timu hii ilikuwa ijenge jengo kubwa la Kiislam.\n",
      "Haya makabila mawili ya Kiarabu ya Madina, Aus na Khazraj, yaliishi kwa kilimo. Kabla ya kuwasili kwa Mtume, walikuwa wamefungana kwenye vita dhidi yao wenyewe vilivyodumu kwa zaidi ya vizazi vitano.\n",
      "Utajiri wa Madina ulikuwa karibu wote umekusanyika katika mikono ya Mayahudi. Hao Waarabu (sasa Maansari) waliishi kwenye umasikini na dhiki ya kudumu. Sababu moja ya kwa nini walikuwa masikini sugu, ilikuwa ni viwango vikubwa vya riba walivyokuwa wakilipa kwa Mayahudi kwenye mikopo yao.\n",
      "Ilikuwa ni katika mazingira kama Haya ambapo ilikuwa achukue hatua za maksudi kwa ajili ya usalama wa Madina. Kama mkuu wa dola inayoondokea, usalama wa dola hiyo ulikuwa ndio wajibu wake wa kwanza.\n",
      "Katika mwezi wa Shaban (mwezi wa nane), mwaka wa pili wa Hijiria, kufunga katika mwezi wa Ramadhani (mwezi wa tisa) kulifanywa ni amri ya lazima kwa Waislamu. Wao, kwa hiyo, walifunga katika mwezi uliofuata (yaani, mwezi wa Ramadhani). Mwisho wa mwezi wa kufunga, walitakiwa kutoa Zaka-ul-Fitr, Zaka maalum.\n",
      "Kama ilivyoonyeshwa hapo juu, Badr ndio vita muhimu sana katika historia nzima ya Uislamu, na moja kati ya zile maarufu katika historia ya ulimwengu. Ushindi ulihakikisha kuwepo kwa Uislamu, na uhai wa dhahiri wa jumuiya ya Waislamu ya Madina ambayo mpaka sasa imetokea, kwa vyovyote, kuwa ya hatari.\n",
      "Mshangao haukuishia kwa askari wa kawaida wa jeshi la Waislamu tu; ulikuwa ni wa jumla. Baadhi ya maswahaba wakuu wa Mtume (s.a.w.) walikumbwa pamoja na wengine kabla ya shambulizi la adui.\n",
      "Wakisukumwa na lengo hili, na kwa nguvu ya shauku ya kufanya fidia kwa ajili ya kushindwa kwa siku zilizopita, hawa viongozi wa Makka walianza maandalizi kwa ajili ya vita vya juhudi zote; vita ambavyo vitakuwa ni mwisho wa vita nyingine zote kwa kuuteketeza kabisa Uislamu!\n",
      "Sasa Amr alikuwa ndani ya mzingo wa Madina. Kwa ujasiri kabisa akasonga mbele kwenye kambi ya Waislamu, na kuwapa changamoto mashujaa wa Kiislam kutoka na kupigana dhidi yake katika desturi ya jadi ya Kiarabu ya mapambano ya watu wawili wawili.\n",
      "Kushindwa kwa mzingiro (karantini) wa Madina kwa waabudu-masanamu wa Makka lilikuwa ni tukio muhimu sana katika historia ya Arabia. Ilimaanisha kwamba watakuwa hawawezi kamwe kuandaa uvamizi mwingine wa Madina. Baada ya vile vita vya handaki, uamuzi ukahama, hatimae na kwa dhahiri kabisa, kutoka kwa waabudu-sanamu wa Makka kwenda kwa Waislamu wa Madina.\n",
      "Wale Wayahudi wa kabila la Qurayza waliuawa kwenye majira ya kuchipua ya mwaka wa 627 A.D. Kutoka tarehe hii, Wayahudi wakakoma kuwa nguvu hai katika maisha ya kiuchumi na kisiasa ya Madina.\n",
      "Kwa desturi za kijadi za Kiarabu, kila mmoja alikuwa huru kuitembelea hiyo Al-Kaaba – bila ya silaha. Pia, kwa desturi za jadi, mapigano ya aina yoyote yalikatazwa wakati wa miezi minne mitukufu ya mwaka. Moja ya miezi hii ulikuwa ni Dhilqa’ada, mwezi wa 11 wa kalenda ya Kiislamu.\n",
      "5. Waislamu watatembelea Makka kufanya hijja katika mwaka unaofuata lakini hawatakaa katika mji huo kwa zaidi ya siku tatu, na silaha pekee ambazo wataruhusiwa kuja nazo, zitakuwa ni panga zao ndani ya ala zao.\n",
      "Ile karatasi ya awali ya Mkataba wa Hudaybiyya ilibakia na Muhammad ambapo nakala yake ilikabidhiwa kwa Suhayl kwa uhifadhi wa salama katika hifadhi ya nyaraka ya Makka.\n",
      "Mkataba ya Hudaybiyya ulikuwa ni matunda ya ustadi wa utawala wa majaaliwa na kipaji cha kisiasa cha hali ya juu sana. Ulileta manufaa makubwa sana kwa Uislamu. Miongoni mwao:\n",
      "Na hapa ingekuwa vizuri kutoa maelezo ya Hadith juu ya hali na tabia ya Ali. Alikuwa mwenye urefu wa kati, lakini mwenye afya na pande la mtu, na mwenye nguvu nyingi mno. Alikuwa na Sura ya tabasamu, mwekundu mno, mwenye ndevu nyingi. Alitambulikana kuwa mwenye tabia maridhawa, akili ya busara, na ari ya dini, na kutokana na moyo wake wa kijasiri, alipewa jina la Simba wa Mungu.\n",
      "Ushindi wa Khaybar ni tukio muhimu katika historia ya Uislamu kwani ndio mwanzo wa Dola ya Kiislam na Milki. Mwanahistoria wa Kihindi, M. Shibli, anasema katika kitabu chake cha wasifa wa Mtume: Khaybar ilikuwa ndio vita ya kwanza ambamo wasiokuwa Waislamu walifanywa raia wa Nchi ya Kiislam.\n",
      "Bado kuna maana nyingine ambamo hivi vita vya Khaybar vilikuwa vya umuhimu mkubwa sio tu kwa Waislamu wa wakati wa Mtume (s.a.w.) bali pia kwa vizazi vya baadae. Ilikuwa ni kuondoka, kwa mara ya kwanza, kutoka kwenye desturi ya jadi ya vita vya Kiarabu. Mtindo wa Kiarabu wa mapigano ulikuwa mara nyingi ni wa kiungwana lakini mara nyingi sana ulikuwa usio na ufanisi. Waarabu walijua kidogo kuliko chochote juu ya mikakati, na kile walichojua wao kuhusu mbinu za kivita ni kupiga-na-kukimbia.\n",
      "Wale waliosalia kwenye mapigano Haya ya maafa makubwa ya (Muutah) walilakiwa na Waislamu kama watoro, na wengine walikuwa hata waoga wa kutokeza hadharani kwa kiasi cha muda. Watu wa Madina walikuwa wavumilivu kiasi hicho katika miaka yao nane ya hali ya vita.\n",
      "Ujuzi wa Mu’awiyyah kama mwandishi, kwa hiyo, haukuwa mmoja ambao ulikuwa na upungufu katika baraza la Madina. Wanahistoria wamehifadhi majina 29 ya waandishi wa Mtume.\n",
      "Katika kutoa fatwa hii juu ya kusilimu kwa Bani Umayya na kuwa Waislamu, Ali alikuwa anafasili Aya ifuatayo kutoka kwenye Kitabu cha Allah (s.w.t.):\n",
      "Jeshi la Waislamu lilikuwa katika msambaratiko wa kukimbia bila mpango na adui wakiwa kwenye kasi kali ya kuwafukuza. Mtume, kwa kweli, hakuondoka kwenye nafasi yake, na alisimama imara kama jiwe. Watu nane walikuwa bado wako naye, wote wakitazama kioja cha kukimbia kwa jeshi lao. Walikuwa ni:\n",
      "Kusilimu kwao kulikuwa na thamani ndogo kwa Uislamu vyovyote vile. Katika kutoa zawadi juu ya Abu Sufyan na wanae, Mtume (s.a.w.) wa Uislamu alikuwa akidhihirisha tu chaguo lake kutoka kwenye ulipizaji wa kisasi. Kwa Waarabu, itakumbukwa, ulipizaji wa kisasi ulikuwa ni tabia yao mbaya. Alijaribu kumaliza uadui wao kwa Uislamu kwa upole wake na ukarimu. Zawadi hizo zilikuwa ni ishara ya mfano wa mwelekeo huu tu.\n",
      "4. Wale ambao kwa kuwatumia wao kuingia kwenye Uislamu kunakuwa na uwezekano kwa watu wa makabila yao.\n",
      "Ilikuwa ni mwezi wa Septemba, na hali ya hewa ya Hijazi mwaka ule ilikuwa ni ya joto kupita kiasi. Zaidi ya hayo, ukame mrefu ulitishia jimbo hilo na hali ya nusu njaa. Majibu ya Waislamu, kwa hiyo, yalikuwa yamepooza sana. Hawakupenda kuondoka majumbani mwao kwa wakati kama huu.\n",
      "Alitaka kuonyesha kwa dunia yote kwamba alimuona Ali kuwa mwenye sifa zinazostahili zaidi kuliko mtu mwingine yoyote za kuwa mtawala wa Waislamu wote, na kuwa mkuu wa Umma wa Kiislamu. Yeye, kwa hiyo, alimchagua kama mwakilishi wake katika makao yake makuu.\n",
      "5. Kama mwanamke wa kikristo ataolewa na mwislamu, atakuwa na uhuru kamili wa kufuata dini yake mwenyewe.\n",
      "Msimu wa hija wa mwaka wa 9 H.A, ulikuwa ndio mkusanyiko wa mwisho wa waabudu masanamu wa Arabia katika maeneo ya Al-Kaaba au hapo Makka.\n",
      "Katika kutangaza hapo Mina katika mwaka wa 9 H.A., ile Sera ya Dola ya serikali ya Kiislam, Ali alikuwa ndiye “Chombo” cha Allah (s.w.t.), kama vile katika mwaka wa 7 H.A., alivyokuwa “Mkono” wa Allah (s.w.t.) ambao uliiteka Khaybar kwa ajili ya Uislamu, na akaweka msingi wa Ufalme wa Mbinguni juu ya Ardhi. Kisa cha ushukaji na utangazaji wa Sura ya Bara’a (Sura ya 9 ya Qur’an Tukufu), kinadhihirisha kwamba:\n",
      "Katika mwaka wa kwanza wa Hijiria (A.D. 622) Madina ilikuwa na hadhi ya Serikali ya Jiji lakini kwa miaka kumi ilikuwa imechipuka kuwa makao makuu ya Serikali ya “Taifa”. Peninsula yote ilikuwa imekubali mamlaka yake ya kiroho na kidunia.\n",
      "Ilikuwa ni siku ya 18 ya mwezi wa 12 wa mwaka wa 10 wa kalenda ya Kiislam (Machi 21, 632) wakati Aya ya mwisho ya Ufunuo ilipoteremshwa duniani hapa. Wahy ulikuwa umeanza mwaka 610 A.D., katika pango la Hira huko Makka, na ulifikishwa mwisho mwaka 632 A.D., katika bonde la Khumm kwa tangazo kwamba Ali ibn Abi Talib atakuwa ndiye Mtekelezaji Mkuu, baada ya Muhammad mwenyewe, wa Serikali ya Madina na Dola ya Kiislamu.\n",
      "Kama hizo Aya mbili za Qur’an zinazohusu kutawazwa kwa Ali, zitasomwa katika utaratibu wa mpango wake, na katika fuo lake la kihistoria, maana zao zitakuwa wazi.\n",
      "Jeshi la Usamah, kwa hiyo, lilikuwa ni utangulizi wa kuhamisha madaraka kutoka kwa Muhammad kwenda kwa mrithi wake, Ali ibn Abi Talib.\n",
      "Mambo yafuatayo yawekwe akilini na msomaji kwa ajili ya kutathmini upya kwa tukio kwenye mfululizo wa matukio ya jeshi la Usamah:\n",
      "Hadithi ya kwamba Abu Bakr aliwaongoza Waislamu katika Swala katika uhai wa Mtume, ama ni ya kweli au ya uongo.\n",
      "Mwili wa Mtume wa Uislamu (s.a.w.w.) ulioshwa siku ya Jumanne. Ni watu sita tu waliokuwapo kwenye huduma hii ya mazishi. Nao walikuwa ni:\n",
      "Kati ya watu wote aliowajua yeye Mtume (s.a.w.) yeye (Fatima) alikuwa wa kwanza na wa mbele kabisa katika moyo wake.\n",
      "Utawala wa Mbinguni Duniani au Dola ya Kiislam haikudumu muda mrefu baada ya kifo cha Mtume. Kifo cha Taifa la Kiislamu, likiwa bado katika uchanga wake, kinaweza kuamsha udadisi wa mwanafunzi wa historia. Anaweza kushangaa ni kwa nini liliishi kwa muda mfupi kiasi hicho, na jinsi ilivyowezekana kwa hawa wagombea wapya kupindua mpango uliofanywa na Mtume (s.a.w.) mwenyewe kwa ajili ya ukabidhianaji wa amani na utaratibu wa madaraka, na kulazimisha kukubalika kwa mpango wao wenyewe juu ya umma wa Waislamu.\n",
      "Baada ya kifo cha Mtume (s.a.w.), baadhi ya maswahaba walikusanyika kwenye ukumbi wa nje ya Madina uliokuwa ukiitwa Saqifah, na wakamchagua Abu Bakr kama kiongozi wa Waislamu. Hapakuwa na kigezo katika Uislamu kwa ajili ya uchaguzi kama huo, lakini kilikuwepo kigezo kwa ajili hiyo katika asasi za kisiasa za nyakati kabla ya Uislamu.\n",
      "Hata hivyo, ule “ugeni” wa Waarabu kwenye mtiririko wa kurithiana katika mamlaka ya kifalme haukudumu kwa muda mrefu; ulidhihirisha kuwepo kwa muda mfupi sana. Kwa kweli, huo “ugeni” wao ulidumu kwa chini ya miaka thelathini (kutoka 632 hadi 661). Baada ya ile miaka thelathini ya ugeni na kanuni ya mtiririko wa kurithiana wa mamlaka ya kifalme, wakaja kuwa na ujuzi sana nayo, na ujuzi wao mpya umedumu mpaka kufika kwenye nyakati zetu wenyewe.\n",
      "Alikuwa, hata hivyo, hakuacha maagizo ya wazi juu ya nani alikuwa amrithi yeye kama kiongozi wa Jumuiya ya Kiislamu na mtawala wa Dola changa ya Kiislamu, na Waislamu walikuwa na ujuzi wa kisiasa mdogo sana wa Arabia ya kabla ya Uislamu wa kuwaongoza wao.\n",
      "Taasisi muhimu sana ya kisiasa ya Uislamu – Ukhalifa – ilizaliwa kwa hiyo “takriban bila ya kutegemewa!”\n",
      "Wakati huu, hata hivyo, Abu Bakr alichaguliwa kuwa khalifa wa Waislamu. Amri ya Allah (s.w.t.) haikutekelezwa katika kuchaguliwa kwake. Kuchaguliwa kwake, kwa hiyo, kunazua maswali ya msingi, kama:\n",
      "Wachambuzi wa kisasa wa maoni ya kisiasa ya Kiislam pia wameona kutokuwiana katika nadharia ya Sunni ya serikali. Ufuatao ni ushahidi wa wachache wao:\n",
      "“Kauli wakilishi ya namna wanasheria wa Kiislam wa mwishoni mwa kipindi cha kati walivyoyaona matatizo ya madaraka na uongozi wa Kiislam inaonyeshwa na mtu wa Syria wa wakati mmoja na Ibn Taymiya (na ambaye Hanbal kwa kawaida hawakukubaliana naye). Ibn Jama’a (kafa 1333) ambaye alikuwa mmoja wa watumishi wakubwa wa utawala wa kidini wa Mamluki, na Qadhi Mkuu wa Cairo kwa mara mbili.\n",
      "Uimamu uko wa namna mbili: ule wa uchaguzi, na ule wa kunyang’anya. Uimamu wa kuchaguliwa unathibitishwa kwa njia mbili, na Uimamu wa kunyang’anya, kwa njia ya tatu. Njia ya kwanza katika Uimamu wa kuchaguliwa ni kwa kiapo cha wale wenye mamlaka kufungua na kufunga. Njia ya pili ni kwa Imamu kuchaguliwa kama mrithi na yule aliyekuwa mbele yake.\n",
      "“Mengi yameandikwa kuhusu Vita vya Kidini juu ya Ulaya. Kidogo hasa kimeandikwa kuhusu matokeo ya hivi na mapambano mengine yanayofanana na hayo katika nchi za Kiislamu. Kwa mara ya kwanza tangu mwanzo, Waislamu walilazimika kwa kushindwa kijeshi kuachia maeneo makubwa ya nchi ya zamani ya Kiislamu kwa watawala wa Kikristo, na kuacha idadi kubwa ya Waislamu chini ya utawala wa Kikristo.\n",
      "Qur’an Tukufu, kwa bahati, ni ngeni kwa nadharia zote hizi za serikali na kanuni za vyama vya kisiasa zilizogunduliwa, zilizoelezwa kwa ufasaha na kuwekwa katika mpango wa wazi na wengi wa Waislamu, na hii kwa sababu rahisi, yaani, inayo nadharia yake yenyewe ya serikali na falsafa yake yenyewe ya kisiasa. Haina, kwa hiyo, haja yoyote na nadharia ngeni au falsafa ya serikali.\n",
      "Lord Action, mwanahistoria maarufu wa Uingereza, na mwenyewe akiwa mfuasi wa Katoliki, wakati mmoja alitoa onyo lifuatalo kwa wale watu ambao walitoa visingizio kwa ajili ya matendo maovu kupindukia ya Mapapa wa Ufufuko Mpya wa Kanisa Katoliki:\n",
      "Walijua kwamba ikiwa amemnyanyua Ali kama Kiongozi Mkuu wa Dola ya Kiislamu, ilikuwa ni kwa sababu Ali alikuwa na sifa zote muhimu kwa ajili ya madaraka kama hayo.\n",
      "Umar alikuwa anamaanisha kwa njia hii kwamba wakati Mtume (s.a.w.) akiwa bado yuko hai, ni nani atahitaji mrithi; baada ya kuwa warithi wote walikuwa ni kwa ajili ya wafu na sio kwa waliohai!\n",
      "Kutokea kwao katika muda muafaka, na matumizi yao ya shinikizo juu ya Ansari, kulihakikisha makubaliano ya hawa Ansari katika kufika kwa Abu Bakr kwenye kiti.\n",
      "Ufumbuzi wa mafanikio ya Abu Bakr katika kuchaguliwa khalifa hapo Saqifah ulikuwa ni ule uadui wa pamoja wa yale makabila mawili ya Madina ya Aus na Khazraj. Yote yalikuwa yamepigana “Vita vya Miaka Mia Moja” vya wenyewe kwa wenyewe, na walikuwa wamesimamisha uhasama wao kwa sababu tu ya kuchoka kwao kimwili.\n",
      "Umma wa Kiislamu ni dhahiri uliona kwamba kuomboleza kwa ajili ya kifo cha Muhammad (s.a.w.), na kumfanyia mazishi, zilikuwa ni kazi ambazo ni vema kuachiwa kwa watu wa familia yake mwenyewe. Watu wa familia yake waliomboleza kwa ajili yake, na walimfanyia mazishi.\n",
      "Muhammad ibn Ishaq, mwandishi wa wasifa wa Mtume wa Uislamu, anaandika katika Siirah yake - (Maisha ya Mtume wa Allah):\n",
      "Madai ya Abu Bakr juu ya ubora wa Quraishi kwa misingi ya damu na nchi, yalikuwa ni dalili ya kwanza ya kuzuka tena kwa upagani katika Uislamu!\n",
      "Baadhi ya mifano ya kukubali kusiko na udadisi kwa Mustashriq juu ya dai hili, ilitoka katika Sura ya 45. Ufuatao ni mfano mwingine zaidi.\n",
      "5. Upi ulikuwa msimamo na mwenendo wa maswahaba wakubwa wa Muhamamd (s.a.w.) juu ya uongozi wa jamii ya Waislamu baada ya kifo chake?\n",
      "La muhimu zaidi kuliko uteuzi wa gavana au jemadari, ilikuwa ni uteuzi wa mrithi wake mwenyewe, na mkuu wa baadae wa umma wa Waislamu. Hakukuwa na sababu ya kuigeuka sera na mwenendo wake mwenyewe, na kuuacha umma wake wote bila ya kiongozi. Tabia yake ilikuwa yenye msimamo thabiti, na ufuatao ni ushahidi wa Qur’an Tukufu:\n",
      "Kwa kweli, kuweko hasa kwa Uislamu kunategemea juu ya khalifa au kiongozi wa umma. Kwa hiyo, haisadikiki kwamba uliachwa si kwenye ubora wowote bali ufaraguzi! Itakuwa haishangazi kwamba ulimwengu wa Kiislamu umekuwa mara kwa mara umefunikizwa kwenye damu juu ya suala la urithi na uongozi.\n",
      "Katika mawazo ya Abu Bakr na Umar, kulikuwa na njia moja tu ya “kuuokoa” umma wa Muhammad (s.a.w.) kutokana na “janga,” na hiyo ilikuwa ni kwa kuikataa familia yake kwenye uchaguzi, na kwa kujitwalia serikali yake wao wenyewe!\n",
      "Kwa vitendo ugumu wa kuteua mgombea safi na hatari inayojitokeza ya vita vya wenyewe kwa wenyewe mara nyingi ulisababisha matumizi ya haki ya kurithi kwa mtoto wa kwanza katika falme za Kiislamu za baadae. Waarabu, hata hivyo, kamwe hawakuutwaa ule utaratibu wa urithi wa moja kwa moja wa mtoto mkubwa.” (The Great Arab Conquests, 1963)\n",
      "Na hakumchagua Ali kwa sababu ya udugu, bali kwa sababu ilikuwa ni amri ya Allah (s.w.t.) kwake yeye kufanya hivyo.\n",
      "“Hali ya kivita, iliyokuwepo kati ya Mtume na ndugu zake, ilifikia kikomo katika ushindi kamili wa majeshi ya Kiislam uliofikishwa kileleni na kuingia kwa ushindi kwa Muhammad katika mji alimozaliwa kwa kubomoa kumbukumbu za uabudu masanamu. Ingawa kazi yake ilibakia ya Kiutume, Muhammad alikuwa ameongeza kuja kutumia upanga wa kiongozi wa kijeshi na kusimamia mambo ya dola ya kisi- asa yenye hima, akitambua wajibu wa dola hiyo katika historia.\n",
      "Uislamu umetoa uhuru wa chaguo kwa Waislamu wote. Kwa upande mmoja wanao uamuzi wa majaaliwa wa Muhammad (s.a.w.); na kwa upande mwingine, kuna ule uamuzi uliofanywa kwenye ukumbi wa Saqifah. Wanaweza kuchagua wowote wanaoutaka.\n",
      "Ulikuwa ni mji wa Ansari ambao ulipata heshima ya sifa ya kuwa makazi na makao makuu ya Uislamu. Ilikuwa ni katika mji wao ambamo Muhammad, Mtume wa Allah (s.a.w.w). alijenga “jengo” kubwa la Ufalme wa kwanza na wa mwisho wa Mbinguni juu ya Ardhi.\n",
      "“Kabla ya Hijira (kuhama kwa Muhammad kutoka Makka kwenda Madina, A.D.622), yeye (Abu Bakr) alionekana wazi kama mtu wa pili kwa Muhammad kwa uchumba wa Muhammad kwa binti yake Aisha na kwa Abu Bakr kuwa sahaba wa Muhammad kwenye ile safari ya kwenda Madina.”\n",
      "Hivyo vinavyoitwa “vita vya murtad” vilivyopiganwa katika ukhalifa wa Abu Bakr, vilikuwa kwa kweli ni vita vya wenyewe kwa wenyewe – vya kwanza katika Uislamu. Vita hivi vilipiganwa na Waislamu dhidi ya Waislamu – kisa cha vita hivyo kwa upande wao kikiwa ni kukataa kwa baadhi ya makabila kulipa Zaka kwenye serikali ya Abu Bakr.\n",
      "Kama angekuwa muadilifu, alipaswa kulipeleka suala la Fadak kwa mmoja wa mahakimu wake kwa ajili ya hukumu badala ya kuchukuwa hatua za upande mmoja katika kulikamata.\n",
      "“Waarabu walikuwa wameungana chini ya bendera ya Uislamu, na Waajemi waliwaona kama hatari ya kudumu. Makabila ya Kikristo ya Waarabu wa Iraqi mara kwa mara yaliwachochea Waajemi dhidi ya Waarabu Waislamu. (Iraqi siku hizo ilikuwa sehemu ya Falme ya Uajemi).\n",
      "Hii ndio Hadith ya kupanda kwa Bani Umayya kwenye madaraka. Ilikuwa ni katika namna hii ambayo kwa maneno ya Gibbon, “mabingwa wa uabudu masanamu wakawa ndio viongozi wakuu wa dini na himaya yake (Muhammad),” – moja ya mguso kamili wa kihistoria wa kejeli.\n",
      "Waislamu wa kisasa wanaamini na kudai kwamba serikali katika Uislamu ni ya kidemokrasia katika mwenendo. Serikali inayoendeshwa na Waislamu inaweza kuwa ya kidemokrasia katika mwenendo lakini serikali ya Kiislam sio ya kidemokrasia.\n",
      "“Serikali ya Kiislam ilikuwa imebomolewa kabisa katika sehemu kuu ya Ulimwengu wa Kiislam kwa kutwaliwa kwa madaraka na Mu’awiyah mwaka wa 40 Hijiria. Mu’awiyah alivunja Ufalme wa Allah ulioanzishwa na Mtume na akaubadilisha na ufalme wa kidunia. Alibadili ukhalifa wa haki na wa kidemokrasia kwa ufalme wa kidhalimu wa kurithiana……..\n",
      "Fursa za biashara online ya msingi wa nyumbani: Kufanya fedha katika faraja ya nyumba yako mwenyewe\n",
      "321.5874815414662\n"
     ]
    }
   ],
   "source": [
    "# longest text\n",
    "print(max(texts, key=len))\n",
    "\n",
    "# shortest text\n",
    "print(min(texts, key=len))\n",
    "\n",
    "# average length\n",
    "print(sum(len(text) for text in texts) / len(texts))"
   ]
  }
 ],
 "metadata": {
  "kernelspec": {
   "display_name": "nlp",
   "language": "python",
   "name": "python3"
  },
  "language_info": {
   "codemirror_mode": {
    "name": "ipython",
    "version": 3
   },
   "file_extension": ".py",
   "mimetype": "text/x-python",
   "name": "python",
   "nbconvert_exporter": "python",
   "pygments_lexer": "ipython3",
   "version": "3.9.16"
  },
  "orig_nbformat": 4
 },
 "nbformat": 4,
 "nbformat_minor": 2
}
