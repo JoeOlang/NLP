{
 "cells": [
  {
   "cell_type": "markdown",
   "metadata": {},
   "source": [
    "### Data Load"
   ]
  },
  {
   "cell_type": "code",
   "execution_count": 1,
   "metadata": {},
   "outputs": [
    {
     "name": "stderr",
     "output_type": "stream",
     "text": [
      "c:\\Users\\r4m\\miniconda3\\envs\\nlp\\lib\\site-packages\\tqdm\\auto.py:21: TqdmWarning: IProgress not found. Please update jupyter and ipywidgets. See https://ipywidgets.readthedocs.io/en/stable/user_install.html\n",
      "  from .autonotebook import tqdm as notebook_tqdm\n",
      "Downloading builder script: 100%|██████████| 2.26k/2.26k [00:00<?, ?B/s]\n",
      "Downloading readme: 100%|██████████| 13.5k/13.5k [00:00<00:00, 6.61MB/s]\n",
      "Downloading data: 100%|██████████| 17.0M/17.0M [00:08<00:00, 2.04MB/s]\n",
      "Generating train split: 67017 examples [00:02, 25073.64 examples/s]\n"
     ]
    },
    {
     "data": {
      "text/plain": [
       "DatasetDict({\n",
       "    train: Dataset({\n",
       "        features: ['instruction', 'input', 'id', 'output'],\n",
       "        num_rows: 67017\n",
       "    })\n",
       "})"
      ]
     },
     "execution_count": 1,
     "metadata": {},
     "output_type": "execute_result"
    }
   ],
   "source": [
    "from datasets import load_dataset\n",
    "\n",
    "dataset = load_dataset(\"MBZUAI/Bactrian-X\", 'sw')\n",
    "dataset"
   ]
  },
  {
   "cell_type": "code",
   "execution_count": 4,
   "metadata": {},
   "outputs": [
    {
     "name": "stdout",
     "output_type": "stream",
     "text": [
      "67017\n"
     ]
    }
   ],
   "source": [
    "instructions = dataset['train']['instruction']\n",
    "print(len(instructions))"
   ]
  },
  {
   "cell_type": "code",
   "execution_count": 6,
   "metadata": {},
   "outputs": [
    {
     "data": {
      "text/html": [
       "<div>\n",
       "<style scoped>\n",
       "    .dataframe tbody tr th:only-of-type {\n",
       "        vertical-align: middle;\n",
       "    }\n",
       "\n",
       "    .dataframe tbody tr th {\n",
       "        vertical-align: top;\n",
       "    }\n",
       "\n",
       "    .dataframe thead th {\n",
       "        text-align: right;\n",
       "    }\n",
       "</style>\n",
       "<table border=\"1\" class=\"dataframe\">\n",
       "  <thead>\n",
       "    <tr style=\"text-align: right;\">\n",
       "      <th></th>\n",
       "      <th>text</th>\n",
       "    </tr>\n",
       "  </thead>\n",
       "  <tbody>\n",
       "    <tr>\n",
       "      <th>0</th>\n",
       "      <td>Unda tangazo fupi la nafaka mpya ya kiamsha ki...</td>\n",
       "    </tr>\n",
       "    <tr>\n",
       "      <th>1</th>\n",
       "      <td>Tathmini ufanisi wa mfumo wa afya wa Marekani.</td>\n",
       "    </tr>\n",
       "    <tr>\n",
       "      <th>2</th>\n",
       "      <td>Pendekeza suluhisho la kupunguza taka za plast...</td>\n",
       "    </tr>\n",
       "    <tr>\n",
       "      <th>3</th>\n",
       "      <td>Kwa kuzingatia safu ya nambari, ni jumla gani ...</td>\n",
       "    </tr>\n",
       "    <tr>\n",
       "      <th>4</th>\n",
       "      <td>Tengeneza programu ambayo inaweza kupata palli...</td>\n",
       "    </tr>\n",
       "  </tbody>\n",
       "</table>\n",
       "</div>"
      ],
      "text/plain": [
       "                                                text\n",
       "0  Unda tangazo fupi la nafaka mpya ya kiamsha ki...\n",
       "1     Tathmini ufanisi wa mfumo wa afya wa Marekani.\n",
       "2  Pendekeza suluhisho la kupunguza taka za plast...\n",
       "3  Kwa kuzingatia safu ya nambari, ni jumla gani ...\n",
       "4  Tengeneza programu ambayo inaweza kupata palli..."
      ]
     },
     "execution_count": 6,
     "metadata": {},
     "output_type": "execute_result"
    }
   ],
   "source": [
    "import pandas as pd\n",
    "\n",
    "df = pd.DataFrame()\n",
    "\n",
    "df['text'] = instructions\n",
    "df.head()"
   ]
  },
  {
   "cell_type": "code",
   "execution_count": 7,
   "metadata": {},
   "outputs": [
    {
     "name": "stdout",
     "output_type": "stream",
     "text": [
      "Unda tangazo fupi la nafaka mpya ya kiamsha kinywa.\n",
      "Tathmini ufanisi wa mfumo wa afya wa Marekani.\n",
      "Pendekeza suluhisho la kupunguza taka za plastiki katika mazingira.\n",
      "Kwa kuzingatia safu ya nambari, ni jumla gani ya juu inayofuata ya vitu visivyo karibu?\n",
      "Tengeneza programu ambayo inaweza kupata pallindrome ndefu zaidi katika mfuatano fulani\n"
     ]
    }
   ],
   "source": [
    "for item in instructions[:5]: # print the first five items\n",
    "    print(item)"
   ]
  },
  {
   "cell_type": "markdown",
   "metadata": {},
   "source": [
    "### Text Cleaning"
   ]
  },
  {
   "cell_type": "code",
   "execution_count": 11,
   "metadata": {},
   "outputs": [],
   "source": [
    "def clean(text):\n",
    "    text = str(text)\n",
    "    text = text.lower()\n",
    "    text = text.replace(\"\\s+\", \" \") # remove extra whitespaces\n",
    "    text = text.replace(\"[^a-zA-Z]\", \" \")\n",
    "    return text"
   ]
  },
  {
   "cell_type": "code",
   "execution_count": 12,
   "metadata": {},
   "outputs": [],
   "source": [
    "df['clean_text'] = df['text'].apply(clean)"
   ]
  },
  {
   "cell_type": "markdown",
   "metadata": {},
   "source": [
    "### Tokenization"
   ]
  },
  {
   "cell_type": "markdown",
   "metadata": {},
   "source": [
    "#### Tokens"
   ]
  },
  {
   "cell_type": "code",
   "execution_count": 15,
   "metadata": {},
   "outputs": [],
   "source": [
    "df['tokens'] = df['clean_text'].apply(lambda x: x.split())"
   ]
  },
  {
   "cell_type": "code",
   "execution_count": 16,
   "metadata": {},
   "outputs": [
    {
     "data": {
      "text/html": [
       "<div>\n",
       "<style scoped>\n",
       "    .dataframe tbody tr th:only-of-type {\n",
       "        vertical-align: middle;\n",
       "    }\n",
       "\n",
       "    .dataframe tbody tr th {\n",
       "        vertical-align: top;\n",
       "    }\n",
       "\n",
       "    .dataframe thead th {\n",
       "        text-align: right;\n",
       "    }\n",
       "</style>\n",
       "<table border=\"1\" class=\"dataframe\">\n",
       "  <thead>\n",
       "    <tr style=\"text-align: right;\">\n",
       "      <th></th>\n",
       "      <th>text</th>\n",
       "      <th>clean_text</th>\n",
       "      <th>tokens</th>\n",
       "    </tr>\n",
       "  </thead>\n",
       "  <tbody>\n",
       "    <tr>\n",
       "      <th>0</th>\n",
       "      <td>Unda tangazo fupi la nafaka mpya ya kiamsha ki...</td>\n",
       "      <td>unda tangazo fupi la nafaka mpya ya kiamsha ki...</td>\n",
       "      <td>[unda, tangazo, fupi, la, nafaka, mpya, ya, ki...</td>\n",
       "    </tr>\n",
       "    <tr>\n",
       "      <th>1</th>\n",
       "      <td>Tathmini ufanisi wa mfumo wa afya wa Marekani.</td>\n",
       "      <td>tathmini ufanisi wa mfumo wa afya wa marekani.</td>\n",
       "      <td>[tathmini, ufanisi, wa, mfumo, wa, afya, wa, m...</td>\n",
       "    </tr>\n",
       "    <tr>\n",
       "      <th>2</th>\n",
       "      <td>Pendekeza suluhisho la kupunguza taka za plast...</td>\n",
       "      <td>pendekeza suluhisho la kupunguza taka za plast...</td>\n",
       "      <td>[pendekeza, suluhisho, la, kupunguza, taka, za...</td>\n",
       "    </tr>\n",
       "    <tr>\n",
       "      <th>3</th>\n",
       "      <td>Kwa kuzingatia safu ya nambari, ni jumla gani ...</td>\n",
       "      <td>kwa kuzingatia safu ya nambari, ni jumla gani ...</td>\n",
       "      <td>[kwa, kuzingatia, safu, ya, nambari,, ni, juml...</td>\n",
       "    </tr>\n",
       "    <tr>\n",
       "      <th>4</th>\n",
       "      <td>Tengeneza programu ambayo inaweza kupata palli...</td>\n",
       "      <td>tengeneza programu ambayo inaweza kupata palli...</td>\n",
       "      <td>[tengeneza, programu, ambayo, inaweza, kupata,...</td>\n",
       "    </tr>\n",
       "    <tr>\n",
       "      <th>5</th>\n",
       "      <td>Ondoa maneno yote yanayorudiwa kutoka kwa sent...</td>\n",
       "      <td>ondoa maneno yote yanayorudiwa kutoka kwa sent...</td>\n",
       "      <td>[ondoa, maneno, yote, yanayorudiwa, kutoka, kw...</td>\n",
       "    </tr>\n",
       "    <tr>\n",
       "      <th>6</th>\n",
       "      <td>Zungusha herufi ya 3 ya \"Kozi\" nafasi mbili kulia</td>\n",
       "      <td>zungusha herufi ya 3 ya \"kozi\" nafasi mbili kulia</td>\n",
       "      <td>[zungusha, herufi, ya, 3, ya, \"kozi\", nafasi, ...</td>\n",
       "    </tr>\n",
       "    <tr>\n",
       "      <th>7</th>\n",
       "      <td>Kwa kuzingatia orodha ya vitu, angalia ikiwa k...</td>\n",
       "      <td>kwa kuzingatia orodha ya vitu, angalia ikiwa k...</td>\n",
       "      <td>[kwa, kuzingatia, orodha, ya, vitu,, angalia, ...</td>\n",
       "    </tr>\n",
       "    <tr>\n",
       "      <th>8</th>\n",
       "      <td>Kwa kuzingatia mifuatano miwili ya nambari, un...</td>\n",
       "      <td>kwa kuzingatia mifuatano miwili ya nambari, un...</td>\n",
       "      <td>[kwa, kuzingatia, mifuatano, miwili, ya, namba...</td>\n",
       "    </tr>\n",
       "    <tr>\n",
       "      <th>9</th>\n",
       "      <td>Kwa kuzingatia miduara miwili inayozingatia (1...</td>\n",
       "      <td>kwa kuzingatia miduara miwili inayozingatia (1...</td>\n",
       "      <td>[kwa, kuzingatia, miduara, miwili, inayozingat...</td>\n",
       "    </tr>\n",
       "  </tbody>\n",
       "</table>\n",
       "</div>"
      ],
      "text/plain": [
       "                                                text  \\\n",
       "0  Unda tangazo fupi la nafaka mpya ya kiamsha ki...   \n",
       "1     Tathmini ufanisi wa mfumo wa afya wa Marekani.   \n",
       "2  Pendekeza suluhisho la kupunguza taka za plast...   \n",
       "3  Kwa kuzingatia safu ya nambari, ni jumla gani ...   \n",
       "4  Tengeneza programu ambayo inaweza kupata palli...   \n",
       "5  Ondoa maneno yote yanayorudiwa kutoka kwa sent...   \n",
       "6  Zungusha herufi ya 3 ya \"Kozi\" nafasi mbili kulia   \n",
       "7  Kwa kuzingatia orodha ya vitu, angalia ikiwa k...   \n",
       "8  Kwa kuzingatia mifuatano miwili ya nambari, un...   \n",
       "9  Kwa kuzingatia miduara miwili inayozingatia (1...   \n",
       "\n",
       "                                          clean_text  \\\n",
       "0  unda tangazo fupi la nafaka mpya ya kiamsha ki...   \n",
       "1     tathmini ufanisi wa mfumo wa afya wa marekani.   \n",
       "2  pendekeza suluhisho la kupunguza taka za plast...   \n",
       "3  kwa kuzingatia safu ya nambari, ni jumla gani ...   \n",
       "4  tengeneza programu ambayo inaweza kupata palli...   \n",
       "5  ondoa maneno yote yanayorudiwa kutoka kwa sent...   \n",
       "6  zungusha herufi ya 3 ya \"kozi\" nafasi mbili kulia   \n",
       "7  kwa kuzingatia orodha ya vitu, angalia ikiwa k...   \n",
       "8  kwa kuzingatia mifuatano miwili ya nambari, un...   \n",
       "9  kwa kuzingatia miduara miwili inayozingatia (1...   \n",
       "\n",
       "                                              tokens  \n",
       "0  [unda, tangazo, fupi, la, nafaka, mpya, ya, ki...  \n",
       "1  [tathmini, ufanisi, wa, mfumo, wa, afya, wa, m...  \n",
       "2  [pendekeza, suluhisho, la, kupunguza, taka, za...  \n",
       "3  [kwa, kuzingatia, safu, ya, nambari,, ni, juml...  \n",
       "4  [tengeneza, programu, ambayo, inaweza, kupata,...  \n",
       "5  [ondoa, maneno, yote, yanayorudiwa, kutoka, kw...  \n",
       "6  [zungusha, herufi, ya, 3, ya, \"kozi\", nafasi, ...  \n",
       "7  [kwa, kuzingatia, orodha, ya, vitu,, angalia, ...  \n",
       "8  [kwa, kuzingatia, mifuatano, miwili, ya, namba...  \n",
       "9  [kwa, kuzingatia, miduara, miwili, inayozingat...  "
      ]
     },
     "execution_count": 16,
     "metadata": {},
     "output_type": "execute_result"
    }
   ],
   "source": [
    "df.head(10)"
   ]
  },
  {
   "cell_type": "code",
   "execution_count": 17,
   "metadata": {},
   "outputs": [
    {
     "name": "stdout",
     "output_type": "stream",
     "text": [
      "unda\n",
      "tangazo\n",
      "fupi\n",
      "la\n",
      "nafaka\n",
      "mpya\n",
      "ya\n",
      "kiamsha\n",
      "kinywa.\n"
     ]
    }
   ],
   "source": [
    "for item in df['tokens'].iloc[0]:\n",
    "    print(item)"
   ]
  },
  {
   "cell_type": "code",
   "execution_count": 28,
   "metadata": {},
   "outputs": [
    {
     "name": "stderr",
     "output_type": "stream",
     "text": [
      "100%|██████████| 67017/67017 [00:00<00:00, 540773.37it/s]\n"
     ]
    }
   ],
   "source": [
    "from tqdm.auto import tqdm\n",
    "\n",
    "tokens = []\n",
    "\n",
    "for row in tqdm(df['tokens']):\n",
    "    for token in row:\n",
    "        tokens.append(token)\n"
   ]
  },
  {
   "cell_type": "code",
   "execution_count": 31,
   "metadata": {},
   "outputs": [
    {
     "name": "stdout",
     "output_type": "stream",
     "text": [
      "48320\n"
     ]
    }
   ],
   "source": [
    "tokens = list(set(tokens))\n",
    "print(len(tokens))"
   ]
  },
  {
   "cell_type": "markdown",
   "metadata": {},
   "source": [
    "#### Token Ids"
   ]
  },
  {
   "cell_type": "code",
   "execution_count": 33,
   "metadata": {},
   "outputs": [],
   "source": [
    "import numpy as np\n",
    "\n",
    "tokens, token_ids = np.unique(tokens, return_inverse=True)"
   ]
  },
  {
   "cell_type": "code",
   "execution_count": 34,
   "metadata": {},
   "outputs": [
    {
     "data": {
      "text/plain": [
       "array(['\"', '\"!\"].', '\"\"', ..., '☠️', '장보기', '💚'], dtype='<U129')"
      ]
     },
     "execution_count": 34,
     "metadata": {},
     "output_type": "execute_result"
    }
   ],
   "source": [
    "tokens"
   ]
  },
  {
   "cell_type": "code",
   "execution_count": 37,
   "metadata": {},
   "outputs": [
    {
     "name": "stdout",
     "output_type": "stream",
     "text": [
      "\"\n",
      "274\n",
      "----------\n",
      "\"!\"].\n",
      "32915\n",
      "----------\n",
      "\"\"\n",
      "5641\n",
      "----------\n",
      "\"\",\n",
      "2170\n",
      "----------\n",
      "\"#mixbuffet\".\n",
      "46242\n",
      "----------\n",
      "\"$variable1\"\n",
      "39995\n",
      "----------\n",
      "\"%\"\n",
      "46711\n",
      "----------\n",
      "\"-\"\n",
      "11641\n",
      "----------\n",
      "\"-\".\n",
      "45899\n",
      "----------\n",
      "\"-ing\"\n",
      "35506\n",
      "----------\n"
     ]
    }
   ],
   "source": [
    "for i in range(10):\n",
    "    print(tokens[i])\n",
    "    print(token_ids[i])\n",
    "    print('--' * 5)"
   ]
  },
  {
   "cell_type": "markdown",
   "metadata": {},
   "source": [
    "#### Key Vals."
   ]
  },
  {
   "cell_type": "code",
   "execution_count": 40,
   "metadata": {},
   "outputs": [
    {
     "name": "stdout",
     "output_type": "stream",
     "text": [
      "48320 48320\n"
     ]
    }
   ],
   "source": [
    "print(len(tokens), len(token_ids))"
   ]
  },
  {
   "cell_type": "code",
   "execution_count": 44,
   "metadata": {},
   "outputs": [
    {
     "data": {
      "text/plain": [
       "{'\"kijani\"': 36247}"
      ]
     },
     "execution_count": 44,
     "metadata": {},
     "output_type": "execute_result"
    }
   ],
   "source": [
    "json_file = {}\n",
    "json_file.update({tokens[1000]: token_ids[1000]})\n",
    "\n",
    "json_file"
   ]
  },
  {
   "cell_type": "code",
   "execution_count": 43,
   "metadata": {},
   "outputs": [
    {
     "name": "stdout",
     "output_type": "stream",
     "text": [
      "Empty DataFrame\n",
      "Columns: [text, clean_text, tokens]\n",
      "Index: []\n"
     ]
    }
   ],
   "source": [
    "word_to_search = 'algoeithm'\n",
    "\n",
    "# Create a boolean mask based on whether the word is present in each row of the 'text' column\n",
    "mask = df['text'].str.contains(word_to_search, case=False)\n",
    "\n",
    "# Apply the mask to filter the DataFrame\n",
    "result_df = df[mask]\n",
    "\n",
    "# Display the result \n",
    "print(result_df)"
   ]
  },
  {
   "cell_type": "code",
   "execution_count": 41,
   "metadata": {},
   "outputs": [
    {
     "ename": "IndexError",
     "evalue": "only integers, slices (`:`), ellipsis (`...`), numpy.newaxis (`None`) and integer or boolean arrays are valid indices",
     "output_type": "error",
     "traceback": [
      "\u001b[1;31m---------------------------------------------------------------------------\u001b[0m",
      "\u001b[1;31mIndexError\u001b[0m                                Traceback (most recent call last)",
      "Cell \u001b[1;32mIn[41], line 4\u001b[0m\n\u001b[0;32m      1\u001b[0m json_file \u001b[38;5;241m=\u001b[39m {}\n\u001b[0;32m      3\u001b[0m \u001b[38;5;28;01mfor\u001b[39;00m i \u001b[38;5;129;01min\u001b[39;00m \u001b[38;5;28mzip\u001b[39m(tokens, token_ids):\n\u001b[1;32m----> 4\u001b[0m     json_file\u001b[38;5;241m.\u001b[39mupdate({\u001b[43mtokens\u001b[49m\u001b[43m[\u001b[49m\u001b[43mi\u001b[49m\u001b[43m]\u001b[49m: token_ids[i]})\n",
      "\u001b[1;31mIndexError\u001b[0m: only integers, slices (`:`), ellipsis (`...`), numpy.newaxis (`None`) and integer or boolean arrays are valid indices"
     ]
    }
   ],
   "source": [
    "for i in zip(tokens, token_ids):\n",
    "    json_file.update({token_ids[i] : tokens[i]})"
   ]
  }
 ],
 "metadata": {
  "kernelspec": {
   "display_name": "nlp",
   "language": "python",
   "name": "python3"
  },
  "language_info": {
   "codemirror_mode": {
    "name": "ipython",
    "version": 3
   },
   "file_extension": ".py",
   "mimetype": "text/x-python",
   "name": "python",
   "nbconvert_exporter": "python",
   "pygments_lexer": "ipython3",
   "version": "3.9.18"
  }
 },
 "nbformat": 4,
 "nbformat_minor": 2
}
