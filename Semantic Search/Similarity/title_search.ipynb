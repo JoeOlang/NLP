{
 "cells": [
  {
   "cell_type": "code",
   "execution_count": 1,
   "metadata": {},
   "outputs": [],
   "source": [
    "path = '/Users/olang/Desktop/*/Projects/NLP/Semantic Search/sampledata/titles.csv'"
   ]
  },
  {
   "cell_type": "code",
   "execution_count": 8,
   "metadata": {},
   "outputs": [],
   "source": [
    "import torch\n",
    "import torch.nn.functional as F"
   ]
  },
  {
   "cell_type": "code",
   "execution_count": 2,
   "metadata": {},
   "outputs": [
    {
     "data": {
      "text/html": [
       "<div>\n",
       "<style scoped>\n",
       "    .dataframe tbody tr th:only-of-type {\n",
       "        vertical-align: middle;\n",
       "    }\n",
       "\n",
       "    .dataframe tbody tr th {\n",
       "        vertical-align: top;\n",
       "    }\n",
       "\n",
       "    .dataframe thead th {\n",
       "        text-align: right;\n",
       "    }\n",
       "</style>\n",
       "<table border=\"1\" class=\"dataframe\">\n",
       "  <thead>\n",
       "    <tr style=\"text-align: right;\">\n",
       "      <th></th>\n",
       "      <th>Title</th>\n",
       "    </tr>\n",
       "  </thead>\n",
       "  <tbody>\n",
       "    <tr>\n",
       "      <th>0</th>\n",
       "      <td>Security Guard Deployment System Using Vehicul...</td>\n",
       "    </tr>\n",
       "    <tr>\n",
       "      <th>1</th>\n",
       "      <td>A Breast Cancer Detection System using Machine...</td>\n",
       "    </tr>\n",
       "    <tr>\n",
       "      <th>2</th>\n",
       "      <td>Autism Spectrum Disorder prediction in childre...</td>\n",
       "    </tr>\n",
       "    <tr>\n",
       "      <th>3</th>\n",
       "      <td>Energy consumption prediction and scheduling ...</td>\n",
       "    </tr>\n",
       "    <tr>\n",
       "      <th>4</th>\n",
       "      <td>An Intelligent Chatbot for Finance and Banking</td>\n",
       "    </tr>\n",
       "  </tbody>\n",
       "</table>\n",
       "</div>"
      ],
      "text/plain": [
       "                                               Title\n",
       "0  Security Guard Deployment System Using Vehicul...\n",
       "1  A Breast Cancer Detection System using Machine...\n",
       "2  Autism Spectrum Disorder prediction in childre...\n",
       "3   Energy consumption prediction and scheduling ...\n",
       "4     An Intelligent Chatbot for Finance and Banking"
      ]
     },
     "execution_count": 2,
     "metadata": {},
     "output_type": "execute_result"
    }
   ],
   "source": [
    "import pandas as pd\n",
    "\n",
    "df = pd.read_csv(path)\n",
    "df.head()"
   ]
  },
  {
   "cell_type": "code",
   "execution_count": 3,
   "metadata": {},
   "outputs": [
    {
     "name": "stdout",
     "output_type": "stream",
     "text": [
      "Security Guard Deployment System Using Vehicular Movement Behaviour: Case of Residential Real Estates\n",
      " A Breast Cancer Detection System using Machine learning \n"
     ]
    }
   ],
   "source": [
    "# sample sentences\n",
    "\n",
    "x = df.Title.iloc[0]\n",
    "y = df.Title.iloc[1]\n",
    "\n",
    "print(x, y)"
   ]
  },
  {
   "cell_type": "code",
   "execution_count": 6,
   "metadata": {},
   "outputs": [
    {
     "data": {
      "application/json": {
       "ascii": false,
       "bar_format": null,
       "colour": null,
       "elapsed": 0.03197216987609863,
       "initial": 0,
       "n": 0,
       "ncols": null,
       "nrows": null,
       "postfix": null,
       "prefix": "Downloading",
       "rate": null,
       "total": 350,
       "unit": "B",
       "unit_divisor": 1000,
       "unit_scale": true
      },
      "application/vnd.jupyter.widget-view+json": {
       "model_id": "0d9eadf7f1bf4a4b8a73ec2f04b5a3b7",
       "version_major": 2,
       "version_minor": 0
      },
      "text/plain": [
       "Downloading:   0%|          | 0.00/350 [00:00<?, ?B/s]"
      ]
     },
     "metadata": {},
     "output_type": "display_data"
    },
    {
     "data": {
      "application/json": {
       "ascii": false,
       "bar_format": null,
       "colour": null,
       "elapsed": 0.02690720558166504,
       "initial": 0,
       "n": 0,
       "ncols": null,
       "nrows": null,
       "postfix": null,
       "prefix": "Downloading",
       "rate": null,
       "total": 231508,
       "unit": "B",
       "unit_divisor": 1000,
       "unit_scale": true
      },
      "application/vnd.jupyter.widget-view+json": {
       "model_id": "a86df5c9fcdd4a509a7ac0cb362670f6",
       "version_major": 2,
       "version_minor": 0
      },
      "text/plain": [
       "Downloading:   0%|          | 0.00/232k [00:00<?, ?B/s]"
      ]
     },
     "metadata": {},
     "output_type": "display_data"
    },
    {
     "data": {
      "application/json": {
       "ascii": false,
       "bar_format": null,
       "colour": null,
       "elapsed": 0.020267963409423828,
       "initial": 0,
       "n": 0,
       "ncols": null,
       "nrows": null,
       "postfix": null,
       "prefix": "Downloading",
       "rate": null,
       "total": 466247,
       "unit": "B",
       "unit_divisor": 1000,
       "unit_scale": true
      },
      "application/vnd.jupyter.widget-view+json": {
       "model_id": "22edc96e292944168b61b05fc66056f8",
       "version_major": 2,
       "version_minor": 0
      },
      "text/plain": [
       "Downloading:   0%|          | 0.00/466k [00:00<?, ?B/s]"
      ]
     },
     "metadata": {},
     "output_type": "display_data"
    },
    {
     "data": {
      "application/json": {
       "ascii": false,
       "bar_format": null,
       "colour": null,
       "elapsed": 0.0200347900390625,
       "initial": 0,
       "n": 0,
       "ncols": null,
       "nrows": null,
       "postfix": null,
       "prefix": "Downloading",
       "rate": null,
       "total": 112,
       "unit": "B",
       "unit_divisor": 1000,
       "unit_scale": true
      },
      "application/vnd.jupyter.widget-view+json": {
       "model_id": "fb269d737aa34be7be3848261c65969f",
       "version_major": 2,
       "version_minor": 0
      },
      "text/plain": [
       "Downloading:   0%|          | 0.00/112 [00:00<?, ?B/s]"
      ]
     },
     "metadata": {},
     "output_type": "display_data"
    }
   ],
   "source": [
    "# create embeding for each sentence, using transformer\n",
    "from transformers import AutoTokenizer\n",
    "from sentence_transformers import SentenceTransformer\n",
    "\n",
    "model = SentenceTransformer('sentence-transformers/all-MiniLM-L6-v2')\n",
    "tokenizer = AutoTokenizer.from_pretrained('sentence-transformers/all-MiniLM-L6-v2')"
   ]
  },
  {
   "cell_type": "code",
   "execution_count": 7,
   "metadata": {},
   "outputs": [],
   "source": [
    "sentences = [x, y]\n",
    "\n",
    "# Tokenize sentences\n",
    "sample_input = tokenizer(sentences, padding=True, truncation=True, return_tensors=\"pt\")"
   ]
  },
  {
   "cell_type": "code",
   "execution_count": null,
   "metadata": {},
   "outputs": [],
   "source": [
    "# get token embeddings\n"
   ]
  },
  {
   "cell_type": "code",
   "execution_count": null,
   "metadata": {},
   "outputs": [],
   "source": [
    "\n",
    "sample_embeddings = model.encode(sentences)\n",
    "print(sample_embeddings.shape)"
   ]
  },
  {
   "cell_type": "code",
   "execution_count": 8,
   "metadata": {},
   "outputs": [
    {
     "name": "stdout",
     "output_type": "stream",
     "text": [
      "(2, 384)\n",
      "[[1.0000005  0.04537427]\n",
      " [0.04537427 1.        ]]\n"
     ]
    }
   ],
   "source": [
    "\n",
    "\n",
    "# calculate cosine similarity\n",
    "from sklearn.metrics.pairwise import cosine_similarity\n",
    "sample_cs = cosine_similarity(sample_embeddings)\n",
    "\n",
    "# print cosine similarity\n",
    "print(sample_cs)"
   ]
  },
  {
   "cell_type": "code",
   "execution_count": null,
   "metadata": {},
   "outputs": [],
   "source": []
  },
  {
   "cell_type": "markdown",
   "metadata": {},
   "source": [
    "----"
   ]
  },
  {
   "cell_type": "code",
   "execution_count": 25,
   "metadata": {},
   "outputs": [],
   "source": [
    "def return_embedding(sentence):\n",
    "    sentence_embedding = model.encode(str(sentence))\n",
    "    return sentence_embedding                           # this is a numpy array"
   ]
  },
  {
   "cell_type": "code",
   "execution_count": 27,
   "metadata": {},
   "outputs": [],
   "source": [
    "df['embeddings'] = df['Title'].apply(return_embedding)  # apply the function to the dataframe"
   ]
  },
  {
   "cell_type": "code",
   "execution_count": 29,
   "metadata": {},
   "outputs": [
    {
     "data": {
      "text/html": [
       "<div>\n",
       "<style scoped>\n",
       "    .dataframe tbody tr th:only-of-type {\n",
       "        vertical-align: middle;\n",
       "    }\n",
       "\n",
       "    .dataframe tbody tr th {\n",
       "        vertical-align: top;\n",
       "    }\n",
       "\n",
       "    .dataframe thead th {\n",
       "        text-align: right;\n",
       "    }\n",
       "</style>\n",
       "<table border=\"1\" class=\"dataframe\">\n",
       "  <thead>\n",
       "    <tr style=\"text-align: right;\">\n",
       "      <th></th>\n",
       "      <th>Title</th>\n",
       "      <th>embeddings</th>\n",
       "    </tr>\n",
       "  </thead>\n",
       "  <tbody>\n",
       "    <tr>\n",
       "      <th>0</th>\n",
       "      <td>Security Guard Deployment System Using Vehicul...</td>\n",
       "      <td>[0.083184645, -0.00844049, -0.016096413, -0.03...</td>\n",
       "    </tr>\n",
       "    <tr>\n",
       "      <th>1</th>\n",
       "      <td>A Breast Cancer Detection System using Machine...</td>\n",
       "      <td>[-0.0053733727, 0.0061232117, -0.002588743, -0...</td>\n",
       "    </tr>\n",
       "    <tr>\n",
       "      <th>2</th>\n",
       "      <td>Autism Spectrum Disorder prediction in childre...</td>\n",
       "      <td>[0.047742207, -0.08992602, 0.0025837722, 0.069...</td>\n",
       "    </tr>\n",
       "    <tr>\n",
       "      <th>3</th>\n",
       "      <td>Energy consumption prediction and scheduling ...</td>\n",
       "      <td>[-0.043960903, 0.028467182, 0.08768586, 0.1137...</td>\n",
       "    </tr>\n",
       "    <tr>\n",
       "      <th>4</th>\n",
       "      <td>An Intelligent Chatbot for Finance and Banking</td>\n",
       "      <td>[-0.044266317, 0.0009629222, -0.05879312, 0.01...</td>\n",
       "    </tr>\n",
       "    <tr>\n",
       "      <th>...</th>\n",
       "      <td>...</td>\n",
       "      <td>...</td>\n",
       "    </tr>\n",
       "    <tr>\n",
       "      <th>135</th>\n",
       "      <td>Self-Sovereign Digital Identity Wallet Using D...</td>\n",
       "      <td>[-0.026300823, 0.058475498, -0.04012966, -0.10...</td>\n",
       "    </tr>\n",
       "    <tr>\n",
       "      <th>136</th>\n",
       "      <td>MyCare+: A Progressive Web based Point-of-Care...</td>\n",
       "      <td>[-0.055856843, -0.036388803, 0.034541555, 0.00...</td>\n",
       "    </tr>\n",
       "    <tr>\n",
       "      <th>137</th>\n",
       "      <td>Automated online exam proctoring system using ...</td>\n",
       "      <td>[0.0032565582, 0.028286088, -0.0529267, -0.068...</td>\n",
       "    </tr>\n",
       "    <tr>\n",
       "      <th>138</th>\n",
       "      <td>Monolingual Sentiment Analysis on Pharmaceutic...</td>\n",
       "      <td>[0.001660354, -0.036035232, -0.0002879601, 0.0...</td>\n",
       "    </tr>\n",
       "    <tr>\n",
       "      <th>139</th>\n",
       "      <td>A Carpooling Application Based on Traveling Sa...</td>\n",
       "      <td>[-0.003915438, -0.010581627, -0.012875094, -0....</td>\n",
       "    </tr>\n",
       "  </tbody>\n",
       "</table>\n",
       "<p>140 rows × 2 columns</p>\n",
       "</div>"
      ],
      "text/plain": [
       "                                                 Title  \\\n",
       "0    Security Guard Deployment System Using Vehicul...   \n",
       "1    A Breast Cancer Detection System using Machine...   \n",
       "2    Autism Spectrum Disorder prediction in childre...   \n",
       "3     Energy consumption prediction and scheduling ...   \n",
       "4       An Intelligent Chatbot for Finance and Banking   \n",
       "..                                                 ...   \n",
       "135  Self-Sovereign Digital Identity Wallet Using D...   \n",
       "136  MyCare+: A Progressive Web based Point-of-Care...   \n",
       "137  Automated online exam proctoring system using ...   \n",
       "138  Monolingual Sentiment Analysis on Pharmaceutic...   \n",
       "139  A Carpooling Application Based on Traveling Sa...   \n",
       "\n",
       "                                            embeddings  \n",
       "0    [0.083184645, -0.00844049, -0.016096413, -0.03...  \n",
       "1    [-0.0053733727, 0.0061232117, -0.002588743, -0...  \n",
       "2    [0.047742207, -0.08992602, 0.0025837722, 0.069...  \n",
       "3    [-0.043960903, 0.028467182, 0.08768586, 0.1137...  \n",
       "4    [-0.044266317, 0.0009629222, -0.05879312, 0.01...  \n",
       "..                                                 ...  \n",
       "135  [-0.026300823, 0.058475498, -0.04012966, -0.10...  \n",
       "136  [-0.055856843, -0.036388803, 0.034541555, 0.00...  \n",
       "137  [0.0032565582, 0.028286088, -0.0529267, -0.068...  \n",
       "138  [0.001660354, -0.036035232, -0.0002879601, 0.0...  \n",
       "139  [-0.003915438, -0.010581627, -0.012875094, -0....  \n",
       "\n",
       "[140 rows x 2 columns]"
      ]
     },
     "execution_count": 29,
     "metadata": {},
     "output_type": "execute_result"
    }
   ],
   "source": [
    "df"
   ]
  },
  {
   "cell_type": "code",
   "execution_count": null,
   "metadata": {},
   "outputs": [],
   "source": [
    "# since the dimension of the embedding is 384, we can reduece it to 2D\n",
    "\n"
   ]
  },
  {
   "cell_type": "markdown",
   "metadata": {},
   "source": [
    "----"
   ]
  }
 ],
 "metadata": {
  "kernelspec": {
   "display_name": "Python 3.9.12 ('nlp')",
   "language": "python",
   "name": "python3"
  },
  "language_info": {
   "codemirror_mode": {
    "name": "ipython",
    "version": 3
   },
   "file_extension": ".py",
   "mimetype": "text/x-python",
   "name": "python",
   "nbconvert_exporter": "python",
   "pygments_lexer": "ipython3",
   "version": "3.9.12"
  },
  "orig_nbformat": 4,
  "vscode": {
   "interpreter": {
    "hash": "4524e0aa81b3ae16e25dcf9b33e91112c133dfc9ef43cc517d5da5b8fe0f3eee"
   }
  }
 },
 "nbformat": 4,
 "nbformat_minor": 2
}
