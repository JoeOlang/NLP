{
 "metadata": {
  "language_info": {
   "codemirror_mode": {
    "name": "ipython",
    "version": 3
   },
   "file_extension": ".py",
   "mimetype": "text/x-python",
   "name": "python",
   "nbconvert_exporter": "python",
   "pygments_lexer": "ipython3",
   "version": "3.7.4"
  },
  "orig_nbformat": 2,
  "kernelspec": {
   "name": "python3",
   "display_name": "Python 3.7.4 64-bit"
  },
  "metadata": {
   "interpreter": {
    "hash": "2647ea34e536f865ab67ff9ddee7fd78773d956cec0cab53c79b32cd10da5d83"
   }
  },
  "interpreter": {
   "hash": "aee8b7b246df8f9039afb4144a1f6fd8d2ca17a180786b69acc140d282b71a49"
  }
 },
 "nbformat": 4,
 "nbformat_minor": 2,
 "cells": [
  {
   "cell_type": "code",
   "execution_count": 1,
   "source": [
    "# import packages\n",
    "\n",
    "import lyricsgenius\n",
    "import pandas as pd\n",
    "import requests\n",
    "\n",
    "from textblob import TextBlob \n",
    "import nltk\n",
    "from nltk.corpus import stopwords\n",
    "nltk.download('stopwords')\n",
    "stopwords = set(stopwords.words('english'))\n",
    "\n",
    "import spacy\n",
    "from spacy.lang.en import English\n",
    "nlp = English()\n",
    "nlp.max_length = 10000000\n",
    "\n",
    "from gensim.summarization import keywords"
   ],
   "outputs": [
    {
     "output_type": "stream",
     "name": "stderr",
     "text": [
      "[nltk_data] Downloading package stopwords to /Users/0x23/nltk_data...\n",
      "[nltk_data]   Package stopwords is already up-to-date!\n"
     ]
    }
   ],
   "metadata": {}
  },
  {
   "cell_type": "code",
   "execution_count": 2,
   "source": [
    "# search_term = str(input('Enter artist name'))\n",
    "search_term = 'Dua Lipa'"
   ],
   "outputs": [],
   "metadata": {}
  },
  {
   "cell_type": "code",
   "execution_count": 3,
   "source": [
    "client_access_token = 'H1FwqolIMEafwAsR6iQ_zBZNrteSUUX5BBGAjNo5oq57TMwW13cg70vlpVj1QJJc'"
   ],
   "outputs": [],
   "metadata": {}
  },
  {
   "cell_type": "code",
   "execution_count": 4,
   "source": [
    "genius_search_url = f\"http://api.genius.com/search?q={search_term}&access_token={client_access_token}\"\n",
    "response = requests.get(genius_search_url)\n",
    "json_data = response.json()"
   ],
   "outputs": [],
   "metadata": {}
  },
  {
   "cell_type": "code",
   "execution_count": 14,
   "source": [
    "songs = []\n",
    "for song in json_data['response']['hits']:\n",
    "    songs.append([song['result']['title'], song['result']['primary_artist']['name']])\n",
    "    \n",
    "#Make a Pandas dataframe from a list\n",
    "song_df = pd.DataFrame(songs)\n",
    "song_df.columns = ['song','artist']\n",
    "song_df"
   ],
   "outputs": [
    {
     "output_type": "execute_result",
     "data": {
      "text/plain": [
       "                    song                    artist\n",
       "0              New Rules                  Dua Lipa\n",
       "1    Scared to Be Lonely  Martin Garrix & Dua Lipa\n",
       "2        Don’t Start Now                  Dua Lipa\n",
       "3                  IDGAF                  Dua Lipa\n",
       "4               One Kiss  Calvin Harris & Dua Lipa\n",
       "5  Blow Your Mind (Mwah)                  Dua Lipa\n",
       "6             Levitating                  Dua Lipa\n",
       "7         Break My Heart                  Dua Lipa\n",
       "8       Kiss and Make Up      Dua Lipa & BLACKPINK\n",
       "9             Be the One                  Dua Lipa"
      ],
      "text/html": [
       "<div>\n",
       "<style scoped>\n",
       "    .dataframe tbody tr th:only-of-type {\n",
       "        vertical-align: middle;\n",
       "    }\n",
       "\n",
       "    .dataframe tbody tr th {\n",
       "        vertical-align: top;\n",
       "    }\n",
       "\n",
       "    .dataframe thead th {\n",
       "        text-align: right;\n",
       "    }\n",
       "</style>\n",
       "<table border=\"1\" class=\"dataframe\">\n",
       "  <thead>\n",
       "    <tr style=\"text-align: right;\">\n",
       "      <th></th>\n",
       "      <th>song</th>\n",
       "      <th>artist</th>\n",
       "    </tr>\n",
       "  </thead>\n",
       "  <tbody>\n",
       "    <tr>\n",
       "      <th>0</th>\n",
       "      <td>New Rules</td>\n",
       "      <td>Dua Lipa</td>\n",
       "    </tr>\n",
       "    <tr>\n",
       "      <th>1</th>\n",
       "      <td>Scared to Be Lonely</td>\n",
       "      <td>Martin Garrix &amp; Dua Lipa</td>\n",
       "    </tr>\n",
       "    <tr>\n",
       "      <th>2</th>\n",
       "      <td>Don’t Start Now</td>\n",
       "      <td>Dua Lipa</td>\n",
       "    </tr>\n",
       "    <tr>\n",
       "      <th>3</th>\n",
       "      <td>IDGAF</td>\n",
       "      <td>Dua Lipa</td>\n",
       "    </tr>\n",
       "    <tr>\n",
       "      <th>4</th>\n",
       "      <td>One Kiss</td>\n",
       "      <td>Calvin Harris &amp; Dua Lipa</td>\n",
       "    </tr>\n",
       "    <tr>\n",
       "      <th>5</th>\n",
       "      <td>Blow Your Mind (Mwah)</td>\n",
       "      <td>Dua Lipa</td>\n",
       "    </tr>\n",
       "    <tr>\n",
       "      <th>6</th>\n",
       "      <td>Levitating</td>\n",
       "      <td>Dua Lipa</td>\n",
       "    </tr>\n",
       "    <tr>\n",
       "      <th>7</th>\n",
       "      <td>Break My Heart</td>\n",
       "      <td>Dua Lipa</td>\n",
       "    </tr>\n",
       "    <tr>\n",
       "      <th>8</th>\n",
       "      <td>Kiss and Make Up</td>\n",
       "      <td>Dua Lipa &amp; BLACKPINK</td>\n",
       "    </tr>\n",
       "    <tr>\n",
       "      <th>9</th>\n",
       "      <td>Be the One</td>\n",
       "      <td>Dua Lipa</td>\n",
       "    </tr>\n",
       "  </tbody>\n",
       "</table>\n",
       "</div>"
      ]
     },
     "metadata": {},
     "execution_count": 14
    }
   ],
   "metadata": {}
  },
  {
   "cell_type": "code",
   "execution_count": 20,
   "source": [
    "# Function to return lyrics of each song using Genius API\n",
    "def get_lyrics(title, artist):\n",
    "    try:\n",
    "        return genius.search_song(title, artist).lyrics\n",
    "    except:\n",
    "        return 'not found'\n",
    "\n",
    "# Function to return sentiment score of each song\n",
    "def get_lyric_sentiment(lyrics):\n",
    "\tanalysis = TextBlob(lyrics) \n",
    "\treturn analysis.sentiment.polarity\n",
    "\n",
    "\n",
    "def get_lyric_subjectivity(lyrics):\n",
    "\tanalysis = TextBlob(lyrics) \n",
    "\treturn analysis.sentiment.subjectivity\n",
    "\n",
    "\n",
    "def get_lyric_magn(sentiment):\n",
    "\tvalue = \n",
    "\treturn \n",
    "\n",
    "# Function to preprocess text\n",
    "def preprocess(text):\n",
    "    # Create Doc object\n",
    "    doc = nlp(text, disable=['ner', 'parser'])\n",
    "    # Generate lemmas\n",
    "    lemmas = [token.lemma_ for token in doc]\n",
    "    # Remove stopwords and non-alphabetic characters\n",
    "    a_lemmas = [lemma for lemma in lemmas \n",
    "            if lemma.isalpha() and lemma not in stopwords]\n",
    "    return ' '.join(a_lemmas)\n",
    "\n",
    "\n",
    "# Extract Keywords from text\n",
    "def return_keywords(texts):\n",
    "    xkeywords = []\n",
    "    values = keywords(text=preprocess(texts),split='\\n',scores=True)\n",
    "    for x in values[:10]:\n",
    "        xkeywords.append(x[0])\n",
    "    try:\n",
    "        return xkeywords \n",
    "    except:\n",
    "        return \"no content\""
   ],
   "outputs": [],
   "metadata": {}
  },
  {
   "cell_type": "code",
   "execution_count": 24,
   "source": [
    "print(get_lyric_subjectivity('very good'))"
   ],
   "outputs": [
    {
     "output_type": "stream",
     "name": "stdout",
     "text": [
      "0.7800000000000001\n"
     ]
    }
   ],
   "metadata": {}
  },
  {
   "cell_type": "code",
   "execution_count": 15,
   "source": [
    "song_df"
   ],
   "outputs": [
    {
     "output_type": "execute_result",
     "data": {
      "text/plain": [
       "                    song                    artist\n",
       "0              New Rules                  Dua Lipa\n",
       "1    Scared to Be Lonely  Martin Garrix & Dua Lipa\n",
       "2        Don’t Start Now                  Dua Lipa\n",
       "3                  IDGAF                  Dua Lipa\n",
       "4               One Kiss  Calvin Harris & Dua Lipa\n",
       "5  Blow Your Mind (Mwah)                  Dua Lipa\n",
       "6             Levitating                  Dua Lipa\n",
       "7         Break My Heart                  Dua Lipa\n",
       "8       Kiss and Make Up      Dua Lipa & BLACKPINK\n",
       "9             Be the One                  Dua Lipa"
      ],
      "text/html": [
       "<div>\n",
       "<style scoped>\n",
       "    .dataframe tbody tr th:only-of-type {\n",
       "        vertical-align: middle;\n",
       "    }\n",
       "\n",
       "    .dataframe tbody tr th {\n",
       "        vertical-align: top;\n",
       "    }\n",
       "\n",
       "    .dataframe thead th {\n",
       "        text-align: right;\n",
       "    }\n",
       "</style>\n",
       "<table border=\"1\" class=\"dataframe\">\n",
       "  <thead>\n",
       "    <tr style=\"text-align: right;\">\n",
       "      <th></th>\n",
       "      <th>song</th>\n",
       "      <th>artist</th>\n",
       "    </tr>\n",
       "  </thead>\n",
       "  <tbody>\n",
       "    <tr>\n",
       "      <th>0</th>\n",
       "      <td>New Rules</td>\n",
       "      <td>Dua Lipa</td>\n",
       "    </tr>\n",
       "    <tr>\n",
       "      <th>1</th>\n",
       "      <td>Scared to Be Lonely</td>\n",
       "      <td>Martin Garrix &amp; Dua Lipa</td>\n",
       "    </tr>\n",
       "    <tr>\n",
       "      <th>2</th>\n",
       "      <td>Don’t Start Now</td>\n",
       "      <td>Dua Lipa</td>\n",
       "    </tr>\n",
       "    <tr>\n",
       "      <th>3</th>\n",
       "      <td>IDGAF</td>\n",
       "      <td>Dua Lipa</td>\n",
       "    </tr>\n",
       "    <tr>\n",
       "      <th>4</th>\n",
       "      <td>One Kiss</td>\n",
       "      <td>Calvin Harris &amp; Dua Lipa</td>\n",
       "    </tr>\n",
       "    <tr>\n",
       "      <th>5</th>\n",
       "      <td>Blow Your Mind (Mwah)</td>\n",
       "      <td>Dua Lipa</td>\n",
       "    </tr>\n",
       "    <tr>\n",
       "      <th>6</th>\n",
       "      <td>Levitating</td>\n",
       "      <td>Dua Lipa</td>\n",
       "    </tr>\n",
       "    <tr>\n",
       "      <th>7</th>\n",
       "      <td>Break My Heart</td>\n",
       "      <td>Dua Lipa</td>\n",
       "    </tr>\n",
       "    <tr>\n",
       "      <th>8</th>\n",
       "      <td>Kiss and Make Up</td>\n",
       "      <td>Dua Lipa &amp; BLACKPINK</td>\n",
       "    </tr>\n",
       "    <tr>\n",
       "      <th>9</th>\n",
       "      <td>Be the One</td>\n",
       "      <td>Dua Lipa</td>\n",
       "    </tr>\n",
       "  </tbody>\n",
       "</table>\n",
       "</div>"
      ]
     },
     "metadata": {},
     "execution_count": 15
    }
   ],
   "metadata": {}
  },
  {
   "cell_type": "code",
   "execution_count": 16,
   "source": [
    "genius = lyricsgenius.Genius(client_access_token)"
   ],
   "outputs": [],
   "metadata": {}
  },
  {
   "cell_type": "code",
   "execution_count": 17,
   "source": [
    "# Use get_lyrics funcion to get lyrics for every song in dataset\n",
    "lyrics = song_df.apply(lambda row: get_lyrics(row['song'], row['artist']), axis =1)\n",
    "song_df['Lyrics'] = lyrics\n",
    "song_df = song_df.drop(song_df[song_df['Lyrics'] == 'not found'].index) #"
   ],
   "outputs": [
    {
     "output_type": "stream",
     "name": "stdout",
     "text": [
      "Searching for \"New Rules\" by Dua Lipa...\n",
      "Searching for \"Scared to Be Lonely\" by Martin Garrix & Dua Lipa...\n",
      "Done.\n",
      "Searching for \"Don’t Start Now\" by Dua Lipa...\n",
      "Done.\n",
      "Searching for \"IDGAF\" by Dua Lipa...\n",
      "Done.\n",
      "Searching for \"One Kiss\" by Calvin Harris & Dua Lipa...\n",
      "Done.\n",
      "Searching for \"Blow Your Mind (Mwah)\" by Dua Lipa...\n",
      "Searching for \"Levitating\" by Dua Lipa...\n",
      "Done.\n",
      "Searching for \"Break My Heart\" by Dua Lipa...\n",
      "Done.\n",
      "Searching for \"Kiss and Make Up\" by Dua Lipa & BLACKPINK...\n",
      "Done.\n",
      "Searching for \"Be the One\" by Dua Lipa...\n",
      "Done.\n"
     ]
    }
   ],
   "metadata": {}
  },
  {
   "cell_type": "code",
   "execution_count": 18,
   "source": [
    "# Use get_lyric_sentiment to get sentiment score for all the song lyrics\n",
    "sentiment = song_df.apply(lambda row: get_lyric_sentiment(row['Lyrics']), axis =1)\n",
    "song_df['Sentiment'] = sentiment"
   ],
   "outputs": [],
   "metadata": {}
  },
  {
   "cell_type": "code",
   "execution_count": 51,
   "source": [
    "subjectivity = song_df.apply(lambda row: get_lyric_subjectivity(row['Lyrics']), axis =1)\n",
    "song_df['Subjectivity'] = subjectivity"
   ],
   "outputs": [],
   "metadata": {}
  },
  {
   "cell_type": "code",
   "execution_count": 114,
   "source": [
    "song_df"
   ],
   "outputs": [
    {
     "output_type": "execute_result",
     "data": {
      "text/plain": [
       "                  song                    artist  \\\n",
       "1  Scared to Be Lonely  Martin Garrix & Dua Lipa   \n",
       "2      Don’t Start Now                  Dua Lipa   \n",
       "3                IDGAF                  Dua Lipa   \n",
       "4             One Kiss  Calvin Harris & Dua Lipa   \n",
       "6           Levitating                  Dua Lipa   \n",
       "7       Break My Heart                  Dua Lipa   \n",
       "8     Kiss and Make Up      Dua Lipa & BLACKPINK   \n",
       "9           Be the One                  Dua Lipa   \n",
       "\n",
       "                                              Lyrics  Sentiment  Subjectivity  \n",
       "1  [Verse 1]\\nIt was great at the very start\\nHan...   0.062500      0.640833  \n",
       "2  [Intro]\\nIf you don't wanna see me\\n\\n[Verse 1...   0.047727      0.502273  \n",
       "3  [Verse 1]\\nYou call me all friendly\\nTellin' m...  -0.030645      0.556452  \n",
       "4  [Intro]\\nOne kiss is all it takes\\nFallin' in ...   0.466667      0.625000  \n",
       "6  [Verse 1]\\nIf you wanna run away with me, I kn...   0.639423      0.838462  \n",
       "7  [Verse 1]\\nI've always been the one to say the...   0.271739      0.587923  \n",
       "8  [Verse 1: Dua Lipa]\\nWe haven't talked all mor...  -0.173913      0.632971  \n",
       "9  [Verse 1]\\nI see the moon, I see the moon, I s...  -0.218519      0.412963  "
      ],
      "text/html": [
       "<div>\n",
       "<style scoped>\n",
       "    .dataframe tbody tr th:only-of-type {\n",
       "        vertical-align: middle;\n",
       "    }\n",
       "\n",
       "    .dataframe tbody tr th {\n",
       "        vertical-align: top;\n",
       "    }\n",
       "\n",
       "    .dataframe thead th {\n",
       "        text-align: right;\n",
       "    }\n",
       "</style>\n",
       "<table border=\"1\" class=\"dataframe\">\n",
       "  <thead>\n",
       "    <tr style=\"text-align: right;\">\n",
       "      <th></th>\n",
       "      <th>song</th>\n",
       "      <th>artist</th>\n",
       "      <th>Lyrics</th>\n",
       "      <th>Sentiment</th>\n",
       "      <th>Subjectivity</th>\n",
       "    </tr>\n",
       "  </thead>\n",
       "  <tbody>\n",
       "    <tr>\n",
       "      <th>1</th>\n",
       "      <td>Scared to Be Lonely</td>\n",
       "      <td>Martin Garrix &amp; Dua Lipa</td>\n",
       "      <td>[Verse 1]\\nIt was great at the very start\\nHan...</td>\n",
       "      <td>0.062500</td>\n",
       "      <td>0.640833</td>\n",
       "    </tr>\n",
       "    <tr>\n",
       "      <th>2</th>\n",
       "      <td>Don’t Start Now</td>\n",
       "      <td>Dua Lipa</td>\n",
       "      <td>[Intro]\\nIf you don't wanna see me\\n\\n[Verse 1...</td>\n",
       "      <td>0.047727</td>\n",
       "      <td>0.502273</td>\n",
       "    </tr>\n",
       "    <tr>\n",
       "      <th>3</th>\n",
       "      <td>IDGAF</td>\n",
       "      <td>Dua Lipa</td>\n",
       "      <td>[Verse 1]\\nYou call me all friendly\\nTellin' m...</td>\n",
       "      <td>-0.030645</td>\n",
       "      <td>0.556452</td>\n",
       "    </tr>\n",
       "    <tr>\n",
       "      <th>4</th>\n",
       "      <td>One Kiss</td>\n",
       "      <td>Calvin Harris &amp; Dua Lipa</td>\n",
       "      <td>[Intro]\\nOne kiss is all it takes\\nFallin' in ...</td>\n",
       "      <td>0.466667</td>\n",
       "      <td>0.625000</td>\n",
       "    </tr>\n",
       "    <tr>\n",
       "      <th>6</th>\n",
       "      <td>Levitating</td>\n",
       "      <td>Dua Lipa</td>\n",
       "      <td>[Verse 1]\\nIf you wanna run away with me, I kn...</td>\n",
       "      <td>0.639423</td>\n",
       "      <td>0.838462</td>\n",
       "    </tr>\n",
       "    <tr>\n",
       "      <th>7</th>\n",
       "      <td>Break My Heart</td>\n",
       "      <td>Dua Lipa</td>\n",
       "      <td>[Verse 1]\\nI've always been the one to say the...</td>\n",
       "      <td>0.271739</td>\n",
       "      <td>0.587923</td>\n",
       "    </tr>\n",
       "    <tr>\n",
       "      <th>8</th>\n",
       "      <td>Kiss and Make Up</td>\n",
       "      <td>Dua Lipa &amp; BLACKPINK</td>\n",
       "      <td>[Verse 1: Dua Lipa]\\nWe haven't talked all mor...</td>\n",
       "      <td>-0.173913</td>\n",
       "      <td>0.632971</td>\n",
       "    </tr>\n",
       "    <tr>\n",
       "      <th>9</th>\n",
       "      <td>Be the One</td>\n",
       "      <td>Dua Lipa</td>\n",
       "      <td>[Verse 1]\\nI see the moon, I see the moon, I s...</td>\n",
       "      <td>-0.218519</td>\n",
       "      <td>0.412963</td>\n",
       "    </tr>\n",
       "  </tbody>\n",
       "</table>\n",
       "</div>"
      ]
     },
     "metadata": {},
     "execution_count": 114
    }
   ],
   "metadata": {}
  },
  {
   "cell_type": "code",
   "execution_count": 115,
   "source": [
    "import numpy as np\n",
    "import matplotlib.pyplot as plt\n",
    "plt.close(\"all\")\n",
    "\n",
    "x = np.array(song_df['Sentiment'].tolist())\n",
    "y = np.array(song_df['Subjectivity'].tolist())\n"
   ],
   "outputs": [],
   "metadata": {}
  },
  {
   "cell_type": "code",
   "execution_count": 121,
   "source": [
    "x = np.sort(x)"
   ],
   "outputs": [],
   "metadata": {}
  },
  {
   "cell_type": "code",
   "execution_count": 122,
   "source": [
    "plt.scatter(x, y);\n"
   ],
   "outputs": [
    {
     "output_type": "display_data",
     "data": {
      "text/plain": [
       "<Figure size 432x288 with 1 Axes>"
      ],
      "image/png": "[encoded data removed]"
     },
     "metadata": {
      "needs_background": "light"
     }
    }
   ],
   "metadata": {}
  },
  {
   "cell_type": "code",
   "execution_count": 123,
   "source": [
    "plt.plot(x,y)"
   ],
   "outputs": [
    {
     "output_type": "execute_result",
     "data": {
      "text/plain": [
       "[<matplotlib.lines.Line2D at 0x7fe72e7b6650>]"
      ]
     },
     "metadata": {},
     "execution_count": 123
    },
    {
     "output_type": "display_data",
     "data": {
      "text/plain": [
       "<Figure size 432x288 with 1 Axes>"
      ],
      "image/png": "[encoded data removed]"
     },
     "metadata": {
      "needs_background": "light"
     }
    }
   ],
   "metadata": {}
  },
  {
   "cell_type": "code",
   "execution_count": 124,
   "source": [
    "from scipy.interpolate import make_interp_spline, BSpline\n",
    "\n",
    "xnew = np.linspace(x.min(), x.max(), 200) "
   ],
   "outputs": [],
   "metadata": {}
  },
  {
   "cell_type": "code",
   "execution_count": 125,
   "source": [
    "#define spline\n",
    "spl = make_interp_spline(x, y, k=3)\n",
    "y_smooth = spl(xnew)"
   ],
   "outputs": [],
   "metadata": {}
  },
  {
   "cell_type": "code",
   "execution_count": null,
   "source": [
    "#create smooth line chart \n",
    "plt.plot(xnew, y_smooth)\n",
    "plt.show()"
   ],
   "outputs": [],
   "metadata": {}
  },
  {
   "cell_type": "markdown",
   "source": [
    "----------"
   ],
   "metadata": {}
  }
 ]
}