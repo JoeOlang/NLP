{
 "metadata": {
  "language_info": {
   "codemirror_mode": {
    "name": "ipython",
    "version": 3
   },
   "file_extension": ".py",
   "mimetype": "text/x-python",
   "name": "python",
   "nbconvert_exporter": "python",
   "pygments_lexer": "ipython3",
   "version": "3.7.4"
  },
  "orig_nbformat": 4,
  "kernelspec": {
   "name": "python3",
   "display_name": "Python 3.7.4 64-bit"
  },
  "interpreter": {
   "hash": "aee8b7b246df8f9039afb4144a1f6fd8d2ca17a180786b69acc140d282b71a49"
  }
 },
 "nbformat": 4,
 "nbformat_minor": 2,
 "cells": [
  {
   "cell_type": "code",
   "execution_count": 1,
   "metadata": {},
   "outputs": [],
   "source": [
    "import scrap\n",
    "client_access_token = scrap.API_TOKEN"
   ]
  },
  {
   "cell_type": "code",
   "execution_count": 3,
   "metadata": {},
   "outputs": [],
   "source": [
    "import lyricsgenius\n",
    "LyricsGenius = lyricsgenius.Genius(client_access_token)"
   ]
  },
  {
   "cell_type": "code",
   "execution_count": 14,
   "metadata": {},
   "outputs": [],
   "source": [
    "artist_name = str(input('Enter artist name'))"
   ]
  },
  {
   "cell_type": "code",
   "execution_count": 16,
   "metadata": {},
   "outputs": [
    {
     "output_type": "stream",
     "name": "stdout",
     "text": [
      "Searching for songs by Dua Lipa...\n",
      "\n",
      "Song 1: \"New Rules\"\n",
      "Song 2: \"Don’t Start Now\"\n",
      "Song 3: \"IDGAF\"\n",
      "Song 4: \"Levitating\"\n",
      "Song 5: \"Blow Your Mind (Mwah)\"\n",
      "Song 6: \"Break My Heart\"\n",
      "\n",
      "Reached user-specified song limit (6).\n",
      "Done. Found 6 songs.\n"
     ]
    }
   ],
   "source": [
    "artist = LyricsGenius.search_artist(artist_name, max_songs=6)"
   ]
  },
  {
   "cell_type": "code",
   "execution_count": 17,
   "metadata": {},
   "outputs": [
    {
     "output_type": "stream",
     "name": "stdout",
     "text": [
      "[Intro]\nOne, one, one, one, one\n\n[Verse 1]\nTalkin' in my sleep at night, makin' myself crazy\n(Out of my mind, out of my mind)\nWrote it down and read it out, hopin' it would save me\n(Too many times, too many times)\n\n[Refrain]\nMy love, he makes me feel like nobody else, nobody else\nBut my love, he doesn't love me, so I tell myself, I tell myself\n\n[Pre-Chorus]\nOne: Don't pick up the phone\nYou know he's only callin' 'cause he's drunk and alone\nTwo: Don't let him in\nYou'll have to kick him out again\nThree: Don't be his friend\nYou know you're gonna wake up in his bed in the morning\nAnd if you're under him, you ain't gettin' over him\n\n[Chorus]\nI got new rules, I count 'em\nI got new rules, I count 'em\nI gotta tell them to myself\nI got new rules, I count 'em\nI gotta tell them to myself\n\n[Verse 2]\nI keep pushin' forwards, but he keeps pullin' me backwards\n(Nowhere to turn, no way)\n(Nowhere to turn, no)\nNow I'm standin' back from it, I finally see the pattern\n(I never learn, I never learn)\n\n[Refrain]\nBut my love, he doesn't love me, so I tell myself, I tell myself\nI do, I do, I do\n\n[Pre-Chorus]\nOne: Don't pick up the phone\nYou know he's only callin' 'cause he's drunk and alone\nTwo: Don't let him in\nYou'll have to kick him out again\nThree: Don't be his friend\nYou know you're gonna wake up in his bed in the morning\nAnd if you're under him, you ain't gettin' over him\n\n[Chorus]\nI got new rules, I count 'em\nI got new rules, I count 'em\nI gotta tell them to myself\nI got new rules, I count 'em\nI gotta tell them to myself\n\n[Bridge]\nPractice makes perfect\nI'm still tryna learn it by heart (I got new rules, I count 'em)\nEat, sleep, and breathe it\nRehearse and repeat it, 'cause I (I got new)\n\n[Pre-Chorus]\nOne: Don't pick up the phone (yeah)\nYou know he's only callin' 'cause he's drunk and alone (alone)\nTwo: Don't let him in (uh-ooh)\nYou'll have to kick him out again (again)\nThree: Don't be his friend\nYou know you're gonna wake up in his bed in the morning\nAnd if you're under him, you ain't gettin' over him\n\n[Chorus]\nI got new rules, I count 'em\nI got new rules, I count 'em\n(Whoa-ooh, whoa-ooh, whoa)\nI gotta tell them to myself\nI got new rules, I count 'em\n(Baby, you know I count 'em)\nI gotta tell them to myself\n\n[Outro]\nDon't let him in, don't let him in\nDon't, don't, don't, don't\nDon't be his friend, don't be his friend\nDon't, don't, don't, don't\nDon't let him in, don't let him in\nDon't, don't, don't, don't\nDon't be his friend, don't be his friend\nDon't, don't, don't, don't\nYou're gettin' over him\n[Intro]\nIf you don't wanna see me\n\n[Verse 1]\nDid a full one-eighty, crazy\nThinking 'bout the way I was\nDid the heartbreak change me? Maybe\nBut look at where I ended up\nI'm all good already\nSo moved on, it's scary\nI'm not where you left me at all, so\n\n[Pre-Chorus]\nIf you don't wanna see me dancing with somebody\nIf you wanna believe that anything could stop me\n\n[Chorus]\nDon't show up, don't come out\nDon't start caring about me now\nWalk away, you know how\nDon't start caring about me now\n\n[Verse 2]\nAren't you the guy who tried to\nHurt me with the word \"goodbye\"?\nThough it took some time to survive you\nI'm better on the other side\nI'm all good already\nSo moved on, it's scary\nI'm not where you left me at all, so\n\n[Pre-Chorus]\nIf you don't wanna see me dancing with somebody\nIf you wanna believe that anything could stop me\n(Don't, don't, don't)\n\n[Chorus]\nDon't show up, don't come out\nDon't start caring about me now\nWalk away, you know how\nDon't start caring about me now ('Bout me now, 'bout me)\n\n[Bridge]\nUp, up\nDon't come out, out, out\nDon't show up, up, up\nDon't start now (Oh)\nUp, up\nDon't come out, out\nI'm not where you left me at all, so\n\n[Pre-Chorus]\nIf you don't wanna see me dancing with somebody\nIf you wanna believe that anything could stop me\n\n[Chorus]\nDon't show up (Don't show up), don't come out (Don't come out)\nDon't start caring about me now ('Bout me now)\nWalk away (Walk away), you know how (You know how)\nDon't start caring about me now (So)\n\n[Outro]\nUp, up\nDon't come out, out, out\nDon't show up, up, up\nWalk away, walk away (So)\nUp, up\nDon't come out, out, out\nDon't show up, up, up\nWalk away, walk away, oh\n[Verse 1]\nYou call me all friendly\nTellin' me how much you miss me\nThat's funny, I guess you've heard my songs\nWell, I'm too busy for your business\nGo find a girl who wants to listen\n'Cause if you think I was born yesterday, you have got me wrong\n\n[Pre-Chorus]\nSo I cut you off\nI don't need your love\n'Cause I already cried enough\nI've been done\nI've been movin' on since we said goodbye\nI cut you off\nI don't need your love\nSo you can try all you want\nYour time is up, I'll tell you why\n\n[Chorus]\nYou say you're sorry, but it's too late now\nSo save it, get gone, shut up\n'Cause if you think I care about you now\nWell, boy, I don't give a fuck\n\n[Verse 2]\nI remember that weekend\nWhen my best friend caught you creepin'\nYou blamed it all on the alcohol\nSo, I made my decision\n'Cause you made your bed, sleep in it\nPlay the victim and switch your position\nI'm through, I'm done\n\n[Pre-Chorus]\nSo I cut you off\nI don't need your love\n'Cause I already cried enough\nI've been done\nI've been movin' on since we said goodbye\nI cut you off\nI don't need your love\nSo you can try all you want\nYour time is up, I'll tell you why\n\n[Chorus]\nYou say you're sorry, but it's too late now\nSo save it, get gone, shut up\n'Cause if you think I care about you now\nWell, boy, I don't give a fuck\n\n[Post-Chorus]\nI see you tryna get to me\nI see you beggin' on your knees\nBoy, I don't give a fuck\nSo stop tryna get to me\nTch, get up off your knees\n'Cause, boy, I don't give a fuck\n\n[Bridge]\nAbout you\nNo, I don't give a damn\nYou keep reminiscin' on when you were my man\nBut I'm over you\nNow you're all in the past\nYou talk all that sweet talk, but I ain't comin' back\n\n[Breakdown]\nCut you off\nI don't need your love\nSo you can try all you want\nYour time is up, I'll tell you why\nI'll tell you why\n\n[Chorus]\nYou say you're sorry, but it's too late now\nSo save it, get gone, shut up\n(Too late now)\n'Cause if you think I care about you now\nWell, boy, I don't give a fuck\n(Boy, I don't give a)\n\n[Post-Chorus]\nI see you tryna get to me\nI see you beggin' on your knees\nBoy, I don't give a fuck\nSo stop tryna get to me (get to me)\nTch, get up off your knees\n'Cause, boy, I don't give a fuck\n[Verse 1]\nIf you wanna run away with me, I know a galaxy\nAnd I can take you for a ride\nI had a premonition that we fell into a rhythm\nWhere the music don't stop for life\nGlitter in the sky, glitter in my eyes\nShining just the way I like\nIf you're feeling like you need a little bit of company\nYou met me at the perfect time\n\n[Pre-Chorus]\nYou want me, I want you, baby\nMy sugarboo, I'm levitating\nThe Milky Way, we're renegading\nYeah, yeah, yeah, yeah, yeah\n\n[Chorus]\nI got you, moonlight, you're my starlight\nI need you all night, come on, dance with me\nI'm levitating\nYou, moonlight, you're my starlight (You're the moonlight)\nI need you all night, come on, dance with me\nI'm levitating\n\n[Verse 2]\nI believe that you're for me, I feel it in our energy\nI see us written in the stars\nWe can go wherever, so let's do it now or never\nBaby, nothing's ever, ever too far\nGlitter in the sky, glitter in our eyes\nShining just the way we are\nI feel like we're forever every time we get together\nBut whatever, let's get lost on Mars\n\n[Pre-Chorus]\nYou want me, I want you, baby\nMy sugarboo, I'm levitating\nThe Milky Way, we're renegading\nYeah, yeah, yeah, yeah, yeah\n\n[Chorus]\nI got you, moonlight, you're my starlight\nI need you all night, come on, dance with me\nI'm levitating\nYou, moonlight, you're my starlight (You're the moonlight)\nI need you all night, come on, dance with me\nI'm levitating\n\n[Post-Chorus]\nYou can fly away with me tonight\nYou can fly away with me tonight\nBaby, let me take you for a ride\nYeah, yeah, yeah, yeah, yeah\nI'm levitating (Woo)\nYou can fly away with me tonight\nYou can fly away with me tonight\nBaby, let me take you for a ride\nYeah, yeah, yeah, yeah, yeah (Woo)\n\n[Bridge]\nMy love is like a rocket, watch it blast off\nAnd I'm feeling so electric, dance my ass off\nAnd even if I wanted to, I can't stop\nYeah, yeah, yeah, yeah, yeah\nMy love is like a rocket, watch it blast off\nAnd I'm feeling so electric, dance my ass off\nAnd even if I wanted to, I can't stop\nYeah, yeah, yeah, yeah, yeah\n\n[Pre-Chorus]\nYou want me, I want you, baby\nMy sugarboo, I'm levitating\nThe Milky Way, we're renegading\n\n[Chorus]\nI got you (Yeah), moonlight, you're my starlight\nI need you all night (All night), come on, dance with me\nI'm levitating (Woo)\n\n[Post-Chorus]\nYou can fly away with me tonight (Tonight)\nYou can fly away with me tonight\nBaby, let me take you for a ride\nYeah, yeah, yeah, yeah, yeah (Take you for a ride)\nI'm levitating (Woo)\nYou can fly away with me tonight (Tonight)\nYou can fly away with me tonight\nBaby, let me take you for a ride\nYeah, yeah, yeah, yeah, yeah (Let me take you for a ride)\n\n[Chorus]\nI got you, moonlight, you're my starlight (You are my starlight)\nI need you all night, come on, dance with me (Come on, dance with me)\nI'm levitating\nYou, moonlight, you're my starlight (You're the moonlight)\nI need you all night, come on, dance with me\nI'm levitating\n[Verse 1]\nI know it's hot\nI know we've got\nSomething that money can't buy\nFighting in fits\nBiting your lip\nLoving 'til late in the night\n\n[Pre-Chorus]\nTell me I'm too crazy\nYou can't tame me, can't tame me\nTell me I have changed\nBut I'm the same me, old same me\nInside\nHey!\n\n[Chorus]\nIf you don't like the way I talk, then why am I on your mind?\nIf you don't like the way I rock, then finish your glass of wine\nWe fight and we argue, you'll still love me blind\nIf we don't fuck this whole thing up\nGuaranteed, I can blow your mind\nMwah!\n\n[Post-Chorus]\nAnd tonight I'm alive, ain't no dollar sign\nGuaranteed, I can blow your mind, mwah\nAnd tonight I'm alive, ain't no dollar sign\nGuaranteed, I can blow your mind, mwah\n(Mwah, mwah, mwah, mwah)\n\n[Verse 2]\nYeah, I'm so bad\nBest that you've had\nI guess you're diggin' the show\nOpen the door\nYou want some more\nWhen you wanna leave, let me know\n\n[Pre-Chorus]\nTell me I'm too crazy\nYou can't tame me, can't tame me\nTell me I have changed\nBut I'm the same me, old same me\nInside\nHey!\n\n[Chorus]\nIf you don't like the way I talk, then why am I on your mind?\nIf you don't like the way I rock, then finish your glass of wine\nWe fight and we argue, you'll still love me blind\nIf we don't fuck this whole thing up\nGuaranteed, I can blow your mind\nMwah!\n\n[Post-Chorus]\nAnd tonight I'm alive, ain't no dollar sign\nGuaranteed, I can blow your mind, mwah\nAnd tonight I'm alive, ain't no dollar sign\nGuaranteed, I can blow your mind, mwah\n\n[Breakdown]\nAnd tonight I'm alive, ain't no dollar sign\nGuaranteed, I can blow your mind, mwah, hey!\nAnd tonight I'm alive, ain't no dollar sign\nGuaranteed I can blow your mind, hey!\n\n[Pre-Chorus]\nTell me I'm too crazy\nYou can't tame me, can't tame me\nTell me I have changed\nBut I'm the same me, old same me\nInside\nHey!\nMwah!\n\n[Chorus]\nIf you don't like the way I talk, then why am I on your mind?\nIf you don't like the way I rock, then finish your glass of wine\nWe fight and we argue, you'll still love me blind\nIf we don't fuck this whole thing up\nGuaranteed, I can blow your mind\nMwah!\n\n[Post-Chorus]\nAnd tonight I'm alive, ain't no dollar sign\nGuaranteed, I can blow your mind, mwah\nAnd tonight I'm alive, ain't no dollar sign\nGuaranteed, I can blow your mind, mwah\n[Verse 1]\nI've always been the one to say the first goodbye\nHad to love and lose a hundred million times\nHad to get it wrong to know just what I like\nNow I'm falling\nYou say my name like I have never heard before\nI'm indecisive, but, this time, I know for sure\nI hope I'm not the only one that feels it all\nAre you falling?\n\n[Pre-Chorus]\nCentre of attention\nYou know you can get whatever you want from me\nWhenever you want it, baby\nIt's you in my reflection\nI'm afraid of all the things it could do to me\nIf I would've known it, baby\n\n[Chorus]\nI would've stayed at home\n'Cause I was doing better alone\nBut when you said, \"Hello\"\nI knew that was the end of it all\nI should've stayed at home\n'Cause now there ain't no letting you go\nAm I falling in love with the one that could break my heart?\nOh no, I was doing better alone\nBut when you said, \"Hello\"\nI knew that was the end of it all\nI should've stayed at home\n'Cause now there ain't no letting you go\nAm I falling in love with the one that could break my heart?\n\n[Verse 2]\nI wonder, when you go, if I stay on your mind\nTwo can play that game, but you win me every time\nEveryone before you was a waste of time\nYeah, you got me\n\n[Pre-Chorus]\nCentre of attention\nYou know you can get whatever you want from me\nWhenever you want it, baby\nIt's you in my reflection\nI'm afraid of all the things it could do to me\nIf I would've known it, baby\n\n[Chorus]\nI would've stayed at home\n'Cause I was doing better alone\nBut when you said, \"Hello\"\nI knew that was the end of it all\nI should've stayed at home (I would've stayed at home 'cause I–)\n'Cause now there ain't no letting you go\nAm I falling in love with the one that could break my heart?\nOh no, I was doing better alone\nBut when you said, \"Hello\"\nI knew that was the end of it all\nI should've stayed at home\n'Cause now there ain't no letting you go\nAm I falling in love with the one that could break my heart?\n\n[Bridge]\nOoh, break my heart\nOoh, break my heart\nOoh\nAm I falling in love with the one that could break my heart?\n\n[Chorus]\nI would've stayed at home\n'Cause I was doing better alone\nBut when you said, \"Hello\"\nI knew that was the end of it all\nI should've stayed at home (I would've stayed at home 'cause I–)\n'Cause now there ain't no letting you go\nAm I falling in love with the one that could break my heart?\nOh no (Oh no), I was doing better alone\nBut when you said, \"Hello\"\nI knew that was the end of it all\nI should've stayed at home\n'Cause now there ain't no letting you go\nAm I falling in love with the one that could break my heart?\n"
     ]
    }
   ],
   "source": [
    "for song in artist.songs:\n",
    "    print(song.lyrics)"
   ]
  },
  {
   "cell_type": "code",
   "execution_count": 18,
   "metadata": {},
   "outputs": [
    {
     "output_type": "stream",
     "name": "stdout",
     "text": [
      "Searching for \"Dua Lipa\" by New Rules...\n",
      "Done.\n"
     ]
    }
   ],
   "source": [
    "song = LyricsGenius.search_song(artist_name, \"New Rules\" )"
   ]
  },
  {
   "cell_type": "code",
   "execution_count": 19,
   "metadata": {},
   "outputs": [
    {
     "output_type": "execute_result",
     "data": {
      "text/plain": [
       "\"[Intro]\\nOne, one, one, one, one\\n\\n[Verse 1]\\nTalkin' in my sleep at night, makin' myself crazy\\n(Out of my mind, out of my mind)\\nWrote it down and read it out, hopin' it would save me\\n(Too many times, too many times)\\n\\n[Refrain]\\nMy love, he makes me feel like nobody else, nobody else\\nBut my love, he doesn't love me, so I tell myself, I tell myself\\n\\n[Pre-Chorus]\\nOne: Don't pick up the phone\\nYou know he's only callin' 'cause he's drunk and alone\\nTwo: Don't let him in\\nYou'll have to kick him out again\\nThree: Don't be his friend\\nYou know you're gonna wake up in his bed in the morning\\nAnd if you're under him, you ain't gettin' over him\\n\\n[Chorus]\\nI got new rules, I count 'em\\nI got new rules, I count 'em\\nI gotta tell them to myself\\nI got new rules, I count 'em\\nI gotta tell them to myself\\n\\n[Verse 2]\\nI keep pushin' forwards, but he keeps pullin' me backwards\\n(Nowhere to turn, no way)\\n(Nowhere to turn, no)\\nNow I'm standin' back from it, I finally see the pattern\\n(I never learn, I never learn)\\n\\n[Refrain]\\nBut my love, he doesn't love me, so I tell myself, I tell myself\\nI do, I do, I do\\n\\n[Pre-Chorus]\\nOne: Don't pick up the phone\\nYou know he's only callin' 'cause he's drunk and alone\\nTwo: Don't let him in\\nYou'll have to kick him out again\\nThree: Don't be his friend\\nYou know you're gonna wake up in his bed in the morning\\nAnd if you're under him, you ain't gettin' over him\\n\\n[Chorus]\\nI got new rules, I count 'em\\nI got new rules, I count 'em\\nI gotta tell them to myself\\nI got new rules, I count 'em\\nI gotta tell them to myself\\n\\n[Bridge]\\nPractice makes perfect\\nI'm still tryna learn it by heart (I got new rules, I count 'em)\\nEat, sleep, and breathe it\\nRehearse and repeat it, 'cause I (I got new)\\n\\n[Pre-Chorus]\\nOne: Don't pick up the phone (yeah)\\nYou know he's only callin' 'cause he's drunk and alone (alone)\\nTwo: Don't let him in (uh-ooh)\\nYou'll have to kick him out again (again)\\nThree: Don't be his friend\\nYou know you're gonna wake up in his bed in the morning\\nAnd if you're under him, you ain't gettin' over him\\n\\n[Chorus]\\nI got new rules, I count 'em\\nI got new rules, I count 'em\\n(Whoa-ooh, whoa-ooh, whoa)\\nI gotta tell them to myself\\nI got new rules, I count 'em\\n(Baby, you know I count 'em)\\nI gotta tell them to myself\\n\\n[Outro]\\nDon't let him in, don't let him in\\nDon't, don't, don't, don't\\nDon't be his friend, don't be his friend\\nDon't, don't, don't, don't\\nDon't let him in, don't let him in\\nDon't, don't, don't, don't\\nDon't be his friend, don't be his friend\\nDon't, don't, don't, don't\\nYou're gettin' over him\""
      ]
     },
     "metadata": {},
     "execution_count": 19
    }
   ],
   "source": [
    "song.lyrics"
   ]
  },
  {
   "cell_type": "code",
   "execution_count": 20,
   "metadata": {},
   "outputs": [
    {
     "output_type": "stream",
     "name": "stdout",
     "text": [
      "Wrote lyrics_dualipa_newrules.txt.\n"
     ]
    }
   ],
   "source": [
    "song.save_lyrics(extension='txt')"
   ]
  },
  {
   "cell_type": "code",
   "execution_count": 21,
   "metadata": {},
   "outputs": [],
   "source": [
    "from bs4 import BeautifulSoup\n",
    "import re\n",
    "import lyricsgenius\n",
    "import requests\n",
    "from pathlib import Path"
   ]
  },
  {
   "cell_type": "code",
   "execution_count": 22,
   "metadata": {},
   "outputs": [],
   "source": [
    "def clean_up(song_title):\n",
    "\n",
    "    if \"Ft\" in song_title:\n",
    "        before_ft_pattern = re.compile(\".*(?=\\(Ft)\")\n",
    "        song_title_before_ft = before_ft_pattern.search(song_title).group(0)\n",
    "        clean_song_title = song_title_before_ft.strip()\n",
    "        clean_song_title = clean_song_title.replace(\"/\", \"-\")\n",
    "    \n",
    "    else:\n",
    "        song_title_no_lyrics = song_title.replace(\"Lyrics\", \"\")\n",
    "        clean_song_title = song_title_no_lyrics.strip()\n",
    "        clean_song_title = clean_song_title.replace(\"/\", \"-\")\n",
    "    \n",
    "    return clean_song_title"
   ]
  },
  {
   "cell_type": "code",
   "execution_count": 23,
   "metadata": {},
   "outputs": [],
   "source": [
    "def get_all_songs_from_album(artist, album_name):\n",
    "    \n",
    "    artist = artist.replace(\" \", \"-\")\n",
    "    album_name = album_name.replace(\" \", \"-\")\n",
    "    \n",
    "    response = requests.get(f\"https://genius.com/albums/{artist}/{album_name}\")\n",
    "    html_string = response.text\n",
    "    document = BeautifulSoup(html_string, \"html.parser\")\n",
    "    song_title_tags = document.find_all(\"h3\", attrs={\"class\": \"chart_row-content-title\"})\n",
    "    song_titles = [song_title.text for song_title in song_title_tags]\n",
    "    \n",
    "    clean_songs = []\n",
    "    for song_title in song_titles:\n",
    "        clean_song = clean_up(song_title)\n",
    "        clean_songs.append(clean_song)\n",
    "        \n",
    "    return clean_songs"
   ]
  },
  {
   "cell_type": "code",
   "execution_count": 24,
   "metadata": {},
   "outputs": [],
   "source": [
    "def download_album_lyrics(artist, album_name): \n",
    "    \n",
    "    # Set up LyricsGenius with your Genius API client access token\n",
    "    #client_access_token = Your-Client-Access-Token\n",
    "    LyricsGenius = lyricsgenius.Genius(client_access_token)\n",
    "    LyricsGenius.remove_section_headers = True\n",
    "    \n",
    "    # With the function that we previously created, go to Genius.com and get all song titles for a particular artist's album\n",
    "    clean_songs = get_all_songs_from_album(artist, album_name)\n",
    "    \n",
    "    for song in clean_songs:\n",
    "        \n",
    "        #For each song in the list, search for that song with LyricsGenius\n",
    "        song_object = LyricsGenius.search_song(song, artist)\n",
    "        \n",
    "        #If the song is not empty\n",
    "        if song_object != None:\n",
    "            \n",
    "            #Do some cleaning and prep for the filename of the song\n",
    "            artist_title = artist.replace(\" \", \"-\")\n",
    "            album_title = album_name.replace(\" \", \"-\")\n",
    "            song_title = song.replace(\"/\", \"-\")\n",
    "            song_title = song.replace(\" \", \"-\")\n",
    "            \n",
    "            #Establish the filename for each song inside a directory that begins with the artist's name and album title\n",
    "            custom_filename=f\"{artist_title}_{album_title}/{song_title}\"\n",
    "            \n",
    "            #A line of code that we need to create a directory\n",
    "             #os.makedirs(os.path.dirname(filename), exist_ok=True)\n",
    "            Path(f\"{artist_title}_{album_title}\").mkdir(parents=True, exist_ok=True)\n",
    "            \n",
    "            #Save the lyrics for the song as a text file\n",
    "            song_object.save_lyrics(filename=custom_filename, extension='txt', sanitize=False)\n",
    "        \n",
    "        #If the song doesn't contain lyrics\n",
    "        else:\n",
    "            print('No lyrics')"
   ]
  },
  {
   "cell_type": "code",
   "execution_count": 25,
   "metadata": {},
   "outputs": [
    {
     "output_type": "stream",
     "name": "stdout",
     "text": [
      "Searching for \"Genesis\" by Dua Lipa...\n",
      "Done.\n",
      "Wrote Dua-Lipa_Dua-Lipa/Genesis.txt.\n",
      "Searching for \"Lost in Your Light\" by Dua Lipa...\n",
      "Done.\n",
      "Wrote Dua-Lipa_Dua-Lipa/Lost-in-Your-Light.txt.\n",
      "Searching for \"Hotter Than Hell\" by Dua Lipa...\n",
      "Done.\n",
      "Wrote Dua-Lipa_Dua-Lipa/Hotter-Than-Hell.txt.\n",
      "Searching for \"Be the One\" by Dua Lipa...\n",
      "Done.\n",
      "Wrote Dua-Lipa_Dua-Lipa/Be-the-One.txt.\n",
      "Searching for \"IDGAF\" by Dua Lipa...\n",
      "Done.\n",
      "Wrote Dua-Lipa_Dua-Lipa/IDGAF.txt.\n",
      "Searching for \"Blow Your Mind (Mwah)\" by Dua Lipa...\n",
      "Done.\n",
      "Wrote Dua-Lipa_Dua-Lipa/Blow-Your-Mind-(Mwah).txt.\n",
      "Searching for \"Garden\" by Dua Lipa...\n",
      "Done.\n",
      "Wrote Dua-Lipa_Dua-Lipa/Garden.txt.\n",
      "Searching for \"No Goodbyes\" by Dua Lipa...\n",
      "Done.\n",
      "Wrote Dua-Lipa_Dua-Lipa/No-Goodbyes.txt.\n",
      "Searching for \"Thinking 'Bout You\" by Dua Lipa...\n",
      "Done.\n",
      "Wrote Dua-Lipa_Dua-Lipa/Thinking-'Bout-You.txt.\n",
      "Searching for \"New Rules\" by Dua Lipa...\n",
      "Done.\n",
      "Wrote Dua-Lipa_Dua-Lipa/New-Rules.txt.\n",
      "Searching for \"Begging\" by Dua Lipa...\n",
      "Done.\n",
      "Wrote Dua-Lipa_Dua-Lipa/Begging.txt.\n",
      "Searching for \"Homesick\" by Dua Lipa...\n",
      "Done.\n",
      "Wrote Dua-Lipa_Dua-Lipa/Homesick.txt.\n"
     ]
    }
   ],
   "source": [
    "download_album_lyrics(artist_name, \"Dua Lipa\")"
   ]
  },
  {
   "cell_type": "code",
   "execution_count": null,
   "metadata": {},
   "outputs": [],
   "source": []
  }
 ]
}