{
 "metadata": {
  "language_info": {
   "codemirror_mode": {
    "name": "ipython",
    "version": 3
   },
   "file_extension": ".py",
   "mimetype": "text/x-python",
   "name": "python",
   "nbconvert_exporter": "python",
   "pygments_lexer": "ipython3",
   "version": "3.7.4"
  },
  "orig_nbformat": 4,
  "kernelspec": {
   "name": "python3",
   "display_name": "Python 3.7.4 64-bit"
  },
  "interpreter": {
   "hash": "aee8b7b246df8f9039afb4144a1f6fd8d2ca17a180786b69acc140d282b71a49"
  }
 },
 "nbformat": 4,
 "nbformat_minor": 2,
 "cells": [
  {
   "cell_type": "code",
   "execution_count": 1,
   "metadata": {},
   "outputs": [],
   "source": [
    "import scrap\n",
    "import requests\n",
    "\n",
    "client_access_token = scrap.API_TOKEN\n"
   ]
  },
  {
   "cell_type": "code",
   "execution_count": 2,
   "metadata": {},
   "outputs": [],
   "source": [
    "search_term = str(input('Enter artist name'))"
   ]
  },
  {
   "cell_type": "code",
   "execution_count": 3,
   "metadata": {},
   "outputs": [],
   "source": [
    "genius_search_url = f\"http://api.genius.com/search?q={search_term}&access_token={client_access_token}\"\n",
    "response = requests.get(genius_search_url)\n",
    "json_data = response.json()"
   ]
  },
  {
   "cell_type": "code",
   "execution_count": 4,
   "metadata": {},
   "outputs": [
    {
     "output_type": "execute_result",
     "data": {
      "text/plain": [
       "{'highlights': [],\n",
       " 'index': 'song',\n",
       " 'type': 'song',\n",
       " 'result': {'annotation_count': 5,\n",
       "  'api_path': '/songs/2945792',\n",
       "  'full_title': 'Scared to Be Lonely by\\xa0Martin\\xa0Garrix & Dua Lipa',\n",
       "  'header_image_thumbnail_url': 'https://images.genius.com/8811dc527a2aaed63f355fc20be6449e.300x300x1.jpg',\n",
       "  'header_image_url': 'https://images.genius.com/8811dc527a2aaed63f355fc20be6449e.1000x1000x1.jpg',\n",
       "  'id': 2945792,\n",
       "  'lyrics_owner_id': 319713,\n",
       "  'lyrics_state': 'complete',\n",
       "  'path': '/Martin-garrix-and-dua-lipa-scared-to-be-lonely-lyrics',\n",
       "  'pyongs_count': 66,\n",
       "  'song_art_image_thumbnail_url': 'https://images.genius.com/1b38be649c3454777ce488892cc5de3a.300x300x1.jpg',\n",
       "  'song_art_image_url': 'https://images.genius.com/1b38be649c3454777ce488892cc5de3a.1000x1000x1.jpg',\n",
       "  'stats': {'unreviewed_annotations': 0, 'hot': False, 'pageviews': 1725435},\n",
       "  'title': 'Scared to Be Lonely',\n",
       "  'title_with_featured': 'Scared to Be Lonely',\n",
       "  'url': 'https://genius.com/Martin-garrix-and-dua-lipa-scared-to-be-lonely-lyrics',\n",
       "  'song_art_primary_color': '#d3562b',\n",
       "  'song_art_secondary_color': '#6e2c16',\n",
       "  'song_art_text_color': '#fff',\n",
       "  'primary_artist': {'api_path': '/artists/1296540',\n",
       "   'header_image_url': 'https://images.genius.com/f21693b19677d4ff6d035561e3806ad2.364x364x1.jpg',\n",
       "   'id': 1296540,\n",
       "   'image_url': 'https://images.genius.com/f21693b19677d4ff6d035561e3806ad2.364x364x1.jpg',\n",
       "   'is_meme_verified': False,\n",
       "   'is_verified': False,\n",
       "   'name': 'Martin Garrix & Dua Lipa',\n",
       "   'url': 'https://genius.com/artists/Martin-garrix-and-dua-lipa'}}}"
      ]
     },
     "metadata": {},
     "execution_count": 4
    }
   ],
   "source": [
    "json_data['response']['hits'][0]"
   ]
  },
  {
   "cell_type": "code",
   "execution_count": 5,
   "metadata": {},
   "outputs": [
    {
     "output_type": "stream",
     "name": "stdout",
     "text": [
      "Scared to Be Lonely by Martin Garrix & Dua Lipa\nIn the Name of Love by Martin Garrix & Bebe Rexha\nSo Far Away by Martin Garrix & David Guetta (Ft. Jamie Scott & Romy Dya)\nOcean by Martin Garrix (Ft. Khalid)\nThere for You by Martin Garrix & Troye Sivan\nHigh on Life by Martin Garrix (Ft. BONN)\nBurn Out by Martin Garrix & Justin Mylo (Ft. Dewain Whitmore)\nLike I Do by David Guetta, Martin Garrix & Brooks\nUsed to Love by Martin Garrix & Dean Lewis\nSummer Days by Martin Garrix (Ft. Macklemore & Patrick Stump)\n"
     ]
    }
   ],
   "source": [
    "for song in json_data['response']['hits']:\n",
    "    print(song['result']['full_title'])"
   ]
  },
  {
   "cell_type": "code",
   "execution_count": 6,
   "metadata": {},
   "outputs": [
    {
     "output_type": "stream",
     "name": "stdout",
     "text": [
      "Scared to Be Lonely by Martin Garrix & Dua Lipa 1725435\nIn the Name of Love by Martin Garrix & Bebe Rexha 1159037\nSo Far Away by Martin Garrix & David Guetta (Ft. Jamie Scott & Romy Dya) 832789\nOcean by Martin Garrix (Ft. Khalid) 497844\nThere for You by Martin Garrix & Troye Sivan 451887\nHigh on Life by Martin Garrix (Ft. BONN) 361559\nBurn Out by Martin Garrix & Justin Mylo (Ft. Dewain Whitmore) 120676\nLike I Do by David Guetta, Martin Garrix & Brooks 111308\nUsed to Love by Martin Garrix & Dean Lewis 104027\nSummer Days by Martin Garrix (Ft. Macklemore & Patrick Stump) 105941\n"
     ]
    }
   ],
   "source": [
    "for song in json_data['response']['hits']:\n",
    "    print(song['result']['full_title'], song['result']['stats']['pageviews'])"
   ]
  },
  {
   "cell_type": "code",
   "execution_count": 7,
   "metadata": {},
   "outputs": [],
   "source": [
    "import pandas as pd"
   ]
  },
  {
   "cell_type": "code",
   "execution_count": 8,
   "metadata": {},
   "outputs": [
    {
     "output_type": "execute_result",
     "data": {
      "text/plain": [
       "                                          song_title  page_views\n",
       "0    Scared to Be Lonely by Martin Garrix & Dua Lipa     1725435\n",
       "1  In the Name of Love by Martin Garrix & Bebe Rexha     1159037\n",
       "2  So Far Away by Martin Garrix & David Guetta (F...      832789\n",
       "3                Ocean by Martin Garrix (Ft. Khalid)      497844\n",
       "4       There for You by Martin Garrix & Troye Sivan      451887\n",
       "5           High on Life by Martin Garrix (Ft. BONN)      361559\n",
       "6  Burn Out by Martin Garrix & Justin Mylo (Ft. D...      120676\n",
       "7  Like I Do by David Guetta, Martin Garrix & Brooks      111308\n",
       "8         Used to Love by Martin Garrix & Dean Lewis      104027\n",
       "9  Summer Days by Martin Garrix (Ft. Macklemore &...      105941"
      ],
      "text/html": "<div>\n<style scoped>\n    .dataframe tbody tr th:only-of-type {\n        vertical-align: middle;\n    }\n\n    .dataframe tbody tr th {\n        vertical-align: top;\n    }\n\n    .dataframe thead th {\n        text-align: right;\n    }\n</style>\n<table border=\"1\" class=\"dataframe\">\n  <thead>\n    <tr style=\"text-align: right;\">\n      <th></th>\n      <th>song_title</th>\n      <th>page_views</th>\n    </tr>\n  </thead>\n  <tbody>\n    <tr>\n      <th>0</th>\n      <td>Scared to Be Lonely by Martin Garrix &amp; Dua Lipa</td>\n      <td>1725435</td>\n    </tr>\n    <tr>\n      <th>1</th>\n      <td>In the Name of Love by Martin Garrix &amp; Bebe Rexha</td>\n      <td>1159037</td>\n    </tr>\n    <tr>\n      <th>2</th>\n      <td>So Far Away by Martin Garrix &amp; David Guetta (F...</td>\n      <td>832789</td>\n    </tr>\n    <tr>\n      <th>3</th>\n      <td>Ocean by Martin Garrix (Ft. Khalid)</td>\n      <td>497844</td>\n    </tr>\n    <tr>\n      <th>4</th>\n      <td>There for You by Martin Garrix &amp; Troye Sivan</td>\n      <td>451887</td>\n    </tr>\n    <tr>\n      <th>5</th>\n      <td>High on Life by Martin Garrix (Ft. BONN)</td>\n      <td>361559</td>\n    </tr>\n    <tr>\n      <th>6</th>\n      <td>Burn Out by Martin Garrix &amp; Justin Mylo (Ft. D...</td>\n      <td>120676</td>\n    </tr>\n    <tr>\n      <th>7</th>\n      <td>Like I Do by David Guetta, Martin Garrix &amp; Brooks</td>\n      <td>111308</td>\n    </tr>\n    <tr>\n      <th>8</th>\n      <td>Used to Love by Martin Garrix &amp; Dean Lewis</td>\n      <td>104027</td>\n    </tr>\n    <tr>\n      <th>9</th>\n      <td>Summer Days by Martin Garrix (Ft. Macklemore &amp;...</td>\n      <td>105941</td>\n    </tr>\n  </tbody>\n</table>\n</div>"
     },
     "metadata": {},
     "execution_count": 8
    }
   ],
   "source": [
    "songs = []\n",
    "for song in json_data['response']['hits']:\n",
    "    songs.append([song['result']['full_title'], song['result']['stats']['pageviews']])\n",
    "    \n",
    "#Make a Pandas dataframe from a list\n",
    "song_df = pd.DataFrame(songs)\n",
    "song_df.columns = ['song_title', 'page_views']\n",
    "song_df"
   ]
  },
  {
   "cell_type": "code",
   "execution_count": 9,
   "metadata": {},
   "outputs": [],
   "source": [
    "from IPython.core.display import HTML\n",
    "def get_image_html(link):\n",
    "    image_html = f\"<img src='{link}' width='100'>\"\n",
    "    return image_html"
   ]
  },
  {
   "cell_type": "code",
   "execution_count": 10,
   "metadata": {},
   "outputs": [
    {
     "output_type": "execute_result",
     "data": {
      "text/plain": [
       "                                          song_title  page_views  \\\n",
       "0    Scared to Be Lonely by Martin Garrix & Dua Lipa     1725435   \n",
       "1  In the Name of Love by Martin Garrix & Bebe Rexha     1159037   \n",
       "2  So Far Away by Martin Garrix & David Guetta (F...      832789   \n",
       "3                Ocean by Martin Garrix (Ft. Khalid)      497844   \n",
       "4       There for You by Martin Garrix & Troye Sivan      451887   \n",
       "5           High on Life by Martin Garrix (Ft. BONN)      361559   \n",
       "6  Burn Out by Martin Garrix & Justin Mylo (Ft. D...      120676   \n",
       "7  Like I Do by David Guetta, Martin Garrix & Brooks      111308   \n",
       "8         Used to Love by Martin Garrix & Dean Lewis      104027   \n",
       "9  Summer Days by Martin Garrix (Ft. Macklemore &...      105941   \n",
       "\n",
       "                                     album_cover_url  \\\n",
       "0  https://images.genius.com/1b38be649c3454777ce4...   \n",
       "1  https://images.genius.com/bdb649ec0a2962d85c79...   \n",
       "2  https://images.genius.com/1939e046fb947fee9f5f...   \n",
       "3  https://images.genius.com/4232927d67d691342d57...   \n",
       "4  https://images.genius.com/fec91a1ee569f1e506e0...   \n",
       "5  https://images.genius.com/efb07122f035415d1e6a...   \n",
       "6  https://images.genius.com/4da94188f18c6410e340...   \n",
       "7  https://images.genius.com/04b7ef7e59c1a8ac0232...   \n",
       "8  https://images.genius.com/c5c43cf3448b6ffa39e8...   \n",
       "9  https://images.genius.com/1f82066038ae0ff766e6...   \n",
       "\n",
       "                                         album_cover  \n",
       "0  <img src='https://images.genius.com/1b38be649c...  \n",
       "1  <img src='https://images.genius.com/bdb649ec0a...  \n",
       "2  <img src='https://images.genius.com/1939e046fb...  \n",
       "3  <img src='https://images.genius.com/4232927d67...  \n",
       "4  <img src='https://images.genius.com/fec91a1ee5...  \n",
       "5  <img src='https://images.genius.com/efb07122f0...  \n",
       "6  <img src='https://images.genius.com/4da94188f1...  \n",
       "7  <img src='https://images.genius.com/04b7ef7e59...  \n",
       "8  <img src='https://images.genius.com/c5c43cf344...  \n",
       "9  <img src='https://images.genius.com/1f82066038...  "
      ],
      "text/html": "<div>\n<style scoped>\n    .dataframe tbody tr th:only-of-type {\n        vertical-align: middle;\n    }\n\n    .dataframe tbody tr th {\n        vertical-align: top;\n    }\n\n    .dataframe thead th {\n        text-align: right;\n    }\n</style>\n<table border=\"1\" class=\"dataframe\">\n  <thead>\n    <tr style=\"text-align: right;\">\n      <th></th>\n      <th>song_title</th>\n      <th>page_views</th>\n      <th>album_cover_url</th>\n      <th>album_cover</th>\n    </tr>\n  </thead>\n  <tbody>\n    <tr>\n      <th>0</th>\n      <td>Scared to Be Lonely by Martin Garrix &amp; Dua Lipa</td>\n      <td>1725435</td>\n      <td>https://images.genius.com/1b38be649c3454777ce4...</td>\n      <td>&lt;img src='https://images.genius.com/1b38be649c...</td>\n    </tr>\n    <tr>\n      <th>1</th>\n      <td>In the Name of Love by Martin Garrix &amp; Bebe Rexha</td>\n      <td>1159037</td>\n      <td>https://images.genius.com/bdb649ec0a2962d85c79...</td>\n      <td>&lt;img src='https://images.genius.com/bdb649ec0a...</td>\n    </tr>\n    <tr>\n      <th>2</th>\n      <td>So Far Away by Martin Garrix &amp; David Guetta (F...</td>\n      <td>832789</td>\n      <td>https://images.genius.com/1939e046fb947fee9f5f...</td>\n      <td>&lt;img src='https://images.genius.com/1939e046fb...</td>\n    </tr>\n    <tr>\n      <th>3</th>\n      <td>Ocean by Martin Garrix (Ft. Khalid)</td>\n      <td>497844</td>\n      <td>https://images.genius.com/4232927d67d691342d57...</td>\n      <td>&lt;img src='https://images.genius.com/4232927d67...</td>\n    </tr>\n    <tr>\n      <th>4</th>\n      <td>There for You by Martin Garrix &amp; Troye Sivan</td>\n      <td>451887</td>\n      <td>https://images.genius.com/fec91a1ee569f1e506e0...</td>\n      <td>&lt;img src='https://images.genius.com/fec91a1ee5...</td>\n    </tr>\n    <tr>\n      <th>5</th>\n      <td>High on Life by Martin Garrix (Ft. BONN)</td>\n      <td>361559</td>\n      <td>https://images.genius.com/efb07122f035415d1e6a...</td>\n      <td>&lt;img src='https://images.genius.com/efb07122f0...</td>\n    </tr>\n    <tr>\n      <th>6</th>\n      <td>Burn Out by Martin Garrix &amp; Justin Mylo (Ft. D...</td>\n      <td>120676</td>\n      <td>https://images.genius.com/4da94188f18c6410e340...</td>\n      <td>&lt;img src='https://images.genius.com/4da94188f1...</td>\n    </tr>\n    <tr>\n      <th>7</th>\n      <td>Like I Do by David Guetta, Martin Garrix &amp; Brooks</td>\n      <td>111308</td>\n      <td>https://images.genius.com/04b7ef7e59c1a8ac0232...</td>\n      <td>&lt;img src='https://images.genius.com/04b7ef7e59...</td>\n    </tr>\n    <tr>\n      <th>8</th>\n      <td>Used to Love by Martin Garrix &amp; Dean Lewis</td>\n      <td>104027</td>\n      <td>https://images.genius.com/c5c43cf3448b6ffa39e8...</td>\n      <td>&lt;img src='https://images.genius.com/c5c43cf344...</td>\n    </tr>\n    <tr>\n      <th>9</th>\n      <td>Summer Days by Martin Garrix (Ft. Macklemore &amp;...</td>\n      <td>105941</td>\n      <td>https://images.genius.com/1f82066038ae0ff766e6...</td>\n      <td>&lt;img src='https://images.genius.com/1f82066038...</td>\n    </tr>\n  </tbody>\n</table>\n</div>"
     },
     "metadata": {},
     "execution_count": 10
    }
   ],
   "source": [
    "songs = []\n",
    "for song in json_data['response']['hits']:\n",
    "    songs.append([song['result']['full_title'], song['result']['stats']['pageviews'], song['result']['song_art_image_url']])\n",
    "    \n",
    "song_df = pd.DataFrame(songs)\n",
    "song_df.columns = ['song_title', 'page_views','album_cover_url']\n",
    "\n",
    "#Use the function get_image_html()\n",
    "song_df['album_cover'] = song_df['album_cover_url'].apply(get_image_html)\n",
    "song_df"
   ]
  },
  {
   "cell_type": "code",
   "execution_count": 11,
   "metadata": {},
   "outputs": [
    {
     "output_type": "execute_result",
     "data": {
      "text/plain": [
       "<IPython.core.display.HTML object>"
      ],
      "text/html": "<table border=\"1\" class=\"dataframe\">\n  <thead>\n    <tr style=\"text-align: right;\">\n      <th></th>\n      <th>album_cover</th>\n      <th>page_views</th>\n      <th>song_title</th>\n    </tr>\n  </thead>\n  <tbody>\n    <tr>\n      <th>0</th>\n      <td><img src='https://images.genius.com/1b38be649c3454777ce488892cc5de3a.1000x1000x1.jpg' width='100'></td>\n      <td>1725435</td>\n      <td>Scared to Be Lonely by Martin Garrix & Dua Lipa</td>\n    </tr>\n    <tr>\n      <th>1</th>\n      <td><img src='https://images.genius.com/bdb649ec0a2962d85c79fcf221e71e63.1000x1000x1.jpg' width='100'></td>\n      <td>1159037</td>\n      <td>In the Name of Love by Martin Garrix & Bebe Rexha</td>\n    </tr>\n    <tr>\n      <th>2</th>\n      <td><img src='https://images.genius.com/1939e046fb947fee9f5fc411138a219b.1000x1000x1.jpg' width='100'></td>\n      <td>832789</td>\n      <td>So Far Away by Martin Garrix & David Guetta (Ft. Jamie Scott & Romy Dya)</td>\n    </tr>\n    <tr>\n      <th>3</th>\n      <td><img src='https://images.genius.com/4232927d67d691342d57103bc932e3c2.1000x1000x1.jpg' width='100'></td>\n      <td>497844</td>\n      <td>Ocean by Martin Garrix (Ft. Khalid)</td>\n    </tr>\n    <tr>\n      <th>4</th>\n      <td><img src='https://images.genius.com/fec91a1ee569f1e506e02e865b9e700b.1000x1000x1.jpg' width='100'></td>\n      <td>451887</td>\n      <td>There for You by Martin Garrix & Troye Sivan</td>\n    </tr>\n    <tr>\n      <th>5</th>\n      <td><img src='https://images.genius.com/efb07122f035415d1e6a969082a51117.800x800x1.jpg' width='100'></td>\n      <td>361559</td>\n      <td>High on Life by Martin Garrix (Ft. BONN)</td>\n    </tr>\n    <tr>\n      <th>6</th>\n      <td><img src='https://images.genius.com/4da94188f18c6410e340af6bec9c9ab3.900x900x1.jpg' width='100'></td>\n      <td>120676</td>\n      <td>Burn Out by Martin Garrix & Justin Mylo (Ft. Dewain Whitmore)</td>\n    </tr>\n    <tr>\n      <th>7</th>\n      <td><img src='https://images.genius.com/04b7ef7e59c1a8ac0232bb64ace73d89.1000x1000x1.jpg' width='100'></td>\n      <td>111308</td>\n      <td>Like I Do by David Guetta, Martin Garrix & Brooks</td>\n    </tr>\n    <tr>\n      <th>8</th>\n      <td><img src='https://images.genius.com/c5c43cf3448b6ffa39e8ef8f4a1cd817.375x375x1.jpg' width='100'></td>\n      <td>104027</td>\n      <td>Used to Love by Martin Garrix & Dean Lewis</td>\n    </tr>\n    <tr>\n      <th>9</th>\n      <td><img src='https://images.genius.com/1f82066038ae0ff766e611179ac11c73.1000x1000x1.jpg' width='100'></td>\n      <td>105941</td>\n      <td>Summer Days by Martin Garrix (Ft. Macklemore & Patrick Stump)</td>\n    </tr>\n  </tbody>\n</table>"
     },
     "metadata": {},
     "execution_count": 11
    }
   ],
   "source": [
    "HTML(song_df[['album_cover', 'page_views', 'song_title']].to_html(escape=False))"
   ]
  },
  {
   "cell_type": "code",
   "execution_count": null,
   "metadata": {},
   "outputs": [],
   "source": []
  }
 ]
}