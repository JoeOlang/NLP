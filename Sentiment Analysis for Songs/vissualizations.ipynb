{
 "metadata": {
  "language_info": {
   "codemirror_mode": {
    "name": "ipython",
    "version": 3
   },
   "file_extension": ".py",
   "mimetype": "text/x-python",
   "name": "python",
   "nbconvert_exporter": "python",
   "pygments_lexer": "ipython3",
   "version": "3.7.4"
  },
  "orig_nbformat": 2,
  "kernelspec": {
   "name": "python3",
   "display_name": "Python 3.7.4 64-bit"
  },
  "metadata": {
   "interpreter": {
    "hash": "2647ea34e536f865ab67ff9ddee7fd78773d956cec0cab53c79b32cd10da5d83"
   }
  },
  "interpreter": {
   "hash": "aee8b7b246df8f9039afb4144a1f6fd8d2ca17a180786b69acc140d282b71a49"
  }
 },
 "nbformat": 4,
 "nbformat_minor": 2,
 "cells": [
  {
   "cell_type": "code",
   "execution_count": 1,
   "source": [
    "# import packages\n",
    "\n",
    "import lyricsgenius\n",
    "import pandas as pd\n",
    "import requests\n",
    "\n",
    "from textblob import TextBlob \n",
    "import nltk\n",
    "from nltk.corpus import stopwords\n",
    "# nltk.download('stopwords')\n",
    "stopwords = set(stopwords.words('english'))\n",
    "\n",
    "import spacy\n",
    "from spacy.lang.en import English\n",
    "nlp = English()\n",
    "nlp.max_length = 10000000\n",
    "\n",
    "from gensim.summarization import keywords\n",
    "\n",
    "import helpers"
   ],
   "outputs": [],
   "metadata": {}
  },
  {
   "cell_type": "code",
   "execution_count": 2,
   "source": [
    "search_term = str(input('Enter artist name'))"
   ],
   "outputs": [],
   "metadata": {}
  },
  {
   "cell_type": "code",
   "execution_count": 4,
   "source": [
    "client_access_token = helpers.API_TOKEN\n",
    "genius_search_url = f\"http://api.genius.com/search?q={search_term}&access_token={client_access_token}\"\n",
    "response = requests.get(genius_search_url)\n",
    "json_data = response.json()"
   ],
   "outputs": [],
   "metadata": {}
  },
  {
   "cell_type": "code",
   "execution_count": 5,
   "source": [
    "songs = []\n",
    "for song in json_data['response']['hits']:\n",
    "    songs.append([song['result']['title'], song['result']['primary_artist']['name']])\n",
    "    \n",
    "#Make a Pandas dataframe from a list\n",
    "song_df = pd.DataFrame(songs)\n",
    "song_df.columns = ['song','artist']"
   ],
   "outputs": [],
   "metadata": {}
  },
  {
   "cell_type": "code",
   "execution_count": 6,
   "source": [
    "# Function to return lyrics of each song using Genius API\n",
    "def get_lyrics(title, artist):\n",
    "    try:\n",
    "        return genius.search_song(title, artist).lyrics\n",
    "    except:\n",
    "        return 'not found'\n",
    "\n",
    "\n",
    "# Function to return sentiment score of each song\n",
    "def get_lyric_sentiment(lyrics):\n",
    "\tanalysis = TextBlob(lyrics) \n",
    "\treturn analysis.sentiment.polarity\n",
    "\n",
    "\n",
    "# Function to return subjectivity score of each song\n",
    "def get_lyric_subjectivity(lyrics):\n",
    "\tanalysis = TextBlob(lyrics) \n",
    "\treturn analysis.sentiment.subjectivity\n",
    "\n",
    "\n",
    "# Function to preprocess text\n",
    "def preprocess(text):\n",
    "    # Create Doc object\n",
    "    doc = nlp(text, disable=['ner', 'parser'])\n",
    "    # Generate lemmas\n",
    "    lemmas = [token.lemma_ for token in doc]\n",
    "    # Remove stopwords and non-alphabetic characters\n",
    "    a_lemmas = [lemma for lemma in lemmas \n",
    "            if lemma.isalpha() and lemma not in stopwords]\n",
    "    return ' '.join(a_lemmas)\n",
    "\n",
    "\n",
    "# Extract Keywords from text\n",
    "def return_keywords(texts):\n",
    "    xkeywords = []\n",
    "    values = keywords(text=preprocess(texts),split='\\n',scores=True)\n",
    "    for x in values[:10]:\n",
    "        xkeywords.append(x[0])\n",
    "    try:\n",
    "        return xkeywords \n",
    "    except:\n",
    "        return \"no content\""
   ],
   "outputs": [],
   "metadata": {}
  },
  {
   "cell_type": "code",
   "execution_count": 7,
   "source": [
    "genius = lyricsgenius.Genius(client_access_token)\n",
    "\n",
    "# Use get_lyrics funcion to get lyrics for every song in dataset\n",
    "lyrics = song_df.apply(lambda row: get_lyrics(row['song'], row['artist']), axis =1)\n",
    "song_df['Lyrics'] = lyrics\n",
    "song_df = song_df.drop(song_df[song_df['Lyrics'] == 'not found'].index) #"
   ],
   "outputs": [
    {
     "output_type": "stream",
     "name": "stdout",
     "text": [
      "Searching for \"For You\" by Liam Payne & Rita Ora...\n",
      "Done.\n",
      "Searching for \"Girls\" by Rita Ora...\n",
      "Done.\n",
      "Searching for \"Your Song\" by Rita Ora...\n",
      "Done.\n",
      "Searching for \"Anywhere\" by Rita Ora...\n",
      "Done.\n",
      "Searching for \"Let You Love Me\" by Rita Ora...\n",
      "Done.\n",
      "Searching for \"Body on Me\" by Rita Ora...\n",
      "Done.\n",
      "Searching for \"Only Want You\" by Rita Ora...\n",
      "Done.\n",
      "Searching for \"R.I.P.\" by Rita Ora...\n",
      "Done.\n",
      "Searching for \"Carry On\" by Kygo & Rita Ora...\n",
      "Done.\n",
      "Searching for \"Ritual\" by Tiësto, Jonas Blue & Rita Ora...\n",
      "Done.\n"
     ]
    }
   ],
   "metadata": {}
  },
  {
   "cell_type": "code",
   "execution_count": 8,
   "source": [
    "# Use get_lyric_sentiment to get sentiment score for all the song lyrics\n",
    "sentiment = song_df.apply(lambda row: get_lyric_sentiment(row['Lyrics']), axis =1)\n",
    "song_df['Sentiment'] = sentiment"
   ],
   "outputs": [],
   "metadata": {}
  },
  {
   "cell_type": "code",
   "execution_count": 9,
   "source": [
    "# Use get_lyric_subjectivity to get subjectivity score for all the song lyrics\n",
    "subjectivity = song_df.apply(lambda row: get_lyric_subjectivity(row['Lyrics']), axis =1)\n",
    "song_df['Subjectivity'] = subjectivity"
   ],
   "outputs": [],
   "metadata": {}
  },
  {
   "cell_type": "code",
   "execution_count": 11,
   "source": [
    "import numpy as np\n",
    "import matplotlib.pyplot as plt\n",
    "plt.close(\"all\")\n",
    "\n",
    "x = np.array(song_df['Sentiment'].tolist())\n",
    "x = np.sort(x)\n",
    "y = np.array(song_df['Subjectivity'].tolist())\n"
   ],
   "outputs": [],
   "metadata": {}
  },
  {
   "cell_type": "code",
   "execution_count": 12,
   "source": [
    "plt.scatter(x, y);"
   ],
   "outputs": [
    {
     "output_type": "display_data",
     "data": {
      "text/plain": [
       "<Figure size 432x288 with 1 Axes>"
      ],
      "image/png": "[encoded data removed]"
     },
     "metadata": {
      "needs_background": "light"
     }
    }
   ],
   "metadata": {}
  },
  {
   "cell_type": "code",
   "execution_count": 13,
   "source": [
    "plt.plot(x,y)"
   ],
   "outputs": [
    {
     "output_type": "execute_result",
     "data": {
      "text/plain": [
       "[<matplotlib.lines.Line2D at 0x7f99ad78d490>]"
      ]
     },
     "metadata": {},
     "execution_count": 13
    },
    {
     "output_type": "display_data",
     "data": {
      "text/plain": [
       "<Figure size 432x288 with 1 Axes>"
      ],
      "image/png": "[encoded data removed]"
     },
     "metadata": {
      "needs_background": "light"
     }
    }
   ],
   "metadata": {}
  },
  {
   "cell_type": "code",
   "execution_count": 16,
   "source": [
    "from scipy.interpolate import make_interp_spline, BSpline\n",
    "\n",
    "xnew = np.linspace(x.min(), x.max())\n",
    "\n",
    "# define spline\n",
    "spl = make_interp_spline(x, y, k=3)\n",
    "y_smooth = spl(xnew)\n",
    "\n",
    "# create smooth line chart \n",
    "plt.plot(xnew, y_smooth)\n",
    "plt.show()"
   ],
   "outputs": [
    {
     "output_type": "display_data",
     "data": {
      "text/plain": [
       "<Figure size 432x288 with 1 Axes>"
      ],
      "image/png": "[encoded data removed]"
     },
     "metadata": {
      "needs_background": "light"
     }
    }
   ],
   "metadata": {}
  },
  {
   "cell_type": "markdown",
   "source": [
    "----------"
   ],
   "metadata": {}
  }
 ]
}