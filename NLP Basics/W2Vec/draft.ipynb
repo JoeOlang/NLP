{
 "metadata": {
  "language_info": {
   "codemirror_mode": {
    "name": "ipython",
    "version": 3
   },
   "file_extension": ".py",
   "mimetype": "text/x-python",
   "name": "python",
   "nbconvert_exporter": "python",
   "pygments_lexer": "ipython3",
   "version": "3.7.4-final"
  },
  "orig_nbformat": 2,
  "kernelspec": {
   "name": "python3",
   "display_name": "Python 3",
   "language": "python"
  }
 },
 "nbformat": 4,
 "nbformat_minor": 2,
 "cells": [
  {
   "cell_type": "code",
   "execution_count": 4,
   "metadata": {},
   "outputs": [],
   "source": [
    "import pandas as pd\n",
    "import numpy as np\n",
    "import keras"
   ]
  },
  {
   "cell_type": "code",
   "execution_count": 17,
   "metadata": {},
   "outputs": [
    {
     "output_type": "execute_result",
     "data": {
      "text/plain": [
       "                                                        b\n",
       "0       Great CD: My lovely Pat has one of the GREAT v...\n",
       "1       One of the best game music soundtracks - for a...\n",
       "2       Batteries died within a year ...: I bought thi...\n",
       "3       works fine, but Maha Energy is better: Check o...\n",
       "4       Great for the non-audiophile: Reviewed quite a...\n",
       "5       DVD Player crapped out after one year: I also ...\n",
       "6       Incorrect Disc: I love the style of this, but ...\n",
       "7       DVD menu select problems: I cannot scroll thro...\n",
       "8       Unique Weird Orientalia from the 1930's: Exoti...\n",
       "9       Not an \"ultimate guide\": Firstly,I enjoyed the...\n",
       "10      Great book for travelling Europe: I currently ...\n",
       "11      Not!: If you want to listen to El Duke , then ...\n",
       "12      A complete Bust: This game requires quicktime ...\n",
       "13      TRULY MADE A DIFFERENCE!: I have been using th...\n",
       "14      didn't run off of USB bus power: Was hoping th...\n",
       "15      Don't buy!: First of all, the company took my ...\n",
       "16      Simple, Durable, Fun game for all ages: This i...\n",
       "17      Review of Kelly Club for Toddlers: For the pri...\n",
       "18      SOY UN APASIONADO DEL BOX: Y ESTE LIBRO ESTÁ E...\n",
       "19      Some of the best fiddle playing I have heard i...\n",
       "20      Long and boring: I've read this book with much...\n",
       "21      Dont like it: This product smells when you ope...\n",
       "22      one of the last in the series to collect !: Th...\n",
       "23      Sony Hi8 Camcorder with 2.5 LCD: I believe I w...\n",
       "24      Don't Take the Chance - Get the SE Branded Cab...\n",
       "25      Waste of money!: Like many of the Barbie CD Ro...\n",
       "26      works great: i bought this item to connect to ...\n",
       "27      Has No Range: I suppose if you were going to s...\n",
       "28      wish i had gotten this sooner!: ive got a lamp...\n",
       "29      Three Days of Use and It Broke: Very disappoin...\n",
       "...                                                   ...\n",
       "399970  This is my first PDA/Organizer: I purchased th...\n",
       "399971  Piece of Crap: I have ordered thousands of ite...\n",
       "399972  Okay at first, but died pretty quickly...: My ...\n",
       "399973  Great Little Speakers for Music: I like to lis...\n",
       "399974  Great Bench Kit!: I made a small (24\" long) wa...\n",
       "399975  Neil Armstrong, A Good Man: Neil, A Good Man. ...\n",
       "399976  Works great!!: I purchased the item hoping tha...\n",
       "399977  Huh? The CD's over? Best nap I ever took.: Fer...\n",
       "399978  The Celtic Knotwork Handbook, a perfect book f...\n",
       "399979  We love Mr. Putter and Tabby!: My children, ag...\n",
       "399980  Not unless you're a time traveler: ... This bo...\n",
       "399981  not useful anymore: While this book seemed ver...\n",
       "399982  MAC OS X SERVER Administrator's Guide: I was l...\n",
       "399983  Bulb: 10,000 hours; transformer: 250 hours: Th...\n",
       "399984  Don't Buy Ott: Buyers, be warned! I bought an ...\n",
       "399985  Super.: This item is all I expected and more w...\n",
       "399986  Extremely Useful for Me and Others: As a teach...\n",
       "399987  I like this keyboard a lot!: My keyboard at wo...\n",
       "399988  Not for beginners!: There is way too much talk...\n",
       "399989  Cheap plasticy looking and can't see the light...\n",
       "399990  I really love Puff Daddy and R. Kelly's songs....\n",
       "399991  Very Disappointed: I expected more about how t...\n",
       "399992  Strange but, listenable: This is not what I ex...\n",
       "399993  CRAP: this is not music, no matter what anyone...\n",
       "399994  Obey the warning: This is a fun toy and my 2 a...\n",
       "399995  Unbelievable- In a Bad Way: We bought this Tho...\n",
       "399996  Almost Great, Until it Broke...: My son reciev...\n",
       "399997  Disappointed !!!: I bought this toy for my son...\n",
       "399998  Classic Jessica Mitford: This is a compilation...\n",
       "399999  Comedy Scene, and Not Heard: This DVD will be ...\n",
       "\n",
       "[400000 rows x 1 columns]"
      ],
      "text/html": "<div>\n<style scoped>\n    .dataframe tbody tr th:only-of-type {\n        vertical-align: middle;\n    }\n\n    .dataframe tbody tr th {\n        vertical-align: top;\n    }\n\n    .dataframe thead th {\n        text-align: right;\n    }\n</style>\n<table border=\"1\" class=\"dataframe\">\n  <thead>\n    <tr style=\"text-align: right;\">\n      <th></th>\n      <th>b</th>\n    </tr>\n  </thead>\n  <tbody>\n    <tr>\n      <th>0</th>\n      <td>Great CD: My lovely Pat has one of the GREAT v...</td>\n    </tr>\n    <tr>\n      <th>1</th>\n      <td>One of the best game music soundtracks - for a...</td>\n    </tr>\n    <tr>\n      <th>2</th>\n      <td>Batteries died within a year ...: I bought thi...</td>\n    </tr>\n    <tr>\n      <th>3</th>\n      <td>works fine, but Maha Energy is better: Check o...</td>\n    </tr>\n    <tr>\n      <th>4</th>\n      <td>Great for the non-audiophile: Reviewed quite a...</td>\n    </tr>\n    <tr>\n      <th>5</th>\n      <td>DVD Player crapped out after one year: I also ...</td>\n    </tr>\n    <tr>\n      <th>6</th>\n      <td>Incorrect Disc: I love the style of this, but ...</td>\n    </tr>\n    <tr>\n      <th>7</th>\n      <td>DVD menu select problems: I cannot scroll thro...</td>\n    </tr>\n    <tr>\n      <th>8</th>\n      <td>Unique Weird Orientalia from the 1930's: Exoti...</td>\n    </tr>\n    <tr>\n      <th>9</th>\n      <td>Not an \"ultimate guide\": Firstly,I enjoyed the...</td>\n    </tr>\n    <tr>\n      <th>10</th>\n      <td>Great book for travelling Europe: I currently ...</td>\n    </tr>\n    <tr>\n      <th>11</th>\n      <td>Not!: If you want to listen to El Duke , then ...</td>\n    </tr>\n    <tr>\n      <th>12</th>\n      <td>A complete Bust: This game requires quicktime ...</td>\n    </tr>\n    <tr>\n      <th>13</th>\n      <td>TRULY MADE A DIFFERENCE!: I have been using th...</td>\n    </tr>\n    <tr>\n      <th>14</th>\n      <td>didn't run off of USB bus power: Was hoping th...</td>\n    </tr>\n    <tr>\n      <th>15</th>\n      <td>Don't buy!: First of all, the company took my ...</td>\n    </tr>\n    <tr>\n      <th>16</th>\n      <td>Simple, Durable, Fun game for all ages: This i...</td>\n    </tr>\n    <tr>\n      <th>17</th>\n      <td>Review of Kelly Club for Toddlers: For the pri...</td>\n    </tr>\n    <tr>\n      <th>18</th>\n      <td>SOY UN APASIONADO DEL BOX: Y ESTE LIBRO ESTÁ E...</td>\n    </tr>\n    <tr>\n      <th>19</th>\n      <td>Some of the best fiddle playing I have heard i...</td>\n    </tr>\n    <tr>\n      <th>20</th>\n      <td>Long and boring: I've read this book with much...</td>\n    </tr>\n    <tr>\n      <th>21</th>\n      <td>Dont like it: This product smells when you ope...</td>\n    </tr>\n    <tr>\n      <th>22</th>\n      <td>one of the last in the series to collect !: Th...</td>\n    </tr>\n    <tr>\n      <th>23</th>\n      <td>Sony Hi8 Camcorder with 2.5 LCD: I believe I w...</td>\n    </tr>\n    <tr>\n      <th>24</th>\n      <td>Don't Take the Chance - Get the SE Branded Cab...</td>\n    </tr>\n    <tr>\n      <th>25</th>\n      <td>Waste of money!: Like many of the Barbie CD Ro...</td>\n    </tr>\n    <tr>\n      <th>26</th>\n      <td>works great: i bought this item to connect to ...</td>\n    </tr>\n    <tr>\n      <th>27</th>\n      <td>Has No Range: I suppose if you were going to s...</td>\n    </tr>\n    <tr>\n      <th>28</th>\n      <td>wish i had gotten this sooner!: ive got a lamp...</td>\n    </tr>\n    <tr>\n      <th>29</th>\n      <td>Three Days of Use and It Broke: Very disappoin...</td>\n    </tr>\n    <tr>\n      <th>...</th>\n      <td>...</td>\n    </tr>\n    <tr>\n      <th>399970</th>\n      <td>This is my first PDA/Organizer: I purchased th...</td>\n    </tr>\n    <tr>\n      <th>399971</th>\n      <td>Piece of Crap: I have ordered thousands of ite...</td>\n    </tr>\n    <tr>\n      <th>399972</th>\n      <td>Okay at first, but died pretty quickly...: My ...</td>\n    </tr>\n    <tr>\n      <th>399973</th>\n      <td>Great Little Speakers for Music: I like to lis...</td>\n    </tr>\n    <tr>\n      <th>399974</th>\n      <td>Great Bench Kit!: I made a small (24\" long) wa...</td>\n    </tr>\n    <tr>\n      <th>399975</th>\n      <td>Neil Armstrong, A Good Man: Neil, A Good Man. ...</td>\n    </tr>\n    <tr>\n      <th>399976</th>\n      <td>Works great!!: I purchased the item hoping tha...</td>\n    </tr>\n    <tr>\n      <th>399977</th>\n      <td>Huh? The CD's over? Best nap I ever took.: Fer...</td>\n    </tr>\n    <tr>\n      <th>399978</th>\n      <td>The Celtic Knotwork Handbook, a perfect book f...</td>\n    </tr>\n    <tr>\n      <th>399979</th>\n      <td>We love Mr. Putter and Tabby!: My children, ag...</td>\n    </tr>\n    <tr>\n      <th>399980</th>\n      <td>Not unless you're a time traveler: ... This bo...</td>\n    </tr>\n    <tr>\n      <th>399981</th>\n      <td>not useful anymore: While this book seemed ver...</td>\n    </tr>\n    <tr>\n      <th>399982</th>\n      <td>MAC OS X SERVER Administrator's Guide: I was l...</td>\n    </tr>\n    <tr>\n      <th>399983</th>\n      <td>Bulb: 10,000 hours; transformer: 250 hours: Th...</td>\n    </tr>\n    <tr>\n      <th>399984</th>\n      <td>Don't Buy Ott: Buyers, be warned! I bought an ...</td>\n    </tr>\n    <tr>\n      <th>399985</th>\n      <td>Super.: This item is all I expected and more w...</td>\n    </tr>\n    <tr>\n      <th>399986</th>\n      <td>Extremely Useful for Me and Others: As a teach...</td>\n    </tr>\n    <tr>\n      <th>399987</th>\n      <td>I like this keyboard a lot!: My keyboard at wo...</td>\n    </tr>\n    <tr>\n      <th>399988</th>\n      <td>Not for beginners!: There is way too much talk...</td>\n    </tr>\n    <tr>\n      <th>399989</th>\n      <td>Cheap plasticy looking and can't see the light...</td>\n    </tr>\n    <tr>\n      <th>399990</th>\n      <td>I really love Puff Daddy and R. Kelly's songs....</td>\n    </tr>\n    <tr>\n      <th>399991</th>\n      <td>Very Disappointed: I expected more about how t...</td>\n    </tr>\n    <tr>\n      <th>399992</th>\n      <td>Strange but, listenable: This is not what I ex...</td>\n    </tr>\n    <tr>\n      <th>399993</th>\n      <td>CRAP: this is not music, no matter what anyone...</td>\n    </tr>\n    <tr>\n      <th>399994</th>\n      <td>Obey the warning: This is a fun toy and my 2 a...</td>\n    </tr>\n    <tr>\n      <th>399995</th>\n      <td>Unbelievable- In a Bad Way: We bought this Tho...</td>\n    </tr>\n    <tr>\n      <th>399996</th>\n      <td>Almost Great, Until it Broke...: My son reciev...</td>\n    </tr>\n    <tr>\n      <th>399997</th>\n      <td>Disappointed !!!: I bought this toy for my son...</td>\n    </tr>\n    <tr>\n      <th>399998</th>\n      <td>Classic Jessica Mitford: This is a compilation...</td>\n    </tr>\n    <tr>\n      <th>399999</th>\n      <td>Comedy Scene, and Not Heard: This DVD will be ...</td>\n    </tr>\n  </tbody>\n</table>\n<p>400000 rows × 1 columns</p>\n</div>"
     },
     "metadata": {},
     "execution_count": 17
    }
   ],
   "source": [
    "df = pd.read_fwf('test.txt', header=None)\n",
    "df.columns=['a','b']\n",
    "df.drop(['a'], axis=1)"
   ]
  },
  {
   "cell_type": "code",
   "execution_count": 20,
   "metadata": {},
   "outputs": [
    {
     "output_type": "stream",
     "name": "stderr",
     "text": [
      "[nltk_data] Downloading package stopwords to /Users/0x23/nltk_data...\n",
      "[nltk_data]   Unzipping corpora/stopwords.zip.\n",
      "[nltk_data] Downloading package punkt to /Users/0x23/nltk_data...\n",
      "[nltk_data]   Package punkt is already up-to-date!\n"
     ]
    },
    {
     "output_type": "execute_result",
     "data": {
      "text/plain": [
       "True"
      ]
     },
     "metadata": {},
     "execution_count": 20
    }
   ],
   "source": [
    "import csv\n",
    "from nltk.stem.porter import *\n",
    "from nltk.corpus import stopwords\n",
    "from nltk.tokenize import word_tokenize\n",
    "import string\n",
    "import nltk\n",
    "nltk.download('stopwords')\n",
    "nltk.download('punkt')"
   ]
  },
  {
   "cell_type": "code",
   "execution_count": 21,
   "metadata": {},
   "outputs": [],
   "source": [
    "text_lines = list()\n",
    "lines = df['b'].values.tolist()\n",
    "\n",
    "for line in lines:\n",
    "    tokens = word_tokenize(line)\n",
    "    \n",
    "    # tokens = [w.lower() for w in tokens]  # convert to lower case\n",
    "\n",
    "    table = str.maketrans('', '', string.punctuation) # remove punctuation\n",
    "    stripped = [w.translate(table) for w in tokens] \n",
    "\n",
    "    words = [word for word in stripped if word.isalpha()] # remove remaining non alphabetic tokens\n",
    "\n",
    "    stop_words = set(stopwords.words('english')) # remove english stopwords\n",
    "    words = [w for w in words if not w in stop_words]\n",
    "    text_lines.append(words)"
   ]
  },
  {
   "cell_type": "code",
   "execution_count": 22,
   "metadata": {},
   "outputs": [
    {
     "output_type": "stream",
     "name": "stdout",
     "text": [
      "400000\n"
     ]
    }
   ],
   "source": [
    "print(len(text_lines))"
   ]
  },
  {
   "cell_type": "code",
   "execution_count": 23,
   "metadata": {},
   "outputs": [
    {
     "output_type": "stream",
     "name": "stdout",
     "text": [
      "Vocabulary size:  470787\n"
     ]
    }
   ],
   "source": [
    "import gensim\n",
    "vocabulary = gensim.models.Word2Vec(sentences=text_lines, size=200, window=5, workers=4, min_count=1)\n",
    "words = list(vocabulary.wv.vocab)\n",
    "print('Vocabulary size:  %d'  % len(words))"
   ]
  },
  {
   "cell_type": "code",
   "execution_count": 24,
   "metadata": {},
   "outputs": [
    {
     "output_type": "execute_result",
     "data": {
      "text/plain": [
       "[('hear', 0.5714476108551025),\n",
       " ('find', 0.520993173122406),\n",
       " ('tell', 0.5195527672767639),\n",
       " ('know', 0.5086527466773987),\n",
       " ('watch', 0.5077857971191406),\n",
       " ('discover', 0.5029417872428894),\n",
       " ('figure', 0.5005062222480774),\n",
       " ('imagine', 0.49845755100250244),\n",
       " ('notice', 0.49817609786987305),\n",
       " ('seeing', 0.4932604134082794)]"
      ]
     },
     "metadata": {},
     "execution_count": 24
    }
   ],
   "source": [
    "vocabulary.wv.most_similar('see')"
   ]
  },
  {
   "cell_type": "code",
   "execution_count": 25,
   "metadata": {},
   "outputs": [],
   "source": [
    "filename = 'embeddings.txt'\n",
    "vocabulary.wv.save_word2vec_format(filename, binary=False)"
   ]
  },
  {
   "cell_type": "code",
   "execution_count": 1,
   "metadata": {},
   "outputs": [],
   "source": [
    "from gensim.models import KeyedVectors\n",
    "\n",
    "# Load gensim word2vec\n",
    "w2v_path = 'embeddings.txt'\n",
    "w2v = KeyedVectors.load_word2vec_format(w2v_path)\n",
    "\n",
    "import io\n",
    "\n",
    "# Vector file, `\\t` seperated the vectors and `\\n` seperate the words\n",
    "\"\"\"\n",
    "0.1\\t0.2\\t0.5\\t0.9\n",
    "0.2\\t0.1\\t5.0\\t0.2\n",
    "0.4\\t0.1\\t7.0\\t0.8\n",
    "\"\"\"\n",
    "out_v = io.open('vecs.tsv', 'w', encoding='utf-8')\n",
    "\n",
    "# Meta data file, `\\n` seperated word\n",
    "\"\"\"\n",
    "token1\n",
    "token2\n",
    "token3\n",
    "\"\"\"\n",
    "out_m = io.open('meta.tsv', 'w', encoding='utf-8')\n",
    "\n",
    "# Write meta file and vector file\n",
    "for index in range(len(w2v.index2word)):\n",
    "    word = w2v.index2word[index]\n",
    "    vec = w2v.vectors[index]\n",
    "    out_m.write(word + \"\\n\")\n",
    "    out_v.write('\\t'.join([str(x) for x in vec]) + \"\\n\")\n",
    "out_v.close()\n",
    "out_m.close()\n",
    "\n",
    "# Then we can visuale using the `http://projector.tensorflow.org/` to visualize those two files.\n",
    "\n",
    "# 1. Open the Embedding Projector.\n",
    "# 2. Click on \"Load data\".\n",
    "# 3. Upload the two files we created above: vecs.tsv and meta.tsv."
   ]
  },
  {
   "cell_type": "code",
   "execution_count": null,
   "metadata": {},
   "outputs": [],
   "source": []
  }
 ]
}