{
 "cells": [
  {
   "cell_type": "code",
   "execution_count": null,
   "metadata": {
    "collapsed": true,
    "pycharm": {
     "name": "#%%\n"
    }
   },
   "outputs": [],
   "source": [
    "from twython import Twython\n",
    "import json\n",
    "import pandas as pd\n",
    "import pandas as pd\n",
    "import spacy"
   ]
  },
  {
   "cell_type": "code",
   "execution_count": null,
   "outputs": [],
   "source": [
    "# Load credentials from json file\n",
    "with open(\"credentials.json\", \"r\") as file:\n",
    "    creds = json.load(file)\n",
    "\n",
    "# Instantiate an object\n",
    "python_tweets = Twython(creds['CONSUMER_KEY'], creds['CONSUMER_SECRET'])\n",
    "\n",
    "# Create our query\n",
    "query = {'q': 'to%3ASafaricom_Care',\n",
    "         'result_type': 'recent',\n",
    "         'lang': 'en',\n",
    "         'include_entities': 'true'\n",
    "         }\n",
    "\n",
    "# Create a dict object to keep track of the tweets\n",
    "dict_ = {'user': [], 'date': [], 'text': [], 'favorite_count': [], 'location': [], 'hashtags': []}\n",
    "\n",
    "\n",
    "# Run the search API call\n",
    "for status in python_tweets.search(**query)['statuses']:\n",
    "    # Add the data we would like\n",
    "    dict_['hashtags'].append(status['entities']['hashtags'])\n",
    "    dict_['user'].append(status['user']['screen_name'])\n",
    "    dict_['location'].append(status['user']['location'])\n",
    "    dict_['date'].append(status['created_at'])\n",
    "    dict_['text'].append(status['text'])\n",
    "    dict_['favorite_count'].append(status['favorite_count'])\n",
    "\n",
    "# Convert to a dataframe\n",
    "df = pd.DataFrame(dict_)\n",
    "\n",
    "# dropping ALL duplicate values\n",
    "df.drop_duplicates(subset=\"text\", inplace=True)"
   ],
   "metadata": {
    "collapsed": false,
    "pycharm": {
     "name": "#%%\n"
    }
   }
  },
  {
   "cell_type": "code",
   "execution_count": null,
   "outputs": [],
   "source": [
    "# Load English tokenizer, tagger, parser and NER\n",
    "nlp = spacy.load(\"en_core_web_sm\")\n",
    "text = df['text'].tolist()\n",
    "def print_ner(texts):\n",
    "    doc = nlp(texts)\n",
    "    # Find named entities, phrases and concepts\n",
    "    for entity in doc.ents:\n",
    "        print(\"START\")\n",
    "        print(entity.text, entity.label_)\n",
    "        print(\"STOP\")\n",
    "\n",
    "\n",
    "for i in text:\n",
    "    print_ner(i)"
   ],
   "metadata": {
    "collapsed": false,
    "pycharm": {
     "name": "#%%\n"
    }
   }
  }
 ],
 "metadata": {
  "kernelspec": {
   "display_name": "Python 3",
   "language": "python",
   "name": "python3"
  },
  "language_info": {
   "codemirror_mode": {
    "name": "ipython",
    "version": 2
   },
   "file_extension": ".py",
   "mimetype": "text/x-python",
   "name": "python",
   "nbconvert_exporter": "python",
   "pygments_lexer": "ipython2",
   "version": "2.7.6"
  }
 },
 "nbformat": 4,
 "nbformat_minor": 0
}