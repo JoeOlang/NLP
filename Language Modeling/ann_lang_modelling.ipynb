{
  "nbformat": 4,
  "nbformat_minor": 0,
  "metadata": {
    "colab": {
      "name": "NLG1.ipynb",
      "provenance": [],
      "mount_file_id": "1ek68_acNO9qZeNNsf9DVYUkLXl1I6_vt",
      "authorship_tag": "ABX9TyOp+ngMC+PBTzi6muwuTRBv",
      "include_colab_link": true
    },
    "kernelspec": {
      "name": "python3",
      "display_name": "Python 3"
    },
    "language_info": {
      "name": "python"
    }
  },
  "cells": [
    {
      "cell_type": "markdown",
      "metadata": {
        "id": "view-in-github",
        "colab_type": "text"
      },
      "source": [
        "<a href=\"https://colab.research.google.com/github/e-olang/NLP/blob/main/Language%20Modeling/ann_lang_modelling.ipynb\" target=\"_parent\"><img src=\"https://colab.research.google.com/assets/colab-badge.svg\" alt=\"Open In Colab\"/></a>"
      ]
    },
    {
      "cell_type": "code",
      "source": [
        "import warnings\n",
        "warnings.filterwarnings('ignore')"
      ],
      "metadata": {
        "id": "V2o04X5UPBFY"
      },
      "execution_count": 16,
      "outputs": []
    },
    {
      "cell_type": "code",
      "source": [
        "import numpy as np\n",
        "import pandas as pd\n",
        "from tensorflow.keras.utils import to_categorical\n",
        "from tensorflow.keras.preprocessing.sequence import pad_sequences\n",
        "from tensorflow.keras.models import Sequential\n",
        "from tensorflow.keras.layers import LSTM, Dense, GRU, Embedding\n",
        "from tensorflow.keras.callbacks import EarlyStopping, ModelCheckpoint"
      ],
      "metadata": {
        "id": "pn2SClI6U41F"
      },
      "execution_count": 27,
      "outputs": []
    },
    {
      "cell_type": "code",
      "source": [
        "data_text = \"\"\"The unanimous Declaration of the thirteen united States of America, When in the Course of human events, it becomes necessary for one people to dissolve the political bands which have connected them with another, and to assume among the powers of the earth, the separate and equal station to which the Laws of Nature and of Nature's God entitle them, a decent respect to the opinions of mankind requires that they should declare the causes which impel them to the separation.\n",
        "\n",
        "We hold these truths to be self-evident, that all men are created equal, that they are endowed by their Creator with certain unalienable Rights, that among these are Life, Liberty and the pursuit of Happiness.--That to secure these rights, Governments are instituted among Men, deriving their just powers from the consent of the governed, --That whenever any Form of Government becomes destructive of these ends, it is the Right of the People to alter or to abolish it, and to institute new Government, laying its foundation on such principles and organizing its powers in such form, as to them shall seem most likely to effect their Safety and Happiness. Prudence, indeed, will dictate that Governments long established should not be changed for light and transient causes; and accordingly all experience hath shewn, that mankind are more disposed to suffer, while evils are sufferable, than to right themselves by abolishing the forms to which they are accustomed. But when a long train of abuses and usurpations, pursuing invariably the same Object evinces a design to reduce them under absolute Despotism, it is their right, it is their duty, to throw off such Government, and to provide new Guards for their future security.--Such has been the patient sufferance of these Colonies; and such is now the necessity which constrains them to alter their former Systems of Government. The history of the present King of Great Britain is a history of repeated injuries and usurpations, all having in direct object the establishment of an absolute Tyranny over these States. To prove this, let Facts be submitted to a candid world.\n",
        "\n",
        "He has refused his Assent to Laws, the most wholesome and necessary for the public good.\n",
        "\n",
        "He has forbidden his Governors to pass Laws of immediate and pressing importance, unless suspended in their operation till his Assent should be obtained; and when so suspended, he has utterly neglected to attend to them.\n",
        "\n",
        "He has refused to pass other Laws for the accommodation of large districts of people, unless those people would relinquish the right of Representation in the Legislature, a right inestimable to them and formidable to tyrants only.\n",
        "\n",
        "He has called together legislative bodies at places unusual, uncomfortable, and distant from the depository of their public Records, for the sole purpose of fatiguing them into compliance with his measures.\n",
        "\n",
        "He has dissolved Representative Houses repeatedly, for opposing with manly firmness his invasions on the rights of the people.\n",
        "\n",
        "He has refused for a long time, after such dissolutions, to cause others to be elected; whereby the Legislative powers, incapable of Annihilation, have returned to the People at large for their exercise; the State remaining in the mean time exposed to all the dangers of invasion from without, and convulsions within.\n",
        "\n",
        "He has endeavoured to prevent the population of these States; for that purpose obstructing the Laws for Naturalization of Foreigners; refusing to pass others to encourage their migrations hither, and raising the conditions of new Appropriations of Lands.\n",
        "\n",
        "He has obstructed the Administration of Justice, by refusing his Assent to Laws for establishing Judiciary powers.\n",
        "\n",
        "He has made Judges dependent on his Will alone, for the tenure of their offices, and the amount and payment of their salaries.\n",
        "\n",
        "He has erected a multitude of New Offices, and sent hither swarms of Officers to harrass our people, and eat out their substance.\n",
        "\n",
        "He has kept among us, in times of peace, Standing Armies without the Consent of our legislatures.\n",
        "\n",
        "He has affected to render the Military independent of and superior to the Civil power.\n",
        "\n",
        "He has combined with others to subject us to a jurisdiction foreign to our constitution, and unacknowledged by our laws; giving his Assent to their Acts of pretended Legislation:\n",
        "\n",
        "For Quartering large bodies of armed troops among us:\n",
        "\n",
        "For protecting them, by a mock Trial, from punishment for any Murders which they should commit on the Inhabitants of these States:\n",
        "\n",
        "For cutting off our Trade with all parts of the world:\n",
        "\n",
        "For imposing Taxes on us without our Consent:\n",
        "\n",
        "For depriving us in many cases, of the benefits of Trial by Jury:\n",
        "\n",
        "For transporting us beyond Seas to be tried for pretended offences\n",
        "\n",
        "For abolishing the free System of English Laws in a neighbouring Province, establishing therein an Arbitrary government, and enlarging its Boundaries so as to render it at once an example and fit instrument for introducing the same absolute rule into these Colonies:\n",
        "\n",
        "For taking away our Charters, abolishing our most valuable Laws, and altering fundamentally the Forms of our Governments:\n",
        "\n",
        "For suspending our own Legislatures, and declaring themselves invested with power to legislate for us in all cases whatsoever.\n",
        "\n",
        "He has abdicated Government here, by declaring us out of his Protection and waging War against us.\n",
        "\n",
        "He has plundered our seas, ravaged our Coasts, burnt our towns, and destroyed the lives of our people.\n",
        "\n",
        "He is at this time transporting large Armies of foreign Mercenaries to compleat the works of death, desolation and tyranny, already begun with circumstances of Cruelty & perfidy scarcely paralleled in the most barbarous ages, and totally unworthy the Head of a civilized nation.\n",
        "\n",
        "He has constrained our fellow Citizens taken Captive on the high Seas to bear Arms against their Country, to become the executioners of their friends and Brethren, or to fall themselves by their Hands.\n",
        "\n",
        "He has excited domestic insurrections amongst us, and has endeavoured to bring on the inhabitants of our frontiers, the merciless Indian Savages, whose known rule of warfare, is an undistinguished destruction of all ages, sexes and conditions.\n",
        "\n",
        "In every stage of these Oppressions We have Petitioned for Redress in the most humble terms: Our repeated Petitions have been answered only by repeated injury. A Prince whose character is thus marked by every act which may define a Tyrant, is unfit to be the ruler of a free people.\n",
        "\n",
        "Nor have We been wanting in attentions to our Brittish brethren. We have warned them from time to time of attempts by their legislature to extend an unwarrantable jurisdiction over us. We have reminded them of the circumstances of our emigration and settlement here. We have appealed to their native justice and magnanimity, and we have conjured them by the ties of our common kindred to disavow these usurpations, which, would inevitably interrupt our connections and correspondence. They too have been deaf to the voice of justice and of consanguinity. We must, therefore, acquiesce in the necessity, which denounces our Separation, and hold them, as we hold the rest of mankind, Enemies in War, in Peace Friends.\n",
        "\n",
        "We, therefore, the Representatives of the united States of America, in General Congress, Assembled, appealing to the Supreme Judge of the world for the rectitude of our intentions, do, in the Name, and by Authority of the good People of these Colonies, solemnly publish and declare, That these United Colonies are, and of Right ought to be Free and Independent States; that they are Absolved from all Allegiance to the British Crown, and that all political connection between them and the State of Great Britain, is and ought to be totally dissolved; and that as Free and Independent States, they have full Power to levy War, conclude Peace, contract Alliances, establish Commerce, and to do all other Acts and Things which Independent States may of right do. And for the support of this Declaration, with a firm reliance on the protection of divine Providence, we mutually pledge to each other our Lives, our Fortunes and our sacred Honor.\"\"\""
      ],
      "metadata": {
        "id": "JK14-Lm4V0SW"
      },
      "execution_count": 28,
      "outputs": []
    },
    {
      "cell_type": "code",
      "source": [
        "import re\n",
        "\n",
        "def cleaner(text):\n",
        "    # lower case\n",
        "    newtext = text.lower()\n",
        "    newtext = re.sub(r\"'s\\b\",\"\",newtext)\n",
        "\n",
        "    # remove punctuation\n",
        "    newtext = re.sub(\"[^a-zA-Z]\", \" \", newtext)\n",
        "    long_words = []\n",
        "\n",
        "    # remove short words\n",
        "    for i in newtext.split():\n",
        "        if len(i) >= 3:\n",
        "            long_words.append(i)\n",
        "    return (\" \".join(long_words)).strip()\n",
        "\n",
        "data_new = cleaner(data_text)"
      ],
      "metadata": {
        "id": "nmZJs58-V7xL"
      },
      "execution_count": 31,
      "outputs": []
    },
    {
      "cell_type": "code",
      "source": [
        "data_new"
      ],
      "metadata": {
        "colab": {
          "base_uri": "https://localhost:8080/",
          "height": 208
        },
        "id": "dSyAlCoeYq5T",
        "outputId": "5c8df2cf-2935-461a-b58e-1ddebcab051a"
      },
      "execution_count": 32,
      "outputs": [
        {
          "output_type": "execute_result",
          "data": {
            "application/vnd.google.colaboratory.intrinsic+json": {
              "type": "string"
            },
            "text/plain": [
              "'the unanimous declaration the thirteen united states america when the course human events becomes necessary for one people dissolve the political bands which have connected them with another and assume among the powers the earth the separate and equal station which the laws nature and nature god entitle them decent respect the opinions mankind requires that they should declare the causes which impel them the separation hold these truths self evident that all men are created equal that they are endowed their creator with certain unalienable rights that among these are life liberty and the pursuit happiness that secure these rights governments are instituted among men deriving their just powers from the consent the governed that whenever any form government becomes destructive these ends the right the people alter abolish and institute new government laying its foundation such principles and organizing its powers such form them shall seem most likely effect their safety and happiness prudence indeed will dictate that governments long established should not changed for light and transient causes and accordingly all experience hath shewn that mankind are more disposed suffer while evils are sufferable than right themselves abolishing the forms which they are accustomed but when long train abuses and usurpations pursuing invariably the same object evinces design reduce them under absolute despotism their right their duty throw off such government and provide new guards for their future security such has been the patient sufferance these colonies and such now the necessity which constrains them alter their former systems government the history the present king great britain history repeated injuries and usurpations all having direct object the establishment absolute tyranny over these states prove this let facts submitted candid world has refused his assent laws the most wholesome and necessary for the public good has forbidden his governors pass laws immediate and pressing importance unless suspended their operation till his assent should obtained and when suspended has utterly neglected attend them has refused pass other laws for the accommodation large districts people unless those people would relinquish the right representation the legislature right inestimable them and formidable tyrants only has called together legislative bodies places unusual uncomfortable and distant from the depository their public records for the sole purpose fatiguing them into compliance with his measures has dissolved representative houses repeatedly for opposing with manly firmness his invasions the rights the people has refused for long time after such dissolutions cause others elected whereby the legislative powers incapable annihilation have returned the people large for their exercise the state remaining the mean time exposed all the dangers invasion from without and convulsions within has endeavoured prevent the population these states for that purpose obstructing the laws for naturalization foreigners refusing pass others encourage their migrations hither and raising the conditions new appropriations lands has obstructed the administration justice refusing his assent laws for establishing judiciary powers has made judges dependent his will alone for the tenure their offices and the amount and payment their salaries has erected multitude new offices and sent hither swarms officers harrass our people and eat out their substance has kept among times peace standing armies without the consent our legislatures has affected render the military independent and superior the civil power has combined with others subject jurisdiction foreign our constitution and unacknowledged our laws giving his assent their acts pretended legislation for quartering large bodies armed troops among for protecting them mock trial from punishment for any murders which they should commit the inhabitants these states for cutting off our trade with all parts the world for imposing taxes without our consent for depriving many cases the benefits trial jury for transporting beyond seas tried for pretended offences for abolishing the free system english laws neighbouring province establishing therein arbitrary government and enlarging its boundaries render once example and fit instrument for introducing the same absolute rule into these colonies for taking away our charters abolishing our most valuable laws and altering fundamentally the forms our governments for suspending our own legislatures and declaring themselves invested with power legislate for all cases whatsoever has abdicated government here declaring out his protection and waging war against has plundered our seas ravaged our coasts burnt our towns and destroyed the lives our people this time transporting large armies foreign mercenaries compleat the works death desolation and tyranny already begun with circumstances cruelty perfidy scarcely paralleled the most barbarous ages and totally unworthy the head civilized nation has constrained our fellow citizens taken captive the high seas bear arms against their country become the executioners their friends and brethren fall themselves their hands has excited domestic insurrections amongst and has endeavoured bring the inhabitants our frontiers the merciless indian savages whose known rule warfare undistinguished destruction all ages sexes and conditions every stage these oppressions have petitioned for redress the most humble terms our repeated petitions have been answered only repeated injury prince whose character thus marked every act which may define tyrant unfit the ruler free people nor have been wanting attentions our brittish brethren have warned them from time time attempts their legislature extend unwarrantable jurisdiction over have reminded them the circumstances our emigration and settlement here have appealed their native justice and magnanimity and have conjured them the ties our common kindred disavow these usurpations which would inevitably interrupt our connections and correspondence they too have been deaf the voice justice and consanguinity must therefore acquiesce the necessity which denounces our separation and hold them hold the rest mankind enemies war peace friends therefore the representatives the united states america general congress assembled appealing the supreme judge the world for the rectitude our intentions the name and authority the good people these colonies solemnly publish and declare that these united colonies are and right ought free and independent states that they are absolved from all allegiance the british crown and that all political connection between them and the state great britain and ought totally dissolved and that free and independent states they have full power levy war conclude peace contract alliances establish commerce and all other acts and things which independent states may right and for the support this declaration with firm reliance the protection divine providence mutually pledge each other our lives our fortunes and our sacred honor'"
            ]
          },
          "metadata": {},
          "execution_count": 32
        }
      ]
    },
    {
      "cell_type": "code",
      "source": [
        "def create_seq(text):\n",
        "    length = 30\n",
        "    sequences = list()\n",
        "\n",
        "    for i in range(length, len(text)):\n",
        "        # select seq of tokens\n",
        "        seq = text[i - length: i + 1]\n",
        "        \n",
        "        # store\n",
        "        sequences.append(seq)\n",
        "\n",
        "    print('Total Sequences: %d' %len(sequences))\n",
        "    return sequences\n",
        "\n",
        "# create seq.\n",
        "sequences = create_seq(data_new)\n",
        "\n"
      ],
      "metadata": {
        "colab": {
          "base_uri": "https://localhost:8080/"
        },
        "id": "CJixXsfHYwqf",
        "outputId": "e68eaf23-da39-485f-f562-77e65cca0656"
      },
      "execution_count": 35,
      "outputs": [
        {
          "output_type": "stream",
          "name": "stdout",
          "text": [
            "Total Sequences: 7052\n"
          ]
        }
      ]
    },
    {
      "cell_type": "code",
      "source": [
        "# encoding seq\n",
        "\n",
        "chars = sorted(list(set(data_new)))\n",
        "mapping = dict((c, i) for i, c in enumerate(chars))\n",
        "\n",
        "def encode_seq(seq):\n",
        "    sequences = list()\n",
        "    for line in seq:\n",
        "        # int encode line\n",
        "        encoded_seq = [mapping[char] for char in line]\n",
        "        # store\n",
        "        sequences.append(encoded_seq)\n",
        "\n",
        "    return sequences\n",
        "\n",
        "# encode the seqs.\n",
        "sequences = encode_seq(sequences)"
      ],
      "metadata": {
        "id": "XcPWq3cgcyr6"
      },
      "execution_count": 37,
      "outputs": []
    },
    {
      "cell_type": "code",
      "source": [
        "from sklearn.model_selection import train_test_split\n",
        "\n",
        "# vocab size\n",
        "vocab = len(mapping)\n",
        "sequences = np.array(sequences)\n",
        "\n",
        "# create X and y\n",
        "X, y = sequences[:, :-1], sequences[:, -1]\n",
        "\n",
        "# one hot encode y\n",
        "y = to_categorical(y, num_classes = vocab)\n",
        "\n",
        "# create train and valid sets\n",
        "X_tr, X_val, y_tr, y_val = train_test_split(X, y, test_size= 0.1, random_state = 42)\n",
        "\n",
        "print('Train shape:', X_tr.shape, 'Val shape', X_val.shape)"
      ],
      "metadata": {
        "colab": {
          "base_uri": "https://localhost:8080/"
        },
        "id": "Z3j5wFK2dqXd",
        "outputId": "51703c37-2221-4049-8e6c-1b1d2f0c45df"
      },
      "execution_count": 40,
      "outputs": [
        {
          "output_type": "stream",
          "name": "stdout",
          "text": [
            "Train shape: (6346, 30) Val shape (706, 30)\n"
          ]
        }
      ]
    },
    {
      "cell_type": "code",
      "source": [
        "# model\n",
        "\n",
        "model = Sequential()\n",
        "model.add(Embedding(vocab, 50, input_length=30, trainable = True))\n",
        "model.add(GRU(150, recurrent_dropout=0.1, dropout=0.1))\n",
        "model.add(Dense(vocab, activation='softmax'))\n",
        "\n",
        "print(model.summary())\n",
        "\n",
        "model.compile(loss = 'categorical_crossentropy', metrics = ['acc'], optimizer = 'adam')"
      ],
      "metadata": {
        "colab": {
          "base_uri": "https://localhost:8080/"
        },
        "id": "IV8firpnfdqH",
        "outputId": "34b1bc76-01aa-43d2-b8f9-7c8ed0dc9a1e"
      },
      "execution_count": 42,
      "outputs": [
        {
          "output_type": "stream",
          "name": "stdout",
          "text": [
            "Model: \"sequential_1\"\n",
            "_________________________________________________________________\n",
            " Layer (type)                Output Shape              Param #   \n",
            "=================================================================\n",
            " embedding_1 (Embedding)     (None, 30, 50)            1350      \n",
            "                                                                 \n",
            " gru_1 (GRU)                 (None, 150)               90900     \n",
            "                                                                 \n",
            " dense_1 (Dense)             (None, 27)                4077      \n",
            "                                                                 \n",
            "=================================================================\n",
            "Total params: 96,327\n",
            "Trainable params: 96,327\n",
            "Non-trainable params: 0\n",
            "_________________________________________________________________\n",
            "None\n"
          ]
        }
      ]
    },
    {
      "cell_type": "code",
      "source": [
        "model.fit(X_tr, y_tr, epochs = 100, verbose = 2, validation_data = (X_val, y_val))"
      ],
      "metadata": {
        "colab": {
          "base_uri": "https://localhost:8080/"
        },
        "id": "kUXW1KWnhUwP",
        "outputId": "4ae38577-f839-4efb-eb00-1a8ad18294d1"
      },
      "execution_count": 43,
      "outputs": [
        {
          "output_type": "stream",
          "name": "stdout",
          "text": [
            "Epoch 1/100\n",
            "199/199 - 20s - loss: 2.7464 - acc: 0.2067 - val_loss: 2.3961 - val_acc: 0.2989 - 20s/epoch - 101ms/step\n",
            "Epoch 2/100\n",
            "199/199 - 17s - loss: 2.2967 - acc: 0.3256 - val_loss: 2.2295 - val_acc: 0.3329 - 17s/epoch - 84ms/step\n",
            "Epoch 3/100\n",
            "199/199 - 17s - loss: 2.1647 - acc: 0.3569 - val_loss: 2.1428 - val_acc: 0.3768 - 17s/epoch - 84ms/step\n",
            "Epoch 4/100\n",
            "199/199 - 17s - loss: 2.0625 - acc: 0.3840 - val_loss: 2.0860 - val_acc: 0.3839 - 17s/epoch - 83ms/step\n",
            "Epoch 5/100\n",
            "199/199 - 17s - loss: 1.9800 - acc: 0.4092 - val_loss: 2.0456 - val_acc: 0.4008 - 17s/epoch - 83ms/step\n",
            "Epoch 6/100\n",
            "199/199 - 17s - loss: 1.8948 - acc: 0.4354 - val_loss: 2.0058 - val_acc: 0.4164 - 17s/epoch - 83ms/step\n",
            "Epoch 7/100\n",
            "199/199 - 17s - loss: 1.8218 - acc: 0.4527 - val_loss: 1.9673 - val_acc: 0.4433 - 17s/epoch - 83ms/step\n",
            "Epoch 8/100\n",
            "199/199 - 17s - loss: 1.7421 - acc: 0.4754 - val_loss: 1.9260 - val_acc: 0.4462 - 17s/epoch - 83ms/step\n",
            "Epoch 9/100\n",
            "199/199 - 17s - loss: 1.6781 - acc: 0.4973 - val_loss: 1.9037 - val_acc: 0.4603 - 17s/epoch - 83ms/step\n",
            "Epoch 10/100\n",
            "199/199 - 17s - loss: 1.6043 - acc: 0.5173 - val_loss: 1.8990 - val_acc: 0.4646 - 17s/epoch - 83ms/step\n",
            "Epoch 11/100\n",
            "199/199 - 17s - loss: 1.5329 - acc: 0.5389 - val_loss: 1.8795 - val_acc: 0.4745 - 17s/epoch - 83ms/step\n",
            "Epoch 12/100\n",
            "199/199 - 17s - loss: 1.4673 - acc: 0.5588 - val_loss: 1.8574 - val_acc: 0.4717 - 17s/epoch - 83ms/step\n",
            "Epoch 13/100\n",
            "199/199 - 17s - loss: 1.4074 - acc: 0.5736 - val_loss: 1.8675 - val_acc: 0.4773 - 17s/epoch - 84ms/step\n",
            "Epoch 14/100\n",
            "199/199 - 17s - loss: 1.3407 - acc: 0.5893 - val_loss: 1.8649 - val_acc: 0.5028 - 17s/epoch - 84ms/step\n",
            "Epoch 15/100\n",
            "199/199 - 17s - loss: 1.2822 - acc: 0.6070 - val_loss: 1.8581 - val_acc: 0.4972 - 17s/epoch - 84ms/step\n",
            "Epoch 16/100\n",
            "199/199 - 17s - loss: 1.2228 - acc: 0.6232 - val_loss: 1.8756 - val_acc: 0.4986 - 17s/epoch - 84ms/step\n",
            "Epoch 17/100\n",
            "199/199 - 17s - loss: 1.1759 - acc: 0.6357 - val_loss: 1.8740 - val_acc: 0.5085 - 17s/epoch - 83ms/step\n",
            "Epoch 18/100\n",
            "199/199 - 17s - loss: 1.1170 - acc: 0.6546 - val_loss: 1.9002 - val_acc: 0.4915 - 17s/epoch - 84ms/step\n",
            "Epoch 19/100\n",
            "199/199 - 17s - loss: 1.0720 - acc: 0.6708 - val_loss: 1.9099 - val_acc: 0.4873 - 17s/epoch - 84ms/step\n",
            "Epoch 20/100\n",
            "199/199 - 17s - loss: 1.0308 - acc: 0.6828 - val_loss: 1.9219 - val_acc: 0.4929 - 17s/epoch - 84ms/step\n",
            "Epoch 21/100\n",
            "199/199 - 17s - loss: 0.9847 - acc: 0.6967 - val_loss: 1.9184 - val_acc: 0.4943 - 17s/epoch - 83ms/step\n",
            "Epoch 22/100\n",
            "199/199 - 17s - loss: 0.9466 - acc: 0.7019 - val_loss: 1.9354 - val_acc: 0.4972 - 17s/epoch - 83ms/step\n",
            "Epoch 23/100\n",
            "199/199 - 17s - loss: 0.9039 - acc: 0.7160 - val_loss: 1.9887 - val_acc: 0.4873 - 17s/epoch - 84ms/step\n",
            "Epoch 24/100\n",
            "199/199 - 17s - loss: 0.8760 - acc: 0.7307 - val_loss: 1.9905 - val_acc: 0.4972 - 17s/epoch - 83ms/step\n",
            "Epoch 25/100\n",
            "199/199 - 17s - loss: 0.8463 - acc: 0.7337 - val_loss: 1.9741 - val_acc: 0.4958 - 17s/epoch - 84ms/step\n",
            "Epoch 26/100\n",
            "199/199 - 17s - loss: 0.8159 - acc: 0.7476 - val_loss: 2.0189 - val_acc: 0.4887 - 17s/epoch - 84ms/step\n",
            "Epoch 27/100\n",
            "199/199 - 17s - loss: 0.7833 - acc: 0.7548 - val_loss: 2.0558 - val_acc: 0.4887 - 17s/epoch - 83ms/step\n",
            "Epoch 28/100\n",
            "199/199 - 17s - loss: 0.7597 - acc: 0.7587 - val_loss: 2.0788 - val_acc: 0.4844 - 17s/epoch - 83ms/step\n",
            "Epoch 29/100\n",
            "199/199 - 17s - loss: 0.7296 - acc: 0.7731 - val_loss: 2.1050 - val_acc: 0.4958 - 17s/epoch - 83ms/step\n",
            "Epoch 30/100\n",
            "199/199 - 17s - loss: 0.7001 - acc: 0.7813 - val_loss: 2.1225 - val_acc: 0.5028 - 17s/epoch - 83ms/step\n",
            "Epoch 31/100\n",
            "199/199 - 17s - loss: 0.6761 - acc: 0.7882 - val_loss: 2.1293 - val_acc: 0.4986 - 17s/epoch - 83ms/step\n",
            "Epoch 32/100\n",
            "199/199 - 17s - loss: 0.6677 - acc: 0.7888 - val_loss: 2.1880 - val_acc: 0.4929 - 17s/epoch - 84ms/step\n",
            "Epoch 33/100\n",
            "199/199 - 17s - loss: 0.6491 - acc: 0.7931 - val_loss: 2.2057 - val_acc: 0.5000 - 17s/epoch - 83ms/step\n",
            "Epoch 34/100\n",
            "199/199 - 17s - loss: 0.6291 - acc: 0.8027 - val_loss: 2.2381 - val_acc: 0.4873 - 17s/epoch - 84ms/step\n",
            "Epoch 35/100\n",
            "199/199 - 17s - loss: 0.6148 - acc: 0.8063 - val_loss: 2.2557 - val_acc: 0.4943 - 17s/epoch - 83ms/step\n",
            "Epoch 36/100\n",
            "199/199 - 17s - loss: 0.5842 - acc: 0.8147 - val_loss: 2.2615 - val_acc: 0.4972 - 17s/epoch - 83ms/step\n",
            "Epoch 37/100\n",
            "199/199 - 17s - loss: 0.5819 - acc: 0.8159 - val_loss: 2.2825 - val_acc: 0.4958 - 17s/epoch - 84ms/step\n",
            "Epoch 38/100\n",
            "199/199 - 19s - loss: 0.5624 - acc: 0.8178 - val_loss: 2.3247 - val_acc: 0.4844 - 19s/epoch - 94ms/step\n",
            "Epoch 39/100\n",
            "199/199 - 17s - loss: 0.5473 - acc: 0.8241 - val_loss: 2.3362 - val_acc: 0.4958 - 17s/epoch - 84ms/step\n",
            "Epoch 40/100\n",
            "199/199 - 17s - loss: 0.5379 - acc: 0.8323 - val_loss: 2.3789 - val_acc: 0.4929 - 17s/epoch - 84ms/step\n",
            "Epoch 41/100\n",
            "199/199 - 17s - loss: 0.5280 - acc: 0.8338 - val_loss: 2.3858 - val_acc: 0.4873 - 17s/epoch - 84ms/step\n",
            "Epoch 42/100\n",
            "199/199 - 17s - loss: 0.5110 - acc: 0.8364 - val_loss: 2.4172 - val_acc: 0.5000 - 17s/epoch - 84ms/step\n",
            "Epoch 43/100\n",
            "199/199 - 17s - loss: 0.5031 - acc: 0.8396 - val_loss: 2.4568 - val_acc: 0.4830 - 17s/epoch - 84ms/step\n",
            "Epoch 44/100\n",
            "199/199 - 17s - loss: 0.4913 - acc: 0.8467 - val_loss: 2.4731 - val_acc: 0.4943 - 17s/epoch - 84ms/step\n",
            "Epoch 45/100\n",
            "199/199 - 17s - loss: 0.4837 - acc: 0.8454 - val_loss: 2.4979 - val_acc: 0.4929 - 17s/epoch - 84ms/step\n",
            "Epoch 46/100\n",
            "199/199 - 17s - loss: 0.4702 - acc: 0.8484 - val_loss: 2.5410 - val_acc: 0.4844 - 17s/epoch - 84ms/step\n",
            "Epoch 47/100\n",
            "199/199 - 17s - loss: 0.4733 - acc: 0.8514 - val_loss: 2.5435 - val_acc: 0.4788 - 17s/epoch - 84ms/step\n",
            "Epoch 48/100\n",
            "199/199 - 17s - loss: 0.4617 - acc: 0.8561 - val_loss: 2.5609 - val_acc: 0.4731 - 17s/epoch - 84ms/step\n",
            "Epoch 49/100\n",
            "199/199 - 17s - loss: 0.4441 - acc: 0.8582 - val_loss: 2.6101 - val_acc: 0.4802 - 17s/epoch - 84ms/step\n",
            "Epoch 50/100\n",
            "199/199 - 17s - loss: 0.4302 - acc: 0.8604 - val_loss: 2.6328 - val_acc: 0.4674 - 17s/epoch - 83ms/step\n",
            "Epoch 51/100\n",
            "199/199 - 17s - loss: 0.4407 - acc: 0.8594 - val_loss: 2.6611 - val_acc: 0.4759 - 17s/epoch - 84ms/step\n",
            "Epoch 52/100\n",
            "199/199 - 17s - loss: 0.4168 - acc: 0.8711 - val_loss: 2.6665 - val_acc: 0.4773 - 17s/epoch - 84ms/step\n",
            "Epoch 53/100\n",
            "199/199 - 17s - loss: 0.4085 - acc: 0.8689 - val_loss: 2.6621 - val_acc: 0.4887 - 17s/epoch - 84ms/step\n",
            "Epoch 54/100\n",
            "199/199 - 17s - loss: 0.4019 - acc: 0.8698 - val_loss: 2.6586 - val_acc: 0.4901 - 17s/epoch - 84ms/step\n",
            "Epoch 55/100\n",
            "199/199 - 17s - loss: 0.4151 - acc: 0.8691 - val_loss: 2.6933 - val_acc: 0.4816 - 17s/epoch - 84ms/step\n",
            "Epoch 56/100\n",
            "199/199 - 17s - loss: 0.3938 - acc: 0.8733 - val_loss: 2.7322 - val_acc: 0.4887 - 17s/epoch - 84ms/step\n",
            "Epoch 57/100\n",
            "199/199 - 17s - loss: 0.3777 - acc: 0.8799 - val_loss: 2.7479 - val_acc: 0.4773 - 17s/epoch - 84ms/step\n",
            "Epoch 58/100\n",
            "199/199 - 17s - loss: 0.3981 - acc: 0.8695 - val_loss: 2.7878 - val_acc: 0.4703 - 17s/epoch - 84ms/step\n",
            "Epoch 59/100\n",
            "199/199 - 17s - loss: 0.3971 - acc: 0.8716 - val_loss: 2.7999 - val_acc: 0.4773 - 17s/epoch - 84ms/step\n",
            "Epoch 60/100\n",
            "199/199 - 17s - loss: 0.3736 - acc: 0.8832 - val_loss: 2.8038 - val_acc: 0.4816 - 17s/epoch - 84ms/step\n",
            "Epoch 61/100\n",
            "199/199 - 17s - loss: 0.3773 - acc: 0.8766 - val_loss: 2.7939 - val_acc: 0.4717 - 17s/epoch - 84ms/step\n",
            "Epoch 62/100\n",
            "199/199 - 17s - loss: 0.3772 - acc: 0.8741 - val_loss: 2.8508 - val_acc: 0.4674 - 17s/epoch - 84ms/step\n",
            "Epoch 63/100\n",
            "199/199 - 17s - loss: 0.3610 - acc: 0.8834 - val_loss: 2.8363 - val_acc: 0.4759 - 17s/epoch - 83ms/step\n",
            "Epoch 64/100\n",
            "199/199 - 17s - loss: 0.3618 - acc: 0.8845 - val_loss: 2.8653 - val_acc: 0.4759 - 17s/epoch - 84ms/step\n",
            "Epoch 65/100\n",
            "199/199 - 17s - loss: 0.3584 - acc: 0.8809 - val_loss: 2.8519 - val_acc: 0.4773 - 17s/epoch - 83ms/step\n",
            "Epoch 66/100\n",
            "199/199 - 17s - loss: 0.3442 - acc: 0.8878 - val_loss: 2.8909 - val_acc: 0.4788 - 17s/epoch - 83ms/step\n",
            "Epoch 67/100\n",
            "199/199 - 17s - loss: 0.3465 - acc: 0.8862 - val_loss: 2.9185 - val_acc: 0.4830 - 17s/epoch - 83ms/step\n",
            "Epoch 68/100\n",
            "199/199 - 17s - loss: 0.3315 - acc: 0.8962 - val_loss: 2.9414 - val_acc: 0.4816 - 17s/epoch - 84ms/step\n",
            "Epoch 69/100\n",
            "199/199 - 17s - loss: 0.3399 - acc: 0.8930 - val_loss: 2.9764 - val_acc: 0.4830 - 17s/epoch - 83ms/step\n",
            "Epoch 70/100\n",
            "199/199 - 17s - loss: 0.3443 - acc: 0.8867 - val_loss: 2.9685 - val_acc: 0.4929 - 17s/epoch - 83ms/step\n",
            "Epoch 71/100\n",
            "199/199 - 17s - loss: 0.3426 - acc: 0.8847 - val_loss: 3.0577 - val_acc: 0.4731 - 17s/epoch - 84ms/step\n",
            "Epoch 72/100\n",
            "199/199 - 17s - loss: 0.3288 - acc: 0.8922 - val_loss: 3.0306 - val_acc: 0.4703 - 17s/epoch - 83ms/step\n",
            "Epoch 73/100\n",
            "199/199 - 17s - loss: 0.3319 - acc: 0.8905 - val_loss: 3.0108 - val_acc: 0.4674 - 17s/epoch - 84ms/step\n",
            "Epoch 74/100\n",
            "199/199 - 17s - loss: 0.3267 - acc: 0.8941 - val_loss: 3.0477 - val_acc: 0.4844 - 17s/epoch - 86ms/step\n",
            "Epoch 75/100\n",
            "199/199 - 18s - loss: 0.3090 - acc: 0.8993 - val_loss: 3.1117 - val_acc: 0.4745 - 18s/epoch - 91ms/step\n",
            "Epoch 76/100\n",
            "199/199 - 17s - loss: 0.3172 - acc: 0.8930 - val_loss: 3.1355 - val_acc: 0.4589 - 17s/epoch - 83ms/step\n",
            "Epoch 77/100\n",
            "199/199 - 17s - loss: 0.3162 - acc: 0.8943 - val_loss: 3.1064 - val_acc: 0.4830 - 17s/epoch - 84ms/step\n",
            "Epoch 78/100\n",
            "199/199 - 17s - loss: 0.3017 - acc: 0.9031 - val_loss: 3.1216 - val_acc: 0.4816 - 17s/epoch - 84ms/step\n",
            "Epoch 79/100\n",
            "199/199 - 17s - loss: 0.3047 - acc: 0.8979 - val_loss: 3.1429 - val_acc: 0.4802 - 17s/epoch - 84ms/step\n",
            "Epoch 80/100\n",
            "199/199 - 17s - loss: 0.2980 - acc: 0.8985 - val_loss: 3.1396 - val_acc: 0.4773 - 17s/epoch - 83ms/step\n",
            "Epoch 81/100\n",
            "199/199 - 17s - loss: 0.2982 - acc: 0.9026 - val_loss: 3.1807 - val_acc: 0.4688 - 17s/epoch - 83ms/step\n",
            "Epoch 82/100\n",
            "199/199 - 17s - loss: 0.2996 - acc: 0.9015 - val_loss: 3.1482 - val_acc: 0.4660 - 17s/epoch - 84ms/step\n",
            "Epoch 83/100\n",
            "199/199 - 17s - loss: 0.3011 - acc: 0.9025 - val_loss: 3.2425 - val_acc: 0.4688 - 17s/epoch - 84ms/step\n",
            "Epoch 84/100\n",
            "199/199 - 17s - loss: 0.3095 - acc: 0.8984 - val_loss: 3.2359 - val_acc: 0.4632 - 17s/epoch - 83ms/step\n",
            "Epoch 85/100\n",
            "199/199 - 17s - loss: 0.2894 - acc: 0.9088 - val_loss: 3.2554 - val_acc: 0.4632 - 17s/epoch - 83ms/step\n",
            "Epoch 86/100\n",
            "199/199 - 17s - loss: 0.2933 - acc: 0.9007 - val_loss: 3.2718 - val_acc: 0.4561 - 17s/epoch - 84ms/step\n",
            "Epoch 87/100\n",
            "199/199 - 17s - loss: 0.2894 - acc: 0.9043 - val_loss: 3.2279 - val_acc: 0.4703 - 17s/epoch - 83ms/step\n",
            "Epoch 88/100\n",
            "199/199 - 17s - loss: 0.2891 - acc: 0.9045 - val_loss: 3.2576 - val_acc: 0.4731 - 17s/epoch - 83ms/step\n",
            "Epoch 89/100\n",
            "199/199 - 17s - loss: 0.2798 - acc: 0.9097 - val_loss: 3.3114 - val_acc: 0.4674 - 17s/epoch - 83ms/step\n",
            "Epoch 90/100\n",
            "199/199 - 17s - loss: 0.2860 - acc: 0.9062 - val_loss: 3.2920 - val_acc: 0.4603 - 17s/epoch - 83ms/step\n",
            "Epoch 91/100\n",
            "199/199 - 17s - loss: 0.2815 - acc: 0.9059 - val_loss: 3.3274 - val_acc: 0.4575 - 17s/epoch - 83ms/step\n",
            "Epoch 92/100\n",
            "199/199 - 17s - loss: 0.2948 - acc: 0.8998 - val_loss: 3.2887 - val_acc: 0.4589 - 17s/epoch - 83ms/step\n",
            "Epoch 93/100\n",
            "199/199 - 17s - loss: 0.2716 - acc: 0.9092 - val_loss: 3.3374 - val_acc: 0.4490 - 17s/epoch - 83ms/step\n",
            "Epoch 94/100\n",
            "199/199 - 17s - loss: 0.2728 - acc: 0.9092 - val_loss: 3.3321 - val_acc: 0.4646 - 17s/epoch - 83ms/step\n",
            "Epoch 95/100\n",
            "199/199 - 17s - loss: 0.2649 - acc: 0.9146 - val_loss: 3.3507 - val_acc: 0.4476 - 17s/epoch - 83ms/step\n",
            "Epoch 96/100\n",
            "199/199 - 17s - loss: 0.2705 - acc: 0.9118 - val_loss: 3.3346 - val_acc: 0.4674 - 17s/epoch - 84ms/step\n",
            "Epoch 97/100\n",
            "199/199 - 17s - loss: 0.2592 - acc: 0.9165 - val_loss: 3.4072 - val_acc: 0.4589 - 17s/epoch - 84ms/step\n",
            "Epoch 98/100\n",
            "199/199 - 17s - loss: 0.2737 - acc: 0.9048 - val_loss: 3.4372 - val_acc: 0.4618 - 17s/epoch - 83ms/step\n",
            "Epoch 99/100\n",
            "199/199 - 17s - loss: 0.2777 - acc: 0.9075 - val_loss: 3.4246 - val_acc: 0.4660 - 17s/epoch - 83ms/step\n",
            "Epoch 100/100\n",
            "199/199 - 17s - loss: 0.2673 - acc: 0.9110 - val_loss: 3.4403 - val_acc: 0.4717 - 17s/epoch - 83ms/step\n"
          ]
        },
        {
          "output_type": "execute_result",
          "data": {
            "text/plain": [
              "<keras.callbacks.History at 0x7fc3419a55d0>"
            ]
          },
          "metadata": {},
          "execution_count": 43
        }
      ]
    },
    {
      "cell_type": "code",
      "source": [
        "# generating sequences\n",
        "\n",
        "def generate_seq(model, mapping, seq_length, seed_text, n_chars):\n",
        "    in_text = seed_text\n",
        "\n",
        "    # generate a fixed number of chars\n",
        "    for _ in range(n_chars):\n",
        "        # encode the chars as integers\n",
        "        encoded = [mapping[char] for char in in_text]\n",
        "\n",
        "        # truncate sequences to fixed length\n",
        "        encoded = pad_sequences([encoded], maxlen=seq_length, truncating = 'pre')\n",
        "\n",
        "        # predict character\n",
        "        yhat = model.predict(encoded, verbose = 0)\n",
        "\n",
        "        # reverse map integer to character\n",
        "        out_char = ''\n",
        "        for char, index in mapping.items():\n",
        "            if index == yhat:\n",
        "                out_char = char\n",
        "                break\n",
        "\n",
        "        # append to input\n",
        "        in_text += char\n",
        "    \n",
        "    return in_text"
      ],
      "metadata": {
        "id": "i4r7p1AUiQpg"
      },
      "execution_count": 62,
      "outputs": []
    },
    {
      "cell_type": "code",
      "source": [
        "inp = 'large groups'\n",
        "print(len(inp))\n",
        "print(generate_seq(model, mapping, 30, inp.lower(), 15))"
      ],
      "metadata": {
        "colab": {
          "base_uri": "https://localhost:8080/",
          "height": 351
        },
        "id": "KJgAg8Vi0v6O",
        "outputId": "878d9bac-5e9e-4864-8f62-e19a6750cdac"
      },
      "execution_count": 63,
      "outputs": [
        {
          "output_type": "stream",
          "name": "stdout",
          "text": [
            "12\n"
          ]
        },
        {
          "output_type": "error",
          "ename": "ValueError",
          "evalue": "ignored",
          "traceback": [
            "\u001b[0;31m---------------------------------------------------------------------------\u001b[0m",
            "\u001b[0;31mValueError\u001b[0m                                Traceback (most recent call last)",
            "\u001b[0;32m<ipython-input-63-1bbc06ae4015>\u001b[0m in \u001b[0;36m<module>\u001b[0;34m()\u001b[0m\n\u001b[1;32m      1\u001b[0m \u001b[0minp\u001b[0m \u001b[0;34m=\u001b[0m \u001b[0;34m'large groups'\u001b[0m\u001b[0;34m\u001b[0m\u001b[0;34m\u001b[0m\u001b[0m\n\u001b[1;32m      2\u001b[0m \u001b[0mprint\u001b[0m\u001b[0;34m(\u001b[0m\u001b[0mlen\u001b[0m\u001b[0;34m(\u001b[0m\u001b[0minp\u001b[0m\u001b[0;34m)\u001b[0m\u001b[0;34m)\u001b[0m\u001b[0;34m\u001b[0m\u001b[0;34m\u001b[0m\u001b[0m\n\u001b[0;32m----> 3\u001b[0;31m \u001b[0mprint\u001b[0m\u001b[0;34m(\u001b[0m\u001b[0mgenerate_seq\u001b[0m\u001b[0;34m(\u001b[0m\u001b[0mmodel\u001b[0m\u001b[0;34m,\u001b[0m \u001b[0mmapping\u001b[0m\u001b[0;34m,\u001b[0m \u001b[0;36m30\u001b[0m\u001b[0;34m,\u001b[0m \u001b[0minp\u001b[0m\u001b[0;34m.\u001b[0m\u001b[0mlower\u001b[0m\u001b[0;34m(\u001b[0m\u001b[0;34m)\u001b[0m\u001b[0;34m,\u001b[0m \u001b[0;36m15\u001b[0m\u001b[0;34m)\u001b[0m\u001b[0;34m)\u001b[0m\u001b[0;34m\u001b[0m\u001b[0;34m\u001b[0m\u001b[0m\n\u001b[0m",
            "\u001b[0;32m<ipython-input-62-71208f48ae52>\u001b[0m in \u001b[0;36mgenerate_seq\u001b[0;34m(model, mapping, seq_length, seed_text, n_chars)\u001b[0m\n\u001b[1;32m     13\u001b[0m                 \u001b[0mout_char\u001b[0m \u001b[0;34m=\u001b[0m \u001b[0;34m''\u001b[0m\u001b[0;34m\u001b[0m\u001b[0;34m\u001b[0m\u001b[0m\n\u001b[1;32m     14\u001b[0m                 \u001b[0;32mfor\u001b[0m \u001b[0mchar\u001b[0m\u001b[0;34m,\u001b[0m \u001b[0mindex\u001b[0m \u001b[0;32min\u001b[0m \u001b[0mmapping\u001b[0m\u001b[0;34m.\u001b[0m\u001b[0mitems\u001b[0m\u001b[0;34m(\u001b[0m\u001b[0;34m)\u001b[0m\u001b[0;34m:\u001b[0m\u001b[0;34m\u001b[0m\u001b[0;34m\u001b[0m\u001b[0m\n\u001b[0;32m---> 15\u001b[0;31m                         \u001b[0;32mif\u001b[0m \u001b[0mindex\u001b[0m \u001b[0;34m==\u001b[0m \u001b[0myhat\u001b[0m\u001b[0;34m:\u001b[0m\u001b[0;34m\u001b[0m\u001b[0;34m\u001b[0m\u001b[0m\n\u001b[0m\u001b[1;32m     16\u001b[0m                                 \u001b[0mout_char\u001b[0m \u001b[0;34m=\u001b[0m \u001b[0mchar\u001b[0m\u001b[0;34m\u001b[0m\u001b[0;34m\u001b[0m\u001b[0m\n\u001b[1;32m     17\u001b[0m                                 \u001b[0;32mbreak\u001b[0m\u001b[0;34m\u001b[0m\u001b[0;34m\u001b[0m\u001b[0m\n",
            "\u001b[0;31mValueError\u001b[0m: The truth value of an array with more than one element is ambiguous. Use a.any() or a.all()"
          ]
        }
      ]
    },
    {
      "cell_type": "markdown",
      "source": [
        "-----"
      ],
      "metadata": {
        "id": "2F86xXcU0ujz"
      }
    },
    {
      "cell_type": "code",
      "source": [
        "model.save('model1.h5')"
      ],
      "metadata": {
        "id": "Hxzuk9Psq7LP"
      },
      "execution_count": 45,
      "outputs": []
    },
    {
      "cell_type": "code",
      "source": [
        "!sudo apt-get install graphviz && pip3 install graphviz"
      ],
      "metadata": {
        "colab": {
          "base_uri": "https://localhost:8080/"
        },
        "id": "Lh0pZsV-sAXD",
        "outputId": "b8e90a1c-689d-48d8-93d6-ae5be3d27d7a"
      },
      "execution_count": 46,
      "outputs": [
        {
          "output_type": "stream",
          "name": "stdout",
          "text": [
            "Reading package lists... Done\n",
            "Building dependency tree       \n",
            "Reading state information... Done\n",
            "graphviz is already the newest version (2.40.1-2).\n",
            "0 upgraded, 0 newly installed, 0 to remove and 37 not upgraded.\n",
            "Requirement already satisfied: graphviz in /usr/local/lib/python3.7/dist-packages (0.10.1)\n"
          ]
        }
      ]
    },
    {
      "cell_type": "code",
      "source": [
        "!pip3 install ann_visualizer --quiet"
      ],
      "metadata": {
        "colab": {
          "base_uri": "https://localhost:8080/"
        },
        "id": "S0r6xJEwsI8k",
        "outputId": "eb6aef70-471a-4e6c-bddd-7f56801a31ae"
      },
      "execution_count": 51,
      "outputs": [
        {
          "output_type": "stream",
          "name": "stdout",
          "text": [
            "  Building wheel for ann-visualizer (setup.py) ... \u001b[?25l\u001b[?25hdone\n"
          ]
        }
      ]
    },
    {
      "cell_type": "code",
      "source": [
        "from ann_visualizer.visualize import ann_viz;\n",
        "#Build your model here\n",
        "ann_viz(model)"
      ],
      "metadata": {
        "colab": {
          "base_uri": "https://localhost:8080/",
          "height": 351
        },
        "id": "FEbVBohMsDhX",
        "outputId": "8b345e40-c992-4999-ec22-7a5179428f61"
      },
      "execution_count": 53,
      "outputs": [
        {
          "output_type": "error",
          "ename": "ValueError",
          "evalue": "ignored",
          "traceback": [
            "\u001b[0;31m---------------------------------------------------------------------------\u001b[0m",
            "\u001b[0;31mValueError\u001b[0m                                Traceback (most recent call last)",
            "\u001b[0;32m<ipython-input-53-b3e251b611d9>\u001b[0m in \u001b[0;36m<module>\u001b[0;34m()\u001b[0m\n\u001b[1;32m      1\u001b[0m \u001b[0;32mfrom\u001b[0m \u001b[0mann_visualizer\u001b[0m\u001b[0;34m.\u001b[0m\u001b[0mvisualize\u001b[0m \u001b[0;32mimport\u001b[0m \u001b[0mann_viz\u001b[0m\u001b[0;34m;\u001b[0m\u001b[0;34m\u001b[0m\u001b[0;34m\u001b[0m\u001b[0m\n\u001b[1;32m      2\u001b[0m \u001b[0;31m#Build your model here\u001b[0m\u001b[0;34m\u001b[0m\u001b[0;34m\u001b[0m\u001b[0;34m\u001b[0m\u001b[0m\n\u001b[0;32m----> 3\u001b[0;31m \u001b[0mann_viz\u001b[0m\u001b[0;34m(\u001b[0m\u001b[0mmodel\u001b[0m\u001b[0;34m)\u001b[0m\u001b[0;34m\u001b[0m\u001b[0;34m\u001b[0m\u001b[0m\n\u001b[0m",
            "\u001b[0;32m/usr/local/lib/python3.7/dist-packages/ann_visualizer/visualize.py\u001b[0m in \u001b[0;36mann_viz\u001b[0;34m(model, view, filename, title)\u001b[0m\n\u001b[1;32m    121\u001b[0m                 \u001b[0mc\u001b[0m\u001b[0;34m.\u001b[0m\u001b[0mnode\u001b[0m\u001b[0;34m(\u001b[0m\u001b[0mstr\u001b[0m\u001b[0;34m(\u001b[0m\u001b[0mn\u001b[0m\u001b[0;34m)\u001b[0m\u001b[0;34m,\u001b[0m \u001b[0mlabel\u001b[0m\u001b[0;34m=\u001b[0m\u001b[0;34m\"Image\\n\"\u001b[0m\u001b[0;34m+\u001b[0m\u001b[0mpxls\u001b[0m\u001b[0;34m[\u001b[0m\u001b[0;36m1\u001b[0m\u001b[0;34m]\u001b[0m\u001b[0;34m+\u001b[0m\u001b[0;34m\" x\"\u001b[0m\u001b[0;34m+\u001b[0m\u001b[0mpxls\u001b[0m\u001b[0;34m[\u001b[0m\u001b[0;36m2\u001b[0m\u001b[0;34m]\u001b[0m\u001b[0;34m+\u001b[0m\u001b[0;34m\" pixels\\n\"\u001b[0m\u001b[0;34m+\u001b[0m\u001b[0mclrmap\u001b[0m\u001b[0;34m,\u001b[0m \u001b[0mfontcolor\u001b[0m\u001b[0;34m=\u001b[0m\u001b[0;34m\"white\"\u001b[0m\u001b[0;34m)\u001b[0m\u001b[0;34m;\u001b[0m\u001b[0;34m\u001b[0m\u001b[0;34m\u001b[0m\u001b[0m\n\u001b[1;32m    122\u001b[0m             \u001b[0;32melse\u001b[0m\u001b[0;34m:\u001b[0m\u001b[0;34m\u001b[0m\u001b[0;34m\u001b[0m\u001b[0m\n\u001b[0;32m--> 123\u001b[0;31m                 \u001b[0;32mraise\u001b[0m \u001b[0mValueError\u001b[0m\u001b[0;34m(\u001b[0m\u001b[0;34m\"ANN Visualizer: Layer not supported for visualizing\"\u001b[0m\u001b[0;34m)\u001b[0m\u001b[0;34m;\u001b[0m\u001b[0;34m\u001b[0m\u001b[0;34m\u001b[0m\u001b[0m\n\u001b[0m\u001b[1;32m    124\u001b[0m         \u001b[0;32mfor\u001b[0m \u001b[0mi\u001b[0m \u001b[0;32min\u001b[0m \u001b[0mrange\u001b[0m\u001b[0;34m(\u001b[0m\u001b[0;36m0\u001b[0m\u001b[0;34m,\u001b[0m \u001b[0mhidden_layers_nr\u001b[0m\u001b[0;34m)\u001b[0m\u001b[0;34m:\u001b[0m\u001b[0;34m\u001b[0m\u001b[0;34m\u001b[0m\u001b[0m\n\u001b[1;32m    125\u001b[0m             \u001b[0;32mwith\u001b[0m \u001b[0mg\u001b[0m\u001b[0;34m.\u001b[0m\u001b[0msubgraph\u001b[0m\u001b[0;34m(\u001b[0m\u001b[0mname\u001b[0m\u001b[0;34m=\u001b[0m\u001b[0;34m\"cluster_\"\u001b[0m\u001b[0;34m+\u001b[0m\u001b[0mstr\u001b[0m\u001b[0;34m(\u001b[0m\u001b[0mi\u001b[0m\u001b[0;34m+\u001b[0m\u001b[0;36m1\u001b[0m\u001b[0;34m)\u001b[0m\u001b[0;34m)\u001b[0m \u001b[0;32mas\u001b[0m \u001b[0mc\u001b[0m\u001b[0;34m:\u001b[0m\u001b[0;34m\u001b[0m\u001b[0;34m\u001b[0m\u001b[0m\n",
            "\u001b[0;31mValueError\u001b[0m: ANN Visualizer: Layer not supported for visualizing"
          ]
        }
      ]
    }
  ]
}