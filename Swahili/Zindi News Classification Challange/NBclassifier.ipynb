{
 "cells": [
  {
   "cell_type": "code",
   "execution_count": 1,
   "source": [
    "import pandas as pd\n",
    "df = pd.read_csv('Train.csv')\n",
    "del df['id']\n",
    "df.head()"
   ],
   "outputs": [
    {
     "output_type": "execute_result",
     "data": {
      "text/plain": [
       "                                             content  category\n",
       "0   SERIKALI imesema haitakuwa tayari kuona amani...   Kitaifa\n",
       "1   Mkuu wa Mkoa wa Tabora, Aggrey Mwanri amesiti...  Biashara\n",
       "2   SERIKALI imetoa miezi sita kwa taasisi zote z...   Kitaifa\n",
       "3   KAMPUNI ya mchezo wa kubahatisha ya M-bet ime...   michezo\n",
       "4   WATANZANIA wamekumbushwa kusherehekea sikukuu...   Kitaifa"
      ],
      "text/html": [
       "<div>\n",
       "<style scoped>\n",
       "    .dataframe tbody tr th:only-of-type {\n",
       "        vertical-align: middle;\n",
       "    }\n",
       "\n",
       "    .dataframe tbody tr th {\n",
       "        vertical-align: top;\n",
       "    }\n",
       "\n",
       "    .dataframe thead th {\n",
       "        text-align: right;\n",
       "    }\n",
       "</style>\n",
       "<table border=\"1\" class=\"dataframe\">\n",
       "  <thead>\n",
       "    <tr style=\"text-align: right;\">\n",
       "      <th></th>\n",
       "      <th>content</th>\n",
       "      <th>category</th>\n",
       "    </tr>\n",
       "  </thead>\n",
       "  <tbody>\n",
       "    <tr>\n",
       "      <th>0</th>\n",
       "      <td>SERIKALI imesema haitakuwa tayari kuona amani...</td>\n",
       "      <td>Kitaifa</td>\n",
       "    </tr>\n",
       "    <tr>\n",
       "      <th>1</th>\n",
       "      <td>Mkuu wa Mkoa wa Tabora, Aggrey Mwanri amesiti...</td>\n",
       "      <td>Biashara</td>\n",
       "    </tr>\n",
       "    <tr>\n",
       "      <th>2</th>\n",
       "      <td>SERIKALI imetoa miezi sita kwa taasisi zote z...</td>\n",
       "      <td>Kitaifa</td>\n",
       "    </tr>\n",
       "    <tr>\n",
       "      <th>3</th>\n",
       "      <td>KAMPUNI ya mchezo wa kubahatisha ya M-bet ime...</td>\n",
       "      <td>michezo</td>\n",
       "    </tr>\n",
       "    <tr>\n",
       "      <th>4</th>\n",
       "      <td>WATANZANIA wamekumbushwa kusherehekea sikukuu...</td>\n",
       "      <td>Kitaifa</td>\n",
       "    </tr>\n",
       "  </tbody>\n",
       "</table>\n",
       "</div>"
      ]
     },
     "metadata": {},
     "execution_count": 1
    }
   ],
   "metadata": {}
  },
  {
   "cell_type": "code",
   "execution_count": 2,
   "source": [
    "from io import StringIO\n",
    "col = ['category', 'content']\n",
    "df = df[col]\n",
    "df = df[pd.notnull(df['content'])]\n",
    "df.columns = ['category', 'content']\n",
    "df['category_id'] = df['category'].factorize()[0]\n",
    "category_id_df = df[['category', 'category_id']].drop_duplicates().sort_values('category_id')\n",
    "category_to_id = dict(category_id_df.values)\n",
    "id_to_category = dict(category_id_df[['category_id', 'category']].values)\n",
    "df.head()"
   ],
   "outputs": [
    {
     "output_type": "execute_result",
     "data": {
      "text/plain": [
       "   category                                            content  category_id\n",
       "0   Kitaifa   SERIKALI imesema haitakuwa tayari kuona amani...            0\n",
       "1  Biashara   Mkuu wa Mkoa wa Tabora, Aggrey Mwanri amesiti...            1\n",
       "2   Kitaifa   SERIKALI imetoa miezi sita kwa taasisi zote z...            0\n",
       "3   michezo   KAMPUNI ya mchezo wa kubahatisha ya M-bet ime...            2\n",
       "4   Kitaifa   WATANZANIA wamekumbushwa kusherehekea sikukuu...            0"
      ],
      "text/html": [
       "<div>\n",
       "<style scoped>\n",
       "    .dataframe tbody tr th:only-of-type {\n",
       "        vertical-align: middle;\n",
       "    }\n",
       "\n",
       "    .dataframe tbody tr th {\n",
       "        vertical-align: top;\n",
       "    }\n",
       "\n",
       "    .dataframe thead th {\n",
       "        text-align: right;\n",
       "    }\n",
       "</style>\n",
       "<table border=\"1\" class=\"dataframe\">\n",
       "  <thead>\n",
       "    <tr style=\"text-align: right;\">\n",
       "      <th></th>\n",
       "      <th>category</th>\n",
       "      <th>content</th>\n",
       "      <th>category_id</th>\n",
       "    </tr>\n",
       "  </thead>\n",
       "  <tbody>\n",
       "    <tr>\n",
       "      <th>0</th>\n",
       "      <td>Kitaifa</td>\n",
       "      <td>SERIKALI imesema haitakuwa tayari kuona amani...</td>\n",
       "      <td>0</td>\n",
       "    </tr>\n",
       "    <tr>\n",
       "      <th>1</th>\n",
       "      <td>Biashara</td>\n",
       "      <td>Mkuu wa Mkoa wa Tabora, Aggrey Mwanri amesiti...</td>\n",
       "      <td>1</td>\n",
       "    </tr>\n",
       "    <tr>\n",
       "      <th>2</th>\n",
       "      <td>Kitaifa</td>\n",
       "      <td>SERIKALI imetoa miezi sita kwa taasisi zote z...</td>\n",
       "      <td>0</td>\n",
       "    </tr>\n",
       "    <tr>\n",
       "      <th>3</th>\n",
       "      <td>michezo</td>\n",
       "      <td>KAMPUNI ya mchezo wa kubahatisha ya M-bet ime...</td>\n",
       "      <td>2</td>\n",
       "    </tr>\n",
       "    <tr>\n",
       "      <th>4</th>\n",
       "      <td>Kitaifa</td>\n",
       "      <td>WATANZANIA wamekumbushwa kusherehekea sikukuu...</td>\n",
       "      <td>0</td>\n",
       "    </tr>\n",
       "  </tbody>\n",
       "</table>\n",
       "</div>"
      ]
     },
     "metadata": {},
     "execution_count": 2
    }
   ],
   "metadata": {}
  },
  {
   "cell_type": "code",
   "execution_count": 3,
   "source": [
    "import matplotlib.pyplot as plt\n",
    "fig = plt.figure(figsize=(8,6))\n",
    "df.groupby('category').count().plot.bar(ylim=0)\n",
    "plt.show()"
   ],
   "outputs": [
    {
     "output_type": "display_data",
     "data": {
      "text/plain": [
       "<Figure size 576x432 with 0 Axes>"
      ]
     },
     "metadata": {}
    },
    {
     "output_type": "display_data",
     "data": {
      "text/plain": [
       "<Figure size 432x288 with 1 Axes>"
      ],
      "image/png": "[encoded data removed]"
     },
     "metadata": {
      "needs_background": "light"
     }
    }
   ],
   "metadata": {}
  },
  {
   "cell_type": "code",
   "execution_count": 4,
   "source": [
    "from sklearn.feature_extraction.text import TfidfVectorizer\n",
    "\n",
    "tfidf = TfidfVectorizer(sublinear_tf=True, min_df=5, norm='l2', encoding='latin-1', ngram_range=(1, 2))\n",
    "\n",
    "features = tfidf.fit_transform(df.content).toarray()\n",
    "labels = df.category_id\n",
    "features.shape"
   ],
   "outputs": [
    {
     "output_type": "execute_result",
     "data": {
      "text/plain": [
       "(5151, 52264)"
      ]
     },
     "metadata": {},
     "execution_count": 4
    }
   ],
   "metadata": {}
  },
  {
   "cell_type": "code",
   "execution_count": 5,
   "source": [
    "from sklearn.feature_selection import chi2\n",
    "import numpy as np\n",
    "\n",
    "N = 2\n",
    "for Product, category_id in sorted(category_to_id.items()):\n",
    "    features_chi2 = chi2(features, labels == category_id)\n",
    "    indices = np.argsort(features_chi2[0])\n",
    "    feature_names = np.array(tfidf.get_feature_names())[indices]\n",
    "    unigrams = [v for v in feature_names if len(v.split(' ')) == 1]\n",
    "    bigrams = [v for v in feature_names if len(v.split(' ')) == 2]\n",
    "    print(\"# '{}':\".format(Product))\n",
    "    print(\"  . Most correlated unigrams:\\n. {}\".format('\\n. '.join(unigrams[-N:])))\n",
    "    print(\"  . Most correlated bigrams:\\n. {}\".format('\\n. '.join(bigrams[-N:])))"
   ],
   "outputs": [
    {
     "output_type": "stream",
     "name": "stdout",
     "text": [
      "# 'Biashara':\n",
      "  . Most correlated unigrams:\n",
      ". bidhaa\n",
      ". wateja\n",
      "  . Most correlated bigrams:\n",
      ". soko la\n",
      ". benki hiyo\n",
      "# 'Burudani':\n",
      "  . Most correlated unigrams:\n",
      ". up\n",
      ". brown\n",
      "  . Most correlated bigrams:\n",
      ". kumi bora\n",
      ". ya urembo\n",
      "# 'Kimataifa':\n",
      "  . Most correlated unigrams:\n",
      ". trump\n",
      ". corona\n",
      "  . Most correlated bigrams:\n",
      ". wanandoa hao\n",
      ". virusi hivyo\n",
      "# 'Kitaifa':\n",
      "  . Most correlated unigrams:\n",
      ". timu\n",
      ". mchezo\n",
      "  . Most correlated bigrams:\n",
      ". mchezo wa\n",
      ". mchezo huo\n",
      "# 'michezo':\n",
      "  . Most correlated unigrams:\n",
      ". timu\n",
      ". mchezo\n",
      "  . Most correlated bigrams:\n",
      ". mchezo wa\n",
      ". mchezo huo\n"
     ]
    }
   ],
   "metadata": {}
  },
  {
   "cell_type": "markdown",
   "source": [
    "----"
   ],
   "metadata": {}
  },
  {
   "cell_type": "markdown",
   "source": [
    "Naive Bayes Classifier"
   ],
   "metadata": {}
  },
  {
   "cell_type": "code",
   "execution_count": 6,
   "source": [
    "from sklearn.model_selection import train_test_split\n",
    "from sklearn.feature_extraction.text import CountVectorizer\n",
    "from sklearn.feature_extraction.text import TfidfTransformer\n",
    "from sklearn.naive_bayes import MultinomialNB\n",
    "\n",
    "X_train, X_test, y_train, y_test = train_test_split(df['content'], df['category'], random_state = 0)\n",
    "\n",
    "count_vect = CountVectorizer()\n",
    "X_train_counts = count_vect.fit_transform(X_train)\n",
    "tfidf_transformer = TfidfTransformer()\n",
    "X_train_tfidf = tfidf_transformer.fit_transform(X_train_counts)\n",
    "clf = MultinomialNB().fit(X_train_tfidf, y_train)"
   ],
   "outputs": [],
   "metadata": {}
  },
  {
   "cell_type": "code",
   "execution_count": 7,
   "source": [
    "print(clf.predict(count_vect.transform([\"Mwenyekiti wa Chama Cha Mapinduzi (CCM) Taifa Rais John Magufuli,  amekipongeza chama hicho kwa kutimiza miaka 43 tangu kuzaliwa kwake.Katika salamu zake kupitia mtandao wa kijamii wa Twitter, Rais Magufuli ametaka wakati wa kusherehekea siku hiyo muhimu  kuendelezwa  kwa  misingi ya chama hicho na kusimamiwa kwa utekelezaji wa ilani ya CCM.Pia ametaka Wananchama wote wa CCM kudumisha amani, upendo na mshikamano.CCM ilizaliwa Februari Tano mwaka 1977 kutokana na kuungana kwa Chama cha  TANU kilichokua kikitawala Tanzania Bara na ASP kilichokua kikitawala Zanziba kwa wakati huo.\"])))"
   ],
   "outputs": [
    {
     "output_type": "stream",
     "name": "stdout",
     "text": [
      "['Kitaifa']\n"
     ]
    }
   ],
   "metadata": {}
  },
  {
   "cell_type": "markdown",
   "source": [
    "----"
   ],
   "metadata": {}
  },
  {
   "cell_type": "markdown",
   "source": [
    "Results"
   ],
   "metadata": {}
  },
  {
   "cell_type": "code",
   "execution_count": 13,
   "source": [
    "X_test = X_test.tolist()"
   ],
   "outputs": [],
   "metadata": {}
  },
  {
   "cell_type": "code",
   "execution_count": 19,
   "source": [
    "y_pred = []\n",
    "\n",
    "for i in X_test:\n",
    "    res = clf.predict(count_vect.transform([i]))\n",
    "    y_pred.append(res)"
   ],
   "outputs": [],
   "metadata": {}
  },
  {
   "cell_type": "code",
   "execution_count": 22,
   "source": [
    "from sklearn.metrics import confusion_matrix\n",
    "import seaborn as sns\n",
    "\n",
    "conf_mat = confusion_matrix(y_test, y_pred)\n",
    "fig, ax = plt.subplots(figsize=(10,10))\n",
    "sns.heatmap(conf_mat, annot=True, fmt='d',\n",
    "            xticklabels=category_id_df.category.values, yticklabels=category_id_df.category.values)\n",
    "\n",
    "plt.ylabel('Actual')\n",
    "plt.xlabel('Predicted')\n",
    "plt.show()"
   ],
   "outputs": [
    {
     "output_type": "display_data",
     "data": {
      "text/plain": [
       "<Figure size 720x720 with 2 Axes>"
      ],
      "image/png": "[encoded data removed]"
     },
     "metadata": {
      "needs_background": "light"
     }
    }
   ],
   "metadata": {}
  },
  {
   "cell_type": "markdown",
   "source": [
    "----"
   ],
   "metadata": {}
  },
  {
   "cell_type": "markdown",
   "source": [
    "Creating Submit File(s)"
   ],
   "metadata": {}
  },
  {
   "cell_type": "code",
   "execution_count": 73,
   "source": [
    "test_df = pd.read_csv('Test.csv')"
   ],
   "outputs": [],
   "metadata": {}
  },
  {
   "cell_type": "code",
   "execution_count": 74,
   "source": [
    "test_items = test_df['content'].tolist()\n",
    "\n",
    "test_res = []\n",
    "\n",
    "for i in test_items:\n",
    "    prediction = clf.predict(count_vect.transform([i]))\n",
    "    test_res.append(prediction[0])\n",
    "\n",
    "\n",
    "test_df['category'] = test_res\n",
    "test_df['kitaifa'], test_df['michezo'], test_df['biashara'], test_df['kimataifa'], test_df['burudani'] = [0,0,0,0,0]"
   ],
   "outputs": [],
   "metadata": {}
  },
  {
   "cell_type": "code",
   "execution_count": 75,
   "source": [
    "def k_assign(x):\n",
    "    if x == 'Kitaifa':\n",
    "        val = 1\n",
    "        return int(val)\n",
    "    else:\n",
    "        return 0\n",
    "\n",
    "def m_assign(x):\n",
    "    if x == 'michezo':\n",
    "        val = 1\n",
    "        return int(val)\n",
    "    else:\n",
    "        return 0\n",
    "\n",
    "def b_assign(x):\n",
    "    if x == 'Biashara':\n",
    "        val = 1\n",
    "        return int(val)\n",
    "    else:\n",
    "        return 0\n"
   ],
   "outputs": [],
   "metadata": {}
  },
  {
   "cell_type": "code",
   "execution_count": 76,
   "source": [
    "test_df['kitaifa'] = test_df['category'].apply(lambda x: k_assign(x))\n",
    "test_df['michezo'] = test_df['category'].apply(lambda x: m_assign(x))\n",
    "test_df['biashara'] = test_df['category'].apply(lambda x: b_assign(x))"
   ],
   "outputs": [],
   "metadata": {}
  }
 ],
 "metadata": {
  "orig_nbformat": 4,
  "language_info": {
   "name": "python",
   "version": "3.7.4",
   "mimetype": "text/x-python",
   "codemirror_mode": {
    "name": "ipython",
    "version": 3
   },
   "pygments_lexer": "ipython3",
   "nbconvert_exporter": "python",
   "file_extension": ".py"
  },
  "kernelspec": {
   "name": "python3",
   "display_name": "Python 3.7.4 64-bit ('3.7')"
  },
  "interpreter": {
   "hash": "e534e48711db4d1e1c48977d0d14ff85b1f16d41bcc4fdfd88268a329b3c9d66"
  }
 },
 "nbformat": 4,
 "nbformat_minor": 2
}