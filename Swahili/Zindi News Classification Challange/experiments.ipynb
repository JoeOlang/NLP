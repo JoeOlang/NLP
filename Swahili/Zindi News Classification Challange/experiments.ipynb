{
 "cells": [
  {
   "cell_type": "code",
   "execution_count": 1,
   "source": [
    "import pandas as pd\n",
    "df = pd.read_csv('Train.csv')\n",
    "del df['id']\n",
    "df.head()"
   ],
   "outputs": [
    {
     "output_type": "execute_result",
     "data": {
      "text/plain": [
       "                                             content  category\n",
       "0   SERIKALI imesema haitakuwa tayari kuona amani...   Kitaifa\n",
       "1   Mkuu wa Mkoa wa Tabora, Aggrey Mwanri amesiti...  Biashara\n",
       "2   SERIKALI imetoa miezi sita kwa taasisi zote z...   Kitaifa\n",
       "3   KAMPUNI ya mchezo wa kubahatisha ya M-bet ime...   michezo\n",
       "4   WATANZANIA wamekumbushwa kusherehekea sikukuu...   Kitaifa"
      ],
      "text/html": [
       "<div>\n",
       "<style scoped>\n",
       "    .dataframe tbody tr th:only-of-type {\n",
       "        vertical-align: middle;\n",
       "    }\n",
       "\n",
       "    .dataframe tbody tr th {\n",
       "        vertical-align: top;\n",
       "    }\n",
       "\n",
       "    .dataframe thead th {\n",
       "        text-align: right;\n",
       "    }\n",
       "</style>\n",
       "<table border=\"1\" class=\"dataframe\">\n",
       "  <thead>\n",
       "    <tr style=\"text-align: right;\">\n",
       "      <th></th>\n",
       "      <th>content</th>\n",
       "      <th>category</th>\n",
       "    </tr>\n",
       "  </thead>\n",
       "  <tbody>\n",
       "    <tr>\n",
       "      <th>0</th>\n",
       "      <td>SERIKALI imesema haitakuwa tayari kuona amani...</td>\n",
       "      <td>Kitaifa</td>\n",
       "    </tr>\n",
       "    <tr>\n",
       "      <th>1</th>\n",
       "      <td>Mkuu wa Mkoa wa Tabora, Aggrey Mwanri amesiti...</td>\n",
       "      <td>Biashara</td>\n",
       "    </tr>\n",
       "    <tr>\n",
       "      <th>2</th>\n",
       "      <td>SERIKALI imetoa miezi sita kwa taasisi zote z...</td>\n",
       "      <td>Kitaifa</td>\n",
       "    </tr>\n",
       "    <tr>\n",
       "      <th>3</th>\n",
       "      <td>KAMPUNI ya mchezo wa kubahatisha ya M-bet ime...</td>\n",
       "      <td>michezo</td>\n",
       "    </tr>\n",
       "    <tr>\n",
       "      <th>4</th>\n",
       "      <td>WATANZANIA wamekumbushwa kusherehekea sikukuu...</td>\n",
       "      <td>Kitaifa</td>\n",
       "    </tr>\n",
       "  </tbody>\n",
       "</table>\n",
       "</div>"
      ]
     },
     "metadata": {},
     "execution_count": 1
    }
   ],
   "metadata": {}
  },
  {
   "cell_type": "code",
   "execution_count": 2,
   "source": [
    "from io import StringIO\n",
    "col = ['category', 'content']\n",
    "df = df[col]\n",
    "df = df[pd.notnull(df['content'])]\n",
    "df.columns = ['category', 'content']\n",
    "df['category_id'] = df['category'].factorize()[0]\n",
    "category_id_df = df[['category', 'category_id']].drop_duplicates().sort_values('category_id')\n",
    "category_to_id = dict(category_id_df.values)\n",
    "id_to_category = dict(category_id_df[['category_id', 'category']].values)\n",
    "df.head()"
   ],
   "outputs": [
    {
     "output_type": "execute_result",
     "data": {
      "text/plain": [
       "   category                                            content  category_id\n",
       "0   Kitaifa   SERIKALI imesema haitakuwa tayari kuona amani...            0\n",
       "1  Biashara   Mkuu wa Mkoa wa Tabora, Aggrey Mwanri amesiti...            1\n",
       "2   Kitaifa   SERIKALI imetoa miezi sita kwa taasisi zote z...            0\n",
       "3   michezo   KAMPUNI ya mchezo wa kubahatisha ya M-bet ime...            2\n",
       "4   Kitaifa   WATANZANIA wamekumbushwa kusherehekea sikukuu...            0"
      ],
      "text/html": [
       "<div>\n",
       "<style scoped>\n",
       "    .dataframe tbody tr th:only-of-type {\n",
       "        vertical-align: middle;\n",
       "    }\n",
       "\n",
       "    .dataframe tbody tr th {\n",
       "        vertical-align: top;\n",
       "    }\n",
       "\n",
       "    .dataframe thead th {\n",
       "        text-align: right;\n",
       "    }\n",
       "</style>\n",
       "<table border=\"1\" class=\"dataframe\">\n",
       "  <thead>\n",
       "    <tr style=\"text-align: right;\">\n",
       "      <th></th>\n",
       "      <th>category</th>\n",
       "      <th>content</th>\n",
       "      <th>category_id</th>\n",
       "    </tr>\n",
       "  </thead>\n",
       "  <tbody>\n",
       "    <tr>\n",
       "      <th>0</th>\n",
       "      <td>Kitaifa</td>\n",
       "      <td>SERIKALI imesema haitakuwa tayari kuona amani...</td>\n",
       "      <td>0</td>\n",
       "    </tr>\n",
       "    <tr>\n",
       "      <th>1</th>\n",
       "      <td>Biashara</td>\n",
       "      <td>Mkuu wa Mkoa wa Tabora, Aggrey Mwanri amesiti...</td>\n",
       "      <td>1</td>\n",
       "    </tr>\n",
       "    <tr>\n",
       "      <th>2</th>\n",
       "      <td>Kitaifa</td>\n",
       "      <td>SERIKALI imetoa miezi sita kwa taasisi zote z...</td>\n",
       "      <td>0</td>\n",
       "    </tr>\n",
       "    <tr>\n",
       "      <th>3</th>\n",
       "      <td>michezo</td>\n",
       "      <td>KAMPUNI ya mchezo wa kubahatisha ya M-bet ime...</td>\n",
       "      <td>2</td>\n",
       "    </tr>\n",
       "    <tr>\n",
       "      <th>4</th>\n",
       "      <td>Kitaifa</td>\n",
       "      <td>WATANZANIA wamekumbushwa kusherehekea sikukuu...</td>\n",
       "      <td>0</td>\n",
       "    </tr>\n",
       "  </tbody>\n",
       "</table>\n",
       "</div>"
      ]
     },
     "metadata": {},
     "execution_count": 2
    }
   ],
   "metadata": {}
  },
  {
   "cell_type": "code",
   "execution_count": 3,
   "source": [
    "import matplotlib.pyplot as plt\n",
    "fig = plt.figure(figsize=(8,6))\n",
    "df.groupby('category').count().plot.bar(ylim=0)\n",
    "plt.show()"
   ],
   "outputs": [
    {
     "output_type": "display_data",
     "data": {
      "text/plain": [
       "<Figure size 576x432 with 0 Axes>"
      ]
     },
     "metadata": {}
    },
    {
     "output_type": "display_data",
     "data": {
      "text/plain": [
       "<Figure size 432x288 with 1 Axes>"
      ],
      "image/png": "[encoded data removed]"
     },
     "metadata": {
      "needs_background": "light"
     }
    }
   ],
   "metadata": {}
  },
  {
   "cell_type": "code",
   "execution_count": 4,
   "source": [
    "from sklearn.feature_extraction.text import TfidfVectorizer\n",
    "\n",
    "tfidf = TfidfVectorizer(sublinear_tf=True, min_df=5, norm='l2', encoding='latin-1', ngram_range=(1, 2))\n",
    "\n",
    "features = tfidf.fit_transform(df.content).toarray()\n",
    "labels = df.category_id\n",
    "features.shape"
   ],
   "outputs": [
    {
     "output_type": "execute_result",
     "data": {
      "text/plain": [
       "(5151, 52264)"
      ]
     },
     "metadata": {},
     "execution_count": 4
    }
   ],
   "metadata": {}
  },
  {
   "cell_type": "code",
   "execution_count": 5,
   "source": [
    "from sklearn.feature_selection import chi2\n",
    "import numpy as np\n",
    "\n",
    "N = 2\n",
    "for Product, category_id in sorted(category_to_id.items()):\n",
    "    features_chi2 = chi2(features, labels == category_id)\n",
    "    indices = np.argsort(features_chi2[0])\n",
    "    feature_names = np.array(tfidf.get_feature_names())[indices]\n",
    "    unigrams = [v for v in feature_names if len(v.split(' ')) == 1]\n",
    "    bigrams = [v for v in feature_names if len(v.split(' ')) == 2]\n",
    "    print(\"# '{}':\".format(Product))\n",
    "    print(\"  . Most correlated unigrams:\\n. {}\".format('\\n. '.join(unigrams[-N:])))\n",
    "    print(\"  . Most correlated bigrams:\\n. {}\".format('\\n. '.join(bigrams[-N:])))"
   ],
   "outputs": [
    {
     "output_type": "stream",
     "name": "stdout",
     "text": [
      "# 'Biashara':\n",
      "  . Most correlated unigrams:\n",
      ". bidhaa\n",
      ". wateja\n",
      "  . Most correlated bigrams:\n",
      ". soko la\n",
      ". benki hiyo\n",
      "# 'Burudani':\n",
      "  . Most correlated unigrams:\n",
      ". up\n",
      ". brown\n",
      "  . Most correlated bigrams:\n",
      ". kumi bora\n",
      ". ya urembo\n",
      "# 'Kimataifa':\n",
      "  . Most correlated unigrams:\n",
      ". trump\n",
      ". corona\n",
      "  . Most correlated bigrams:\n",
      ". wanandoa hao\n",
      ". virusi hivyo\n",
      "# 'Kitaifa':\n",
      "  . Most correlated unigrams:\n",
      ". timu\n",
      ". mchezo\n",
      "  . Most correlated bigrams:\n",
      ". mchezo wa\n",
      ". mchezo huo\n",
      "# 'michezo':\n",
      "  . Most correlated unigrams:\n",
      ". timu\n",
      ". mchezo\n",
      "  . Most correlated bigrams:\n",
      ". mchezo wa\n",
      ". mchezo huo\n"
     ]
    }
   ],
   "metadata": {}
  },
  {
   "cell_type": "markdown",
   "source": [
    "----"
   ],
   "metadata": {}
  },
  {
   "cell_type": "markdown",
   "source": [
    "Naive Bayes Classifier"
   ],
   "metadata": {}
  },
  {
   "cell_type": "code",
   "execution_count": 23,
   "source": [
    "from sklearn.model_selection import train_test_split\n",
    "from sklearn.feature_extraction.text import CountVectorizer\n",
    "from sklearn.feature_extraction.text import TfidfTransformer\n",
    "from sklearn.naive_bayes import MultinomialNB\n",
    "\n",
    "X_train, X_test, y_train, y_test = train_test_split(df['content'], df['category'], random_state = 0)\n",
    "\n",
    "count_vect = CountVectorizer()\n",
    "X_train_counts = count_vect.fit_transform(X_train)\n",
    "tfidf_transformer = TfidfTransformer()\n",
    "X_train_tfidf = tfidf_transformer.fit_transform(X_train_counts)\n",
    "clf = MultinomialNB().fit(X_train_tfidf, y_train)"
   ],
   "outputs": [],
   "metadata": {}
  },
  {
   "cell_type": "code",
   "execution_count": 24,
   "source": [
    "print(clf.predict(count_vect.transform([\"Mwenyekiti wa Chama Cha Mapinduzi (CCM) Taifa Rais John Magufuli,  amekipongeza chama hicho kwa kutimiza miaka 43 tangu kuzaliwa kwake.Katika salamu zake kupitia mtandao wa kijamii wa Twitter, Rais Magufuli ametaka wakati wa kusherehekea siku hiyo muhimu  kuendelezwa  kwa  misingi ya chama hicho na kusimamiwa kwa utekelezaji wa ilani ya CCM.Pia ametaka Wananchama wote wa CCM kudumisha amani, upendo na mshikamano.CCM ilizaliwa Februari Tano mwaka 1977 kutokana na kuungana kwa Chama cha  TANU kilichokua kikitawala Tanzania Bara na ASP kilichokua kikitawala Zanziba kwa wakati huo.\"])))"
   ],
   "outputs": [
    {
     "output_type": "stream",
     "name": "stdout",
     "text": [
      "['Kitaifa']\n"
     ]
    }
   ],
   "metadata": {}
  },
  {
   "cell_type": "markdown",
   "source": [
    "----"
   ],
   "metadata": {}
  },
  {
   "cell_type": "markdown",
   "source": [
    "Experiments"
   ],
   "metadata": {}
  },
  {
   "cell_type": "markdown",
   "source": [
    "Logistic Regression\n",
    "(Multinomial) Naive Bayes\n",
    "Linear Support Vector Machine\n",
    "Random Forest"
   ],
   "metadata": {}
  },
  {
   "cell_type": "code",
   "execution_count": 6,
   "source": [
    "from sklearn.linear_model import LogisticRegression\n",
    "from sklearn.ensemble import RandomForestClassifier\n",
    "from sklearn.svm import LinearSVC\n",
    "from sklearn.model_selection import cross_val_score\n",
    "import seaborn as sns\n",
    "\n",
    "models = [\n",
    "    RandomForestClassifier(n_estimators=200, max_depth=3, random_state=0),\n",
    "    LinearSVC(),\n",
    "    LogisticRegression(random_state=0),\n",
    "]\n",
    "CV = 5\n",
    "cv_df = pd.DataFrame(index=range(CV * len(models)))\n",
    "entries = []\n",
    "for model in models:\n",
    "    model_name = model.__class__.__name__\n",
    "    accuracies = cross_val_score(model, features, labels, scoring='accuracy', cv=CV)\n",
    "    for fold_idx, accuracy in enumerate(accuracies):\n",
    "        entries.append((model_name, fold_idx, accuracy))\n",
    "cv_df = pd.DataFrame(entries, columns=['model_name', 'fold_idx', 'accuracy'])\n",
    "\n",
    "sns.boxplot(x='model_name', y='accuracy', data=cv_df)\n",
    "sns.stripplot(x='model_name', y='accuracy', data=cv_df, \n",
    "                size=8, jitter=True, edgecolor=\"gray\", linewidth=2)\n",
    "plt.show()"
   ],
   "outputs": [
    {
     "output_type": "error",
     "ename": "NameError",
     "evalue": "name 'MultinomialNB' is not defined",
     "traceback": [
      "\u001b[0;31m---------------------------------------------------------------------------\u001b[0m",
      "\u001b[0;31mNameError\u001b[0m                                 Traceback (most recent call last)",
      "\u001b[0;32m<ipython-input-6-95ec2b4a2d68>\u001b[0m in \u001b[0;36m<module>\u001b[0;34m\u001b[0m\n\u001b[1;32m      8\u001b[0m     \u001b[0mRandomForestClassifier\u001b[0m\u001b[0;34m(\u001b[0m\u001b[0mn_estimators\u001b[0m\u001b[0;34m=\u001b[0m\u001b[0;36m200\u001b[0m\u001b[0;34m,\u001b[0m \u001b[0mmax_depth\u001b[0m\u001b[0;34m=\u001b[0m\u001b[0;36m3\u001b[0m\u001b[0;34m,\u001b[0m \u001b[0mrandom_state\u001b[0m\u001b[0;34m=\u001b[0m\u001b[0;36m0\u001b[0m\u001b[0;34m)\u001b[0m\u001b[0;34m,\u001b[0m\u001b[0;34m\u001b[0m\u001b[0;34m\u001b[0m\u001b[0m\n\u001b[1;32m      9\u001b[0m     \u001b[0mLinearSVC\u001b[0m\u001b[0;34m(\u001b[0m\u001b[0;34m)\u001b[0m\u001b[0;34m,\u001b[0m\u001b[0;34m\u001b[0m\u001b[0;34m\u001b[0m\u001b[0m\n\u001b[0;32m---> 10\u001b[0;31m     \u001b[0mMultinomialNB\u001b[0m\u001b[0;34m(\u001b[0m\u001b[0;34m)\u001b[0m\u001b[0;34m,\u001b[0m\u001b[0;34m\u001b[0m\u001b[0;34m\u001b[0m\u001b[0m\n\u001b[0m\u001b[1;32m     11\u001b[0m     \u001b[0mLogisticRegression\u001b[0m\u001b[0;34m(\u001b[0m\u001b[0mrandom_state\u001b[0m\u001b[0;34m=\u001b[0m\u001b[0;36m0\u001b[0m\u001b[0;34m)\u001b[0m\u001b[0;34m,\u001b[0m\u001b[0;34m\u001b[0m\u001b[0;34m\u001b[0m\u001b[0m\n\u001b[1;32m     12\u001b[0m ]\n",
      "\u001b[0;31mNameError\u001b[0m: name 'MultinomialNB' is not defined"
     ]
    }
   ],
   "metadata": {}
  },
  {
   "cell_type": "code",
   "execution_count": 26,
   "source": [
    "cv_df.groupby('model_name').accuracy.mean()"
   ],
   "outputs": [
    {
     "output_type": "execute_result",
     "data": {
      "text/plain": [
       "model_name\n",
       "LinearSVC                 0.874393\n",
       "LogisticRegression        0.862550\n",
       "MultinomialNB             0.797325\n",
       "RandomForestClassifier    0.652111\n",
       "Name: accuracy, dtype: float64"
      ]
     },
     "metadata": {},
     "execution_count": 26
    }
   ],
   "metadata": {}
  },
  {
   "cell_type": "markdown",
   "source": [
    "LinearSVC and Logistic Regression perform better than the other two classifiers, with LinearSVC having a slight advantage with a median accuracy of around 87%"
   ],
   "metadata": {}
  },
  {
   "cell_type": "code",
   "execution_count": 28,
   "source": [
    "model = LinearSVC()\n",
    "\n",
    "X_train, X_test, y_train, y_test, indices_train, indices_test = train_test_split(features, labels, df.index, test_size=0.33, random_state=0)\n",
    "model.fit(X_train, y_train)\n",
    "y_pred = model.predict(X_test)\n",
    "\n",
    "from sklearn.metrics import confusion_matrix\n",
    "\n",
    "conf_mat = confusion_matrix(y_test, y_pred)\n",
    "fig, ax = plt.subplots(figsize=(10,10))\n",
    "sns.heatmap(conf_mat, annot=True, fmt='d',\n",
    "            xticklabels=category_id_df.category.values, yticklabels=category_id_df.category.values)\n",
    "plt.ylabel('Actual')\n",
    "plt.xlabel('Predicted')\n",
    "plt.show()"
   ],
   "outputs": [
    {
     "output_type": "display_data",
     "data": {
      "text/plain": [
       "<Figure size 720x720 with 2 Axes>"
      ],
      "image/png": "[encoded data removed]"
     },
     "metadata": {
      "needs_background": "light"
     }
    }
   ],
   "metadata": {}
  },
  {
   "cell_type": "code",
   "execution_count": 29,
   "source": [
    "from IPython.display import display\n",
    "\n",
    "for predicted in category_id_df.category_id:\n",
    "    for actual in category_id_df.category_id:\n",
    "        if predicted != actual and conf_mat[actual, predicted] >= 10:\n",
    "            print(\"'{}' predicted as '{}' : {} examples.\".format(id_to_category[actual], id_to_category[predicted], conf_mat[actual, predicted]))\n",
    "            display(df.loc[indices_test[(y_test == actual) & (y_pred == predicted)]][['category', 'content']])\n",
    "            print('')"
   ],
   "outputs": [
    {
     "output_type": "stream",
     "name": "stdout",
     "text": [
      "'Biashara' predicted as 'Kitaifa' : 90 examples.\n"
     ]
    },
    {
     "output_type": "display_data",
     "data": {
      "text/plain": [
       "      category                                            content\n",
       "862   Biashara   WAZIRI wa Ujenzi, Uchukuzi na Mawasiliano, Is...\n",
       "866   Biashara   MAUZO ya bima ya uingizaji mizigo nchini yame...\n",
       "1793  Biashara   SERIKALI imefanya uwekezaji wa Sh trilioni 54...\n",
       "1419  Biashara   Naibu Waziri wa Kilimo, Mifugo na Uvuvi, Will...\n",
       "1696  Biashara   Agizo hilo lilitolewa juzi na Mkuu wa Wilaya ...\n",
       "...        ...                                                ...\n",
       "768   Biashara   Akisoma hotuba kwa niaba ya mama Pinda, Naibu...\n",
       "4557  Biashara   Mpango huo uliopewa jina la Kili Challenge, u...\n",
       "4368  Biashara   Waziri wa Nchi, Ofisi ya Rais (Uhusiano na Ur...\n",
       "3502  Biashara   MKOA wa Morogoro unaandaa mkakati wa kilimo w...\n",
       "4329  Biashara   Hayo yalibainishwa juzi na Mkurugenzi wa Kand...\n",
       "\n",
       "[90 rows x 2 columns]"
      ],
      "text/html": [
       "<div>\n",
       "<style scoped>\n",
       "    .dataframe tbody tr th:only-of-type {\n",
       "        vertical-align: middle;\n",
       "    }\n",
       "\n",
       "    .dataframe tbody tr th {\n",
       "        vertical-align: top;\n",
       "    }\n",
       "\n",
       "    .dataframe thead th {\n",
       "        text-align: right;\n",
       "    }\n",
       "</style>\n",
       "<table border=\"1\" class=\"dataframe\">\n",
       "  <thead>\n",
       "    <tr style=\"text-align: right;\">\n",
       "      <th></th>\n",
       "      <th>category</th>\n",
       "      <th>content</th>\n",
       "    </tr>\n",
       "  </thead>\n",
       "  <tbody>\n",
       "    <tr>\n",
       "      <th>862</th>\n",
       "      <td>Biashara</td>\n",
       "      <td>WAZIRI wa Ujenzi, Uchukuzi na Mawasiliano, Is...</td>\n",
       "    </tr>\n",
       "    <tr>\n",
       "      <th>866</th>\n",
       "      <td>Biashara</td>\n",
       "      <td>MAUZO ya bima ya uingizaji mizigo nchini yame...</td>\n",
       "    </tr>\n",
       "    <tr>\n",
       "      <th>1793</th>\n",
       "      <td>Biashara</td>\n",
       "      <td>SERIKALI imefanya uwekezaji wa Sh trilioni 54...</td>\n",
       "    </tr>\n",
       "    <tr>\n",
       "      <th>1419</th>\n",
       "      <td>Biashara</td>\n",
       "      <td>Naibu Waziri wa Kilimo, Mifugo na Uvuvi, Will...</td>\n",
       "    </tr>\n",
       "    <tr>\n",
       "      <th>1696</th>\n",
       "      <td>Biashara</td>\n",
       "      <td>Agizo hilo lilitolewa juzi na Mkuu wa Wilaya ...</td>\n",
       "    </tr>\n",
       "    <tr>\n",
       "      <th>...</th>\n",
       "      <td>...</td>\n",
       "      <td>...</td>\n",
       "    </tr>\n",
       "    <tr>\n",
       "      <th>768</th>\n",
       "      <td>Biashara</td>\n",
       "      <td>Akisoma hotuba kwa niaba ya mama Pinda, Naibu...</td>\n",
       "    </tr>\n",
       "    <tr>\n",
       "      <th>4557</th>\n",
       "      <td>Biashara</td>\n",
       "      <td>Mpango huo uliopewa jina la Kili Challenge, u...</td>\n",
       "    </tr>\n",
       "    <tr>\n",
       "      <th>4368</th>\n",
       "      <td>Biashara</td>\n",
       "      <td>Waziri wa Nchi, Ofisi ya Rais (Uhusiano na Ur...</td>\n",
       "    </tr>\n",
       "    <tr>\n",
       "      <th>3502</th>\n",
       "      <td>Biashara</td>\n",
       "      <td>MKOA wa Morogoro unaandaa mkakati wa kilimo w...</td>\n",
       "    </tr>\n",
       "    <tr>\n",
       "      <th>4329</th>\n",
       "      <td>Biashara</td>\n",
       "      <td>Hayo yalibainishwa juzi na Mkurugenzi wa Kand...</td>\n",
       "    </tr>\n",
       "  </tbody>\n",
       "</table>\n",
       "<p>90 rows × 2 columns</p>\n",
       "</div>"
      ]
     },
     "metadata": {}
    },
    {
     "output_type": "stream",
     "name": "stdout",
     "text": [
      "\n",
      "'michezo' predicted as 'Kitaifa' : 11 examples.\n"
     ]
    },
    {
     "output_type": "display_data",
     "data": {
      "text/plain": [
       "     category                                            content\n",
       "3567  michezo   Ameyasema hayo baada ya Baraza la Sanaa la Ta...\n",
       "1771  michezo   Kauli ya Diamond, imekuja juzi baada ya kumal...\n",
       "2509  michezo   KATIBU Mkuu Kiongozi, ambaye pia ni Mkuu wa U...\n",
       "4299  michezo   Hatua hiyo imekuja baada ya mshitakiwa Masoga...\n",
       "464   michezo   MKUU wa Mkoa wa Morogoro, Loata ole Sanare, a...\n",
       "3234  michezo   Mbunge wa Chalinze, Ridhiwani Kikwete leo ame...\n",
       "565   michezo   Lulu aliye nje kwa dhamana atapanda kizimbani...\n",
       "3362  michezo   Alisema uchunguzi wa sampuli ya mkojo wa Wema...\n",
       "3633  michezo   AGIZO lilitolewa na Rais John Magufuli akiwa ...\n",
       "3332  michezo   WAZIRI Mkuu, Kassim Majaliwa ameiagiza Wizara...\n",
       "3850  michezo   MAHAKAMA ya Hakimu Mkazi Kisutu, Dar es Salaa..."
      ],
      "text/html": [
       "<div>\n",
       "<style scoped>\n",
       "    .dataframe tbody tr th:only-of-type {\n",
       "        vertical-align: middle;\n",
       "    }\n",
       "\n",
       "    .dataframe tbody tr th {\n",
       "        vertical-align: top;\n",
       "    }\n",
       "\n",
       "    .dataframe thead th {\n",
       "        text-align: right;\n",
       "    }\n",
       "</style>\n",
       "<table border=\"1\" class=\"dataframe\">\n",
       "  <thead>\n",
       "    <tr style=\"text-align: right;\">\n",
       "      <th></th>\n",
       "      <th>category</th>\n",
       "      <th>content</th>\n",
       "    </tr>\n",
       "  </thead>\n",
       "  <tbody>\n",
       "    <tr>\n",
       "      <th>3567</th>\n",
       "      <td>michezo</td>\n",
       "      <td>Ameyasema hayo baada ya Baraza la Sanaa la Ta...</td>\n",
       "    </tr>\n",
       "    <tr>\n",
       "      <th>1771</th>\n",
       "      <td>michezo</td>\n",
       "      <td>Kauli ya Diamond, imekuja juzi baada ya kumal...</td>\n",
       "    </tr>\n",
       "    <tr>\n",
       "      <th>2509</th>\n",
       "      <td>michezo</td>\n",
       "      <td>KATIBU Mkuu Kiongozi, ambaye pia ni Mkuu wa U...</td>\n",
       "    </tr>\n",
       "    <tr>\n",
       "      <th>4299</th>\n",
       "      <td>michezo</td>\n",
       "      <td>Hatua hiyo imekuja baada ya mshitakiwa Masoga...</td>\n",
       "    </tr>\n",
       "    <tr>\n",
       "      <th>464</th>\n",
       "      <td>michezo</td>\n",
       "      <td>MKUU wa Mkoa wa Morogoro, Loata ole Sanare, a...</td>\n",
       "    </tr>\n",
       "    <tr>\n",
       "      <th>3234</th>\n",
       "      <td>michezo</td>\n",
       "      <td>Mbunge wa Chalinze, Ridhiwani Kikwete leo ame...</td>\n",
       "    </tr>\n",
       "    <tr>\n",
       "      <th>565</th>\n",
       "      <td>michezo</td>\n",
       "      <td>Lulu aliye nje kwa dhamana atapanda kizimbani...</td>\n",
       "    </tr>\n",
       "    <tr>\n",
       "      <th>3362</th>\n",
       "      <td>michezo</td>\n",
       "      <td>Alisema uchunguzi wa sampuli ya mkojo wa Wema...</td>\n",
       "    </tr>\n",
       "    <tr>\n",
       "      <th>3633</th>\n",
       "      <td>michezo</td>\n",
       "      <td>AGIZO lilitolewa na Rais John Magufuli akiwa ...</td>\n",
       "    </tr>\n",
       "    <tr>\n",
       "      <th>3332</th>\n",
       "      <td>michezo</td>\n",
       "      <td>WAZIRI Mkuu, Kassim Majaliwa ameiagiza Wizara...</td>\n",
       "    </tr>\n",
       "    <tr>\n",
       "      <th>3850</th>\n",
       "      <td>michezo</td>\n",
       "      <td>MAHAKAMA ya Hakimu Mkazi Kisutu, Dar es Salaa...</td>\n",
       "    </tr>\n",
       "  </tbody>\n",
       "</table>\n",
       "</div>"
      ]
     },
     "metadata": {}
    },
    {
     "output_type": "stream",
     "name": "stdout",
     "text": [
      "\n",
      "'Kimataifa' predicted as 'Kitaifa' : 16 examples.\n"
     ]
    },
    {
     "output_type": "display_data",
     "data": {
      "text/plain": [
       "       category                                            content\n",
       "39    Kimataifa   Serikali ya Kenya imetangaza kuongeza mishaha...\n",
       "3528  Kimataifa   KIONGOZI wa Kanisa Katoliki duniani, Papa Fra...\n",
       "1593  Kimataifa  .Mahakama nchini Afrika Kusini imetoa hati ya ...\n",
       "3917  Kimataifa   Wanafunzi katika Chuo Kikuu cha Cape Town, Af...\n",
       "575   Kimataifa   SERIKALI imetoa tahadhari kwa shule 108 za ms...\n",
       "2033  Kimataifa  .Salamu za pole zimeendelea kutolewa kwa Rais ...\n",
       "2510  Kimataifa   RAIS Salva Kiir amesema yuko tayari kukutana ...\n",
       "649   Kimataifa  .Rais wa Pili wa Kenya, Daniel Toroitich arap ...\n",
       "3194  Kimataifa   Serikali ya Gabon imefanikiwa kuzima jaribio ...\n",
       "872   Kimataifa   SAKATA la binti wa Uingereza, Shamima Begum a...\n",
       "2027  Kimataifa   Baadhi ya nchi Barani Afrika zikiwemo Rwanda ...\n",
       "2898  Kimataifa   RAIS wa Urusi, Vladimir Putin amesema wakati ...\n",
       "3487  Kimataifa   Wapenzi raia wa Ufaransa wanakabiliwa na kifu...\n",
       "3491  Kimataifa   MELIVITA ya Urusi inayoendeshwa kwa nguvu za ...\n",
       "1526  Kimataifa   Mtoto wa umri wa miaka mitano nchini Urusi am...\n",
       "3892  Kimataifa   Mwanaume mkazi wa Bournemouth, Uingereza Laur..."
      ],
      "text/html": [
       "<div>\n",
       "<style scoped>\n",
       "    .dataframe tbody tr th:only-of-type {\n",
       "        vertical-align: middle;\n",
       "    }\n",
       "\n",
       "    .dataframe tbody tr th {\n",
       "        vertical-align: top;\n",
       "    }\n",
       "\n",
       "    .dataframe thead th {\n",
       "        text-align: right;\n",
       "    }\n",
       "</style>\n",
       "<table border=\"1\" class=\"dataframe\">\n",
       "  <thead>\n",
       "    <tr style=\"text-align: right;\">\n",
       "      <th></th>\n",
       "      <th>category</th>\n",
       "      <th>content</th>\n",
       "    </tr>\n",
       "  </thead>\n",
       "  <tbody>\n",
       "    <tr>\n",
       "      <th>39</th>\n",
       "      <td>Kimataifa</td>\n",
       "      <td>Serikali ya Kenya imetangaza kuongeza mishaha...</td>\n",
       "    </tr>\n",
       "    <tr>\n",
       "      <th>3528</th>\n",
       "      <td>Kimataifa</td>\n",
       "      <td>KIONGOZI wa Kanisa Katoliki duniani, Papa Fra...</td>\n",
       "    </tr>\n",
       "    <tr>\n",
       "      <th>1593</th>\n",
       "      <td>Kimataifa</td>\n",
       "      <td>.Mahakama nchini Afrika Kusini imetoa hati ya ...</td>\n",
       "    </tr>\n",
       "    <tr>\n",
       "      <th>3917</th>\n",
       "      <td>Kimataifa</td>\n",
       "      <td>Wanafunzi katika Chuo Kikuu cha Cape Town, Af...</td>\n",
       "    </tr>\n",
       "    <tr>\n",
       "      <th>575</th>\n",
       "      <td>Kimataifa</td>\n",
       "      <td>SERIKALI imetoa tahadhari kwa shule 108 za ms...</td>\n",
       "    </tr>\n",
       "    <tr>\n",
       "      <th>2033</th>\n",
       "      <td>Kimataifa</td>\n",
       "      <td>.Salamu za pole zimeendelea kutolewa kwa Rais ...</td>\n",
       "    </tr>\n",
       "    <tr>\n",
       "      <th>2510</th>\n",
       "      <td>Kimataifa</td>\n",
       "      <td>RAIS Salva Kiir amesema yuko tayari kukutana ...</td>\n",
       "    </tr>\n",
       "    <tr>\n",
       "      <th>649</th>\n",
       "      <td>Kimataifa</td>\n",
       "      <td>.Rais wa Pili wa Kenya, Daniel Toroitich arap ...</td>\n",
       "    </tr>\n",
       "    <tr>\n",
       "      <th>3194</th>\n",
       "      <td>Kimataifa</td>\n",
       "      <td>Serikali ya Gabon imefanikiwa kuzima jaribio ...</td>\n",
       "    </tr>\n",
       "    <tr>\n",
       "      <th>872</th>\n",
       "      <td>Kimataifa</td>\n",
       "      <td>SAKATA la binti wa Uingereza, Shamima Begum a...</td>\n",
       "    </tr>\n",
       "    <tr>\n",
       "      <th>2027</th>\n",
       "      <td>Kimataifa</td>\n",
       "      <td>Baadhi ya nchi Barani Afrika zikiwemo Rwanda ...</td>\n",
       "    </tr>\n",
       "    <tr>\n",
       "      <th>2898</th>\n",
       "      <td>Kimataifa</td>\n",
       "      <td>RAIS wa Urusi, Vladimir Putin amesema wakati ...</td>\n",
       "    </tr>\n",
       "    <tr>\n",
       "      <th>3487</th>\n",
       "      <td>Kimataifa</td>\n",
       "      <td>Wapenzi raia wa Ufaransa wanakabiliwa na kifu...</td>\n",
       "    </tr>\n",
       "    <tr>\n",
       "      <th>3491</th>\n",
       "      <td>Kimataifa</td>\n",
       "      <td>MELIVITA ya Urusi inayoendeshwa kwa nguvu za ...</td>\n",
       "    </tr>\n",
       "    <tr>\n",
       "      <th>1526</th>\n",
       "      <td>Kimataifa</td>\n",
       "      <td>Mtoto wa umri wa miaka mitano nchini Urusi am...</td>\n",
       "    </tr>\n",
       "    <tr>\n",
       "      <th>3892</th>\n",
       "      <td>Kimataifa</td>\n",
       "      <td>Mwanaume mkazi wa Bournemouth, Uingereza Laur...</td>\n",
       "    </tr>\n",
       "  </tbody>\n",
       "</table>\n",
       "</div>"
      ]
     },
     "metadata": {}
    },
    {
     "output_type": "stream",
     "name": "stdout",
     "text": [
      "\n",
      "'Kitaifa' predicted as 'Biashara' : 61 examples.\n"
     ]
    },
    {
     "output_type": "display_data",
     "data": {
      "text/plain": [
       "     category                                            content\n",
       "4345  Kitaifa   BENKI ya Maendeleo ya Afrika (AfDB) inataraji...\n",
       "4309  Kitaifa   SERIKALI ya Mapinduzi ya Zanzibar imesema uvu...\n",
       "2651  Kitaifa   KAMPUNI ya LafargeHolcim Tanzania inayotengen...\n",
       "4834  Kitaifa   TANZANIA na Uganda zimeeleza kuwa mipango ya ...\n",
       "4545  Kitaifa   SERIKALI ya Mapinduzi ya Zanzibar imesema had...\n",
       "...       ...                                                ...\n",
       "2553  Kitaifa   NMB ni moja ya benki zilizopo nchini, lakini ...\n",
       "4479  Kitaifa   KATIKA msimu wa kuelekea Krismasi na Mwaka Mp...\n",
       "1273  Kitaifa   WAKALA wa Mabasi Yaendayo Haraka (DART) ambao...\n",
       "3119  Kitaifa   MATUNDA ya uwekezaji mkubwa katika kiwanda ch...\n",
       "3878  Kitaifa   WADAU wa uzalishaji wa mvinyo nchini pamoja n...\n",
       "\n",
       "[61 rows x 2 columns]"
      ],
      "text/html": [
       "<div>\n",
       "<style scoped>\n",
       "    .dataframe tbody tr th:only-of-type {\n",
       "        vertical-align: middle;\n",
       "    }\n",
       "\n",
       "    .dataframe tbody tr th {\n",
       "        vertical-align: top;\n",
       "    }\n",
       "\n",
       "    .dataframe thead th {\n",
       "        text-align: right;\n",
       "    }\n",
       "</style>\n",
       "<table border=\"1\" class=\"dataframe\">\n",
       "  <thead>\n",
       "    <tr style=\"text-align: right;\">\n",
       "      <th></th>\n",
       "      <th>category</th>\n",
       "      <th>content</th>\n",
       "    </tr>\n",
       "  </thead>\n",
       "  <tbody>\n",
       "    <tr>\n",
       "      <th>4345</th>\n",
       "      <td>Kitaifa</td>\n",
       "      <td>BENKI ya Maendeleo ya Afrika (AfDB) inataraji...</td>\n",
       "    </tr>\n",
       "    <tr>\n",
       "      <th>4309</th>\n",
       "      <td>Kitaifa</td>\n",
       "      <td>SERIKALI ya Mapinduzi ya Zanzibar imesema uvu...</td>\n",
       "    </tr>\n",
       "    <tr>\n",
       "      <th>2651</th>\n",
       "      <td>Kitaifa</td>\n",
       "      <td>KAMPUNI ya LafargeHolcim Tanzania inayotengen...</td>\n",
       "    </tr>\n",
       "    <tr>\n",
       "      <th>4834</th>\n",
       "      <td>Kitaifa</td>\n",
       "      <td>TANZANIA na Uganda zimeeleza kuwa mipango ya ...</td>\n",
       "    </tr>\n",
       "    <tr>\n",
       "      <th>4545</th>\n",
       "      <td>Kitaifa</td>\n",
       "      <td>SERIKALI ya Mapinduzi ya Zanzibar imesema had...</td>\n",
       "    </tr>\n",
       "    <tr>\n",
       "      <th>...</th>\n",
       "      <td>...</td>\n",
       "      <td>...</td>\n",
       "    </tr>\n",
       "    <tr>\n",
       "      <th>2553</th>\n",
       "      <td>Kitaifa</td>\n",
       "      <td>NMB ni moja ya benki zilizopo nchini, lakini ...</td>\n",
       "    </tr>\n",
       "    <tr>\n",
       "      <th>4479</th>\n",
       "      <td>Kitaifa</td>\n",
       "      <td>KATIKA msimu wa kuelekea Krismasi na Mwaka Mp...</td>\n",
       "    </tr>\n",
       "    <tr>\n",
       "      <th>1273</th>\n",
       "      <td>Kitaifa</td>\n",
       "      <td>WAKALA wa Mabasi Yaendayo Haraka (DART) ambao...</td>\n",
       "    </tr>\n",
       "    <tr>\n",
       "      <th>3119</th>\n",
       "      <td>Kitaifa</td>\n",
       "      <td>MATUNDA ya uwekezaji mkubwa katika kiwanda ch...</td>\n",
       "    </tr>\n",
       "    <tr>\n",
       "      <th>3878</th>\n",
       "      <td>Kitaifa</td>\n",
       "      <td>WADAU wa uzalishaji wa mvinyo nchini pamoja n...</td>\n",
       "    </tr>\n",
       "  </tbody>\n",
       "</table>\n",
       "<p>61 rows × 2 columns</p>\n",
       "</div>"
      ]
     },
     "metadata": {}
    },
    {
     "output_type": "stream",
     "name": "stdout",
     "text": [
      "\n",
      "'Kitaifa' predicted as 'michezo' : 29 examples.\n"
     ]
    },
    {
     "output_type": "display_data",
     "data": {
      "text/plain": [
       "     category                                            content\n",
       "1960  Kitaifa   KLABU ya Azam FC imewatema nyota wanane kweny...\n",
       "1299  Kitaifa   MSANII wa muziki nchini Richard Mavoko amekan...\n",
       "1687  Kitaifa   KOCHA Mkuu wa Simba, Patrick Aussems amesema ...\n",
       "1115  Kitaifa   SIMBA jana ilifungwa mabao 5-4 na Sevilla ya ...\n",
       "4079  Kitaifa   WAWAKILISHI wa Tanzania katika michuano ya Kl...\n",
       "2036  Kitaifa   MWEZI uliopita Mbunge wa Geita Vijijini, Jose...\n",
       "2102  Kitaifa   MAHAKAMA ya Hakimu Mkazi Kisutu imeshindwa ku...\n",
       "2620  Kitaifa   SIMBA, jana iliendelea vema na kampeni za kut...\n",
       "728   Kitaifa   MWANARIADHA Joshua Cheptegei amekuwa Mganda w...\n",
       "1852  Kitaifa   ZAIDI ya Shilingi milioni 300 zinatarajiwa ku...\n",
       "2939  Kitaifa   MICHUANO ya soka kuwania Kombe la Nane Nane y...\n",
       "2720  Kitaifa   KINARA wa Ligi Kuu Tanzania bara (TPL), Yanga...\n",
       "1951  Kitaifa   MSANII wa filamu wa Bongo Movie Irene Uwoya a...\n",
       "3681  Kitaifa   YANGA na Azam FC leo zinatarajiwa kushuka dim...\n",
       "2708  Kitaifa   MSHAMBULIAJI wa Klabu ya Mbeya City FC, Eliud...\n",
       "1848  Kitaifa   KUELEKEA kilele cha Tamasha la Tigo Fiesta ke...\n",
       "223   Kitaifa   UONGOZI wa JKT Oljoro ya jijini Arusha ambao ...\n",
       "4701  Kitaifa   WACHEZAJI wa Mbao FC, Metacha Mnata na Vincen...\n",
       "1595  Kitaifa   BAADA ya vuguvugu na danadana za kutofanyika ...\n",
       "4055  Kitaifa   MIKOA saba imedhibitisha kuandaa tamasha la P...\n",
       "217   Kitaifa   WATAZAMAJI wanatakiwa kutoa kiasi cha Sh 5,00...\n",
       "2873  Kitaifa   POINTI tatu ndio jambo muhimu katika mechi ya...\n",
       "2901  Kitaifa   BONDIA Francis Cheka juzi alikumbana na ngumi...\n",
       "2696  Kitaifa   SPIKA wa Bunge la Tanzania, Job Ndugai pamoja...\n",
       "4842  Kitaifa   MAHAKAMA ya Hakimu Mkazi Kisutu imewakuta na ...\n",
       "3689  Kitaifa   MBIO za ubingwa wa Ligi Kuu Bara kwa vigogo w...\n",
       "368   Kitaifa   Tamasha la Tigo Fiesta mwaka 2018 lililokuwa ...\n",
       "685   Kitaifa   BODI ya Michezo ya Kubahatisha imesema katika...\n",
       "4685  Kitaifa   KOCHA wa Real Madrid, Zinedine Zidane, amesem..."
      ],
      "text/html": [
       "<div>\n",
       "<style scoped>\n",
       "    .dataframe tbody tr th:only-of-type {\n",
       "        vertical-align: middle;\n",
       "    }\n",
       "\n",
       "    .dataframe tbody tr th {\n",
       "        vertical-align: top;\n",
       "    }\n",
       "\n",
       "    .dataframe thead th {\n",
       "        text-align: right;\n",
       "    }\n",
       "</style>\n",
       "<table border=\"1\" class=\"dataframe\">\n",
       "  <thead>\n",
       "    <tr style=\"text-align: right;\">\n",
       "      <th></th>\n",
       "      <th>category</th>\n",
       "      <th>content</th>\n",
       "    </tr>\n",
       "  </thead>\n",
       "  <tbody>\n",
       "    <tr>\n",
       "      <th>1960</th>\n",
       "      <td>Kitaifa</td>\n",
       "      <td>KLABU ya Azam FC imewatema nyota wanane kweny...</td>\n",
       "    </tr>\n",
       "    <tr>\n",
       "      <th>1299</th>\n",
       "      <td>Kitaifa</td>\n",
       "      <td>MSANII wa muziki nchini Richard Mavoko amekan...</td>\n",
       "    </tr>\n",
       "    <tr>\n",
       "      <th>1687</th>\n",
       "      <td>Kitaifa</td>\n",
       "      <td>KOCHA Mkuu wa Simba, Patrick Aussems amesema ...</td>\n",
       "    </tr>\n",
       "    <tr>\n",
       "      <th>1115</th>\n",
       "      <td>Kitaifa</td>\n",
       "      <td>SIMBA jana ilifungwa mabao 5-4 na Sevilla ya ...</td>\n",
       "    </tr>\n",
       "    <tr>\n",
       "      <th>4079</th>\n",
       "      <td>Kitaifa</td>\n",
       "      <td>WAWAKILISHI wa Tanzania katika michuano ya Kl...</td>\n",
       "    </tr>\n",
       "    <tr>\n",
       "      <th>2036</th>\n",
       "      <td>Kitaifa</td>\n",
       "      <td>MWEZI uliopita Mbunge wa Geita Vijijini, Jose...</td>\n",
       "    </tr>\n",
       "    <tr>\n",
       "      <th>2102</th>\n",
       "      <td>Kitaifa</td>\n",
       "      <td>MAHAKAMA ya Hakimu Mkazi Kisutu imeshindwa ku...</td>\n",
       "    </tr>\n",
       "    <tr>\n",
       "      <th>2620</th>\n",
       "      <td>Kitaifa</td>\n",
       "      <td>SIMBA, jana iliendelea vema na kampeni za kut...</td>\n",
       "    </tr>\n",
       "    <tr>\n",
       "      <th>728</th>\n",
       "      <td>Kitaifa</td>\n",
       "      <td>MWANARIADHA Joshua Cheptegei amekuwa Mganda w...</td>\n",
       "    </tr>\n",
       "    <tr>\n",
       "      <th>1852</th>\n",
       "      <td>Kitaifa</td>\n",
       "      <td>ZAIDI ya Shilingi milioni 300 zinatarajiwa ku...</td>\n",
       "    </tr>\n",
       "    <tr>\n",
       "      <th>2939</th>\n",
       "      <td>Kitaifa</td>\n",
       "      <td>MICHUANO ya soka kuwania Kombe la Nane Nane y...</td>\n",
       "    </tr>\n",
       "    <tr>\n",
       "      <th>2720</th>\n",
       "      <td>Kitaifa</td>\n",
       "      <td>KINARA wa Ligi Kuu Tanzania bara (TPL), Yanga...</td>\n",
       "    </tr>\n",
       "    <tr>\n",
       "      <th>1951</th>\n",
       "      <td>Kitaifa</td>\n",
       "      <td>MSANII wa filamu wa Bongo Movie Irene Uwoya a...</td>\n",
       "    </tr>\n",
       "    <tr>\n",
       "      <th>3681</th>\n",
       "      <td>Kitaifa</td>\n",
       "      <td>YANGA na Azam FC leo zinatarajiwa kushuka dim...</td>\n",
       "    </tr>\n",
       "    <tr>\n",
       "      <th>2708</th>\n",
       "      <td>Kitaifa</td>\n",
       "      <td>MSHAMBULIAJI wa Klabu ya Mbeya City FC, Eliud...</td>\n",
       "    </tr>\n",
       "    <tr>\n",
       "      <th>1848</th>\n",
       "      <td>Kitaifa</td>\n",
       "      <td>KUELEKEA kilele cha Tamasha la Tigo Fiesta ke...</td>\n",
       "    </tr>\n",
       "    <tr>\n",
       "      <th>223</th>\n",
       "      <td>Kitaifa</td>\n",
       "      <td>UONGOZI wa JKT Oljoro ya jijini Arusha ambao ...</td>\n",
       "    </tr>\n",
       "    <tr>\n",
       "      <th>4701</th>\n",
       "      <td>Kitaifa</td>\n",
       "      <td>WACHEZAJI wa Mbao FC, Metacha Mnata na Vincen...</td>\n",
       "    </tr>\n",
       "    <tr>\n",
       "      <th>1595</th>\n",
       "      <td>Kitaifa</td>\n",
       "      <td>BAADA ya vuguvugu na danadana za kutofanyika ...</td>\n",
       "    </tr>\n",
       "    <tr>\n",
       "      <th>4055</th>\n",
       "      <td>Kitaifa</td>\n",
       "      <td>MIKOA saba imedhibitisha kuandaa tamasha la P...</td>\n",
       "    </tr>\n",
       "    <tr>\n",
       "      <th>217</th>\n",
       "      <td>Kitaifa</td>\n",
       "      <td>WATAZAMAJI wanatakiwa kutoa kiasi cha Sh 5,00...</td>\n",
       "    </tr>\n",
       "    <tr>\n",
       "      <th>2873</th>\n",
       "      <td>Kitaifa</td>\n",
       "      <td>POINTI tatu ndio jambo muhimu katika mechi ya...</td>\n",
       "    </tr>\n",
       "    <tr>\n",
       "      <th>2901</th>\n",
       "      <td>Kitaifa</td>\n",
       "      <td>BONDIA Francis Cheka juzi alikumbana na ngumi...</td>\n",
       "    </tr>\n",
       "    <tr>\n",
       "      <th>2696</th>\n",
       "      <td>Kitaifa</td>\n",
       "      <td>SPIKA wa Bunge la Tanzania, Job Ndugai pamoja...</td>\n",
       "    </tr>\n",
       "    <tr>\n",
       "      <th>4842</th>\n",
       "      <td>Kitaifa</td>\n",
       "      <td>MAHAKAMA ya Hakimu Mkazi Kisutu imewakuta na ...</td>\n",
       "    </tr>\n",
       "    <tr>\n",
       "      <th>3689</th>\n",
       "      <td>Kitaifa</td>\n",
       "      <td>MBIO za ubingwa wa Ligi Kuu Bara kwa vigogo w...</td>\n",
       "    </tr>\n",
       "    <tr>\n",
       "      <th>368</th>\n",
       "      <td>Kitaifa</td>\n",
       "      <td>Tamasha la Tigo Fiesta mwaka 2018 lililokuwa ...</td>\n",
       "    </tr>\n",
       "    <tr>\n",
       "      <th>685</th>\n",
       "      <td>Kitaifa</td>\n",
       "      <td>BODI ya Michezo ya Kubahatisha imesema katika...</td>\n",
       "    </tr>\n",
       "    <tr>\n",
       "      <th>4685</th>\n",
       "      <td>Kitaifa</td>\n",
       "      <td>KOCHA wa Real Madrid, Zinedine Zidane, amesem...</td>\n",
       "    </tr>\n",
       "  </tbody>\n",
       "</table>\n",
       "</div>"
      ]
     },
     "metadata": {}
    },
    {
     "output_type": "stream",
     "name": "stdout",
     "text": [
      "\n"
     ]
    }
   ],
   "metadata": {}
  },
  {
   "cell_type": "code",
   "execution_count": 30,
   "source": [
    "model.fit(features, labels)\n",
    "\n",
    "N = 2\n",
    "for Product, category_id in sorted(category_to_id.items()):\n",
    "    indices = np.argsort(model.coef_[category_id])\n",
    "    feature_names = np.array(tfidf.get_feature_names())[indices]\n",
    "    unigrams = [v for v in reversed(feature_names) if len(v.split(' ')) == 1][:N]\n",
    "    bigrams = [v for v in reversed(feature_names) if len(v.split(' ')) == 2][:N]\n",
    "    print(\"# '{}':\".format(Product))\n",
    "    print(\"  . Top unigrams:\\n       . {}\".format('\\n       . '.join(unigrams)))\n",
    "    print(\"  . Top bigrams:\\n       . {}\".format('\\n       . '.join(bigrams)))"
   ],
   "outputs": [
    {
     "output_type": "stream",
     "name": "stdout",
     "text": [
      "# 'Biashara':\n",
      "  . Top unigrams:\n",
      "       . amesema\n",
      "       . biashara\n",
      "  . Top bigrams:\n",
      "       . benki hiyo\n",
      "       . bei ya\n",
      "# 'Burudani':\n",
      "  . Top unigrams:\n",
      "       . brown\n",
      "       . up\n",
      "  . Top bigrams:\n",
      "       . ya urembo\n",
      "       . ameipongeza kampuni\n",
      "# 'Kimataifa':\n",
      "  . Top unigrams:\n",
      "       . uingereza\n",
      "       . virusi\n",
      "  . Top bigrams:\n",
      "       . nchi hiyo\n",
      "       . taifa hilo\n",
      "# 'Kitaifa':\n",
      "  . Top unigrams:\n",
      "       . magufuli\n",
      "       . wananchi\n",
      "  . Top bigrams:\n",
      "       . john magufuli\n",
      "       . rais john\n",
      "# 'michezo':\n",
      "  . Top unigrams:\n",
      "       . timu\n",
      "       . michezo\n",
      "  . Top bigrams:\n",
      "       . msanii huyo\n",
      "       . klabu hiyo\n"
     ]
    }
   ],
   "metadata": {}
  },
  {
   "cell_type": "code",
   "execution_count": 32,
   "source": [
    "from sklearn import metrics\n",
    "print(metrics.classification_report(y_test, y_pred, target_names=df['category'].unique()))"
   ],
   "outputs": [
    {
     "output_type": "stream",
     "name": "stdout",
     "text": [
      "              precision    recall  f1-score   support\n",
      "\n",
      "     Kitaifa       0.83      0.86      0.84       654\n",
      "    Biashara       0.85      0.81      0.83       465\n",
      "     michezo       0.94      0.97      0.96       556\n",
      "   Kimataifa       0.00      0.00      0.00        21\n",
      "    Burudani       0.00      0.00      0.00         4\n",
      "\n",
      "    accuracy                           0.87      1700\n",
      "   macro avg       0.52      0.53      0.53      1700\n",
      "weighted avg       0.86      0.87      0.86      1700\n",
      "\n"
     ]
    },
    {
     "output_type": "stream",
     "name": "stderr",
     "text": [
      "/Library/Frameworks/Python.framework/Versions/3.7/lib/python3.7/site-packages/sklearn/metrics/classification.py:1437: UndefinedMetricWarning: Precision and F-score are ill-defined and being set to 0.0 in labels with no predicted samples.\n",
      "  'precision', 'predicted', average, warn_for)\n"
     ]
    }
   ],
   "metadata": {}
  },
  {
   "cell_type": "markdown",
   "source": [
    "----"
   ],
   "metadata": {}
  },
  {
   "cell_type": "markdown",
   "source": [
    "Creating Submit File(s)"
   ],
   "metadata": {}
  },
  {
   "cell_type": "code",
   "execution_count": 33,
   "source": [
    "test_df = pd.read_csv('Test.csv')"
   ],
   "outputs": [],
   "metadata": {}
  },
  {
   "cell_type": "code",
   "execution_count": 35,
   "source": [
    "#del df['id']\n",
    "test_df.head()"
   ],
   "outputs": [
    {
     "output_type": "execute_result",
     "data": {
      "text/plain": [
       "                                 swahili_id  \\\n",
       "0  001dd47ac202d9db6624a5ff734a5e7dddafeaf2   \n",
       "1  0043d97f7690e9bc02f0ed8bb2b260d1d44bad92   \n",
       "2  00579c2307b5c11003d21c40c3ecff5e922c3fd8   \n",
       "3  00868eeee349e286303706ef0ffd851f39708d37   \n",
       "4  00a5cb12d3058dcf2e42f277eee599992db32412   \n",
       "\n",
       "                                             content  \n",
       "0   MKUU wa Wilaya ya Bahi, Mkoani Dodoma, Mwanah...  \n",
       "1   MWISHONI mwa wiki hii, Timu ya Soka ya Taifa,...  \n",
       "2   THAMANI ya mauzo ya bidhaa za Afrika Masharik...  \n",
       "3   MENEJA Mawasiliano na Utetezi wa asasi ya AGP...  \n",
       "4   WAZIRI wa Kilimo, Japhet Hasunga amesema seri...  "
      ],
      "text/html": [
       "<div>\n",
       "<style scoped>\n",
       "    .dataframe tbody tr th:only-of-type {\n",
       "        vertical-align: middle;\n",
       "    }\n",
       "\n",
       "    .dataframe tbody tr th {\n",
       "        vertical-align: top;\n",
       "    }\n",
       "\n",
       "    .dataframe thead th {\n",
       "        text-align: right;\n",
       "    }\n",
       "</style>\n",
       "<table border=\"1\" class=\"dataframe\">\n",
       "  <thead>\n",
       "    <tr style=\"text-align: right;\">\n",
       "      <th></th>\n",
       "      <th>swahili_id</th>\n",
       "      <th>content</th>\n",
       "    </tr>\n",
       "  </thead>\n",
       "  <tbody>\n",
       "    <tr>\n",
       "      <th>0</th>\n",
       "      <td>001dd47ac202d9db6624a5ff734a5e7dddafeaf2</td>\n",
       "      <td>MKUU wa Wilaya ya Bahi, Mkoani Dodoma, Mwanah...</td>\n",
       "    </tr>\n",
       "    <tr>\n",
       "      <th>1</th>\n",
       "      <td>0043d97f7690e9bc02f0ed8bb2b260d1d44bad92</td>\n",
       "      <td>MWISHONI mwa wiki hii, Timu ya Soka ya Taifa,...</td>\n",
       "    </tr>\n",
       "    <tr>\n",
       "      <th>2</th>\n",
       "      <td>00579c2307b5c11003d21c40c3ecff5e922c3fd8</td>\n",
       "      <td>THAMANI ya mauzo ya bidhaa za Afrika Masharik...</td>\n",
       "    </tr>\n",
       "    <tr>\n",
       "      <th>3</th>\n",
       "      <td>00868eeee349e286303706ef0ffd851f39708d37</td>\n",
       "      <td>MENEJA Mawasiliano na Utetezi wa asasi ya AGP...</td>\n",
       "    </tr>\n",
       "    <tr>\n",
       "      <th>4</th>\n",
       "      <td>00a5cb12d3058dcf2e42f277eee599992db32412</td>\n",
       "      <td>WAZIRI wa Kilimo, Japhet Hasunga amesema seri...</td>\n",
       "    </tr>\n",
       "  </tbody>\n",
       "</table>\n",
       "</div>"
      ]
     },
     "metadata": {},
     "execution_count": 35
    }
   ],
   "metadata": {}
  },
  {
   "cell_type": "code",
   "execution_count": 42,
   "source": [
    "test_features = tfidf.fit_transform(test_df.content).toarray()\n",
    "test_features.shape"
   ],
   "outputs": [
    {
     "output_type": "execute_result",
     "data": {
      "text/plain": [
       "(1288, 15417)"
      ]
     },
     "metadata": {},
     "execution_count": 42
    }
   ],
   "metadata": {}
  },
  {
   "cell_type": "code",
   "execution_count": null,
   "source": [
    "test_pred = model.predict(test_features)"
   ],
   "outputs": [],
   "metadata": {}
  },
  {
   "cell_type": "code",
   "execution_count": 47,
   "source": [],
   "outputs": [
    {
     "output_type": "execute_result",
     "data": {
      "text/plain": [
       "array([[0., 0., 0., ..., 0., 0., 0.],\n",
       "       [0., 0., 0., ..., 0., 0., 0.],\n",
       "       [0., 0., 0., ..., 0., 0., 0.],\n",
       "       ...,\n",
       "       [0., 0., 0., ..., 0., 0., 0.],\n",
       "       [0., 0., 0., ..., 0., 0., 0.],\n",
       "       [0., 0., 0., ..., 0., 0., 0.]])"
      ]
     },
     "metadata": {},
     "execution_count": 47
    }
   ],
   "metadata": {}
  }
 ],
 "metadata": {
  "orig_nbformat": 4,
  "language_info": {
   "name": "python",
   "version": "3.7.4",
   "mimetype": "text/x-python",
   "codemirror_mode": {
    "name": "ipython",
    "version": 3
   },
   "pygments_lexer": "ipython3",
   "nbconvert_exporter": "python",
   "file_extension": ".py"
  },
  "kernelspec": {
   "name": "python3",
   "display_name": "Python 3.7.4 64-bit ('3.7')"
  },
  "interpreter": {
   "hash": "e534e48711db4d1e1c48977d0d14ff85b1f16d41bcc4fdfd88268a329b3c9d66"
  }
 },
 "nbformat": 4,
 "nbformat_minor": 2
}