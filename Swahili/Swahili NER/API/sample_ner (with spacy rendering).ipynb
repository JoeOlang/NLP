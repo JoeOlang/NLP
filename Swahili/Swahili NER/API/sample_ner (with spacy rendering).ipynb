{
 "cells": [
  {
   "cell_type": "code",
   "execution_count": 1,
   "metadata": {},
   "outputs": [],
   "source": [
    "from transformers import pipeline\n",
    "from transformers import AutoTokenizer, AutoModelForTokenClassification\n",
    "import spacy\n",
    "from spacy import displacy"
   ]
  },
  {
   "cell_type": "code",
   "execution_count": 2,
   "metadata": {},
   "outputs": [],
   "source": [
    "tokenizer = AutoTokenizer.from_pretrained(\"eolang/Swahili-NER-BertBase-Cased\")\n",
    "model = AutoModelForTokenClassification.from_pretrained(\"eolang/Swahili-NER-BertBase-Cased\")"
   ]
  },
  {
   "cell_type": "code",
   "execution_count": 3,
   "metadata": {},
   "outputs": [],
   "source": [
    "nlp = pipeline(\"ner\", model=model, tokenizer=tokenizer)\n",
    "example = \"Kwa nini Kenya inageukia mazao ya GMO kukabiliana na ukame\""
   ]
  },
  {
   "cell_type": "code",
   "execution_count": 4,
   "metadata": {},
   "outputs": [],
   "source": [
    "ner_results = nlp(example)"
   ]
  },
  {
   "cell_type": "code",
   "execution_count": 5,
   "metadata": {},
   "outputs": [
    {
     "name": "stdout",
     "output_type": "stream",
     "text": [
      "Kwa LABEL_0 0.99923885\n",
      "--------------------------------------------------\n",
      "nin LABEL_0 0.99925774\n",
      "--------------------------------------------------\n",
      "##i LABEL_0 0.9988446\n",
      "--------------------------------------------------\n",
      "Kenya LABEL_5 0.8325896\n",
      "--------------------------------------------------\n",
      "ina LABEL_0 0.9995541\n",
      "--------------------------------------------------\n",
      "##geu LABEL_0 0.9995402\n",
      "--------------------------------------------------\n",
      "##kia LABEL_0 0.9994684\n",
      "--------------------------------------------------\n",
      "ma LABEL_0 0.9829077\n",
      "--------------------------------------------------\n",
      "##za LABEL_0 0.9738737\n",
      "--------------------------------------------------\n",
      "##o LABEL_0 0.97064567\n",
      "--------------------------------------------------\n",
      "ya LABEL_0 0.9718624\n",
      "--------------------------------------------------\n",
      "GM LABEL_0 0.735248\n",
      "--------------------------------------------------\n",
      "##O LABEL_0 0.8975173\n",
      "--------------------------------------------------\n",
      "ku LABEL_0 0.99961275\n",
      "--------------------------------------------------\n",
      "##kab LABEL_0 0.99930036\n",
      "--------------------------------------------------\n",
      "##iliana LABEL_0 0.9990947\n",
      "--------------------------------------------------\n",
      "na LABEL_0 0.9994192\n",
      "--------------------------------------------------\n",
      "uk LABEL_0 0.916036\n",
      "--------------------------------------------------\n",
      "##ame LABEL_0 0.9878804\n",
      "--------------------------------------------------\n"
     ]
    }
   ],
   "source": [
    "# print word and NER tag\n",
    "for result in ner_results:\n",
    "    print(result[\"word\"], result[\"entity\"], result[\"score\"])\n",
    "    print('-----' * 10)"
   ]
  },
  {
   "cell_type": "code",
   "execution_count": 22,
   "metadata": {},
   "outputs": [],
   "source": [
    "# label mapping O (0), B-PER (1), I-PER (2), B-ORG (3), I-ORG (4), B-LOC (5), I-LOC (6).\n",
    "'''\n",
    "In simple temrs B-PER means the word is the beginning of a person's name, I-PER means it is inside a person's name, and O means it is outside a named entity.\n",
    "This is the IOB2 tagging scheme; the same logc aplies to B-ORG, I-ORG, B-LOC, I-LOC etc.\n",
    "'''\n",
    "label_map = {\n",
    "    'LABEL_0': \"Other\",\n",
    "    'LABEL_1': \"B-PERSON\",\n",
    "    'LABEL_2': \"I-PERSON\",\n",
    "    'LABEL_3': \"B-ORGANIZATION\",\n",
    "    'LABEL_4': \"I-ORGANIZATION\",\n",
    "    'LABEL_5': \"B-LOCATION\",\n",
    "    'LABEL_6': \"I-LOCATION\"\n",
    "}"
   ]
  },
  {
   "cell_type": "code",
   "execution_count": 43,
   "metadata": {},
   "outputs": [],
   "source": [
    "def tag(sentence):\n",
    "    # get NER tags\n",
    "    ner_results = nlp(sentence)\n",
    "    # get the labels\n",
    "    labels = [label_map[result[\"entity\"]] for result in ner_results]\n",
    "    # get the words\n",
    "    words = [result[\"word\"] for result in ner_results]\n",
    "    # zip words and labels\n",
    "    results = list(zip(words, labels))\n",
    "\n",
    "    tokens = words\n",
    "    doc = model(' '.join(tokens))\n",
    "    return results, tokens, doc"
   ]
  },
  {
   "cell_type": "code",
   "execution_count": 44,
   "metadata": {},
   "outputs": [
    {
     "ename": "AttributeError",
     "evalue": "'str' object has no attribute 'size'",
     "output_type": "error",
     "traceback": [
      "\u001b[0;31m---------------------------------------------------------------------------\u001b[0m",
      "\u001b[0;31mAttributeError\u001b[0m                            Traceback (most recent call last)",
      "Cell \u001b[0;32mIn[44], line 1\u001b[0m\n\u001b[0;32m----> 1\u001b[0m x, y, z \u001b[39m=\u001b[39m tag(example)\n",
      "Cell \u001b[0;32mIn[43], line 12\u001b[0m, in \u001b[0;36mtag\u001b[0;34m(sentence)\u001b[0m\n\u001b[1;32m      9\u001b[0m results \u001b[39m=\u001b[39m \u001b[39mlist\u001b[39m(\u001b[39mzip\u001b[39m(words, labels))\n\u001b[1;32m     11\u001b[0m tokens \u001b[39m=\u001b[39m words\n\u001b[0;32m---> 12\u001b[0m doc \u001b[39m=\u001b[39m model(\u001b[39m'\u001b[39;49m\u001b[39m \u001b[39;49m\u001b[39m'\u001b[39;49m\u001b[39m.\u001b[39;49mjoin(tokens))\n\u001b[1;32m     13\u001b[0m \u001b[39mreturn\u001b[39;00m results, tokens, doc\n",
      "File \u001b[0;32m~/miniconda3/envs/nlp/lib/python3.9/site-packages/torch/nn/modules/module.py:1130\u001b[0m, in \u001b[0;36mModule._call_impl\u001b[0;34m(self, *input, **kwargs)\u001b[0m\n\u001b[1;32m   1126\u001b[0m \u001b[39m# If we don't have any hooks, we want to skip the rest of the logic in\u001b[39;00m\n\u001b[1;32m   1127\u001b[0m \u001b[39m# this function, and just call forward.\u001b[39;00m\n\u001b[1;32m   1128\u001b[0m \u001b[39mif\u001b[39;00m \u001b[39mnot\u001b[39;00m (\u001b[39mself\u001b[39m\u001b[39m.\u001b[39m_backward_hooks \u001b[39mor\u001b[39;00m \u001b[39mself\u001b[39m\u001b[39m.\u001b[39m_forward_hooks \u001b[39mor\u001b[39;00m \u001b[39mself\u001b[39m\u001b[39m.\u001b[39m_forward_pre_hooks \u001b[39mor\u001b[39;00m _global_backward_hooks\n\u001b[1;32m   1129\u001b[0m         \u001b[39mor\u001b[39;00m _global_forward_hooks \u001b[39mor\u001b[39;00m _global_forward_pre_hooks):\n\u001b[0;32m-> 1130\u001b[0m     \u001b[39mreturn\u001b[39;00m forward_call(\u001b[39m*\u001b[39;49m\u001b[39minput\u001b[39;49m, \u001b[39m*\u001b[39;49m\u001b[39m*\u001b[39;49mkwargs)\n\u001b[1;32m   1131\u001b[0m \u001b[39m# Do not call functions when jit is used\u001b[39;00m\n\u001b[1;32m   1132\u001b[0m full_backward_hooks, non_full_backward_hooks \u001b[39m=\u001b[39m [], []\n",
      "File \u001b[0;32m~/miniconda3/envs/nlp/lib/python3.9/site-packages/transformers/models/bert/modeling_bert.py:1760\u001b[0m, in \u001b[0;36mBertForTokenClassification.forward\u001b[0;34m(self, input_ids, attention_mask, token_type_ids, position_ids, head_mask, inputs_embeds, labels, output_attentions, output_hidden_states, return_dict)\u001b[0m\n\u001b[1;32m   1754\u001b[0m \u001b[39m\u001b[39m\u001b[39mr\u001b[39m\u001b[39m\"\"\"\u001b[39;00m\n\u001b[1;32m   1755\u001b[0m \u001b[39mlabels (`torch.LongTensor` of shape `(batch_size, sequence_length)`, *optional*):\u001b[39;00m\n\u001b[1;32m   1756\u001b[0m \u001b[39m    Labels for computing the token classification loss. Indices should be in `[0, ..., config.num_labels - 1]`.\u001b[39;00m\n\u001b[1;32m   1757\u001b[0m \u001b[39m\"\"\"\u001b[39;00m\n\u001b[1;32m   1758\u001b[0m return_dict \u001b[39m=\u001b[39m return_dict \u001b[39mif\u001b[39;00m return_dict \u001b[39mis\u001b[39;00m \u001b[39mnot\u001b[39;00m \u001b[39mNone\u001b[39;00m \u001b[39melse\u001b[39;00m \u001b[39mself\u001b[39m\u001b[39m.\u001b[39mconfig\u001b[39m.\u001b[39muse_return_dict\n\u001b[0;32m-> 1760\u001b[0m outputs \u001b[39m=\u001b[39m \u001b[39mself\u001b[39;49m\u001b[39m.\u001b[39;49mbert(\n\u001b[1;32m   1761\u001b[0m     input_ids,\n\u001b[1;32m   1762\u001b[0m     attention_mask\u001b[39m=\u001b[39;49mattention_mask,\n\u001b[1;32m   1763\u001b[0m     token_type_ids\u001b[39m=\u001b[39;49mtoken_type_ids,\n\u001b[1;32m   1764\u001b[0m     position_ids\u001b[39m=\u001b[39;49mposition_ids,\n\u001b[1;32m   1765\u001b[0m     head_mask\u001b[39m=\u001b[39;49mhead_mask,\n\u001b[1;32m   1766\u001b[0m     inputs_embeds\u001b[39m=\u001b[39;49minputs_embeds,\n\u001b[1;32m   1767\u001b[0m     output_attentions\u001b[39m=\u001b[39;49moutput_attentions,\n\u001b[1;32m   1768\u001b[0m     output_hidden_states\u001b[39m=\u001b[39;49moutput_hidden_states,\n\u001b[1;32m   1769\u001b[0m     return_dict\u001b[39m=\u001b[39;49mreturn_dict,\n\u001b[1;32m   1770\u001b[0m )\n\u001b[1;32m   1772\u001b[0m sequence_output \u001b[39m=\u001b[39m outputs[\u001b[39m0\u001b[39m]\n\u001b[1;32m   1774\u001b[0m sequence_output \u001b[39m=\u001b[39m \u001b[39mself\u001b[39m\u001b[39m.\u001b[39mdropout(sequence_output)\n",
      "File \u001b[0;32m~/miniconda3/envs/nlp/lib/python3.9/site-packages/torch/nn/modules/module.py:1130\u001b[0m, in \u001b[0;36mModule._call_impl\u001b[0;34m(self, *input, **kwargs)\u001b[0m\n\u001b[1;32m   1126\u001b[0m \u001b[39m# If we don't have any hooks, we want to skip the rest of the logic in\u001b[39;00m\n\u001b[1;32m   1127\u001b[0m \u001b[39m# this function, and just call forward.\u001b[39;00m\n\u001b[1;32m   1128\u001b[0m \u001b[39mif\u001b[39;00m \u001b[39mnot\u001b[39;00m (\u001b[39mself\u001b[39m\u001b[39m.\u001b[39m_backward_hooks \u001b[39mor\u001b[39;00m \u001b[39mself\u001b[39m\u001b[39m.\u001b[39m_forward_hooks \u001b[39mor\u001b[39;00m \u001b[39mself\u001b[39m\u001b[39m.\u001b[39m_forward_pre_hooks \u001b[39mor\u001b[39;00m _global_backward_hooks\n\u001b[1;32m   1129\u001b[0m         \u001b[39mor\u001b[39;00m _global_forward_hooks \u001b[39mor\u001b[39;00m _global_forward_pre_hooks):\n\u001b[0;32m-> 1130\u001b[0m     \u001b[39mreturn\u001b[39;00m forward_call(\u001b[39m*\u001b[39;49m\u001b[39minput\u001b[39;49m, \u001b[39m*\u001b[39;49m\u001b[39m*\u001b[39;49mkwargs)\n\u001b[1;32m   1131\u001b[0m \u001b[39m# Do not call functions when jit is used\u001b[39;00m\n\u001b[1;32m   1132\u001b[0m full_backward_hooks, non_full_backward_hooks \u001b[39m=\u001b[39m [], []\n",
      "File \u001b[0;32m~/miniconda3/envs/nlp/lib/python3.9/site-packages/transformers/models/bert/modeling_bert.py:967\u001b[0m, in \u001b[0;36mBertModel.forward\u001b[0;34m(self, input_ids, attention_mask, token_type_ids, position_ids, head_mask, inputs_embeds, encoder_hidden_states, encoder_attention_mask, past_key_values, use_cache, output_attentions, output_hidden_states, return_dict)\u001b[0m\n\u001b[1;32m    965\u001b[0m     \u001b[39mraise\u001b[39;00m \u001b[39mValueError\u001b[39;00m(\u001b[39m\"\u001b[39m\u001b[39mYou cannot specify both input_ids and inputs_embeds at the same time\u001b[39m\u001b[39m\"\u001b[39m)\n\u001b[1;32m    966\u001b[0m \u001b[39melif\u001b[39;00m input_ids \u001b[39mis\u001b[39;00m \u001b[39mnot\u001b[39;00m \u001b[39mNone\u001b[39;00m:\n\u001b[0;32m--> 967\u001b[0m     input_shape \u001b[39m=\u001b[39m input_ids\u001b[39m.\u001b[39;49msize()\n\u001b[1;32m    968\u001b[0m \u001b[39melif\u001b[39;00m inputs_embeds \u001b[39mis\u001b[39;00m \u001b[39mnot\u001b[39;00m \u001b[39mNone\u001b[39;00m:\n\u001b[1;32m    969\u001b[0m     input_shape \u001b[39m=\u001b[39m inputs_embeds\u001b[39m.\u001b[39msize()[:\u001b[39m-\u001b[39m\u001b[39m1\u001b[39m]\n",
      "\u001b[0;31mAttributeError\u001b[0m: 'str' object has no attribute 'size'"
     ]
    }
   ],
   "source": [
    "x, y, z = tag(example)"
   ]
  },
  {
   "cell_type": "code",
   "execution_count": 40,
   "metadata": {},
   "outputs": [
    {
     "data": {
      "text/plain": [
       "['Kwa',\n",
       " 'nin',\n",
       " '##i',\n",
       " 'Kenya',\n",
       " 'ina',\n",
       " '##geu',\n",
       " '##kia',\n",
       " 'ma',\n",
       " '##za',\n",
       " '##o',\n",
       " 'ya',\n",
       " 'GM',\n",
       " '##O',\n",
       " 'ku',\n",
       " '##kab',\n",
       " '##iliana',\n",
       " 'na',\n",
       " 'uk',\n",
       " '##ame']"
      ]
     },
     "execution_count": 40,
     "metadata": {},
     "output_type": "execute_result"
    }
   ],
   "source": [
    "y"
   ]
  },
  {
   "cell_type": "code",
   "execution_count": 41,
   "metadata": {},
   "outputs": [
    {
     "data": {
      "text/plain": [
       "[('Kwa', 'Other'),\n",
       " ('nin', 'Other'),\n",
       " ('##i', 'Other'),\n",
       " ('Kenya', 'B-LOCATION'),\n",
       " ('ina', 'Other'),\n",
       " ('##geu', 'Other'),\n",
       " ('##kia', 'Other'),\n",
       " ('ma', 'Other'),\n",
       " ('##za', 'Other'),\n",
       " ('##o', 'Other'),\n",
       " ('ya', 'Other'),\n",
       " ('GM', 'Other'),\n",
       " ('##O', 'Other'),\n",
       " ('ku', 'Other'),\n",
       " ('##kab', 'Other'),\n",
       " ('##iliana', 'Other'),\n",
       " ('na', 'Other'),\n",
       " ('uk', 'Other'),\n",
       " ('##ame', 'Other')]"
      ]
     },
     "execution_count": 41,
     "metadata": {},
     "output_type": "execute_result"
    }
   ],
   "source": [
    "x"
   ]
  },
  {
   "cell_type": "code",
   "execution_count": 42,
   "metadata": {},
   "outputs": [
    {
     "data": {
      "text/plain": [
       "[{'entity': 'LABEL_0',\n",
       "  'score': 0.9995419,\n",
       "  'index': 1,\n",
       "  'word': 'Kwa',\n",
       "  'start': 0,\n",
       "  'end': 3},\n",
       " {'entity': 'LABEL_0',\n",
       "  'score': 0.99911195,\n",
       "  'index': 2,\n",
       "  'word': 'nin',\n",
       "  'start': 4,\n",
       "  'end': 7},\n",
       " {'entity': 'LABEL_0',\n",
       "  'score': 0.9993986,\n",
       "  'index': 3,\n",
       "  'word': '#',\n",
       "  'start': 8,\n",
       "  'end': 9},\n",
       " {'entity': 'LABEL_0',\n",
       "  'score': 0.9993782,\n",
       "  'index': 4,\n",
       "  'word': '#',\n",
       "  'start': 9,\n",
       "  'end': 10},\n",
       " {'entity': 'LABEL_0',\n",
       "  'score': 0.99946207,\n",
       "  'index': 5,\n",
       "  'word': 'i',\n",
       "  'start': 10,\n",
       "  'end': 11},\n",
       " {'entity': 'LABEL_5',\n",
       "  'score': 0.99312097,\n",
       "  'index': 6,\n",
       "  'word': 'Kenya',\n",
       "  'start': 12,\n",
       "  'end': 17},\n",
       " {'entity': 'LABEL_0',\n",
       "  'score': 0.99955934,\n",
       "  'index': 7,\n",
       "  'word': 'ina',\n",
       "  'start': 18,\n",
       "  'end': 21},\n",
       " {'entity': 'LABEL_0',\n",
       "  'score': 0.99954766,\n",
       "  'index': 8,\n",
       "  'word': '#',\n",
       "  'start': 22,\n",
       "  'end': 23},\n",
       " {'entity': 'LABEL_0',\n",
       "  'score': 0.9995577,\n",
       "  'index': 9,\n",
       "  'word': '#',\n",
       "  'start': 23,\n",
       "  'end': 24},\n",
       " {'entity': 'LABEL_0',\n",
       "  'score': 0.99952495,\n",
       "  'index': 10,\n",
       "  'word': 'ge',\n",
       "  'start': 24,\n",
       "  'end': 26},\n",
       " {'entity': 'LABEL_0',\n",
       "  'score': 0.9995584,\n",
       "  'index': 11,\n",
       "  'word': '##u',\n",
       "  'start': 26,\n",
       "  'end': 27},\n",
       " {'entity': 'LABEL_0',\n",
       "  'score': 0.99955183,\n",
       "  'index': 12,\n",
       "  'word': '#',\n",
       "  'start': 28,\n",
       "  'end': 29},\n",
       " {'entity': 'LABEL_0',\n",
       "  'score': 0.9995696,\n",
       "  'index': 13,\n",
       "  'word': '#',\n",
       "  'start': 29,\n",
       "  'end': 30},\n",
       " {'entity': 'LABEL_0',\n",
       "  'score': 0.9996106,\n",
       "  'index': 14,\n",
       "  'word': 'ki',\n",
       "  'start': 30,\n",
       "  'end': 32},\n",
       " {'entity': 'LABEL_0',\n",
       "  'score': 0.99965537,\n",
       "  'index': 15,\n",
       "  'word': '##a',\n",
       "  'start': 32,\n",
       "  'end': 33},\n",
       " {'entity': 'LABEL_0',\n",
       "  'score': 0.9994836,\n",
       "  'index': 16,\n",
       "  'word': 'ma',\n",
       "  'start': 34,\n",
       "  'end': 36},\n",
       " {'entity': 'LABEL_0',\n",
       "  'score': 0.9995271,\n",
       "  'index': 17,\n",
       "  'word': '#',\n",
       "  'start': 37,\n",
       "  'end': 38},\n",
       " {'entity': 'LABEL_0',\n",
       "  'score': 0.9995689,\n",
       "  'index': 18,\n",
       "  'word': '#',\n",
       "  'start': 38,\n",
       "  'end': 39},\n",
       " {'entity': 'LABEL_0',\n",
       "  'score': 0.9995789,\n",
       "  'index': 19,\n",
       "  'word': 'za',\n",
       "  'start': 39,\n",
       "  'end': 41},\n",
       " {'entity': 'LABEL_0',\n",
       "  'score': 0.9994578,\n",
       "  'index': 20,\n",
       "  'word': '#',\n",
       "  'start': 42,\n",
       "  'end': 43},\n",
       " {'entity': 'LABEL_0',\n",
       "  'score': 0.9995345,\n",
       "  'index': 21,\n",
       "  'word': '#',\n",
       "  'start': 43,\n",
       "  'end': 44},\n",
       " {'entity': 'LABEL_0',\n",
       "  'score': 0.99962807,\n",
       "  'index': 22,\n",
       "  'word': 'o',\n",
       "  'start': 44,\n",
       "  'end': 45},\n",
       " {'entity': 'LABEL_0',\n",
       "  'score': 0.9996264,\n",
       "  'index': 23,\n",
       "  'word': 'ya',\n",
       "  'start': 46,\n",
       "  'end': 48},\n",
       " {'entity': 'LABEL_0',\n",
       "  'score': 0.9982597,\n",
       "  'index': 24,\n",
       "  'word': 'GM',\n",
       "  'start': 49,\n",
       "  'end': 51},\n",
       " {'entity': 'LABEL_0',\n",
       "  'score': 0.99949646,\n",
       "  'index': 25,\n",
       "  'word': '#',\n",
       "  'start': 52,\n",
       "  'end': 53},\n",
       " {'entity': 'LABEL_0',\n",
       "  'score': 0.99952674,\n",
       "  'index': 26,\n",
       "  'word': '#',\n",
       "  'start': 53,\n",
       "  'end': 54},\n",
       " {'entity': 'LABEL_0',\n",
       "  'score': 0.99967253,\n",
       "  'index': 27,\n",
       "  'word': 'O',\n",
       "  'start': 54,\n",
       "  'end': 55},\n",
       " {'entity': 'LABEL_0',\n",
       "  'score': 0.99960095,\n",
       "  'index': 28,\n",
       "  'word': 'ku',\n",
       "  'start': 56,\n",
       "  'end': 58},\n",
       " {'entity': 'LABEL_0',\n",
       "  'score': 0.9995278,\n",
       "  'index': 29,\n",
       "  'word': '#',\n",
       "  'start': 59,\n",
       "  'end': 60},\n",
       " {'entity': 'LABEL_0',\n",
       "  'score': 0.9995665,\n",
       "  'index': 30,\n",
       "  'word': '#',\n",
       "  'start': 60,\n",
       "  'end': 61},\n",
       " {'entity': 'LABEL_0',\n",
       "  'score': 0.9996178,\n",
       "  'index': 31,\n",
       "  'word': 'ka',\n",
       "  'start': 61,\n",
       "  'end': 63},\n",
       " {'entity': 'LABEL_0',\n",
       "  'score': 0.99950564,\n",
       "  'index': 32,\n",
       "  'word': '##b',\n",
       "  'start': 63,\n",
       "  'end': 64},\n",
       " {'entity': 'LABEL_0',\n",
       "  'score': 0.99954116,\n",
       "  'index': 33,\n",
       "  'word': '#',\n",
       "  'start': 65,\n",
       "  'end': 66},\n",
       " {'entity': 'LABEL_0',\n",
       "  'score': 0.9995772,\n",
       "  'index': 34,\n",
       "  'word': '#',\n",
       "  'start': 66,\n",
       "  'end': 67},\n",
       " {'entity': 'LABEL_0',\n",
       "  'score': 0.99967444,\n",
       "  'index': 35,\n",
       "  'word': 'ili',\n",
       "  'start': 67,\n",
       "  'end': 70},\n",
       " {'entity': 'LABEL_0',\n",
       "  'score': 0.9996617,\n",
       "  'index': 36,\n",
       "  'word': '##ana',\n",
       "  'start': 70,\n",
       "  'end': 73},\n",
       " {'entity': 'LABEL_0',\n",
       "  'score': 0.9996778,\n",
       "  'index': 37,\n",
       "  'word': 'na',\n",
       "  'start': 74,\n",
       "  'end': 76},\n",
       " {'entity': 'LABEL_0',\n",
       "  'score': 0.9988966,\n",
       "  'index': 38,\n",
       "  'word': 'uk',\n",
       "  'start': 77,\n",
       "  'end': 79},\n",
       " {'entity': 'LABEL_0',\n",
       "  'score': 0.9995115,\n",
       "  'index': 39,\n",
       "  'word': '#',\n",
       "  'start': 80,\n",
       "  'end': 81},\n",
       " {'entity': 'LABEL_0',\n",
       "  'score': 0.9995135,\n",
       "  'index': 40,\n",
       "  'word': '#',\n",
       "  'start': 81,\n",
       "  'end': 82},\n",
       " {'entity': 'LABEL_0',\n",
       "  'score': 0.99964356,\n",
       "  'index': 41,\n",
       "  'word': 'am',\n",
       "  'start': 82,\n",
       "  'end': 84},\n",
       " {'entity': 'LABEL_0',\n",
       "  'score': 0.99969375,\n",
       "  'index': 42,\n",
       "  'word': '##e',\n",
       "  'start': 84,\n",
       "  'end': 85}]"
      ]
     },
     "execution_count": 42,
     "metadata": {},
     "output_type": "execute_result"
    }
   ],
   "source": [
    "z"
   ]
  },
  {
   "attachments": {},
   "cell_type": "markdown",
   "metadata": {},
   "source": [
    "------------"
   ]
  },
  {
   "cell_type": "code",
   "execution_count": 24,
   "metadata": {},
   "outputs": [
    {
     "name": "stdout",
     "output_type": "stream",
     "text": [
      "dict_keys(['entity', 'score', 'index', 'word', 'start', 'end'])\n"
     ]
    }
   ],
   "source": [
    "#print all keys\n",
    "print(ner_results[0].keys())"
   ]
  },
  {
   "cell_type": "code",
   "execution_count": 25,
   "metadata": {},
   "outputs": [],
   "source": [
    "# create a Spacy Doc object with the words\n",
    "words = [r['word'] for r in ner_results]\n",
    "doc = spacy.tokens.Doc(spacy.vocab.Vocab(), words=words)"
   ]
  },
  {
   "cell_type": "code",
   "execution_count": 32,
   "metadata": {},
   "outputs": [
    {
     "data": {
      "text/plain": [
       "list"
      ]
     },
     "execution_count": 32,
     "metadata": {},
     "output_type": "execute_result"
    }
   ],
   "source": [
    "type (words)"
   ]
  },
  {
   "cell_type": "code",
   "execution_count": 33,
   "metadata": {},
   "outputs": [
    {
     "data": {
      "text/plain": [
       "['Kwa',\n",
       " 'nin',\n",
       " '##i',\n",
       " 'Kenya',\n",
       " 'ina',\n",
       " '##geu',\n",
       " '##kia',\n",
       " 'ma',\n",
       " '##za',\n",
       " '##o',\n",
       " 'ya',\n",
       " 'GM',\n",
       " '##O',\n",
       " 'ku',\n",
       " '##kab',\n",
       " '##iliana',\n",
       " 'na',\n",
       " 'uk',\n",
       " '##ame']"
      ]
     },
     "execution_count": 33,
     "metadata": {},
     "output_type": "execute_result"
    }
   ],
   "source": [
    "words"
   ]
  },
  {
   "cell_type": "code",
   "execution_count": 31,
   "metadata": {},
   "outputs": [
    {
     "data": {
      "text/plain": [
       "spacy.tokens.doc.Doc"
      ]
     },
     "execution_count": 31,
     "metadata": {},
     "output_type": "execute_result"
    }
   ],
   "source": [
    "type(doc)"
   ]
  },
  {
   "cell_type": "code",
   "execution_count": 45,
   "metadata": {},
   "outputs": [],
   "source": [
    "# add entities to the Doc object\n",
    "entities = [(i, i+1, r['entity']) for i, r in enumerate(ner_results)]\n",
    "doc.ents = [spacy.tokens.Span(doc, start, end, label) for start, end, label in entities]"
   ]
  },
  {
   "cell_type": "code",
   "execution_count": 47,
   "metadata": {},
   "outputs": [
    {
     "data": {
      "text/html": [
       "<span class=\"tex2jax_ignore\"><div class=\"entities\" style=\"line-height: 2.5; direction: ltr\">\n",
       "<mark class=\"entity\" style=\"background: #ddd; padding: 0.45em 0.6em; margin: 0 0.25em; line-height: 1; border-radius: 0.35em;\">\n",
       "    Kwa\n",
       "    <span style=\"font-size: 0.8em; font-weight: bold; line-height: 1; border-radius: 0.35em; vertical-align: middle; margin-left: 0.5rem\">LABEL_0</span>\n",
       "</mark>\n",
       " \n",
       "<mark class=\"entity\" style=\"background: #ddd; padding: 0.45em 0.6em; margin: 0 0.25em; line-height: 1; border-radius: 0.35em;\">\n",
       "    nin\n",
       "    <span style=\"font-size: 0.8em; font-weight: bold; line-height: 1; border-radius: 0.35em; vertical-align: middle; margin-left: 0.5rem\">LABEL_0</span>\n",
       "</mark>\n",
       " \n",
       "<mark class=\"entity\" style=\"background: #ddd; padding: 0.45em 0.6em; margin: 0 0.25em; line-height: 1; border-radius: 0.35em;\">\n",
       "    ##i\n",
       "    <span style=\"font-size: 0.8em; font-weight: bold; line-height: 1; border-radius: 0.35em; vertical-align: middle; margin-left: 0.5rem\">LABEL_0</span>\n",
       "</mark>\n",
       " \n",
       "<mark class=\"entity\" style=\"background: #ddd; padding: 0.45em 0.6em; margin: 0 0.25em; line-height: 1; border-radius: 0.35em;\">\n",
       "    Kenya\n",
       "    <span style=\"font-size: 0.8em; font-weight: bold; line-height: 1; border-radius: 0.35em; vertical-align: middle; margin-left: 0.5rem\">LABEL_5</span>\n",
       "</mark>\n",
       " \n",
       "<mark class=\"entity\" style=\"background: #ddd; padding: 0.45em 0.6em; margin: 0 0.25em; line-height: 1; border-radius: 0.35em;\">\n",
       "    ina\n",
       "    <span style=\"font-size: 0.8em; font-weight: bold; line-height: 1; border-radius: 0.35em; vertical-align: middle; margin-left: 0.5rem\">LABEL_0</span>\n",
       "</mark>\n",
       " \n",
       "<mark class=\"entity\" style=\"background: #ddd; padding: 0.45em 0.6em; margin: 0 0.25em; line-height: 1; border-radius: 0.35em;\">\n",
       "    ##geu\n",
       "    <span style=\"font-size: 0.8em; font-weight: bold; line-height: 1; border-radius: 0.35em; vertical-align: middle; margin-left: 0.5rem\">LABEL_0</span>\n",
       "</mark>\n",
       " \n",
       "<mark class=\"entity\" style=\"background: #ddd; padding: 0.45em 0.6em; margin: 0 0.25em; line-height: 1; border-radius: 0.35em;\">\n",
       "    ##kia\n",
       "    <span style=\"font-size: 0.8em; font-weight: bold; line-height: 1; border-radius: 0.35em; vertical-align: middle; margin-left: 0.5rem\">LABEL_0</span>\n",
       "</mark>\n",
       " \n",
       "<mark class=\"entity\" style=\"background: #ddd; padding: 0.45em 0.6em; margin: 0 0.25em; line-height: 1; border-radius: 0.35em;\">\n",
       "    ma\n",
       "    <span style=\"font-size: 0.8em; font-weight: bold; line-height: 1; border-radius: 0.35em; vertical-align: middle; margin-left: 0.5rem\">LABEL_0</span>\n",
       "</mark>\n",
       " \n",
       "<mark class=\"entity\" style=\"background: #ddd; padding: 0.45em 0.6em; margin: 0 0.25em; line-height: 1; border-radius: 0.35em;\">\n",
       "    ##za\n",
       "    <span style=\"font-size: 0.8em; font-weight: bold; line-height: 1; border-radius: 0.35em; vertical-align: middle; margin-left: 0.5rem\">LABEL_0</span>\n",
       "</mark>\n",
       " \n",
       "<mark class=\"entity\" style=\"background: #ddd; padding: 0.45em 0.6em; margin: 0 0.25em; line-height: 1; border-radius: 0.35em;\">\n",
       "    ##o\n",
       "    <span style=\"font-size: 0.8em; font-weight: bold; line-height: 1; border-radius: 0.35em; vertical-align: middle; margin-left: 0.5rem\">LABEL_0</span>\n",
       "</mark>\n",
       " \n",
       "<mark class=\"entity\" style=\"background: #ddd; padding: 0.45em 0.6em; margin: 0 0.25em; line-height: 1; border-radius: 0.35em;\">\n",
       "    ya\n",
       "    <span style=\"font-size: 0.8em; font-weight: bold; line-height: 1; border-radius: 0.35em; vertical-align: middle; margin-left: 0.5rem\">LABEL_0</span>\n",
       "</mark>\n",
       " \n",
       "<mark class=\"entity\" style=\"background: #ddd; padding: 0.45em 0.6em; margin: 0 0.25em; line-height: 1; border-radius: 0.35em;\">\n",
       "    GM\n",
       "    <span style=\"font-size: 0.8em; font-weight: bold; line-height: 1; border-radius: 0.35em; vertical-align: middle; margin-left: 0.5rem\">LABEL_0</span>\n",
       "</mark>\n",
       " \n",
       "<mark class=\"entity\" style=\"background: #ddd; padding: 0.45em 0.6em; margin: 0 0.25em; line-height: 1; border-radius: 0.35em;\">\n",
       "    ##O\n",
       "    <span style=\"font-size: 0.8em; font-weight: bold; line-height: 1; border-radius: 0.35em; vertical-align: middle; margin-left: 0.5rem\">LABEL_0</span>\n",
       "</mark>\n",
       " \n",
       "<mark class=\"entity\" style=\"background: #ddd; padding: 0.45em 0.6em; margin: 0 0.25em; line-height: 1; border-radius: 0.35em;\">\n",
       "    ku\n",
       "    <span style=\"font-size: 0.8em; font-weight: bold; line-height: 1; border-radius: 0.35em; vertical-align: middle; margin-left: 0.5rem\">LABEL_0</span>\n",
       "</mark>\n",
       " \n",
       "<mark class=\"entity\" style=\"background: #ddd; padding: 0.45em 0.6em; margin: 0 0.25em; line-height: 1; border-radius: 0.35em;\">\n",
       "    ##kab\n",
       "    <span style=\"font-size: 0.8em; font-weight: bold; line-height: 1; border-radius: 0.35em; vertical-align: middle; margin-left: 0.5rem\">LABEL_0</span>\n",
       "</mark>\n",
       " \n",
       "<mark class=\"entity\" style=\"background: #ddd; padding: 0.45em 0.6em; margin: 0 0.25em; line-height: 1; border-radius: 0.35em;\">\n",
       "    ##iliana\n",
       "    <span style=\"font-size: 0.8em; font-weight: bold; line-height: 1; border-radius: 0.35em; vertical-align: middle; margin-left: 0.5rem\">LABEL_0</span>\n",
       "</mark>\n",
       " \n",
       "<mark class=\"entity\" style=\"background: #ddd; padding: 0.45em 0.6em; margin: 0 0.25em; line-height: 1; border-radius: 0.35em;\">\n",
       "    na\n",
       "    <span style=\"font-size: 0.8em; font-weight: bold; line-height: 1; border-radius: 0.35em; vertical-align: middle; margin-left: 0.5rem\">LABEL_0</span>\n",
       "</mark>\n",
       " \n",
       "<mark class=\"entity\" style=\"background: #ddd; padding: 0.45em 0.6em; margin: 0 0.25em; line-height: 1; border-radius: 0.35em;\">\n",
       "    uk\n",
       "    <span style=\"font-size: 0.8em; font-weight: bold; line-height: 1; border-radius: 0.35em; vertical-align: middle; margin-left: 0.5rem\">LABEL_0</span>\n",
       "</mark>\n",
       " \n",
       "<mark class=\"entity\" style=\"background: #ddd; padding: 0.45em 0.6em; margin: 0 0.25em; line-height: 1; border-radius: 0.35em;\">\n",
       "    ##ame\n",
       "    <span style=\"font-size: 0.8em; font-weight: bold; line-height: 1; border-radius: 0.35em; vertical-align: middle; margin-left: 0.5rem\">LABEL_0</span>\n",
       "</mark>\n",
       " </div></span>"
      ],
      "text/plain": [
       "<IPython.core.display.HTML object>"
      ]
     },
     "metadata": {},
     "output_type": "display_data"
    }
   ],
   "source": [
    "# create the visualization with displacy with colors\n",
    "options = {'ents': [r['entity'] for r in ner_results]}\n",
    "html = displacy.render(doc, style='ent', jupyter=True, options=options)"
   ]
  },
  {
   "cell_type": "code",
   "execution_count": 52,
   "metadata": {},
   "outputs": [
    {
     "name": "stderr",
     "output_type": "stream",
     "text": [
      "/home/ara/miniconda3/envs/nlp/lib/python3.9/site-packages/spacy/displacy/__init__.py:108: UserWarning: [W011] It looks like you're calling displacy.serve from within a Jupyter notebook or a similar environment. This likely means you're already running a local web server, so there's no need to make displaCy start another one. Instead, you should be able to replace displacy.serve with displacy.render to show the visualization.\n",
      "  warnings.warn(Warnings.W011)\n"
     ]
    },
    {
     "data": {
      "text/html": [
       "<span class=\"tex2jax_ignore\"><!DOCTYPE html>\n",
       "<html lang=\"\">\n",
       "    <head>\n",
       "        <title>displaCy</title>\n",
       "    </head>\n",
       "\n",
       "    <body style=\"font-size: 16px; font-family: -apple-system, BlinkMacSystemFont, 'Segoe UI', Helvetica, Arial, sans-serif, 'Apple Color Emoji', 'Segoe UI Emoji', 'Segoe UI Symbol'; padding: 4rem 2rem; direction: ltr\">\n",
       "<figure style=\"margin-bottom: 6rem\">\n",
       "<div class=\"entities\" style=\"line-height: 2.5; direction: ltr\">\n",
       "<mark class=\"entity\" style=\"background: #ddd; padding: 0.45em 0.6em; margin: 0 0.25em; line-height: 1; border-radius: 0.35em;\">\n",
       "    Kwa\n",
       "    <span style=\"font-size: 0.8em; font-weight: bold; line-height: 1; border-radius: 0.35em; vertical-align: middle; margin-left: 0.5rem\">LABEL_0</span>\n",
       "</mark>\n",
       " \n",
       "<mark class=\"entity\" style=\"background: #ddd; padding: 0.45em 0.6em; margin: 0 0.25em; line-height: 1; border-radius: 0.35em;\">\n",
       "    nin\n",
       "    <span style=\"font-size: 0.8em; font-weight: bold; line-height: 1; border-radius: 0.35em; vertical-align: middle; margin-left: 0.5rem\">LABEL_0</span>\n",
       "</mark>\n",
       " \n",
       "<mark class=\"entity\" style=\"background: #ddd; padding: 0.45em 0.6em; margin: 0 0.25em; line-height: 1; border-radius: 0.35em;\">\n",
       "    ##i\n",
       "    <span style=\"font-size: 0.8em; font-weight: bold; line-height: 1; border-radius: 0.35em; vertical-align: middle; margin-left: 0.5rem\">LABEL_0</span>\n",
       "</mark>\n",
       " \n",
       "<mark class=\"entity\" style=\"background: #ddd; padding: 0.45em 0.6em; margin: 0 0.25em; line-height: 1; border-radius: 0.35em;\">\n",
       "    Kenya\n",
       "    <span style=\"font-size: 0.8em; font-weight: bold; line-height: 1; border-radius: 0.35em; vertical-align: middle; margin-left: 0.5rem\">LABEL_5</span>\n",
       "</mark>\n",
       " \n",
       "<mark class=\"entity\" style=\"background: #ddd; padding: 0.45em 0.6em; margin: 0 0.25em; line-height: 1; border-radius: 0.35em;\">\n",
       "    ina\n",
       "    <span style=\"font-size: 0.8em; font-weight: bold; line-height: 1; border-radius: 0.35em; vertical-align: middle; margin-left: 0.5rem\">LABEL_0</span>\n",
       "</mark>\n",
       " \n",
       "<mark class=\"entity\" style=\"background: #ddd; padding: 0.45em 0.6em; margin: 0 0.25em; line-height: 1; border-radius: 0.35em;\">\n",
       "    ##geu\n",
       "    <span style=\"font-size: 0.8em; font-weight: bold; line-height: 1; border-radius: 0.35em; vertical-align: middle; margin-left: 0.5rem\">LABEL_0</span>\n",
       "</mark>\n",
       " \n",
       "<mark class=\"entity\" style=\"background: #ddd; padding: 0.45em 0.6em; margin: 0 0.25em; line-height: 1; border-radius: 0.35em;\">\n",
       "    ##kia\n",
       "    <span style=\"font-size: 0.8em; font-weight: bold; line-height: 1; border-radius: 0.35em; vertical-align: middle; margin-left: 0.5rem\">LABEL_0</span>\n",
       "</mark>\n",
       " \n",
       "<mark class=\"entity\" style=\"background: #ddd; padding: 0.45em 0.6em; margin: 0 0.25em; line-height: 1; border-radius: 0.35em;\">\n",
       "    ma\n",
       "    <span style=\"font-size: 0.8em; font-weight: bold; line-height: 1; border-radius: 0.35em; vertical-align: middle; margin-left: 0.5rem\">LABEL_0</span>\n",
       "</mark>\n",
       " \n",
       "<mark class=\"entity\" style=\"background: #ddd; padding: 0.45em 0.6em; margin: 0 0.25em; line-height: 1; border-radius: 0.35em;\">\n",
       "    ##za\n",
       "    <span style=\"font-size: 0.8em; font-weight: bold; line-height: 1; border-radius: 0.35em; vertical-align: middle; margin-left: 0.5rem\">LABEL_0</span>\n",
       "</mark>\n",
       " \n",
       "<mark class=\"entity\" style=\"background: #ddd; padding: 0.45em 0.6em; margin: 0 0.25em; line-height: 1; border-radius: 0.35em;\">\n",
       "    ##o\n",
       "    <span style=\"font-size: 0.8em; font-weight: bold; line-height: 1; border-radius: 0.35em; vertical-align: middle; margin-left: 0.5rem\">LABEL_0</span>\n",
       "</mark>\n",
       " \n",
       "<mark class=\"entity\" style=\"background: #ddd; padding: 0.45em 0.6em; margin: 0 0.25em; line-height: 1; border-radius: 0.35em;\">\n",
       "    ya\n",
       "    <span style=\"font-size: 0.8em; font-weight: bold; line-height: 1; border-radius: 0.35em; vertical-align: middle; margin-left: 0.5rem\">LABEL_0</span>\n",
       "</mark>\n",
       " \n",
       "<mark class=\"entity\" style=\"background: #ddd; padding: 0.45em 0.6em; margin: 0 0.25em; line-height: 1; border-radius: 0.35em;\">\n",
       "    GM\n",
       "    <span style=\"font-size: 0.8em; font-weight: bold; line-height: 1; border-radius: 0.35em; vertical-align: middle; margin-left: 0.5rem\">LABEL_0</span>\n",
       "</mark>\n",
       " \n",
       "<mark class=\"entity\" style=\"background: #ddd; padding: 0.45em 0.6em; margin: 0 0.25em; line-height: 1; border-radius: 0.35em;\">\n",
       "    ##O\n",
       "    <span style=\"font-size: 0.8em; font-weight: bold; line-height: 1; border-radius: 0.35em; vertical-align: middle; margin-left: 0.5rem\">LABEL_0</span>\n",
       "</mark>\n",
       " \n",
       "<mark class=\"entity\" style=\"background: #ddd; padding: 0.45em 0.6em; margin: 0 0.25em; line-height: 1; border-radius: 0.35em;\">\n",
       "    ku\n",
       "    <span style=\"font-size: 0.8em; font-weight: bold; line-height: 1; border-radius: 0.35em; vertical-align: middle; margin-left: 0.5rem\">LABEL_0</span>\n",
       "</mark>\n",
       " \n",
       "<mark class=\"entity\" style=\"background: #ddd; padding: 0.45em 0.6em; margin: 0 0.25em; line-height: 1; border-radius: 0.35em;\">\n",
       "    ##kab\n",
       "    <span style=\"font-size: 0.8em; font-weight: bold; line-height: 1; border-radius: 0.35em; vertical-align: middle; margin-left: 0.5rem\">LABEL_0</span>\n",
       "</mark>\n",
       " \n",
       "<mark class=\"entity\" style=\"background: #ddd; padding: 0.45em 0.6em; margin: 0 0.25em; line-height: 1; border-radius: 0.35em;\">\n",
       "    ##iliana\n",
       "    <span style=\"font-size: 0.8em; font-weight: bold; line-height: 1; border-radius: 0.35em; vertical-align: middle; margin-left: 0.5rem\">LABEL_0</span>\n",
       "</mark>\n",
       " \n",
       "<mark class=\"entity\" style=\"background: #ddd; padding: 0.45em 0.6em; margin: 0 0.25em; line-height: 1; border-radius: 0.35em;\">\n",
       "    na\n",
       "    <span style=\"font-size: 0.8em; font-weight: bold; line-height: 1; border-radius: 0.35em; vertical-align: middle; margin-left: 0.5rem\">LABEL_0</span>\n",
       "</mark>\n",
       " \n",
       "<mark class=\"entity\" style=\"background: #ddd; padding: 0.45em 0.6em; margin: 0 0.25em; line-height: 1; border-radius: 0.35em;\">\n",
       "    uk\n",
       "    <span style=\"font-size: 0.8em; font-weight: bold; line-height: 1; border-radius: 0.35em; vertical-align: middle; margin-left: 0.5rem\">LABEL_0</span>\n",
       "</mark>\n",
       " \n",
       "<mark class=\"entity\" style=\"background: #ddd; padding: 0.45em 0.6em; margin: 0 0.25em; line-height: 1; border-radius: 0.35em;\">\n",
       "    ##ame\n",
       "    <span style=\"font-size: 0.8em; font-weight: bold; line-height: 1; border-radius: 0.35em; vertical-align: middle; margin-left: 0.5rem\">LABEL_0</span>\n",
       "</mark>\n",
       " </div>\n",
       "</figure>\n",
       "</body>\n",
       "</html></span>"
      ],
      "text/plain": [
       "<IPython.core.display.HTML object>"
      ]
     },
     "metadata": {},
     "output_type": "display_data"
    },
    {
     "name": "stdout",
     "output_type": "stream",
     "text": [
      "\n",
      "Using the 'ent' visualizer\n",
      "Serving on http://0.0.0.0:5000 ...\n",
      "\n"
     ]
    },
    {
     "name": "stderr",
     "output_type": "stream",
     "text": [
      "127.0.0.1 - - [21/Mar/2023 00:28:07] \"GET / HTTP/1.1\" 200 6129\n",
      "127.0.0.1 - - [21/Mar/2023 00:28:08] \"GET /favicon.ico HTTP/1.1\" 200 6129\n",
      "127.0.0.1 - - [21/Mar/2023 00:28:15] \"GET /favicon.ico HTTP/1.1\" 200 6129\n"
     ]
    },
    {
     "name": "stdout",
     "output_type": "stream",
     "text": [
      "Shutting down server on port 5000.\n"
     ]
    }
   ],
   "source": [
    "displacy.serve(doc, style=\"ent\", options=options)"
   ]
  },
  {
   "cell_type": "code",
   "execution_count": 49,
   "metadata": {},
   "outputs": [],
   "source": [
    "with open(\"ner.html\", \"w\", encoding=\"utf-8\") as file:\n",
    "    file.write(str(html))"
   ]
  },
  {
   "cell_type": "code",
   "execution_count": 55,
   "metadata": {},
   "outputs": [
    {
     "name": "stderr",
     "output_type": "stream",
     "text": [
      "/home/ara/miniconda3/envs/nlp/lib/python3.9/site-packages/spacy/displacy/__init__.py:108: UserWarning: [W011] It looks like you're calling displacy.serve from within a Jupyter notebook or a similar environment. This likely means you're already running a local web server, so there's no need to make displaCy start another one. Instead, you should be able to replace displacy.serve with displacy.render to show the visualization.\n",
      "  warnings.warn(Warnings.W011)\n"
     ]
    },
    {
     "data": {
      "text/html": [
       "<span class=\"tex2jax_ignore\"><!DOCTYPE html>\n",
       "<html lang=\"en\">\n",
       "    <head>\n",
       "        <title>displaCy</title>\n",
       "    </head>\n",
       "\n",
       "    <body style=\"font-size: 16px; font-family: -apple-system, BlinkMacSystemFont, 'Segoe UI', Helvetica, Arial, sans-serif, 'Apple Color Emoji', 'Segoe UI Emoji', 'Segoe UI Symbol'; padding: 4rem 2rem; direction: ltr\">\n",
       "<figure style=\"margin-bottom: 6rem\">\n",
       "<div class=\"entities\" style=\"line-height: 2.5; direction: ltr\">\n",
       "<mark class=\"entity\" style=\"background: #7aecec; padding: 0.45em 0.6em; margin: 0 0.25em; line-height: 1; border-radius: 0.35em;\">\n",
       "    Apple\n",
       "    <span style=\"font-size: 0.8em; font-weight: bold; line-height: 1; border-radius: 0.35em; vertical-align: middle; margin-left: 0.5rem\">ORG</span>\n",
       "</mark>\n",
       " is looking at buying \n",
       "<mark class=\"entity\" style=\"background: #feca74; padding: 0.45em 0.6em; margin: 0 0.25em; line-height: 1; border-radius: 0.35em;\">\n",
       "    U.K.\n",
       "    <span style=\"font-size: 0.8em; font-weight: bold; line-height: 1; border-radius: 0.35em; vertical-align: middle; margin-left: 0.5rem\">GPE</span>\n",
       "</mark>\n",
       " startup for \n",
       "<mark class=\"entity\" style=\"background: #e4e7d2; padding: 0.45em 0.6em; margin: 0 0.25em; line-height: 1; border-radius: 0.35em;\">\n",
       "    $1 billion\n",
       "    <span style=\"font-size: 0.8em; font-weight: bold; line-height: 1; border-radius: 0.35em; vertical-align: middle; margin-left: 0.5rem\">MONEY</span>\n",
       "</mark>\n",
       "</div>\n",
       "</figure>\n",
       "</body>\n",
       "</html></span>"
      ],
      "text/plain": [
       "<IPython.core.display.HTML object>"
      ]
     },
     "metadata": {},
     "output_type": "display_data"
    },
    {
     "name": "stdout",
     "output_type": "stream",
     "text": [
      "\n",
      "Using the 'ent' visualizer\n",
      "Serving on http://0.0.0.0:5050 ...\n",
      "\n"
     ]
    },
    {
     "name": "stderr",
     "output_type": "stream",
     "text": [
      "127.0.0.1 - - [21/Mar/2023 00:30:24] \"GET / HTTP/1.1\" 200 1378\n",
      "127.0.0.1 - - [21/Mar/2023 00:30:25] \"GET /favicon.ico HTTP/1.1\" 200 1378\n"
     ]
    },
    {
     "name": "stdout",
     "output_type": "stream",
     "text": [
      "Shutting down server on port 5050.\n"
     ]
    }
   ],
   "source": [
    "\n",
    "# Load a spaCy language model\n",
    "nlp2 = spacy.load(\"en_core_web_sm\")\n",
    "\n",
    "# Define some text with NER entities\n",
    "text = \"Apple is looking at buying U.K. startup for $1 billion\"\n",
    "\n",
    "# Process the text with the language model\n",
    "doc2 = nlp2(text)\n",
    "\n",
    "# Generate a visualization of the NER entities\n",
    "options = {\"ents\": [\"ORG\", \"GPE\", \"MONEY\"]}\n",
    "colors = {\"ORG\": \"linear-gradient(90deg, #aa9cfc, #fc9ce7)\",\n",
    "          \"GPE\": \"linear-gradient(90deg, #ffba9c, #ffc7c7)\",\n",
    "          \"MONEY\": \"linear-gradient(90deg, #b2fca1, #12d912)\"}\n",
    "displacy.serve(doc2, style=\"ent\", options=options, port=5050)\n"
   ]
  }
 ],
 "metadata": {
  "kernelspec": {
   "display_name": "nlp",
   "language": "python",
   "name": "python3"
  },
  "language_info": {
   "codemirror_mode": {
    "name": "ipython",
    "version": 3
   },
   "file_extension": ".py",
   "mimetype": "text/x-python",
   "name": "python",
   "nbconvert_exporter": "python",
   "pygments_lexer": "ipython3",
   "version": "3.9.16"
  },
  "orig_nbformat": 4
 },
 "nbformat": 4,
 "nbformat_minor": 2
}
