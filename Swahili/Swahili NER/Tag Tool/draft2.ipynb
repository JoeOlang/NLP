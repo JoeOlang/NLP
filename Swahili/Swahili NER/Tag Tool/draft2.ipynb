{
 "cells": [
  {
   "cell_type": "code",
   "execution_count": 1,
   "metadata": {},
   "outputs": [],
   "source": [
    "import random"
   ]
  },
  {
   "cell_type": "code",
   "execution_count": 2,
   "metadata": {},
   "outputs": [],
   "source": [
    "# paths\n",
    "data = 'Data/RFI April - Novmber 2022 titles - cleaned.txt'"
   ]
  },
  {
   "cell_type": "code",
   "execution_count": 3,
   "metadata": {},
   "outputs": [
    {
     "name": "stdout",
     "output_type": "stream",
     "text": [
      "Makala hii imeangazia kauli la kundi la waasi wa M23 kutaka kukutana na msuluhishi wa mgogoro kati ya DRC na Rwanda rais wa Angola Joao Laurenso, Uganda yasema, maambukizo ya virusi vya Ebola, yameanza kupungua, kinara wa upinzani nchini Kenya Raila Odinga wiki hii aliikosoa serikali kwa kukubali kuagizwa kwa mahindi yaliyotengenezwa kwa vinasaba maarufu kama GMO, nchini Mali serikali ya mpito ilitangaza kusitisha shughuli za mashirika yote yanayofadhiliwa na Ufaransa, pamoja na matukio mengine.\n",
      "Total sentences:  2548\n"
     ]
    }
   ],
   "source": [
    "with open(data, 'r') as f:\n",
    "    sentences = f.read().split('\\n')\n",
    "\n",
    "print(sentences[0])\n",
    "print(\"Total sentences: \", len(sentences))"
   ]
  },
  {
   "cell_type": "code",
   "execution_count": 4,
   "metadata": {},
   "outputs": [],
   "source": [
    "def random_selection():\n",
    "    select_sent = sentences[random.randint(0, len(sentences))]\n",
    "\n",
    "    all_words = select_sent.split()\n",
    "    if len(all_words) < 6:      # this is to ensure that the sentence has more than 6 words, if not, it will return None\n",
    "        return None\n",
    "    else:\n",
    "        select_words = random.sample(all_words, k=min(len(all_words), 5))\n",
    "        return select_sent, select_words"
   ]
  },
  {
   "cell_type": "code",
   "execution_count": 9,
   "metadata": {},
   "outputs": [
    {
     "name": "stdout",
     "output_type": "stream",
     "text": [
      "Nchini Madagascar, kimbunga Batsirai kimesababisha vifo vya watu 20 na kusababisha wengine zaidi ya Elfu 55 kusalia bila makaazi wakati huu Umoja wa Mataifa ukionya kuhusu hali mbaya ya hali ya kibinadamu katika kisiwa hicho.\n",
      "['watu', 'Umoja', 'Batsirai', 'kimesababisha', 'wakati']\n"
     ]
    }
   ],
   "source": [
    "sample_sent, sample_toks = random_selection()\n",
    "\n",
    "print(sample_sent)\n",
    "print(sample_toks)"
   ]
  },
  {
   "cell_type": "code",
   "execution_count": 10,
   "metadata": {},
   "outputs": [],
   "source": [
    "# possible tags\n",
    "tags = ['Person', 'Location', 'Date', 'Number', 'Org', 'Other']"
   ]
  },
  {
   "cell_type": "code",
   "execution_count": 18,
   "metadata": {},
   "outputs": [
    {
     "name": "stdout",
     "output_type": "stream",
     "text": [
      "Nchini Madagascar, kimbunga Batsirai kimesababisha vifo vya watu 20 na kusababisha wengine zaidi ya Elfu 55 kusalia bila makaazi wakati huu Umoja wa Mataifa ukionya kuhusu hali mbaya ya hali ya kibinadamu katika kisiwa hicho.\n",
      "---------------------------------------------------------------------------------------------------------------------------------------------------------------------------------------------------------------------------------\n",
      "What tag should 'watu' have? Please choose from the following options: ['Person', 'Location', 'Date', 'Number', 'Org', 'Other']\n",
      "Invalid tag. Please choose from the following options: ['Person', 'Location', 'Date', 'Number', 'Org', 'Other']\n",
      "Nchini Madagascar, kimbunga Batsirai kimesababisha vifo vya watu 20 na kusababisha wengine zaidi ya Elfu 55 kusalia bila makaazi wakati huu Umoja wa Mataifa ukionya kuhusu hali mbaya ya hali ya kibinadamu katika kisiwa hicho.\n",
      "---------------------------------------------------------------------------------------------------------------------------------------------------------------------------------------------------------------------------------\n",
      "What tag should 'Umoja' have? Please choose from the following options: ['Person', 'Location', 'Date', 'Number', 'Org', 'Other']\n",
      "Nchini Madagascar, kimbunga Batsirai kimesababisha vifo vya watu 20 na kusababisha wengine zaidi ya Elfu 55 kusalia bila makaazi wakati huu Umoja wa Mataifa ukionya kuhusu hali mbaya ya hali ya kibinadamu katika kisiwa hicho.\n",
      "---------------------------------------------------------------------------------------------------------------------------------------------------------------------------------------------------------------------------------\n",
      "What tag should 'Batsirai' have? Please choose from the following options: ['Person', 'Location', 'Date', 'Number', 'Org', 'Other']\n",
      "Nchini Madagascar, kimbunga Batsirai kimesababisha vifo vya watu 20 na kusababisha wengine zaidi ya Elfu 55 kusalia bila makaazi wakati huu Umoja wa Mataifa ukionya kuhusu hali mbaya ya hali ya kibinadamu katika kisiwa hicho.\n",
      "---------------------------------------------------------------------------------------------------------------------------------------------------------------------------------------------------------------------------------\n",
      "What tag should 'kimesababisha' have? Please choose from the following options: ['Person', 'Location', 'Date', 'Number', 'Org', 'Other']\n",
      "Nchini Madagascar, kimbunga Batsirai kimesababisha vifo vya watu 20 na kusababisha wengine zaidi ya Elfu 55 kusalia bila makaazi wakati huu Umoja wa Mataifa ukionya kuhusu hali mbaya ya hali ya kibinadamu katika kisiwa hicho.\n",
      "---------------------------------------------------------------------------------------------------------------------------------------------------------------------------------------------------------------------------------\n",
      "What tag should 'wakati' have? Please choose from the following options: ['Person', 'Location', 'Date', 'Number', 'Org', 'Other']\n"
     ]
    }
   ],
   "source": [
    "all_tags = {}\n",
    "\n",
    "for token in sample_toks:\n",
    "    print(sample_sent)\n",
    "    print(\"-\"*len(sample_sent))\n",
    "    print(f\"What tag should '{token}' have? Please choose from the following options: {tags}\")\n",
    "    tag = input().strip()\n",
    "    while tag not in tags:\n",
    "        print(f\"Invalid tag. Please choose from the following options: {tags}\")\n",
    "        tag = input().strip()\n",
    "    all_tags[token] = tag"
   ]
  },
  {
   "cell_type": "code",
   "execution_count": 19,
   "metadata": {},
   "outputs": [
    {
     "name": "stdout",
     "output_type": "stream",
     "text": [
      "{'watu': 'Other', 'Umoja': 'Person', 'Batsirai': 'Person', 'kimesababisha': 'Other', 'wakati': 'Other'}\n"
     ]
    }
   ],
   "source": [
    "print(all_tags)"
   ]
  },
  {
   "cell_type": "code",
   "execution_count": 20,
   "metadata": {},
   "outputs": [
    {
     "name": "stdout",
     "output_type": "stream",
     "text": [
      "{'sentence': 'Nchini Madagascar, kimbunga Batsirai kimesababisha vifo vya watu 20 na kusababisha wengine zaidi ya Elfu 55 kusalia bila makaazi wakati huu Umoja wa Mataifa ukionya kuhusu hali mbaya ya hali ya kibinadamu katika kisiwa hicho.', 'token_tags': [{'token': 'watu', 'tag': 'Other'}, {'token': 'Umoja', 'tag': 'Person'}, {'token': 'Batsirai', 'tag': 'Person'}, {'token': 'kimesababisha', 'tag': 'Other'}, {'token': 'wakati', 'tag': 'Other'}]}\n"
     ]
    }
   ],
   "source": [
    "result = {}\n",
    "\n",
    "# add sentence to result\n",
    "result['sentence'] = sample_sent\n",
    "\n",
    "# add token_tags to result\n",
    "token_tags = []\n",
    "for token in sample_toks:\n",
    "    token_tags.append({'token': token, 'tag': all_tags[token]})\n",
    "\n",
    "result['token_tags'] = token_tags\n",
    "\n",
    "print(result)"
   ]
  },
  {
   "cell_type": "code",
   "execution_count": 21,
   "metadata": {},
   "outputs": [
    {
     "name": "stdout",
     "output_type": "stream",
     "text": [
      "[{'token': 'watu', 'tag': 'Other'}, {'token': 'Umoja', 'tag': 'Person'}, {'token': 'Batsirai', 'tag': 'Person'}, {'token': 'kimesababisha', 'tag': 'Other'}, {'token': 'wakati', 'tag': 'Other'}]\n"
     ]
    }
   ],
   "source": [
    "print(result['token_tags'])\n"
   ]
  },
  {
   "cell_type": "code",
   "execution_count": 22,
   "metadata": {},
   "outputs": [
    {
     "name": "stdout",
     "output_type": "stream",
     "text": [
      "0\n",
      "1\n"
     ]
    }
   ],
   "source": [
    "for i in range(2):\n",
    "    print(i)"
   ]
  },
  {
   "cell_type": "code",
   "execution_count": 24,
   "metadata": {},
   "outputs": [
    {
     "name": "stdout",
     "output_type": "stream",
     "text": [
      "<class 'dict'>\n"
     ]
    }
   ],
   "source": [
    "print(type(result))"
   ]
  },
  {
   "cell_type": "code",
   "execution_count": 2,
   "metadata": {},
   "outputs": [
    {
     "name": "stdout",
     "output_type": "stream",
     "text": [
      "Makala hii imeangazia kauli la kundi la waasi wa M23 kutaka kukutana na msuluhishi wa mgogoro kati ya DRC na Rwanda rais wa Angola Joao Laurenso, Uganda yasema, maambukizo ya virusi vya Ebola, yameanza kupungua, kinara wa upinzani nchini Kenya Raila Odinga wiki hii aliikosoa serikali kwa kukubali kuagizwa kwa mahindi yaliyotengenezwa kwa vinasaba maarufu kama GMO, nchini Mali serikali ya mpito ilitangaza kusitisha shughuli za mashirika yote yanayofadhiliwa na Ufaransa, pamoja na matukio mengine.\n",
      "Total sentences:  2548\n"
     ]
    }
   ],
   "source": [
    "file = open('Data/RFI April - November 2022 titles - cleaned.txt', 'r')\n",
    "sentences = file.read().split('\\n')\n",
    "\n",
    "print(sentences[0])\n",
    "print(\"Total sentences: \", len(sentences))"
   ]
  },
  {
   "cell_type": "code",
   "execution_count": 3,
   "metadata": {},
   "outputs": [],
   "source": [
    "def read_file(file):\n",
    "    with open(file, 'r') as f:\n",
    "        sentences = f.read().split('\\n')\n",
    "    return sentences"
   ]
  },
  {
   "cell_type": "code",
   "execution_count": 4,
   "metadata": {},
   "outputs": [
    {
     "name": "stdout",
     "output_type": "stream",
     "text": [
      "Makala hii imeangazia kauli la kundi la waasi wa M23 kutaka kukutana na msuluhishi wa mgogoro kati ya DRC na Rwanda rais wa Angola Joao Laurenso, Uganda yasema, maambukizo ya virusi vya Ebola, yameanza kupungua, kinara wa upinzani nchini Kenya Raila Odinga wiki hii aliikosoa serikali kwa kukubali kuagizwa kwa mahindi yaliyotengenezwa kwa vinasaba maarufu kama GMO, nchini Mali serikali ya mpito ilitangaza kusitisha shughuli za mashirika yote yanayofadhiliwa na Ufaransa, pamoja na matukio mengine.\n",
      "2548\n"
     ]
    }
   ],
   "source": [
    "print(read_file('Data/RFI April - November 2022 titles - cleaned.txt')[0])\n",
    "\n",
    "print (len(read_file('Data/RFI April - November 2022 titles - cleaned.txt')))"
   ]
  },
  {
   "cell_type": "code",
   "execution_count": 5,
   "metadata": {},
   "outputs": [
    {
     "name": "stdout",
     "output_type": "stream",
     "text": [
      "Makala hii imeangazia kauli la kundi la waasi wa M23 kutaka kukutana na msuluhishi wa mgogoro kati ya DRC na Rwanda rais wa Angola Joao Laurenso, Uganda yasema, maambukizo ya virusi vya Ebola, yameanza kupungua, kinara wa upinzani nchini Kenya Raila Odinga wiki hii aliikosoa serikali kwa kukubali kuagizwa kwa mahindi yaliyotengenezwa kwa vinasaba maarufu kama GMO, nchini Mali serikali ya mpito ilitangaza kusitisha shughuli za mashirika yote yanayofadhiliwa na Ufaransa, pamoja na matukio mengine.\n",
      "2548\n"
     ]
    }
   ],
   "source": [
    "s = read_file('Data/RFI April - November 2022 titles - cleaned.txt')\n",
    "\n",
    "print(s[0])\n",
    "print(len(s))"
   ]
  },
  {
   "cell_type": "code",
   "execution_count": 6,
   "metadata": {},
   "outputs": [],
   "source": [
    "# save as pickle\n",
    "\n",
    "import pickle\n",
    "\n",
    "with open('Data/sw_sentences.pkl', 'wb') as f:\n",
    "    pickle.dump(s, f)"
   ]
  },
  {
   "cell_type": "code",
   "execution_count": null,
   "metadata": {},
   "outputs": [],
   "source": [
    "# load pickle\n"
   ]
  }
 ],
 "metadata": {
  "kernelspec": {
   "display_name": "nlp",
   "language": "python",
   "name": "python3"
  },
  "language_info": {
   "codemirror_mode": {
    "name": "ipython",
    "version": 3
   },
   "file_extension": ".py",
   "mimetype": "text/x-python",
   "name": "python",
   "nbconvert_exporter": "python",
   "pygments_lexer": "ipython3",
   "version": "3.9.12"
  },
  "orig_nbformat": 4,
  "vscode": {
   "interpreter": {
    "hash": "942d44673a7a4df39a5da8353ecf9fb77e0534ac74e33b0da3082171af5dfb41"
   }
  }
 },
 "nbformat": 4,
 "nbformat_minor": 2
}
