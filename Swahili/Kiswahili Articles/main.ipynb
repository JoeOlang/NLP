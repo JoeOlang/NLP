{
 "cells": [
  {
   "cell_type": "code",
   "execution_count": 1,
   "source": [
    "# Imports\n",
    "import bz2\n",
    "from collections import defaultdict\n",
    "import json\n",
    "import os\n",
    "import re\n",
    "import time\n",
    "import yaml\n",
    "\n",
    "import mwparserfromhell\n",
    "import mwxml"
   ],
   "outputs": [
    {
     "output_type": "error",
     "ename": "ModuleNotFoundError",
     "evalue": "No module named 'mwparserfromhell'",
     "traceback": [
      "\u001b[0;31m---------------------------------------------------------------------------\u001b[0m",
      "\u001b[0;31mModuleNotFoundError\u001b[0m                       Traceback (most recent call last)",
      "\u001b[0;32m<ipython-input-1-90960f64233d>\u001b[0m in \u001b[0;36m<module>\u001b[0;34m\u001b[0m\n\u001b[1;32m      8\u001b[0m \u001b[0;32mimport\u001b[0m \u001b[0myaml\u001b[0m\u001b[0;34m\u001b[0m\u001b[0;34m\u001b[0m\u001b[0m\n\u001b[1;32m      9\u001b[0m \u001b[0;34m\u001b[0m\u001b[0m\n\u001b[0;32m---> 10\u001b[0;31m \u001b[0;32mimport\u001b[0m \u001b[0mmwparserfromhell\u001b[0m\u001b[0;34m\u001b[0m\u001b[0;34m\u001b[0m\u001b[0m\n\u001b[0m\u001b[1;32m     11\u001b[0m \u001b[0;32mimport\u001b[0m \u001b[0mmwxml\u001b[0m\u001b[0;34m\u001b[0m\u001b[0;34m\u001b[0m\u001b[0m\n",
      "\u001b[0;31mModuleNotFoundError\u001b[0m: No module named 'mwparserfromhell'"
     ]
    }
   ],
   "metadata": {}
  },
  {
   "cell_type": "code",
   "execution_count": null,
   "source": [],
   "outputs": [],
   "metadata": {}
  },
  {
   "cell_type": "code",
   "execution_count": null,
   "source": [
    "# These are to generate the labels for the dataset.\n",
    "# See https://www.mediawiki.org/wiki/ORES#Topic_interest_mapping for more explanation.\n",
    "\n",
    "def generate_wp_to_labels(wp_taxonomy):\n",
    "    wp_to_labels = defaultdict(set)\n",
    "    for wikiproject_name, label in _invert_wp_taxonomy(wp_taxonomy):\n",
    "        wp_to_labels[wikiproject_name].add(label)\n",
    "    return wp_to_labels\n",
    "\n",
    "\n",
    "def _invert_wp_taxonomy(wp_taxonomy, path=None):\n",
    "    catch_all = None\n",
    "    catch_all_wikiprojects = []\n",
    "    for key, value in wp_taxonomy.items():\n",
    "        path_keys = (path or []) + [key]\n",
    "        if key[-1] == \"*\":\n",
    "            # this is a catch-all\n",
    "            catch_all = path_keys\n",
    "            catch_all_wikiprojects.extend(value)\n",
    "            continue\n",
    "        elif isinstance(value, list):\n",
    "            catch_all_wikiprojects.extend(value)\n",
    "            for wikiproject_name in value:\n",
    "                yield wikiproject_name, \".\".join(path_keys)\n",
    "        else:\n",
    "            yield from _invert_wp_taxonomy(value, path=path_keys)\n",
    "    if catch_all is not None:\n",
    "        for wikiproject_name in catch_all_wikiprojects:\n",
    "            yield wikiproject_name, \".\".join(catch_all)"
   ],
   "outputs": [],
   "metadata": {}
  },
  {
   "cell_type": "code",
   "execution_count": null,
   "source": [
    "def get_wikitext(dump_fn, titles=None, print_every=10000):\n",
    "    \"\"\"Loop through dump file and yield article text.\"\"\"\n",
    "    dump = mwxml.Dump.from_file(bz2.open(dump_fn, 'rt'))\n",
    "    found = 0\n",
    "    processed = 0\n",
    "    start = time.time()\n",
    "    for page in dump:\n",
    "        if page.namespace == 0 and page.redirect is None:  # article namespace and not redirect\n",
    "            processed += 1\n",
    "            if titles is None or page.title in titles:  # talk pages\n",
    "                found += 1\n",
    "                rev = next(page)\n",
    "                yield page.title, rev.text\n",
    "            if processed % print_every == 0:\n",
    "                print(\"{0} articles processed. {1} retained. {2:.1f} seconds passed.\".format(processed, found, time.time() - start))\n",
    "\n",
    "\n",
    "    print(\"Complete: {0} articles processed. {1} retained. {2:.1f} seconds passed.\".format(processed, found, time.time() - start))"
   ],
   "outputs": [],
   "metadata": {}
  },
  {
   "cell_type": "code",
   "execution_count": null,
   "source": [
    "# Note: this may need to be updated with language-specific patterns -- e.g., alternative spellings of Category\n",
    "common_forbidden_patterns =  [\n",
    "    \"<!--.*?-->\",  # this would remove any commented-out text, which is rare but sometimes substantial\n",
    "    \"\\[\\[category:.*?\\]\\]\", # remove categories\n",
    "    \"{{.*?}}\", # remove template text\n",
    "    \"&amp;\",\n",
    "    \"&lt;\",\n",
    "    \"&gt;\",\n",
    "    r\"<ref[^<]*<\\/ref>\",  # remove references\n",
    "    \"<[^>]*>\",\n",
    "    \"\\|left\",\n",
    "    \"\\|\\d+px\",\n",
    "    r\"(https|http)?:\\/\\/(\\w|\\.|\\/|\\?|\\=|\\&|\\%)*\\b\",\n",
    "    \"\\|thumb\",\n",
    "    \"\\|right\",\n",
    "    \"\\[\\[image:[^\\[\\]]*\",\n",
    "    \"\\[\\[category:([^|\\]]*)[^]]*\\]\\]\",\n",
    "    \"\\[\\[[a-z\\-]*:[^\\]]*\\]\\]\",\n",
    "    \"\\[\",\n",
    "    \"\\]\",\n",
    "    \"\\{[^\\}]*\\}\",\n",
    "    r\"\\n\",\n",
    "    \" +\",\n",
    "    r\"[^a-zA-Z0-9 ]\",\n",
    "    r\"\\b[a-zA-Z]\\b\"\n",
    "]\n",
    "\n",
    "compiled_patterns = []\n",
    "for pattern in common_forbidden_patterns:\n",
    "    compiled_patterns.append(re.compile(pattern))"
   ],
   "outputs": [],
   "metadata": {}
  }
 ],
 "metadata": {
  "orig_nbformat": 4,
  "language_info": {
   "name": "python",
   "version": "3.7.4",
   "mimetype": "text/x-python",
   "codemirror_mode": {
    "name": "ipython",
    "version": 3
   },
   "pygments_lexer": "ipython3",
   "nbconvert_exporter": "python",
   "file_extension": ".py"
  },
  "kernelspec": {
   "name": "python3",
   "display_name": "Python 3.7.4 64-bit"
  },
  "interpreter": {
   "hash": "e534e48711db4d1e1c48977d0d14ff85b1f16d41bcc4fdfd88268a329b3c9d66"
  }
 },
 "nbformat": 4,
 "nbformat_minor": 2
}