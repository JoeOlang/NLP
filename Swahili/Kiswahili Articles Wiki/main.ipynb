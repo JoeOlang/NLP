{
 "cells": [
  {
   "cell_type": "code",
   "execution_count": 4,
   "source": [
    "# Imports\n",
    "import bz2\n",
    "from collections import defaultdict\n",
    "import json\n",
    "import os\n",
    "import re\n",
    "import time\n",
    "import yaml\n",
    "\n",
    "import mwparserfromhell\n",
    "import mwxml"
   ],
   "outputs": [],
   "metadata": {}
  },
  {
   "cell_type": "code",
   "execution_count": 5,
   "source": [
    "# Parameters\n",
    "lang_code = 'sw'\n",
    "lang_lbl = 'Kiswahili'\n",
    "labeled_dataset_url = 'https://ndownloader.figshare.com/files/20183063'\n",
    "labeled_dataset_fn = 'enwiki_wptemplates.json.bz2'\n",
    "wp_to_label_url = 'https://ndownloader.figshare.com/files/20205654'\n",
    "wp_to_label_fn = 'wikiproject_taxonomy.halfak_20191202.yaml'\n",
    "article_dump_fn = '/public/dumps/public/{0}wiki/latest/{0}wiki-latest-pages-meta-current.xml.bz2'.format(lang_code)"
   ],
   "outputs": [],
   "metadata": {}
  },
  {
   "cell_type": "code",
   "execution_count": 6,
   "source": [
    "# These are to generate the labels for the dataset.\n",
    "# See https://www.mediawiki.org/wiki/ORES#Topic_interest_mapping for more explanation.\n",
    "\n",
    "def generate_wp_to_labels(wp_taxonomy):\n",
    "    wp_to_labels = defaultdict(set)\n",
    "    for wikiproject_name, label in _invert_wp_taxonomy(wp_taxonomy):\n",
    "        wp_to_labels[wikiproject_name].add(label)\n",
    "    return wp_to_labels\n",
    "\n",
    "\n",
    "def _invert_wp_taxonomy(wp_taxonomy, path=None):\n",
    "    catch_all = None\n",
    "    catch_all_wikiprojects = []\n",
    "    for key, value in wp_taxonomy.items():\n",
    "        path_keys = (path or []) + [key]\n",
    "        if key[-1] == \"*\":\n",
    "            # this is a catch-all\n",
    "            catch_all = path_keys\n",
    "            catch_all_wikiprojects.extend(value)\n",
    "            continue\n",
    "        elif isinstance(value, list):\n",
    "            catch_all_wikiprojects.extend(value)\n",
    "            for wikiproject_name in value:\n",
    "                yield wikiproject_name, \".\".join(path_keys)\n",
    "        else:\n",
    "            yield from _invert_wp_taxonomy(value, path=path_keys)\n",
    "    if catch_all is not None:\n",
    "        for wikiproject_name in catch_all_wikiprojects:\n",
    "            yield wikiproject_name, \".\".join(catch_all)"
   ],
   "outputs": [],
   "metadata": {}
  },
  {
   "cell_type": "code",
   "execution_count": 7,
   "source": [
    "def get_wikitext(dump_fn, titles=None, print_every=10000):\n",
    "    \"\"\"Loop through dump file and yield article text.\"\"\"\n",
    "    dump = mwxml.Dump.from_file(bz2.open(dump_fn, 'rt'))\n",
    "    found = 0\n",
    "    processed = 0\n",
    "    start = time.time()\n",
    "    for page in dump:\n",
    "        if page.namespace == 0 and page.redirect is None:  # article namespace and not redirect\n",
    "            processed += 1\n",
    "            if titles is None or page.title in titles:  # talk pages\n",
    "                found += 1\n",
    "                rev = next(page)\n",
    "                yield page.title, rev.text\n",
    "            if processed % print_every == 0:\n",
    "                print(\"{0} articles processed. {1} retained. {2:.1f} seconds passed.\".format(processed, found, time.time() - start))\n",
    "\n",
    "\n",
    "    print(\"Complete: {0} articles processed. {1} retained. {2:.1f} seconds passed.\".format(processed, found, time.time() - start))"
   ],
   "outputs": [],
   "metadata": {}
  },
  {
   "cell_type": "code",
   "execution_count": 8,
   "source": [
    "# Note: this may need to be updated with language-specific patterns -- e.g., alternative spellings of Category\n",
    "common_forbidden_patterns =  [\n",
    "    \"<!--.*?-->\",  # this would remove any commented-out text, which is rare but sometimes substantial\n",
    "    \"\\[\\[category:.*?\\]\\]\", # remove categories\n",
    "    \"{{.*?}}\", # remove template text\n",
    "    \"&amp;\",\n",
    "    \"&lt;\",\n",
    "    \"&gt;\",\n",
    "    r\"<ref[^<]*<\\/ref>\",  # remove references\n",
    "    \"<[^>]*>\",\n",
    "    \"\\|left\",\n",
    "    \"\\|\\d+px\",\n",
    "    r\"(https|http)?:\\/\\/(\\w|\\.|\\/|\\?|\\=|\\&|\\%)*\\b\",\n",
    "    \"\\|thumb\",\n",
    "    \"\\|right\",\n",
    "    \"\\[\\[image:[^\\[\\]]*\",\n",
    "    \"\\[\\[category:([^|\\]]*)[^]]*\\]\\]\",\n",
    "    \"\\[\\[[a-z\\-]*:[^\\]]*\\]\\]\",\n",
    "    \"\\[\",\n",
    "    \"\\]\",\n",
    "    \"\\{[^\\}]*\\}\",\n",
    "    r\"\\n\",\n",
    "    \" +\",\n",
    "    r\"[^a-zA-Z0-9 ]\",\n",
    "    r\"\\b[a-zA-Z]\\b\"\n",
    "]\n",
    "\n",
    "compiled_patterns = []\n",
    "for pattern in common_forbidden_patterns:\n",
    "    compiled_patterns.append(re.compile(pattern))"
   ],
   "outputs": [],
   "metadata": {}
  },
  {
   "cell_type": "code",
   "execution_count": 11,
   "source": [
    "# this should be quick as the file is only 0.1 MB\n",
    "if not os.path.exists(wp_to_label_fn):\n",
    "    !wget '{wp_to_label_url}' -O '{wp_to_label_fn}'\n",
    "else:\n",
    "    !ls -lht '{wp_to_label_fn}'"
   ],
   "outputs": [
    {
     "output_type": "stream",
     "name": "stdout",
     "text": [
      "/bin/bash: wget: command not found\n"
     ]
    }
   ],
   "metadata": {}
  },
  {
   "cell_type": "code",
   "execution_count": null,
   "source": [
    "# this can take a while as the file is 350 MB\n",
    "if not os.path.exists(labeled_dataset_fn):\n",
    "    !wget '{labeled_dataset_url}' -O '{labeled_dataset_fn}'\n",
    "else:\n",
    "    !ls -lht '{labeled_dataset_fn}'"
   ],
   "outputs": [],
   "metadata": {}
  }
 ],
 "metadata": {
  "orig_nbformat": 4,
  "language_info": {
   "name": "python",
   "version": "3.7.4",
   "mimetype": "text/x-python",
   "codemirror_mode": {
    "name": "ipython",
    "version": 3
   },
   "pygments_lexer": "ipython3",
   "nbconvert_exporter": "python",
   "file_extension": ".py"
  },
  "kernelspec": {
   "name": "python3",
   "display_name": "Python 3.7.4 64-bit"
  },
  "interpreter": {
   "hash": "e534e48711db4d1e1c48977d0d14ff85b1f16d41bcc4fdfd88268a329b3c9d66"
  }
 },
 "nbformat": 4,
 "nbformat_minor": 2
}