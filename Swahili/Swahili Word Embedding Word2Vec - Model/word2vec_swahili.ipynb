{
 "cells": [
  {
   "cell_type": "markdown",
   "metadata": {},
   "source": [
    "Creation of Word Vectors"
   ]
  },
  {
   "cell_type": "code",
   "execution_count": 1,
   "metadata": {},
   "outputs": [],
   "source": [
    "# Import the needed libraries\n",
    "import pandas as pd\n",
    "import numpy as np\n",
    "import csv\n",
    "from nltk.stem.porter import *\n",
    "from nltk.corpus import stopwords\n",
    "from nltk.tokenize import word_tokenize\n",
    "import string\n",
    "import nltk"
   ]
  },
  {
   "cell_type": "code",
   "execution_count": 8,
   "metadata": {},
   "outputs": [
    {
     "name": "stderr",
     "output_type": "stream",
     "text": [
      "[nltk_data] Downloading package punkt to /home/olang/nltk_data...\n",
      "[nltk_data]   Unzipping tokenizers/punkt.zip.\n"
     ]
    },
    {
     "ename": "NameError",
     "evalue": "name 'quite' is not defined",
     "output_type": "error",
     "traceback": [
      "\u001b[0;31m---------------------------------------------------------------------------\u001b[0m",
      "\u001b[0;31mNameError\u001b[0m                                 Traceback (most recent call last)",
      "\u001b[0;32m/tmp/ipykernel_10656/2823617961.py\u001b[0m in \u001b[0;36m<module>\u001b[0;34m\u001b[0m\n\u001b[0;32m----> 1\u001b[0;31m \u001b[0mnltk\u001b[0m\u001b[0;34m.\u001b[0m\u001b[0mdownload\u001b[0m\u001b[0;34m(\u001b[0m\u001b[0;34m'punkt'\u001b[0m\u001b[0;34m)\u001b[0m \u001b[0;34m-\u001b[0m\u001b[0;34m-\u001b[0m\u001b[0mquite\u001b[0m\u001b[0;34m\u001b[0m\u001b[0;34m\u001b[0m\u001b[0m\n\u001b[0m",
      "\u001b[0;31mNameError\u001b[0m: name 'quite' is not defined"
     ]
    }
   ],
   "source": [
    "nltk.download('punkt') --quite"
   ]
  },
  {
   "cell_type": "code",
   "execution_count": 2,
   "metadata": {},
   "outputs": [],
   "source": [
    "# Create a dataframe to hold our various reviews\n",
    "df = pd.read_csv('data.csv')"
   ]
  },
  {
   "cell_type": "code",
   "execution_count": 5,
   "metadata": {},
   "outputs": [],
   "source": [
    "# We also import some common Swahili stop words stores in a CSV file. \n",
    "# This are not all the stopwords, some may have been omitted.\n",
    "stop_words_df = pd.read_csv('stopwords.csv')\n",
    "stop_words = stop_words_df['StopWords'].tolist()"
   ]
  },
  {
   "cell_type": "code",
   "execution_count": 6,
   "metadata": {},
   "outputs": [],
   "source": [
    "# We creat a list to hold items i.e. sentences from our imported text\n",
    "text_lines = list()\n",
    "lines = df['text'].values.tolist()"
   ]
  },
  {
   "cell_type": "code",
   "execution_count": 9,
   "metadata": {},
   "outputs": [],
   "source": [
    "# We then use a loop to go through the dataframe and preprosses text then add these to the list created earlier\n",
    "for line in lines:\n",
    "    tokens = word_tokenize(line)\n",
    " \n",
    "    table = str.maketrans('', '', string.punctuation) # remove punctuation\n",
    "    stripped = [w.translate(table) for w in tokens] \n",
    "    words = [word for word in stripped if word.isalpha()] # remove remaining non alphabetic tokens\n",
    "    words = [w for w in words if not w in stop_words] # remove common swahili stopwords\n",
    "    text_lines.append(words)"
   ]
  },
  {
   "cell_type": "code",
   "execution_count": 17,
   "metadata": {},
   "outputs": [
    {
     "ename": "TypeError",
     "evalue": "Word2Vec.__init__() got an unexpected keyword argument 'size'",
     "output_type": "error",
     "traceback": [
      "\u001b[0;31m---------------------------------------------------------------------------\u001b[0m",
      "\u001b[0;31mTypeError\u001b[0m                                 Traceback (most recent call last)",
      "\u001b[0;32m/tmp/ipykernel_10656/3120347108.py\u001b[0m in \u001b[0;36m<module>\u001b[0;34m\u001b[0m\n\u001b[1;32m      5\u001b[0m \u001b[0;31m# Our vectors will however be limited to this vocab and issue may arise when the presented with a new word that wasnt in the corpus.\u001b[0m\u001b[0;34m\u001b[0m\u001b[0;34m\u001b[0m\u001b[0m\n\u001b[1;32m      6\u001b[0m \u001b[0;31m# The dimesnion of the vector space creted is 200. This can be adjusted and may or may not improve the accuracy of the model\u001b[0m\u001b[0;34m\u001b[0m\u001b[0;34m\u001b[0m\u001b[0m\n\u001b[0;32m----> 7\u001b[0;31m \u001b[0mvocabulary\u001b[0m \u001b[0;34m=\u001b[0m \u001b[0mgensim\u001b[0m\u001b[0;34m.\u001b[0m\u001b[0mmodels\u001b[0m\u001b[0;34m.\u001b[0m\u001b[0mWord2Vec\u001b[0m\u001b[0;34m(\u001b[0m\u001b[0msentences\u001b[0m\u001b[0;34m=\u001b[0m\u001b[0mtext_lines\u001b[0m\u001b[0;34m,\u001b[0m \u001b[0msize\u001b[0m\u001b[0;34m=\u001b[0m\u001b[0;36m100\u001b[0m\u001b[0;34m,\u001b[0m \u001b[0mwindow\u001b[0m\u001b[0;34m=\u001b[0m\u001b[0;36m5\u001b[0m\u001b[0;34m,\u001b[0m \u001b[0mmin_count\u001b[0m\u001b[0;34m=\u001b[0m\u001b[0;36m1\u001b[0m\u001b[0;34m)\u001b[0m\u001b[0;34m\u001b[0m\u001b[0;34m\u001b[0m\u001b[0m\n\u001b[0m\u001b[1;32m      8\u001b[0m \u001b[0mwords\u001b[0m \u001b[0;34m=\u001b[0m \u001b[0mlist\u001b[0m\u001b[0;34m(\u001b[0m\u001b[0mvocabulary\u001b[0m\u001b[0;34m.\u001b[0m\u001b[0mwv\u001b[0m\u001b[0;34m.\u001b[0m\u001b[0mvocab\u001b[0m\u001b[0;34m)\u001b[0m\u001b[0;34m\u001b[0m\u001b[0;34m\u001b[0m\u001b[0m\n\u001b[1;32m      9\u001b[0m \u001b[0;34m\u001b[0m\u001b[0m\n",
      "\u001b[0;31mTypeError\u001b[0m: Word2Vec.__init__() got an unexpected keyword argument 'size'"
     ]
    }
   ],
   "source": [
    "# We then import the Gensim library and use the Word2Vec model to learn the vector represetaions \n",
    "import gensim\n",
    "\n",
    "# Create a vocabulary to hold all words in our corpus. \n",
    "# Our vectors will however be limited to this vocab and issue may arise when the presented with a new word that wasnt in the corpus.\n",
    "# The dimesnion of the vector space creted is 200. This can be adjusted and may or may not improve the accuracy of the model\n",
    "vocabulary = gensim.models.Word2Vec(sentences=text_lines, size=100, window=5, min_count=1)\n",
    "words = list(vocabulary.wv.vocab)\n",
    "\n",
    "# Just to see how mayn words we actually have.\n",
    "print('Vocabulary size:  %d'  % len(words))\n",
    "\n",
    "# Finally we can export the learnt vectors for use in other tasks e.g. Text Classification\n",
    "filename = 'swahili_embeddings2.txt'\n",
    "vocabulary.wv.save_word2vec_format(filename, binary=False)"
   ]
  },
  {
   "cell_type": "code",
   "execution_count": 10,
   "metadata": {},
   "outputs": [
    {
     "data": {
      "text/plain": [
       "[('tabora', 0.20228734612464905),\n",
       " ('ilipaswa', 0.20148324966430664),\n",
       " ('miwani', 0.18993845582008362),\n",
       " ('uliomba', 0.18693704903125763),\n",
       " ('kennedy', 0.18456421792507172),\n",
       " ('walipofika', 0.18143033981323242),\n",
       " ('uhuru', 0.17497996985912323),\n",
       " ('waliokamatwa', 0.1748640239238739),\n",
       " ('hayati', 0.1714649349451065),\n",
       " ('kwake', 0.1687362939119339)]"
      ]
     },
     "execution_count": 10,
     "metadata": {},
     "output_type": "execute_result"
    }
   ],
   "source": [
    "# We can then test to see what words are simillar to a a given word and by what degree/score\n",
    "vocabulary.wv.most_similar('pande')"
   ]
  },
  {
   "cell_type": "markdown",
   "metadata": {},
   "source": [
    "------"
   ]
  },
  {
   "cell_type": "markdown",
   "metadata": {},
   "source": [
    "Vissualization"
   ]
  },
  {
   "cell_type": "markdown",
   "metadata": {},
   "source": [
    "Credits to https://gist.github.com/BrikerMan for his source code for this generating the tow files needed for vsualization using: https://projector.tensorflow.org/"
   ]
  },
  {
   "cell_type": "code",
   "execution_count": 1,
   "metadata": {},
   "outputs": [],
   "source": [
    "from gensim.models import KeyedVectors\n",
    "\n",
    "# Load gensim word2vec\n",
    "w2v_path = 'swahili_embeddings.txt'\n",
    "w2v = KeyedVectors.load_word2vec_format(w2v_path)\n",
    "\n",
    "import io\n",
    "\n",
    "# Vector file, `\\t` seperated the vectors and `\\n` seperate the words\n",
    "out_v = io.open('vecs.tsv', 'w', encoding='utf-8')\n",
    "\n",
    "# Meta data file, `\\n` seperated word\n",
    "out_m = io.open('meta.tsv', 'w', encoding='utf-8')\n",
    "\n",
    "# Write meta file and vector file\n",
    "for index in range(len(w2v.index2word)):\n",
    "    word = w2v.index2word[index]\n",
    "    vec = w2v.vectors[index]\n",
    "    out_m.write(word + \"\\n\")\n",
    "    out_v.write('\\t'.join([str(x) for x in vec]) + \"\\n\")\n",
    "out_v.close()\n",
    "out_m.close()"
   ]
  }
 ],
 "metadata": {
  "interpreter": {
   "hash": "aee8b7b246df8f9039afb4144a1f6fd8d2ca17a180786b69acc140d282b71a49"
  },
  "kernelspec": {
   "display_name": "Python 3.7.4 64-bit",
   "name": "python3"
  },
  "language_info": {
   "codemirror_mode": {
    "name": "ipython",
    "version": 3
   },
   "file_extension": ".py",
   "mimetype": "text/x-python",
   "name": "python",
   "nbconvert_exporter": "python",
   "pygments_lexer": "ipython3",
   "version": "3.10.1"
  },
  "orig_nbformat": 2
 },
 "nbformat": 4,
 "nbformat_minor": 2
}
