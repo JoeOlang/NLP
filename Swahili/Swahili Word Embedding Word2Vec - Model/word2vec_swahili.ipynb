{
 "metadata": {
  "language_info": {
   "codemirror_mode": {
    "name": "ipython",
    "version": 3
   },
   "file_extension": ".py",
   "mimetype": "text/x-python",
   "name": "python",
   "nbconvert_exporter": "python",
   "pygments_lexer": "ipython3",
   "version": "3.7.4"
  },
  "orig_nbformat": 2,
  "kernelspec": {
   "name": "python3",
   "display_name": "Python 3.7.4 64-bit"
  },
  "interpreter": {
   "hash": "aee8b7b246df8f9039afb4144a1f6fd8d2ca17a180786b69acc140d282b71a49"
  }
 },
 "nbformat": 4,
 "nbformat_minor": 2,
 "cells": [
  {
   "cell_type": "markdown",
   "source": [
    "Creation of Word Vectors"
   ],
   "metadata": {}
  },
  {
   "cell_type": "code",
   "execution_count": 2,
   "source": [
    "# Import the needed libraries\n",
    "import pandas as pd\n",
    "import numpy as np\n",
    "import keras\n",
    "import csv\n",
    "from nltk.stem.porter import *\n",
    "from nltk.corpus import stopwords\n",
    "from nltk.tokenize import word_tokenize\n",
    "import string\n",
    "import nltk"
   ],
   "outputs": [
    {
     "output_type": "stream",
     "name": "stderr",
     "text": [
      "Using TensorFlow backend.\n"
     ]
    }
   ],
   "metadata": {}
  },
  {
   "cell_type": "code",
   "execution_count": 3,
   "source": [
    "# Create a dataframe to hold our various reviews\n",
    "df = pd.read_csv('/Data/data.csv')"
   ],
   "outputs": [],
   "metadata": {}
  },
  {
   "cell_type": "code",
   "execution_count": 4,
   "source": [
    "# We also import some common Swahili stop words stores in a CSV file. \n",
    "# This are not all the stopwords, some may have been omitted.\n",
    "stop_words_df = pd.read_csv('Data/Common Swahili Stop-words.csv')"
   ],
   "outputs": [],
   "metadata": {}
  },
  {
   "cell_type": "code",
   "execution_count": 5,
   "source": [
    "stop_words = stop_words_df['StopWords'].tolist()"
   ],
   "outputs": [],
   "metadata": {}
  },
  {
   "cell_type": "code",
   "execution_count": 6,
   "source": [
    "# We creat a list to hold items i.e. sentences from our imported text\n",
    "text_lines = list()\n",
    "lines = df['text'].values.tolist()"
   ],
   "outputs": [],
   "metadata": {}
  },
  {
   "cell_type": "code",
   "execution_count": 8,
   "source": [
    "# We then use a loop to go through the dataframe and preprosses text then add these to the list created earlier\n",
    "for line in lines:\n",
    "    tokens = word_tokenize(line)\n",
    " \n",
    "    table = str.maketrans('', '', string.punctuation) # remove punctuation\n",
    "    stripped = [w.translate(table) for w in tokens] \n",
    "    words = [word for word in stripped if word.isalpha()] # remove remaining non alphabetic tokens\n",
    "    words = [w for w in words if not w in stop_words] # remove common swahili stopwords\n",
    "    text_lines.append(words)"
   ],
   "outputs": [],
   "metadata": {}
  },
  {
   "cell_type": "code",
   "execution_count": 9,
   "source": [
    "# We then import the Gensim library and use the Word2Vec model to learn the vector represetaions \n",
    "import gensim\n",
    "\n",
    "# Create a vocabulary to hold all words in our corpus. \n",
    "# Our vectors will however be limited to this vocab and issue may arise when the presented with a new word that wasnt in the corpus.\n",
    "# The dimesnion of the vector space creted is 200. This can be adjusted and may or may not improve the accuracy of the model\n",
    "vocabulary = gensim.models.Word2Vec(sentences=text_lines, size=200, window=5, workers=4, min_count=1)\n",
    "words = list(vocabulary.wv.vocab)\n",
    "\n",
    "# Just to see how mayn words we actually have.\n",
    "print('Vocabulary size:  %d'  % len(words))\n",
    "\n",
    "# Finally we can export the learnt vectors for use in other tasks e.g. Text Classification\n",
    "filename = 'swahili_embeddings.txt'\n",
    "vocabulary.wv.save_word2vec_format(filename, binary=False)"
   ],
   "outputs": [
    {
     "output_type": "stream",
     "name": "stdout",
     "text": [
      "Vocabulary size:  542\n"
     ]
    }
   ],
   "metadata": {}
  },
  {
   "cell_type": "code",
   "execution_count": 10,
   "source": [
    "# We can then test to see what words are simillar to a a given word and by what degree/score\n",
    "vocabulary.wv.most_similar('pande')"
   ],
   "outputs": [
    {
     "output_type": "execute_result",
     "data": {
      "text/plain": [
       "[('tabora', 0.20228734612464905),\n",
       " ('ilipaswa', 0.20148324966430664),\n",
       " ('miwani', 0.18993845582008362),\n",
       " ('uliomba', 0.18693704903125763),\n",
       " ('kennedy', 0.18456421792507172),\n",
       " ('walipofika', 0.18143033981323242),\n",
       " ('uhuru', 0.17497996985912323),\n",
       " ('waliokamatwa', 0.1748640239238739),\n",
       " ('hayati', 0.1714649349451065),\n",
       " ('kwake', 0.1687362939119339)]"
      ]
     },
     "metadata": {},
     "execution_count": 10
    }
   ],
   "metadata": {}
  },
  {
   "cell_type": "markdown",
   "source": [
    "------"
   ],
   "metadata": {}
  },
  {
   "cell_type": "markdown",
   "source": [
    "Vissualization"
   ],
   "metadata": {}
  },
  {
   "cell_type": "markdown",
   "source": [
    "Credits to https://gist.github.com/BrikerMan for his source code for this generating the tow files needed for vsualization using: https://projector.tensorflow.org/"
   ],
   "metadata": {}
  },
  {
   "cell_type": "code",
   "execution_count": 1,
   "source": [
    "from gensim.models import KeyedVectors\n",
    "\n",
    "# Load gensim word2vec\n",
    "w2v_path = 'swahili_embeddings.txt'\n",
    "w2v = KeyedVectors.load_word2vec_format(w2v_path)\n",
    "\n",
    "import io\n",
    "\n",
    "# Vector file, `\\t` seperated the vectors and `\\n` seperate the words\n",
    "out_v = io.open('vecs.tsv', 'w', encoding='utf-8')\n",
    "\n",
    "# Meta data file, `\\n` seperated word\n",
    "out_m = io.open('meta.tsv', 'w', encoding='utf-8')\n",
    "\n",
    "# Write meta file and vector file\n",
    "for index in range(len(w2v.index2word)):\n",
    "    word = w2v.index2word[index]\n",
    "    vec = w2v.vectors[index]\n",
    "    out_m.write(word + \"\\n\")\n",
    "    out_v.write('\\t'.join([str(x) for x in vec]) + \"\\n\")\n",
    "out_v.close()\n",
    "out_m.close()"
   ],
   "outputs": [],
   "metadata": {}
  }
 ]
}