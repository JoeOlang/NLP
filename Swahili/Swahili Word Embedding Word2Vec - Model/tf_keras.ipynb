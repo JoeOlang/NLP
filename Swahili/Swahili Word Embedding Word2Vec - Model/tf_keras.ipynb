{
 "cells": [
  {
   "cell_type": "markdown",
   "source": [
    "Version Two: Ongoing"
   ],
   "metadata": {}
  },
  {
   "cell_type": "code",
   "execution_count": 1,
   "source": [
    "import io\n",
    "import os\n",
    "import re\n",
    "import shutil\n",
    "import string\n",
    "import tensorflow as tf\n",
    "\n",
    "from tensorflow.keras import Sequential\n",
    "from tensorflow.keras.layers import Dense, Embedding, GlobalAveragePooling1D\n",
    "from tensorflow.keras.layers.experimental.preprocessing import TextVectorization"
   ],
   "outputs": [],
   "metadata": {}
  },
  {
   "cell_type": "code",
   "execution_count": 14,
   "source": [
    "import pandas as pd\n",
    "from gensim.models.phrases import Phrases, Phraser\n",
    "from time import time \n",
    "import multiprocessing\n",
    "from gensim.models import Word2Vec"
   ],
   "outputs": [],
   "metadata": {}
  },
  {
   "cell_type": "code",
   "execution_count": 3,
   "source": [
    "df = pd.read_csv('Data/data.csv')\n",
    "df.head()"
   ],
   "outputs": [
    {
     "output_type": "execute_result",
     "data": {
      "text/plain": [
       "   id                                               text\n",
       "0   0  taarifa hiyo ilisema kuwa ongezeko la joto la ...\n",
       "1   1  aidha ilisema kuwa mwelekeo wa kupungua kwa jo...\n",
       "2   2  mwelekeo wa mvua wa septemba hadi desemba ishi...\n",
       "3   3  ilifafanua kuwa msimu wa vuli UNK maeneo ambay...\n",
       "4   4  katika maeneo hayo mvua zinatarajiwa kunyesha ..."
      ],
      "text/html": [
       "<div>\n",
       "<style scoped>\n",
       "    .dataframe tbody tr th:only-of-type {\n",
       "        vertical-align: middle;\n",
       "    }\n",
       "\n",
       "    .dataframe tbody tr th {\n",
       "        vertical-align: top;\n",
       "    }\n",
       "\n",
       "    .dataframe thead th {\n",
       "        text-align: right;\n",
       "    }\n",
       "</style>\n",
       "<table border=\"1\" class=\"dataframe\">\n",
       "  <thead>\n",
       "    <tr style=\"text-align: right;\">\n",
       "      <th></th>\n",
       "      <th>id</th>\n",
       "      <th>text</th>\n",
       "    </tr>\n",
       "  </thead>\n",
       "  <tbody>\n",
       "    <tr>\n",
       "      <th>0</th>\n",
       "      <td>0</td>\n",
       "      <td>taarifa hiyo ilisema kuwa ongezeko la joto la ...</td>\n",
       "    </tr>\n",
       "    <tr>\n",
       "      <th>1</th>\n",
       "      <td>1</td>\n",
       "      <td>aidha ilisema kuwa mwelekeo wa kupungua kwa jo...</td>\n",
       "    </tr>\n",
       "    <tr>\n",
       "      <th>2</th>\n",
       "      <td>2</td>\n",
       "      <td>mwelekeo wa mvua wa septemba hadi desemba ishi...</td>\n",
       "    </tr>\n",
       "    <tr>\n",
       "      <th>3</th>\n",
       "      <td>3</td>\n",
       "      <td>ilifafanua kuwa msimu wa vuli UNK maeneo ambay...</td>\n",
       "    </tr>\n",
       "    <tr>\n",
       "      <th>4</th>\n",
       "      <td>4</td>\n",
       "      <td>katika maeneo hayo mvua zinatarajiwa kunyesha ...</td>\n",
       "    </tr>\n",
       "  </tbody>\n",
       "</table>\n",
       "</div>"
      ]
     },
     "metadata": {},
     "execution_count": 3
    }
   ],
   "metadata": {}
  },
  {
   "cell_type": "code",
   "execution_count": 13,
   "source": [
    "df_clean = df\n",
    "from nltk.tokenize import RegexpTokenizer\n",
    "t = time()\n",
    "\n",
    "tokenizer = RegexpTokenizer(r'\\w+')\n",
    "df_clean['clean'] = df_clean['text'].astype('str') \n",
    "df_clean.dtypes\n",
    "\n",
    "df_clean[\"tokens\"] = df_clean[\"clean\"].apply(tokenizer.tokenize)\n",
    "# delete Stop Words\n",
    "\n",
    "print('Time to tokenize everything: {} mins'.format(round((time() - t) / 60, 2)))\n",
    "df_clean.head()"
   ],
   "outputs": [
    {
     "output_type": "stream",
     "name": "stdout",
     "text": [
      "Time to tokenize everything: 0.0 mins\n"
     ]
    },
    {
     "output_type": "execute_result",
     "data": {
      "text/plain": [
       "   id                                               text  \\\n",
       "0   0  taarifa hiyo ilisema kuwa ongezeko la joto la ...   \n",
       "1   1  aidha ilisema kuwa mwelekeo wa kupungua kwa jo...   \n",
       "2   2  mwelekeo wa mvua wa septemba hadi desemba ishi...   \n",
       "3   3  ilifafanua kuwa msimu wa vuli UNK maeneo ambay...   \n",
       "4   4  katika maeneo hayo mvua zinatarajiwa kunyesha ...   \n",
       "\n",
       "                                               clean  \\\n",
       "0  taarifa hiyo ilisema kuwa ongezeko la joto la ...   \n",
       "1  aidha ilisema kuwa mwelekeo wa kupungua kwa jo...   \n",
       "2  mwelekeo wa mvua wa septemba hadi desemba ishi...   \n",
       "3  ilifafanua kuwa msimu wa vuli UNK maeneo ambay...   \n",
       "4  katika maeneo hayo mvua zinatarajiwa kunyesha ...   \n",
       "\n",
       "                                              tokens  \n",
       "0  [taarifa, hiyo, ilisema, kuwa, ongezeko, la, j...  \n",
       "1  [aidha, ilisema, kuwa, mwelekeo, wa, kupungua,...  \n",
       "2  [mwelekeo, wa, mvua, wa, septemba, hadi, desem...  \n",
       "3  [ilifafanua, kuwa, msimu, wa, vuli, UNK, maene...  \n",
       "4  [katika, maeneo, hayo, mvua, zinatarajiwa, kun...  "
      ],
      "text/html": [
       "<div>\n",
       "<style scoped>\n",
       "    .dataframe tbody tr th:only-of-type {\n",
       "        vertical-align: middle;\n",
       "    }\n",
       "\n",
       "    .dataframe tbody tr th {\n",
       "        vertical-align: top;\n",
       "    }\n",
       "\n",
       "    .dataframe thead th {\n",
       "        text-align: right;\n",
       "    }\n",
       "</style>\n",
       "<table border=\"1\" class=\"dataframe\">\n",
       "  <thead>\n",
       "    <tr style=\"text-align: right;\">\n",
       "      <th></th>\n",
       "      <th>id</th>\n",
       "      <th>text</th>\n",
       "      <th>clean</th>\n",
       "      <th>tokens</th>\n",
       "    </tr>\n",
       "  </thead>\n",
       "  <tbody>\n",
       "    <tr>\n",
       "      <th>0</th>\n",
       "      <td>0</td>\n",
       "      <td>taarifa hiyo ilisema kuwa ongezeko la joto la ...</td>\n",
       "      <td>taarifa hiyo ilisema kuwa ongezeko la joto la ...</td>\n",
       "      <td>[taarifa, hiyo, ilisema, kuwa, ongezeko, la, j...</td>\n",
       "    </tr>\n",
       "    <tr>\n",
       "      <th>1</th>\n",
       "      <td>1</td>\n",
       "      <td>aidha ilisema kuwa mwelekeo wa kupungua kwa jo...</td>\n",
       "      <td>aidha ilisema kuwa mwelekeo wa kupungua kwa jo...</td>\n",
       "      <td>[aidha, ilisema, kuwa, mwelekeo, wa, kupungua,...</td>\n",
       "    </tr>\n",
       "    <tr>\n",
       "      <th>2</th>\n",
       "      <td>2</td>\n",
       "      <td>mwelekeo wa mvua wa septemba hadi desemba ishi...</td>\n",
       "      <td>mwelekeo wa mvua wa septemba hadi desemba ishi...</td>\n",
       "      <td>[mwelekeo, wa, mvua, wa, septemba, hadi, desem...</td>\n",
       "    </tr>\n",
       "    <tr>\n",
       "      <th>3</th>\n",
       "      <td>3</td>\n",
       "      <td>ilifafanua kuwa msimu wa vuli UNK maeneo ambay...</td>\n",
       "      <td>ilifafanua kuwa msimu wa vuli UNK maeneo ambay...</td>\n",
       "      <td>[ilifafanua, kuwa, msimu, wa, vuli, UNK, maene...</td>\n",
       "    </tr>\n",
       "    <tr>\n",
       "      <th>4</th>\n",
       "      <td>4</td>\n",
       "      <td>katika maeneo hayo mvua zinatarajiwa kunyesha ...</td>\n",
       "      <td>katika maeneo hayo mvua zinatarajiwa kunyesha ...</td>\n",
       "      <td>[katika, maeneo, hayo, mvua, zinatarajiwa, kun...</td>\n",
       "    </tr>\n",
       "  </tbody>\n",
       "</table>\n",
       "</div>"
      ]
     },
     "metadata": {},
     "execution_count": 13
    }
   ],
   "metadata": {}
  },
  {
   "cell_type": "code",
   "execution_count": 15,
   "source": [
    "#WORD2VEC()\n",
    "cores = multiprocessing.cpu_count() # Count the number of cores in a computer, important for a parameter of the model\n",
    "w2v_model = Word2Vec(min_count=20,\n",
    "                     window=2,\n",
    "                     size=200,\n",
    "                     sample=6e-5, \n",
    "                     alpha=0.03, \n",
    "                     min_alpha=0.0007, \n",
    "                     negative=20,\n",
    "                     workers=cores-1)\n",
    "\n",
    "#BUILD_VOCAB()\n",
    "t = time()\n",
    "w2v_model.build_vocab(df_clean[\"tokens\"], progress_per=1000)\n",
    "print('Time to build vocab: {} mins'.format(round((time() - t) / 60, 2)))\n",
    "\n",
    "#TRAIN()\n",
    "w2v_model.train(df_clean[\"tokens\"], total_examples=w2v_model.corpus_count, epochs=10000, report_delay=1)\n",
    "print('Time to train the model: {} mins'.format(round((time() - t) / 60, 2)))"
   ],
   "outputs": [
    {
     "output_type": "stream",
     "name": "stdout",
     "text": [
      "Time to build vocab: 0.0 mins\n",
      "Time to train the model: 0.28 mins\n"
     ]
    }
   ],
   "metadata": {}
  },
  {
   "cell_type": "code",
   "execution_count": 26,
   "source": [
    "w2v_model.vector_size"
   ],
   "outputs": [
    {
     "output_type": "execute_result",
     "data": {
      "text/plain": [
       "300"
      ]
     },
     "metadata": {},
     "execution_count": 26
    }
   ],
   "metadata": {}
  }
 ],
 "metadata": {
  "orig_nbformat": 4,
  "language_info": {
   "name": "python",
   "version": "3.7.4",
   "mimetype": "text/x-python",
   "codemirror_mode": {
    "name": "ipython",
    "version": 3
   },
   "pygments_lexer": "ipython3",
   "nbconvert_exporter": "python",
   "file_extension": ".py"
  },
  "kernelspec": {
   "name": "python3",
   "display_name": "Python 3.7.4 64-bit ('3.7')"
  },
  "interpreter": {
   "hash": "e534e48711db4d1e1c48977d0d14ff85b1f16d41bcc4fdfd88268a329b3c9d66"
  }
 },
 "nbformat": 4,
 "nbformat_minor": 2
}