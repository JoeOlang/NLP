{
  "nbformat": 4,
  "nbformat_minor": 0,
  "metadata": {
    "colab": {
      "name": "TF.ipynb",
      "provenance": [],
      "collapsed_sections": [],
      "mount_file_id": "124sHRPq5IBEvHkIwsgFQJmpaVlL5JHF7",
      "authorship_tag": "ABX9TyOHdRdqV+cYKgc9RR9QzJhn",
      "include_colab_link": true
    },
    "kernelspec": {
      "name": "python3",
      "display_name": "Python 3"
    },
    "language_info": {
      "name": "python"
    },
    "accelerator": "GPU"
  },
  "cells": [
    {
      "cell_type": "markdown",
      "metadata": {
        "id": "view-in-github",
        "colab_type": "text"
      },
      "source": [
        "<a href=\"https://colab.research.google.com/github/JoeOlang/NLP/blob/main/Swahili/Swahili%20Word%20Embedding%20Word2Vec%20-%20Model/pytorch.ipynb\" target=\"_parent\"><img src=\"https://colab.research.google.com/assets/colab-badge.svg\" alt=\"Open In Colab\"/></a>"
      ]
    },
    {
      "cell_type": "code",
      "metadata": {
        "colab": {
          "base_uri": "https://localhost:8080/"
        },
        "id": "wpongtwk4JOr",
        "outputId": "91a31fca-6c54-4a2f-e0b5-29eef2a6c084"
      },
      "source": [
        "from google.colab import drive\n",
        "drive.mount('/drive')"
      ],
      "execution_count": 2,
      "outputs": [
        {
          "output_type": "stream",
          "name": "stdout",
          "text": [
            "Mounted at /drive\n"
          ]
        }
      ]
    },
    {
      "cell_type": "code",
      "metadata": {
        "id": "1n_UI5YJRPyZ"
      },
      "source": [
        "import random\n",
        "import copy\n",
        "import time\n",
        "import pandas as pd\n",
        "import numpy as np\n",
        "import gc\n",
        "import re\n",
        "import torch\n",
        "\n",
        "#import spacy\n",
        "from tqdm import tqdm_notebook, tnrange\n",
        "from tqdm.auto import tqdm\n",
        "\n",
        "tqdm.pandas(desc='Progress')\n",
        "from collections import Counter\n",
        "\n",
        "from nltk import word_tokenize\n",
        "\n",
        "import torch.nn as nn\n",
        "import torch.optim as optim\n",
        "import torch.nn.functional as F\n",
        "from torch.utils.data import Dataset, DataLoader\n",
        "from torch.nn.utils.rnn import pack_padded_sequence, pad_packed_sequence\n",
        "from torch.autograd import Variable\n",
        "from sklearn.metrics import f1_score\n",
        "import os \n",
        "\n",
        "from keras.preprocessing.text import Tokenizer\n",
        "from keras.preprocessing.sequence import pad_sequences\n",
        "\n",
        "# cross validation and metrics\n",
        "from sklearn.model_selection import StratifiedKFold\n",
        "from sklearn.metrics import f1_score\n",
        "from torch.optim.optimizer import Optimizer\n",
        "\n",
        "from sklearn.preprocessing import StandardScaler\n",
        "from multiprocessing import  Pool\n",
        "from functools import partial\n",
        "import numpy as np\n",
        "from sklearn.decomposition import PCA\n",
        "import torch as t\n",
        "import torch.nn as nn\n",
        "import torch.nn.functional as F\n",
        "\n",
        "import matplotlib.pyplot as plt"
      ],
      "execution_count": 1,
      "outputs": []
    },
    {
      "cell_type": "code",
      "metadata": {
        "id": "Do-fciOCb1PW"
      },
      "source": [
        "embed_size = 300 # how big is each word vector\n",
        "max_features = 120000 # how many unique words to use (i.e num rows in embedding vector)\n",
        "maxlen = 750 # max number of words in a question to use\n",
        "batch_size = 512 # how many samples to process at once\n",
        "n_epochs = 5 # how many times to iterate over all samples\n",
        "n_splits = 5 # Number of K-fold Splits\n",
        "SEED = 10\n",
        "debug = 0"
      ],
      "execution_count": 2,
      "outputs": []
    },
    {
      "cell_type": "code",
      "metadata": {
        "id": "HrACsbXq48EY"
      },
      "source": [
        "train_path = '/content/drive/MyDrive/Colab Notebooks/NLP/Swahili/Train.csv'\n",
        "test_path = '/content/drive/MyDrive/Colab Notebooks/NLP/Swahili/Test.csv'"
      ],
      "execution_count": 3,
      "outputs": []
    },
    {
      "cell_type": "code",
      "metadata": {
        "colab": {
          "base_uri": "https://localhost:8080/",
          "height": 355
        },
        "id": "B9_e878z5QEv",
        "outputId": "78c27311-4990-411d-c665-7dff5ba076eb"
      },
      "source": [
        "df = pd.read_csv(train_path)\n",
        "df.head(10)"
      ],
      "execution_count": 4,
      "outputs": [
        {
          "output_type": "execute_result",
          "data": {
            "text/html": [
              "<div>\n",
              "<style scoped>\n",
              "    .dataframe tbody tr th:only-of-type {\n",
              "        vertical-align: middle;\n",
              "    }\n",
              "\n",
              "    .dataframe tbody tr th {\n",
              "        vertical-align: top;\n",
              "    }\n",
              "\n",
              "    .dataframe thead th {\n",
              "        text-align: right;\n",
              "    }\n",
              "</style>\n",
              "<table border=\"1\" class=\"dataframe\">\n",
              "  <thead>\n",
              "    <tr style=\"text-align: right;\">\n",
              "      <th></th>\n",
              "      <th>id</th>\n",
              "      <th>content</th>\n",
              "      <th>category</th>\n",
              "    </tr>\n",
              "  </thead>\n",
              "  <tbody>\n",
              "    <tr>\n",
              "      <th>0</th>\n",
              "      <td>SW0</td>\n",
              "      <td>SERIKALI imesema haitakuwa tayari kuona amani...</td>\n",
              "      <td>Kitaifa</td>\n",
              "    </tr>\n",
              "    <tr>\n",
              "      <th>1</th>\n",
              "      <td>SW1</td>\n",
              "      <td>Mkuu wa Mkoa wa Tabora, Aggrey Mwanri amesiti...</td>\n",
              "      <td>Biashara</td>\n",
              "    </tr>\n",
              "    <tr>\n",
              "      <th>2</th>\n",
              "      <td>SW10</td>\n",
              "      <td>SERIKALI imetoa miezi sita kwa taasisi zote z...</td>\n",
              "      <td>Kitaifa</td>\n",
              "    </tr>\n",
              "    <tr>\n",
              "      <th>3</th>\n",
              "      <td>SW100</td>\n",
              "      <td>KAMPUNI ya mchezo wa kubahatisha ya M-bet ime...</td>\n",
              "      <td>michezo</td>\n",
              "    </tr>\n",
              "    <tr>\n",
              "      <th>4</th>\n",
              "      <td>SW1000</td>\n",
              "      <td>WATANZANIA wamekumbushwa kusherehekea sikukuu...</td>\n",
              "      <td>Kitaifa</td>\n",
              "    </tr>\n",
              "    <tr>\n",
              "      <th>5</th>\n",
              "      <td>SW1002</td>\n",
              "      <td>Malkia wa Mipasho Afrika Mashariki, Khadija O...</td>\n",
              "      <td>michezo</td>\n",
              "    </tr>\n",
              "    <tr>\n",
              "      <th>6</th>\n",
              "      <td>SW1003</td>\n",
              "      <td>Meneja Masoko na Mawasiliano wa taasisi hiyo,...</td>\n",
              "      <td>Biashara</td>\n",
              "    </tr>\n",
              "    <tr>\n",
              "      <th>7</th>\n",
              "      <td>SW1004</td>\n",
              "      <td>IDADI ya vifo vya waendesha bodaboda nchini v...</td>\n",
              "      <td>Kitaifa</td>\n",
              "    </tr>\n",
              "    <tr>\n",
              "      <th>8</th>\n",
              "      <td>SW1006</td>\n",
              "      <td>Katika uzinduzi huo, rais amesema kuna haja y...</td>\n",
              "      <td>Biashara</td>\n",
              "    </tr>\n",
              "    <tr>\n",
              "      <th>9</th>\n",
              "      <td>SW1007</td>\n",
              "      <td>Mshindi wa mchezo utakaozikutanisha Tottenham...</td>\n",
              "      <td>michezo</td>\n",
              "    </tr>\n",
              "  </tbody>\n",
              "</table>\n",
              "</div>"
            ],
            "text/plain": [
              "       id                                            content  category\n",
              "0     SW0   SERIKALI imesema haitakuwa tayari kuona amani...   Kitaifa\n",
              "1     SW1   Mkuu wa Mkoa wa Tabora, Aggrey Mwanri amesiti...  Biashara\n",
              "2    SW10   SERIKALI imetoa miezi sita kwa taasisi zote z...   Kitaifa\n",
              "3   SW100   KAMPUNI ya mchezo wa kubahatisha ya M-bet ime...   michezo\n",
              "4  SW1000   WATANZANIA wamekumbushwa kusherehekea sikukuu...   Kitaifa\n",
              "5  SW1002   Malkia wa Mipasho Afrika Mashariki, Khadija O...   michezo\n",
              "6  SW1003   Meneja Masoko na Mawasiliano wa taasisi hiyo,...  Biashara\n",
              "7  SW1004   IDADI ya vifo vya waendesha bodaboda nchini v...   Kitaifa\n",
              "8  SW1006   Katika uzinduzi huo, rais amesema kuna haja y...  Biashara\n",
              "9  SW1007   Mshindi wa mchezo utakaozikutanisha Tottenham...   michezo"
            ]
          },
          "metadata": {},
          "execution_count": 4
        }
      ]
    },
    {
      "cell_type": "code",
      "metadata": {
        "id": "Z2kGxHl4dR6r"
      },
      "source": [
        "df['len'] = df['content'].apply(lambda s : len(s))"
      ],
      "execution_count": 5,
      "outputs": []
    },
    {
      "cell_type": "code",
      "metadata": {
        "colab": {
          "base_uri": "https://localhost:8080/",
          "height": 414
        },
        "id": "vw8Kph_CdvjS",
        "outputId": "da0cfbb4-ce8e-4eda-dc11-d777f4d14f9e"
      },
      "source": [
        "df"
      ],
      "execution_count": 6,
      "outputs": [
        {
          "output_type": "execute_result",
          "data": {
            "text/html": [
              "<div>\n",
              "<style scoped>\n",
              "    .dataframe tbody tr th:only-of-type {\n",
              "        vertical-align: middle;\n",
              "    }\n",
              "\n",
              "    .dataframe tbody tr th {\n",
              "        vertical-align: top;\n",
              "    }\n",
              "\n",
              "    .dataframe thead th {\n",
              "        text-align: right;\n",
              "    }\n",
              "</style>\n",
              "<table border=\"1\" class=\"dataframe\">\n",
              "  <thead>\n",
              "    <tr style=\"text-align: right;\">\n",
              "      <th></th>\n",
              "      <th>id</th>\n",
              "      <th>content</th>\n",
              "      <th>category</th>\n",
              "      <th>len</th>\n",
              "    </tr>\n",
              "  </thead>\n",
              "  <tbody>\n",
              "    <tr>\n",
              "      <th>0</th>\n",
              "      <td>SW0</td>\n",
              "      <td>SERIKALI imesema haitakuwa tayari kuona amani...</td>\n",
              "      <td>Kitaifa</td>\n",
              "      <td>1584</td>\n",
              "    </tr>\n",
              "    <tr>\n",
              "      <th>1</th>\n",
              "      <td>SW1</td>\n",
              "      <td>Mkuu wa Mkoa wa Tabora, Aggrey Mwanri amesiti...</td>\n",
              "      <td>Biashara</td>\n",
              "      <td>1317</td>\n",
              "    </tr>\n",
              "    <tr>\n",
              "      <th>2</th>\n",
              "      <td>SW10</td>\n",
              "      <td>SERIKALI imetoa miezi sita kwa taasisi zote z...</td>\n",
              "      <td>Kitaifa</td>\n",
              "      <td>2610</td>\n",
              "    </tr>\n",
              "    <tr>\n",
              "      <th>3</th>\n",
              "      <td>SW100</td>\n",
              "      <td>KAMPUNI ya mchezo wa kubahatisha ya M-bet ime...</td>\n",
              "      <td>michezo</td>\n",
              "      <td>1404</td>\n",
              "    </tr>\n",
              "    <tr>\n",
              "      <th>4</th>\n",
              "      <td>SW1000</td>\n",
              "      <td>WATANZANIA wamekumbushwa kusherehekea sikukuu...</td>\n",
              "      <td>Kitaifa</td>\n",
              "      <td>2247</td>\n",
              "    </tr>\n",
              "    <tr>\n",
              "      <th>...</th>\n",
              "      <td>...</td>\n",
              "      <td>...</td>\n",
              "      <td>...</td>\n",
              "      <td>...</td>\n",
              "    </tr>\n",
              "    <tr>\n",
              "      <th>5146</th>\n",
              "      <td>SW993</td>\n",
              "      <td>RAIS John Magufuli ameendelea kung’ara katika...</td>\n",
              "      <td>Kitaifa</td>\n",
              "      <td>6742</td>\n",
              "    </tr>\n",
              "    <tr>\n",
              "      <th>5147</th>\n",
              "      <td>SW994</td>\n",
              "      <td>KAMPENI inayohimiza watafi ti kuandika upya h...</td>\n",
              "      <td>Kitaifa</td>\n",
              "      <td>2348</td>\n",
              "    </tr>\n",
              "    <tr>\n",
              "      <th>5148</th>\n",
              "      <td>SW996</td>\n",
              "      <td>MATUKIO mapya ya malaria kwa kila watu 1,000 ...</td>\n",
              "      <td>Kitaifa</td>\n",
              "      <td>3014</td>\n",
              "    </tr>\n",
              "    <tr>\n",
              "      <th>5149</th>\n",
              "      <td>SW997</td>\n",
              "      <td>IMEELEZWA kuwa hakuna sheria yoyote inayokata...</td>\n",
              "      <td>Kitaifa</td>\n",
              "      <td>1216</td>\n",
              "    </tr>\n",
              "    <tr>\n",
              "      <th>5150</th>\n",
              "      <td>SW999</td>\n",
              "      <td>Akizungumza mara baada ya kutiwa saini kwa ma...</td>\n",
              "      <td>Biashara</td>\n",
              "      <td>1889</td>\n",
              "    </tr>\n",
              "  </tbody>\n",
              "</table>\n",
              "<p>5151 rows × 4 columns</p>\n",
              "</div>"
            ],
            "text/plain": [
              "          id                                            content  category   len\n",
              "0        SW0   SERIKALI imesema haitakuwa tayari kuona amani...   Kitaifa  1584\n",
              "1        SW1   Mkuu wa Mkoa wa Tabora, Aggrey Mwanri amesiti...  Biashara  1317\n",
              "2       SW10   SERIKALI imetoa miezi sita kwa taasisi zote z...   Kitaifa  2610\n",
              "3      SW100   KAMPUNI ya mchezo wa kubahatisha ya M-bet ime...   michezo  1404\n",
              "4     SW1000   WATANZANIA wamekumbushwa kusherehekea sikukuu...   Kitaifa  2247\n",
              "...      ...                                                ...       ...   ...\n",
              "5146   SW993   RAIS John Magufuli ameendelea kung’ara katika...   Kitaifa  6742\n",
              "5147   SW994   KAMPENI inayohimiza watafi ti kuandika upya h...   Kitaifa  2348\n",
              "5148   SW996   MATUKIO mapya ya malaria kwa kila watu 1,000 ...   Kitaifa  3014\n",
              "5149   SW997   IMEELEZWA kuwa hakuna sheria yoyote inayokata...   Kitaifa  1216\n",
              "5150   SW999   Akizungumza mara baada ya kutiwa saini kwa ma...  Biashara  1889\n",
              "\n",
              "[5151 rows x 4 columns]"
            ]
          },
          "metadata": {},
          "execution_count": 6
        }
      ]
    },
    {
      "cell_type": "code",
      "metadata": {
        "colab": {
          "base_uri": "https://localhost:8080/",
          "height": 282
        },
        "id": "WGIlKJhPdbUz",
        "outputId": "b1896667-8b28-4c58-d032-64afbcb4f14a"
      },
      "source": [
        "df['len'].plot.hist(bins=100)"
      ],
      "execution_count": 7,
      "outputs": [
        {
          "output_type": "execute_result",
          "data": {
            "text/plain": [
              "<matplotlib.axes._subplots.AxesSubplot at 0x7fb92120d6d0>"
            ]
          },
          "metadata": {},
          "execution_count": 7
        },
        {
          "output_type": "display_data",
          "data": {
            "image/png": "[encoded data removed]",
            "text/plain": [
              "<Figure size 432x288 with 1 Axes>"
            ]
          },
          "metadata": {
            "needs_background": "light"
          }
        }
      ]
    },
    {
      "cell_type": "code",
      "metadata": {
        "id": "imBGh1SaePOS"
      },
      "source": [
        "import re\n",
        "\n",
        "def clean_text(x):\n",
        "    pattern = r'[^a-zA-z0-9\\s]'\n",
        "    text = re.sub(pattern, '', x)\n",
        "    return x\n",
        "\n",
        "def clean_numbers(x):\n",
        "    if bool(re.search(r'\\d', x)):\n",
        "        x = re.sub('[0-9]{5,}', '#####', x)\n",
        "        x = re.sub('[0-9]{4}', '####', x)\n",
        "        x = re.sub('[0-9]{3}', '###', x)\n",
        "        x = re.sub('[0-9]{2}', '##', x)\n",
        "    return x"
      ],
      "execution_count": 8,
      "outputs": []
    },
    {
      "cell_type": "code",
      "metadata": {
        "id": "Fnbc3yWwes1r"
      },
      "source": [
        "# lower the text\n",
        "df[\"content\"] = df[\"content\"].apply(lambda x: x.lower())\n",
        "\n",
        "# Clean the text\n",
        "df[\"content\"] = df[\"content\"].apply(lambda x: clean_text(x))\n",
        "\n",
        "# Clean numbers\n",
        "df[\"content\"] = df[\"content\"].apply(lambda x: clean_numbers(x))"
      ],
      "execution_count": 9,
      "outputs": []
    },
    {
      "cell_type": "code",
      "metadata": {
        "colab": {
          "base_uri": "https://localhost:8080/"
        },
        "id": "7zyvSEkzfI-d",
        "outputId": "9822e6f3-ad3e-43e4-9535-7f5f3a3c2151"
      },
      "source": [
        "df['category'].unique()"
      ],
      "execution_count": 10,
      "outputs": [
        {
          "output_type": "execute_result",
          "data": {
            "text/plain": [
              "array(['Kitaifa', 'Biashara', 'michezo', 'Kimataifa', 'Burudani'],\n",
              "      dtype=object)"
            ]
          },
          "metadata": {},
          "execution_count": 10
        }
      ]
    },
    {
      "cell_type": "code",
      "metadata": {
        "id": "x66X7cVCfScD"
      },
      "source": [
        "from sklearn.model_selection import train_test_split\n",
        "train_X, test_X, train_y, test_y = train_test_split(df['content'], df['category'],\n",
        "                                                    stratify=df['category'], \n",
        "                                                    test_size=0.25)"
      ],
      "execution_count": 11,
      "outputs": []
    },
    {
      "cell_type": "code",
      "metadata": {
        "colab": {
          "base_uri": "https://localhost:8080/"
        },
        "id": "I9LdkWxmfy3L",
        "outputId": "bb7aaeae-779a-4026-f61e-e35e38ace1b2"
      },
      "source": [
        "print(\"Train shape : \",train_X.shape)\n",
        "print(\"Test shape : \",test_X.shape)"
      ],
      "execution_count": 12,
      "outputs": [
        {
          "output_type": "stream",
          "name": "stdout",
          "text": [
            "Train shape :  (3863,)\n",
            "Test shape :  (1288,)\n"
          ]
        }
      ]
    },
    {
      "cell_type": "code",
      "metadata": {
        "id": "WbBa5yzaghss"
      },
      "source": [
        "## Tokenize the sentences\n",
        "tokenizer = Tokenizer(num_words=max_features)\n",
        "tokenizer.fit_on_texts(list(train_X))\n",
        "train_X = tokenizer.texts_to_sequences(train_X)\n",
        "test_X = tokenizer.texts_to_sequences(test_X)\n",
        "\n",
        "## Pad the sentences \n",
        "train_X = pad_sequences(train_X, maxlen=maxlen)\n",
        "test_X = pad_sequences(test_X, maxlen=maxlen)"
      ],
      "execution_count": 13,
      "outputs": []
    },
    {
      "cell_type": "code",
      "metadata": {
        "id": "eNc0mPpPgtDD"
      },
      "source": [
        "from sklearn.preprocessing import LabelEncoder\n",
        "le = LabelEncoder()\n",
        "train_y = le.fit_transform(train_y.values)\n",
        "test_y = le.transform(test_y.values)"
      ],
      "execution_count": 14,
      "outputs": []
    },
    {
      "cell_type": "code",
      "metadata": {
        "colab": {
          "base_uri": "https://localhost:8080/"
        },
        "id": "KJ4mHYpJgwei",
        "outputId": "73edeeab-71d7-458a-8d43-52f77eafdd51"
      },
      "source": [
        "le.classes_"
      ],
      "execution_count": 15,
      "outputs": [
        {
          "output_type": "execute_result",
          "data": {
            "text/plain": [
              "array(['Biashara', 'Burudani', 'Kimataifa', 'Kitaifa', 'michezo'],\n",
              "      dtype=object)"
            ]
          },
          "metadata": {},
          "execution_count": 15
        }
      ]
    },
    {
      "cell_type": "code",
      "metadata": {
        "id": "8DAdtib-gzf8"
      },
      "source": [
        "## FUNCTIONS TAKEN FROM https://www.kaggle.com/gmhost/gru-capsule\n",
        "\n",
        "def load_glove(word_index):\n",
        "    EMBEDDING_FILE = '/content/drive/MyDrive/Colab Notebooks/NLP/Swahili/embeddings300.txt'\n",
        "    def get_coefs(word,*arr): return word, np.asarray(arr, dtype='float32')[:300]\n",
        "    embeddings_index = dict(get_coefs(*o.split(\" \")) for o in open(EMBEDDING_FILE))\n",
        "    \n",
        "    all_embs = np.stack(embeddings_index.values())\n",
        "    emb_mean,emb_std = -0.005838499,0.48782197\n",
        "    embed_size = all_embs.shape[1]\n",
        "\n",
        "    nb_words = min(max_features, len(word_index)+1)\n",
        "    embedding_matrix = np.random.normal(emb_mean, emb_std, (nb_words, embed_size))\n",
        "    for word, i in word_index.items():\n",
        "        if i >= max_features: continue\n",
        "        embedding_vector = embeddings_index.get(word)\n",
        "        if embedding_vector is not None: \n",
        "            embedding_matrix[i] = embedding_vector\n",
        "        else:\n",
        "            embedding_vector = embeddings_index.get(word.capitalize())\n",
        "            if embedding_vector is not None: \n",
        "                embedding_matrix[i] = embedding_vector\n",
        "    return embedding_matrix"
      ],
      "execution_count": 16,
      "outputs": []
    },
    {
      "cell_type": "code",
      "metadata": {
        "id": "PmKC41wVr4Kw"
      },
      "source": [
        "import os\n",
        "word_index = tokenizer.word_index\n",
        "embedings_index = {}\n",
        "f = open(os.path.join('', '/content/drive/MyDrive/Colab Notebooks/NLP/Swahili/embeddings300.txt'), encoding=\"utf-8\")\n",
        "for line in f:\n",
        "    values = line.split()\n",
        "    word = values[0]\n",
        "    coefs = np.asarray(values[1:])\n",
        "    embedings_index[word] = coefs\n",
        "f.close()\n",
        "\n",
        "embedding_dimension = 300\n",
        "num_words = len(word_index) + 1\n",
        "embedings_matrix = np.zeros((num_words, embedding_dimension))\n",
        "\n",
        "for word, i in word_index.items():\n",
        "    if i > num_words:\n",
        "        continue\n",
        "    embedings_vector = embedings_index.get(word)\n",
        "    if embedings_vector is not None:\n",
        "        embedings_matrix[i] = embedings_vector"
      ],
      "execution_count": 17,
      "outputs": []
    },
    {
      "cell_type": "code",
      "metadata": {
        "colab": {
          "base_uri": "https://localhost:8080/"
        },
        "id": "RbpXjhqKs4em",
        "outputId": "32d1bb4e-3e9b-4975-cd58-69da280694ef"
      },
      "source": [
        "np.shape(embedings_matrix)"
      ],
      "execution_count": 18,
      "outputs": [
        {
          "output_type": "execute_result",
          "data": {
            "text/plain": [
              "(65660, 300)"
            ]
          },
          "metadata": {},
          "execution_count": 18
        }
      ]
    },
    {
      "cell_type": "code",
      "metadata": {
        "id": "NXi0rvcbvCxV"
      },
      "source": [
        "embedding_matrix = embedings_matrix"
      ],
      "execution_count": 19,
      "outputs": []
    },
    {
      "cell_type": "code",
      "metadata": {
        "id": "NGE023DBu23H"
      },
      "source": [
        "class CNN_Text(nn.Module):\n",
        "    \n",
        "    def __init__(self):\n",
        "        super(CNN_Text, self).__init__()\n",
        "        filter_sizes = [1,2,3,5]\n",
        "        num_filters = 36\n",
        "        n_classes = len(le.classes_)\n",
        "        self.embedding = nn.Embedding(max_features, embed_size)\n",
        "        self.embedding.weight = nn.Parameter(torch.tensor(embedding_matrix, dtype=torch.float32))\n",
        "        self.embedding.weight.requires_grad = False\n",
        "        self.convs1 = nn.ModuleList([nn.Conv2d(1, num_filters, (K, embed_size)) for K in filter_sizes])\n",
        "        self.dropout = nn.Dropout(0.1)\n",
        "        self.fc1 = nn.Linear(len(filter_sizes)*num_filters, n_classes)\n",
        "\n",
        "\n",
        "    def forward(self, x):\n",
        "        x = self.embedding(x)  \n",
        "        x = x.unsqueeze(1)  \n",
        "        x = [F.relu(conv(x)).squeeze(3) for conv in self.convs1] \n",
        "        x = [F.max_pool1d(i, i.size(2)).squeeze(2) for i in x]  \n",
        "        x = torch.cat(x, 1)\n",
        "        x = self.dropout(x)  \n",
        "        logit = self.fc1(x) \n",
        "        return logit\n"
      ],
      "execution_count": 20,
      "outputs": []
    },
    {
      "cell_type": "code",
      "metadata": {
        "colab": {
          "base_uri": "https://localhost:8080/"
        },
        "id": "28J4c9nYvVe8",
        "outputId": "3ceff15e-a657-4857-d512-4f3a695bb760"
      },
      "source": [
        "n_epochs = 6\n",
        "model = CNN_Text()\n",
        "loss_fn = nn.CrossEntropyLoss(reduction='sum')\n",
        "optimizer = torch.optim.Adam(filter(lambda p: p.requires_grad, model.parameters()), lr=0.001)\n",
        "model.cuda()\n",
        "\n",
        "# Load train and test in CUDA Memory\n",
        "x_train = torch.tensor(train_X, dtype=torch.long).cuda()\n",
        "y_train = torch.tensor(train_y, dtype=torch.long).cuda()\n",
        "x_cv = torch.tensor(test_X, dtype=torch.long).cuda()\n",
        "y_cv = torch.tensor(test_y, dtype=torch.long).cuda()\n",
        "\n",
        "# Create Torch datasets\n",
        "train = torch.utils.data.TensorDataset(x_train, y_train)\n",
        "valid = torch.utils.data.TensorDataset(x_cv, y_cv)\n",
        "\n",
        "# Create Data Loaders\n",
        "train_loader = torch.utils.data.DataLoader(train, batch_size=batch_size, shuffle=True)\n",
        "valid_loader = torch.utils.data.DataLoader(valid, batch_size=batch_size, shuffle=False)\n",
        "\n",
        "train_loss = []\n",
        "valid_loss = []\n",
        "\n",
        "for epoch in range(n_epochs):\n",
        "    start_time = time.time()\n",
        "    # Set model to train configuration\n",
        "    model.train()\n",
        "    avg_loss = 0.  \n",
        "    for i, (x_batch, y_batch) in enumerate(train_loader):\n",
        "        # Predict/Forward Pass\n",
        "        y_pred = model(x_batch)\n",
        "        # Compute loss\n",
        "        loss = loss_fn(y_pred, y_batch)\n",
        "        optimizer.zero_grad()\n",
        "        loss.backward()\n",
        "        optimizer.step()\n",
        "        avg_loss += loss.item() / len(train_loader)\n",
        "    \n",
        "    # Set model to validation configuration -Doesn't get trained here\n",
        "    model.eval()        \n",
        "    avg_val_loss = 0.\n",
        "    val_preds = np.zeros((len(x_cv),len(le.classes_)))\n",
        "    \n",
        "    for i, (x_batch, y_batch) in enumerate(valid_loader):\n",
        "        y_pred = model(x_batch).detach()\n",
        "        avg_val_loss += loss_fn(y_pred, y_batch).item() / len(valid_loader)\n",
        "        # keep/store predictions\n",
        "        val_preds[i * batch_size:(i+1) * batch_size] =F.softmax(y_pred).cpu().numpy()\n",
        "    \n",
        "    # Check Accuracy\n",
        "    val_accuracy = sum(val_preds.argmax(axis=1)==test_y)/len(test_y)\n",
        "    train_loss.append(avg_loss)\n",
        "    valid_loss.append(avg_val_loss)\n",
        "    elapsed_time = time.time() - start_time \n",
        "    print('Epoch {}/{} \\t loss={:.4f} \\t val_loss={:.4f}  \\t val_acc={:.4f}  \\t time={:.2f}s'.format(\n",
        "                epoch + 1, n_epochs, avg_loss, avg_val_loss, val_accuracy, elapsed_time))"
      ],
      "execution_count": 21,
      "outputs": [
        {
          "output_type": "stream",
          "name": "stderr",
          "text": [
            "/usr/local/lib/python3.7/dist-packages/torch/nn/functional.py:652: UserWarning: Named tensors and all their associated APIs are an experimental feature and subject to change. Please do not use them for anything important until they are released as stable. (Triggered internally at  /pytorch/c10/core/TensorImpl.h:1156.)\n",
            "  return torch.max_pool1d(input, kernel_size, stride, padding, dilation, ceil_mode)\n",
            "/usr/local/lib/python3.7/dist-packages/ipykernel_launcher.py:48: UserWarning: Implicit dimension choice for softmax has been deprecated. Change the call to include dim=X as an argument.\n"
          ]
        },
        {
          "output_type": "stream",
          "name": "stdout",
          "text": [
            "Epoch 1/6 \t loss=451.9140 \t val_loss=294.0763  \t val_acc=0.6770  \t time=4.07s\n",
            "Epoch 2/6 \t loss=307.6847 \t val_loss=272.5334  \t val_acc=0.7360  \t time=4.01s\n",
            "Epoch 3/6 \t loss=276.6161 \t val_loss=254.0439  \t val_acc=0.7663  \t time=4.00s\n",
            "Epoch 4/6 \t loss=259.1095 \t val_loss=238.9960  \t val_acc=0.7787  \t time=3.94s\n",
            "Epoch 5/6 \t loss=239.6433 \t val_loss=231.5104  \t val_acc=0.7818  \t time=3.87s\n",
            "Epoch 6/6 \t loss=228.3185 \t val_loss=221.4792  \t val_acc=0.8059  \t time=3.94s\n"
          ]
        }
      ]
    },
    {
      "cell_type": "code",
      "metadata": {
        "id": "WxYKAbCCC6Ni"
      },
      "source": [
        "torch.save(model,'/content/drive/MyDrive/Colab Notebooks/NLP/Swahili/textcnn_model')"
      ],
      "execution_count": 22,
      "outputs": []
    },
    {
      "cell_type": "code",
      "metadata": {
        "id": "DNSoCIrlDB8b"
      },
      "source": [
        "def plot_graph(epochs):\n",
        "    fig = plt.figure(figsize=(12,12))\n",
        "    plt.title(\"Train/Validation Loss\")\n",
        "    plt.plot(list(np.arange(epochs) + 1) , train_loss, label='train')\n",
        "    plt.plot(list(np.arange(epochs) + 1), valid_loss, label='validation')\n",
        "    plt.xlabel('num_epochs', fontsize=12)\n",
        "    plt.ylabel('loss', fontsize=12)\n",
        "    plt.legend(loc='best')"
      ],
      "execution_count": 23,
      "outputs": []
    },
    {
      "cell_type": "code",
      "metadata": {
        "colab": {
          "base_uri": "https://localhost:8080/",
          "height": 733
        },
        "id": "izNUHndkDK1d",
        "outputId": "4e8f1f68-a32e-40ee-e514-89dade480169"
      },
      "source": [
        "plot_graph(n_epochs)"
      ],
      "execution_count": 24,
      "outputs": [
        {
          "output_type": "display_data",
          "data": {
            "image/png": "[encoded data removed]",
            "text/plain": [
              "<Figure size 864x864 with 1 Axes>"
            ]
          },
          "metadata": {
            "needs_background": "light"
          }
        }
      ]
    },
    {
      "cell_type": "code",
      "metadata": {
        "colab": {
          "base_uri": "https://localhost:8080/"
        },
        "id": "VtCZUiqDDbs8",
        "outputId": "08fdd8dd-20c0-48a3-ecb4-71b5af6c1037"
      },
      "source": [
        "!pip install scikit-plot"
      ],
      "execution_count": 28,
      "outputs": [
        {
          "output_type": "stream",
          "name": "stdout",
          "text": [
            "Collecting scikit-plot\n",
            "  Downloading scikit_plot-0.3.7-py3-none-any.whl (33 kB)\n",
            "Requirement already satisfied: joblib>=0.10 in /usr/local/lib/python3.7/dist-packages (from scikit-plot) (1.0.1)\n",
            "Requirement already satisfied: scikit-learn>=0.18 in /usr/local/lib/python3.7/dist-packages (from scikit-plot) (0.22.2.post1)\n",
            "Requirement already satisfied: matplotlib>=1.4.0 in /usr/local/lib/python3.7/dist-packages (from scikit-plot) (3.2.2)\n",
            "Requirement already satisfied: scipy>=0.9 in /usr/local/lib/python3.7/dist-packages (from scikit-plot) (1.4.1)\n",
            "Requirement already satisfied: kiwisolver>=1.0.1 in /usr/local/lib/python3.7/dist-packages (from matplotlib>=1.4.0->scikit-plot) (1.3.1)\n",
            "Requirement already satisfied: python-dateutil>=2.1 in /usr/local/lib/python3.7/dist-packages (from matplotlib>=1.4.0->scikit-plot) (2.8.2)\n",
            "Requirement already satisfied: pyparsing!=2.0.4,!=2.1.2,!=2.1.6,>=2.0.1 in /usr/local/lib/python3.7/dist-packages (from matplotlib>=1.4.0->scikit-plot) (2.4.7)\n",
            "Requirement already satisfied: cycler>=0.10 in /usr/local/lib/python3.7/dist-packages (from matplotlib>=1.4.0->scikit-plot) (0.10.0)\n",
            "Requirement already satisfied: numpy>=1.11 in /usr/local/lib/python3.7/dist-packages (from matplotlib>=1.4.0->scikit-plot) (1.19.5)\n",
            "Requirement already satisfied: six in /usr/local/lib/python3.7/dist-packages (from cycler>=0.10->matplotlib>=1.4.0->scikit-plot) (1.15.0)\n",
            "Installing collected packages: scikit-plot\n",
            "Successfully installed scikit-plot-0.3.7\n"
          ]
        }
      ]
    },
    {
      "cell_type": "code",
      "metadata": {
        "colab": {
          "base_uri": "https://localhost:8080/",
          "height": 712
        },
        "id": "vaia8xBkDVv2",
        "outputId": "370773b4-ce4e-4503-8bf7-0abd7c283fa0"
      },
      "source": [
        "import scikitplot as skplt\n",
        "y_true = [le.classes_[x] for x in test_y]\n",
        "y_pred = [le.classes_[x] for x in val_preds.argmax(axis=1)]\n",
        "skplt.metrics.plot_confusion_matrix(\n",
        "    y_true, \n",
        "    y_pred,\n",
        "    figsize=(12,12),x_tick_rotation=90)"
      ],
      "execution_count": 29,
      "outputs": [
        {
          "output_type": "execute_result",
          "data": {
            "text/plain": [
              "<matplotlib.axes._subplots.AxesSubplot at 0x7fb91c2db9d0>"
            ]
          },
          "metadata": {},
          "execution_count": 29
        },
        {
          "output_type": "display_data",
          "data": {
            "image/png": "[encoded data removed]",
            "text/plain": [
              "<Figure size 864x864 with 2 Axes>"
            ]
          },
          "metadata": {
            "needs_background": "light"
          }
        }
      ]
    },
    {
      "cell_type": "code",
      "metadata": {
        "id": "ayU-3bBaGKC9"
      },
      "source": [
        "class BiLSTM(nn.Module):\n",
        "    \n",
        "    def __init__(self):\n",
        "        super(BiLSTM, self).__init__()\n",
        "        self.hidden_size = 64\n",
        "        drp = 0.1\n",
        "        n_classes = len(le.classes_)\n",
        "        self.embedding = nn.Embedding(max_features, embed_size)\n",
        "        self.embedding.weight = nn.Parameter(torch.tensor(embedding_matrix, dtype=torch.float32))\n",
        "        self.embedding.weight.requires_grad = False\n",
        "        self.lstm = nn.LSTM(embed_size, self.hidden_size, bidirectional=True, batch_first=True)\n",
        "        self.linear = nn.Linear(self.hidden_size*4 , 64)\n",
        "        self.relu = nn.ReLU()\n",
        "        self.dropout = nn.Dropout(drp)\n",
        "        self.out = nn.Linear(64, n_classes)\n",
        "\n",
        "\n",
        "    def forward(self, x):\n",
        "        #rint(x.size())\n",
        "        h_embedding = self.embedding(x)\n",
        "        #_embedding = torch.squeeze(torch.unsqueeze(h_embedding, 0))\n",
        "        h_lstm, _ = self.lstm(h_embedding)\n",
        "        avg_pool = torch.mean(h_lstm, 1)\n",
        "        max_pool, _ = torch.max(h_lstm, 1)\n",
        "        conc = torch.cat(( avg_pool, max_pool), 1)\n",
        "        conc = self.relu(self.linear(conc))\n",
        "        conc = self.dropout(conc)\n",
        "        out = self.out(conc)\n",
        "        return out"
      ],
      "execution_count": 30,
      "outputs": []
    },
    {
      "cell_type": "code",
      "metadata": {
        "colab": {
          "base_uri": "https://localhost:8080/"
        },
        "id": "JjWBQygzGJ4t",
        "outputId": "a859ff12-1a30-4cc7-e6b1-c9193988351d"
      },
      "source": [
        "n_epochs = 6\n",
        "model = BiLSTM()\n",
        "loss_fn = nn.CrossEntropyLoss(reduction='sum')\n",
        "optimizer = torch.optim.Adam(filter(lambda p: p.requires_grad, model.parameters()), lr=0.001)\n",
        "model.cuda()\n",
        "\n",
        "# Load train and test in CUDA Memory\n",
        "x_train = torch.tensor(train_X, dtype=torch.long).cuda()\n",
        "y_train = torch.tensor(train_y, dtype=torch.long).cuda()\n",
        "x_cv = torch.tensor(test_X, dtype=torch.long).cuda()\n",
        "y_cv = torch.tensor(test_y, dtype=torch.long).cuda()\n",
        "\n",
        "# Create Torch datasets\n",
        "train = torch.utils.data.TensorDataset(x_train, y_train)\n",
        "valid = torch.utils.data.TensorDataset(x_cv, y_cv)\n",
        "\n",
        "# Create Data Loaders\n",
        "train_loader = torch.utils.data.DataLoader(train, batch_size=batch_size, shuffle=True)\n",
        "valid_loader = torch.utils.data.DataLoader(valid, batch_size=batch_size, shuffle=False)\n",
        "\n",
        "train_loss = []\n",
        "valid_loss = []\n",
        "\n",
        "for epoch in range(n_epochs):\n",
        "    start_time = time.time()\n",
        "    # Set model to train configuration\n",
        "    model.train()\n",
        "    avg_loss = 0.  \n",
        "    for i, (x_batch, y_batch) in enumerate(train_loader):\n",
        "        # Predict/Forward Pass\n",
        "        y_pred = model(x_batch)\n",
        "        # Compute loss\n",
        "        loss = loss_fn(y_pred, y_batch)\n",
        "        optimizer.zero_grad()\n",
        "        loss.backward()\n",
        "        optimizer.step()\n",
        "        avg_loss += loss.item() / len(train_loader)\n",
        "    \n",
        "    # Set model to validation configuration -Doesn't get trained here\n",
        "    model.eval()        \n",
        "    avg_val_loss = 0.\n",
        "    val_preds = np.zeros((len(x_cv),len(le.classes_)))\n",
        "    \n",
        "    for i, (x_batch, y_batch) in enumerate(valid_loader):\n",
        "        y_pred = model(x_batch).detach()\n",
        "        avg_val_loss += loss_fn(y_pred, y_batch).item() / len(valid_loader)\n",
        "        # keep/store predictions\n",
        "        val_preds[i * batch_size:(i+1) * batch_size] =F.softmax(y_pred).cpu().numpy()\n",
        "\n",
        "    # Check Accuracy\n",
        "    val_accuracy = sum(val_preds.argmax(axis=1)==test_y)/len(test_y)\n",
        "    train_loss.append(avg_loss)\n",
        "    valid_loss.append(avg_val_loss)\n",
        "    elapsed_time = time.time() - start_time \n",
        "    print('Epoch {}/{} \\t loss={:.4f} \\t val_loss={:.4f}  \\t val_acc={:.4f}  \\t time={:.2f}s'.format(\n",
        "                epoch + 1, n_epochs, avg_loss, avg_val_loss, val_accuracy, elapsed_time))\n",
        "\n",
        "\n"
      ],
      "execution_count": 31,
      "outputs": [
        {
          "output_type": "stream",
          "name": "stderr",
          "text": [
            "/usr/local/lib/python3.7/dist-packages/ipykernel_launcher.py:48: UserWarning: Implicit dimension choice for softmax has been deprecated. Change the call to include dim=X as an argument.\n"
          ]
        },
        {
          "output_type": "stream",
          "name": "stdout",
          "text": [
            "Epoch 1/6 \t loss=692.1267 \t val_loss=527.7968  \t val_acc=0.6638  \t time=3.79s\n",
            "Epoch 2/6 \t loss=548.1887 \t val_loss=429.3933  \t val_acc=0.6382  \t time=3.77s\n",
            "Epoch 3/6 \t loss=437.2319 \t val_loss=333.1547  \t val_acc=0.6716  \t time=3.74s\n",
            "Epoch 4/6 \t loss=341.7639 \t val_loss=288.2789  \t val_acc=0.6693  \t time=3.74s\n",
            "Epoch 5/6 \t loss=311.1049 \t val_loss=288.6449  \t val_acc=0.6747  \t time=3.75s\n",
            "Epoch 6/6 \t loss=299.8659 \t val_loss=280.1487  \t val_acc=0.7104  \t time=3.76s\n"
          ]
        }
      ]
    },
    {
      "cell_type": "code",
      "metadata": {
        "colab": {
          "base_uri": "https://localhost:8080/",
          "height": 733
        },
        "id": "TOgorm9MG9PU",
        "outputId": "0d6d4fb5-50a0-4a66-a35c-c05d105271d9"
      },
      "source": [
        "plot_graph(n_epochs)"
      ],
      "execution_count": 32,
      "outputs": [
        {
          "output_type": "display_data",
          "data": {
            "image/png": "[encoded data removed]",
            "text/plain": [
              "<Figure size 864x864 with 1 Axes>"
            ]
          },
          "metadata": {
            "needs_background": "light"
          }
        }
      ]
    },
    {
      "cell_type": "code",
      "metadata": {
        "id": "s-Z4lD1FHDYR"
      },
      "source": [
        "torch.save(model,'/content/drive/MyDrive/Colab Notebooks/NLP/Swahili/bilstm_model')"
      ],
      "execution_count": 33,
      "outputs": []
    },
    {
      "cell_type": "code",
      "metadata": {
        "colab": {
          "base_uri": "https://localhost:8080/",
          "height": 712
        },
        "id": "ckIwm3uDHIhP",
        "outputId": "60bc8f41-e19c-434a-96dd-291d0c0bf94d"
      },
      "source": [
        "y_true = [le.classes_[x] for x in test_y]\n",
        "y_pred = [le.classes_[x] for x in val_preds.argmax(axis=1)]\n",
        "skplt.metrics.plot_confusion_matrix(\n",
        "    y_true, \n",
        "    y_pred,\n",
        "    figsize=(12,12),x_tick_rotation=90)"
      ],
      "execution_count": 34,
      "outputs": [
        {
          "output_type": "execute_result",
          "data": {
            "text/plain": [
              "<matplotlib.axes._subplots.AxesSubplot at 0x7fb91b8122d0>"
            ]
          },
          "metadata": {},
          "execution_count": 34
        },
        {
          "output_type": "display_data",
          "data": {
            "image/png": "[encoded data removed]",
            "text/plain": [
              "<Figure size 864x864 with 2 Axes>"
            ]
          },
          "metadata": {
            "needs_background": "light"
          }
        }
      ]
    },
    {
      "cell_type": "markdown",
      "metadata": {
        "id": "SSTGcpfTHa8M"
      },
      "source": [
        "------"
      ]
    },
    {
      "cell_type": "code",
      "metadata": {
        "colab": {
          "base_uri": "https://localhost:8080/",
          "height": 414
        },
        "id": "mHVLoTZhHalb",
        "outputId": "c859eef0-f483-4b1d-8619-a960ae9b8e2e"
      },
      "source": [
        "tdf = pd.read_csv(test_path)\n",
        "tdf"
      ],
      "execution_count": 35,
      "outputs": [
        {
          "output_type": "execute_result",
          "data": {
            "text/html": [
              "<div>\n",
              "<style scoped>\n",
              "    .dataframe tbody tr th:only-of-type {\n",
              "        vertical-align: middle;\n",
              "    }\n",
              "\n",
              "    .dataframe tbody tr th {\n",
              "        vertical-align: top;\n",
              "    }\n",
              "\n",
              "    .dataframe thead th {\n",
              "        text-align: right;\n",
              "    }\n",
              "</style>\n",
              "<table border=\"1\" class=\"dataframe\">\n",
              "  <thead>\n",
              "    <tr style=\"text-align: right;\">\n",
              "      <th></th>\n",
              "      <th>swahili_id</th>\n",
              "      <th>content</th>\n",
              "    </tr>\n",
              "  </thead>\n",
              "  <tbody>\n",
              "    <tr>\n",
              "      <th>0</th>\n",
              "      <td>001dd47ac202d9db6624a5ff734a5e7dddafeaf2</td>\n",
              "      <td>MKUU wa Wilaya ya Bahi, Mkoani Dodoma, Mwanah...</td>\n",
              "    </tr>\n",
              "    <tr>\n",
              "      <th>1</th>\n",
              "      <td>0043d97f7690e9bc02f0ed8bb2b260d1d44bad92</td>\n",
              "      <td>MWISHONI mwa wiki hii, Timu ya Soka ya Taifa,...</td>\n",
              "    </tr>\n",
              "    <tr>\n",
              "      <th>2</th>\n",
              "      <td>00579c2307b5c11003d21c40c3ecff5e922c3fd8</td>\n",
              "      <td>THAMANI ya mauzo ya bidhaa za Afrika Masharik...</td>\n",
              "    </tr>\n",
              "    <tr>\n",
              "      <th>3</th>\n",
              "      <td>00868eeee349e286303706ef0ffd851f39708d37</td>\n",
              "      <td>MENEJA Mawasiliano na Utetezi wa asasi ya AGP...</td>\n",
              "    </tr>\n",
              "    <tr>\n",
              "      <th>4</th>\n",
              "      <td>00a5cb12d3058dcf2e42f277eee599992db32412</td>\n",
              "      <td>WAZIRI wa Kilimo, Japhet Hasunga amesema seri...</td>\n",
              "    </tr>\n",
              "    <tr>\n",
              "      <th>...</th>\n",
              "      <td>...</td>\n",
              "      <td>...</td>\n",
              "    </tr>\n",
              "    <tr>\n",
              "      <th>1283</th>\n",
              "      <td>feb4b0ae88524c9cee3e50f2301d84a235f3c607</td>\n",
              "      <td>MKURUGENZI Msaidizi Msajili wa Asasi za kirai...</td>\n",
              "    </tr>\n",
              "    <tr>\n",
              "      <th>1284</th>\n",
              "      <td>fecf3f14f47237e02721ed4baa4eb6c11abd239f</td>\n",
              "      <td>Kilomoni alisema jana kesho atazungumzia sual...</td>\n",
              "    </tr>\n",
              "    <tr>\n",
              "      <th>1285</th>\n",
              "      <td>feed09e13586d12139cd59bc20996a4d29706606</td>\n",
              "      <td>TIMU ya taifa ya soka ya Tanzania Bara, Kilim...</td>\n",
              "    </tr>\n",
              "    <tr>\n",
              "      <th>1286</th>\n",
              "      <td>ffc0bca6fde8fa0cce1ac3a7b0d746603d441bf8</td>\n",
              "      <td>YANGA imetozwa faini ya Sh 3,500,000 kutokana...</td>\n",
              "    </tr>\n",
              "    <tr>\n",
              "      <th>1287</th>\n",
              "      <td>fffdd6f356ed5b8dba21717f60c53f6520e650ab</td>\n",
              "      <td>MAHAKAMA Kuu Kanda ya Dar es Salaam imekubali...</td>\n",
              "    </tr>\n",
              "  </tbody>\n",
              "</table>\n",
              "<p>1288 rows × 2 columns</p>\n",
              "</div>"
            ],
            "text/plain": [
              "                                    swahili_id                                            content\n",
              "0     001dd47ac202d9db6624a5ff734a5e7dddafeaf2   MKUU wa Wilaya ya Bahi, Mkoani Dodoma, Mwanah...\n",
              "1     0043d97f7690e9bc02f0ed8bb2b260d1d44bad92   MWISHONI mwa wiki hii, Timu ya Soka ya Taifa,...\n",
              "2     00579c2307b5c11003d21c40c3ecff5e922c3fd8   THAMANI ya mauzo ya bidhaa za Afrika Masharik...\n",
              "3     00868eeee349e286303706ef0ffd851f39708d37   MENEJA Mawasiliano na Utetezi wa asasi ya AGP...\n",
              "4     00a5cb12d3058dcf2e42f277eee599992db32412   WAZIRI wa Kilimo, Japhet Hasunga amesema seri...\n",
              "...                                        ...                                                ...\n",
              "1283  feb4b0ae88524c9cee3e50f2301d84a235f3c607   MKURUGENZI Msaidizi Msajili wa Asasi za kirai...\n",
              "1284  fecf3f14f47237e02721ed4baa4eb6c11abd239f   Kilomoni alisema jana kesho atazungumzia sual...\n",
              "1285  feed09e13586d12139cd59bc20996a4d29706606   TIMU ya taifa ya soka ya Tanzania Bara, Kilim...\n",
              "1286  ffc0bca6fde8fa0cce1ac3a7b0d746603d441bf8   YANGA imetozwa faini ya Sh 3,500,000 kutokana...\n",
              "1287  fffdd6f356ed5b8dba21717f60c53f6520e650ab   MAHAKAMA Kuu Kanda ya Dar es Salaam imekubali...\n",
              "\n",
              "[1288 rows x 2 columns]"
            ]
          },
          "metadata": {},
          "execution_count": 35
        }
      ]
    },
    {
      "cell_type": "code",
      "metadata": {
        "colab": {
          "base_uri": "https://localhost:8080/"
        },
        "id": "gxq9EBRsHrJh",
        "outputId": "f4f59f4c-5e28-4dee-fd90-2be1d807ade9"
      },
      "source": [
        "x = tdf['content'].values[1]\n",
        "print(x)"
      ],
      "execution_count": 36,
      "outputs": [
        {
          "output_type": "stream",
          "name": "stdout",
          "text": [
            " MWISHONI mwa wiki hii, Timu ya Soka ya Taifa, Taifa Stars itakuwa na kibarua kizito dhidi ya Sudan, katika mechi ya kuwania kufuzu Fainali za Michuano ya Afrika kwa wachezaji wa ndani, Chan.Katika harakati za kujiandaa na mechi hiyo, Stars juzi ilicheza mechi ya kirafiki na Rwanda mjini Kigali na kutoka suluhu. Matokeo hayo yanaonekana kumridhisha kocha wa timu hiyo, Etienne Ndayiragije na kusema amepata kipimo sahihi kabla ya kucheza na Sudan mechi ambayo Stars inahitaji ushindi wa kuanzia mabao mawili kusonga mbele baada ya kupoteza mechi ya nyumbani kwa bao 1-0.Ndayiragije alisema waliingia kwenye mchezo wa juzi dhidi ya Rwanda wakiwa na malengo mawili kwanza kupata ushindi ili kujiweka mazingira mazuri kwenye viwango Fifa na pili kukiandaa kikosi hicho kwa mchezo dhidi ya Sudan.“Lengo la kwanza tumeshindwa kufanikiwa kwakuwa tumetoka sare na jambo linalofuatia nadhani kwa kiwango kikubwa tumefanikiwa kwa kupata kipimo sahihi cha kuweza kucheza na Sudan kwenye mchezo wa marudiano ugenini,” alisema.Alisema kwenye mchezo huo kwa asilimia kubwa aliwatumia wachezaji wanaotoka kwenye ligi ya ndani kwa kuwa ndio haswa watakaocheza dhidi ya Sudan.Kwa upande wake, Kocha wa Amavubi (Rwanda), Mashami Vincent pamoja na kuwa kwenye uwanja wa nyumbani amekubali matokeo na kwamba wamepata ushindani kutoka kwa Tanzania kwa kuwa kikosi chao kimesheheni wachezaji wenye ubora na wana uzoefu.Alisema na wao kwa upande wao wameutumia mchezo huo kama kipimo cha kujiandaa na mchezo wa marudiano wa Chan dhidi ya Ethiopia ambapo Amavubi watakuwa nyumbani kuwakaribisha wapinzani wao hao.Katika mchezo huo Amavubi wanajukumu kubwa la kulinda ushindi walioupata kwenye mchezo wa kwanza wa bao 1-0 ugenini uliopigwa kwenye Uwanja wa Mekelle, Ethiopia.“Tumepata ushindani lakini kikubwa kama majirani zetu Tanzania na sisi tulikuwa tunatumia mchezo huu kujiweka sawa kujiandaa na mechi ya marudiano dhidi ya Ethiopia mechi tukayocheza Oktoba 18 hapa nyumbani,” alisema Vincent.\n"
          ]
        }
      ]
    },
    {
      "cell_type": "code",
      "metadata": {
        "id": "Ewq15SpbHXP3"
      },
      "source": [
        "def predict_single(x):    \n",
        "    # lower the text\n",
        "    x = x.lower()\n",
        "    # Clean the text\n",
        "    x =  clean_text(x)\n",
        "    # Clean numbers\n",
        "    x =  clean_numbers(x)\n",
        "    # Clean Contractions\n",
        "    # x = replace_contractions(x)\n",
        "    # tokenize\n",
        "    x = tokenizer.texts_to_sequences([x])\n",
        "    # pad\n",
        "    x = pad_sequences(x, maxlen=maxlen)\n",
        "    # create dataset\n",
        "    x = torch.tensor(x, dtype=torch.long).cuda()\n",
        "\n",
        "    pred = model(x).detach()\n",
        "    pred = F.softmax(pred).cpu().numpy()\n",
        "\n",
        "    pred = pred.argmax(axis=1)\n",
        "\n",
        "    pred = le.classes_[pred]\n",
        "    return pred[0]"
      ],
      "execution_count": 37,
      "outputs": []
    },
    {
      "cell_type": "code",
      "metadata": {
        "colab": {
          "base_uri": "https://localhost:8080/"
        },
        "id": "e8GVCOHhH3JC",
        "outputId": "c5f81a03-6302-4509-fe19-b44c19581678"
      },
      "source": [
        "res = predict_single(x)\n",
        "print(type(res))\n",
        "print(res)\n"
      ],
      "execution_count": 39,
      "outputs": [
        {
          "output_type": "stream",
          "name": "stdout",
          "text": [
            "<class 'str'>\n",
            "michezo\n"
          ]
        },
        {
          "output_type": "stream",
          "name": "stderr",
          "text": [
            "/usr/local/lib/python3.7/dist-packages/ipykernel_launcher.py:18: UserWarning: Implicit dimension choice for softmax has been deprecated. Change the call to include dim=X as an argument.\n"
          ]
        }
      ]
    },
    {
      "cell_type": "code",
      "metadata": {
        "colab": {
          "base_uri": "https://localhost:8080/"
        },
        "id": "Kh7GBFvbJ56S",
        "outputId": "b397be07-7be0-41bb-b1a9-38bcfd1d0bce"
      },
      "source": [
        "tdf[\"category\"] = tdf[\"content\"].apply(lambda x: predict_single(x))"
      ],
      "execution_count": 40,
      "outputs": [
        {
          "output_type": "stream",
          "name": "stderr",
          "text": [
            "/usr/local/lib/python3.7/dist-packages/ipykernel_launcher.py:18: UserWarning: Implicit dimension choice for softmax has been deprecated. Change the call to include dim=X as an argument.\n"
          ]
        }
      ]
    },
    {
      "cell_type": "code",
      "metadata": {
        "id": "biwtm3wXLo8W"
      },
      "source": [
        "tdf['kitaifa'], tdf['michezo'], tdf['biashara'], tdf['kimataifa'], tdf['burudani'] = [0,0,0,0,0]"
      ],
      "execution_count": 43,
      "outputs": []
    },
    {
      "cell_type": "code",
      "metadata": {
        "colab": {
          "base_uri": "https://localhost:8080/"
        },
        "id": "MVFZ0zCXL2Tv",
        "outputId": "b1048cd8-00f0-49fd-99ef-a775ab47c85f"
      },
      "source": [
        "df['category'].unique()"
      ],
      "execution_count": 46,
      "outputs": [
        {
          "output_type": "execute_result",
          "data": {
            "text/plain": [
              "array(['Kitaifa', 'Biashara', 'michezo', 'Kimataifa', 'Burudani'],\n",
              "      dtype=object)"
            ]
          },
          "metadata": {},
          "execution_count": 46
        }
      ]
    },
    {
      "cell_type": "code",
      "metadata": {
        "id": "EQH1VdsOLa7I"
      },
      "source": [
        "def k_assign(x):\n",
        "    if x == 'Kitaifa':\n",
        "        val = 1\n",
        "        return int(val)\n",
        "    else:\n",
        "        return 0\n",
        "\n",
        "def m_assign(x):\n",
        "    if x == 'michezo':\n",
        "        val = 1\n",
        "        return int(val)\n",
        "    else:\n",
        "        return 0\n",
        "\n",
        "def b_assign(x):\n",
        "    if x == 'Biashara':\n",
        "        val = 1\n",
        "        return int(val)\n",
        "    else:\n",
        "        return 0\n",
        "\n",
        "def ki_assign(x):\n",
        "    if x == 'Kimataifa':\n",
        "        val = 1\n",
        "        return int(val)\n",
        "    else:\n",
        "        return 0\n",
        "\n",
        "def bu_assign(x):\n",
        "    if x == 'Burudani':\n",
        "        val = 1\n",
        "        return int(val)\n",
        "    else:\n",
        "        return 0\n"
      ],
      "execution_count": 49,
      "outputs": []
    },
    {
      "cell_type": "code",
      "metadata": {
        "id": "3r8MdWteMO8h"
      },
      "source": [
        "tdf['kitaifa'] = tdf['category'].apply(lambda x: k_assign(x))\n",
        "tdf['michezo'] = tdf['category'].apply(lambda x: m_assign(x))\n",
        "tdf['biashara'] = tdf['category'].apply(lambda x: b_assign(x))\n",
        "tdf['kimataifa'] = tdf['category'].apply(lambda x: ki_assign(x))\n",
        "tdf['burudani'] = tdf['category'].apply(lambda x: bu_assign(x))"
      ],
      "execution_count": 50,
      "outputs": []
    },
    {
      "cell_type": "code",
      "metadata": {
        "colab": {
          "base_uri": "https://localhost:8080/",
          "height": 1000
        },
        "id": "7gmOzKjcKiWu",
        "outputId": "4b8688d8-7ae1-40ae-e472-0714a0574771"
      },
      "source": [
        "tdf"
      ],
      "execution_count": 51,
      "outputs": [
        {
          "output_type": "execute_result",
          "data": {
            "text/html": [
              "<div>\n",
              "<style scoped>\n",
              "    .dataframe tbody tr th:only-of-type {\n",
              "        vertical-align: middle;\n",
              "    }\n",
              "\n",
              "    .dataframe tbody tr th {\n",
              "        vertical-align: top;\n",
              "    }\n",
              "\n",
              "    .dataframe thead th {\n",
              "        text-align: right;\n",
              "    }\n",
              "</style>\n",
              "<table border=\"1\" class=\"dataframe\">\n",
              "  <thead>\n",
              "    <tr style=\"text-align: right;\">\n",
              "      <th></th>\n",
              "      <th>swahili_id</th>\n",
              "      <th>content</th>\n",
              "      <th>category</th>\n",
              "      <th>kitaifa</th>\n",
              "      <th>michezo</th>\n",
              "      <th>biashara</th>\n",
              "      <th>kimataifa</th>\n",
              "      <th>burudani</th>\n",
              "    </tr>\n",
              "  </thead>\n",
              "  <tbody>\n",
              "    <tr>\n",
              "      <th>0</th>\n",
              "      <td>001dd47ac202d9db6624a5ff734a5e7dddafeaf2</td>\n",
              "      <td>MKUU wa Wilaya ya Bahi, Mkoani Dodoma, Mwanah...</td>\n",
              "      <td>Kitaifa</td>\n",
              "      <td>1</td>\n",
              "      <td>0</td>\n",
              "      <td>0</td>\n",
              "      <td>0</td>\n",
              "      <td>0</td>\n",
              "    </tr>\n",
              "    <tr>\n",
              "      <th>1</th>\n",
              "      <td>0043d97f7690e9bc02f0ed8bb2b260d1d44bad92</td>\n",
              "      <td>MWISHONI mwa wiki hii, Timu ya Soka ya Taifa,...</td>\n",
              "      <td>michezo</td>\n",
              "      <td>0</td>\n",
              "      <td>1</td>\n",
              "      <td>0</td>\n",
              "      <td>0</td>\n",
              "      <td>0</td>\n",
              "    </tr>\n",
              "    <tr>\n",
              "      <th>2</th>\n",
              "      <td>00579c2307b5c11003d21c40c3ecff5e922c3fd8</td>\n",
              "      <td>THAMANI ya mauzo ya bidhaa za Afrika Masharik...</td>\n",
              "      <td>Biashara</td>\n",
              "      <td>0</td>\n",
              "      <td>0</td>\n",
              "      <td>1</td>\n",
              "      <td>0</td>\n",
              "      <td>0</td>\n",
              "    </tr>\n",
              "    <tr>\n",
              "      <th>3</th>\n",
              "      <td>00868eeee349e286303706ef0ffd851f39708d37</td>\n",
              "      <td>MENEJA Mawasiliano na Utetezi wa asasi ya AGP...</td>\n",
              "      <td>Kitaifa</td>\n",
              "      <td>1</td>\n",
              "      <td>0</td>\n",
              "      <td>0</td>\n",
              "      <td>0</td>\n",
              "      <td>0</td>\n",
              "    </tr>\n",
              "    <tr>\n",
              "      <th>4</th>\n",
              "      <td>00a5cb12d3058dcf2e42f277eee599992db32412</td>\n",
              "      <td>WAZIRI wa Kilimo, Japhet Hasunga amesema seri...</td>\n",
              "      <td>Kitaifa</td>\n",
              "      <td>1</td>\n",
              "      <td>0</td>\n",
              "      <td>0</td>\n",
              "      <td>0</td>\n",
              "      <td>0</td>\n",
              "    </tr>\n",
              "    <tr>\n",
              "      <th>...</th>\n",
              "      <td>...</td>\n",
              "      <td>...</td>\n",
              "      <td>...</td>\n",
              "      <td>...</td>\n",
              "      <td>...</td>\n",
              "      <td>...</td>\n",
              "      <td>...</td>\n",
              "      <td>...</td>\n",
              "    </tr>\n",
              "    <tr>\n",
              "      <th>1283</th>\n",
              "      <td>feb4b0ae88524c9cee3e50f2301d84a235f3c607</td>\n",
              "      <td>MKURUGENZI Msaidizi Msajili wa Asasi za kirai...</td>\n",
              "      <td>Kitaifa</td>\n",
              "      <td>1</td>\n",
              "      <td>0</td>\n",
              "      <td>0</td>\n",
              "      <td>0</td>\n",
              "      <td>0</td>\n",
              "    </tr>\n",
              "    <tr>\n",
              "      <th>1284</th>\n",
              "      <td>fecf3f14f47237e02721ed4baa4eb6c11abd239f</td>\n",
              "      <td>Kilomoni alisema jana kesho atazungumzia sual...</td>\n",
              "      <td>michezo</td>\n",
              "      <td>0</td>\n",
              "      <td>1</td>\n",
              "      <td>0</td>\n",
              "      <td>0</td>\n",
              "      <td>0</td>\n",
              "    </tr>\n",
              "    <tr>\n",
              "      <th>1285</th>\n",
              "      <td>feed09e13586d12139cd59bc20996a4d29706606</td>\n",
              "      <td>TIMU ya taifa ya soka ya Tanzania Bara, Kilim...</td>\n",
              "      <td>michezo</td>\n",
              "      <td>0</td>\n",
              "      <td>1</td>\n",
              "      <td>0</td>\n",
              "      <td>0</td>\n",
              "      <td>0</td>\n",
              "    </tr>\n",
              "    <tr>\n",
              "      <th>1286</th>\n",
              "      <td>ffc0bca6fde8fa0cce1ac3a7b0d746603d441bf8</td>\n",
              "      <td>YANGA imetozwa faini ya Sh 3,500,000 kutokana...</td>\n",
              "      <td>michezo</td>\n",
              "      <td>0</td>\n",
              "      <td>1</td>\n",
              "      <td>0</td>\n",
              "      <td>0</td>\n",
              "      <td>0</td>\n",
              "    </tr>\n",
              "    <tr>\n",
              "      <th>1287</th>\n",
              "      <td>fffdd6f356ed5b8dba21717f60c53f6520e650ab</td>\n",
              "      <td>MAHAKAMA Kuu Kanda ya Dar es Salaam imekubali...</td>\n",
              "      <td>Kitaifa</td>\n",
              "      <td>1</td>\n",
              "      <td>0</td>\n",
              "      <td>0</td>\n",
              "      <td>0</td>\n",
              "      <td>0</td>\n",
              "    </tr>\n",
              "  </tbody>\n",
              "</table>\n",
              "<p>1288 rows × 8 columns</p>\n",
              "</div>"
            ],
            "text/plain": [
              "                                    swahili_id  ... burudani\n",
              "0     001dd47ac202d9db6624a5ff734a5e7dddafeaf2  ...        0\n",
              "1     0043d97f7690e9bc02f0ed8bb2b260d1d44bad92  ...        0\n",
              "2     00579c2307b5c11003d21c40c3ecff5e922c3fd8  ...        0\n",
              "3     00868eeee349e286303706ef0ffd851f39708d37  ...        0\n",
              "4     00a5cb12d3058dcf2e42f277eee599992db32412  ...        0\n",
              "...                                        ...  ...      ...\n",
              "1283  feb4b0ae88524c9cee3e50f2301d84a235f3c607  ...        0\n",
              "1284  fecf3f14f47237e02721ed4baa4eb6c11abd239f  ...        0\n",
              "1285  feed09e13586d12139cd59bc20996a4d29706606  ...        0\n",
              "1286  ffc0bca6fde8fa0cce1ac3a7b0d746603d441bf8  ...        0\n",
              "1287  fffdd6f356ed5b8dba21717f60c53f6520e650ab  ...        0\n",
              "\n",
              "[1288 rows x 8 columns]"
            ]
          },
          "metadata": {},
          "execution_count": 51
        }
      ]
    },
    {
      "cell_type": "code",
      "metadata": {
        "id": "XXIxwJeOMlHM"
      },
      "source": [
        "del tdf['content']\n",
        "del tdf['category']"
      ],
      "execution_count": 52,
      "outputs": []
    },
    {
      "cell_type": "code",
      "metadata": {
        "id": "CKgcTNdyOAQ8"
      },
      "source": [
        "tdf.to_csv('/content/drive/MyDrive/Colab Notebooks/NLP/Swahili/sub.csv', index=False)"
      ],
      "execution_count": 53,
      "outputs": []
    }
  ]
}