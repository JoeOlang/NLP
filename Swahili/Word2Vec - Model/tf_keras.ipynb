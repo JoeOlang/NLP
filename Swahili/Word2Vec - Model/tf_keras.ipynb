{
 "cells": [
  {
   "cell_type": "markdown",
   "metadata": {},
   "source": [
    "Version Two"
   ]
  },
  {
   "cell_type": "code",
   "execution_count": 1,
   "metadata": {},
   "outputs": [],
   "source": [
    "import io\n",
    "import os\n",
    "import re\n",
    "import shutil\n",
    "import string\n",
    "import tensorflow as tf\n",
    "\n",
    "from tensorflow.keras import Sequential\n",
    "from tensorflow.keras.layers import Dense, Embedding, GlobalAveragePooling1D\n",
    "from tensorflow.keras.layers.experimental.preprocessing import TextVectorization"
   ]
  },
  {
   "cell_type": "code",
   "execution_count": 14,
   "metadata": {},
   "outputs": [],
   "source": [
    "import pandas as pd\n",
    "from gensim.models.phrases import Phrases, Phraser\n",
    "from time import time \n",
    "import multiprocessing\n",
    "from gensim.models import Word2Vec"
   ]
  },
  {
   "cell_type": "code",
   "execution_count": 3,
   "metadata": {},
   "outputs": [
    {
     "data": {
      "text/html": [
       "<div>\n",
       "<style scoped>\n",
       "    .dataframe tbody tr th:only-of-type {\n",
       "        vertical-align: middle;\n",
       "    }\n",
       "\n",
       "    .dataframe tbody tr th {\n",
       "        vertical-align: top;\n",
       "    }\n",
       "\n",
       "    .dataframe thead th {\n",
       "        text-align: right;\n",
       "    }\n",
       "</style>\n",
       "<table border=\"1\" class=\"dataframe\">\n",
       "  <thead>\n",
       "    <tr style=\"text-align: right;\">\n",
       "      <th></th>\n",
       "      <th>id</th>\n",
       "      <th>text</th>\n",
       "    </tr>\n",
       "  </thead>\n",
       "  <tbody>\n",
       "    <tr>\n",
       "      <th>0</th>\n",
       "      <td>0</td>\n",
       "      <td>taarifa hiyo ilisema kuwa ongezeko la joto la ...</td>\n",
       "    </tr>\n",
       "    <tr>\n",
       "      <th>1</th>\n",
       "      <td>1</td>\n",
       "      <td>aidha ilisema kuwa mwelekeo wa kupungua kwa jo...</td>\n",
       "    </tr>\n",
       "    <tr>\n",
       "      <th>2</th>\n",
       "      <td>2</td>\n",
       "      <td>mwelekeo wa mvua wa septemba hadi desemba ishi...</td>\n",
       "    </tr>\n",
       "    <tr>\n",
       "      <th>3</th>\n",
       "      <td>3</td>\n",
       "      <td>ilifafanua kuwa msimu wa vuli UNK maeneo ambay...</td>\n",
       "    </tr>\n",
       "    <tr>\n",
       "      <th>4</th>\n",
       "      <td>4</td>\n",
       "      <td>katika maeneo hayo mvua zinatarajiwa kunyesha ...</td>\n",
       "    </tr>\n",
       "  </tbody>\n",
       "</table>\n",
       "</div>"
      ],
      "text/plain": [
       "   id                                               text\n",
       "0   0  taarifa hiyo ilisema kuwa ongezeko la joto la ...\n",
       "1   1  aidha ilisema kuwa mwelekeo wa kupungua kwa jo...\n",
       "2   2  mwelekeo wa mvua wa septemba hadi desemba ishi...\n",
       "3   3  ilifafanua kuwa msimu wa vuli UNK maeneo ambay...\n",
       "4   4  katika maeneo hayo mvua zinatarajiwa kunyesha ..."
      ]
     },
     "execution_count": 3,
     "metadata": {},
     "output_type": "execute_result"
    }
   ],
   "source": [
    "df = pd.read_csv('Data/data.csv')\n",
    "df.head()"
   ]
  },
  {
   "cell_type": "code",
   "execution_count": 13,
   "metadata": {},
   "outputs": [
    {
     "name": "stdout",
     "output_type": "stream",
     "text": [
      "Time to tokenize everything: 0.0 mins\n"
     ]
    },
    {
     "data": {
      "text/html": [
       "<div>\n",
       "<style scoped>\n",
       "    .dataframe tbody tr th:only-of-type {\n",
       "        vertical-align: middle;\n",
       "    }\n",
       "\n",
       "    .dataframe tbody tr th {\n",
       "        vertical-align: top;\n",
       "    }\n",
       "\n",
       "    .dataframe thead th {\n",
       "        text-align: right;\n",
       "    }\n",
       "</style>\n",
       "<table border=\"1\" class=\"dataframe\">\n",
       "  <thead>\n",
       "    <tr style=\"text-align: right;\">\n",
       "      <th></th>\n",
       "      <th>id</th>\n",
       "      <th>text</th>\n",
       "      <th>clean</th>\n",
       "      <th>tokens</th>\n",
       "    </tr>\n",
       "  </thead>\n",
       "  <tbody>\n",
       "    <tr>\n",
       "      <th>0</th>\n",
       "      <td>0</td>\n",
       "      <td>taarifa hiyo ilisema kuwa ongezeko la joto la ...</td>\n",
       "      <td>taarifa hiyo ilisema kuwa ongezeko la joto la ...</td>\n",
       "      <td>[taarifa, hiyo, ilisema, kuwa, ongezeko, la, j...</td>\n",
       "    </tr>\n",
       "    <tr>\n",
       "      <th>1</th>\n",
       "      <td>1</td>\n",
       "      <td>aidha ilisema kuwa mwelekeo wa kupungua kwa jo...</td>\n",
       "      <td>aidha ilisema kuwa mwelekeo wa kupungua kwa jo...</td>\n",
       "      <td>[aidha, ilisema, kuwa, mwelekeo, wa, kupungua,...</td>\n",
       "    </tr>\n",
       "    <tr>\n",
       "      <th>2</th>\n",
       "      <td>2</td>\n",
       "      <td>mwelekeo wa mvua wa septemba hadi desemba ishi...</td>\n",
       "      <td>mwelekeo wa mvua wa septemba hadi desemba ishi...</td>\n",
       "      <td>[mwelekeo, wa, mvua, wa, septemba, hadi, desem...</td>\n",
       "    </tr>\n",
       "    <tr>\n",
       "      <th>3</th>\n",
       "      <td>3</td>\n",
       "      <td>ilifafanua kuwa msimu wa vuli UNK maeneo ambay...</td>\n",
       "      <td>ilifafanua kuwa msimu wa vuli UNK maeneo ambay...</td>\n",
       "      <td>[ilifafanua, kuwa, msimu, wa, vuli, UNK, maene...</td>\n",
       "    </tr>\n",
       "    <tr>\n",
       "      <th>4</th>\n",
       "      <td>4</td>\n",
       "      <td>katika maeneo hayo mvua zinatarajiwa kunyesha ...</td>\n",
       "      <td>katika maeneo hayo mvua zinatarajiwa kunyesha ...</td>\n",
       "      <td>[katika, maeneo, hayo, mvua, zinatarajiwa, kun...</td>\n",
       "    </tr>\n",
       "  </tbody>\n",
       "</table>\n",
       "</div>"
      ],
      "text/plain": [
       "   id                                               text  \\\n",
       "0   0  taarifa hiyo ilisema kuwa ongezeko la joto la ...   \n",
       "1   1  aidha ilisema kuwa mwelekeo wa kupungua kwa jo...   \n",
       "2   2  mwelekeo wa mvua wa septemba hadi desemba ishi...   \n",
       "3   3  ilifafanua kuwa msimu wa vuli UNK maeneo ambay...   \n",
       "4   4  katika maeneo hayo mvua zinatarajiwa kunyesha ...   \n",
       "\n",
       "                                               clean  \\\n",
       "0  taarifa hiyo ilisema kuwa ongezeko la joto la ...   \n",
       "1  aidha ilisema kuwa mwelekeo wa kupungua kwa jo...   \n",
       "2  mwelekeo wa mvua wa septemba hadi desemba ishi...   \n",
       "3  ilifafanua kuwa msimu wa vuli UNK maeneo ambay...   \n",
       "4  katika maeneo hayo mvua zinatarajiwa kunyesha ...   \n",
       "\n",
       "                                              tokens  \n",
       "0  [taarifa, hiyo, ilisema, kuwa, ongezeko, la, j...  \n",
       "1  [aidha, ilisema, kuwa, mwelekeo, wa, kupungua,...  \n",
       "2  [mwelekeo, wa, mvua, wa, septemba, hadi, desem...  \n",
       "3  [ilifafanua, kuwa, msimu, wa, vuli, UNK, maene...  \n",
       "4  [katika, maeneo, hayo, mvua, zinatarajiwa, kun...  "
      ]
     },
     "execution_count": 13,
     "metadata": {},
     "output_type": "execute_result"
    }
   ],
   "source": [
    "df_clean = df\n",
    "from nltk.tokenize import RegexpTokenizer\n",
    "t = time()\n",
    "\n",
    "tokenizer = RegexpTokenizer(r'\\w+')\n",
    "df_clean['clean'] = df_clean['text'].astype('str') \n",
    "df_clean.dtypes\n",
    "\n",
    "df_clean[\"tokens\"] = df_clean[\"clean\"].apply(tokenizer.tokenize)\n",
    "# delete Stop Words\n",
    "\n",
    "print('Time to tokenize everything: {} mins'.format(round((time() - t) / 60, 2)))\n",
    "df_clean.head()"
   ]
  },
  {
   "cell_type": "code",
   "execution_count": 15,
   "metadata": {},
   "outputs": [
    {
     "name": "stdout",
     "output_type": "stream",
     "text": [
      "Time to build vocab: 0.0 mins\n",
      "Time to train the model: 0.28 mins\n"
     ]
    }
   ],
   "source": [
    "#WORD2VEC()\n",
    "cores = multiprocessing.cpu_count() # Count the number of cores in a computer, important for a parameter of the model\n",
    "w2v_model = Word2Vec(min_count=20,\n",
    "                     window=2,\n",
    "                     size=200,\n",
    "                     sample=6e-5, \n",
    "                     alpha=0.03, \n",
    "                     min_alpha=0.0007, \n",
    "                     negative=20,\n",
    "                     workers=cores-1)\n",
    "\n",
    "#BUILD_VOCAB()\n",
    "t = time()\n",
    "w2v_model.build_vocab(df_clean[\"tokens\"], progress_per=1000)\n",
    "print('Time to build vocab: {} mins'.format(round((time() - t) / 60, 2)))\n",
    "\n",
    "#TRAIN()\n",
    "w2v_model.train(df_clean[\"tokens\"], total_examples=w2v_model.corpus_count, epochs=10000, report_delay=1)\n",
    "print('Time to train the model: {} mins'.format(round((time() - t) / 60, 2)))"
   ]
  },
  {
   "cell_type": "code",
   "execution_count": 26,
   "metadata": {},
   "outputs": [
    {
     "data": {
      "text/plain": [
       "300"
      ]
     },
     "execution_count": 26,
     "metadata": {},
     "output_type": "execute_result"
    }
   ],
   "source": [
    "w2v_model.vector_size"
   ]
  }
 ],
 "metadata": {
  "interpreter": {
   "hash": "e534e48711db4d1e1c48977d0d14ff85b1f16d41bcc4fdfd88268a329b3c9d66"
  },
  "kernelspec": {
   "display_name": "Python 3.7.4 64-bit ('3.7')",
   "name": "python3"
  },
  "language_info": {
   "codemirror_mode": {
    "name": "ipython",
    "version": 3
   },
   "file_extension": ".py",
   "mimetype": "text/x-python",
   "name": "python",
   "nbconvert_exporter": "python",
   "pygments_lexer": "ipython3",
   "version": "3.7.4"
  },
  "orig_nbformat": 4
 },
 "nbformat": 4,
 "nbformat_minor": 2
}
