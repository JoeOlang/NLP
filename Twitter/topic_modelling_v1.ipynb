{
  "nbformat": 4,
  "nbformat_minor": 0,
  "metadata": {
    "colab": {
      "name": "main.ipynb",
      "provenance": [],
      "mount_file_id": "1SAwPDn_ANI_S7y1ChjeIaoMgp0SWMbIt",
      "authorship_tag": "ABX9TyPIsbHLNo2SNuJMikLkfIS4",
      "include_colab_link": true
    },
    "kernelspec": {
      "name": "python3",
      "display_name": "Python 3"
    },
    "language_info": {
      "name": "python"
    }
  },
  "cells": [
    {
      "cell_type": "markdown",
      "metadata": {
        "id": "view-in-github",
        "colab_type": "text"
      },
      "source": [
        "<a href=\"https://colab.research.google.com/github/Joe-Ol/NLP/blob/main/Twitter/topic_modelling_v1.ipynb\" target=\"_parent\"><img src=\"https://colab.research.google.com/assets/colab-badge.svg\" alt=\"Open In Colab\"/></a>"
      ]
    },
    {
      "cell_type": "markdown",
      "metadata": {
        "id": "sFhGF9C_sy4v"
      },
      "source": [
        ""
      ]
    },
    {
      "cell_type": "markdown",
      "metadata": {
        "id": "CpKxKA3KsvlV"
      },
      "source": [
        "# *Intros*"
      ]
    },
    {
      "cell_type": "code",
      "metadata": {
        "id": "Ho_oGRzlRVaL"
      },
      "source": [
        "import pandas as pd\n",
        "import numpy as np\n",
        "\n",
        "import matplotlib.pyplot as plt\n",
        "import seaborn as sns\n",
        "\n",
        "import sklearn\n",
        "\n",
        "import re"
      ],
      "execution_count": 1,
      "outputs": []
    },
    {
      "cell_type": "markdown",
      "metadata": {
        "id": "--ulTGdWMKal"
      },
      "source": [
        "You can find the used data as well as more info on it here: [How-ISIS-Uses-Twitter](https://www.kaggle.com/fifthtribe/how-isis-uses-twitter)"
      ]
    },
    {
      "cell_type": "code",
      "metadata": {
        "id": "Feq7pq0mBDmh"
      },
      "source": [
        "df = pd.read_csv('/content/drive/MyDrive/Colab Notebooks/NLP/How ISIS Uses Twitter/tweets.csv')"
      ],
      "execution_count": 2,
      "outputs": []
    },
    {
      "cell_type": "code",
      "metadata": {
        "colab": {
          "base_uri": "https://localhost:8080/"
        },
        "id": "58Nv3UusrdEE",
        "outputId": "29f5b25c-68c0-486e-cedf-8f4ece5d8021"
      },
      "source": [
        "for col in df.columns:\n",
        "    print(col)"
      ],
      "execution_count": 3,
      "outputs": [
        {
          "output_type": "stream",
          "text": [
            "name\n",
            "username\n",
            "description\n",
            "location\n",
            "followers\n",
            "numberstatuses\n",
            "time\n",
            "tweets\n"
          ],
          "name": "stdout"
        }
      ]
    },
    {
      "cell_type": "code",
      "metadata": {
        "id": "ZITGOy5srQla"
      },
      "source": [
        "df.drop(['description', 'followers', 'numberstatuses', 'time', 'location'], axis=1, inplace=True)"
      ],
      "execution_count": 4,
      "outputs": []
    },
    {
      "cell_type": "markdown",
      "metadata": {
        "id": "w5iNH5gSsn-C"
      },
      "source": [
        "# **Exploraotry Analysis**"
      ]
    },
    {
      "cell_type": "code",
      "metadata": {
        "colab": {
          "base_uri": "https://localhost:8080/"
        },
        "id": "Te7CtuPsB_Eq",
        "outputId": "b417c60c-c088-4091-8d44-5204d87b6c45"
      },
      "source": [
        "len(df.username.unique())"
      ],
      "execution_count": 5,
      "outputs": [
        {
          "output_type": "execute_result",
          "data": {
            "text/plain": [
              "112"
            ]
          },
          "metadata": {
            "tags": []
          },
          "execution_count": 5
        }
      ]
    },
    {
      "cell_type": "code",
      "metadata": {
        "colab": {
          "base_uri": "https://localhost:8080/"
        },
        "id": "4TogNHSNr-RW",
        "outputId": "cc35c245-bd87-4d04-c0e3-3184a663df62"
      },
      "source": [
        "len(df.tweets.unique())"
      ],
      "execution_count": 6,
      "outputs": [
        {
          "output_type": "execute_result",
          "data": {
            "text/plain": [
              "17410"
            ]
          },
          "metadata": {
            "tags": []
          },
          "execution_count": 6
        }
      ]
    },
    {
      "cell_type": "code",
      "metadata": {
        "colab": {
          "base_uri": "https://localhost:8080/",
          "height": 415
        },
        "id": "ONExw0ngsmCE",
        "outputId": "e139043e-a95e-4da0-de63-d6934c66c3e4"
      },
      "source": [
        "df"
      ],
      "execution_count": 7,
      "outputs": [
        {
          "output_type": "execute_result",
          "data": {
            "text/html": [
              "<div>\n",
              "<style scoped>\n",
              "    .dataframe tbody tr th:only-of-type {\n",
              "        vertical-align: middle;\n",
              "    }\n",
              "\n",
              "    .dataframe tbody tr th {\n",
              "        vertical-align: top;\n",
              "    }\n",
              "\n",
              "    .dataframe thead th {\n",
              "        text-align: right;\n",
              "    }\n",
              "</style>\n",
              "<table border=\"1\" class=\"dataframe\">\n",
              "  <thead>\n",
              "    <tr style=\"text-align: right;\">\n",
              "      <th></th>\n",
              "      <th>name</th>\n",
              "      <th>username</th>\n",
              "      <th>tweets</th>\n",
              "    </tr>\n",
              "  </thead>\n",
              "  <tbody>\n",
              "    <tr>\n",
              "      <th>0</th>\n",
              "      <td>GunsandCoffee</td>\n",
              "      <td>GunsandCoffee70</td>\n",
              "      <td>ENGLISH TRANSLATION: 'A MESSAGE TO THE TRUTHFU...</td>\n",
              "    </tr>\n",
              "    <tr>\n",
              "      <th>1</th>\n",
              "      <td>GunsandCoffee</td>\n",
              "      <td>GunsandCoffee70</td>\n",
              "      <td>ENGLISH TRANSLATION: SHEIKH FATIH AL JAWLANI '...</td>\n",
              "    </tr>\n",
              "    <tr>\n",
              "      <th>2</th>\n",
              "      <td>GunsandCoffee</td>\n",
              "      <td>GunsandCoffee70</td>\n",
              "      <td>ENGLISH TRANSLATION: FIRST AUDIO MEETING WITH ...</td>\n",
              "    </tr>\n",
              "    <tr>\n",
              "      <th>3</th>\n",
              "      <td>GunsandCoffee</td>\n",
              "      <td>GunsandCoffee70</td>\n",
              "      <td>ENGLISH TRANSLATION: SHEIKH NASIR AL WUHAYSHI ...</td>\n",
              "    </tr>\n",
              "    <tr>\n",
              "      <th>4</th>\n",
              "      <td>GunsandCoffee</td>\n",
              "      <td>GunsandCoffee70</td>\n",
              "      <td>ENGLISH TRANSLATION: AQAP: 'RESPONSE TO SHEIKH...</td>\n",
              "    </tr>\n",
              "    <tr>\n",
              "      <th>...</th>\n",
              "      <td>...</td>\n",
              "      <td>...</td>\n",
              "      <td>...</td>\n",
              "    </tr>\n",
              "    <tr>\n",
              "      <th>17405</th>\n",
              "      <td>Anaksabil97</td>\n",
              "      <td>nvor85j</td>\n",
              "      <td>#Breaking\\n#IslamicState \\n#AmaqAgency \\n\\n#Fr...</td>\n",
              "    </tr>\n",
              "    <tr>\n",
              "      <th>17406</th>\n",
              "      <td>Anaksabil97</td>\n",
              "      <td>nvor85j</td>\n",
              "      <td>#Breaking\\n\\n Iraqi forces bulldozer destroyed...</td>\n",
              "    </tr>\n",
              "    <tr>\n",
              "      <th>17407</th>\n",
              "      <td>Anaksabil97</td>\n",
              "      <td>nvor85j</td>\n",
              "      <td>#Breaking \\n#AmaqAgency \\n#IslamicState \\n\\n#E...</td>\n",
              "    </tr>\n",
              "    <tr>\n",
              "      <th>17408</th>\n",
              "      <td>Anaksabil97</td>\n",
              "      <td>nvor85j</td>\n",
              "      <td>#PhotoReport \\n#WilayatDimasiqh \\n\\n📷The Condu...</td>\n",
              "    </tr>\n",
              "    <tr>\n",
              "      <th>17409</th>\n",
              "      <td>one who believes</td>\n",
              "      <td>ro34th</td>\n",
              "      <td>#AmaqAgency Destroyed and burning Iraqi Forces...</td>\n",
              "    </tr>\n",
              "  </tbody>\n",
              "</table>\n",
              "<p>17410 rows × 3 columns</p>\n",
              "</div>"
            ],
            "text/plain": [
              "                   name  ...                                             tweets\n",
              "0         GunsandCoffee  ...  ENGLISH TRANSLATION: 'A MESSAGE TO THE TRUTHFU...\n",
              "1         GunsandCoffee  ...  ENGLISH TRANSLATION: SHEIKH FATIH AL JAWLANI '...\n",
              "2         GunsandCoffee  ...  ENGLISH TRANSLATION: FIRST AUDIO MEETING WITH ...\n",
              "3         GunsandCoffee  ...  ENGLISH TRANSLATION: SHEIKH NASIR AL WUHAYSHI ...\n",
              "4         GunsandCoffee  ...  ENGLISH TRANSLATION: AQAP: 'RESPONSE TO SHEIKH...\n",
              "...                 ...  ...                                                ...\n",
              "17405       Anaksabil97  ...  #Breaking\\n#IslamicState \\n#AmaqAgency \\n\\n#Fr...\n",
              "17406       Anaksabil97  ...  #Breaking\\n\\n Iraqi forces bulldozer destroyed...\n",
              "17407       Anaksabil97  ...  #Breaking \\n#AmaqAgency \\n#IslamicState \\n\\n#E...\n",
              "17408       Anaksabil97  ...  #PhotoReport \\n#WilayatDimasiqh \\n\\n📷The Condu...\n",
              "17409  one who believes  ...  #AmaqAgency Destroyed and burning Iraqi Forces...\n",
              "\n",
              "[17410 rows x 3 columns]"
            ]
          },
          "metadata": {
            "tags": []
          },
          "execution_count": 7
        }
      ]
    },
    {
      "cell_type": "code",
      "metadata": {
        "id": "fUdztOxZt8K0"
      },
      "source": [
        "def find_retweeted(tweet):\n",
        "    '''This function will extract the twitter handles of retweed people'''\n",
        "    return re.findall('(?<=RT\\s)(@[A-Za-z]+[A-Za-z0-9-_]+)', tweet)\n",
        "\n",
        "def find_mentioned(tweet):\n",
        "    '''This function will extract the twitter handles of people mentioned in the tweet'''\n",
        "    return re.findall('(?<!RT\\s)(@[A-Za-z]+[A-Za-z0-9-_]+)', tweet)  \n",
        "\n",
        "def find_hashtags(tweet):\n",
        "    '''This function will extract hashtags'''\n",
        "    return re.findall('(#[A-Za-z]+[A-Za-z0-9-_]+)', tweet) \n",
        "\n",
        "def find_links(tweet):\n",
        "    return re.findall('(?:(?:https?|ftp|file):\\/\\/|www\\.|ftp\\.)(?:\\([-A-Z0-9+&@#\\/%=~_|$?!:,.]*\\)|[-A-Z0-9+&@#\\/%=~_|$?!:,.])*(?:\\([-A-Z0-9+&@#\\/%=~_|$?!:,.]*\\)|[A-Z0-9+&@#\\/%=~_|$])', tweet) \n"
      ],
      "execution_count": 8,
      "outputs": []
    },
    {
      "cell_type": "code",
      "metadata": {
        "id": "8wBvaoKowWe_"
      },
      "source": [
        "# make new columns for retweeted usernames, mentioned usernames and hashtags\n",
        "#df['retweeted'] = df.tweets.apply(find_retweeted)\n",
        "#df['mentioned'] = df.tweets.apply(find_mentioned)\n",
        "df['hashtags'] = df.tweets.apply(find_hashtags)\n",
        "df['link'] = df.tweets.apply(find_links)"
      ],
      "execution_count": 9,
      "outputs": []
    },
    {
      "cell_type": "markdown",
      "metadata": {
        "id": "BKOcMJ0wDZHc"
      },
      "source": [
        "\n",
        "\n",
        "---\n",
        "\n"
      ]
    },
    {
      "cell_type": "markdown",
      "metadata": {
        "id": "n5EJEov-DTBd"
      },
      "source": [
        "Findingthe Most Popular Hashtags in Our Dataset"
      ]
    },
    {
      "cell_type": "code",
      "metadata": {
        "id": "VCuKvPlv0P9d"
      },
      "source": [
        "# take the rows from the hashtag columns where there are actually hashtags\n",
        "hashtags_list_df = df.loc[\n",
        "                       df.hashtags.apply(\n",
        "                           lambda hashtags_list: hashtags_list !=[]\n",
        "                       ),['hashtags']]"
      ],
      "execution_count": 10,
      "outputs": []
    },
    {
      "cell_type": "code",
      "metadata": {
        "id": "G-ohR32vA1bw"
      },
      "source": [
        "# create dataframe where each use of hashtag gets its own row\n",
        "flattened_hashtags_df = pd.DataFrame(\n",
        "    [hashtag for hashtags_list in hashtags_list_df.hashtags\n",
        "    for hashtag in hashtags_list],\n",
        "    columns=['hashtag'])"
      ],
      "execution_count": 11,
      "outputs": []
    },
    {
      "cell_type": "code",
      "metadata": {
        "colab": {
          "base_uri": "https://localhost:8080/"
        },
        "id": "t3KIijxLBEAI",
        "outputId": "bfbd170a-4e49-401f-931b-8c47898ea39d"
      },
      "source": [
        "len(flattened_hashtags_df.hashtag.unique())"
      ],
      "execution_count": 12,
      "outputs": [
        {
          "output_type": "execute_result",
          "data": {
            "text/plain": [
              "2309"
            ]
          },
          "metadata": {
            "tags": []
          },
          "execution_count": 12
        }
      ]
    },
    {
      "cell_type": "code",
      "metadata": {
        "id": "b_MnE7J6BTiT"
      },
      "source": [
        "# count of appearances of each hashtag\n",
        "popular_hashtags = flattened_hashtags_df.groupby('hashtag').size()\\\n",
        "                                        .reset_index(name='counts')\\\n",
        "                                        .sort_values('counts', ascending=False)\\\n",
        "                                        .reset_index(drop=True)"
      ],
      "execution_count": 13,
      "outputs": []
    },
    {
      "cell_type": "code",
      "metadata": {
        "colab": {
          "base_uri": "https://localhost:8080/",
          "height": 279
        },
        "id": "l0eb418NDIbd",
        "outputId": "ee056257-a8e7-4d85-a118-60e32efc719a"
      },
      "source": [
        "# number of times each hashtag appears\n",
        "counts = flattened_hashtags_df.groupby(['hashtag']).size()\\\n",
        "                              .reset_index(name='counts')\\\n",
        "                              .counts\n",
        "\n",
        "# define bins for histogram                              \n",
        "my_bins = np.arange(0,counts.max()+2, 5)-0.5\n",
        "\n",
        "# plot histogram of tweet counts\n",
        "plt.figure()\n",
        "plt.hist(counts, bins = my_bins)\n",
        "plt.xlabels = np.arange(1,counts.max()+1, 1)\n",
        "plt.xlabel('hashtag number of appearances')\n",
        "plt.ylabel('frequency')\n",
        "plt.yscale('log', nonposy='clip')\n",
        "plt.show()"
      ],
      "execution_count": 14,
      "outputs": [
        {
          "output_type": "display_data",
          "data": {
            "image/png": "[encoded data removed]",
            "text/plain": [
              "<Figure size 432x288 with 1 Axes>"
            ]
          },
          "metadata": {
            "tags": [],
            "needs_background": "light"
          }
        }
      ]
    },
    {
      "cell_type": "markdown",
      "metadata": {
        "id": "AuHpqvgvD-uO"
      },
      "source": [
        "Finding the most common user"
      ]
    },
    {
      "cell_type": "code",
      "metadata": {
        "id": "YsHRBAlND-Xs"
      },
      "source": [
        "user_list_df = df.loc[\n",
        "                       df.username.apply(\n",
        "                           lambda username_list: username_list !=[]\n",
        "                       ),['username']]"
      ],
      "execution_count": 15,
      "outputs": []
    },
    {
      "cell_type": "code",
      "metadata": {
        "id": "gVCN_tlKEmjc"
      },
      "source": [
        "popular_users = user_list_df.groupby('username').size()\\\n",
        "                                        .reset_index(name='counts')\\\n",
        "                                        .sort_values('counts', ascending=False)\\\n",
        "                                        .reset_index(drop=True)"
      ],
      "execution_count": 16,
      "outputs": []
    },
    {
      "cell_type": "code",
      "metadata": {
        "colab": {
          "base_uri": "https://localhost:8080/",
          "height": 279
        },
        "id": "9H6VzoyYFNPG",
        "outputId": "46ed4b20-f200-410a-e60e-e8fbd109e90c"
      },
      "source": [
        "# number of times each user appears\n",
        "counts = user_list_df.groupby(['username']).size()\\\n",
        "                              .reset_index(name='counts')\\\n",
        "                              .counts\n",
        "\n",
        "# define bins for histogram                              \n",
        "my_bins_2 = np.arange(0,counts.max()+2, 5)-0.5\n",
        "\n",
        "# plot histogram of tweet counts\n",
        "plt.figure()\n",
        "plt.hist(counts, bins = my_bins_2)\n",
        "plt.xlabels = np.arange(1,counts.max()+1, 1)\n",
        "plt.xlabel('Username number of appearances')\n",
        "plt.ylabel('frequency')\n",
        "plt.yscale('log', nonposy='clip')\n",
        "plt.show()"
      ],
      "execution_count": 17,
      "outputs": [
        {
          "output_type": "display_data",
          "data": {
            "image/png": "[encoded data removed]",
            "text/plain": [
              "<Figure size 432x288 with 1 Axes>"
            ]
          },
          "metadata": {
            "tags": [],
            "needs_background": "light"
          }
        }
      ]
    },
    {
      "cell_type": "markdown",
      "metadata": {
        "id": "xe8OQsVdHu85"
      },
      "source": [
        "Hashtags to Vectors"
      ]
    },
    {
      "cell_type": "code",
      "metadata": {
        "id": "IVl2ablIHx1D"
      },
      "source": [
        "# take hashtags which appear at least this amount of times\n",
        "min_appearance = 110\n",
        "# find popular hashtags - make into python set for efficiency\n",
        "popular_hashtags_set = set(popular_hashtags[\n",
        "                           popular_hashtags.counts>=min_appearance\n",
        "                           ]['hashtag'])"
      ],
      "execution_count": 18,
      "outputs": []
    },
    {
      "cell_type": "code",
      "metadata": {
        "colab": {
          "base_uri": "https://localhost:8080/"
        },
        "id": "F0PXOAHtIK2b",
        "outputId": "fabdba46-474c-4fee-974f-1475548a3274"
      },
      "source": [
        "len(popular_hashtags_set)"
      ],
      "execution_count": 19,
      "outputs": [
        {
          "output_type": "execute_result",
          "data": {
            "text/plain": [
              "25"
            ]
          },
          "metadata": {
            "tags": []
          },
          "execution_count": 19
        }
      ]
    },
    {
      "cell_type": "code",
      "metadata": {
        "id": "44bd6oDlH_jM"
      },
      "source": [
        "# make a new column with only the popular hashtags\n",
        "hashtags_list_df['popular_hashtags'] = hashtags_list_df.hashtags.apply(\n",
        "            lambda hashtag_list: [hashtag for hashtag in hashtag_list\n",
        "                                  if hashtag in popular_hashtags_set])\n",
        "# drop rows without popular hashtag\n",
        "popular_hashtags_list_df = hashtags_list_df.loc[\n",
        "            hashtags_list_df.popular_hashtags.apply(lambda hashtag_list: hashtag_list !=[])]\n"
      ],
      "execution_count": 20,
      "outputs": []
    },
    {
      "cell_type": "code",
      "metadata": {
        "id": "8aadwSUhJIl8"
      },
      "source": [
        "# make new dataframe\n",
        "hashtag_vector_df = popular_hashtags_list_df.loc[:, ['popular_hashtags']]\n",
        "\n",
        "for hashtag in popular_hashtags_set:\n",
        "    # make columns to encode presence of hashtags\n",
        "    hashtag_vector_df['{}'.format(hashtag)] = hashtag_vector_df.popular_hashtags.apply(\n",
        "        lambda hashtag_list: int(hashtag in hashtag_list))"
      ],
      "execution_count": 21,
      "outputs": []
    },
    {
      "cell_type": "code",
      "metadata": {
        "colab": {
          "base_uri": "https://localhost:8080/",
          "height": 539
        },
        "id": "2FpfDmGaJNA7",
        "outputId": "35ce44cb-3959-42eb-aacb-8d1a9e8c1d85"
      },
      "source": [
        " hashtag_vector_df"
      ],
      "execution_count": 22,
      "outputs": [
        {
          "output_type": "execute_result",
          "data": {
            "text/html": [
              "<div>\n",
              "<style scoped>\n",
              "    .dataframe tbody tr th:only-of-type {\n",
              "        vertical-align: middle;\n",
              "    }\n",
              "\n",
              "    .dataframe tbody tr th {\n",
              "        vertical-align: top;\n",
              "    }\n",
              "\n",
              "    .dataframe thead th {\n",
              "        text-align: right;\n",
              "    }\n",
              "</style>\n",
              "<table border=\"1\" class=\"dataframe\">\n",
              "  <thead>\n",
              "    <tr style=\"text-align: right;\">\n",
              "      <th></th>\n",
              "      <th>popular_hashtags</th>\n",
              "      <th>#Russia</th>\n",
              "      <th>#USA</th>\n",
              "      <th>#AmaqAgency</th>\n",
              "      <th>#Fallujah</th>\n",
              "      <th>#Turkey</th>\n",
              "      <th>#Iraq</th>\n",
              "      <th>#Breaking</th>\n",
              "      <th>#SAA</th>\n",
              "      <th>#Sinai</th>\n",
              "      <th>#Ramadi</th>\n",
              "      <th>#YPG</th>\n",
              "      <th>#Caliphate_News</th>\n",
              "      <th>#Aleppo</th>\n",
              "      <th>#BREAKING</th>\n",
              "      <th>#Syria</th>\n",
              "      <th>#Homs</th>\n",
              "      <th>#ISIS</th>\n",
              "      <th>#BreakingNews</th>\n",
              "      <th>#Libya</th>\n",
              "      <th>#Mosul</th>\n",
              "      <th>#US</th>\n",
              "      <th>#IS</th>\n",
              "      <th>#Assad</th>\n",
              "      <th>#IslamicState</th>\n",
              "      <th>#Palmyra</th>\n",
              "    </tr>\n",
              "  </thead>\n",
              "  <tbody>\n",
              "    <tr>\n",
              "      <th>24</th>\n",
              "      <td>[#IS]</td>\n",
              "      <td>0</td>\n",
              "      <td>0</td>\n",
              "      <td>0</td>\n",
              "      <td>0</td>\n",
              "      <td>0</td>\n",
              "      <td>0</td>\n",
              "      <td>0</td>\n",
              "      <td>0</td>\n",
              "      <td>0</td>\n",
              "      <td>0</td>\n",
              "      <td>0</td>\n",
              "      <td>0</td>\n",
              "      <td>0</td>\n",
              "      <td>0</td>\n",
              "      <td>0</td>\n",
              "      <td>0</td>\n",
              "      <td>0</td>\n",
              "      <td>0</td>\n",
              "      <td>0</td>\n",
              "      <td>0</td>\n",
              "      <td>0</td>\n",
              "      <td>1</td>\n",
              "      <td>0</td>\n",
              "      <td>0</td>\n",
              "      <td>0</td>\n",
              "    </tr>\n",
              "    <tr>\n",
              "      <th>30</th>\n",
              "      <td>[#BREAKING]</td>\n",
              "      <td>0</td>\n",
              "      <td>0</td>\n",
              "      <td>0</td>\n",
              "      <td>0</td>\n",
              "      <td>0</td>\n",
              "      <td>0</td>\n",
              "      <td>0</td>\n",
              "      <td>0</td>\n",
              "      <td>0</td>\n",
              "      <td>0</td>\n",
              "      <td>0</td>\n",
              "      <td>0</td>\n",
              "      <td>0</td>\n",
              "      <td>1</td>\n",
              "      <td>0</td>\n",
              "      <td>0</td>\n",
              "      <td>0</td>\n",
              "      <td>0</td>\n",
              "      <td>0</td>\n",
              "      <td>0</td>\n",
              "      <td>0</td>\n",
              "      <td>0</td>\n",
              "      <td>0</td>\n",
              "      <td>0</td>\n",
              "      <td>0</td>\n",
              "    </tr>\n",
              "    <tr>\n",
              "      <th>33</th>\n",
              "      <td>[#IS]</td>\n",
              "      <td>0</td>\n",
              "      <td>0</td>\n",
              "      <td>0</td>\n",
              "      <td>0</td>\n",
              "      <td>0</td>\n",
              "      <td>0</td>\n",
              "      <td>0</td>\n",
              "      <td>0</td>\n",
              "      <td>0</td>\n",
              "      <td>0</td>\n",
              "      <td>0</td>\n",
              "      <td>0</td>\n",
              "      <td>0</td>\n",
              "      <td>0</td>\n",
              "      <td>0</td>\n",
              "      <td>0</td>\n",
              "      <td>0</td>\n",
              "      <td>0</td>\n",
              "      <td>0</td>\n",
              "      <td>0</td>\n",
              "      <td>0</td>\n",
              "      <td>1</td>\n",
              "      <td>0</td>\n",
              "      <td>0</td>\n",
              "      <td>0</td>\n",
              "    </tr>\n",
              "    <tr>\n",
              "      <th>44</th>\n",
              "      <td>[#IS, #Syria, #Aleppo]</td>\n",
              "      <td>0</td>\n",
              "      <td>0</td>\n",
              "      <td>0</td>\n",
              "      <td>0</td>\n",
              "      <td>0</td>\n",
              "      <td>0</td>\n",
              "      <td>0</td>\n",
              "      <td>0</td>\n",
              "      <td>0</td>\n",
              "      <td>0</td>\n",
              "      <td>0</td>\n",
              "      <td>0</td>\n",
              "      <td>1</td>\n",
              "      <td>0</td>\n",
              "      <td>1</td>\n",
              "      <td>0</td>\n",
              "      <td>0</td>\n",
              "      <td>0</td>\n",
              "      <td>0</td>\n",
              "      <td>0</td>\n",
              "      <td>0</td>\n",
              "      <td>1</td>\n",
              "      <td>0</td>\n",
              "      <td>0</td>\n",
              "      <td>0</td>\n",
              "    </tr>\n",
              "    <tr>\n",
              "      <th>65</th>\n",
              "      <td>[#IS]</td>\n",
              "      <td>0</td>\n",
              "      <td>0</td>\n",
              "      <td>0</td>\n",
              "      <td>0</td>\n",
              "      <td>0</td>\n",
              "      <td>0</td>\n",
              "      <td>0</td>\n",
              "      <td>0</td>\n",
              "      <td>0</td>\n",
              "      <td>0</td>\n",
              "      <td>0</td>\n",
              "      <td>0</td>\n",
              "      <td>0</td>\n",
              "      <td>0</td>\n",
              "      <td>0</td>\n",
              "      <td>0</td>\n",
              "      <td>0</td>\n",
              "      <td>0</td>\n",
              "      <td>0</td>\n",
              "      <td>0</td>\n",
              "      <td>0</td>\n",
              "      <td>1</td>\n",
              "      <td>0</td>\n",
              "      <td>0</td>\n",
              "      <td>0</td>\n",
              "    </tr>\n",
              "    <tr>\n",
              "      <th>...</th>\n",
              "      <td>...</td>\n",
              "      <td>...</td>\n",
              "      <td>...</td>\n",
              "      <td>...</td>\n",
              "      <td>...</td>\n",
              "      <td>...</td>\n",
              "      <td>...</td>\n",
              "      <td>...</td>\n",
              "      <td>...</td>\n",
              "      <td>...</td>\n",
              "      <td>...</td>\n",
              "      <td>...</td>\n",
              "      <td>...</td>\n",
              "      <td>...</td>\n",
              "      <td>...</td>\n",
              "      <td>...</td>\n",
              "      <td>...</td>\n",
              "      <td>...</td>\n",
              "      <td>...</td>\n",
              "      <td>...</td>\n",
              "      <td>...</td>\n",
              "      <td>...</td>\n",
              "      <td>...</td>\n",
              "      <td>...</td>\n",
              "      <td>...</td>\n",
              "      <td>...</td>\n",
              "    </tr>\n",
              "    <tr>\n",
              "      <th>17400</th>\n",
              "      <td>[#Ramadi, #ISIS]</td>\n",
              "      <td>0</td>\n",
              "      <td>0</td>\n",
              "      <td>0</td>\n",
              "      <td>0</td>\n",
              "      <td>0</td>\n",
              "      <td>0</td>\n",
              "      <td>0</td>\n",
              "      <td>0</td>\n",
              "      <td>0</td>\n",
              "      <td>1</td>\n",
              "      <td>0</td>\n",
              "      <td>0</td>\n",
              "      <td>0</td>\n",
              "      <td>0</td>\n",
              "      <td>0</td>\n",
              "      <td>0</td>\n",
              "      <td>1</td>\n",
              "      <td>0</td>\n",
              "      <td>0</td>\n",
              "      <td>0</td>\n",
              "      <td>0</td>\n",
              "      <td>0</td>\n",
              "      <td>0</td>\n",
              "      <td>0</td>\n",
              "      <td>0</td>\n",
              "    </tr>\n",
              "    <tr>\n",
              "      <th>17405</th>\n",
              "      <td>[#Breaking, #IslamicState, #AmaqAgency]</td>\n",
              "      <td>0</td>\n",
              "      <td>0</td>\n",
              "      <td>1</td>\n",
              "      <td>0</td>\n",
              "      <td>0</td>\n",
              "      <td>0</td>\n",
              "      <td>1</td>\n",
              "      <td>0</td>\n",
              "      <td>0</td>\n",
              "      <td>0</td>\n",
              "      <td>0</td>\n",
              "      <td>0</td>\n",
              "      <td>0</td>\n",
              "      <td>0</td>\n",
              "      <td>0</td>\n",
              "      <td>0</td>\n",
              "      <td>0</td>\n",
              "      <td>0</td>\n",
              "      <td>0</td>\n",
              "      <td>0</td>\n",
              "      <td>0</td>\n",
              "      <td>0</td>\n",
              "      <td>0</td>\n",
              "      <td>1</td>\n",
              "      <td>0</td>\n",
              "    </tr>\n",
              "    <tr>\n",
              "      <th>17406</th>\n",
              "      <td>[#Breaking]</td>\n",
              "      <td>0</td>\n",
              "      <td>0</td>\n",
              "      <td>0</td>\n",
              "      <td>0</td>\n",
              "      <td>0</td>\n",
              "      <td>0</td>\n",
              "      <td>1</td>\n",
              "      <td>0</td>\n",
              "      <td>0</td>\n",
              "      <td>0</td>\n",
              "      <td>0</td>\n",
              "      <td>0</td>\n",
              "      <td>0</td>\n",
              "      <td>0</td>\n",
              "      <td>0</td>\n",
              "      <td>0</td>\n",
              "      <td>0</td>\n",
              "      <td>0</td>\n",
              "      <td>0</td>\n",
              "      <td>0</td>\n",
              "      <td>0</td>\n",
              "      <td>0</td>\n",
              "      <td>0</td>\n",
              "      <td>0</td>\n",
              "      <td>0</td>\n",
              "    </tr>\n",
              "    <tr>\n",
              "      <th>17407</th>\n",
              "      <td>[#Breaking, #AmaqAgency, #IslamicState]</td>\n",
              "      <td>0</td>\n",
              "      <td>0</td>\n",
              "      <td>1</td>\n",
              "      <td>0</td>\n",
              "      <td>0</td>\n",
              "      <td>0</td>\n",
              "      <td>1</td>\n",
              "      <td>0</td>\n",
              "      <td>0</td>\n",
              "      <td>0</td>\n",
              "      <td>0</td>\n",
              "      <td>0</td>\n",
              "      <td>0</td>\n",
              "      <td>0</td>\n",
              "      <td>0</td>\n",
              "      <td>0</td>\n",
              "      <td>0</td>\n",
              "      <td>0</td>\n",
              "      <td>0</td>\n",
              "      <td>0</td>\n",
              "      <td>0</td>\n",
              "      <td>0</td>\n",
              "      <td>0</td>\n",
              "      <td>1</td>\n",
              "      <td>0</td>\n",
              "    </tr>\n",
              "    <tr>\n",
              "      <th>17409</th>\n",
              "      <td>[#AmaqAgency, #Ramadi]</td>\n",
              "      <td>0</td>\n",
              "      <td>0</td>\n",
              "      <td>1</td>\n",
              "      <td>0</td>\n",
              "      <td>0</td>\n",
              "      <td>0</td>\n",
              "      <td>0</td>\n",
              "      <td>0</td>\n",
              "      <td>0</td>\n",
              "      <td>1</td>\n",
              "      <td>0</td>\n",
              "      <td>0</td>\n",
              "      <td>0</td>\n",
              "      <td>0</td>\n",
              "      <td>0</td>\n",
              "      <td>0</td>\n",
              "      <td>0</td>\n",
              "      <td>0</td>\n",
              "      <td>0</td>\n",
              "      <td>0</td>\n",
              "      <td>0</td>\n",
              "      <td>0</td>\n",
              "      <td>0</td>\n",
              "      <td>0</td>\n",
              "      <td>0</td>\n",
              "    </tr>\n",
              "  </tbody>\n",
              "</table>\n",
              "<p>4941 rows × 26 columns</p>\n",
              "</div>"
            ],
            "text/plain": [
              "                              popular_hashtags  ...  #Palmyra\n",
              "24                                       [#IS]  ...         0\n",
              "30                                 [#BREAKING]  ...         0\n",
              "33                                       [#IS]  ...         0\n",
              "44                      [#IS, #Syria, #Aleppo]  ...         0\n",
              "65                                       [#IS]  ...         0\n",
              "...                                        ...  ...       ...\n",
              "17400                         [#Ramadi, #ISIS]  ...         0\n",
              "17405  [#Breaking, #IslamicState, #AmaqAgency]  ...         0\n",
              "17406                              [#Breaking]  ...         0\n",
              "17407  [#Breaking, #AmaqAgency, #IslamicState]  ...         0\n",
              "17409                   [#AmaqAgency, #Ramadi]  ...         0\n",
              "\n",
              "[4941 rows x 26 columns]"
            ]
          },
          "metadata": {
            "tags": []
          },
          "execution_count": 22
        }
      ]
    },
    {
      "cell_type": "code",
      "metadata": {
        "id": "f1vT78WSJYzp"
      },
      "source": [
        "hashtag_matrix = hashtag_vector_df.drop('popular_hashtags', axis=1)"
      ],
      "execution_count": 23,
      "outputs": []
    },
    {
      "cell_type": "code",
      "metadata": {
        "id": "6SdjrQ0qJm2Q"
      },
      "source": [
        "# calculate the correlation matrix\n",
        "correlations = hashtag_matrix.corr()"
      ],
      "execution_count": 24,
      "outputs": []
    },
    {
      "cell_type": "code",
      "metadata": {
        "colab": {
          "base_uri": "https://localhost:8080/",
          "height": 625
        },
        "id": "f7J9DBm8JvOv",
        "outputId": "15d9ba50-5b4b-44ab-c47e-2c4b49ef7e88"
      },
      "source": [
        "# plot the correlation matrix\n",
        "plt.figure(figsize=(10,10))\n",
        "sns.heatmap(correlations,\n",
        "    cmap='RdBu',\n",
        "    vmin=-1,\n",
        "    vmax=1,\n",
        "    square = True,\n",
        "    cbar_kws={'label':'correlation'})\n",
        "plt.show()"
      ],
      "execution_count": 25,
      "outputs": [
        {
          "output_type": "display_data",
          "data": {
            "image/png": "[encoded data removed]",
            "text/plain": [
              "<Figure size 720x720 with 2 Axes>"
            ]
          },
          "metadata": {
            "tags": [],
            "needs_background": "light"
          }
        }
      ]
    },
    {
      "cell_type": "markdown",
      "metadata": {
        "id": "1R4XlOIHv2Cb"
      },
      "source": [
        "# **Topic Modelling**"
      ]
    },
    {
      "cell_type": "code",
      "metadata": {
        "colab": {
          "base_uri": "https://localhost:8080/"
        },
        "id": "Uo6LZfEHNRNe",
        "outputId": "1153d6f8-e442-4581-eaf7-93d40ea7f2a0"
      },
      "source": [
        "import nltk\n",
        "from nltk.tokenize import RegexpTokenizer\n",
        "from nltk.corpus import stopwords\n",
        "nltk.download('stopwords')"
      ],
      "execution_count": 26,
      "outputs": [
        {
          "output_type": "stream",
          "text": [
            "[nltk_data] Downloading package stopwords to /root/nltk_data...\n",
            "[nltk_data]   Unzipping corpora/stopwords.zip.\n"
          ],
          "name": "stdout"
        },
        {
          "output_type": "execute_result",
          "data": {
            "text/plain": [
              "True"
            ]
          },
          "metadata": {
            "tags": []
          },
          "execution_count": 26
        }
      ]
    },
    {
      "cell_type": "code",
      "metadata": {
        "id": "BzI-0Rz5v1E5"
      },
      "source": [
        "def remove_links(tweet):\n",
        "    '''Takes a string and removes web links from it'''\n",
        "    tweet = re.sub(r'http\\S+', '', tweet) # remove http links\n",
        "    tweet = re.sub(r'bit.ly/\\S+', '', tweet) # rempve bitly links\n",
        "    tweet = tweet.strip('[link]') # remove [links]\n",
        "    return tweet\n",
        "\n",
        "def remove_users(tweet):\n",
        "    '''Takes a string and removes retweet and @user information'''\n",
        "    tweet = re.sub('(RT\\s@[A-Za-z]+[A-Za-z0-9-_]+)', '', tweet) # remove retweet\n",
        "    tweet = re.sub('(@[A-Za-z]+[A-Za-z0-9-_]+)', '', tweet) # remove tweeted at\n",
        "    return tweet"
      ],
      "execution_count": 27,
      "outputs": []
    },
    {
      "cell_type": "code",
      "metadata": {
        "id": "5-2Ddbe9sQsw"
      },
      "source": [
        "my_stopwords = nltk.corpus.stopwords.words('english')\n",
        "word_rooter = nltk.stem.snowball.PorterStemmer(ignore_stopwords=False).stem\n",
        "my_punctuation = '!\"$%&\\'()*+,-./:;<=>?[\\\\]^_`{|}~•@'\n",
        "\n",
        "# cleaning master function\n",
        "def clean_tweet(tweet, bigrams=False):\n",
        "    tweet = remove_users(tweet)\n",
        "    tweet = remove_links(tweet)\n",
        "    tweet = tweet.lower() # lower case\n",
        "    tweet = re.sub('['+my_punctuation + ']+', ' ', tweet) # strip punctuation\n",
        "    tweet = re.sub('\\s+', ' ', tweet) #remove double spacing\n",
        "    tweet = re.sub('([0-9]+)', '', tweet) # remove numbers\n",
        "    tweet_token_list = [word for word in tweet.split(' ')\n",
        "                            if word not in my_stopwords] # remove stopwords\n",
        "\n",
        "    tweet_token_list = [word_rooter(word) if '#' not in word else word\n",
        "                        for word in tweet_token_list] # apply word rooter\n",
        "    if bigrams:\n",
        "        tweet_token_list = tweet_token_list+[tweet_token_list[i]+'_'+tweet_token_list[i+1]\n",
        "                                            for i in range(len(tweet_token_list)-1)]\n",
        "    tweet = ' '.join(tweet_token_list)\n",
        "    return tweet"
      ],
      "execution_count": 28,
      "outputs": []
    },
    {
      "cell_type": "code",
      "metadata": {
        "id": "7NiAX-zyuhxk"
      },
      "source": [
        "df['clean_tweet'] = df.tweets.apply(clean_tweet)"
      ],
      "execution_count": 29,
      "outputs": []
    },
    {
      "cell_type": "code",
      "metadata": {
        "id": "SK58cjA9uwfp"
      },
      "source": [
        "max_df = 0.9\n",
        "min_df = 25"
      ],
      "execution_count": 31,
      "outputs": []
    },
    {
      "cell_type": "code",
      "metadata": {
        "id": "wIwcWTRYxbbE"
      },
      "source": [
        "from sklearn.feature_extraction.text import CountVectorizer\n",
        "\n",
        "# the vectorizer object will be used to transform text to vector form\n",
        "vectorizer = CountVectorizer(max_df=0.9, min_df=25, token_pattern='\\w+|\\$[\\d\\.]+|\\S+')\n",
        "\n",
        "# apply transformation\n",
        "tf = vectorizer.fit_transform(df['clean_tweet']).toarray()\n",
        "\n",
        "# tf_feature_names tells us what word each column in the matric represents\n",
        "tf_feature_names = vectorizer.get_feature_names()"
      ],
      "execution_count": 32,
      "outputs": []
    },
    {
      "cell_type": "code",
      "metadata": {
        "colab": {
          "base_uri": "https://localhost:8080/"
        },
        "id": "kp3XvRY7xq_Q",
        "outputId": "b921a617-f1ba-486f-e724-7c89b484059f"
      },
      "source": [
        "tf.shape"
      ],
      "execution_count": 34,
      "outputs": [
        {
          "output_type": "execute_result",
          "data": {
            "text/plain": [
              "(17410, 1193)"
            ]
          },
          "metadata": {
            "tags": []
          },
          "execution_count": 34
        }
      ]
    },
    {
      "cell_type": "code",
      "metadata": {
        "colab": {
          "base_uri": "https://localhost:8080/"
        },
        "id": "8UVRY_L8yBkm",
        "outputId": "d0bf34a4-7619-4353-83c7-5a5dadd3338a"
      },
      "source": [
        "hashtag_vector_df.shape"
      ],
      "execution_count": 37,
      "outputs": [
        {
          "output_type": "execute_result",
          "data": {
            "text/plain": [
              "(4941, 26)"
            ]
          },
          "metadata": {
            "tags": []
          },
          "execution_count": 37
        }
      ]
    },
    {
      "cell_type": "code",
      "metadata": {
        "id": "qNZSKK1wxzB0"
      },
      "source": [
        "# tf_feature_names"
      ],
      "execution_count": 36,
      "outputs": []
    },
    {
      "cell_type": "markdown",
      "metadata": {
        "id": "veiuwui50fGM"
      },
      "source": [
        "\n",
        "\n",
        "---\n",
        "\n"
      ]
    },
    {
      "cell_type": "markdown",
      "metadata": {
        "id": "hGVHuZTG0L9a"
      },
      "source": [
        "Using LDA - *Latent Dirichlet Allocation* Algorithm"
      ]
    },
    {
      "cell_type": "code",
      "metadata": {
        "id": "CiEuzN1Qx54l"
      },
      "source": [
        "from sklearn.decomposition import LatentDirichletAllocation\n",
        "\n",
        "number_of_topics = 10\n",
        "\n",
        "model = LatentDirichletAllocation(n_components=number_of_topics, random_state=0)"
      ],
      "execution_count": 38,
      "outputs": []
    },
    {
      "cell_type": "code",
      "metadata": {
        "colab": {
          "base_uri": "https://localhost:8080/"
        },
        "id": "gfdAAsE2yyn-",
        "outputId": "173aecb1-c46f-485b-bae7-2bd5df548d2b"
      },
      "source": [
        "model.fit(tf)"
      ],
      "execution_count": 39,
      "outputs": [
        {
          "output_type": "execute_result",
          "data": {
            "text/plain": [
              "LatentDirichletAllocation(batch_size=128, doc_topic_prior=None,\n",
              "                          evaluate_every=-1, learning_decay=0.7,\n",
              "                          learning_method='batch', learning_offset=10.0,\n",
              "                          max_doc_update_iter=100, max_iter=10,\n",
              "                          mean_change_tol=0.001, n_components=10, n_jobs=None,\n",
              "                          perp_tol=0.1, random_state=0, topic_word_prior=None,\n",
              "                          total_samples=1000000.0, verbose=0)"
            ]
          },
          "metadata": {
            "tags": []
          },
          "execution_count": 39
        }
      ]
    },
    {
      "cell_type": "code",
      "metadata": {
        "id": "a8D1IdsZzMwI"
      },
      "source": [
        "def display_topics(model, feature_names, no_top_words):\n",
        "    topic_dict = {}\n",
        "    for topic_idx, topic in enumerate(model.components_):\n",
        "        topic_dict[\"Topic %d words\" % (topic_idx)]= ['{}'.format(feature_names[i])\n",
        "                        for i in topic.argsort()[:-no_top_words - 1:-1]]\n",
        "        topic_dict[\"Topic %d weights\" % (topic_idx)]= ['{:.1f}'.format(topic[i])\n",
        "                        for i in topic.argsort()[:-no_top_words - 1:-1]]\n",
        "    return pd.DataFrame(topic_dict)"
      ],
      "execution_count": 40,
      "outputs": []
    },
    {
      "cell_type": "code",
      "metadata": {
        "colab": {
          "base_uri": "https://localhost:8080/",
          "height": 410
        },
        "id": "iFohG1AdzQrA",
        "outputId": "452db825-677d-40ff-ecb4-ba87e3c1e070"
      },
      "source": [
        "no_top_words = 10\n",
        "display_topics(model, tf_feature_names, no_top_words)"
      ],
      "execution_count": 41,
      "outputs": [
        {
          "output_type": "execute_result",
          "data": {
            "text/html": [
              "<div>\n",
              "<style scoped>\n",
              "    .dataframe tbody tr th:only-of-type {\n",
              "        vertical-align: middle;\n",
              "    }\n",
              "\n",
              "    .dataframe tbody tr th {\n",
              "        vertical-align: top;\n",
              "    }\n",
              "\n",
              "    .dataframe thead th {\n",
              "        text-align: right;\n",
              "    }\n",
              "</style>\n",
              "<table border=\"1\" class=\"dataframe\">\n",
              "  <thead>\n",
              "    <tr style=\"text-align: right;\">\n",
              "      <th></th>\n",
              "      <th>Topic 0 words</th>\n",
              "      <th>Topic 0 weights</th>\n",
              "      <th>Topic 1 words</th>\n",
              "      <th>Topic 1 weights</th>\n",
              "      <th>Topic 2 words</th>\n",
              "      <th>Topic 2 weights</th>\n",
              "      <th>Topic 3 words</th>\n",
              "      <th>Topic 3 weights</th>\n",
              "      <th>Topic 4 words</th>\n",
              "      <th>Topic 4 weights</th>\n",
              "      <th>Topic 5 words</th>\n",
              "      <th>Topic 5 weights</th>\n",
              "      <th>Topic 6 words</th>\n",
              "      <th>Topic 6 weights</th>\n",
              "      <th>Topic 7 words</th>\n",
              "      <th>Topic 7 weights</th>\n",
              "      <th>Topic 8 words</th>\n",
              "      <th>Topic 8 weights</th>\n",
              "      <th>Topic 9 words</th>\n",
              "      <th>Topic 9 weights</th>\n",
              "    </tr>\n",
              "  </thead>\n",
              "  <tbody>\n",
              "    <tr>\n",
              "      <th>0</th>\n",
              "      <td>#syria</td>\n",
              "      <td>302.7</td>\n",
              "      <td>attack</td>\n",
              "      <td>403.6</td>\n",
              "      <td>de</td>\n",
              "      <td>435.1</td>\n",
              "      <td>#syria</td>\n",
              "      <td>1071.8</td>\n",
              "      <td>في</td>\n",
              "      <td>237.1</td>\n",
              "      <td>#is</td>\n",
              "      <td>522.6</td>\n",
              "      <td>al</td>\n",
              "      <td>686.3</td>\n",
              "      <td>islam</td>\n",
              "      <td>886.8</td>\n",
              "      <td>#amaqagency</td>\n",
              "      <td>303.5</td>\n",
              "      <td>allah</td>\n",
              "      <td>599.9</td>\n",
              "    </tr>\n",
              "    <tr>\n",
              "      <th>1</th>\n",
              "      <td>one</td>\n",
              "      <td>281.2</td>\n",
              "      <td>kill</td>\n",
              "      <td>366.6</td>\n",
              "      <td>le</td>\n",
              "      <td>355.1</td>\n",
              "      <td>#isis</td>\n",
              "      <td>1046.4</td>\n",
              "      <td>peopl</td>\n",
              "      <td>236.5</td>\n",
              "      <td>kill</td>\n",
              "      <td>419.7</td>\n",
              "      <td>isi</td>\n",
              "      <td>636.3</td>\n",
              "      <td>state</td>\n",
              "      <td>722.1</td>\n",
              "      <td>#islamicstate</td>\n",
              "      <td>276.6</td>\n",
              "      <td>muslim</td>\n",
              "      <td>288.4</td>\n",
              "    </tr>\n",
              "    <tr>\n",
              "      <th>2</th>\n",
              "      <td>today</td>\n",
              "      <td>232.3</td>\n",
              "      <td>…</td>\n",
              "      <td>278.3</td>\n",
              "      <td>news</td>\n",
              "      <td>307.0</td>\n",
              "      <td>#aleppo</td>\n",
              "      <td>283.3</td>\n",
              "      <td>like</td>\n",
              "      <td>234.3</td>\n",
              "      <td>armi</td>\n",
              "      <td>416.9</td>\n",
              "      <td>us</td>\n",
              "      <td>624.0</td>\n",
              "      <td>amp</td>\n",
              "      <td>199.2</td>\n",
              "      <td>fighter</td>\n",
              "      <td>250.6</td>\n",
              "      <td>may</td>\n",
              "      <td>265.7</td>\n",
              "    </tr>\n",
              "    <tr>\n",
              "      <th>3</th>\n",
              "      <td>n</td>\n",
              "      <td>205.9</td>\n",
              "      <td>al</td>\n",
              "      <td>259.1</td>\n",
              "      <td>la</td>\n",
              "      <td>227.1</td>\n",
              "      <td>armi</td>\n",
              "      <td>268.8</td>\n",
              "      <td>see</td>\n",
              "      <td>230.5</td>\n",
              "      <td>soldier</td>\n",
              "      <td>348.7</td>\n",
              "      <td>assad</td>\n",
              "      <td>453.3</td>\n",
              "      <td>#iraq</td>\n",
              "      <td>179.1</td>\n",
              "      <td>#breaking</td>\n",
              "      <td>236.9</td>\n",
              "      <td>know</td>\n",
              "      <td>223.0</td>\n",
              "    </tr>\n",
              "    <tr>\n",
              "      <th>4</th>\n",
              "      <td>fire</td>\n",
              "      <td>189.2</td>\n",
              "      <td>claim</td>\n",
              "      <td>225.3</td>\n",
              "      <td>un</td>\n",
              "      <td>195.4</td>\n",
              "      <td>report</td>\n",
              "      <td>267.9</td>\n",
              "      <td>…</td>\n",
              "      <td>219.9</td>\n",
              "      <td>al</td>\n",
              "      <td>301.6</td>\n",
              "      <td>fight</td>\n",
              "      <td>386.7</td>\n",
              "      <td>rt</td>\n",
              "      <td>169.4</td>\n",
              "      <td>oper</td>\n",
              "      <td>197.4</td>\n",
              "      <td>amp</td>\n",
              "      <td>216.6</td>\n",
              "    </tr>\n",
              "    <tr>\n",
              "      <th>5</th>\n",
              "      <td>civilian</td>\n",
              "      <td>159.6</td>\n",
              "      <td>#isis</td>\n",
              "      <td>161.1</td>\n",
              "      <td>est</td>\n",
              "      <td>170.1</td>\n",
              "      <td>kill</td>\n",
              "      <td>262.0</td>\n",
              "      <td>من</td>\n",
              "      <td>194.1</td>\n",
              "      <td>destroy</td>\n",
              "      <td>295.8</td>\n",
              "      <td>syrian</td>\n",
              "      <td>307.1</td>\n",
              "      <td>mosul</td>\n",
              "      <td>147.8</td>\n",
              "      <td>follow</td>\n",
              "      <td>174.8</td>\n",
              "      <td>…</td>\n",
              "      <td>193.6</td>\n",
              "    </tr>\n",
              "    <tr>\n",
              "      <th>6</th>\n",
              "      <td>airstrik</td>\n",
              "      <td>156.5</td>\n",
              "      <td>releas</td>\n",
              "      <td>145.3</td>\n",
              "      <td>#caliphate</td>\n",
              "      <td>167.1</td>\n",
              "      <td>amp</td>\n",
              "      <td>250.3</td>\n",
              "      <td>say</td>\n",
              "      <td>185.1</td>\n",
              "      <td>forc</td>\n",
              "      <td>278.2</td>\n",
              "      <td>rebel</td>\n",
              "      <td>266.0</td>\n",
              "      <td>new</td>\n",
              "      <td>144.2</td>\n",
              "      <td>amp</td>\n",
              "      <td>170.3</td>\n",
              "      <td>make</td>\n",
              "      <td>186.4</td>\n",
              "    </tr>\n",
              "    <tr>\n",
              "      <th>7</th>\n",
              "      <td>#russia</td>\n",
              "      <td>155.5</td>\n",
              "      <td>year</td>\n",
              "      <td>143.8</td>\n",
              "      <td>à</td>\n",
              "      <td>156.1</td>\n",
              "      <td>#iraq</td>\n",
              "      <td>242.0</td>\n",
              "      <td>said</td>\n",
              "      <td>165.5</td>\n",
              "      <td>#isis</td>\n",
              "      <td>264.8</td>\n",
              "      <td>kill</td>\n",
              "      <td>258.1</td>\n",
              "      <td>video</td>\n",
              "      <td>132.2</td>\n",
              "      <td>الله</td>\n",
              "      <td>127.9</td>\n",
              "      <td>use</td>\n",
              "      <td>180.9</td>\n",
              "    </tr>\n",
              "    <tr>\n",
              "      <th>8</th>\n",
              "      <td>children</td>\n",
              "      <td>137.1</td>\n",
              "      <td>i</td>\n",
              "      <td>140.0</td>\n",
              "      <td>il</td>\n",
              "      <td>151.1</td>\n",
              "      <td>n</td>\n",
              "      <td>218.1</td>\n",
              "      <td>never</td>\n",
              "      <td>154.1</td>\n",
              "      <td>near</td>\n",
              "      <td>224.4</td>\n",
              "      <td>syria</td>\n",
              "      <td>209.2</td>\n",
              "      <td>isi</td>\n",
              "      <td>132.1</td>\n",
              "      <td>kill</td>\n",
              "      <td>118.3</td>\n",
              "      <td>pleas</td>\n",
              "      <td>163.6</td>\n",
              "    </tr>\n",
              "    <tr>\n",
              "      <th>9</th>\n",
              "      <td>kill</td>\n",
              "      <td>132.2</td>\n",
              "      <td>explos</td>\n",
              "      <td>135.6</td>\n",
              "      <td>📷</td>\n",
              "      <td>149.9</td>\n",
              "      <td>#breakingnews</td>\n",
              "      <td>210.3</td>\n",
              "      <td>even</td>\n",
              "      <td>151.6</td>\n",
              "      <td>east</td>\n",
              "      <td>207.9</td>\n",
              "      <td>saudi</td>\n",
              "      <td>206.4</td>\n",
              "      <td>ypg</td>\n",
              "      <td>127.6</td>\n",
              "      <td>support</td>\n",
              "      <td>115.8</td>\n",
              "      <td>al</td>\n",
              "      <td>159.2</td>\n",
              "    </tr>\n",
              "  </tbody>\n",
              "</table>\n",
              "</div>"
            ],
            "text/plain": [
              "  Topic 0 words Topic 0 weights  ... Topic 9 words Topic 9 weights\n",
              "0        #syria           302.7  ...         allah           599.9\n",
              "1           one           281.2  ...        muslim           288.4\n",
              "2         today           232.3  ...           may           265.7\n",
              "3             n           205.9  ...          know           223.0\n",
              "4          fire           189.2  ...           amp           216.6\n",
              "5      civilian           159.6  ...             …           193.6\n",
              "6      airstrik           156.5  ...          make           186.4\n",
              "7       #russia           155.5  ...           use           180.9\n",
              "8      children           137.1  ...         pleas           163.6\n",
              "9          kill           132.2  ...            al           159.2\n",
              "\n",
              "[10 rows x 20 columns]"
            ]
          },
          "metadata": {
            "tags": []
          },
          "execution_count": 41
        }
      ]
    },
    {
      "cell_type": "markdown",
      "metadata": {
        "id": "jYaP-K_ZzjlP"
      },
      "source": [
        "Note: If a word apeear in most topics with a higher weight, it may be a good idea to add it to our stopword list since it may not be adding too much meaning to our task."
      ]
    },
    {
      "cell_type": "markdown",
      "metadata": {
        "id": "mfkPiyQR0g8G"
      },
      "source": [
        "\n",
        "\n",
        "---\n",
        "\n"
      ]
    },
    {
      "cell_type": "markdown",
      "metadata": {
        "id": "Blk9p_cG0c0A"
      },
      "source": [
        "Using LDA -  *Non-Negative Matrix Factorisation* Algorithm"
      ]
    },
    {
      "cell_type": "code",
      "metadata": {
        "id": "pAbLmqI0zzK2"
      },
      "source": [
        ""
      ],
      "execution_count": null,
      "outputs": []
    }
  ]
}