{
  "nbformat": 4,
  "nbformat_minor": 0,
  "metadata": {
    "colab": {
      "name": "main.ipynb",
      "provenance": [],
      "mount_file_id": "1SAwPDn_ANI_S7y1ChjeIaoMgp0SWMbIt",
      "authorship_tag": "ABX9TyPoQMtqG0ZZcwZ9anz3uYQo",
      "include_colab_link": true
    },
    "kernelspec": {
      "name": "python3",
      "display_name": "Python 3"
    },
    "language_info": {
      "name": "python"
    }
  },
  "cells": [
    {
      "cell_type": "markdown",
      "metadata": {
        "id": "view-in-github",
        "colab_type": "text"
      },
      "source": [
        "<a href=\"https://colab.research.google.com/github/Joe-Ol/NLP/blob/main/Twitter/exploratory_analysis_IFTKaggle.ipynb\" target=\"_parent\"><img src=\"https://colab.research.google.com/assets/colab-badge.svg\" alt=\"Open In Colab\"/></a>"
      ]
    },
    {
      "cell_type": "code",
      "metadata": {
        "id": "Ho_oGRzlRVaL"
      },
      "source": [
        "import pandas as pd\n",
        "import numpy as np\n",
        "\n",
        "import matplotlib.pyplot as plt\n",
        "import seaborn as sns\n",
        "\n",
        "import sklearn\n",
        "\n",
        "import re"
      ],
      "execution_count": 8,
      "outputs": []
    },
    {
      "cell_type": "markdown",
      "metadata": {
        "id": "--ulTGdWMKal"
      },
      "source": [
        "You can find the used data as well as more info on it here: [How-ISIS-Uses-Twitter](https://www.kaggle.com/fifthtribe/how-isis-uses-twitter)"
      ]
    },
    {
      "cell_type": "code",
      "metadata": {
        "id": "Feq7pq0mBDmh"
      },
      "source": [
        "df = pd.read_csv('/content/drive/MyDrive/Colab Notebooks/NLP/How ISIS Uses Twitter/tweets.csv')"
      ],
      "execution_count": 30,
      "outputs": []
    },
    {
      "cell_type": "code",
      "metadata": {
        "colab": {
          "base_uri": "https://localhost:8080/"
        },
        "id": "58Nv3UusrdEE",
        "outputId": "890acb35-6a3b-4c11-accc-fed6aa02d966"
      },
      "source": [
        "for col in df.columns:\n",
        "    print(col)"
      ],
      "execution_count": 31,
      "outputs": [
        {
          "output_type": "stream",
          "text": [
            "name\n",
            "username\n",
            "description\n",
            "location\n",
            "followers\n",
            "numberstatuses\n",
            "time\n",
            "tweets\n"
          ],
          "name": "stdout"
        }
      ]
    },
    {
      "cell_type": "code",
      "metadata": {
        "id": "ZITGOy5srQla"
      },
      "source": [
        "df.drop(['description', 'followers', 'numberstatuses', 'time', 'location'], axis=1, inplace=True)"
      ],
      "execution_count": 32,
      "outputs": []
    },
    {
      "cell_type": "code",
      "metadata": {
        "colab": {
          "base_uri": "https://localhost:8080/"
        },
        "id": "Te7CtuPsB_Eq",
        "outputId": "18761289-f8a0-4fd9-8e0c-49f4aed5b184"
      },
      "source": [
        "len(df.username.unique())"
      ],
      "execution_count": 33,
      "outputs": [
        {
          "output_type": "execute_result",
          "data": {
            "text/plain": [
              "112"
            ]
          },
          "metadata": {
            "tags": []
          },
          "execution_count": 33
        }
      ]
    },
    {
      "cell_type": "code",
      "metadata": {
        "colab": {
          "base_uri": "https://localhost:8080/"
        },
        "id": "4TogNHSNr-RW",
        "outputId": "da4b4a7a-7894-4e42-c0e8-4a816703c284"
      },
      "source": [
        "len(df.tweets.unique())"
      ],
      "execution_count": 34,
      "outputs": [
        {
          "output_type": "execute_result",
          "data": {
            "text/plain": [
              "17410"
            ]
          },
          "metadata": {
            "tags": []
          },
          "execution_count": 34
        }
      ]
    },
    {
      "cell_type": "code",
      "metadata": {
        "colab": {
          "base_uri": "https://localhost:8080/",
          "height": 450
        },
        "id": "ONExw0ngsmCE",
        "outputId": "af9fa789-9794-4325-bb4f-4b86af55a63a"
      },
      "source": [
        "df"
      ],
      "execution_count": 40,
      "outputs": [
        {
          "output_type": "execute_result",
          "data": {
            "text/html": [
              "<div>\n",
              "<style scoped>\n",
              "    .dataframe tbody tr th:only-of-type {\n",
              "        vertical-align: middle;\n",
              "    }\n",
              "\n",
              "    .dataframe tbody tr th {\n",
              "        vertical-align: top;\n",
              "    }\n",
              "\n",
              "    .dataframe thead th {\n",
              "        text-align: right;\n",
              "    }\n",
              "</style>\n",
              "<table border=\"1\" class=\"dataframe\">\n",
              "  <thead>\n",
              "    <tr style=\"text-align: right;\">\n",
              "      <th></th>\n",
              "      <th>name</th>\n",
              "      <th>username</th>\n",
              "      <th>tweets</th>\n",
              "      <th>hashtags</th>\n",
              "      <th>link</th>\n",
              "    </tr>\n",
              "  </thead>\n",
              "  <tbody>\n",
              "    <tr>\n",
              "      <th>0</th>\n",
              "      <td>GunsandCoffee</td>\n",
              "      <td>GunsandCoffee70</td>\n",
              "      <td>ENGLISH TRANSLATION: 'A MESSAGE TO THE TRUTHFU...</td>\n",
              "      <td>[]</td>\n",
              "      <td>[]</td>\n",
              "    </tr>\n",
              "    <tr>\n",
              "      <th>1</th>\n",
              "      <td>GunsandCoffee</td>\n",
              "      <td>GunsandCoffee70</td>\n",
              "      <td>ENGLISH TRANSLATION: SHEIKH FATIH AL JAWLANI '...</td>\n",
              "      <td>[]</td>\n",
              "      <td>[]</td>\n",
              "    </tr>\n",
              "    <tr>\n",
              "      <th>2</th>\n",
              "      <td>GunsandCoffee</td>\n",
              "      <td>GunsandCoffee70</td>\n",
              "      <td>ENGLISH TRANSLATION: FIRST AUDIO MEETING WITH ...</td>\n",
              "      <td>[]</td>\n",
              "      <td>[]</td>\n",
              "    </tr>\n",
              "    <tr>\n",
              "      <th>3</th>\n",
              "      <td>GunsandCoffee</td>\n",
              "      <td>GunsandCoffee70</td>\n",
              "      <td>ENGLISH TRANSLATION: SHEIKH NASIR AL WUHAYSHI ...</td>\n",
              "      <td>[]</td>\n",
              "      <td>[]</td>\n",
              "    </tr>\n",
              "    <tr>\n",
              "      <th>4</th>\n",
              "      <td>GunsandCoffee</td>\n",
              "      <td>GunsandCoffee70</td>\n",
              "      <td>ENGLISH TRANSLATION: AQAP: 'RESPONSE TO SHEIKH...</td>\n",
              "      <td>[]</td>\n",
              "      <td>[]</td>\n",
              "    </tr>\n",
              "    <tr>\n",
              "      <th>...</th>\n",
              "      <td>...</td>\n",
              "      <td>...</td>\n",
              "      <td>...</td>\n",
              "      <td>...</td>\n",
              "      <td>...</td>\n",
              "    </tr>\n",
              "    <tr>\n",
              "      <th>17405</th>\n",
              "      <td>Anaksabil97</td>\n",
              "      <td>nvor85j</td>\n",
              "      <td>#Breaking\\n#IslamicState \\n#AmaqAgency \\n\\n#Fr...</td>\n",
              "      <td>[#Breaking, #IslamicState, #AmaqAgency, #Frida...</td>\n",
              "      <td>[]</td>\n",
              "    </tr>\n",
              "    <tr>\n",
              "      <th>17406</th>\n",
              "      <td>Anaksabil97</td>\n",
              "      <td>nvor85j</td>\n",
              "      <td>#Breaking\\n\\n Iraqi forces bulldozer destroyed...</td>\n",
              "      <td>[#Breaking, #Haditha, #DubNation, #MUFC]</td>\n",
              "      <td>[]</td>\n",
              "    </tr>\n",
              "    <tr>\n",
              "      <th>17407</th>\n",
              "      <td>Anaksabil97</td>\n",
              "      <td>nvor85j</td>\n",
              "      <td>#Breaking \\n#AmaqAgency \\n#IslamicState \\n\\n#E...</td>\n",
              "      <td>[#Breaking, #AmaqAgency, #IslamicState, #Easto...</td>\n",
              "      <td>[]</td>\n",
              "    </tr>\n",
              "    <tr>\n",
              "      <th>17408</th>\n",
              "      <td>Anaksabil97</td>\n",
              "      <td>nvor85j</td>\n",
              "      <td>#PhotoReport \\n#WilayatDimasiqh \\n\\n📷The Condu...</td>\n",
              "      <td>[#PhotoReport, #WilayatDimasiqh, #Damascus]</td>\n",
              "      <td>[]</td>\n",
              "    </tr>\n",
              "    <tr>\n",
              "      <th>17409</th>\n",
              "      <td>one who believes</td>\n",
              "      <td>ro34th</td>\n",
              "      <td>#AmaqAgency Destroyed and burning Iraqi Forces...</td>\n",
              "      <td>[#AmaqAgency, #Ramadi]</td>\n",
              "      <td>[]</td>\n",
              "    </tr>\n",
              "  </tbody>\n",
              "</table>\n",
              "<p>17410 rows × 5 columns</p>\n",
              "</div>"
            ],
            "text/plain": [
              "                   name  ... link\n",
              "0         GunsandCoffee  ...   []\n",
              "1         GunsandCoffee  ...   []\n",
              "2         GunsandCoffee  ...   []\n",
              "3         GunsandCoffee  ...   []\n",
              "4         GunsandCoffee  ...   []\n",
              "...                 ...  ...  ...\n",
              "17405       Anaksabil97  ...   []\n",
              "17406       Anaksabil97  ...   []\n",
              "17407       Anaksabil97  ...   []\n",
              "17408       Anaksabil97  ...   []\n",
              "17409  one who believes  ...   []\n",
              "\n",
              "[17410 rows x 5 columns]"
            ]
          },
          "metadata": {
            "tags": []
          },
          "execution_count": 40
        }
      ]
    },
    {
      "cell_type": "code",
      "metadata": {
        "id": "fUdztOxZt8K0"
      },
      "source": [
        "def find_retweeted(tweet):\n",
        "    '''This function will extract the twitter handles of retweed people'''\n",
        "    return re.findall('(?<=RT\\s)(@[A-Za-z]+[A-Za-z0-9-_]+)', tweet)\n",
        "\n",
        "def find_mentioned(tweet):\n",
        "    '''This function will extract the twitter handles of people mentioned in the tweet'''\n",
        "    return re.findall('(?<!RT\\s)(@[A-Za-z]+[A-Za-z0-9-_]+)', tweet)  \n",
        "\n",
        "def find_hashtags(tweet):\n",
        "    '''This function will extract hashtags'''\n",
        "    return re.findall('(#[A-Za-z]+[A-Za-z0-9-_]+)', tweet) \n",
        "\n",
        "def find_links(tweet):\n",
        "    return re.findall('(?:(?:https?|ftp|file):\\/\\/|www\\.|ftp\\.)(?:\\([-A-Z0-9+&@#\\/%=~_|$?!:,.]*\\)|[-A-Z0-9+&@#\\/%=~_|$?!:,.])*(?:\\([-A-Z0-9+&@#\\/%=~_|$?!:,.]*\\)|[A-Z0-9+&@#\\/%=~_|$])', tweet) \n"
      ],
      "execution_count": 36,
      "outputs": []
    },
    {
      "cell_type": "code",
      "metadata": {
        "id": "8wBvaoKowWe_"
      },
      "source": [
        "# make new columns for retweeted usernames, mentioned usernames and hashtags\n",
        "#df['retweeted'] = df.tweets.apply(find_retweeted)\n",
        "#df['mentioned'] = df.tweets.apply(find_mentioned)\n",
        "df['hashtags'] = df.tweets.apply(find_hashtags)\n",
        "df['link'] = df.tweets.apply(find_links)"
      ],
      "execution_count": 37,
      "outputs": []
    },
    {
      "cell_type": "markdown",
      "metadata": {
        "id": "BKOcMJ0wDZHc"
      },
      "source": [
        "\n",
        "\n",
        "---\n",
        "\n"
      ]
    },
    {
      "cell_type": "markdown",
      "metadata": {
        "id": "n5EJEov-DTBd"
      },
      "source": [
        "Findingthe Most Popular Hashtags in Our Dataset"
      ]
    },
    {
      "cell_type": "code",
      "metadata": {
        "id": "VCuKvPlv0P9d"
      },
      "source": [
        "# take the rows from the hashtag columns where there are actually hashtags\n",
        "hashtags_list_df = df.loc[\n",
        "                       df.hashtags.apply(\n",
        "                           lambda hashtags_list: hashtags_list !=[]\n",
        "                       ),['hashtags']]"
      ],
      "execution_count": 41,
      "outputs": []
    },
    {
      "cell_type": "code",
      "metadata": {
        "colab": {
          "base_uri": "https://localhost:8080/",
          "height": 415
        },
        "id": "h0MuPr2GAjp4",
        "outputId": "985e9686-008d-4db2-c13d-254a691dc79f"
      },
      "source": [
        "hashtags_list_df"
      ],
      "execution_count": 42,
      "outputs": [
        {
          "output_type": "execute_result",
          "data": {
            "text/html": [
              "<div>\n",
              "<style scoped>\n",
              "    .dataframe tbody tr th:only-of-type {\n",
              "        vertical-align: middle;\n",
              "    }\n",
              "\n",
              "    .dataframe tbody tr th {\n",
              "        vertical-align: top;\n",
              "    }\n",
              "\n",
              "    .dataframe thead th {\n",
              "        text-align: right;\n",
              "    }\n",
              "</style>\n",
              "<table border=\"1\" class=\"dataframe\">\n",
              "  <thead>\n",
              "    <tr style=\"text-align: right;\">\n",
              "      <th></th>\n",
              "      <th>hashtags</th>\n",
              "    </tr>\n",
              "  </thead>\n",
              "  <tbody>\n",
              "    <tr>\n",
              "      <th>21</th>\n",
              "      <td>[#JN]</td>\n",
              "    </tr>\n",
              "    <tr>\n",
              "      <th>22</th>\n",
              "      <td>[#JN]</td>\n",
              "    </tr>\n",
              "    <tr>\n",
              "      <th>24</th>\n",
              "      <td>[#JN, #IS]</td>\n",
              "    </tr>\n",
              "    <tr>\n",
              "      <th>30</th>\n",
              "      <td>[#BREAKING, #CONFIRMED]</td>\n",
              "    </tr>\n",
              "    <tr>\n",
              "      <th>33</th>\n",
              "      <td>[#IS, #Dawlah, #cubs]</td>\n",
              "    </tr>\n",
              "    <tr>\n",
              "      <th>...</th>\n",
              "      <td>...</td>\n",
              "    </tr>\n",
              "    <tr>\n",
              "      <th>17405</th>\n",
              "      <td>[#Breaking, #IslamicState, #AmaqAgency, #Frida...</td>\n",
              "    </tr>\n",
              "    <tr>\n",
              "      <th>17406</th>\n",
              "      <td>[#Breaking, #Haditha, #DubNation, #MUFC]</td>\n",
              "    </tr>\n",
              "    <tr>\n",
              "      <th>17407</th>\n",
              "      <td>[#Breaking, #AmaqAgency, #IslamicState, #Easto...</td>\n",
              "    </tr>\n",
              "    <tr>\n",
              "      <th>17408</th>\n",
              "      <td>[#PhotoReport, #WilayatDimasiqh, #Damascus]</td>\n",
              "    </tr>\n",
              "    <tr>\n",
              "      <th>17409</th>\n",
              "      <td>[#AmaqAgency, #Ramadi]</td>\n",
              "    </tr>\n",
              "  </tbody>\n",
              "</table>\n",
              "<p>6865 rows × 1 columns</p>\n",
              "</div>"
            ],
            "text/plain": [
              "                                                hashtags\n",
              "21                                                 [#JN]\n",
              "22                                                 [#JN]\n",
              "24                                            [#JN, #IS]\n",
              "30                               [#BREAKING, #CONFIRMED]\n",
              "33                                 [#IS, #Dawlah, #cubs]\n",
              "...                                                  ...\n",
              "17405  [#Breaking, #IslamicState, #AmaqAgency, #Frida...\n",
              "17406           [#Breaking, #Haditha, #DubNation, #MUFC]\n",
              "17407  [#Breaking, #AmaqAgency, #IslamicState, #Easto...\n",
              "17408        [#PhotoReport, #WilayatDimasiqh, #Damascus]\n",
              "17409                             [#AmaqAgency, #Ramadi]\n",
              "\n",
              "[6865 rows x 1 columns]"
            ]
          },
          "metadata": {
            "tags": []
          },
          "execution_count": 42
        }
      ]
    },
    {
      "cell_type": "code",
      "metadata": {
        "id": "G-ohR32vA1bw"
      },
      "source": [
        "# create dataframe where each use of hashtag gets its own row\n",
        "flattened_hashtags_df = pd.DataFrame(\n",
        "    [hashtag for hashtags_list in hashtags_list_df.hashtags\n",
        "    for hashtag in hashtags_list],\n",
        "    columns=['hashtag'])"
      ],
      "execution_count": 43,
      "outputs": []
    },
    {
      "cell_type": "code",
      "metadata": {
        "colab": {
          "base_uri": "https://localhost:8080/",
          "height": 415
        },
        "id": "VZyGKXtbA9V5",
        "outputId": "9e50b6f5-1025-4730-8089-9165fb5ba0df"
      },
      "source": [
        "flattened_hashtags_df"
      ],
      "execution_count": 44,
      "outputs": [
        {
          "output_type": "execute_result",
          "data": {
            "text/html": [
              "<div>\n",
              "<style scoped>\n",
              "    .dataframe tbody tr th:only-of-type {\n",
              "        vertical-align: middle;\n",
              "    }\n",
              "\n",
              "    .dataframe tbody tr th {\n",
              "        vertical-align: top;\n",
              "    }\n",
              "\n",
              "    .dataframe thead th {\n",
              "        text-align: right;\n",
              "    }\n",
              "</style>\n",
              "<table border=\"1\" class=\"dataframe\">\n",
              "  <thead>\n",
              "    <tr style=\"text-align: right;\">\n",
              "      <th></th>\n",
              "      <th>hashtag</th>\n",
              "    </tr>\n",
              "  </thead>\n",
              "  <tbody>\n",
              "    <tr>\n",
              "      <th>0</th>\n",
              "      <td>#JN</td>\n",
              "    </tr>\n",
              "    <tr>\n",
              "      <th>1</th>\n",
              "      <td>#JN</td>\n",
              "    </tr>\n",
              "    <tr>\n",
              "      <th>2</th>\n",
              "      <td>#JN</td>\n",
              "    </tr>\n",
              "    <tr>\n",
              "      <th>3</th>\n",
              "      <td>#IS</td>\n",
              "    </tr>\n",
              "    <tr>\n",
              "      <th>4</th>\n",
              "      <td>#BREAKING</td>\n",
              "    </tr>\n",
              "    <tr>\n",
              "      <th>...</th>\n",
              "      <td>...</td>\n",
              "    </tr>\n",
              "    <tr>\n",
              "      <th>16677</th>\n",
              "      <td>#PhotoReport</td>\n",
              "    </tr>\n",
              "    <tr>\n",
              "      <th>16678</th>\n",
              "      <td>#WilayatDimasiqh</td>\n",
              "    </tr>\n",
              "    <tr>\n",
              "      <th>16679</th>\n",
              "      <td>#Damascus</td>\n",
              "    </tr>\n",
              "    <tr>\n",
              "      <th>16680</th>\n",
              "      <td>#AmaqAgency</td>\n",
              "    </tr>\n",
              "    <tr>\n",
              "      <th>16681</th>\n",
              "      <td>#Ramadi</td>\n",
              "    </tr>\n",
              "  </tbody>\n",
              "</table>\n",
              "<p>16682 rows × 1 columns</p>\n",
              "</div>"
            ],
            "text/plain": [
              "                hashtag\n",
              "0                   #JN\n",
              "1                   #JN\n",
              "2                   #JN\n",
              "3                   #IS\n",
              "4             #BREAKING\n",
              "...                 ...\n",
              "16677      #PhotoReport\n",
              "16678  #WilayatDimasiqh\n",
              "16679         #Damascus\n",
              "16680       #AmaqAgency\n",
              "16681           #Ramadi\n",
              "\n",
              "[16682 rows x 1 columns]"
            ]
          },
          "metadata": {
            "tags": []
          },
          "execution_count": 44
        }
      ]
    },
    {
      "cell_type": "code",
      "metadata": {
        "colab": {
          "base_uri": "https://localhost:8080/"
        },
        "id": "t3KIijxLBEAI",
        "outputId": "0920adf7-59d1-43aa-bf1a-4857ab95ea6f"
      },
      "source": [
        "len(flattened_hashtags_df.hashtag.unique())"
      ],
      "execution_count": 45,
      "outputs": [
        {
          "output_type": "execute_result",
          "data": {
            "text/plain": [
              "2309"
            ]
          },
          "metadata": {
            "tags": []
          },
          "execution_count": 45
        }
      ]
    },
    {
      "cell_type": "code",
      "metadata": {
        "id": "b_MnE7J6BTiT"
      },
      "source": [
        "# count of appearances of each hashtag\n",
        "popular_hashtags = flattened_hashtags_df.groupby('hashtag').size()\\\n",
        "                                        .reset_index(name='counts')\\\n",
        "                                        .sort_values('counts', ascending=False)\\\n",
        "                                        .reset_index(drop=True)"
      ],
      "execution_count": 46,
      "outputs": []
    },
    {
      "cell_type": "code",
      "metadata": {
        "colab": {
          "base_uri": "https://localhost:8080/",
          "height": 415
        },
        "id": "_rrKDuF3BamP",
        "outputId": "09e5f4cc-c11f-4e98-c7d9-43a7c3028876"
      },
      "source": [
        "popular_hashtags"
      ],
      "execution_count": 47,
      "outputs": [
        {
          "output_type": "execute_result",
          "data": {
            "text/html": [
              "<div>\n",
              "<style scoped>\n",
              "    .dataframe tbody tr th:only-of-type {\n",
              "        vertical-align: middle;\n",
              "    }\n",
              "\n",
              "    .dataframe tbody tr th {\n",
              "        vertical-align: top;\n",
              "    }\n",
              "\n",
              "    .dataframe thead th {\n",
              "        text-align: right;\n",
              "    }\n",
              "</style>\n",
              "<table border=\"1\" class=\"dataframe\">\n",
              "  <thead>\n",
              "    <tr style=\"text-align: right;\">\n",
              "      <th></th>\n",
              "      <th>hashtag</th>\n",
              "      <th>counts</th>\n",
              "    </tr>\n",
              "  </thead>\n",
              "  <tbody>\n",
              "    <tr>\n",
              "      <th>0</th>\n",
              "      <td>#ISIS</td>\n",
              "      <td>1567</td>\n",
              "    </tr>\n",
              "    <tr>\n",
              "      <th>1</th>\n",
              "      <td>#Syria</td>\n",
              "      <td>1351</td>\n",
              "    </tr>\n",
              "    <tr>\n",
              "      <th>2</th>\n",
              "      <td>#IS</td>\n",
              "      <td>674</td>\n",
              "    </tr>\n",
              "    <tr>\n",
              "      <th>3</th>\n",
              "      <td>#Iraq</td>\n",
              "      <td>604</td>\n",
              "    </tr>\n",
              "    <tr>\n",
              "      <th>4</th>\n",
              "      <td>#IslamicState</td>\n",
              "      <td>440</td>\n",
              "    </tr>\n",
              "    <tr>\n",
              "      <th>...</th>\n",
              "      <td>...</td>\n",
              "      <td>...</td>\n",
              "    </tr>\n",
              "    <tr>\n",
              "      <th>2304</th>\n",
              "      <td>#Kaljibrin</td>\n",
              "      <td>1</td>\n",
              "    </tr>\n",
              "    <tr>\n",
              "      <th>2305</th>\n",
              "      <td>#Kahanaser</td>\n",
              "      <td>1</td>\n",
              "    </tr>\n",
              "    <tr>\n",
              "      <th>2306</th>\n",
              "      <td>#Kafranbel</td>\n",
              "      <td>1</td>\n",
              "    </tr>\n",
              "    <tr>\n",
              "      <th>2307</th>\n",
              "      <td>#KafrGhan</td>\n",
              "      <td>1</td>\n",
              "    </tr>\n",
              "    <tr>\n",
              "      <th>2308</th>\n",
              "      <td>#Munich</td>\n",
              "      <td>1</td>\n",
              "    </tr>\n",
              "  </tbody>\n",
              "</table>\n",
              "<p>2309 rows × 2 columns</p>\n",
              "</div>"
            ],
            "text/plain": [
              "            hashtag  counts\n",
              "0             #ISIS    1567\n",
              "1            #Syria    1351\n",
              "2               #IS     674\n",
              "3             #Iraq     604\n",
              "4     #IslamicState     440\n",
              "...             ...     ...\n",
              "2304     #Kaljibrin       1\n",
              "2305     #Kahanaser       1\n",
              "2306     #Kafranbel       1\n",
              "2307      #KafrGhan       1\n",
              "2308        #Munich       1\n",
              "\n",
              "[2309 rows x 2 columns]"
            ]
          },
          "metadata": {
            "tags": []
          },
          "execution_count": 47
        }
      ]
    },
    {
      "cell_type": "code",
      "metadata": {
        "colab": {
          "base_uri": "https://localhost:8080/",
          "height": 279
        },
        "id": "l0eb418NDIbd",
        "outputId": "f0687f15-338f-4368-b1e5-281024d80ed5"
      },
      "source": [
        "# number of times each hashtag appears\n",
        "counts = flattened_hashtags_df.groupby(['hashtag']).size()\\\n",
        "                              .reset_index(name='counts')\\\n",
        "                              .counts\n",
        "\n",
        "# define bins for histogram                              \n",
        "my_bins = np.arange(0,counts.max()+2, 5)-0.5\n",
        "\n",
        "# plot histogram of tweet counts\n",
        "plt.figure()\n",
        "plt.hist(counts, bins = my_bins)\n",
        "plt.xlabels = np.arange(1,counts.max()+1, 1)\n",
        "plt.xlabel('hashtag number of appearances')\n",
        "plt.ylabel('frequency')\n",
        "plt.yscale('log', nonposy='clip')\n",
        "plt.show()"
      ],
      "execution_count": 50,
      "outputs": [
        {
          "output_type": "display_data",
          "data": {
            "image/png": "[encoded data removed]",
            "text/plain": [
              "<Figure size 432x288 with 1 Axes>"
            ]
          },
          "metadata": {
            "tags": [],
            "needs_background": "light"
          }
        }
      ]
    },
    {
      "cell_type": "markdown",
      "metadata": {
        "id": "AuHpqvgvD-uO"
      },
      "source": [
        "Finding the most common user"
      ]
    },
    {
      "cell_type": "code",
      "metadata": {
        "id": "YsHRBAlND-Xs"
      },
      "source": [
        "user_list_df = df.loc[\n",
        "                       df.username.apply(\n",
        "                           lambda username_list: username_list !=[]\n",
        "                       ),['username']]"
      ],
      "execution_count": 51,
      "outputs": []
    },
    {
      "cell_type": "code",
      "metadata": {
        "id": "gVCN_tlKEmjc"
      },
      "source": [
        "popular_users = user_list_df.groupby('username').size()\\\n",
        "                                        .reset_index(name='counts')\\\n",
        "                                        .sort_values('counts', ascending=False)\\\n",
        "                                        .reset_index(drop=True)"
      ],
      "execution_count": 52,
      "outputs": []
    },
    {
      "cell_type": "code",
      "metadata": {
        "colab": {
          "base_uri": "https://localhost:8080/",
          "height": 415
        },
        "id": "n4C44OwaE3Oh",
        "outputId": "c663b84e-e955-4a72-9551-a28c324cdf9f"
      },
      "source": [
        "popular_users"
      ],
      "execution_count": 53,
      "outputs": [
        {
          "output_type": "execute_result",
          "data": {
            "text/html": [
              "<div>\n",
              "<style scoped>\n",
              "    .dataframe tbody tr th:only-of-type {\n",
              "        vertical-align: middle;\n",
              "    }\n",
              "\n",
              "    .dataframe tbody tr th {\n",
              "        vertical-align: top;\n",
              "    }\n",
              "\n",
              "    .dataframe thead th {\n",
              "        text-align: right;\n",
              "    }\n",
              "</style>\n",
              "<table border=\"1\" class=\"dataframe\">\n",
              "  <thead>\n",
              "    <tr style=\"text-align: right;\">\n",
              "      <th></th>\n",
              "      <th>username</th>\n",
              "      <th>counts</th>\n",
              "    </tr>\n",
              "  </thead>\n",
              "  <tbody>\n",
              "    <tr>\n",
              "      <th>0</th>\n",
              "      <td>Uncle_SamCoco</td>\n",
              "      <td>1580</td>\n",
              "    </tr>\n",
              "    <tr>\n",
              "      <th>1</th>\n",
              "      <td>RamiAlLolah</td>\n",
              "      <td>1475</td>\n",
              "    </tr>\n",
              "    <tr>\n",
              "      <th>2</th>\n",
              "      <td>warrnews</td>\n",
              "      <td>1191</td>\n",
              "    </tr>\n",
              "    <tr>\n",
              "      <th>3</th>\n",
              "      <td>WarReporter1</td>\n",
              "      <td>1095</td>\n",
              "    </tr>\n",
              "    <tr>\n",
              "      <th>4</th>\n",
              "      <td>mobi_ayubi</td>\n",
              "      <td>1056</td>\n",
              "    </tr>\n",
              "    <tr>\n",
              "      <th>...</th>\n",
              "      <td>...</td>\n",
              "      <td>...</td>\n",
              "    </tr>\n",
              "    <tr>\n",
              "      <th>107</th>\n",
              "      <td>Abdul__05</td>\n",
              "      <td>5</td>\n",
              "    </tr>\n",
              "    <tr>\n",
              "      <th>108</th>\n",
              "      <td>abuayisha102</td>\n",
              "      <td>5</td>\n",
              "    </tr>\n",
              "    <tr>\n",
              "      <th>109</th>\n",
              "      <td>newerajihadi61</td>\n",
              "      <td>4</td>\n",
              "    </tr>\n",
              "    <tr>\n",
              "      <th>110</th>\n",
              "      <td>fahadslay614</td>\n",
              "      <td>4</td>\n",
              "    </tr>\n",
              "    <tr>\n",
              "      <th>111</th>\n",
              "      <td>``````````````````````````````````````````````...</td>\n",
              "      <td>1</td>\n",
              "    </tr>\n",
              "  </tbody>\n",
              "</table>\n",
              "<p>112 rows × 2 columns</p>\n",
              "</div>"
            ],
            "text/plain": [
              "                                              username  counts\n",
              "0                                        Uncle_SamCoco    1580\n",
              "1                                          RamiAlLolah    1475\n",
              "2                                             warrnews    1191\n",
              "3                                         WarReporter1    1095\n",
              "4                                           mobi_ayubi    1056\n",
              "..                                                 ...     ...\n",
              "107                                          Abdul__05       5\n",
              "108                                       abuayisha102       5\n",
              "109                                     newerajihadi61       4\n",
              "110                                       fahadslay614       4\n",
              "111  ``````````````````````````````````````````````...       1\n",
              "\n",
              "[112 rows x 2 columns]"
            ]
          },
          "metadata": {
            "tags": []
          },
          "execution_count": 53
        }
      ]
    },
    {
      "cell_type": "code",
      "metadata": {
        "colab": {
          "base_uri": "https://localhost:8080/",
          "height": 279
        },
        "id": "9H6VzoyYFNPG",
        "outputId": "ac7630cc-f1bd-45df-9761-985789e2b06e"
      },
      "source": [
        "# number of times each user appears\n",
        "counts = user_list_df.groupby(['username']).size()\\\n",
        "                              .reset_index(name='counts')\\\n",
        "                              .counts\n",
        "\n",
        "# define bins for histogram                              \n",
        "my_bins_2 = np.arange(0,counts.max()+2, 5)-0.5\n",
        "\n",
        "# plot histogram of tweet counts\n",
        "plt.figure()\n",
        "plt.hist(counts, bins = my_bins_2)\n",
        "plt.xlabels = np.arange(1,counts.max()+1, 1)\n",
        "plt.xlabel('Username number of appearances')\n",
        "plt.ylabel('frequency')\n",
        "plt.yscale('log', nonposy='clip')\n",
        "plt.show()"
      ],
      "execution_count": 59,
      "outputs": [
        {
          "output_type": "display_data",
          "data": {
            "image/png": "[encoded data removed]",
            "text/plain": [
              "<Figure size 432x288 with 1 Axes>"
            ]
          },
          "metadata": {
            "tags": [],
            "needs_background": "light"
          }
        }
      ]
    },
    {
      "cell_type": "markdown",
      "metadata": {
        "id": "xe8OQsVdHu85"
      },
      "source": [
        "Hashtags to Vectors"
      ]
    },
    {
      "cell_type": "code",
      "metadata": {
        "id": "IVl2ablIHx1D"
      },
      "source": [
        "# take hashtags which appear at least this amount of times\n",
        "min_appearance = 110\n",
        "# find popular hashtags - make into python set for efficiency\n",
        "popular_hashtags_set = set(popular_hashtags[\n",
        "                           popular_hashtags.counts>=min_appearance\n",
        "                           ]['hashtag'])"
      ],
      "execution_count": 81,
      "outputs": []
    },
    {
      "cell_type": "code",
      "metadata": {
        "colab": {
          "base_uri": "https://localhost:8080/"
        },
        "id": "F0PXOAHtIK2b",
        "outputId": "8c6102be-8ffb-4737-d24e-383785a0e553"
      },
      "source": [
        "len(popular_hashtags_set)"
      ],
      "execution_count": 82,
      "outputs": [
        {
          "output_type": "execute_result",
          "data": {
            "text/plain": [
              "25"
            ]
          },
          "metadata": {
            "tags": []
          },
          "execution_count": 82
        }
      ]
    },
    {
      "cell_type": "code",
      "metadata": {
        "id": "44bd6oDlH_jM"
      },
      "source": [
        "# make a new column with only the popular hashtags\n",
        "hashtags_list_df['popular_hashtags'] = hashtags_list_df.hashtags.apply(\n",
        "            lambda hashtag_list: [hashtag for hashtag in hashtag_list\n",
        "                                  if hashtag in popular_hashtags_set])\n",
        "# drop rows without popular hashtag\n",
        "popular_hashtags_list_df = hashtags_list_df.loc[\n",
        "            hashtags_list_df.popular_hashtags.apply(lambda hashtag_list: hashtag_list !=[])]\n"
      ],
      "execution_count": 83,
      "outputs": []
    },
    {
      "cell_type": "code",
      "metadata": {
        "id": "8aadwSUhJIl8"
      },
      "source": [
        "# make new dataframe\n",
        "hashtag_vector_df = popular_hashtags_list_df.loc[:, ['popular_hashtags']]\n",
        "\n",
        "for hashtag in popular_hashtags_set:\n",
        "    # make columns to encode presence of hashtags\n",
        "    hashtag_vector_df['{}'.format(hashtag)] = hashtag_vector_df.popular_hashtags.apply(\n",
        "        lambda hashtag_list: int(hashtag in hashtag_list))"
      ],
      "execution_count": 84,
      "outputs": []
    },
    {
      "cell_type": "code",
      "metadata": {
        "colab": {
          "base_uri": "https://localhost:8080/",
          "height": 539
        },
        "id": "2FpfDmGaJNA7",
        "outputId": "a6ad8407-6175-45bf-b38c-13044945c51b"
      },
      "source": [
        " hashtag_vector_df"
      ],
      "execution_count": 85,
      "outputs": [
        {
          "output_type": "execute_result",
          "data": {
            "text/html": [
              "<div>\n",
              "<style scoped>\n",
              "    .dataframe tbody tr th:only-of-type {\n",
              "        vertical-align: middle;\n",
              "    }\n",
              "\n",
              "    .dataframe tbody tr th {\n",
              "        vertical-align: top;\n",
              "    }\n",
              "\n",
              "    .dataframe thead th {\n",
              "        text-align: right;\n",
              "    }\n",
              "</style>\n",
              "<table border=\"1\" class=\"dataframe\">\n",
              "  <thead>\n",
              "    <tr style=\"text-align: right;\">\n",
              "      <th></th>\n",
              "      <th>popular_hashtags</th>\n",
              "      <th>#US</th>\n",
              "      <th>#Sinai</th>\n",
              "      <th>#Turkey</th>\n",
              "      <th>#Breaking</th>\n",
              "      <th>#Ramadi</th>\n",
              "      <th>#BreakingNews</th>\n",
              "      <th>#Assad</th>\n",
              "      <th>#IslamicState</th>\n",
              "      <th>#BREAKING</th>\n",
              "      <th>#IS</th>\n",
              "      <th>#Libya</th>\n",
              "      <th>#ISIS</th>\n",
              "      <th>#Russia</th>\n",
              "      <th>#YPG</th>\n",
              "      <th>#Caliphate_News</th>\n",
              "      <th>#Syria</th>\n",
              "      <th>#Iraq</th>\n",
              "      <th>#AmaqAgency</th>\n",
              "      <th>#USA</th>\n",
              "      <th>#Homs</th>\n",
              "      <th>#SAA</th>\n",
              "      <th>#Mosul</th>\n",
              "      <th>#Aleppo</th>\n",
              "      <th>#Palmyra</th>\n",
              "      <th>#Fallujah</th>\n",
              "    </tr>\n",
              "  </thead>\n",
              "  <tbody>\n",
              "    <tr>\n",
              "      <th>24</th>\n",
              "      <td>[#IS]</td>\n",
              "      <td>0</td>\n",
              "      <td>0</td>\n",
              "      <td>0</td>\n",
              "      <td>0</td>\n",
              "      <td>0</td>\n",
              "      <td>0</td>\n",
              "      <td>0</td>\n",
              "      <td>0</td>\n",
              "      <td>0</td>\n",
              "      <td>1</td>\n",
              "      <td>0</td>\n",
              "      <td>0</td>\n",
              "      <td>0</td>\n",
              "      <td>0</td>\n",
              "      <td>0</td>\n",
              "      <td>0</td>\n",
              "      <td>0</td>\n",
              "      <td>0</td>\n",
              "      <td>0</td>\n",
              "      <td>0</td>\n",
              "      <td>0</td>\n",
              "      <td>0</td>\n",
              "      <td>0</td>\n",
              "      <td>0</td>\n",
              "      <td>0</td>\n",
              "    </tr>\n",
              "    <tr>\n",
              "      <th>30</th>\n",
              "      <td>[#BREAKING]</td>\n",
              "      <td>0</td>\n",
              "      <td>0</td>\n",
              "      <td>0</td>\n",
              "      <td>0</td>\n",
              "      <td>0</td>\n",
              "      <td>0</td>\n",
              "      <td>0</td>\n",
              "      <td>0</td>\n",
              "      <td>1</td>\n",
              "      <td>0</td>\n",
              "      <td>0</td>\n",
              "      <td>0</td>\n",
              "      <td>0</td>\n",
              "      <td>0</td>\n",
              "      <td>0</td>\n",
              "      <td>0</td>\n",
              "      <td>0</td>\n",
              "      <td>0</td>\n",
              "      <td>0</td>\n",
              "      <td>0</td>\n",
              "      <td>0</td>\n",
              "      <td>0</td>\n",
              "      <td>0</td>\n",
              "      <td>0</td>\n",
              "      <td>0</td>\n",
              "    </tr>\n",
              "    <tr>\n",
              "      <th>33</th>\n",
              "      <td>[#IS]</td>\n",
              "      <td>0</td>\n",
              "      <td>0</td>\n",
              "      <td>0</td>\n",
              "      <td>0</td>\n",
              "      <td>0</td>\n",
              "      <td>0</td>\n",
              "      <td>0</td>\n",
              "      <td>0</td>\n",
              "      <td>0</td>\n",
              "      <td>1</td>\n",
              "      <td>0</td>\n",
              "      <td>0</td>\n",
              "      <td>0</td>\n",
              "      <td>0</td>\n",
              "      <td>0</td>\n",
              "      <td>0</td>\n",
              "      <td>0</td>\n",
              "      <td>0</td>\n",
              "      <td>0</td>\n",
              "      <td>0</td>\n",
              "      <td>0</td>\n",
              "      <td>0</td>\n",
              "      <td>0</td>\n",
              "      <td>0</td>\n",
              "      <td>0</td>\n",
              "    </tr>\n",
              "    <tr>\n",
              "      <th>44</th>\n",
              "      <td>[#IS, #Syria, #Aleppo]</td>\n",
              "      <td>0</td>\n",
              "      <td>0</td>\n",
              "      <td>0</td>\n",
              "      <td>0</td>\n",
              "      <td>0</td>\n",
              "      <td>0</td>\n",
              "      <td>0</td>\n",
              "      <td>0</td>\n",
              "      <td>0</td>\n",
              "      <td>1</td>\n",
              "      <td>0</td>\n",
              "      <td>0</td>\n",
              "      <td>0</td>\n",
              "      <td>0</td>\n",
              "      <td>0</td>\n",
              "      <td>1</td>\n",
              "      <td>0</td>\n",
              "      <td>0</td>\n",
              "      <td>0</td>\n",
              "      <td>0</td>\n",
              "      <td>0</td>\n",
              "      <td>0</td>\n",
              "      <td>1</td>\n",
              "      <td>0</td>\n",
              "      <td>0</td>\n",
              "    </tr>\n",
              "    <tr>\n",
              "      <th>65</th>\n",
              "      <td>[#IS]</td>\n",
              "      <td>0</td>\n",
              "      <td>0</td>\n",
              "      <td>0</td>\n",
              "      <td>0</td>\n",
              "      <td>0</td>\n",
              "      <td>0</td>\n",
              "      <td>0</td>\n",
              "      <td>0</td>\n",
              "      <td>0</td>\n",
              "      <td>1</td>\n",
              "      <td>0</td>\n",
              "      <td>0</td>\n",
              "      <td>0</td>\n",
              "      <td>0</td>\n",
              "      <td>0</td>\n",
              "      <td>0</td>\n",
              "      <td>0</td>\n",
              "      <td>0</td>\n",
              "      <td>0</td>\n",
              "      <td>0</td>\n",
              "      <td>0</td>\n",
              "      <td>0</td>\n",
              "      <td>0</td>\n",
              "      <td>0</td>\n",
              "      <td>0</td>\n",
              "    </tr>\n",
              "    <tr>\n",
              "      <th>...</th>\n",
              "      <td>...</td>\n",
              "      <td>...</td>\n",
              "      <td>...</td>\n",
              "      <td>...</td>\n",
              "      <td>...</td>\n",
              "      <td>...</td>\n",
              "      <td>...</td>\n",
              "      <td>...</td>\n",
              "      <td>...</td>\n",
              "      <td>...</td>\n",
              "      <td>...</td>\n",
              "      <td>...</td>\n",
              "      <td>...</td>\n",
              "      <td>...</td>\n",
              "      <td>...</td>\n",
              "      <td>...</td>\n",
              "      <td>...</td>\n",
              "      <td>...</td>\n",
              "      <td>...</td>\n",
              "      <td>...</td>\n",
              "      <td>...</td>\n",
              "      <td>...</td>\n",
              "      <td>...</td>\n",
              "      <td>...</td>\n",
              "      <td>...</td>\n",
              "      <td>...</td>\n",
              "    </tr>\n",
              "    <tr>\n",
              "      <th>17400</th>\n",
              "      <td>[#Ramadi, #ISIS]</td>\n",
              "      <td>0</td>\n",
              "      <td>0</td>\n",
              "      <td>0</td>\n",
              "      <td>0</td>\n",
              "      <td>1</td>\n",
              "      <td>0</td>\n",
              "      <td>0</td>\n",
              "      <td>0</td>\n",
              "      <td>0</td>\n",
              "      <td>0</td>\n",
              "      <td>0</td>\n",
              "      <td>1</td>\n",
              "      <td>0</td>\n",
              "      <td>0</td>\n",
              "      <td>0</td>\n",
              "      <td>0</td>\n",
              "      <td>0</td>\n",
              "      <td>0</td>\n",
              "      <td>0</td>\n",
              "      <td>0</td>\n",
              "      <td>0</td>\n",
              "      <td>0</td>\n",
              "      <td>0</td>\n",
              "      <td>0</td>\n",
              "      <td>0</td>\n",
              "    </tr>\n",
              "    <tr>\n",
              "      <th>17405</th>\n",
              "      <td>[#Breaking, #IslamicState, #AmaqAgency]</td>\n",
              "      <td>0</td>\n",
              "      <td>0</td>\n",
              "      <td>0</td>\n",
              "      <td>1</td>\n",
              "      <td>0</td>\n",
              "      <td>0</td>\n",
              "      <td>0</td>\n",
              "      <td>1</td>\n",
              "      <td>0</td>\n",
              "      <td>0</td>\n",
              "      <td>0</td>\n",
              "      <td>0</td>\n",
              "      <td>0</td>\n",
              "      <td>0</td>\n",
              "      <td>0</td>\n",
              "      <td>0</td>\n",
              "      <td>0</td>\n",
              "      <td>1</td>\n",
              "      <td>0</td>\n",
              "      <td>0</td>\n",
              "      <td>0</td>\n",
              "      <td>0</td>\n",
              "      <td>0</td>\n",
              "      <td>0</td>\n",
              "      <td>0</td>\n",
              "    </tr>\n",
              "    <tr>\n",
              "      <th>17406</th>\n",
              "      <td>[#Breaking]</td>\n",
              "      <td>0</td>\n",
              "      <td>0</td>\n",
              "      <td>0</td>\n",
              "      <td>1</td>\n",
              "      <td>0</td>\n",
              "      <td>0</td>\n",
              "      <td>0</td>\n",
              "      <td>0</td>\n",
              "      <td>0</td>\n",
              "      <td>0</td>\n",
              "      <td>0</td>\n",
              "      <td>0</td>\n",
              "      <td>0</td>\n",
              "      <td>0</td>\n",
              "      <td>0</td>\n",
              "      <td>0</td>\n",
              "      <td>0</td>\n",
              "      <td>0</td>\n",
              "      <td>0</td>\n",
              "      <td>0</td>\n",
              "      <td>0</td>\n",
              "      <td>0</td>\n",
              "      <td>0</td>\n",
              "      <td>0</td>\n",
              "      <td>0</td>\n",
              "    </tr>\n",
              "    <tr>\n",
              "      <th>17407</th>\n",
              "      <td>[#Breaking, #AmaqAgency, #IslamicState]</td>\n",
              "      <td>0</td>\n",
              "      <td>0</td>\n",
              "      <td>0</td>\n",
              "      <td>1</td>\n",
              "      <td>0</td>\n",
              "      <td>0</td>\n",
              "      <td>0</td>\n",
              "      <td>1</td>\n",
              "      <td>0</td>\n",
              "      <td>0</td>\n",
              "      <td>0</td>\n",
              "      <td>0</td>\n",
              "      <td>0</td>\n",
              "      <td>0</td>\n",
              "      <td>0</td>\n",
              "      <td>0</td>\n",
              "      <td>0</td>\n",
              "      <td>1</td>\n",
              "      <td>0</td>\n",
              "      <td>0</td>\n",
              "      <td>0</td>\n",
              "      <td>0</td>\n",
              "      <td>0</td>\n",
              "      <td>0</td>\n",
              "      <td>0</td>\n",
              "    </tr>\n",
              "    <tr>\n",
              "      <th>17409</th>\n",
              "      <td>[#AmaqAgency, #Ramadi]</td>\n",
              "      <td>0</td>\n",
              "      <td>0</td>\n",
              "      <td>0</td>\n",
              "      <td>0</td>\n",
              "      <td>1</td>\n",
              "      <td>0</td>\n",
              "      <td>0</td>\n",
              "      <td>0</td>\n",
              "      <td>0</td>\n",
              "      <td>0</td>\n",
              "      <td>0</td>\n",
              "      <td>0</td>\n",
              "      <td>0</td>\n",
              "      <td>0</td>\n",
              "      <td>0</td>\n",
              "      <td>0</td>\n",
              "      <td>0</td>\n",
              "      <td>1</td>\n",
              "      <td>0</td>\n",
              "      <td>0</td>\n",
              "      <td>0</td>\n",
              "      <td>0</td>\n",
              "      <td>0</td>\n",
              "      <td>0</td>\n",
              "      <td>0</td>\n",
              "    </tr>\n",
              "  </tbody>\n",
              "</table>\n",
              "<p>4941 rows × 26 columns</p>\n",
              "</div>"
            ],
            "text/plain": [
              "                              popular_hashtags  #US  ...  #Palmyra  #Fallujah\n",
              "24                                       [#IS]    0  ...         0          0\n",
              "30                                 [#BREAKING]    0  ...         0          0\n",
              "33                                       [#IS]    0  ...         0          0\n",
              "44                      [#IS, #Syria, #Aleppo]    0  ...         0          0\n",
              "65                                       [#IS]    0  ...         0          0\n",
              "...                                        ...  ...  ...       ...        ...\n",
              "17400                         [#Ramadi, #ISIS]    0  ...         0          0\n",
              "17405  [#Breaking, #IslamicState, #AmaqAgency]    0  ...         0          0\n",
              "17406                              [#Breaking]    0  ...         0          0\n",
              "17407  [#Breaking, #AmaqAgency, #IslamicState]    0  ...         0          0\n",
              "17409                   [#AmaqAgency, #Ramadi]    0  ...         0          0\n",
              "\n",
              "[4941 rows x 26 columns]"
            ]
          },
          "metadata": {
            "tags": []
          },
          "execution_count": 85
        }
      ]
    },
    {
      "cell_type": "code",
      "metadata": {
        "id": "f1vT78WSJYzp"
      },
      "source": [
        "hashtag_matrix = hashtag_vector_df.drop('popular_hashtags', axis=1)"
      ],
      "execution_count": 86,
      "outputs": []
    },
    {
      "cell_type": "code",
      "metadata": {
        "id": "6SdjrQ0qJm2Q"
      },
      "source": [
        "# calculate the correlation matrix\n",
        "correlations = hashtag_matrix.corr()"
      ],
      "execution_count": 87,
      "outputs": []
    },
    {
      "cell_type": "code",
      "metadata": {
        "colab": {
          "base_uri": "https://localhost:8080/",
          "height": 625
        },
        "id": "f7J9DBm8JvOv",
        "outputId": "0f0889a4-1ffc-4e4a-8f8d-f9fb5af59d35"
      },
      "source": [
        "# plot the correlation matrix\n",
        "plt.figure(figsize=(10,10))\n",
        "sns.heatmap(correlations,\n",
        "    cmap='RdBu',\n",
        "    vmin=-1,\n",
        "    vmax=1,\n",
        "    square = True,\n",
        "    cbar_kws={'label':'correlation'})\n",
        "plt.show()"
      ],
      "execution_count": 88,
      "outputs": [
        {
          "output_type": "display_data",
          "data": {
            "image/png": "[encoded data removed]",
            "text/plain": [
              "<Figure size 720x720 with 2 Axes>"
            ]
          },
          "metadata": {
            "tags": [],
            "needs_background": "light"
          }
        }
      ]
    }
  ]
}