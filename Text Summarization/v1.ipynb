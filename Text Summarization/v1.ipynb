{
  "nbformat": 4,
  "nbformat_minor": 0,
  "metadata": {
    "language_info": {
      "codemirror_mode": {
        "name": "ipython",
        "version": 3
      },
      "file_extension": ".py",
      "mimetype": "text/x-python",
      "name": "python",
      "nbconvert_exporter": "python",
      "pygments_lexer": "ipython3",
      "version": "3.9.4"
    },
    "orig_nbformat": 2,
    "kernelspec": {
      "name": "python394jvsc74a57bd02647ea34e536f865ab67ff9ddee7fd78773d956cec0cab53c79b32cd10da5d83",
      "display_name": "Python 3.9.4 64-bit"
    },
    "metadata": {
      "interpreter": {
        "hash": "2647ea34e536f865ab67ff9ddee7fd78773d956cec0cab53c79b32cd10da5d83"
      }
    },
    "colab": {
      "name": "v1.ipynb",
      "provenance": []
    }
  },
  "cells": [
    {
      "cell_type": "code",
      "metadata": {
        "id": "KQl4tO0Uh5VE"
      },
      "source": [
        "text = \"\"\"\n",
        "There are broadly two types of extractive summarization tasks depending on what the summarization program focuses on. The first is generic summarization, which focuses on obtaining a generic summary or abstract of the collection (whether documents, or sets of images, or videos, news stories etc.). The second is query relevant summarization, sometimes called query-based summarization, which summarizes objects specific to a query. Summarization systems are able to create both query relevant text summaries and generic machine-generated summaries depending on what the user needs.\n",
        "An example of a summarization problem is document summarization, which attempts to automatically produce an abstract from a given document. Sometimes one might be interested in generating a summary from a single source document, while others can use multiple source documents (for example, a cluster of articles on the same topic). This problem is called multi-document summarization. A related application is summarizing news articles. Imagine a system, which automatically pulls together news articles on a given topic (from the web), and concisely represents the latest news as a summary.\n",
        "Image collection summarization is another application example of automatic summarization. It consists in selecting a representative set of images from a larger set of images.[3] A summary in this context is useful to show the most representative images of results in an image collection exploration system. Video summarization is a related domain, where the system automatically creates a trailer of a long video. This also has applications in consumer or personal videos, where one might want to skip the boring or repetitive actions. Similarly, in surveillance videos, one would want to extract important and suspicious activity, while ignoring all the boring and redundant frames captured.\n",
        "\"\"\""
      ],
      "execution_count": 1,
      "outputs": []
    },
    {
      "cell_type": "code",
      "metadata": {
        "id": "ix8zBEdOh5VO"
      },
      "source": [
        "import spacy\n",
        "from spacy.lang.en.stop_words import STOP_WORDS\n",
        "from string import punctuation"
      ],
      "execution_count": 2,
      "outputs": []
    },
    {
      "cell_type": "code",
      "metadata": {
        "id": "7KmI1IVoiQeB"
      },
      "source": [
        "stopwords = list(STOP_WORDS)"
      ],
      "execution_count": 3,
      "outputs": []
    },
    {
      "cell_type": "code",
      "metadata": {
        "id": "fdTNUMg7iUgd"
      },
      "source": [
        "nlp = spacy.load('en_core_web_sm')"
      ],
      "execution_count": 4,
      "outputs": []
    },
    {
      "cell_type": "code",
      "metadata": {
        "id": "p2vr7gXLRO_O"
      },
      "source": [
        "text2 = \"we should be given more materials for learning Get rid of assignments None i wish that we could start over learning it again Have one group assignment replace one lab exercise More time The practical lessons are a bit difficult to follow  That we could be offered more detailed information on the slide notes for revision purposes. It is hard to understand clearly on notes written almost in point form without details to explain the how of an event. more time Everything is good to me 1. I just wanna go back to school. None. Very content It has to many codes for someone to master continue teaching as it is  Regarding makeup cat the lec should consider choosing the highest for those redoing it it should be spaced oy because it is somehow quite difficult Leniency is marking juu enyewe an idea is better than none All seems well at the moment Extension of submission times for assignments everything about the subject is cool Extension of submission times for assignments I wish the concepts taught would not be too complicated Better explanation of codes when doing a demo more examples I wish it would be taught physically More group assignments. Individual feedback. null 1.To learn practically. I wish to gain greatly. the lec should move a bit slower  I have none So far so good. No wishes. To pass To pass  To pass in it none None More examples for illustration Real life projects that we can apply it  1.More engagement time. more code examples  Clearer questions to understand it boost the participation  to pass it None at the moment No wish cause everything is okay nothing much T b more texts  more code examples  its hard Stop using our free time  more explanation on practicals 1. MORE EXAMPLES More clear examples to be used. it is just fine that I could understand whatever is being tought, that subject is quite hard and complicated for the normal mind to understand. To have more time on practicals more practical examples  I have none. No comment.  None at the moment it never ends My wish is , if it possible for the unit to be added more hours for better understanding of the unit. None whatsoever None whatsoever It is all good  More practical examples some people have no idea what this unit really entails More contact time. That it would be a little easier I wish for more real life examples to enhance understanding More assignments,and appropriate feedback for each student. lesson is too long dont go too fast i dont know how to code im a slow learner\""
      ],
      "execution_count": 21,
      "outputs": []
    },
    {
      "cell_type": "code",
      "metadata": {
        "id": "1vjd8owaipuW"
      },
      "source": [
        "doc = nlp(text)\n",
        "doc2 = nlp(text2)"
      ],
      "execution_count": 22,
      "outputs": []
    },
    {
      "cell_type": "code",
      "metadata": {
        "colab": {
          "base_uri": "https://localhost:8080/"
        },
        "id": "XIHVVOziikX-",
        "outputId": "5ae7d921-1a14-4bd5-de26-0f9fa93c940e"
      },
      "source": [
        "tokens = [token.text for token in doc]\n",
        "print(tokens)\n",
        "\n",
        "tokens2 = [token.text for token in doc2]"
      ],
      "execution_count": 23,
      "outputs": [
        {
          "output_type": "stream",
          "text": [
            "['\\n', 'There', 'are', 'broadly', 'two', 'types', 'of', 'extractive', 'summarization', 'tasks', 'depending', 'on', 'what', 'the', 'summarization', 'program', 'focuses', 'on', '.', 'The', 'first', 'is', 'generic', 'summarization', ',', 'which', 'focuses', 'on', 'obtaining', 'a', 'generic', 'summary', 'or', 'abstract', 'of', 'the', 'collection', '(', 'whether', 'documents', ',', 'or', 'sets', 'of', 'images', ',', 'or', 'videos', ',', 'news', 'stories', 'etc', '.', ')', '.', 'The', 'second', 'is', 'query', 'relevant', 'summarization', ',', 'sometimes', 'called', 'query', '-', 'based', 'summarization', ',', 'which', 'summarizes', 'objects', 'specific', 'to', 'a', 'query', '.', 'Summarization', 'systems', 'are', 'able', 'to', 'create', 'both', 'query', 'relevant', 'text', 'summaries', 'and', 'generic', 'machine', '-', 'generated', 'summaries', 'depending', 'on', 'what', 'the', 'user', 'needs', '.', '\\n', 'An', 'example', 'of', 'a', 'summarization', 'problem', 'is', 'document', 'summarization', ',', 'which', 'attempts', 'to', 'automatically', 'produce', 'an', 'abstract', 'from', 'a', 'given', 'document', '.', 'Sometimes', 'one', 'might', 'be', 'interested', 'in', 'generating', 'a', 'summary', 'from', 'a', 'single', 'source', 'document', ',', 'while', 'others', 'can', 'use', 'multiple', 'source', 'documents', '(', 'for', 'example', ',', 'a', 'cluster', 'of', 'articles', 'on', 'the', 'same', 'topic', ')', '.', 'This', 'problem', 'is', 'called', 'multi', '-', 'document', 'summarization', '.', 'A', 'related', 'application', 'is', 'summarizing', 'news', 'articles', '.', 'Imagine', 'a', 'system', ',', 'which', 'automatically', 'pulls', 'together', 'news', 'articles', 'on', 'a', 'given', 'topic', '(', 'from', 'the', 'web', ')', ',', 'and', 'concisely', 'represents', 'the', 'latest', 'news', 'as', 'a', 'summary', '.', '\\n', 'Image', 'collection', 'summarization', 'is', 'another', 'application', 'example', 'of', 'automatic', 'summarization', '.', 'It', 'consists', 'in', 'selecting', 'a', 'representative', 'set', 'of', 'images', 'from', 'a', 'larger', 'set', 'of', 'images.[3', ']', 'A', 'summary', 'in', 'this', 'context', 'is', 'useful', 'to', 'show', 'the', 'most', 'representative', 'images', 'of', 'results', 'in', 'an', 'image', 'collection', 'exploration', 'system', '.', 'Video', 'summarization', 'is', 'a', 'related', 'domain', ',', 'where', 'the', 'system', 'automatically', 'creates', 'a', 'trailer', 'of', 'a', 'long', 'video', '.', 'This', 'also', 'has', 'applications', 'in', 'consumer', 'or', 'personal', 'videos', ',', 'where', 'one', 'might', 'want', 'to', 'skip', 'the', 'boring', 'or', 'repetitive', 'actions', '.', 'Similarly', ',', 'in', 'surveillance', 'videos', ',', 'one', 'would', 'want', 'to', 'extract', 'important', 'and', 'suspicious', 'activity', ',', 'while', 'ignoring', 'all', 'the', 'boring', 'and', 'redundant', 'frames', 'captured', '.', '\\n']\n"
          ],
          "name": "stdout"
        }
      ]
    },
    {
      "cell_type": "code",
      "metadata": {
        "colab": {
          "base_uri": "https://localhost:8080/",
          "height": 35
        },
        "id": "cOgW0C8Zirvd",
        "outputId": "d1d6500c-50ca-439b-d42e-86d736d8c103"
      },
      "source": [
        "punctuation = punctuation + '\\n'\n",
        "punctuation"
      ],
      "execution_count": 7,
      "outputs": [
        {
          "output_type": "execute_result",
          "data": {
            "application/vnd.google.colaboratory.intrinsic+json": {
              "type": "string"
            },
            "text/plain": [
              "'!\"#$%&\\'()*+,-./:;<=>?@[\\\\]^_`{|}~\\n'"
            ]
          },
          "metadata": {
            "tags": []
          },
          "execution_count": 7
        }
      ]
    },
    {
      "cell_type": "code",
      "metadata": {
        "colab": {
          "base_uri": "https://localhost:8080/"
        },
        "id": "sm_QZnkgixQp",
        "outputId": "eee8a8c2-4c50-41d7-af08-9788520a3a10"
      },
      "source": [
        "word_frequencies = {}\n",
        "for word in doc:\n",
        "    if word.text.lower() not in stopwords:\n",
        "        if word.text.lower() not in punctuation:\n",
        "            if word.text not in word_frequencies.keys():\n",
        "                word_frequencies[word.text] = 1\n",
        "            else:\n",
        "                word_frequencies[word.text] += 1\n",
        "                \n",
        "print(word_frequencies)"
      ],
      "execution_count": 8,
      "outputs": [
        {
          "output_type": "stream",
          "text": [
            "{'broadly': 1, 'types': 1, 'extractive': 1, 'summarization': 11, 'tasks': 1, 'depending': 2, 'program': 1, 'focuses': 2, 'generic': 3, 'obtaining': 1, 'summary': 4, 'abstract': 2, 'collection': 3, 'documents': 2, 'sets': 1, 'images': 3, 'videos': 3, 'news': 4, 'stories': 1, 'etc': 1, 'second': 1, 'query': 4, 'relevant': 2, 'called': 2, 'based': 1, 'summarizes': 1, 'objects': 1, 'specific': 1, 'Summarization': 1, 'systems': 1, 'able': 1, 'create': 1, 'text': 1, 'summaries': 2, 'machine': 1, 'generated': 1, 'user': 1, 'needs': 1, 'example': 3, 'problem': 2, 'document': 4, 'attempts': 1, 'automatically': 3, 'produce': 1, 'given': 2, 'interested': 1, 'generating': 1, 'single': 1, 'source': 2, 'use': 1, 'multiple': 1, 'cluster': 1, 'articles': 3, 'topic': 2, 'multi': 1, 'related': 2, 'application': 2, 'summarizing': 1, 'Imagine': 1, 'system': 3, 'pulls': 1, 'web': 1, 'concisely': 1, 'represents': 1, 'latest': 1, 'Image': 1, 'automatic': 1, 'consists': 1, 'selecting': 1, 'representative': 2, 'set': 2, 'larger': 1, 'images.[3': 1, 'context': 1, 'useful': 1, 'results': 1, 'image': 1, 'exploration': 1, 'Video': 1, 'domain': 1, 'creates': 1, 'trailer': 1, 'long': 1, 'video': 1, 'applications': 1, 'consumer': 1, 'personal': 1, 'want': 2, 'skip': 1, 'boring': 2, 'repetitive': 1, 'actions': 1, 'Similarly': 1, 'surveillance': 1, 'extract': 1, 'important': 1, 'suspicious': 1, 'activity': 1, 'ignoring': 1, 'redundant': 1, 'frames': 1, 'captured': 1}\n"
          ],
          "name": "stdout"
        }
      ]
    },
    {
      "cell_type": "code",
      "metadata": {
        "id": "YM4oAa-7Rq2u"
      },
      "source": [
        "word_frequencies2 = {}\n",
        "for word in doc2:\n",
        "    if word.text.lower() not in stopwords:\n",
        "        if word.text.lower() not in punctuation:\n",
        "            if word.text not in word_frequencies2.keys():\n",
        "                word_frequencies2[word.text] = 1\n",
        "            else:\n",
        "                word_frequencies2[word.text] += 1"
      ],
      "execution_count": 24,
      "outputs": []
    },
    {
      "cell_type": "code",
      "metadata": {
        "colab": {
          "base_uri": "https://localhost:8080/"
        },
        "id": "FMrf4FB6i9Mo",
        "outputId": "e16f0908-4abc-4892-c76d-078d28d3d3e2"
      },
      "source": [
        "max_frequency2 = max(word_frequencies2.values())\n",
        "max_frequency2"
      ],
      "execution_count": 25,
      "outputs": [
        {
          "output_type": "execute_result",
          "data": {
            "text/plain": [
              "13"
            ]
          },
          "metadata": {
            "tags": []
          },
          "execution_count": 25
        }
      ]
    },
    {
      "cell_type": "code",
      "metadata": {
        "colab": {
          "base_uri": "https://localhost:8080/"
        },
        "id": "ivz-QkOfjCBy",
        "outputId": "6d7581e5-30a4-452c-9c93-8c3decbcffd8"
      },
      "source": [
        "for word in word_frequencies2.keys():\n",
        "    word_frequencies2[word] = word_frequencies2[word]/max_frequency2\n",
        "\n",
        "print(word_frequencies)"
      ],
      "execution_count": 26,
      "outputs": [
        {
          "output_type": "stream",
          "text": [
            "{'broadly': 0.09090909090909091, 'types': 0.09090909090909091, 'extractive': 0.09090909090909091, 'summarization': 1.0, 'tasks': 0.09090909090909091, 'depending': 0.18181818181818182, 'program': 0.09090909090909091, 'focuses': 0.18181818181818182, 'generic': 0.2727272727272727, 'obtaining': 0.09090909090909091, 'summary': 0.36363636363636365, 'abstract': 0.18181818181818182, 'collection': 0.2727272727272727, 'documents': 0.18181818181818182, 'sets': 0.09090909090909091, 'images': 0.2727272727272727, 'videos': 0.2727272727272727, 'news': 0.36363636363636365, 'stories': 0.09090909090909091, 'etc': 0.09090909090909091, 'second': 0.09090909090909091, 'query': 0.36363636363636365, 'relevant': 0.18181818181818182, 'called': 0.18181818181818182, 'based': 0.09090909090909091, 'summarizes': 0.09090909090909091, 'objects': 0.09090909090909091, 'specific': 0.09090909090909091, 'Summarization': 0.09090909090909091, 'systems': 0.09090909090909091, 'able': 0.09090909090909091, 'create': 0.09090909090909091, 'text': 0.09090909090909091, 'summaries': 0.18181818181818182, 'machine': 0.09090909090909091, 'generated': 0.09090909090909091, 'user': 0.09090909090909091, 'needs': 0.09090909090909091, 'example': 0.2727272727272727, 'problem': 0.18181818181818182, 'document': 0.36363636363636365, 'attempts': 0.09090909090909091, 'automatically': 0.2727272727272727, 'produce': 0.09090909090909091, 'given': 0.18181818181818182, 'interested': 0.09090909090909091, 'generating': 0.09090909090909091, 'single': 0.09090909090909091, 'source': 0.18181818181818182, 'use': 0.09090909090909091, 'multiple': 0.09090909090909091, 'cluster': 0.09090909090909091, 'articles': 0.2727272727272727, 'topic': 0.18181818181818182, 'multi': 0.09090909090909091, 'related': 0.18181818181818182, 'application': 0.18181818181818182, 'summarizing': 0.09090909090909091, 'Imagine': 0.09090909090909091, 'system': 0.2727272727272727, 'pulls': 0.09090909090909091, 'web': 0.09090909090909091, 'concisely': 0.09090909090909091, 'represents': 0.09090909090909091, 'latest': 0.09090909090909091, 'Image': 0.09090909090909091, 'automatic': 0.09090909090909091, 'consists': 0.09090909090909091, 'selecting': 0.09090909090909091, 'representative': 0.18181818181818182, 'set': 0.18181818181818182, 'larger': 0.09090909090909091, 'images.[3': 0.09090909090909091, 'context': 0.09090909090909091, 'useful': 0.09090909090909091, 'results': 0.09090909090909091, 'image': 0.09090909090909091, 'exploration': 0.09090909090909091, 'Video': 0.09090909090909091, 'domain': 0.09090909090909091, 'creates': 0.09090909090909091, 'trailer': 0.09090909090909091, 'long': 0.09090909090909091, 'video': 0.09090909090909091, 'applications': 0.09090909090909091, 'consumer': 0.09090909090909091, 'personal': 0.09090909090909091, 'want': 0.18181818181818182, 'skip': 0.09090909090909091, 'boring': 0.18181818181818182, 'repetitive': 0.09090909090909091, 'actions': 0.09090909090909091, 'Similarly': 0.09090909090909091, 'surveillance': 0.09090909090909091, 'extract': 0.09090909090909091, 'important': 0.09090909090909091, 'suspicious': 0.09090909090909091, 'activity': 0.09090909090909091, 'ignoring': 0.09090909090909091, 'redundant': 0.09090909090909091, 'frames': 0.09090909090909091, 'captured': 0.09090909090909091}\n"
          ],
          "name": "stdout"
        }
      ]
    },
    {
      "cell_type": "code",
      "metadata": {
        "colab": {
          "base_uri": "https://localhost:8080/"
        },
        "id": "BE0gnWUFjGgc",
        "outputId": "0465efb6-0618-45a5-8063-cc53a0d05409"
      },
      "source": [
        "sentence_tokens2 = [sent for sent in doc2.sents]\n",
        "print(sentence_tokens2)"
      ],
      "execution_count": 27,
      "outputs": [
        {
          "output_type": "stream",
          "text": [
            "[we should be given more materials for learning, Get rid of assignments, None i wish that we could start over learning it again, Have one group assignment replace one lab exercise More time The practical lessons are a bit difficult to follow  That we could be offered more detailed information on the slide notes for revision purposes., It is hard to understand clearly on notes written almost in point form without details to explain the how of an event., more time Everything is good to me 1., I just wanna go back to school., None., Very content, It has to many codes for someone to master continue teaching as it is  , Regarding makeup cat the lec should consider choosing the highest for those redoing it it should be spaced oy because it is somehow quite difficult, Leniency is marking juu enyewe, an idea is better than none All seems well at the moment Extension of submission times for assignments, everything about the subject is cool Extension of submission times for assignments I wish the concepts taught would not be too complicated Better explanation of codes when doing a demo more examples I wish it would be taught physically More group assignments., Individual feedback., null 1.To learn practically., I wish to gain greatly., the lec should move a bit slower  , I have none So far so good., No wishes., To pass To pass  To pass in it none None More examples for illustration Real life projects that we can apply it  1.More engagement time., more code examples  , Clearer questions to understand it boost the participation  to pass it, None at the moment, No wish cause everything is okay nothing much T b more texts  more code examples  its hard Stop using our free time  more explanation on practicals 1., MORE EXAMPLES More clear examples to be used., it is just fine that I could understand whatever is being tought, that subject is quite hard and complicated for the normal mind to understand., To have more time on practicals, more practical examples  , I have none., No comment.  , None at the moment it never ends My wish is , if it possible for the unit to be added more hours for better understanding of the unit., None whatsoever None whatsoever, It is all good  More practical examples some people have no idea what this unit really entails More contact time., That it would be a little easier I wish for more real life examples to enhance understanding More assignments,and appropriate feedback for each student., lesson is too long dont go too fast, i dont know how to code im, a slow learner]\n"
          ],
          "name": "stdout"
        }
      ]
    },
    {
      "cell_type": "code",
      "metadata": {
        "colab": {
          "base_uri": "https://localhost:8080/"
        },
        "id": "CQ9jJ4DNj1tt",
        "outputId": "312cf82a-120c-4d2e-ac18-b35f4c67925c"
      },
      "source": [
        "sentence_scores2 = {}\n",
        "for sent in sentence_tokens2:\n",
        "    for word in sent:\n",
        "        if word.text.lower() in word_frequencies2.keys():\n",
        "            if sent not in sentence_scores2.keys():\n",
        "                sentence_scores2[sent] = word_frequencies2[word.text.lower()]\n",
        "            else:\n",
        "                sentence_scores2[sent] += word_frequencies2[word.text.lower()]\n",
        "                \n",
        "sentence_scores2"
      ],
      "execution_count": 28,
      "outputs": [
        {
          "output_type": "execute_result",
          "data": {
            "text/plain": [
              "{we should be given more materials for learning: 0.3076923076923077,\n",
              " Get rid of assignments: 0.46153846153846156,\n",
              " None i wish that we could start over learning it again: 0.7692307692307693,\n",
              " Have one group assignment replace one lab exercise More time The practical lessons are a bit difficult to follow  That we could be offered more detailed information on the slide notes for revision purposes.: 3.2307692307692313,\n",
              " It is hard to understand clearly on notes written almost in point form without details to explain the how of an event.: 1.2307692307692306,\n",
              " more time Everything is good to me 1.: 0.8461538461538461,\n",
              " I just wanna go back to school.: 0.15384615384615385,\n",
              " Very content: 0.07692307692307693,\n",
              " It has to many codes for someone to master continue teaching as it is  : 1.3846153846153846,\n",
              " Regarding makeup cat the lec should consider choosing the highest for those redoing it it should be spaced oy because it is somehow quite difficult: 0.923076923076923,\n",
              " Leniency is marking juu enyewe: 0.23076923076923078,\n",
              " an idea is better than none All seems well at the moment Extension of submission times for assignments: 1.2307692307692308,\n",
              " everything about the subject is cool Extension of submission times for assignments I wish the concepts taught would not be too complicated Better explanation of codes when doing a demo more examples I wish it would be taught physically More group assignments.: 4.3076923076923075,\n",
              " Individual feedback.: 0.15384615384615385,\n",
              " null 1.To learn practically.: 0.23076923076923078,\n",
              " I wish to gain greatly.: 0.6923076923076923,\n",
              " the lec should move a bit slower  : 1.3846153846153846,\n",
              " I have none So far so good.: 0.3076923076923077,\n",
              " No wishes.: 0.07692307692307693,\n",
              " To pass To pass  To pass in it none None More examples for illustration Real life projects that we can apply it  1.More engagement time.: 4.538461538461538,\n",
              " more code examples  : 1.8461538461538463,\n",
              " Clearer questions to understand it boost the participation  to pass it: 1.8461538461538463,\n",
              " None at the moment: 0.23076923076923078,\n",
              " No wish cause everything is okay nothing much T b more texts  more code examples  its hard Stop using our free time  more explanation on practicals 1.: 5.923076923076924,\n",
              " MORE EXAMPLES More clear examples to be used.: 1.3076923076923077,\n",
              " it is just fine that I could understand whatever is being tought, that subject is quite hard and complicated for the normal mind to understand.: 1.4615384615384615,\n",
              " To have more time on practicals: 0.6153846153846154,\n",
              " more practical examples  : 1.8461538461538463,\n",
              " No comment.  : 1.0769230769230769,\n",
              " None at the moment it never ends My wish is , if it possible for the unit to be added more hours for better understanding of the unit.: 1.8461538461538463,\n",
              " None whatsoever None whatsoever: 0.3076923076923077,\n",
              " It is all good  More practical examples some people have no idea what this unit really entails More contact time.: 3.1538461538461546,\n",
              " That it would be a little easier I wish for more real life examples to enhance understanding More assignments,and appropriate feedback for each student.: 2.4615384615384617,\n",
              " lesson is too long dont go too fast: 0.38461538461538464,\n",
              " i dont know how to code im: 0.5384615384615385,\n",
              " a slow learner: 0.15384615384615385}"
            ]
          },
          "metadata": {
            "tags": []
          },
          "execution_count": 28
        }
      ]
    },
    {
      "cell_type": "code",
      "metadata": {
        "id": "j0BPFbZYk0G_"
      },
      "source": [
        "from heapq import nlargest"
      ],
      "execution_count": 29,
      "outputs": []
    },
    {
      "cell_type": "code",
      "metadata": {
        "colab": {
          "base_uri": "https://localhost:8080/"
        },
        "id": "GgEXrDuYlENF",
        "outputId": "312cbd83-3bc3-4ac4-c90a-c11b7c864516"
      },
      "source": [
        "select_length2 = int(len(sentence_tokens2)*0.3)\n",
        "select_length2"
      ],
      "execution_count": 31,
      "outputs": [
        {
          "output_type": "execute_result",
          "data": {
            "text/plain": [
              "11"
            ]
          },
          "metadata": {
            "tags": []
          },
          "execution_count": 31
        }
      ]
    },
    {
      "cell_type": "code",
      "metadata": {
        "colab": {
          "base_uri": "https://localhost:8080/"
        },
        "id": "FPIXmosblcPq",
        "outputId": "e8ade6a4-7e9b-4b17-be62-3e1457519357"
      },
      "source": [
        "summary2 = nlargest(select_length2, sentence_scores2, key = sentence_scores2.get)\n",
        "summary2"
      ],
      "execution_count": 32,
      "outputs": [
        {
          "output_type": "execute_result",
          "data": {
            "text/plain": [
              "[No wish cause everything is okay nothing much T b more texts  more code examples  its hard Stop using our free time  more explanation on practicals 1.,\n",
              " To pass To pass  To pass in it none None More examples for illustration Real life projects that we can apply it  1.More engagement time.,\n",
              " everything about the subject is cool Extension of submission times for assignments I wish the concepts taught would not be too complicated Better explanation of codes when doing a demo more examples I wish it would be taught physically More group assignments.,\n",
              " Have one group assignment replace one lab exercise More time The practical lessons are a bit difficult to follow  That we could be offered more detailed information on the slide notes for revision purposes.,\n",
              " It is all good  More practical examples some people have no idea what this unit really entails More contact time.,\n",
              " That it would be a little easier I wish for more real life examples to enhance understanding More assignments,and appropriate feedback for each student.,\n",
              " more code examples  ,\n",
              " Clearer questions to understand it boost the participation  to pass it,\n",
              " more practical examples  ,\n",
              " None at the moment it never ends My wish is , if it possible for the unit to be added more hours for better understanding of the unit.,\n",
              " it is just fine that I could understand whatever is being tought, that subject is quite hard and complicated for the normal mind to understand.]"
            ]
          },
          "metadata": {
            "tags": []
          },
          "execution_count": 32
        }
      ]
    },
    {
      "cell_type": "code",
      "metadata": {
        "id": "dNhSuqWqmm9v"
      },
      "source": [
        "final_summary2 = [word.text for word in summary2]\n",
        "summary2 = ' '.join(final_summary2)"
      ],
      "execution_count": 33,
      "outputs": []
    },
    {
      "cell_type": "code",
      "metadata": {
        "colab": {
          "base_uri": "https://localhost:8080/"
        },
        "id": "7QlvwEPamoZs",
        "outputId": "57bd34d8-0f80-4081-e22b-eaeb6e9a5bd4"
      },
      "source": [
        "print(text2)"
      ],
      "execution_count": 34,
      "outputs": [
        {
          "output_type": "stream",
          "text": [
            "we should be given more materials for learning Get rid of assignments None i wish that we could start over learning it again Have one group assignment replace one lab exercise More time The practical lessons are a bit difficult to follow  That we could be offered more detailed information on the slide notes for revision purposes. It is hard to understand clearly on notes written almost in point form without details to explain the how of an event. more time Everything is good to me 1. I just wanna go back to school. None. Very content It has to many codes for someone to master continue teaching as it is  Regarding makeup cat the lec should consider choosing the highest for those redoing it it should be spaced oy because it is somehow quite difficult Leniency is marking juu enyewe an idea is better than none All seems well at the moment Extension of submission times for assignments everything about the subject is cool Extension of submission times for assignments I wish the concepts taught would not be too complicated Better explanation of codes when doing a demo more examples I wish it would be taught physically More group assignments. Individual feedback. null 1.To learn practically. I wish to gain greatly. the lec should move a bit slower  I have none So far so good. No wishes. To pass To pass  To pass in it none None More examples for illustration Real life projects that we can apply it  1.More engagement time. more code examples  Clearer questions to understand it boost the participation  to pass it None at the moment No wish cause everything is okay nothing much T b more texts  more code examples  its hard Stop using our free time  more explanation on practicals 1. MORE EXAMPLES More clear examples to be used. it is just fine that I could understand whatever is being tought, that subject is quite hard and complicated for the normal mind to understand. To have more time on practicals more practical examples  I have none. No comment.  None at the moment it never ends My wish is , if it possible for the unit to be added more hours for better understanding of the unit. None whatsoever None whatsoever It is all good  More practical examples some people have no idea what this unit really entails More contact time. That it would be a little easier I wish for more real life examples to enhance understanding More assignments,and appropriate feedback for each student. lesson is too long dont go too fast i dont know how to code im a slow learner\n"
          ],
          "name": "stdout"
        }
      ]
    },
    {
      "cell_type": "code",
      "metadata": {
        "colab": {
          "base_uri": "https://localhost:8080/"
        },
        "id": "30OzNz5ymt5r",
        "outputId": "6efa1ef4-a4a0-4846-dac2-9074820cbc6e"
      },
      "source": [
        "print(summary2)"
      ],
      "execution_count": 35,
      "outputs": [
        {
          "output_type": "stream",
          "text": [
            "No wish cause everything is okay nothing much T b more texts  more code examples  its hard Stop using our free time  more explanation on practicals 1. To pass To pass  To pass in it none None More examples for illustration Real life projects that we can apply it  1.More engagement time. everything about the subject is cool Extension of submission times for assignments I wish the concepts taught would not be too complicated Better explanation of codes when doing a demo more examples I wish it would be taught physically More group assignments. Have one group assignment replace one lab exercise More time The practical lessons are a bit difficult to follow  That we could be offered more detailed information on the slide notes for revision purposes. It is all good  More practical examples some people have no idea what this unit really entails More contact time. That it would be a little easier I wish for more real life examples to enhance understanding More assignments,and appropriate feedback for each student. more code examples   Clearer questions to understand it boost the participation  to pass it more practical examples   None at the moment it never ends My wish is , if it possible for the unit to be added more hours for better understanding of the unit. it is just fine that I could understand whatever is being tought, that subject is quite hard and complicated for the normal mind to understand.\n"
          ],
          "name": "stdout"
        }
      ]
    },
    {
      "cell_type": "code",
      "metadata": {
        "colab": {
          "base_uri": "https://localhost:8080/"
        },
        "id": "avecvMh1mwpI",
        "outputId": "086020e0-c227-4fe2-9ab2-a251095bedc1"
      },
      "source": [
        "len(text2)"
      ],
      "execution_count": 36,
      "outputs": [
        {
          "output_type": "execute_result",
          "data": {
            "text/plain": [
              "2482"
            ]
          },
          "metadata": {
            "tags": []
          },
          "execution_count": 36
        }
      ]
    },
    {
      "cell_type": "code",
      "metadata": {
        "colab": {
          "base_uri": "https://localhost:8080/"
        },
        "id": "KZL9og0Bmyqg",
        "outputId": "ec7aa30f-34cb-4207-de44-22980ef1404f"
      },
      "source": [
        "len(summary2)"
      ],
      "execution_count": 39,
      "outputs": [
        {
          "output_type": "execute_result",
          "data": {
            "text/plain": [
              "1418"
            ]
          },
          "metadata": {
            "tags": []
          },
          "execution_count": 39
        }
      ]
    },
    {
      "cell_type": "code",
      "metadata": {
        "id": "P3CLw8KhRTiR"
      },
      "source": [
        ""
      ],
      "execution_count": null,
      "outputs": []
    }
  ]
}